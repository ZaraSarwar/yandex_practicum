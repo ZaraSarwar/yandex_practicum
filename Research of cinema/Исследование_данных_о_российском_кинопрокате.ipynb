{
 "cells": [
  {
   "cell_type": "markdown",
   "metadata": {
    "id": "sIfNaMOxgFyK"
   },
   "source": [
    "## Исследование данных о российском кинопрокате\n",
    "\n"
   ]
  },
  {
   "cell_type": "markdown",
   "metadata": {},
   "source": [
    "**Описание данных**  \n",
    "\n",
    "Первая таблица mkrf_movies содержит информацию из реестра прокатных удостоверений. У одного фильма может быть несколько прокатных удостоверений.  \n",
    "  \n",
    "**Содержание столбцов**  \n",
    "\n",
    "_name — название заведения;  \n",
    "_address — адрес заведения;  \n",
    "_category — категория заведения, например «кафе», «пиццерия» или «кофейня»;  \n",
    "_hours — информация о днях и часах работы;  \n",
    "_lat — широта географической точки, в которой находится заведение;  \n",
    "_lng — долгота географической точки, в которой находится заведение;  \n",
    "_rating — рейтинг заведения по оценкам пользователей в Яндекс Картах (высшая оценка — 5.0);  \n",
    "_price — категория цен в заведении, например «средние», «ниже среднего», «выше среднего» и так далее;  \n",
    "_avg_bill — строка, которая хранит среднюю стоимость заказа в виде диапазона:  \n",
    "_middle_avg_bill — число с оценкой среднего чека; \n",
    "_middle_coffee_cup — число с оценкой одной чашки капучино;  \n",
    "_chain — число, выраженное 0 или 1, которое показывает, является ли заведение сетевым;  \n",
    "_district — административный район, в котором находится заведение, например Центральный административный округ;  \n",
    "_seats — количество посадочных мест.  \n",
    "  "
   ]
  },
  {
   "cell_type": "markdown",
   "metadata": {
    "id": "3bSlkCsbgFyL"
   },
   "source": [
    "### Шаг 1. Откройте файлы с данными и объедините их в один датафрейм. \n",
    "\n",
    "Объедините данные таким образом, чтобы все объекты из датасета `mkrf_movies` обязательно вошли в получившийся датафрейм. \n",
    "\n",
    "<div id=\"accordion\">\n",
    "    <div class=\"card\">\n",
    "        <div class=\"card-header\" id=\"headingThree\">\n",
    "            <button class=\"btn btn-link collapsed\" data-toggle=\"collapse\" data-target=\"#collapseHint_0\" aria-expanded=\"false\" aria-controls=\"collapseHint_0\">Подсказка</button>\n",
    "        </div>\n",
    "        <div id=\"collapseHint_0\" class=\"collapse\" aria-labelledby=\"headingThree\" data-parent=\"#accordion\">\n",
    "            <div class=\"card-body\">\n",
    "Обратите внимание на тип данных столбца, по которому будете соединять датафреймы. Тип данных этих столбцов должен быть одинаковым в обоих датафреймах.\n",
    "            </div>\n",
    "        </div>\n",
    "    </div>\n",
    "</div>"
   ]
  },
  {
   "cell_type": "code",
   "execution_count": 1,
   "metadata": {
    "id": "dw87FlzMgFyM"
   },
   "outputs": [],
   "source": [
    "import pandas as pd\n",
    "import seaborn as sns\n",
    "pd.options.display.float_format = '{:,.1f}'.format"
   ]
  },
  {
   "cell_type": "markdown",
   "metadata": {},
   "source": [
    "Импортируем необходимые библиотеки"
   ]
  },
  {
   "cell_type": "code",
   "execution_count": 2,
   "metadata": {},
   "outputs": [
    {
     "data": {
      "text/html": [
       "<div>\n",
       "<style scoped>\n",
       "    .dataframe tbody tr th:only-of-type {\n",
       "        vertical-align: middle;\n",
       "    }\n",
       "\n",
       "    .dataframe tbody tr th {\n",
       "        vertical-align: top;\n",
       "    }\n",
       "\n",
       "    .dataframe thead th {\n",
       "        text-align: right;\n",
       "    }\n",
       "</style>\n",
       "<table border=\"1\" class=\"dataframe\">\n",
       "  <thead>\n",
       "    <tr style=\"text-align: right;\">\n",
       "      <th></th>\n",
       "      <th>title</th>\n",
       "      <th>puNumber</th>\n",
       "      <th>show_start_date</th>\n",
       "      <th>type</th>\n",
       "      <th>film_studio</th>\n",
       "      <th>production_country</th>\n",
       "      <th>director</th>\n",
       "      <th>producer</th>\n",
       "      <th>age_restriction</th>\n",
       "      <th>refundable_support</th>\n",
       "      <th>nonrefundable_support</th>\n",
       "      <th>budget</th>\n",
       "      <th>financing_source</th>\n",
       "      <th>ratings</th>\n",
       "      <th>genres</th>\n",
       "    </tr>\n",
       "  </thead>\n",
       "  <tbody>\n",
       "    <tr>\n",
       "      <th>0</th>\n",
       "      <td>Открытый простор</td>\n",
       "      <td>221048915</td>\n",
       "      <td>2015-11-27T12:00:00.000Z</td>\n",
       "      <td>Художественный</td>\n",
       "      <td>Тачстоун Пикчерз, Кобальт Пикчерз, Бикон Пикче...</td>\n",
       "      <td>США</td>\n",
       "      <td>Кевин Костнер</td>\n",
       "      <td>Дэвид Валдес, Кевин Костнер, Джейк Эбертс</td>\n",
       "      <td>«18+» - запрещено для детей</td>\n",
       "      <td>NaN</td>\n",
       "      <td>NaN</td>\n",
       "      <td>NaN</td>\n",
       "      <td>NaN</td>\n",
       "      <td>7.2</td>\n",
       "      <td>боевик,драма,мелодрама</td>\n",
       "    </tr>\n",
       "    <tr>\n",
       "      <th>1</th>\n",
       "      <td>Особо важное задание</td>\n",
       "      <td>111013716</td>\n",
       "      <td>2016-09-13T12:00:00.000Z</td>\n",
       "      <td>Художественный</td>\n",
       "      <td>Киностудия \"Мосфильм\"</td>\n",
       "      <td>СССР</td>\n",
       "      <td>Е.Матвеев</td>\n",
       "      <td>NaN</td>\n",
       "      <td>«6+» - для детей старше 6 лет</td>\n",
       "      <td>NaN</td>\n",
       "      <td>NaN</td>\n",
       "      <td>NaN</td>\n",
       "      <td>NaN</td>\n",
       "      <td>6.6</td>\n",
       "      <td>драма,военный</td>\n",
       "    </tr>\n",
       "    <tr>\n",
       "      <th>2</th>\n",
       "      <td>Особо опасен</td>\n",
       "      <td>221038416</td>\n",
       "      <td>2016-10-10T12:00:00.000Z</td>\n",
       "      <td>Художественный</td>\n",
       "      <td>Юниверсал Пикчерз, Кикстарт Продакшнз, Марк Пл...</td>\n",
       "      <td>США</td>\n",
       "      <td>Тимур Бекмамбетов</td>\n",
       "      <td>Джим Лемли, Джейсон Нетер, Марк Е.Платт, Яйн Смит</td>\n",
       "      <td>«18+» - запрещено для детей</td>\n",
       "      <td>NaN</td>\n",
       "      <td>NaN</td>\n",
       "      <td>NaN</td>\n",
       "      <td>NaN</td>\n",
       "      <td>6.8</td>\n",
       "      <td>фантастика,боевик,триллер</td>\n",
       "    </tr>\n",
       "    <tr>\n",
       "      <th>3</th>\n",
       "      <td>Особо опасен</td>\n",
       "      <td>221026916</td>\n",
       "      <td>2016-06-10T12:00:00.000Z</td>\n",
       "      <td>Художественный</td>\n",
       "      <td>Юниверсал Пикчерз, Кикстарт Продакшнз, Марк Пл...</td>\n",
       "      <td>США</td>\n",
       "      <td>Тимур Бекмамбетов</td>\n",
       "      <td>Джим Лемли, Джейсон Нетер, Марк Е.Платт, Яйн Смит</td>\n",
       "      <td>«18+» - запрещено для детей</td>\n",
       "      <td>NaN</td>\n",
       "      <td>NaN</td>\n",
       "      <td>NaN</td>\n",
       "      <td>NaN</td>\n",
       "      <td>6.8</td>\n",
       "      <td>фантастика,боевик,триллер</td>\n",
       "    </tr>\n",
       "    <tr>\n",
       "      <th>4</th>\n",
       "      <td>Особо опасен</td>\n",
       "      <td>221030815</td>\n",
       "      <td>2015-07-29T12:00:00.000Z</td>\n",
       "      <td>Художественный</td>\n",
       "      <td>Юниверсал Пикчерз, Кикстарт Продакшнз, Марк Пл...</td>\n",
       "      <td>США</td>\n",
       "      <td>Тимур Бекмамбетов</td>\n",
       "      <td>Джим Лемли, Джейсон Нетер, Марк Е.Платт, Яйн Смит</td>\n",
       "      <td>«18+» - запрещено для детей</td>\n",
       "      <td>NaN</td>\n",
       "      <td>NaN</td>\n",
       "      <td>NaN</td>\n",
       "      <td>NaN</td>\n",
       "      <td>6.8</td>\n",
       "      <td>фантастика,боевик,триллер</td>\n",
       "    </tr>\n",
       "  </tbody>\n",
       "</table>\n",
       "</div>"
      ],
      "text/plain": [
       "                  title   puNumber           show_start_date            type  \\\n",
       "0      Открытый простор  221048915  2015-11-27T12:00:00.000Z  Художественный   \n",
       "1  Особо важное задание  111013716  2016-09-13T12:00:00.000Z  Художественный   \n",
       "2          Особо опасен  221038416  2016-10-10T12:00:00.000Z  Художественный   \n",
       "3          Особо опасен  221026916  2016-06-10T12:00:00.000Z  Художественный   \n",
       "4          Особо опасен  221030815  2015-07-29T12:00:00.000Z  Художественный   \n",
       "\n",
       "                                         film_studio production_country  \\\n",
       "0  Тачстоун Пикчерз, Кобальт Пикчерз, Бикон Пикче...                США   \n",
       "1                              Киностудия \"Мосфильм\"               СССР   \n",
       "2  Юниверсал Пикчерз, Кикстарт Продакшнз, Марк Пл...                США   \n",
       "3  Юниверсал Пикчерз, Кикстарт Продакшнз, Марк Пл...                США   \n",
       "4  Юниверсал Пикчерз, Кикстарт Продакшнз, Марк Пл...                США   \n",
       "\n",
       "            director                                           producer  \\\n",
       "0      Кевин Костнер          Дэвид Валдес, Кевин Костнер, Джейк Эбертс   \n",
       "1          Е.Матвеев                                                NaN   \n",
       "2  Тимур Бекмамбетов  Джим Лемли, Джейсон Нетер, Марк Е.Платт, Яйн Смит   \n",
       "3  Тимур Бекмамбетов  Джим Лемли, Джейсон Нетер, Марк Е.Платт, Яйн Смит   \n",
       "4  Тимур Бекмамбетов  Джим Лемли, Джейсон Нетер, Марк Е.Платт, Яйн Смит   \n",
       "\n",
       "                 age_restriction  refundable_support  nonrefundable_support  \\\n",
       "0    «18+» - запрещено для детей                 NaN                    NaN   \n",
       "1  «6+» - для детей старше 6 лет                 NaN                    NaN   \n",
       "2    «18+» - запрещено для детей                 NaN                    NaN   \n",
       "3    «18+» - запрещено для детей                 NaN                    NaN   \n",
       "4    «18+» - запрещено для детей                 NaN                    NaN   \n",
       "\n",
       "   budget financing_source ratings                     genres  \n",
       "0     NaN              NaN     7.2     боевик,драма,мелодрама  \n",
       "1     NaN              NaN     6.6              драма,военный  \n",
       "2     NaN              NaN     6.8  фантастика,боевик,триллер  \n",
       "3     NaN              NaN     6.8  фантастика,боевик,триллер  \n",
       "4     NaN              NaN     6.8  фантастика,боевик,триллер  "
      ]
     },
     "metadata": {},
     "output_type": "display_data"
    }
   ],
   "source": [
    "movies = pd.read_csv('/datasets/mkrf_movies.csv')\n",
    "display(movies.head())"
   ]
  },
  {
   "cell_type": "markdown",
   "metadata": {},
   "source": [
    "Загрузим файл и посмотрим что в нём содержится "
   ]
  },
  {
   "cell_type": "code",
   "execution_count": 3,
   "metadata": {},
   "outputs": [
    {
     "name": "stdout",
     "output_type": "stream",
     "text": [
      "<class 'pandas.core.frame.DataFrame'>\n",
      "RangeIndex: 7486 entries, 0 to 7485\n",
      "Data columns (total 15 columns):\n",
      " #   Column                 Non-Null Count  Dtype  \n",
      "---  ------                 --------------  -----  \n",
      " 0   title                  7486 non-null   object \n",
      " 1   puNumber               7486 non-null   object \n",
      " 2   show_start_date        7486 non-null   object \n",
      " 3   type                   7486 non-null   object \n",
      " 4   film_studio            7468 non-null   object \n",
      " 5   production_country     7484 non-null   object \n",
      " 6   director               7477 non-null   object \n",
      " 7   producer               6918 non-null   object \n",
      " 8   age_restriction        7486 non-null   object \n",
      " 9   refundable_support     332 non-null    float64\n",
      " 10  nonrefundable_support  332 non-null    float64\n",
      " 11  budget                 332 non-null    float64\n",
      " 12  financing_source       332 non-null    object \n",
      " 13  ratings                6519 non-null   object \n",
      " 14  genres                 6510 non-null   object \n",
      "dtypes: float64(3), object(12)\n",
      "memory usage: 877.4+ KB\n"
     ]
    }
   ],
   "source": [
    "movies.info()"
   ]
  },
  {
   "cell_type": "markdown",
   "metadata": {},
   "source": [
    "Изучим общую информацию о файле"
   ]
  },
  {
   "cell_type": "code",
   "execution_count": 4,
   "metadata": {},
   "outputs": [
    {
     "data": {
      "text/html": [
       "<div>\n",
       "<style scoped>\n",
       "    .dataframe tbody tr th:only-of-type {\n",
       "        vertical-align: middle;\n",
       "    }\n",
       "\n",
       "    .dataframe tbody tr th {\n",
       "        vertical-align: top;\n",
       "    }\n",
       "\n",
       "    .dataframe thead th {\n",
       "        text-align: right;\n",
       "    }\n",
       "</style>\n",
       "<table border=\"1\" class=\"dataframe\">\n",
       "  <thead>\n",
       "    <tr style=\"text-align: right;\">\n",
       "      <th></th>\n",
       "      <th>puNumber</th>\n",
       "      <th>box_office</th>\n",
       "    </tr>\n",
       "  </thead>\n",
       "  <tbody>\n",
       "    <tr>\n",
       "      <th>0</th>\n",
       "      <td>111000113</td>\n",
       "      <td>2,450.0</td>\n",
       "    </tr>\n",
       "    <tr>\n",
       "      <th>1</th>\n",
       "      <td>111000115</td>\n",
       "      <td>61,040.0</td>\n",
       "    </tr>\n",
       "    <tr>\n",
       "      <th>2</th>\n",
       "      <td>111000116</td>\n",
       "      <td>153,030,013.4</td>\n",
       "    </tr>\n",
       "    <tr>\n",
       "      <th>3</th>\n",
       "      <td>111000117</td>\n",
       "      <td>12,260,956.0</td>\n",
       "    </tr>\n",
       "    <tr>\n",
       "      <th>4</th>\n",
       "      <td>111000118</td>\n",
       "      <td>163,684,057.8</td>\n",
       "    </tr>\n",
       "  </tbody>\n",
       "</table>\n",
       "</div>"
      ],
      "text/plain": [
       "    puNumber    box_office\n",
       "0  111000113       2,450.0\n",
       "1  111000115      61,040.0\n",
       "2  111000116 153,030,013.4\n",
       "3  111000117  12,260,956.0\n",
       "4  111000118 163,684,057.8"
      ]
     },
     "metadata": {},
     "output_type": "display_data"
    }
   ],
   "source": [
    "df_box_office = pd.read_csv('/datasets/mkrf_shows.csv')\n",
    "display(df_box_office.head())"
   ]
  },
  {
   "cell_type": "markdown",
   "metadata": {},
   "source": [
    "Загрузим второй файл и посмотрим на данные"
   ]
  },
  {
   "cell_type": "code",
   "execution_count": 5,
   "metadata": {},
   "outputs": [
    {
     "name": "stdout",
     "output_type": "stream",
     "text": [
      "<class 'pandas.core.frame.DataFrame'>\n",
      "RangeIndex: 3158 entries, 0 to 3157\n",
      "Data columns (total 2 columns):\n",
      " #   Column      Non-Null Count  Dtype  \n",
      "---  ------      --------------  -----  \n",
      " 0   puNumber    3158 non-null   int64  \n",
      " 1   box_office  3158 non-null   float64\n",
      "dtypes: float64(1), int64(1)\n",
      "memory usage: 49.5 KB\n"
     ]
    }
   ],
   "source": [
    "df_box_office.info()"
   ]
  },
  {
   "cell_type": "markdown",
   "metadata": {},
   "source": [
    "Изучим общую информацию из второго файла"
   ]
  },
  {
   "cell_type": "code",
   "execution_count": 6,
   "metadata": {},
   "outputs": [],
   "source": [
    "movies['puNumber'] = movies['puNumber'].str.replace('нет', '0').astype('int')"
   ]
  },
  {
   "cell_type": "markdown",
   "metadata": {},
   "source": [
    "Заменим значение \"нет\" на \"0\" и изменим тип данных на числовой"
   ]
  },
  {
   "cell_type": "code",
   "execution_count": 7,
   "metadata": {},
   "outputs": [
    {
     "name": "stdout",
     "output_type": "stream",
     "text": [
      "<class 'pandas.core.frame.DataFrame'>\n",
      "RangeIndex: 7486 entries, 0 to 7485\n",
      "Data columns (total 15 columns):\n",
      " #   Column                 Non-Null Count  Dtype  \n",
      "---  ------                 --------------  -----  \n",
      " 0   title                  7486 non-null   object \n",
      " 1   puNumber               7486 non-null   int64  \n",
      " 2   show_start_date        7486 non-null   object \n",
      " 3   type                   7486 non-null   object \n",
      " 4   film_studio            7468 non-null   object \n",
      " 5   production_country     7484 non-null   object \n",
      " 6   director               7477 non-null   object \n",
      " 7   producer               6918 non-null   object \n",
      " 8   age_restriction        7486 non-null   object \n",
      " 9   refundable_support     332 non-null    float64\n",
      " 10  nonrefundable_support  332 non-null    float64\n",
      " 11  budget                 332 non-null    float64\n",
      " 12  financing_source       332 non-null    object \n",
      " 13  ratings                6519 non-null   object \n",
      " 14  genres                 6510 non-null   object \n",
      "dtypes: float64(3), int64(1), object(11)\n",
      "memory usage: 877.4+ KB\n"
     ]
    }
   ],
   "source": [
    "movies.info()"
   ]
  },
  {
   "cell_type": "markdown",
   "metadata": {},
   "source": [
    "Проверим внесенные изменения"
   ]
  },
  {
   "cell_type": "code",
   "execution_count": 8,
   "metadata": {},
   "outputs": [],
   "source": [
    "data = movies.merge(df_box_office, on='puNumber', how='left')"
   ]
  },
  {
   "cell_type": "markdown",
   "metadata": {},
   "source": [
    "Объединим наши таблицы"
   ]
  },
  {
   "cell_type": "code",
   "execution_count": 9,
   "metadata": {},
   "outputs": [
    {
     "data": {
      "text/html": [
       "<div>\n",
       "<style scoped>\n",
       "    .dataframe tbody tr th:only-of-type {\n",
       "        vertical-align: middle;\n",
       "    }\n",
       "\n",
       "    .dataframe tbody tr th {\n",
       "        vertical-align: top;\n",
       "    }\n",
       "\n",
       "    .dataframe thead th {\n",
       "        text-align: right;\n",
       "    }\n",
       "</style>\n",
       "<table border=\"1\" class=\"dataframe\">\n",
       "  <thead>\n",
       "    <tr style=\"text-align: right;\">\n",
       "      <th></th>\n",
       "      <th>title</th>\n",
       "      <th>puNumber</th>\n",
       "      <th>show_start_date</th>\n",
       "      <th>type</th>\n",
       "      <th>film_studio</th>\n",
       "      <th>production_country</th>\n",
       "      <th>director</th>\n",
       "      <th>producer</th>\n",
       "      <th>age_restriction</th>\n",
       "      <th>refundable_support</th>\n",
       "      <th>nonrefundable_support</th>\n",
       "      <th>budget</th>\n",
       "      <th>financing_source</th>\n",
       "      <th>ratings</th>\n",
       "      <th>genres</th>\n",
       "      <th>box_office</th>\n",
       "    </tr>\n",
       "  </thead>\n",
       "  <tbody>\n",
       "    <tr>\n",
       "      <th>0</th>\n",
       "      <td>Открытый простор</td>\n",
       "      <td>221048915</td>\n",
       "      <td>2015-11-27T12:00:00.000Z</td>\n",
       "      <td>Художественный</td>\n",
       "      <td>Тачстоун Пикчерз, Кобальт Пикчерз, Бикон Пикче...</td>\n",
       "      <td>США</td>\n",
       "      <td>Кевин Костнер</td>\n",
       "      <td>Дэвид Валдес, Кевин Костнер, Джейк Эбертс</td>\n",
       "      <td>«18+» - запрещено для детей</td>\n",
       "      <td>NaN</td>\n",
       "      <td>NaN</td>\n",
       "      <td>NaN</td>\n",
       "      <td>NaN</td>\n",
       "      <td>7.2</td>\n",
       "      <td>боевик,драма,мелодрама</td>\n",
       "      <td>NaN</td>\n",
       "    </tr>\n",
       "    <tr>\n",
       "      <th>1</th>\n",
       "      <td>Особо важное задание</td>\n",
       "      <td>111013716</td>\n",
       "      <td>2016-09-13T12:00:00.000Z</td>\n",
       "      <td>Художественный</td>\n",
       "      <td>Киностудия \"Мосфильм\"</td>\n",
       "      <td>СССР</td>\n",
       "      <td>Е.Матвеев</td>\n",
       "      <td>NaN</td>\n",
       "      <td>«6+» - для детей старше 6 лет</td>\n",
       "      <td>NaN</td>\n",
       "      <td>NaN</td>\n",
       "      <td>NaN</td>\n",
       "      <td>NaN</td>\n",
       "      <td>6.6</td>\n",
       "      <td>драма,военный</td>\n",
       "      <td>NaN</td>\n",
       "    </tr>\n",
       "    <tr>\n",
       "      <th>2</th>\n",
       "      <td>Особо опасен</td>\n",
       "      <td>221038416</td>\n",
       "      <td>2016-10-10T12:00:00.000Z</td>\n",
       "      <td>Художественный</td>\n",
       "      <td>Юниверсал Пикчерз, Кикстарт Продакшнз, Марк Пл...</td>\n",
       "      <td>США</td>\n",
       "      <td>Тимур Бекмамбетов</td>\n",
       "      <td>Джим Лемли, Джейсон Нетер, Марк Е.Платт, Яйн Смит</td>\n",
       "      <td>«18+» - запрещено для детей</td>\n",
       "      <td>NaN</td>\n",
       "      <td>NaN</td>\n",
       "      <td>NaN</td>\n",
       "      <td>NaN</td>\n",
       "      <td>6.8</td>\n",
       "      <td>фантастика,боевик,триллер</td>\n",
       "      <td>NaN</td>\n",
       "    </tr>\n",
       "    <tr>\n",
       "      <th>3</th>\n",
       "      <td>Особо опасен</td>\n",
       "      <td>221026916</td>\n",
       "      <td>2016-06-10T12:00:00.000Z</td>\n",
       "      <td>Художественный</td>\n",
       "      <td>Юниверсал Пикчерз, Кикстарт Продакшнз, Марк Пл...</td>\n",
       "      <td>США</td>\n",
       "      <td>Тимур Бекмамбетов</td>\n",
       "      <td>Джим Лемли, Джейсон Нетер, Марк Е.Платт, Яйн Смит</td>\n",
       "      <td>«18+» - запрещено для детей</td>\n",
       "      <td>NaN</td>\n",
       "      <td>NaN</td>\n",
       "      <td>NaN</td>\n",
       "      <td>NaN</td>\n",
       "      <td>6.8</td>\n",
       "      <td>фантастика,боевик,триллер</td>\n",
       "      <td>NaN</td>\n",
       "    </tr>\n",
       "    <tr>\n",
       "      <th>4</th>\n",
       "      <td>Особо опасен</td>\n",
       "      <td>221030815</td>\n",
       "      <td>2015-07-29T12:00:00.000Z</td>\n",
       "      <td>Художественный</td>\n",
       "      <td>Юниверсал Пикчерз, Кикстарт Продакшнз, Марк Пл...</td>\n",
       "      <td>США</td>\n",
       "      <td>Тимур Бекмамбетов</td>\n",
       "      <td>Джим Лемли, Джейсон Нетер, Марк Е.Платт, Яйн Смит</td>\n",
       "      <td>«18+» - запрещено для детей</td>\n",
       "      <td>NaN</td>\n",
       "      <td>NaN</td>\n",
       "      <td>NaN</td>\n",
       "      <td>NaN</td>\n",
       "      <td>6.8</td>\n",
       "      <td>фантастика,боевик,триллер</td>\n",
       "      <td>NaN</td>\n",
       "    </tr>\n",
       "    <tr>\n",
       "      <th>5</th>\n",
       "      <td>Остановился поезд</td>\n",
       "      <td>111013816</td>\n",
       "      <td>2016-09-13T12:00:00.000Z</td>\n",
       "      <td>Художественный</td>\n",
       "      <td>Киностудия \"Мосфильм\"</td>\n",
       "      <td>СССР</td>\n",
       "      <td>В.Абдрашитов</td>\n",
       "      <td>NaN</td>\n",
       "      <td>«6+» - для детей старше 6 лет</td>\n",
       "      <td>NaN</td>\n",
       "      <td>NaN</td>\n",
       "      <td>NaN</td>\n",
       "      <td>NaN</td>\n",
       "      <td>7.7</td>\n",
       "      <td>драма</td>\n",
       "      <td>NaN</td>\n",
       "    </tr>\n",
       "    <tr>\n",
       "      <th>6</th>\n",
       "      <td>Любовь и голуби</td>\n",
       "      <td>111007013</td>\n",
       "      <td>2013-10-18T12:00:00.000Z</td>\n",
       "      <td>Художественный</td>\n",
       "      <td>Киностудия \"Мосфильм\"</td>\n",
       "      <td>СССР</td>\n",
       "      <td>В.Меньшов</td>\n",
       "      <td>NaN</td>\n",
       "      <td>«12+» - для детей старше 12 лет</td>\n",
       "      <td>NaN</td>\n",
       "      <td>NaN</td>\n",
       "      <td>NaN</td>\n",
       "      <td>NaN</td>\n",
       "      <td>8.3</td>\n",
       "      <td>мелодрама,комедия</td>\n",
       "      <td>2,700.0</td>\n",
       "    </tr>\n",
       "    <tr>\n",
       "      <th>7</th>\n",
       "      <td>Любовь и сигареты</td>\n",
       "      <td>221074614</td>\n",
       "      <td>2014-12-29T12:00:00.000Z</td>\n",
       "      <td>Художественный</td>\n",
       "      <td>Юнайтед Артистс, Грин Стрит Филмз, Айкон Интер...</td>\n",
       "      <td>США</td>\n",
       "      <td>Джон Туртурро</td>\n",
       "      <td>Джон Пенотти, Джон Туртурро</td>\n",
       "      <td>«18+» - запрещено для детей</td>\n",
       "      <td>NaN</td>\n",
       "      <td>NaN</td>\n",
       "      <td>NaN</td>\n",
       "      <td>NaN</td>\n",
       "      <td>6.6</td>\n",
       "      <td>мюзикл,мелодрама,комедия</td>\n",
       "      <td>NaN</td>\n",
       "    </tr>\n",
       "    <tr>\n",
       "      <th>8</th>\n",
       "      <td>Отпетые мошенники.</td>\n",
       "      <td>121011416</td>\n",
       "      <td>2016-05-05T12:00:00.000Z</td>\n",
       "      <td>Художественный</td>\n",
       "      <td>Пульсар Продюксьон, ТФ1 Фильм</td>\n",
       "      <td>Франция</td>\n",
       "      <td>Эрик Беснард</td>\n",
       "      <td>Патрис Леду</td>\n",
       "      <td>«18+» - запрещено для детей</td>\n",
       "      <td>NaN</td>\n",
       "      <td>NaN</td>\n",
       "      <td>NaN</td>\n",
       "      <td>NaN</td>\n",
       "      <td>8.0</td>\n",
       "      <td>комедия,криминал</td>\n",
       "      <td>NaN</td>\n",
       "    </tr>\n",
       "    <tr>\n",
       "      <th>9</th>\n",
       "      <td>Отпуск за свой счет</td>\n",
       "      <td>111019114</td>\n",
       "      <td>2014-12-01T12:00:00.000Z</td>\n",
       "      <td>Художественный</td>\n",
       "      <td>Киностудия \"Мосфильм\", Телевидение ВНР</td>\n",
       "      <td>СССР, Венгрия</td>\n",
       "      <td>В.Титов</td>\n",
       "      <td>NaN</td>\n",
       "      <td>«12+» - для детей старше 12 лет</td>\n",
       "      <td>NaN</td>\n",
       "      <td>NaN</td>\n",
       "      <td>NaN</td>\n",
       "      <td>NaN</td>\n",
       "      <td>7.8</td>\n",
       "      <td>мелодрама,комедия</td>\n",
       "      <td>NaN</td>\n",
       "    </tr>\n",
       "  </tbody>\n",
       "</table>\n",
       "</div>"
      ],
      "text/plain": [
       "                  title   puNumber           show_start_date            type  \\\n",
       "0      Открытый простор  221048915  2015-11-27T12:00:00.000Z  Художественный   \n",
       "1  Особо важное задание  111013716  2016-09-13T12:00:00.000Z  Художественный   \n",
       "2          Особо опасен  221038416  2016-10-10T12:00:00.000Z  Художественный   \n",
       "3          Особо опасен  221026916  2016-06-10T12:00:00.000Z  Художественный   \n",
       "4          Особо опасен  221030815  2015-07-29T12:00:00.000Z  Художественный   \n",
       "5     Остановился поезд  111013816  2016-09-13T12:00:00.000Z  Художественный   \n",
       "6       Любовь и голуби  111007013  2013-10-18T12:00:00.000Z  Художественный   \n",
       "7     Любовь и сигареты  221074614  2014-12-29T12:00:00.000Z  Художественный   \n",
       "8    Отпетые мошенники.  121011416  2016-05-05T12:00:00.000Z  Художественный   \n",
       "9   Отпуск за свой счет  111019114  2014-12-01T12:00:00.000Z  Художественный   \n",
       "\n",
       "                                         film_studio production_country  \\\n",
       "0  Тачстоун Пикчерз, Кобальт Пикчерз, Бикон Пикче...                США   \n",
       "1                              Киностудия \"Мосфильм\"               СССР   \n",
       "2  Юниверсал Пикчерз, Кикстарт Продакшнз, Марк Пл...                США   \n",
       "3  Юниверсал Пикчерз, Кикстарт Продакшнз, Марк Пл...                США   \n",
       "4  Юниверсал Пикчерз, Кикстарт Продакшнз, Марк Пл...                США   \n",
       "5                              Киностудия \"Мосфильм\"               СССР   \n",
       "6                              Киностудия \"Мосфильм\"               СССР   \n",
       "7  Юнайтед Артистс, Грин Стрит Филмз, Айкон Интер...                США   \n",
       "8                     Пульсар Продюксьон, ТФ1 Фильм             Франция   \n",
       "9             Киностудия \"Мосфильм\", Телевидение ВНР      СССР, Венгрия   \n",
       "\n",
       "            director                                           producer  \\\n",
       "0      Кевин Костнер          Дэвид Валдес, Кевин Костнер, Джейк Эбертс   \n",
       "1          Е.Матвеев                                                NaN   \n",
       "2  Тимур Бекмамбетов  Джим Лемли, Джейсон Нетер, Марк Е.Платт, Яйн Смит   \n",
       "3  Тимур Бекмамбетов  Джим Лемли, Джейсон Нетер, Марк Е.Платт, Яйн Смит   \n",
       "4  Тимур Бекмамбетов  Джим Лемли, Джейсон Нетер, Марк Е.Платт, Яйн Смит   \n",
       "5       В.Абдрашитов                                                NaN   \n",
       "6          В.Меньшов                                                NaN   \n",
       "7      Джон Туртурро                        Джон Пенотти, Джон Туртурро   \n",
       "8       Эрик Беснард                                        Патрис Леду   \n",
       "9            В.Титов                                                NaN   \n",
       "\n",
       "                   age_restriction  refundable_support  nonrefundable_support  \\\n",
       "0      «18+» - запрещено для детей                 NaN                    NaN   \n",
       "1    «6+» - для детей старше 6 лет                 NaN                    NaN   \n",
       "2      «18+» - запрещено для детей                 NaN                    NaN   \n",
       "3      «18+» - запрещено для детей                 NaN                    NaN   \n",
       "4      «18+» - запрещено для детей                 NaN                    NaN   \n",
       "5    «6+» - для детей старше 6 лет                 NaN                    NaN   \n",
       "6  «12+» - для детей старше 12 лет                 NaN                    NaN   \n",
       "7      «18+» - запрещено для детей                 NaN                    NaN   \n",
       "8      «18+» - запрещено для детей                 NaN                    NaN   \n",
       "9  «12+» - для детей старше 12 лет                 NaN                    NaN   \n",
       "\n",
       "   budget financing_source ratings                     genres  box_office  \n",
       "0     NaN              NaN     7.2     боевик,драма,мелодрама         NaN  \n",
       "1     NaN              NaN     6.6              драма,военный         NaN  \n",
       "2     NaN              NaN     6.8  фантастика,боевик,триллер         NaN  \n",
       "3     NaN              NaN     6.8  фантастика,боевик,триллер         NaN  \n",
       "4     NaN              NaN     6.8  фантастика,боевик,триллер         NaN  \n",
       "5     NaN              NaN     7.7                      драма         NaN  \n",
       "6     NaN              NaN     8.3          мелодрама,комедия     2,700.0  \n",
       "7     NaN              NaN     6.6   мюзикл,мелодрама,комедия         NaN  \n",
       "8     NaN              NaN     8.0           комедия,криминал         NaN  \n",
       "9     NaN              NaN     7.8          мелодрама,комедия         NaN  "
      ]
     },
     "metadata": {},
     "output_type": "display_data"
    }
   ],
   "source": [
    "display(data.head(10))"
   ]
  },
  {
   "cell_type": "markdown",
   "metadata": {},
   "source": [
    "Изучим нашу объединенную таблицу "
   ]
  },
  {
   "cell_type": "code",
   "execution_count": 10,
   "metadata": {},
   "outputs": [
    {
     "name": "stdout",
     "output_type": "stream",
     "text": [
      "<class 'pandas.core.frame.DataFrame'>\n",
      "RangeIndex: 7486 entries, 0 to 7485\n",
      "Data columns (total 15 columns):\n",
      " #   Column                 Non-Null Count  Dtype  \n",
      "---  ------                 --------------  -----  \n",
      " 0   title                  7486 non-null   object \n",
      " 1   puNumber               7486 non-null   int64  \n",
      " 2   show_start_date        7486 non-null   object \n",
      " 3   type                   7486 non-null   object \n",
      " 4   film_studio            7468 non-null   object \n",
      " 5   production_country     7484 non-null   object \n",
      " 6   director               7477 non-null   object \n",
      " 7   producer               6918 non-null   object \n",
      " 8   age_restriction        7486 non-null   object \n",
      " 9   refundable_support     332 non-null    float64\n",
      " 10  nonrefundable_support  332 non-null    float64\n",
      " 11  budget                 332 non-null    float64\n",
      " 12  financing_source       332 non-null    object \n",
      " 13  ratings                6519 non-null   object \n",
      " 14  genres                 6510 non-null   object \n",
      "dtypes: float64(3), int64(1), object(11)\n",
      "memory usage: 877.4+ KB\n"
     ]
    }
   ],
   "source": [
    "movies.info()"
   ]
  },
  {
   "cell_type": "markdown",
   "metadata": {},
   "source": [
    "Проверим не потеряли ли мы данные при объединении таблиц"
   ]
  },
  {
   "cell_type": "markdown",
   "metadata": {
    "id": "KLDGpPG0gFyM"
   },
   "source": [
    "### Шаг 2. Предобработка данных"
   ]
  },
  {
   "cell_type": "markdown",
   "metadata": {
    "id": "ssWwKXsxgFyO"
   },
   "source": [
    "#### Шаг 2.1. Проверьте типы данных\n",
    "\n",
    "- Проверьте типы данных в датафрейме и преобразуйте их там, где это необходимо."
   ]
  },
  {
   "cell_type": "code",
   "execution_count": 11,
   "metadata": {
    "id": "kVGSplJOgFyO"
   },
   "outputs": [
    {
     "name": "stdout",
     "output_type": "stream",
     "text": [
      "<class 'pandas.core.frame.DataFrame'>\n",
      "Int64Index: 7486 entries, 0 to 7485\n",
      "Data columns (total 16 columns):\n",
      " #   Column                 Non-Null Count  Dtype  \n",
      "---  ------                 --------------  -----  \n",
      " 0   title                  7486 non-null   object \n",
      " 1   puNumber               7486 non-null   int64  \n",
      " 2   show_start_date        7486 non-null   object \n",
      " 3   type                   7486 non-null   object \n",
      " 4   film_studio            7468 non-null   object \n",
      " 5   production_country     7484 non-null   object \n",
      " 6   director               7477 non-null   object \n",
      " 7   producer               6918 non-null   object \n",
      " 8   age_restriction        7486 non-null   object \n",
      " 9   refundable_support     332 non-null    float64\n",
      " 10  nonrefundable_support  332 non-null    float64\n",
      " 11  budget                 332 non-null    float64\n",
      " 12  financing_source       332 non-null    object \n",
      " 13  ratings                6519 non-null   object \n",
      " 14  genres                 6510 non-null   object \n",
      " 15  box_office             3158 non-null   float64\n",
      "dtypes: float64(4), int64(1), object(11)\n",
      "memory usage: 994.2+ KB\n"
     ]
    }
   ],
   "source": [
    "data.info()"
   ]
  },
  {
   "cell_type": "markdown",
   "metadata": {},
   "source": [
    "Изучим общую информацию и типы данных столбцов"
   ]
  },
  {
   "cell_type": "code",
   "execution_count": 12,
   "metadata": {},
   "outputs": [],
   "source": [
    "data['show_start_date'] = pd.to_datetime(data['show_start_date'], format='%Y-%m-%dT%H:%M:%S')"
   ]
  },
  {
   "cell_type": "markdown",
   "metadata": {},
   "source": [
    "Изменим тип данных столбца с датой начала проката"
   ]
  },
  {
   "cell_type": "code",
   "execution_count": 13,
   "metadata": {},
   "outputs": [
    {
     "data": {
      "text/html": [
       "<div>\n",
       "<style scoped>\n",
       "    .dataframe tbody tr th:only-of-type {\n",
       "        vertical-align: middle;\n",
       "    }\n",
       "\n",
       "    .dataframe tbody tr th {\n",
       "        vertical-align: top;\n",
       "    }\n",
       "\n",
       "    .dataframe thead th {\n",
       "        text-align: right;\n",
       "    }\n",
       "</style>\n",
       "<table border=\"1\" class=\"dataframe\">\n",
       "  <thead>\n",
       "    <tr style=\"text-align: right;\">\n",
       "      <th></th>\n",
       "      <th>title</th>\n",
       "      <th>puNumber</th>\n",
       "      <th>show_start_date</th>\n",
       "      <th>type</th>\n",
       "      <th>film_studio</th>\n",
       "      <th>production_country</th>\n",
       "      <th>director</th>\n",
       "      <th>producer</th>\n",
       "      <th>age_restriction</th>\n",
       "      <th>refundable_support</th>\n",
       "      <th>nonrefundable_support</th>\n",
       "      <th>budget</th>\n",
       "      <th>financing_source</th>\n",
       "      <th>ratings</th>\n",
       "      <th>genres</th>\n",
       "      <th>box_office</th>\n",
       "    </tr>\n",
       "  </thead>\n",
       "  <tbody>\n",
       "    <tr>\n",
       "      <th>0</th>\n",
       "      <td>Открытый простор</td>\n",
       "      <td>221048915</td>\n",
       "      <td>2015-11-27 12:00:00+00:00</td>\n",
       "      <td>Художественный</td>\n",
       "      <td>Тачстоун Пикчерз, Кобальт Пикчерз, Бикон Пикче...</td>\n",
       "      <td>США</td>\n",
       "      <td>Кевин Костнер</td>\n",
       "      <td>Дэвид Валдес, Кевин Костнер, Джейк Эбертс</td>\n",
       "      <td>«18+» - запрещено для детей</td>\n",
       "      <td>NaN</td>\n",
       "      <td>NaN</td>\n",
       "      <td>NaN</td>\n",
       "      <td>NaN</td>\n",
       "      <td>7.2</td>\n",
       "      <td>боевик,драма,мелодрама</td>\n",
       "      <td>NaN</td>\n",
       "    </tr>\n",
       "    <tr>\n",
       "      <th>1</th>\n",
       "      <td>Особо важное задание</td>\n",
       "      <td>111013716</td>\n",
       "      <td>2016-09-13 12:00:00+00:00</td>\n",
       "      <td>Художественный</td>\n",
       "      <td>Киностудия \"Мосфильм\"</td>\n",
       "      <td>СССР</td>\n",
       "      <td>Е.Матвеев</td>\n",
       "      <td>NaN</td>\n",
       "      <td>«6+» - для детей старше 6 лет</td>\n",
       "      <td>NaN</td>\n",
       "      <td>NaN</td>\n",
       "      <td>NaN</td>\n",
       "      <td>NaN</td>\n",
       "      <td>6.6</td>\n",
       "      <td>драма,военный</td>\n",
       "      <td>NaN</td>\n",
       "    </tr>\n",
       "    <tr>\n",
       "      <th>2</th>\n",
       "      <td>Особо опасен</td>\n",
       "      <td>221038416</td>\n",
       "      <td>2016-10-10 12:00:00+00:00</td>\n",
       "      <td>Художественный</td>\n",
       "      <td>Юниверсал Пикчерз, Кикстарт Продакшнз, Марк Пл...</td>\n",
       "      <td>США</td>\n",
       "      <td>Тимур Бекмамбетов</td>\n",
       "      <td>Джим Лемли, Джейсон Нетер, Марк Е.Платт, Яйн Смит</td>\n",
       "      <td>«18+» - запрещено для детей</td>\n",
       "      <td>NaN</td>\n",
       "      <td>NaN</td>\n",
       "      <td>NaN</td>\n",
       "      <td>NaN</td>\n",
       "      <td>6.8</td>\n",
       "      <td>фантастика,боевик,триллер</td>\n",
       "      <td>NaN</td>\n",
       "    </tr>\n",
       "    <tr>\n",
       "      <th>3</th>\n",
       "      <td>Особо опасен</td>\n",
       "      <td>221026916</td>\n",
       "      <td>2016-06-10 12:00:00+00:00</td>\n",
       "      <td>Художественный</td>\n",
       "      <td>Юниверсал Пикчерз, Кикстарт Продакшнз, Марк Пл...</td>\n",
       "      <td>США</td>\n",
       "      <td>Тимур Бекмамбетов</td>\n",
       "      <td>Джим Лемли, Джейсон Нетер, Марк Е.Платт, Яйн Смит</td>\n",
       "      <td>«18+» - запрещено для детей</td>\n",
       "      <td>NaN</td>\n",
       "      <td>NaN</td>\n",
       "      <td>NaN</td>\n",
       "      <td>NaN</td>\n",
       "      <td>6.8</td>\n",
       "      <td>фантастика,боевик,триллер</td>\n",
       "      <td>NaN</td>\n",
       "    </tr>\n",
       "    <tr>\n",
       "      <th>4</th>\n",
       "      <td>Особо опасен</td>\n",
       "      <td>221030815</td>\n",
       "      <td>2015-07-29 12:00:00+00:00</td>\n",
       "      <td>Художественный</td>\n",
       "      <td>Юниверсал Пикчерз, Кикстарт Продакшнз, Марк Пл...</td>\n",
       "      <td>США</td>\n",
       "      <td>Тимур Бекмамбетов</td>\n",
       "      <td>Джим Лемли, Джейсон Нетер, Марк Е.Платт, Яйн Смит</td>\n",
       "      <td>«18+» - запрещено для детей</td>\n",
       "      <td>NaN</td>\n",
       "      <td>NaN</td>\n",
       "      <td>NaN</td>\n",
       "      <td>NaN</td>\n",
       "      <td>6.8</td>\n",
       "      <td>фантастика,боевик,триллер</td>\n",
       "      <td>NaN</td>\n",
       "    </tr>\n",
       "  </tbody>\n",
       "</table>\n",
       "</div>"
      ],
      "text/plain": [
       "                  title   puNumber           show_start_date            type  \\\n",
       "0      Открытый простор  221048915 2015-11-27 12:00:00+00:00  Художественный   \n",
       "1  Особо важное задание  111013716 2016-09-13 12:00:00+00:00  Художественный   \n",
       "2          Особо опасен  221038416 2016-10-10 12:00:00+00:00  Художественный   \n",
       "3          Особо опасен  221026916 2016-06-10 12:00:00+00:00  Художественный   \n",
       "4          Особо опасен  221030815 2015-07-29 12:00:00+00:00  Художественный   \n",
       "\n",
       "                                         film_studio production_country  \\\n",
       "0  Тачстоун Пикчерз, Кобальт Пикчерз, Бикон Пикче...                США   \n",
       "1                              Киностудия \"Мосфильм\"               СССР   \n",
       "2  Юниверсал Пикчерз, Кикстарт Продакшнз, Марк Пл...                США   \n",
       "3  Юниверсал Пикчерз, Кикстарт Продакшнз, Марк Пл...                США   \n",
       "4  Юниверсал Пикчерз, Кикстарт Продакшнз, Марк Пл...                США   \n",
       "\n",
       "            director                                           producer  \\\n",
       "0      Кевин Костнер          Дэвид Валдес, Кевин Костнер, Джейк Эбертс   \n",
       "1          Е.Матвеев                                                NaN   \n",
       "2  Тимур Бекмамбетов  Джим Лемли, Джейсон Нетер, Марк Е.Платт, Яйн Смит   \n",
       "3  Тимур Бекмамбетов  Джим Лемли, Джейсон Нетер, Марк Е.Платт, Яйн Смит   \n",
       "4  Тимур Бекмамбетов  Джим Лемли, Джейсон Нетер, Марк Е.Платт, Яйн Смит   \n",
       "\n",
       "                 age_restriction  refundable_support  nonrefundable_support  \\\n",
       "0    «18+» - запрещено для детей                 NaN                    NaN   \n",
       "1  «6+» - для детей старше 6 лет                 NaN                    NaN   \n",
       "2    «18+» - запрещено для детей                 NaN                    NaN   \n",
       "3    «18+» - запрещено для детей                 NaN                    NaN   \n",
       "4    «18+» - запрещено для детей                 NaN                    NaN   \n",
       "\n",
       "   budget financing_source ratings                     genres  box_office  \n",
       "0     NaN              NaN     7.2     боевик,драма,мелодрама         NaN  \n",
       "1     NaN              NaN     6.6              драма,военный         NaN  \n",
       "2     NaN              NaN     6.8  фантастика,боевик,триллер         NaN  \n",
       "3     NaN              NaN     6.8  фантастика,боевик,триллер         NaN  \n",
       "4     NaN              NaN     6.8  фантастика,боевик,триллер         NaN  "
      ]
     },
     "execution_count": 13,
     "metadata": {},
     "output_type": "execute_result"
    }
   ],
   "source": [
    "data.head()"
   ]
  },
  {
   "cell_type": "code",
   "execution_count": 14,
   "metadata": {},
   "outputs": [],
   "source": [
    "def categorize_age(row):\n",
    "    try:\n",
    "        if '18+' in row:\n",
    "            return '18+'\n",
    "        elif '16+' in row:\n",
    "            return '16+'\n",
    "        elif '12+' in row:\n",
    "            return '12+'\n",
    "        elif '6+' in row:\n",
    "            return '6+'\n",
    "        elif '0+' in row:\n",
    "            return '0+'\n",
    "    except:\n",
    "        return ''"
   ]
  },
  {
   "cell_type": "markdown",
   "metadata": {},
   "source": [
    "Для удобства преобразуем столбец с возрастным ограничением фильмов, для этого напишем функцию"
   ]
  },
  {
   "cell_type": "code",
   "execution_count": 15,
   "metadata": {},
   "outputs": [],
   "source": [
    "data['age_restriction'] = data['age_restriction'].apply(categorize_age)"
   ]
  },
  {
   "cell_type": "markdown",
   "metadata": {},
   "source": [
    "Применим функцию к столбцу"
   ]
  },
  {
   "cell_type": "code",
   "execution_count": 16,
   "metadata": {},
   "outputs": [
    {
     "data": {
      "text/plain": [
       "array(['18+', '6+', '12+', '16+', '0+'], dtype=object)"
      ]
     },
     "execution_count": 16,
     "metadata": {},
     "output_type": "execute_result"
    }
   ],
   "source": [
    "data['age_restriction'].unique()"
   ]
  },
  {
   "cell_type": "markdown",
   "metadata": {},
   "source": [
    "Проверим получилось ли у нас преобразовать данные"
   ]
  },
  {
   "cell_type": "code",
   "execution_count": 17,
   "metadata": {},
   "outputs": [
    {
     "data": {
      "text/plain": [
       "array(['7.2', '6.6', '6.8', '7.7', '8.3', '8.0', '7.8', '8.1', '7.1',\n",
       "       '6.0', '7.4', '5.8', '8.7', '6.3', '6.9', '5.0', '4.3', '7.3',\n",
       "       '7.0', '6.4', nan, '8.2', '7.5', '6.7', '7.9', '5.9', '6.2', '5.6',\n",
       "       '6.5', '2.4', '7.6', '6.1', '8.6', '8.5', '8.8', '5.5', '5.1',\n",
       "       '5.7', '5.4', '99%', '4.4', '4.5', '5.3', '4.1', '8.4', '2.6',\n",
       "       '3.8', '4.6', '4.8', '4.0', '3.0', '1.6', '4.2', '5.2', '4.7',\n",
       "       '4.9', '3.9', '2.7', '3.3', '2.9', '28%', '3.7', '1.4', '3.1',\n",
       "       '97%', '3.5', '3.2', '2.8', '1.5', '2.1', '2.5', '9.2', '3.4',\n",
       "       '1.1', '3.6', '83%', '64%', '91%', '94%', '62%', '79%', '90%',\n",
       "       '19%', '88%', '1.0', '89%', '1.3', '1.9', '1.8', '1.2', '1.7',\n",
       "       '9.0', '98%', '8.9', '9.1'], dtype=object)"
      ]
     },
     "execution_count": 17,
     "metadata": {},
     "output_type": "execute_result"
    }
   ],
   "source": [
    "data['ratings'].unique()"
   ]
  },
  {
   "cell_type": "markdown",
   "metadata": {},
   "source": [
    "Изучим уникальные данные столбца \"ratings\""
   ]
  },
  {
   "cell_type": "code",
   "execution_count": 18,
   "metadata": {},
   "outputs": [],
   "source": [
    "data['ratings'] = data['ratings'].str.replace('%', '').astype('float')"
   ]
  },
  {
   "cell_type": "markdown",
   "metadata": {},
   "source": [
    "Изменим тип данных в столбце с рейтингом фильма, для этого сначала избавимся от символов"
   ]
  },
  {
   "cell_type": "code",
   "execution_count": 19,
   "metadata": {},
   "outputs": [],
   "source": [
    "data.loc[data['ratings'] > 10, 'ratings'] /= 10"
   ]
  },
  {
   "cell_type": "markdown",
   "metadata": {},
   "source": [
    "Теперь преобразуем значения больше 10 "
   ]
  },
  {
   "cell_type": "code",
   "execution_count": 20,
   "metadata": {},
   "outputs": [
    {
     "name": "stdout",
     "output_type": "stream",
     "text": [
      "<class 'pandas.core.frame.DataFrame'>\n",
      "Int64Index: 7486 entries, 0 to 7485\n",
      "Data columns (total 16 columns):\n",
      " #   Column                 Non-Null Count  Dtype              \n",
      "---  ------                 --------------  -----              \n",
      " 0   title                  7486 non-null   object             \n",
      " 1   puNumber               7486 non-null   int64              \n",
      " 2   show_start_date        7486 non-null   datetime64[ns, UTC]\n",
      " 3   type                   7486 non-null   object             \n",
      " 4   film_studio            7468 non-null   object             \n",
      " 5   production_country     7484 non-null   object             \n",
      " 6   director               7477 non-null   object             \n",
      " 7   producer               6918 non-null   object             \n",
      " 8   age_restriction        7486 non-null   object             \n",
      " 9   refundable_support     332 non-null    float64            \n",
      " 10  nonrefundable_support  332 non-null    float64            \n",
      " 11  budget                 332 non-null    float64            \n",
      " 12  financing_source       332 non-null    object             \n",
      " 13  ratings                6519 non-null   float64            \n",
      " 14  genres                 6510 non-null   object             \n",
      " 15  box_office             3158 non-null   float64            \n",
      "dtypes: datetime64[ns, UTC](1), float64(5), int64(1), object(9)\n",
      "memory usage: 994.2+ KB\n"
     ]
    }
   ],
   "source": [
    "data.info()"
   ]
  },
  {
   "cell_type": "markdown",
   "metadata": {},
   "source": [
    "Проверим внесенные изменения"
   ]
  },
  {
   "cell_type": "code",
   "execution_count": 21,
   "metadata": {},
   "outputs": [
    {
     "data": {
      "text/plain": [
       "array([7.2, 6.6, 6.8, 7.7, 8.3, 8. , 7.8, 8.1, 7.1, 6. , 7.4, 5.8, 8.7,\n",
       "       6.3, 6.9, 5. , 4.3, 7.3, 7. , 6.4, nan, 8.2, 7.5, 6.7, 7.9, 5.9,\n",
       "       6.2, 5.6, 6.5, 2.4, 7.6, 6.1, 8.6, 8.5, 8.8, 5.5, 5.1, 5.7, 5.4,\n",
       "       9.9, 4.4, 4.5, 5.3, 4.1, 8.4, 2.6, 3.8, 4.6, 4.8, 4. , 3. , 1.6,\n",
       "       4.2, 5.2, 4.7, 4.9, 3.9, 2.7, 3.3, 2.9, 2.8, 3.7, 1.4, 3.1, 9.7,\n",
       "       3.5, 3.2, 1.5, 2.1, 2.5, 9.2, 3.4, 1.1, 3.6, 9.1, 9.4, 9. , 1.9,\n",
       "       1. , 8.9, 1.3, 1.8, 1.2, 1.7, 9.8])"
      ]
     },
     "execution_count": 21,
     "metadata": {},
     "output_type": "execute_result"
    }
   ],
   "source": [
    "data['ratings'].unique()"
   ]
  },
  {
   "cell_type": "markdown",
   "metadata": {},
   "source": [
    "Проверим внесенные изменения"
   ]
  },
  {
   "cell_type": "markdown",
   "metadata": {
    "id": "i0MOLbF-gFyP"
   },
   "source": [
    "#### Шаг 2.2. Изучите пропуски в датафрейме\n",
    "\n",
    "- Объясните, почему заполнили пропуски определённым образом или почему не стали этого делать."
   ]
  },
  {
   "cell_type": "code",
   "execution_count": 22,
   "metadata": {
    "id": "8MJD_lkngFyP"
   },
   "outputs": [
    {
     "data": {
      "text/plain": [
       "title                       0\n",
       "puNumber                    0\n",
       "show_start_date             0\n",
       "type                        0\n",
       "film_studio                18\n",
       "production_country          2\n",
       "director                    9\n",
       "producer                  568\n",
       "age_restriction             0\n",
       "refundable_support       7154\n",
       "nonrefundable_support    7154\n",
       "budget                   7154\n",
       "financing_source         7154\n",
       "ratings                   967\n",
       "genres                    976\n",
       "box_office               4328\n",
       "dtype: int64"
      ]
     },
     "execution_count": 22,
     "metadata": {},
     "output_type": "execute_result"
    }
   ],
   "source": [
    "data.isna().sum()"
   ]
  },
  {
   "cell_type": "markdown",
   "metadata": {},
   "source": [
    "Изучим количество пропусков в столбцах"
   ]
  },
  {
   "cell_type": "markdown",
   "metadata": {
    "id": "4c6k1t9ygFyQ"
   },
   "source": [
    "#### Шаг 2.3. Изучите дубликаты в датафрейме\n",
    "- Проверьте, есть ли в данных дубликаты. Опишите причины, которые могли повлиять на появление дублей."
   ]
  },
  {
   "cell_type": "code",
   "execution_count": 23,
   "metadata": {},
   "outputs": [
    {
     "data": {
      "text/html": [
       "<div>\n",
       "<style scoped>\n",
       "    .dataframe tbody tr th:only-of-type {\n",
       "        vertical-align: middle;\n",
       "    }\n",
       "\n",
       "    .dataframe tbody tr th {\n",
       "        vertical-align: top;\n",
       "    }\n",
       "\n",
       "    .dataframe thead th {\n",
       "        text-align: right;\n",
       "    }\n",
       "</style>\n",
       "<table border=\"1\" class=\"dataframe\">\n",
       "  <thead>\n",
       "    <tr style=\"text-align: right;\">\n",
       "      <th></th>\n",
       "      <th>title</th>\n",
       "      <th>puNumber</th>\n",
       "      <th>show_start_date</th>\n",
       "      <th>type</th>\n",
       "      <th>film_studio</th>\n",
       "      <th>production_country</th>\n",
       "      <th>director</th>\n",
       "      <th>producer</th>\n",
       "      <th>age_restriction</th>\n",
       "      <th>refundable_support</th>\n",
       "      <th>nonrefundable_support</th>\n",
       "      <th>budget</th>\n",
       "      <th>financing_source</th>\n",
       "      <th>ratings</th>\n",
       "      <th>genres</th>\n",
       "      <th>box_office</th>\n",
       "    </tr>\n",
       "  </thead>\n",
       "  <tbody>\n",
       "  </tbody>\n",
       "</table>\n",
       "</div>"
      ],
      "text/plain": [
       "Empty DataFrame\n",
       "Columns: [title, puNumber, show_start_date, type, film_studio, production_country, director, producer, age_restriction, refundable_support, nonrefundable_support, budget, financing_source, ratings, genres, box_office]\n",
       "Index: []"
      ]
     },
     "metadata": {},
     "output_type": "display_data"
    }
   ],
   "source": [
    "dup_rows = data[data.duplicated()]\n",
    "display(dup_rows)"
   ]
  },
  {
   "cell_type": "code",
   "execution_count": 24,
   "metadata": {},
   "outputs": [
    {
     "data": {
      "text/plain": [
       "714"
      ]
     },
     "execution_count": 24,
     "metadata": {},
     "output_type": "execute_result"
    }
   ],
   "source": [
    "data['title'].duplicated().sum()"
   ]
  },
  {
   "cell_type": "markdown",
   "metadata": {},
   "source": [
    "Проверим какое количество дубликатов встречается в этом столбце"
   ]
  },
  {
   "cell_type": "code",
   "execution_count": 25,
   "metadata": {},
   "outputs": [
    {
     "data": {
      "text/plain": [
       "День святого Валентина_                   5\n",
       "Лузеры                                    4\n",
       "Непокоренный.                             4\n",
       "Секс в большом городе 2                   4\n",
       "Двойной копец                             4\n",
       "                                         ..\n",
       "Джек Райан: Теория хаоса                  1\n",
       "Звёздные войны. Эпизод 3: Месть ситхов    1\n",
       "МУЛЬТ в кино. Выпуск № 5                  1\n",
       "Красная черепаха                          1\n",
       "Прометей.                                 1\n",
       "Name: title, Length: 6772, dtype: int64"
      ]
     },
     "execution_count": 25,
     "metadata": {},
     "output_type": "execute_result"
    }
   ],
   "source": [
    "data['title'].value_counts()"
   ]
  },
  {
   "cell_type": "markdown",
   "metadata": {},
   "source": [
    "Посчитаем количество повторяющихся строк с этими фильмами. У одного фильма, может быть несколько прокатных удостоверений, поэтому повторы возможны, но тогда номера удостоверений у них будут разные. Проверим это ниже."
   ]
  },
  {
   "cell_type": "code",
   "execution_count": 26,
   "metadata": {},
   "outputs": [
    {
     "data": {
      "text/plain": [
       "2"
      ]
     },
     "execution_count": 26,
     "metadata": {},
     "output_type": "execute_result"
    }
   ],
   "source": [
    "data['puNumber'].duplicated().sum()"
   ]
  },
  {
   "cell_type": "markdown",
   "metadata": {},
   "source": [
    "Дублей в столбце с номером прокатного удостоверения всего два, а значит повторения фильмов в наших данных связаны с несколькими прокатными удостоверениями."
   ]
  },
  {
   "cell_type": "code",
   "execution_count": 27,
   "metadata": {},
   "outputs": [],
   "source": [
    "data = data.drop_duplicates(subset=['puNumber'], keep='first')"
   ]
  },
  {
   "cell_type": "markdown",
   "metadata": {},
   "source": [
    "Удалим дубль"
   ]
  },
  {
   "cell_type": "code",
   "execution_count": 28,
   "metadata": {
    "id": "aKck8RIdgFyQ"
   },
   "outputs": [],
   "source": [
    "data[['film_studio', 'production_country', 'director', 'producer', 'genres', \n",
    "      'financing_source', 'ratings']] = data[['film_studio', 'production_country', \n",
    "    'director', 'producer', 'genres', 'financing_source', 'ratings']].fillna('unknown')"
   ]
  },
  {
   "cell_type": "markdown",
   "metadata": {},
   "source": [
    "Столбцы с типом object требуют точной замены, мы её знать не можем, поэтому заполним значениями unknown"
   ]
  },
  {
   "cell_type": "code",
   "execution_count": 29,
   "metadata": {},
   "outputs": [],
   "source": [
    "data[['refundable_support', 'nonrefundable_support', 'budget', \n",
    "      'box_office']] = data[['refundable_support', 'nonrefundable_support', 'budget', \n",
    "                             'box_office']].fillna(0)"
   ]
  },
  {
   "cell_type": "markdown",
   "metadata": {},
   "source": [
    "Для столбцов с числовыми значениями заменим все пропуски на 0"
   ]
  },
  {
   "cell_type": "code",
   "execution_count": 30,
   "metadata": {},
   "outputs": [
    {
     "data": {
      "text/plain": [
       "title                    0\n",
       "puNumber                 0\n",
       "show_start_date          0\n",
       "type                     0\n",
       "film_studio              0\n",
       "production_country       0\n",
       "director                 0\n",
       "producer                 0\n",
       "age_restriction          0\n",
       "refundable_support       0\n",
       "nonrefundable_support    0\n",
       "budget                   0\n",
       "financing_source         0\n",
       "ratings                  0\n",
       "genres                   0\n",
       "box_office               0\n",
       "dtype: int64"
      ]
     },
     "execution_count": 30,
     "metadata": {},
     "output_type": "execute_result"
    }
   ],
   "source": [
    "data.isna().sum()"
   ]
  },
  {
   "cell_type": "markdown",
   "metadata": {},
   "source": [
    "Проверим наши преобразования"
   ]
  },
  {
   "cell_type": "markdown",
   "metadata": {
    "id": "52fOPrEBgFyQ"
   },
   "source": [
    "#### Шаг 2.4. Изучите категориальные значения\n",
    "\n",
    "- Посмотрите, какая общая проблема встречается почти во всех категориальных столбцах;\n",
    "- Исправьте проблемные значения в поле `type`.\n",
    "\n",
    "<div id=\"accordion\">\n",
    "    <div class=\"card\">\n",
    "        <div class=\"card-header\" id=\"headingThree\">\n",
    "            <button class=\"btn btn-link collapsed\" data-toggle=\"collapse\" data-target=\"#collapseHint_1\" aria-expanded=\"false\" aria-controls=\"collapseHint_1\">Подсказка</button>\n",
    "        </div>\n",
    "        <div id=\"collapseHint_1\" class=\"collapse\" aria-labelledby=\"headingThree\" data-parent=\"#accordion\">\n",
    "            <div class=\"card-body\">\n",
    "В поле <code>type</code> есть несколько значений, у которых появился пробел в начале строки. Самый простой способ их «починить» -- использовать метод <a href=\"https://pandas.pydata.org/docs/reference/api/pandas.Series.str.strip.html#pandas.Series.str.strip\">.str.strip</a>. Этот метод удаляет все пробелы, которые встречаются в начале и в конце строки. Применяют его таким образом:<br>\n",
    "<code>df['type'].str.strip()</code>\n",
    "            </div>\n",
    "        </div>\n",
    "    </div>\n",
    "</div>"
   ]
  },
  {
   "cell_type": "code",
   "execution_count": 31,
   "metadata": {
    "id": "PnXKIVdFgFyR"
   },
   "outputs": [],
   "source": [
    "data['type'] = data['type'].str.strip()"
   ]
  },
  {
   "cell_type": "markdown",
   "metadata": {},
   "source": [
    "Уберем пробелы из столбца с типом фильма"
   ]
  },
  {
   "cell_type": "code",
   "execution_count": 32,
   "metadata": {},
   "outputs": [
    {
     "data": {
      "text/plain": [
       "array(['Художественный', 'Анимационный', 'Прочие', 'Документальный',\n",
       "       'Научно-популярный', 'Музыкально-развлекательный'], dtype=object)"
      ]
     },
     "execution_count": 32,
     "metadata": {},
     "output_type": "execute_result"
    }
   ],
   "source": [
    "data['type'].unique()"
   ]
  },
  {
   "cell_type": "markdown",
   "metadata": {},
   "source": [
    "Проверим преобразования"
   ]
  },
  {
   "cell_type": "code",
   "execution_count": 33,
   "metadata": {},
   "outputs": [
    {
     "data": {
      "text/plain": [
       "array(['Тачстоун Пикчерз, Кобальт Пикчерз, Бикон Пикчерз, Тиг Продакшнз',\n",
       "       'Киностудия \"Мосфильм\"',\n",
       "       'Юниверсал Пикчерз, Кикстарт Продакшнз, Марк Платт Продакшнз, Рилейтивити Медиа, Спайгласс Интертейнмент, Стилкин Филмз, Топ Кау Продакшнз',\n",
       "       ...,\n",
       "       'Дэниел Гродник Продакшнз, Вандерфилм Медиа Корпорэйшн, Импринт Интертейнмент, Вор Хорс Интертейнмент, Пимиента ',\n",
       "       'Никелодеон Анимейшн Студиос, Спин Мастер',\n",
       "       'Анимаккорд Лтд., ООО Студия \"АНИМАККОРД\"'], dtype=object)"
      ]
     },
     "execution_count": 33,
     "metadata": {},
     "output_type": "execute_result"
    }
   ],
   "source": [
    "data['film_studio'].unique()"
   ]
  },
  {
   "cell_type": "markdown",
   "metadata": {},
   "source": [
    "Проверим значения в столбце с названиями киностудий"
   ]
  },
  {
   "cell_type": "code",
   "execution_count": 34,
   "metadata": {},
   "outputs": [],
   "source": [
    "data['film_studio'] = data['film_studio'].str.strip()"
   ]
  },
  {
   "cell_type": "markdown",
   "metadata": {},
   "source": [
    "В некоторых названиях встречаются двойные пробелы, удалим их"
   ]
  },
  {
   "cell_type": "code",
   "execution_count": 35,
   "metadata": {},
   "outputs": [
    {
     "data": {
      "text/plain": [
       "array(['США', 'СССР', 'Франция', 'СССР, Венгрия',\n",
       "       'Германия-Великобритания', 'Великобритания - Италия',\n",
       "       'Чехословакия', 'США - Франция - Турция', 'Новая Зеландия',\n",
       "       'Канада - Франция - Испания', 'США-Германия',\n",
       "       'США - Великобритания', 'Великобритания', 'США - Германия',\n",
       "       'Франция - Мексика - США', 'Россия, Казахстан, США',\n",
       "       'СССР, Швеция', 'СССР, Франция, Англия, Куба, ГДР', 'Германия',\n",
       "       'Великобритания-США-Германия-КНР',\n",
       "       'СССР, ЧССР, Западный Берлин, ПНР', 'СССР, Италия', 'Гонконг, КНР',\n",
       "       'США - Франция', 'США - Япония - Франция - Великобритания',\n",
       "       'Гонконг - Сингапур - Таиланд - Великобритания', 'США-Канада',\n",
       "       'Франция - Италия - Великобритания - США', 'Франция - США',\n",
       "       'Ирландия-Великобритания-Германия', 'Чехия', 'США-Австралия',\n",
       "       'СССР, Финляндия', 'США-Франция-Великобритания-Австрия',\n",
       "       'США - Бельгия', 'США - Ирландия - Великобритания',\n",
       "       'Великобритания - США',\n",
       "       'Люксембург - Нидерланды - Испания - Великобритания - США - Италия',\n",
       "       'Великобритания - Франция - США', 'Новая Зеландия - США',\n",
       "       'США - Великобритания - Чехия',\n",
       "       'Канада - Франция - Великобритания', 'Ирландия',\n",
       "       'Великобритания - Германия - США',\n",
       "       'США - Франция - Великобритания', 'Япония', 'СССР, Польша',\n",
       "       'Франция - Испания', 'Канада-Франция', 'Германия - Италия - США',\n",
       "       'Аргентина - Бразилия', 'Дания - Швейцария - Бельгия - Франция',\n",
       "       'США - Испания', 'Германия - США',\n",
       "       'Франция - Австрия - Германия - Италия - США', 'Австрия',\n",
       "       'США - Канада - Германия', 'США - Канада',\n",
       "       'СССР - Швейцария - Франция', 'Россия - Казахстан', 'Гонконг',\n",
       "       'Италия', 'США - ОАЭ', 'Россия',\n",
       "       'США - Франция - Испания - Великобритания',\n",
       "       'Великобритания - Франция', 'США-Италия-Испания-Аргентина',\n",
       "       'Франция-Великобритания', 'КНР - Гонконг',\n",
       "       'Франция - Италия - Швейцария', 'США - Новая Зеландия',\n",
       "       'Франция - Бельгия', 'КНР', 'Германия - Великобритания - Австрия',\n",
       "       'Великобритания - Израиль - Франция - Япония - США', 'Швеция',\n",
       "       'Испания', 'Дания', 'Франция - Бельгия - Люксембург',\n",
       "       'США - Индия - ОАЭ',\n",
       "       'Германия-Канада-Великобритания-Швейцария-Франция',\n",
       "       'Мексика - Чили', 'Аргентина', 'Бразилия', 'Чили', 'Австралия',\n",
       "       'Португалия - Франция', 'США - ЮАР', 'Исландия-Ирландия-Германия',\n",
       "       'США-Индонезия', 'Южная Корея', 'Мексика - Испания - Дания - США',\n",
       "       'Великобритания-США', 'Франция - Италия', 'США-Франция',\n",
       "       'США - Венгрия - Великобритания', 'Бельгия-Франция-Италия',\n",
       "       'Чехия - Германия', 'Германия - Франция', 'США-Нидерланды',\n",
       "       'Украина', 'Великобритания - Германия', 'Франция-Бельгия',\n",
       "       'США-Франция-Испания', 'Италия - Франция', 'Канада',\n",
       "       'Швеция-Франция-Дания', 'Германия-Франция-Польша',\n",
       "       'Франция-Великобритания - Германия',\n",
       "       'США - Бразилия - Франция - Австралия - Великобритания - Германия',\n",
       "       'Германия-Австрия', 'Германия-Италия- Шри-Ланка',\n",
       "       'Великобритания - Испания',\n",
       "       'США - Великобритания - Канада - Швеция',\n",
       "       'Босния и Герцеговина - Франция - Великобритания - Германия - Словения - Бельгия - Сербия',\n",
       "       'Великобритания - Франция - Италия - США', 'США-ОАЭ',\n",
       "       'Испания - Франция', 'США-Великобритания', 'США-ЮАР',\n",
       "       'Великобритания-Австралия - США',\n",
       "       'Норвегия - Швеция - Дания - Германия', 'Норвегия', 'Швейцария',\n",
       "       'Греция - Германия - Франция', 'Норвения', 'Южная Корея - США',\n",
       "       'Чили - Франция - США', 'Австрия - Германия - Франция',\n",
       "       'Швеция - Дания', 'Великобритания - Франция - Бельгия - Италия',\n",
       "       'Франция - Германия', 'Грузия - Франция - Люксембург',\n",
       "       'США - Франция - Великобритания - Бразилия ', 'США - КНР',\n",
       "       'Мексика - Франция', 'США - Германия - Гонконг - Сингапур',\n",
       "       'Финляндия - Австрия - Россия', 'Испания - Куба',\n",
       "       'Великобритания - ЮАР', 'Великобритания - Ирландия', 'Израиль',\n",
       "       'Бразилия - Германия - Порртугалия - Франция ',\n",
       "       'Франция - Канада - Бельгия', 'Франция-Испания',\n",
       "       'Испания - Канада - Япония', 'Иран', 'Швеция-Куба',\n",
       "       'США-Великобритания-Ирландия', 'Гонконг - КНР', 'Нидерланды',\n",
       "       'Испания - Канада', 'Япония-Великобритания',\n",
       "       'Великобритания - Норвегия - Дания - Германия',\n",
       "       'Финляндия - Франция - Германия',\n",
       "       'Мексика - Франция - Нидерланды - Германия', 'США - Индия',\n",
       "       'США-Великобритания-Индия', 'США-Канада-Бельгия',\n",
       "       'Республика Узбекистан', 'Италия ', 'Турция',\n",
       "       'Сербия - Словения - Хорватия - Черногория - Македония',\n",
       "       'Киргизия', 'Германия - Нидерланды - Беларусь - Россия - Латвия',\n",
       "       'Индия', 'Нидерланды - Россия - Германия',\n",
       "       'Великобритания - Нидерланды - Франция - Хорватия',\n",
       "       'Канада - Южная Корея',\n",
       "       'Великобритания - Польша - КНР - Индия - Норвегия',\n",
       "       'Япония - Франция - США - Южная Корея - Турция',\n",
       "       'Мексика - Аргентина - Великобритания', 'Израиль - Франция',\n",
       "       'Польша - Португалия - Франция - Великобритания',\n",
       "       'Австралия - США', 'США - Великобритания ',\n",
       "       'Франция - Люксембург - Бельгия', 'Армения',\n",
       "       'Бельгия - Люксембург - Франция - Швейцария',\n",
       "       'США - Великобритания - Канада', 'Норвегия - Швеция',\n",
       "       'Канада - Франция', 'КНР - Гонконг - США',\n",
       "       'США - Сингапур - Малайзия - Индонезия', 'Германия - Россия',\n",
       "       'Япония - Канада', 'Финляндия - Дания - Германия - Ирландия',\n",
       "       'Франция - Люксембург - Германия - Бельгия - Швейцария - Великобритания ',\n",
       "       'Канада - США', 'США-Италия-Испания', 'США-Испания',\n",
       "       'США - Швейцария - Франция', 'Испания - США - Колумбия',\n",
       "       'Канада-ЮАР', 'Франция - Россия',\n",
       "       'Германия - Финляндия - Австралия', 'Дания - Швеция', 'Бельгия',\n",
       "       'Германия - Франция - Австрия', 'Франция-Индия', 'ЮАР',\n",
       "       'Франция-Перу', 'Франция - Канада', 'Республика Беларусь',\n",
       "       'Великобритания - Австрия - Франция - США',\n",
       "       'Австрия-Германия-Франция', 'США-Россия', 'Германия-США',\n",
       "       'США - Южная Корея', 'Канада - КНР',\n",
       "       'Дания - Швеция - Италия - Франция - Германия',\n",
       "       'Франция-Италия-Испания-Венгрия', 'Франция - Германия - Бельгия',\n",
       "       'Франция-Великобритания-Чехия', 'Румыния - Франция - Бельгия',\n",
       "       'Болгария - Франция - Изриль',\n",
       "       'Израиль - Германия - Польша - Бельгия - Франция - Люксембург',\n",
       "       'Россия, Германия, Франция, Бельгия', 'Индонезия',\n",
       "       'Франция - Португалия', 'Великобритания - Пуэрто-Рико',\n",
       "       'СССР, ФРГ, Западный Берлин', 'Россия, Республика Беларусь',\n",
       "       'США, Великобритания', 'Франция - Австрия', 'Бельгия-Нидерланды',\n",
       "       'Великобритания - США - Индия', 'США - Великобритания - Австралия',\n",
       "       'Канада - Франция - США - ОАЭ - Великобритания',\n",
       "       'США - Австралия - Франция',\n",
       "       'Дания-Франция-Бельгия-Германия-Великобритания',\n",
       "       'Испания - Аргентина', 'Исландия - Финляндия',\n",
       "       'Россия-Польша-Голландия-Словакия', 'Дания - Германия - Швеция',\n",
       "       'Южная Корея - США - Канада', 'Таиланд', 'США-Мальта',\n",
       "       'США -Германия',\n",
       "       'Великобритания - Германия - Франция - Кипр - США', 'Мексика',\n",
       "       'США - Великобритания - Ирландия', 'США - Украина',\n",
       "       'США - Финляндия - Испания - Великобритания - Франция',\n",
       "       'Австралия-Великобритания',\n",
       "       'США - Канада - Афганистан - Бельгия - Франция',\n",
       "       'США - Великобритания - Германия - Новая Зеландия - Бельгия - Франция',\n",
       "       'Франция-Канада',\n",
       "       'Ирландия - Финляндия - Бельгия - Великобритания - США - Швейцария',\n",
       "       'Малайзия - США', 'Германия - Италия',\n",
       "       'США - Франция - Бельгия - Италия', 'Франция - Ирландия - Швеция',\n",
       "       'Азербайджан-Россия', 'Великобритания - Италия - Швейцария',\n",
       "       'США - Германия - Великобритания',\n",
       "       'Германия - Бельгия - США -Франция', 'США-Китай', 'Чили - Испания',\n",
       "       'Франция - Швейцария', 'Канада - Испания',\n",
       "       'США - Румыния - Великобритания', 'США - Япония',\n",
       "       'США - Россия - Франция', 'Франция-США', 'Парагвай',\n",
       "       'Германия - Канада', 'США - Канада - Великобритания',\n",
       "       'Финляндия - Канада', 'Уругвай-Мексика-Германия ', 'США - Чили',\n",
       "       'Германия - Аргентина - Нидерланды - Чили',\n",
       "       'США - Канада - Индонезия', 'Армения - Казахстан', 'Финляндия',\n",
       "       'Испания - Италия - Франция',\n",
       "       'Бельгия - Испания - Канада - Нидерланды',\n",
       "       'Великобритания - Франция - Швеция - Бельгия',\n",
       "       'Мексика - Эквадор - Канада - США - Франция - Малайзия - Италия - Аргентина - Германия - Индия  ',\n",
       "       'Франция - Бенльгия', 'Индия - Великобритания',\n",
       "       'Япония - Великобритания - Франция',\n",
       "       'Испания - Уругвай - Аргентина',\n",
       "       'Франция - Италия - Бельгия - Люксембург',\n",
       "       'Франция - Украина - Грузия - Армения',\n",
       "       'Сербия - Германия - Венгрия', 'Франция-Польша', 'Франция ',\n",
       "       'Румыния-США', 'Россия-Азербайджан',\n",
       "       'США - Нидерланды - Бельгия - Венгрия - Греция - Канада',\n",
       "       'Германия - Франция - Люксембург', 'США - Россия',\n",
       "       'Великобритания - США - Франция', 'США - Австралия - Дания',\n",
       "       'Бельгия-Франция', 'США-Мексика',\n",
       "       'Норвегия - Азербайджан - Россия - Колумбия - Великобритания - Венгрия - Румыния - Франция - Грузия',\n",
       "       'СЩА', 'Бразилия - Испания', 'Россия, Франция, Латвия',\n",
       "       'Нидерланды - США - Германия - Канада - Франция - Ирландия - Великобритания',\n",
       "       'Уругвай - Колумбия', 'США - Испания - Болгария',\n",
       "       'Армения - Германия', 'США - Великобритания- Франция - Швеция',\n",
       "       'США - Мексика', 'Австралия-Турция-США', 'Швеция - Германия',\n",
       "       'Польша - Италия - Россия', 'Франция - Бразилия',\n",
       "       'США - Канада - КНР', 'СССР, Венгрия, ЧССР, ГДР',\n",
       "       'Бельгия - Германия - Люксембург', 'СССР  ', 'СССР ', ' СССР ',\n",
       "       'США - Австралия', 'Бразилия - США',\n",
       "       'США - Великобритания - Канада - КНР', 'Франция - Чили',\n",
       "       'Франция - США - Великобритания - Колумбия - Бельгия - Россия',\n",
       "       'Дания - Великобритания - ЮАР', 'СССР   ',\n",
       "       'Россия-США-Канада-Люксембург', 'Россия - Республика Кипр',\n",
       "       'Германия - США - Швеция - Франция',\n",
       "       'Великобритания-Германия-Канада-ЮАР', ' СССР   ', 'СССР     ',\n",
       "       'Ирландия, Канада',\n",
       "       'Япония - Великобритания - Швейцария - Ирландия - Дания - Франция - Польша - Австралия - Канада  ',\n",
       "       'Великобритания, Канада', 'Бельгия - США',\n",
       "       'Великобритания - США - Россия', 'Россия-Украина',\n",
       "       'Германия - США - Великобритания - Израиль', 'Канада - Германия',\n",
       "       'США- Ю.Корея', 'Индия - Мексика',\n",
       "       'Великобритания - Франция - Республика Кипр - Швейцария - США - Сербия',\n",
       "       'Испания - Аргентина - Индия - США',\n",
       "       'Норвегия - Исландия - США - Великобритания ',\n",
       "       'Турция - Германя - Франция', 'Германия - Великобритания',\n",
       "       'Австралия - Германия', 'Мексика - Испания',\n",
       "       'Великобритания - США - Германия - Бельгия',\n",
       "       'США - Чехия - Франция', 'Россия - Италия', 'Франция-Россия',\n",
       "       'Норвегия - Дания - Швеция', 'Франция - Швейцария - Германия',\n",
       "       'Грузия - Украина', 'Россия - Эстония - Финляндия - Беларусь',\n",
       "       'США - Франция - ЮАР', 'Великобритания - США - Швейцария',\n",
       "       'Канада-США', 'Мексика - Нидерланды - Германия - Франция',\n",
       "       'США - Испания - Франция', 'США - Великобритания - КНР',\n",
       "       'США-Франция-Канада',\n",
       "       'Япония, Великобритания, Австрия, Германия, Ю.Корея',\n",
       "       'Великобритания - Ирландия - США', 'Бельгия - Италия - Франция ',\n",
       "       'Швейцария-Германия-ЮАР', 'Великобритания - США - Германия',\n",
       "       'Германия - Исландия', 'Испания - США', 'СССР    ', 'Хорватия',\n",
       "       'Финляндия - Исландия - Швеция',\n",
       "       'Канада - США - Германия - Франция',\n",
       "       'США - Великобритания - Испания', 'Ирландия-Великобритания',\n",
       "       'Аргентина - Испания', 'Австрия - Германия', ' СССР',\n",
       "       'Германия - Швейцария - Франция - Южная Корея - США',\n",
       "       'Украина - Нидерланды', 'Венгрия - Германия - Швеция',\n",
       "       'Германия - Франция -  Польша - Турция - Канада - Италия - Россия ',\n",
       "       'СССР, Афганистан', 'СССР, Монголия', 'Россия-Кипр',\n",
       "       'Россия, Грузия, Испания',\n",
       "       'Великобритания - Нидерланды - Германия - Франция - Бельгия - Австрия ',\n",
       "       'Испания - Великобритания - Франция',\n",
       "       'Дания - Норвегия - Великобритания',\n",
       "       'Бельгия - Франция - Люксембург',\n",
       "       'Италия - Франция - Швейцария - Великобритания',\n",
       "       'Франция - Бельгия - Великобритания - Испания - Германия - США',\n",
       "       'Швейцария - Израиль - Франция - Великобритания',\n",
       "       'Великобритания - США - Канада - Нидерланды - Франция',\n",
       "       'Россия, Италия', 'СССР, Албания',\n",
       "       'Россия, Украина, Республика Беларусь, Литва',\n",
       "       'Финляндия - Великобритания - Германия', 'Россия, Украина, Польша',\n",
       "       'Франция - Италия - Бельгия - КНР',\n",
       "       'Германия - Бельгия - Люксембург - Ирландия', 'КНР - Сингапур',\n",
       "       'Франция - Бельгия - Великобритания - США - Нидерланды - Канада',\n",
       "       'США - Россия - Польша - Германия - Пуэрто Рико',\n",
       "       'Франция - Бельгия - Канада', 'США ', 'Мексика - США',\n",
       "       'США - Гонконг - КНР ', 'Греция - Россия',\n",
       "       'Ирландия - Дания - Бельгия - Люксембург - Франция',\n",
       "       'Эстония - Россия',\n",
       "       'Великобритания - Исландия - Испания - Швейцария - США',\n",
       "       'Австралия - Великобритания - Бельгия - Индия',\n",
       "       'Швеция - Германия - Франция - Норвегия',\n",
       "       'Нидерланды - Бельгия - Германия - Ирландия',\n",
       "       'Нидерланды - Великобритания - Бельгия',\n",
       "       'США - Колумбия - Испания', 'Франция-Испания-Бельгия-Панама',\n",
       "       'США-Великобритания-Чехия-Румыния',\n",
       "       'Аргентина - Уругвай - Россия - Германия - Франция - Нидерланды',\n",
       "       'Швеция - Франция - Норвегия - Дания',\n",
       "       'Италия-Франция-Великобритания', 'Великобритания, Франция',\n",
       "       'Австралия, США', 'Венесуэла',\n",
       "       'Великобритания - США - Австралия - Ирландия - Германия - Куба - Канада',\n",
       "       'Южная Корея - КНР',\n",
       "       'Аргентина - Мексика - Бразилия - Франция - США', 'Швеция - США',\n",
       "       'Франция - Германия - Турция - Катар', 'Франция-Китай',\n",
       "       'Россия, Германия, Великобритания',\n",
       "       'Великобритания - Италия - Испания', 'Италия - Россия',\n",
       "       'Япония - КНР - Южная Корея', 'Россия, Германия',\n",
       "       'Россия-Ирландия', 'Македония - Франция - Великобритания',\n",
       "       'Франция - Бразилия - Италия', 'Россия-США', 'Армения-Россия',\n",
       "       'Россия, Румыния', 'Франция -  Бельгия', 'Грузия-Франция',\n",
       "       'ЮАР - США', 'Великобритания-США-Франция',\n",
       "       'Великобритания - США - Германия - Канада - Австралия',\n",
       "       'США-Ирландия', 'Россия, Республика Кипр',\n",
       "       'Германия - Люксембург - Франция', 'Россия-Франция',\n",
       "       'США - Нидерланды - Финляндия - Великобритания - Италия',\n",
       "       'Республика Кипр', 'Венгрия', 'Франция - США - Норвегия - Дания',\n",
       "       'Германия - Австрия - Ирландия', 'США - Финляндия',\n",
       "       'Италия-Великобритания', 'Россия, Испания',\n",
       "       'США - Великобритания - Болгария', 'Великобритания - Люксембург',\n",
       "       'Индия - США', 'США - Канада - Россия - Франция - Чили - Ирландия',\n",
       "       'Грузия-Россия',\n",
       "       'Дания - Австрия - Ирландия - Финляндия - Норвегия - Швеция - Нидерланды',\n",
       "       'США-КНР', 'Грузия', 'Австралия - Ирландия',\n",
       "       'Великобритания - Канада', 'Италия - Аргентина - Словения ',\n",
       "       'Испания - Франция - Нидерланды - Германия - Бельгия - Великобритания - Канада',\n",
       "       'Франция - Чехия - Бельгия',\n",
       "       'Великобритания - Франция - Германия - США',\n",
       "       'Ирландия - Великобритания - Франция - США - Германия - Нидерланды',\n",
       "       'США - Канада - Япония - КНР', 'Италия-Франция',\n",
       "       'США - Великобритания - Исландия', 'Великобритания-Франция',\n",
       "       'Франция - Германия - Нидерланды', 'Иран ',\n",
       "       'Франция - Германия - Швеция - США - Чехия - Словакия - Великобритания - Нидерланды',\n",
       "       'Франция - Канада - Н.Зеландия - США - Нидерланды - Германия - Швеция - Россия',\n",
       "       'Турция - США',\n",
       "       'Великобритания - США - Канада - Бельгия - Нидерланды - Австрия - Германия',\n",
       "       'Израиль - Франция - Германия - Палестина - США - Австрия - Великобритания',\n",
       "       'Аргентина - Франция - Испания', 'СССР, Россия',\n",
       "       'Великобритания - Франция - Италия - Индия - Дания - КНР - Бангладеш - Камбоджа - Гаити - Уганда',\n",
       "       'Италия - Франция - Швейцария',\n",
       "       'Ирландия - Великобритания - Канада', 'Перу', 'США - Норвегия',\n",
       "       'Испания-Канада', 'Китай-Гонконг', 'США - Германия - КНР',\n",
       "       'Великобритания - Новая Зеландия',\n",
       "       'Франция - Дания - Швеция - КНР',\n",
       "       'США - Великобритания - Германия - Бельгия - Дания',\n",
       "       'США - Франция - Канада - Германия - Австралия - Индия', 'unknown',\n",
       "       'СССР, Румыния, Франция', 'СССР, ГДР', 'Австралия-Ирландия',\n",
       "       'США - Китай', 'Великобритания - Франция - Австрия - Швеция',\n",
       "       'Россия, Таджикистан', 'Нидерланды - Бельгия - Болгария',\n",
       "       'Великобритания - Канада - США', 'Франция - Бельгия - Испания',\n",
       "       'Китай-Гонконг-США', 'Франция - Великобритания', 'США - Вьетнам',\n",
       "       'США - Германия - Франция', 'Германия - Франция - Бельгия',\n",
       "       'США - Италия',\n",
       "       'Германия - Дания - Испания - Швеция - Канада - Эстония - Франция',\n",
       "       'Княжество Андорра - Украина', 'Германия - Люксембург - Бельгия',\n",
       "       'Великобритания - Россия - Украина - США',\n",
       "       'Германия - Бельгия - Люксембург - Норвегия',\n",
       "       'США - Австралия - Новая Зеландия - Великобритания',\n",
       "       'США - Франция - Канада - Великобритания', 'Испания-Колумбия',\n",
       "       'Великобритания - Чехия - Франция', 'Россия, Украина', 'Исландия',\n",
       "       'Великобритания - Франция - Венгрия',\n",
       "       'Россия, Франция, Германия, Бельгия', 'Франция - Македония',\n",
       "       'Нидерланды - Франция - Германия - Бельгия - Швеция - Великобритания',\n",
       "       'Испания - США - Великобритания - Канада', 'Германия - Австрия',\n",
       "       'Республика Казахстан',\n",
       "       'Франция - Испания - Дания - Венгрия - Швейцария', 'Франция-КНР',\n",
       "       'США - Пуэрто-Рико - Франция ', 'Мексика - Тайвань - США',\n",
       "       'Великобритания - Испания - Непал - Индия - Венгрия - Гонконг - Германия - Дания - Бахрейн',\n",
       "       'Великобритания - Аргентина - США - Франция - Россия - Испания',\n",
       "       'КНР - США', 'Италия - США', 'Финляндия - Швеция - Германия',\n",
       "       'Канада- Испания', 'Франция - Бельгия - Чехия',\n",
       "       'Франция-Бельгия-Канада', 'Франция - Германия - США',\n",
       "       'США - Дания', 'Индия - КНР', 'Чехия-Великобритания-США',\n",
       "       'США-ФРГ-Россия', 'Ирландия-Нидерланды-Франция-США-Великобритания',\n",
       "       'Россия, Грузия, Хорватия, Испания',\n",
       "       'Финляндия - Швеция - Норвегия', 'Сербия - Великобритания - США',\n",
       "       'США - Великобритания - Франция - Гонконг', 'Швейцария - Франция',\n",
       "       'Швейцария - Великобритания', 'ОАЭ - США',\n",
       "       'США - Франция - Германия - Канада - Австралия ',\n",
       "       'Германия - Австралия', 'Иран, Франция',\n",
       "       'США - Великобритания - Новая Зеландия', 'США-Колумбия',\n",
       "       'США-Франция-Ирландия', 'Великобритания - Франция - Бельгия',\n",
       "       'США - Великобритания - Япония', 'США - Франция - Германия',\n",
       "       'Польша - Ирландия', 'Ирландия - Великобритания - Франция - США',\n",
       "       'США - Бельгия - Великобритания', 'СССР, ВНР',\n",
       "       'Испания - Франция - США - Великобритания - Бельгия',\n",
       "       'Франция - Дания - США', 'США - Гонконг', 'Бразилия - К;анада',\n",
       "       'Франция-Германия', 'США - Колумбия',\n",
       "       'США - Ирландия - Великобритания - Франция',\n",
       "       'Великобритания - США - Канада', 'Польша - Франция',\n",
       "       'Канада - США - Нидерланды - Великобритания - Аргентина',\n",
       "       'Великобритания - Дания', 'Франция - Бельгия - Япония',\n",
       "       'Россия,  Испания', 'Франция -Бельгия',\n",
       "       'США - Канада - Германия - Франция', 'США-Канада-Франция',\n",
       "       'Россия - Германия', 'Россия-Италия', 'Китай - Гонконг',\n",
       "       'Германия-Австрия-Франция-Италия', 'США-Япония',\n",
       "       'США - Германия - Канада', 'Испания-Мексика',\n",
       "       'США - Япония - Канада - Великобритания - Германия - Франция',\n",
       "       'США -Великобритания - Австралия', 'Россия-Украина-Германия',\n",
       "       'Израиль - Франция - Великобритания - Германия', 'Корея',\n",
       "       'Россия - Болгария', 'США-Индия',\n",
       "       'Германия-Канада-Франция-Бельгия', 'Германия-Кения',\n",
       "       'Франция - Монако', 'Франция-Испания-Швейцария',\n",
       "       'Австрия-Франция-Германия', 'Румыния',\n",
       "       'США-Великобритания-Франция', 'Канада-Великобритания',\n",
       "       'Канада-Бразилия-Япония', 'Германия - Дания - Норвегия',\n",
       "       'Дания - Германия', 'СССР - Италия',\n",
       "       'СССР - ГДР - Польша - Италия',\n",
       "       'США - Испания - Франция - Великобритания', 'Китай',\n",
       "       'Мексика-Аргентина',\n",
       "       'Германия - Великобритания - Италия - Испания',\n",
       "       'Франция-Германия-Великобритания', 'Россия - Германия - Швейцария',\n",
       "       'Франция-Австралия', 'Голландия', 'Швейцария-Франция',\n",
       "       'Россия-Белоруссия', 'Франция - Испания - Тайвань',\n",
       "       'США-Южная Корея-Новая Зеландия', 'Великобритания-Венгрия',\n",
       "       'Россия-Германия', 'Великобритания-Франция-Германия',\n",
       "       'Франция-Германия-Италия', 'Швеция-Финляндия-Франция-Норвегия',\n",
       "       'Франция-Италия', 'Германия-Израиль',\n",
       "       'Швеция - Германия - Дания - Норвегия', 'США-Бельгия',\n",
       "       'Франция-Гонконг-Ирландия', 'Эстония', 'Литва-Россия-Украина',\n",
       "       'Германия - Италия - Франция',\n",
       "       'Великобритания - Австрия - Германия', 'Бельгия - Франция',\n",
       "       'Россия-Казахстан', 'Испания - Мальта',\n",
       "       'Франция-Россия-Румыния-Италия-Бельгия', 'Россия - Польша',\n",
       "       'Испания - Мексика', 'США-Аргентина', 'Великобритания ',\n",
       "       'Израиль-США-Франция', 'США - Новая Зеландия - Япония',\n",
       "       'Франция - Чехия - Великобритания', 'Россия-Польша',\n",
       "       'Германия-Франция-Великобритания', 'США-Германия-Канада',\n",
       "       'США-Гонконг-Китай', 'США - Великобритания - Германия',\n",
       "       'США-Канада-Австралия', 'Япония-США-Франция',\n",
       "       'Франция-Испания-Германия', 'США - Хорватия - Босния-Герцеговина',\n",
       "       'Великобритания - Чехия - Франция - Италия',\n",
       "       'США - Германия - Нидерланды', 'Германия - Франция - Канада',\n",
       "       'Франция-Грузия-Германия-Россия-Украина-Бельгия',\n",
       "       'Великобритания - Франция - Италия', 'Россия - США',\n",
       "       'Франция - Италия - Иран', 'Россия - Азербайджан', 'Греция',\n",
       "       'Дания - США', 'США-Великобритания-Новая Зеландия',\n",
       "       'США-Германия-Австралия', 'США-Канада-Италия',\n",
       "       'США - Япония - Германия', 'Австралия-США',\n",
       "       'Франция - Великобритания - Багамские острова - США',\n",
       "       'Швейцария - Люксембург', 'Швейцария - Австрия',\n",
       "       'Германия - Швейцария', 'Дания-Швеция-Франция-Германия', 'Польша',\n",
       "       'Швейцария-Австрия', 'Бразилия - Канада - США',\n",
       "       'Нидерланды - Россия', 'Португалия', 'Франция-Аргентина',\n",
       "       'Швеция-Франция', 'Франция-Украина', 'Германия-Украина-Нидерланды',\n",
       "       'Италия-Швейцария', 'США-Германия-Великобритания',\n",
       "       'Латвия - Россия', 'Германия-Франция-Великобритания-США',\n",
       "       'Канада - Италия', 'США - Объединенные Арабские Эмираты',\n",
       "       'США-Венгрия', 'Малайзия', 'Россия - Германия - Украина',\n",
       "       'США - Австралия - Мексика', 'Литва - Венгрия', 'Германия - Китай',\n",
       "       'Казахстан', 'Республика Корея',\n",
       "       'США - Германия - Франция - Великобритания - Канада ',\n",
       "       'Бельгия - Германия - Люксембург - Франция', 'Франция - Греция',\n",
       "       'Италия - Канада', 'США - Великобритания - Франция',\n",
       "       'США-Италия-Греция', 'Германия - США - Великобритания - Ирландия',\n",
       "       'Великобритания - Франция - Германия',\n",
       "       'Германия - Нидерланды - ЮАР',\n",
       "       'США-Япония-Германия-Великобритания-Нидерланды',\n",
       "       'США-Япония-Германия-Великобритания',\n",
       "       'Германия - Франция - Польша',\n",
       "       'Таиланд-Великобритания-Франция-Германия-Испания-Нидерланды',\n",
       "       'Германия-Италия-Швейцария',\n",
       "       'Дания - Швеция - Великобритания - Франция - Германия - Нидерланды - Норвегия - Финляндия',\n",
       "       'Франция - Великобритания - Нидерланды - Люксембург',\n",
       "       'Нидерланды-Великобритания-Франция-Италия-Япония',\n",
       "       'Финляндия-Дания-Германия-Ирландия', 'Испания-Аргентина',\n",
       "       'Великобритания - Нидерланды - Франция - США', 'Канада - Мексика',\n",
       "       'США, Франция', 'Канада-Южная Корея-США',\n",
       "       'Великобритания - Франция - Бельгия - США', 'КНР - Канада - США',\n",
       "       'Италия - Франция - Германия',\n",
       "       'Швеция - Германия - Франция - Дания', 'Франция - США - Бельгия',\n",
       "       'Украина - Германия - Латвия - Эстония', 'Австрия - Люксембург',\n",
       "       'Великобритания - КНР', 'Монголия', 'Франция - Дания',\n",
       "       'Швеция - Дания - Финляндия',\n",
       "       'Сингапур - Великобритания - Индонезия - Канада - США',\n",
       "       'США - Германия - Япония', 'Таиланд - США', 'Франция - Нидерланды',\n",
       "       'Великобритания - Румыния', 'США - Мальта',\n",
       "       'Великобритания - Германия - Нидерланды - Дания',\n",
       "       'Франция - Германия - Литва - Нидерланды - Россия',\n",
       "       'США - ЮАР - Гонконг', 'Австралия - Колумбия',\n",
       "       'Великобритания - Польша', 'США - Великобритания - Швеция',\n",
       "       'Франция - Швеция - Дания - Норвегия', 'Болгария - США',\n",
       "       'СССР, ФРГ', 'Бельгия - Нидерланды - Франция',\n",
       "       'Финляндия - Германия', 'Болгария',\n",
       "       'Грузия - Россия - Украина - Хорватия - Германия',\n",
       "       'Франция - Люксембург', 'Франция - Германия - Австрия',\n",
       "       'Норвегия - США', 'Германия-Швеция', 'Франция - Германия - Италия',\n",
       "       'Франция-Германия-Австрия', 'КНР-США',\n",
       "       'Великобритания - Ирландия - США ',\n",
       "       'Дания - Латвия - Россия - США', 'Финляндия - Польша',\n",
       "       'Германия - Бельгия', 'Германия - США - Франция - Испания',\n",
       "       'Бельгия-Германия-Канада-Франция-США-Великобритания',\n",
       "       'Нидерланды - Бельгия - Люксембург', 'Канада-Германия',\n",
       "       'Люксембург - Бельгия - Франция', 'США-Великобритания-Австралия',\n",
       "       'Великобритания, Новая Зеландия', 'Бельгия, Великобритания, США',\n",
       "       'Великобритания, Австралия', 'Исландия, Бельгия',\n",
       "       'Испания - Швейцария - Великобритания - Германия - Новая Зеландия - Нидерланды - Канада',\n",
       "       'Франция, Бельгия', 'Великобритания, США', 'Киргизия-Россия',\n",
       "       'Германия, США', 'Великобритания, США, Испания',\n",
       "       'Италия - Швейцария - Германия', 'Россия, Армения',\n",
       "       'Франция, Германия', 'Китай, Канада, США', 'Германия, Австралия',\n",
       "       'КНР, США', 'США, Великобритания, Люксембург',\n",
       "       'Испания, Ирландия, Бельгия, Франция',\n",
       "       'Великобритания - Гонконг - Венгрия - США - Ирландия',\n",
       "       'США - Пуэрто Рико', 'Аргентина - Испания - Уругвай',\n",
       "       'Израиль - Германия - Франция - Швейцария',\n",
       "       'Великобритания - Мексика - США', 'Испания - Болгария - США',\n",
       "       'Россия-Словакия-Чехия',\n",
       "       'Швейцария - КНР - США - Россия - Республика Корея - Великобритания',\n",
       "       'Россия, Нидерланды, Финляндия',\n",
       "       'Испания - Бельгия - Франция - Португалия - Великобритания',\n",
       "       'Бразилия - Португалия - Франция', 'Швеция - Норвегия',\n",
       "       'Франция - Польша - Бельгия', 'CША', 'Китай, США',\n",
       "       'Италия, Франция, Германия', 'Германия - Австрия - Франция',\n",
       "       'Чехия - Словакия - Хорватия', 'Россия, Польша, Финляндия',\n",
       "       'Россия, Латвия, Чешская Республика',\n",
       "       'Франция - Великобритания - Камбоджа - США - КНР',\n",
       "       'Чехия - Испания - США', 'Германия - Люксембург - Дания',\n",
       "       'Великобритания - Испания - Германия', 'Дания - Исландия',\n",
       "       'Германия, Франция, Великобритания',\n",
       "       'Великобритания - Испания - Италия - Латвия - Франция - Эстония',\n",
       "       'Дания, Швеция, Великобритания, Франция, Германия, Норвегия, Финляндия, Нидерланды, Италия',\n",
       "       'Польша - Франция - Великобритания',\n",
       "       'Дания, Норвегия, Венгрия, Чехия',\n",
       "       'Дания - Франция - Германия - Швеция',\n",
       "       'Великобритания, Швеция, США',\n",
       "       'Канада, Франция, Италия, Швейцария, США', 'США, Индия',\n",
       "       'США - Великобритания - Германия - - Швеция - Канада',\n",
       "       'Италия, Франция', 'Республика Беларусь, Германия, США, Россия',\n",
       "       'Италия-Швейцария-Франция-Германия ',\n",
       "       'Россия - Франция - Великобритания - Латвия', 'Россия-Беларусь',\n",
       "       'Франция - Испания - Румыния - США - Бельгия', 'Италия-США',\n",
       "       'Россия, Австрия', 'Ирландия - Великобритания - США',\n",
       "       'Швейцария, Великобритания, Франция, США, Ирландия',\n",
       "       'Мексика, Франция, Германия, Дания, Швеция', 'Нидерланды, Бельгия',\n",
       "       'Швеция, Норвегия, Финляндия, Франция', 'Испания, Франция, Италия',\n",
       "       'Испания-Франция-Греция-Индия-США-Россия-Великобритания',\n",
       "       'Великобритания - Япония - США',\n",
       "       'Дания, Канада, Норвегия, Австралия, США', 'Аргентина, Испания',\n",
       "       'Россия, Германия, Казахстан, Польша, Китай',\n",
       "       'Португалия, Франция, Польша, США', 'США - Канада - Аргентина',\n",
       "       'Ливан-США', 'Япония - США', 'США, Гонконг ',\n",
       "       'Франция - Россия - Швейцария - Румыния - Венгрия',\n",
       "       'Аргентина-Испания', 'Россия, Сербия', 'США - Болгария - Мексика',\n",
       "       'США - Великобритания - Швейцария - Франция',\n",
       "       'Таиланд - КНР - США',\n",
       "       'Великобритания, Нидерланды, Польша, Швейцария, Франция',\n",
       "       'Ирландия - США',\n",
       "       'Германия - Франция - Великобритания - Польша - США',\n",
       "       'Великобритания-Франция-Италия', 'США - Австралия - Индия',\n",
       "       'Франция - КНР', 'Великобритания - Израиль',\n",
       "       'Великобритания - Норвегия - Кения - Хорватия',\n",
       "       'США - Бразилия - Великобритания - Канада', 'Германия, Бельгия',\n",
       "       'Австралия, Канада', 'США, Великобритания, Франция',\n",
       "       'Кения, Германия', 'Нидерланды, Бельгия, Люксембург', 'Колумбия',\n",
       "       'Латвия - Франция', 'Ирландия, Великобритания',\n",
       "       'Франция - Израиль - Германия', 'Швеция, Франция, Великобритания',\n",
       "       'Бельгия - Люксембург', 'Германия - Бельгия - Великобритания',\n",
       "       'Испания, Франция, Великобритания, Дания, Бельгия, Германия',\n",
       "       'Румыния, ЮАР, Иран, Франция, Канада, Великобритания',\n",
       "       'Германия, Франция', 'США, Япония',\n",
       "       'США, Великобритания, Ирландия, Люксембург', 'Республика Армения',\n",
       "       'США, Франция, Япония', 'Япония, США', 'Канада, США',\n",
       "       'Республика Кипр - Россия',\n",
       "       'Дания - Франция - Италия - Бельгия - Нидерланды',\n",
       "       'Россия - Грузия', 'Италия, Германия', 'Норвегия, Швеция, Дания',\n",
       "       'Республика Кипр, Россия', 'КНР, Индия, Гонконг, США',\n",
       "       'Израиль, Украина', 'США, Россия', 'США - КНР - Индия - Ю.Корея',\n",
       "       'США - Швеция', 'Франция, Канада', 'Россия-Китай',\n",
       "       'Канада, Великобритания', 'США, Германия',\n",
       "       'Канада, США, Каймановы острова',\n",
       "       'Бразилия, Уругвай, Дания, Норвегия, Чили, Швеция',\n",
       "       'Пуэрто-Рико, Великобритания, США',\n",
       "       'Уругвай - Аргентина - Испания',\n",
       "       'США - Великобритания - Италия - Израиль - Сербия - Индия',\n",
       "       'США - Канада - Франция - Индия', 'Великобритания - Россия - КНР',\n",
       "       'Франция, Новая Зеландия', 'Франция, Люксембург, Бельгия',\n",
       "       'Канада, США, Норвегия', 'Италия, Испания',\n",
       "       'Испания - Германия - Нидерланды', 'Бразилия - США - КНР ',\n",
       "       'Великобритания, Германия, Дания, США', '2019',\n",
       "       'Италия - Фрация - Бразилия - Германия',\n",
       "       'Норвегия - Швеция - Россия', 'Великобритания, Япония, США',\n",
       "       'Сша, Канада', 'Бельгия, Канада',\n",
       "       'Великобритания - Австралия - США', 'США, Канада', 'КНР - США ',\n",
       "       'Франция - Финляндия', 'Колумбия - США',\n",
       "       'Великобритания, Франция, Бельгия', 'Норвегия - Нидерланды',\n",
       "       'Великобритания, Канада, США', 'Япония, Великобритания',\n",
       "       'Италия - Бельгия - Франция', 'Россия, Бельгия, Финляндия',\n",
       "       'США, Украина', 'Франция, Норвегия',\n",
       "       'Великобритания, Южная Корея, Канада, США, Индия, Китай, Япония',\n",
       "       'Канада - Норвегия', 'Республика Кипр-Россия', 'Германия, Россия',\n",
       "       'Польша - Франция - Испания - Бразилия - Швеция',\n",
       "       'Австрия, Великобритания, Германия', 'Франция - Сенегал - Бельгия',\n",
       "       'Франция, Бельгия, Люксембург', 'Финляндия, Латвия', 'Пакистан',\n",
       "       'Германия, Франция, США', 'Германия - Великобритания - США',\n",
       "       'КНР - Франция', 'Дания, Норвегия, Швеция, Исландия',\n",
       "       'Республика Кипр, США, Россия', 'Новая Зеландия - КНР',\n",
       "       'Дания - Канада - Швеция - Франция - Германия - Великобритания - США'],\n",
       "      dtype=object)"
      ]
     },
     "execution_count": 35,
     "metadata": {},
     "output_type": "execute_result"
    }
   ],
   "source": [
    "data['production_country'].unique()"
   ]
  },
  {
   "cell_type": "markdown",
   "metadata": {},
   "source": [
    "Проверим значения в столбце с указание стран производителей "
   ]
  },
  {
   "cell_type": "code",
   "execution_count": 36,
   "metadata": {},
   "outputs": [],
   "source": [
    "data['production_country'] = data['production_country'].str.strip()"
   ]
  },
  {
   "cell_type": "markdown",
   "metadata": {},
   "source": [
    "Удалим встречающиеся подряд пробелы"
   ]
  },
  {
   "cell_type": "code",
   "execution_count": 37,
   "metadata": {},
   "outputs": [
    {
     "data": {
      "text/plain": [
       "array(['Кевин Костнер', 'Е.Матвеев', 'Тимур Бекмамбетов', ...,\n",
       "       'Ник Пауэлл', 'А.Беляев', 'И.Трусов'], dtype=object)"
      ]
     },
     "execution_count": 37,
     "metadata": {},
     "output_type": "execute_result"
    }
   ],
   "source": [
    "data['director'].unique()"
   ]
  },
  {
   "cell_type": "markdown",
   "metadata": {},
   "source": [
    "Посмотрим на значения в столбце фио режиссера, тут проблем с данными нет"
   ]
  },
  {
   "cell_type": "code",
   "execution_count": 38,
   "metadata": {},
   "outputs": [
    {
     "data": {
      "text/plain": [
       "array(['Дэвид Валдес, Кевин Костнер, Джейк Эбертс', 'unknown',\n",
       "       'Джим Лемли, Джейсон Нетер, Марк Е.Платт, Яйн Смит', ...,\n",
       "       'Поппи Бегум, Ник Пойнц',\n",
       "       'Джефф Боулер, Дэниэл Гродник, Луильо Руис, Брэт Саксон, Кирк Шоу',\n",
       "       'Дженнифер Додж'], dtype=object)"
      ]
     },
     "execution_count": 38,
     "metadata": {},
     "output_type": "execute_result"
    }
   ],
   "source": [
    "data['producer'].unique()"
   ]
  },
  {
   "cell_type": "markdown",
   "metadata": {},
   "source": [
    "Посмотрим на значения в столбце фио продюсера, тут проблем с данными нет, оставляем как есть"
   ]
  },
  {
   "cell_type": "code",
   "execution_count": 39,
   "metadata": {},
   "outputs": [
    {
     "data": {
      "text/plain": [
       "array(['unknown', 'Министерство культуры', 'Фонд кино',\n",
       "       'Министерство культуры, Фонд кино'], dtype=object)"
      ]
     },
     "execution_count": 39,
     "metadata": {},
     "output_type": "execute_result"
    }
   ],
   "source": [
    "data['financing_source'].unique()"
   ]
  },
  {
   "cell_type": "markdown",
   "metadata": {},
   "source": [
    "Посмотрим на значения в столбце с источником финансирования, тут проблем с данными нет"
   ]
  },
  {
   "cell_type": "markdown",
   "metadata": {
    "id": "XFSN5lrEgFyR"
   },
   "source": [
    "#### Шаг 2.5. Проверьте количественные значения\n",
    "\n",
    "- Проверьте, обнаружились ли в таких столбцах подозрительные данные. Как с такими данными лучше поступить?\n",
    "\n",
    "<div id=\"accordion\">\n",
    "    <div class=\"card\">\n",
    "        <div class=\"card-header\" id=\"headingThree\">\n",
    "            <button class=\"btn btn-link collapsed\" data-toggle=\"collapse\" data-target=\"#collapseHint_budget\" aria-expanded=\"false\" aria-controls=\"collapseHint_budget\">Подсказка</button>\n",
    "        </div>\n",
    "        <div id=\"collapseHint_budget\" class=\"collapse\" aria-labelledby=\"headingThree\" data-parent=\"#accordion\">\n",
    "            <div class=\"card-body\">\n",
    "Обратите внимание на описание столбца <code>budget</code>. Как этот столбец соотносится с двумя другими: <code>refundable_support</code> и <code>nonrefundable_support</code>?\n",
    "            </div>\n",
    "        </div>\n",
    "    </div>\n",
    "</div>"
   ]
  },
  {
   "cell_type": "code",
   "execution_count": 40,
   "metadata": {
    "scrolled": true
   },
   "outputs": [
    {
     "data": {
      "text/html": [
       "<div>\n",
       "<style scoped>\n",
       "    .dataframe tbody tr th:only-of-type {\n",
       "        vertical-align: middle;\n",
       "    }\n",
       "\n",
       "    .dataframe tbody tr th {\n",
       "        vertical-align: top;\n",
       "    }\n",
       "\n",
       "    .dataframe thead th {\n",
       "        text-align: right;\n",
       "    }\n",
       "</style>\n",
       "<table border=\"1\" class=\"dataframe\">\n",
       "  <thead>\n",
       "    <tr style=\"text-align: right;\">\n",
       "      <th></th>\n",
       "      <th>title</th>\n",
       "      <th>puNumber</th>\n",
       "      <th>show_start_date</th>\n",
       "      <th>type</th>\n",
       "      <th>film_studio</th>\n",
       "      <th>production_country</th>\n",
       "      <th>director</th>\n",
       "      <th>producer</th>\n",
       "      <th>age_restriction</th>\n",
       "      <th>refundable_support</th>\n",
       "      <th>nonrefundable_support</th>\n",
       "      <th>budget</th>\n",
       "      <th>financing_source</th>\n",
       "      <th>ratings</th>\n",
       "      <th>genres</th>\n",
       "      <th>box_office</th>\n",
       "    </tr>\n",
       "  </thead>\n",
       "  <tbody>\n",
       "    <tr>\n",
       "      <th>2053</th>\n",
       "      <td>14+</td>\n",
       "      <td>111023614</td>\n",
       "      <td>2014-12-19 12:00:00+00:00</td>\n",
       "      <td>Художественный</td>\n",
       "      <td>ООО Киностудия  \"Сентябрь\"</td>\n",
       "      <td>Россия</td>\n",
       "      <td>А.Зайцев</td>\n",
       "      <td>О.Гранина, А.Зайцев</td>\n",
       "      <td>16+</td>\n",
       "      <td>0.0</td>\n",
       "      <td>23,000,000.0</td>\n",
       "      <td>0.0</td>\n",
       "      <td>Министерство культуры, Фонд кино</td>\n",
       "      <td>6.6</td>\n",
       "      <td>мелодрама</td>\n",
       "      <td>10,234,016.1</td>\n",
       "    </tr>\n",
       "    <tr>\n",
       "      <th>2058</th>\n",
       "      <td>Дуxless 2</td>\n",
       "      <td>111000415</td>\n",
       "      <td>2015-01-26 12:00:00+00:00</td>\n",
       "      <td>Художественный</td>\n",
       "      <td>ООО \"Киностудия \"Слово\", ООО \"Арт Пикчерс Студия\"</td>\n",
       "      <td>Россия</td>\n",
       "      <td>Р.Прыгунов</td>\n",
       "      <td>П.Ануров, Ф.Бондарчук, Д.Рудовский</td>\n",
       "      <td>16+</td>\n",
       "      <td>0.0</td>\n",
       "      <td>75,000,000.0</td>\n",
       "      <td>0.0</td>\n",
       "      <td>Фонд кино</td>\n",
       "      <td>6.6</td>\n",
       "      <td>драма</td>\n",
       "      <td>446,163,511.0</td>\n",
       "    </tr>\n",
       "    <tr>\n",
       "      <th>2472</th>\n",
       "      <td>Воин (2015)</td>\n",
       "      <td>111017315</td>\n",
       "      <td>2015-09-28 12:00:00+00:00</td>\n",
       "      <td>Художественный</td>\n",
       "      <td>ООО \"Форпост Продакшн\", ООО \"Арт Пикчерс Студия\"</td>\n",
       "      <td>Россия</td>\n",
       "      <td>А.Андрианов</td>\n",
       "      <td>ООО \"Арт Пикчерс Студия\"</td>\n",
       "      <td>12+</td>\n",
       "      <td>10,000,000.0</td>\n",
       "      <td>70,000,000.0</td>\n",
       "      <td>0.0</td>\n",
       "      <td>Фонд кино</td>\n",
       "      <td>7.8</td>\n",
       "      <td>боевик,драма,криминал</td>\n",
       "      <td>196,572,438.4</td>\n",
       "    </tr>\n",
       "    <tr>\n",
       "      <th>2532</th>\n",
       "      <td>Бармен.</td>\n",
       "      <td>111009615</td>\n",
       "      <td>2015-05-26 12:00:00+00:00</td>\n",
       "      <td>Художественный</td>\n",
       "      <td>АО \"ВайТ Медиа\", ООО \"Арт Пикчерс Студия\"</td>\n",
       "      <td>Россия</td>\n",
       "      <td>Д.Штурманова</td>\n",
       "      <td>Т.Вайнштейн</td>\n",
       "      <td>16+</td>\n",
       "      <td>20,000,000.0</td>\n",
       "      <td>0.0</td>\n",
       "      <td>0.0</td>\n",
       "      <td>Фонд кино</td>\n",
       "      <td>6.2</td>\n",
       "      <td>комедия,фэнтези</td>\n",
       "      <td>67,418,974.8</td>\n",
       "    </tr>\n",
       "    <tr>\n",
       "      <th>2615</th>\n",
       "      <td>Савва. Сердце воина</td>\n",
       "      <td>114001715</td>\n",
       "      <td>2015-07-21 12:00:00+00:00</td>\n",
       "      <td>Анимационный</td>\n",
       "      <td>ООО \"Глюкоза Продакшн\", ООО \"Арт Пикчерс Студия\"</td>\n",
       "      <td>Россия</td>\n",
       "      <td>М.Фадеев</td>\n",
       "      <td>А.Чистяков</td>\n",
       "      <td>6+</td>\n",
       "      <td>60,000,000.0</td>\n",
       "      <td>100,000,000.0</td>\n",
       "      <td>0.0</td>\n",
       "      <td>Фонд кино</td>\n",
       "      <td>4.6</td>\n",
       "      <td>мультфильм,приключения,фэнтези</td>\n",
       "      <td>184,487,551.4</td>\n",
       "    </tr>\n",
       "    <tr>\n",
       "      <th>2684</th>\n",
       "      <td>Тряпичный союз</td>\n",
       "      <td>111010215</td>\n",
       "      <td>2015-06-08 12:00:00+00:00</td>\n",
       "      <td>Художественный</td>\n",
       "      <td>ООО \"Кинокомпания \"КОКТЕБЕЛЬ\"</td>\n",
       "      <td>Россия</td>\n",
       "      <td>М.Местецкий</td>\n",
       "      <td>Р.Борисевич, А.Кушаев</td>\n",
       "      <td>18+</td>\n",
       "      <td>0.0</td>\n",
       "      <td>59,000,000.0</td>\n",
       "      <td>0.0</td>\n",
       "      <td>Фонд кино</td>\n",
       "      <td>6.3</td>\n",
       "      <td>комедия,драма</td>\n",
       "      <td>1,957,738.5</td>\n",
       "    </tr>\n",
       "    <tr>\n",
       "      <th>2788</th>\n",
       "      <td>Срочно выйду замуж</td>\n",
       "      <td>111017115</td>\n",
       "      <td>2015-09-30 12:00:00+00:00</td>\n",
       "      <td>Художественный</td>\n",
       "      <td>АО \"ВайТ Медиа\", ООО \"Арт Пикчерс Студия\"</td>\n",
       "      <td>Россия</td>\n",
       "      <td>С Чекалов</td>\n",
       "      <td>Ф.Бондарчук, Т.Вайнштейн, Д.Рудовский</td>\n",
       "      <td>16+</td>\n",
       "      <td>0.0</td>\n",
       "      <td>35,000,000.0</td>\n",
       "      <td>0.0</td>\n",
       "      <td>Фонд кино</td>\n",
       "      <td>5.1</td>\n",
       "      <td>комедия,мелодрама</td>\n",
       "      <td>72,937,783.2</td>\n",
       "    </tr>\n",
       "    <tr>\n",
       "      <th>2874</th>\n",
       "      <td>Помню - не помню!</td>\n",
       "      <td>111004916</td>\n",
       "      <td>2016-03-01 12:00:00+00:00</td>\n",
       "      <td>Художественный</td>\n",
       "      <td>ООО \"КиноФирма\"</td>\n",
       "      <td>Россия</td>\n",
       "      <td>В.Ровенский</td>\n",
       "      <td>ООО \"КиноФирма\"</td>\n",
       "      <td>12+</td>\n",
       "      <td>0.0</td>\n",
       "      <td>6,000,000.0</td>\n",
       "      <td>0.0</td>\n",
       "      <td>Министерство культуры</td>\n",
       "      <td>4.3</td>\n",
       "      <td>комедия</td>\n",
       "      <td>15,362,931.4</td>\n",
       "    </tr>\n",
       "    <tr>\n",
       "      <th>3047</th>\n",
       "      <td>Любовь с ограничениями</td>\n",
       "      <td>111008216</td>\n",
       "      <td>2016-04-29 12:00:00+00:00</td>\n",
       "      <td>Художественный</td>\n",
       "      <td>АО \"ВайТ Медиа\", ООО \"Арт Пикчерс Студия\"</td>\n",
       "      <td>Россия</td>\n",
       "      <td>Д.Тюрин</td>\n",
       "      <td>Ф.Бондарчук, Т.Вайнштейн, Д.Рудовский</td>\n",
       "      <td>16+</td>\n",
       "      <td>19,000,000.0</td>\n",
       "      <td>51,000,000.0</td>\n",
       "      <td>0.0</td>\n",
       "      <td>Фонд кино</td>\n",
       "      <td>6.3</td>\n",
       "      <td>комедия,мелодрама</td>\n",
       "      <td>70,299,052.0</td>\n",
       "    </tr>\n",
       "    <tr>\n",
       "      <th>3565</th>\n",
       "      <td>Притяжение (2016)</td>\n",
       "      <td>111018116</td>\n",
       "      <td>2016-12-16 12:00:00+00:00</td>\n",
       "      <td>Художественный</td>\n",
       "      <td>ООО \"Водород 2011\",  ООО \"Арт Пикчерс Студия\"</td>\n",
       "      <td>Россия</td>\n",
       "      <td>Ф.Бондарчук</td>\n",
       "      <td>ООО \"Арт Пикчерс Студия\"</td>\n",
       "      <td>12+</td>\n",
       "      <td>0.0</td>\n",
       "      <td>250,000,000.0</td>\n",
       "      <td>0.0</td>\n",
       "      <td>Фонд кино</td>\n",
       "      <td>5.6</td>\n",
       "      <td>фантастика</td>\n",
       "      <td>1,038,321,489.0</td>\n",
       "    </tr>\n",
       "    <tr>\n",
       "      <th>3675</th>\n",
       "      <td>Чудо-юдо</td>\n",
       "      <td>114001817</td>\n",
       "      <td>2017-06-27 12:00:00+00:00</td>\n",
       "      <td>Анимационный</td>\n",
       "      <td>ООО \"КиноФирма\"</td>\n",
       "      <td>Россия</td>\n",
       "      <td>А.Лукичев</td>\n",
       "      <td>ООО \"КиноФирма\"</td>\n",
       "      <td>6+</td>\n",
       "      <td>20,000,000.0</td>\n",
       "      <td>20,000,000.0</td>\n",
       "      <td>0.0</td>\n",
       "      <td>Фонд кино</td>\n",
       "      <td>5.2</td>\n",
       "      <td>мультфильм,фэнтези,семейный</td>\n",
       "      <td>55,108,014.8</td>\n",
       "    </tr>\n",
       "    <tr>\n",
       "      <th>3739</th>\n",
       "      <td>Мифы</td>\n",
       "      <td>111004317</td>\n",
       "      <td>2017-06-07 12:00:00+00:00</td>\n",
       "      <td>Художественный</td>\n",
       "      <td>ООО \"ХАЙПФИЛМ\", ООО \"Арт Пикчерс Студия\"</td>\n",
       "      <td>Россия</td>\n",
       "      <td>А.Молочников</td>\n",
       "      <td>Ф.Бондарчук, Д.Рудовский, И.Стюарт, М.Османн, ...</td>\n",
       "      <td>16+</td>\n",
       "      <td>25,000,000.0</td>\n",
       "      <td>20,000,000.0</td>\n",
       "      <td>0.0</td>\n",
       "      <td>Фонд кино</td>\n",
       "      <td>4.8</td>\n",
       "      <td>комедия</td>\n",
       "      <td>50,451,949.0</td>\n",
       "    </tr>\n",
       "    <tr>\n",
       "      <th>5673</th>\n",
       "      <td>Селфи</td>\n",
       "      <td>111012117</td>\n",
       "      <td>2018-02-01 12:00:00+00:00</td>\n",
       "      <td>Художественный</td>\n",
       "      <td>ООО \"Киностудия \"Слово\", ООО \"Арт Пикчерс Студия\"</td>\n",
       "      <td>Россия</td>\n",
       "      <td>Н.Хомерики</td>\n",
       "      <td>П.Ануров, Ф.Бондарчук, Д.Рудовский</td>\n",
       "      <td>16+</td>\n",
       "      <td>20,000,000.0</td>\n",
       "      <td>40,000,000.0</td>\n",
       "      <td>0.0</td>\n",
       "      <td>Фонд кино</td>\n",
       "      <td>5.8</td>\n",
       "      <td>триллер,драма</td>\n",
       "      <td>225,196,400.0</td>\n",
       "    </tr>\n",
       "    <tr>\n",
       "      <th>5806</th>\n",
       "      <td>Два хвоста</td>\n",
       "      <td>114001018</td>\n",
       "      <td>2018-05-31 12:00:00+00:00</td>\n",
       "      <td>Анимационный</td>\n",
       "      <td>ООО \"ЛИЦЕНЗИОННЫЕ БРЕНДЫ\"</td>\n",
       "      <td>Россия</td>\n",
       "      <td>В.Ровенский, Н.Лопато, В.Азеев</td>\n",
       "      <td>ООО \"ЛИЦЕНЗИОННЫЕ БРЕНДЫ\"</td>\n",
       "      <td>6+</td>\n",
       "      <td>10,000,000.0</td>\n",
       "      <td>60,000,000.0</td>\n",
       "      <td>0.0</td>\n",
       "      <td>Фонд кино</td>\n",
       "      <td>5.0</td>\n",
       "      <td>мультфильм,детский</td>\n",
       "      <td>106,514,301.0</td>\n",
       "    </tr>\n",
       "    <tr>\n",
       "      <th>6008</th>\n",
       "      <td>Принцесса и дракон</td>\n",
       "      <td>114003018</td>\n",
       "      <td>2018-08-23 12:00:00+00:00</td>\n",
       "      <td>Анимационный</td>\n",
       "      <td>ООО \"ЛИЦЕНЗИОННЫЕ БРЕНДЫ\"</td>\n",
       "      <td>Россия</td>\n",
       "      <td>М.Нефедова</td>\n",
       "      <td>ООО \"ЛИЦЕНЗИОННЫЕ БРЕНДЫ\"</td>\n",
       "      <td>6+</td>\n",
       "      <td>40,000,000.0</td>\n",
       "      <td>40,000,000.0</td>\n",
       "      <td>0.0</td>\n",
       "      <td>Фонд кино</td>\n",
       "      <td>5.2</td>\n",
       "      <td>мультфильм,фэнтези,детский</td>\n",
       "      <td>83,366,328.7</td>\n",
       "    </tr>\n",
       "    <tr>\n",
       "      <th>6323</th>\n",
       "      <td>Баба Яга</td>\n",
       "      <td>114006518</td>\n",
       "      <td>2018-11-08 12:00:00+00:00</td>\n",
       "      <td>Анимационный</td>\n",
       "      <td>ООО \"Арт Пикчерс Студия\"</td>\n",
       "      <td>Россия</td>\n",
       "      <td>В.Саков</td>\n",
       "      <td>ООО \"Арт Пикчерс Студия\", ООО \"КРИЭЙТИВ АНИМЭЙ...</td>\n",
       "      <td>6+</td>\n",
       "      <td>0.0</td>\n",
       "      <td>138,969,465.0</td>\n",
       "      <td>0.0</td>\n",
       "      <td>Фонд кино</td>\n",
       "      <td>unknown</td>\n",
       "      <td>unknown</td>\n",
       "      <td>1,334,699.4</td>\n",
       "    </tr>\n",
       "    <tr>\n",
       "      <th>6823</th>\n",
       "      <td>Большое путешествие</td>\n",
       "      <td>114002419</td>\n",
       "      <td>2019-04-20 12:00:00+00:00</td>\n",
       "      <td>Анимационный</td>\n",
       "      <td>ООО \"ЛИЦЕНЗИОННЫЕ БРЕНДЫ\"</td>\n",
       "      <td>Россия</td>\n",
       "      <td>Н.Лопато, В.Ровенский</td>\n",
       "      <td>ООО \"ЛИЦЕНЗИОННЫЕ БРЕНДЫ\"</td>\n",
       "      <td>6+</td>\n",
       "      <td>60,000,000.0</td>\n",
       "      <td>120,000,000.0</td>\n",
       "      <td>0.0</td>\n",
       "      <td>Фонд кино</td>\n",
       "      <td>6.2</td>\n",
       "      <td>мультфильм,комедия,приключения</td>\n",
       "      <td>147,606,826.5</td>\n",
       "    </tr>\n",
       "  </tbody>\n",
       "</table>\n",
       "</div>"
      ],
      "text/plain": [
       "                       title   puNumber           show_start_date  \\\n",
       "2053                     14+  111023614 2014-12-19 12:00:00+00:00   \n",
       "2058               Дуxless 2  111000415 2015-01-26 12:00:00+00:00   \n",
       "2472             Воин (2015)  111017315 2015-09-28 12:00:00+00:00   \n",
       "2532                 Бармен.  111009615 2015-05-26 12:00:00+00:00   \n",
       "2615     Савва. Сердце воина  114001715 2015-07-21 12:00:00+00:00   \n",
       "2684          Тряпичный союз  111010215 2015-06-08 12:00:00+00:00   \n",
       "2788      Срочно выйду замуж  111017115 2015-09-30 12:00:00+00:00   \n",
       "2874       Помню - не помню!  111004916 2016-03-01 12:00:00+00:00   \n",
       "3047  Любовь с ограничениями  111008216 2016-04-29 12:00:00+00:00   \n",
       "3565       Притяжение (2016)  111018116 2016-12-16 12:00:00+00:00   \n",
       "3675                Чудо-юдо  114001817 2017-06-27 12:00:00+00:00   \n",
       "3739                    Мифы  111004317 2017-06-07 12:00:00+00:00   \n",
       "5673                   Селфи  111012117 2018-02-01 12:00:00+00:00   \n",
       "5806              Два хвоста  114001018 2018-05-31 12:00:00+00:00   \n",
       "6008      Принцесса и дракон  114003018 2018-08-23 12:00:00+00:00   \n",
       "6323                Баба Яга  114006518 2018-11-08 12:00:00+00:00   \n",
       "6823     Большое путешествие  114002419 2019-04-20 12:00:00+00:00   \n",
       "\n",
       "                type                                        film_studio  \\\n",
       "2053  Художественный                         ООО Киностудия  \"Сентябрь\"   \n",
       "2058  Художественный  ООО \"Киностудия \"Слово\", ООО \"Арт Пикчерс Студия\"   \n",
       "2472  Художественный   ООО \"Форпост Продакшн\", ООО \"Арт Пикчерс Студия\"   \n",
       "2532  Художественный          АО \"ВайТ Медиа\", ООО \"Арт Пикчерс Студия\"   \n",
       "2615    Анимационный   ООО \"Глюкоза Продакшн\", ООО \"Арт Пикчерс Студия\"   \n",
       "2684  Художественный                      ООО \"Кинокомпания \"КОКТЕБЕЛЬ\"   \n",
       "2788  Художественный          АО \"ВайТ Медиа\", ООО \"Арт Пикчерс Студия\"   \n",
       "2874  Художественный                                    ООО \"КиноФирма\"   \n",
       "3047  Художественный          АО \"ВайТ Медиа\", ООО \"Арт Пикчерс Студия\"   \n",
       "3565  Художественный      ООО \"Водород 2011\",  ООО \"Арт Пикчерс Студия\"   \n",
       "3675    Анимационный                                    ООО \"КиноФирма\"   \n",
       "3739  Художественный           ООО \"ХАЙПФИЛМ\", ООО \"Арт Пикчерс Студия\"   \n",
       "5673  Художественный  ООО \"Киностудия \"Слово\", ООО \"Арт Пикчерс Студия\"   \n",
       "5806    Анимационный                          ООО \"ЛИЦЕНЗИОННЫЕ БРЕНДЫ\"   \n",
       "6008    Анимационный                          ООО \"ЛИЦЕНЗИОННЫЕ БРЕНДЫ\"   \n",
       "6323    Анимационный                           ООО \"Арт Пикчерс Студия\"   \n",
       "6823    Анимационный                          ООО \"ЛИЦЕНЗИОННЫЕ БРЕНДЫ\"   \n",
       "\n",
       "     production_country                        director  \\\n",
       "2053             Россия                        А.Зайцев   \n",
       "2058             Россия                      Р.Прыгунов   \n",
       "2472             Россия                     А.Андрианов   \n",
       "2532             Россия                    Д.Штурманова   \n",
       "2615             Россия                        М.Фадеев   \n",
       "2684             Россия                     М.Местецкий   \n",
       "2788             Россия                       С Чекалов   \n",
       "2874             Россия                     В.Ровенский   \n",
       "3047             Россия                         Д.Тюрин   \n",
       "3565             Россия                     Ф.Бондарчук   \n",
       "3675             Россия                       А.Лукичев   \n",
       "3739             Россия                    А.Молочников   \n",
       "5673             Россия                      Н.Хомерики   \n",
       "5806             Россия  В.Ровенский, Н.Лопато, В.Азеев   \n",
       "6008             Россия                      М.Нефедова   \n",
       "6323             Россия                         В.Саков   \n",
       "6823             Россия           Н.Лопато, В.Ровенский   \n",
       "\n",
       "                                               producer age_restriction  \\\n",
       "2053                                О.Гранина, А.Зайцев             16+   \n",
       "2058                 П.Ануров, Ф.Бондарчук, Д.Рудовский             16+   \n",
       "2472                           ООО \"Арт Пикчерс Студия\"             12+   \n",
       "2532                                        Т.Вайнштейн             16+   \n",
       "2615                                         А.Чистяков              6+   \n",
       "2684                              Р.Борисевич, А.Кушаев             18+   \n",
       "2788              Ф.Бондарчук, Т.Вайнштейн, Д.Рудовский             16+   \n",
       "2874                                    ООО \"КиноФирма\"             12+   \n",
       "3047              Ф.Бондарчук, Т.Вайнштейн, Д.Рудовский             16+   \n",
       "3565                           ООО \"Арт Пикчерс Студия\"             12+   \n",
       "3675                                    ООО \"КиноФирма\"              6+   \n",
       "3739  Ф.Бондарчук, Д.Рудовский, И.Стюарт, М.Османн, ...             16+   \n",
       "5673                 П.Ануров, Ф.Бондарчук, Д.Рудовский             16+   \n",
       "5806                          ООО \"ЛИЦЕНЗИОННЫЕ БРЕНДЫ\"              6+   \n",
       "6008                          ООО \"ЛИЦЕНЗИОННЫЕ БРЕНДЫ\"              6+   \n",
       "6323  ООО \"Арт Пикчерс Студия\", ООО \"КРИЭЙТИВ АНИМЭЙ...              6+   \n",
       "6823                          ООО \"ЛИЦЕНЗИОННЫЕ БРЕНДЫ\"              6+   \n",
       "\n",
       "      refundable_support  nonrefundable_support  budget  \\\n",
       "2053                 0.0           23,000,000.0     0.0   \n",
       "2058                 0.0           75,000,000.0     0.0   \n",
       "2472        10,000,000.0           70,000,000.0     0.0   \n",
       "2532        20,000,000.0                    0.0     0.0   \n",
       "2615        60,000,000.0          100,000,000.0     0.0   \n",
       "2684                 0.0           59,000,000.0     0.0   \n",
       "2788                 0.0           35,000,000.0     0.0   \n",
       "2874                 0.0            6,000,000.0     0.0   \n",
       "3047        19,000,000.0           51,000,000.0     0.0   \n",
       "3565                 0.0          250,000,000.0     0.0   \n",
       "3675        20,000,000.0           20,000,000.0     0.0   \n",
       "3739        25,000,000.0           20,000,000.0     0.0   \n",
       "5673        20,000,000.0           40,000,000.0     0.0   \n",
       "5806        10,000,000.0           60,000,000.0     0.0   \n",
       "6008        40,000,000.0           40,000,000.0     0.0   \n",
       "6323                 0.0          138,969,465.0     0.0   \n",
       "6823        60,000,000.0          120,000,000.0     0.0   \n",
       "\n",
       "                      financing_source  ratings  \\\n",
       "2053  Министерство культуры, Фонд кино      6.6   \n",
       "2058                         Фонд кино      6.6   \n",
       "2472                         Фонд кино      7.8   \n",
       "2532                         Фонд кино      6.2   \n",
       "2615                         Фонд кино      4.6   \n",
       "2684                         Фонд кино      6.3   \n",
       "2788                         Фонд кино      5.1   \n",
       "2874             Министерство культуры      4.3   \n",
       "3047                         Фонд кино      6.3   \n",
       "3565                         Фонд кино      5.6   \n",
       "3675                         Фонд кино      5.2   \n",
       "3739                         Фонд кино      4.8   \n",
       "5673                         Фонд кино      5.8   \n",
       "5806                         Фонд кино      5.0   \n",
       "6008                         Фонд кино      5.2   \n",
       "6323                         Фонд кино  unknown   \n",
       "6823                         Фонд кино      6.2   \n",
       "\n",
       "                              genres      box_office  \n",
       "2053                       мелодрама    10,234,016.1  \n",
       "2058                           драма   446,163,511.0  \n",
       "2472           боевик,драма,криминал   196,572,438.4  \n",
       "2532                 комедия,фэнтези    67,418,974.8  \n",
       "2615  мультфильм,приключения,фэнтези   184,487,551.4  \n",
       "2684                   комедия,драма     1,957,738.5  \n",
       "2788               комедия,мелодрама    72,937,783.2  \n",
       "2874                         комедия    15,362,931.4  \n",
       "3047               комедия,мелодрама    70,299,052.0  \n",
       "3565                      фантастика 1,038,321,489.0  \n",
       "3675     мультфильм,фэнтези,семейный    55,108,014.8  \n",
       "3739                         комедия    50,451,949.0  \n",
       "5673                   триллер,драма   225,196,400.0  \n",
       "5806              мультфильм,детский   106,514,301.0  \n",
       "6008      мультфильм,фэнтези,детский    83,366,328.7  \n",
       "6323                         unknown     1,334,699.4  \n",
       "6823  мультфильм,комедия,приключения   147,606,826.5  "
      ]
     },
     "metadata": {},
     "output_type": "display_data"
    }
   ],
   "source": [
    "display(data.query('budget < refundable_support + nonrefundable_support'))"
   ]
  },
  {
   "cell_type": "markdown",
   "metadata": {},
   "source": [
    "Сумма столбца с возвртаными и невозвратными средствами поддержки должна быть меньше общего бюджета фильмов, проверим во всех ли строках значения соответсвуют этому"
   ]
  },
  {
   "cell_type": "code",
   "execution_count": 41,
   "metadata": {},
   "outputs": [],
   "source": [
    "data['total_support'] = data['refundable_support'] + data['nonrefundable_support']"
   ]
  },
  {
   "cell_type": "markdown",
   "metadata": {},
   "source": [
    "Создадим столбец с общей суммой поддержки"
   ]
  },
  {
   "cell_type": "code",
   "execution_count": 42,
   "metadata": {},
   "outputs": [],
   "source": [
    "for i in data['budget']:\n",
    "    data.loc[data['total_support'] < i, 'budget'] = data['total_support']"
   ]
  },
  {
   "cell_type": "markdown",
   "metadata": {},
   "source": [
    "Заполним столбцы с нулевыми значениями в графе бюджет известной суммой поддержки от государства"
   ]
  },
  {
   "cell_type": "code",
   "execution_count": 43,
   "metadata": {},
   "outputs": [
    {
     "data": {
      "text/html": [
       "<div>\n",
       "<style scoped>\n",
       "    .dataframe tbody tr th:only-of-type {\n",
       "        vertical-align: middle;\n",
       "    }\n",
       "\n",
       "    .dataframe tbody tr th {\n",
       "        vertical-align: top;\n",
       "    }\n",
       "\n",
       "    .dataframe thead th {\n",
       "        text-align: right;\n",
       "    }\n",
       "</style>\n",
       "<table border=\"1\" class=\"dataframe\">\n",
       "  <thead>\n",
       "    <tr style=\"text-align: right;\">\n",
       "      <th></th>\n",
       "      <th>title</th>\n",
       "      <th>puNumber</th>\n",
       "      <th>show_start_date</th>\n",
       "      <th>type</th>\n",
       "      <th>film_studio</th>\n",
       "      <th>production_country</th>\n",
       "      <th>director</th>\n",
       "      <th>producer</th>\n",
       "      <th>age_restriction</th>\n",
       "      <th>refundable_support</th>\n",
       "      <th>nonrefundable_support</th>\n",
       "      <th>budget</th>\n",
       "      <th>financing_source</th>\n",
       "      <th>ratings</th>\n",
       "      <th>genres</th>\n",
       "      <th>box_office</th>\n",
       "      <th>total_support</th>\n",
       "    </tr>\n",
       "  </thead>\n",
       "  <tbody>\n",
       "    <tr>\n",
       "      <th>2053</th>\n",
       "      <td>14+</td>\n",
       "      <td>111023614</td>\n",
       "      <td>2014-12-19 12:00:00+00:00</td>\n",
       "      <td>Художественный</td>\n",
       "      <td>ООО Киностудия  \"Сентябрь\"</td>\n",
       "      <td>Россия</td>\n",
       "      <td>А.Зайцев</td>\n",
       "      <td>О.Гранина, А.Зайцев</td>\n",
       "      <td>16+</td>\n",
       "      <td>0.0</td>\n",
       "      <td>23,000,000.0</td>\n",
       "      <td>23,000,000.0</td>\n",
       "      <td>Министерство культуры, Фонд кино</td>\n",
       "      <td>6.6</td>\n",
       "      <td>мелодрама</td>\n",
       "      <td>10,234,016.1</td>\n",
       "      <td>23,000,000.0</td>\n",
       "    </tr>\n",
       "  </tbody>\n",
       "</table>\n",
       "</div>"
      ],
      "text/plain": [
       "     title   puNumber           show_start_date            type  \\\n",
       "2053   14+  111023614 2014-12-19 12:00:00+00:00  Художественный   \n",
       "\n",
       "                     film_studio production_country  director  \\\n",
       "2053  ООО Киностудия  \"Сентябрь\"             Россия  А.Зайцев   \n",
       "\n",
       "                 producer age_restriction  refundable_support  \\\n",
       "2053  О.Гранина, А.Зайцев             16+                 0.0   \n",
       "\n",
       "      nonrefundable_support       budget                  financing_source  \\\n",
       "2053           23,000,000.0 23,000,000.0  Министерство культуры, Фонд кино   \n",
       "\n",
       "     ratings     genres   box_office  total_support  \n",
       "2053     6.6  мелодрама 10,234,016.1   23,000,000.0  "
      ]
     },
     "metadata": {},
     "output_type": "display_data"
    }
   ],
   "source": [
    "display(data.query('title == \"14+\"'))"
   ]
  },
  {
   "cell_type": "markdown",
   "metadata": {},
   "source": [
    "Проверим получилось ли это сделать, выбрав одну из строчек, в которой прежде был указан нулевой бюджет"
   ]
  },
  {
   "cell_type": "code",
   "execution_count": 44,
   "metadata": {},
   "outputs": [
    {
     "data": {
      "text/plain": [
       "array([0.000000e+00, 5.000000e+07, 2.600000e+07, 3.000000e+07,\n",
       "       1.500000e+07, 1.000000e+07, 2.000000e+07, 7.153119e+06,\n",
       "       2.500000e+07, 4.000000e+07, 6.000000e+07, 4.400000e+07,\n",
       "       2.900000e+07, 4.100000e+07, 3.600000e+07, 3.500000e+06,\n",
       "       5.000000e+06, 1.900000e+07, 9.000000e+06, 1.100000e+08,\n",
       "       1.700000e+07, 7.500000e+07, 1.500000e+08, 3.800000e+07,\n",
       "       1.000000e+08, 5.500000e+07, 7.000000e+06, 7.346881e+06,\n",
       "       8.000000e+06, 1.150000e+08, 3.500000e+07, 1.800000e+08,\n",
       "       2.800000e+07, 8.000000e+07])"
      ]
     },
     "execution_count": 44,
     "metadata": {},
     "output_type": "execute_result"
    }
   ],
   "source": [
    "data['refundable_support'].unique()"
   ]
  },
  {
   "cell_type": "markdown",
   "metadata": {},
   "source": [
    "Рассмотрим данные в столбце с возвратными средствами. Неожиданных значений нет"
   ]
  },
  {
   "cell_type": "code",
   "execution_count": 45,
   "metadata": {},
   "outputs": [
    {
     "data": {
      "text/plain": [
       "array([0.00000000e+00, 2.65000000e+07, 2.60000000e+07, 1.07847945e+08,\n",
       "       2.80000000e+07, 2.50000000e+07, 1.00000000e+08, 4.65022990e+07,\n",
       "       7.50000000e+07, 3.40000000e+07, 3.00000000e+07, 4.00000000e+07,\n",
       "       2.30000000e+07, 4.50000000e+07, 5.65790550e+07, 2.55000000e+07,\n",
       "       2.75100000e+07, 1.00000000e+07, 2.40000000e+07, 2.45000000e+07,\n",
       "       2.70000000e+07, 5.00000000e+06, 9.00000000e+07, 2.00000000e+07,\n",
       "       7.00000000e+07, 9.70000000e+07, 2.44500000e+07, 5.00000000e+07,\n",
       "       6.00000000e+07, 2.75000000e+07, 2.69500000e+07, 1.10000000e+08,\n",
       "       1.50000000e+07, 5.90000000e+07, 2.50000000e+08, 3.70000000e+07,\n",
       "       3.50000000e+07, 2.01452850e+07, 2.59000000e+07, 6.00000000e+06,\n",
       "       3.92104482e+08, 2.52000000e+07, 2.29040000e+07, 2.90000000e+07,\n",
       "       5.10000000e+07, 4.70000000e+06, 5.30000000e+06, 2.17000000e+07,\n",
       "       2.49860000e+07, 2.53450000e+07, 1.33000000e+08, 1.75000000e+08,\n",
       "       3.01239150e+07, 2.85000000e+07, 3.00000000e+08, 4.15000000e+07,\n",
       "       2.00000000e+08, 1.50000000e+08, 5.50000000e+07, 6.40000000e+07,\n",
       "       5.00008660e+07, 1.15200000e+07, 1.90000000e+08, 2.25000000e+08,\n",
       "       8.00000000e+06, 4.00000000e+08, 2.60000000e+08, 3.10000000e+07,\n",
       "       8.50000000e+07, 8.00000000e+07, 1.38969465e+08, 1.20000000e+08,\n",
       "       1.30000000e+08, 1.40000000e+08, 3.00000000e+06])"
      ]
     },
     "execution_count": 45,
     "metadata": {},
     "output_type": "execute_result"
    }
   ],
   "source": [
    "data['nonrefundable_support'].unique()"
   ]
  },
  {
   "cell_type": "markdown",
   "metadata": {},
   "source": [
    "Рассмотрим данные в столбце с невозвратными средствами. Подозрительных значений нет"
   ]
  },
  {
   "cell_type": "markdown",
   "metadata": {},
   "source": [
    "Данные в столбце с рейтингом и кассовым сбором мы уже правили и неожиданных значений в них не было, поэтому их не трогаем."
   ]
  },
  {
   "cell_type": "markdown",
   "metadata": {
    "id": "Eu6oWp2CgFyS"
   },
   "source": [
    "#### Шаг 2.6. Добавьте новые столбцы\n",
    "\n",
    "\n",
    "\n"
   ]
  },
  {
   "cell_type": "markdown",
   "metadata": {
    "id": "7GgW-UpAgFyS"
   },
   "source": [
    "- Создайте столбец с информацией о годе проката. Выделите год из даты премьеры фильма."
   ]
  },
  {
   "cell_type": "code",
   "execution_count": 46,
   "metadata": {
    "id": "I-yd1DkWgFyT"
   },
   "outputs": [],
   "source": [
    "data['year'] = pd.DatetimeIndex(data['show_start_date']).year"
   ]
  },
  {
   "cell_type": "markdown",
   "metadata": {},
   "source": [
    "Создадим столбец с годом проката"
   ]
  },
  {
   "cell_type": "markdown",
   "metadata": {
    "id": "nFTDLDYOgFyT"
   },
   "source": [
    "- Создайте два столбца: с именем и фамилией главного режиссёра и основным жанром фильма. В столбцы войдут первые значения из списка режиссёров и жанров соответственно.\n",
    "\n",
    "<div id=\"accordion\">\n",
    "    <div class=\"card\">\n",
    "        <div class=\"card-header\" id=\"headingThree\">\n",
    "            <button class=\"btn btn-link collapsed\" data-toggle=\"collapse\" data-target=\"#collapseHint_2\" aria-expanded=\"false\" aria-controls=\"collapseHint_2\">Подсказка</button>\n",
    "        </div>\n",
    "        <div id=\"collapseHint_2\" class=\"collapse\" aria-labelledby=\"headingThree\" data-parent=\"#accordion\">\n",
    "            <div class=\"card-body\">\n",
    "Чтобы создать такие столбцы, лучше всего использовать собственную функцию. Эту функцию можно применить к двум столбцам сразу. \n",
    "            </div>\n",
    "        </div>\n",
    "    </div>\n",
    "</div>"
   ]
  },
  {
   "cell_type": "code",
   "execution_count": 47,
   "metadata": {
    "id": "LSbRZKbMgFyU"
   },
   "outputs": [],
   "source": [
    "def test_x(name):\n",
    "    return name.str.split(',').str[0]"
   ]
  },
  {
   "cell_type": "markdown",
   "metadata": {},
   "source": [
    "Напишем функцию для заполнения значений новых столбцов"
   ]
  },
  {
   "cell_type": "code",
   "execution_count": 48,
   "metadata": {},
   "outputs": [],
   "source": [
    "data[['main_director', 'genre']] = data[['director', 'genres']].apply(test_x)"
   ]
  },
  {
   "cell_type": "markdown",
   "metadata": {},
   "source": [
    "Заполним новые столбцы с фио главного режиссера и жанром фильма с помощью функции"
   ]
  },
  {
   "cell_type": "code",
   "execution_count": 49,
   "metadata": {},
   "outputs": [
    {
     "data": {
      "text/html": [
       "<div>\n",
       "<style scoped>\n",
       "    .dataframe tbody tr th:only-of-type {\n",
       "        vertical-align: middle;\n",
       "    }\n",
       "\n",
       "    .dataframe tbody tr th {\n",
       "        vertical-align: top;\n",
       "    }\n",
       "\n",
       "    .dataframe thead th {\n",
       "        text-align: right;\n",
       "    }\n",
       "</style>\n",
       "<table border=\"1\" class=\"dataframe\">\n",
       "  <thead>\n",
       "    <tr style=\"text-align: right;\">\n",
       "      <th></th>\n",
       "      <th>title</th>\n",
       "      <th>puNumber</th>\n",
       "      <th>show_start_date</th>\n",
       "      <th>type</th>\n",
       "      <th>film_studio</th>\n",
       "      <th>production_country</th>\n",
       "      <th>director</th>\n",
       "      <th>producer</th>\n",
       "      <th>age_restriction</th>\n",
       "      <th>refundable_support</th>\n",
       "      <th>nonrefundable_support</th>\n",
       "      <th>budget</th>\n",
       "      <th>financing_source</th>\n",
       "      <th>ratings</th>\n",
       "      <th>genres</th>\n",
       "      <th>box_office</th>\n",
       "      <th>total_support</th>\n",
       "      <th>year</th>\n",
       "      <th>main_director</th>\n",
       "      <th>genre</th>\n",
       "    </tr>\n",
       "  </thead>\n",
       "  <tbody>\n",
       "    <tr>\n",
       "      <th>0</th>\n",
       "      <td>Открытый простор</td>\n",
       "      <td>221048915</td>\n",
       "      <td>2015-11-27 12:00:00+00:00</td>\n",
       "      <td>Художественный</td>\n",
       "      <td>Тачстоун Пикчерз, Кобальт Пикчерз, Бикон Пикче...</td>\n",
       "      <td>США</td>\n",
       "      <td>Кевин Костнер</td>\n",
       "      <td>Дэвид Валдес, Кевин Костнер, Джейк Эбертс</td>\n",
       "      <td>18+</td>\n",
       "      <td>0.0</td>\n",
       "      <td>0.0</td>\n",
       "      <td>0.0</td>\n",
       "      <td>unknown</td>\n",
       "      <td>7.2</td>\n",
       "      <td>боевик,драма,мелодрама</td>\n",
       "      <td>0.0</td>\n",
       "      <td>0.0</td>\n",
       "      <td>2015</td>\n",
       "      <td>Кевин Костнер</td>\n",
       "      <td>боевик</td>\n",
       "    </tr>\n",
       "    <tr>\n",
       "      <th>1</th>\n",
       "      <td>Особо важное задание</td>\n",
       "      <td>111013716</td>\n",
       "      <td>2016-09-13 12:00:00+00:00</td>\n",
       "      <td>Художественный</td>\n",
       "      <td>Киностудия \"Мосфильм\"</td>\n",
       "      <td>СССР</td>\n",
       "      <td>Е.Матвеев</td>\n",
       "      <td>unknown</td>\n",
       "      <td>6+</td>\n",
       "      <td>0.0</td>\n",
       "      <td>0.0</td>\n",
       "      <td>0.0</td>\n",
       "      <td>unknown</td>\n",
       "      <td>6.6</td>\n",
       "      <td>драма,военный</td>\n",
       "      <td>0.0</td>\n",
       "      <td>0.0</td>\n",
       "      <td>2016</td>\n",
       "      <td>Е.Матвеев</td>\n",
       "      <td>драма</td>\n",
       "    </tr>\n",
       "    <tr>\n",
       "      <th>2</th>\n",
       "      <td>Особо опасен</td>\n",
       "      <td>221038416</td>\n",
       "      <td>2016-10-10 12:00:00+00:00</td>\n",
       "      <td>Художественный</td>\n",
       "      <td>Юниверсал Пикчерз, Кикстарт Продакшнз, Марк Пл...</td>\n",
       "      <td>США</td>\n",
       "      <td>Тимур Бекмамбетов</td>\n",
       "      <td>Джим Лемли, Джейсон Нетер, Марк Е.Платт, Яйн Смит</td>\n",
       "      <td>18+</td>\n",
       "      <td>0.0</td>\n",
       "      <td>0.0</td>\n",
       "      <td>0.0</td>\n",
       "      <td>unknown</td>\n",
       "      <td>6.8</td>\n",
       "      <td>фантастика,боевик,триллер</td>\n",
       "      <td>0.0</td>\n",
       "      <td>0.0</td>\n",
       "      <td>2016</td>\n",
       "      <td>Тимур Бекмамбетов</td>\n",
       "      <td>фантастика</td>\n",
       "    </tr>\n",
       "    <tr>\n",
       "      <th>3</th>\n",
       "      <td>Особо опасен</td>\n",
       "      <td>221026916</td>\n",
       "      <td>2016-06-10 12:00:00+00:00</td>\n",
       "      <td>Художественный</td>\n",
       "      <td>Юниверсал Пикчерз, Кикстарт Продакшнз, Марк Пл...</td>\n",
       "      <td>США</td>\n",
       "      <td>Тимур Бекмамбетов</td>\n",
       "      <td>Джим Лемли, Джейсон Нетер, Марк Е.Платт, Яйн Смит</td>\n",
       "      <td>18+</td>\n",
       "      <td>0.0</td>\n",
       "      <td>0.0</td>\n",
       "      <td>0.0</td>\n",
       "      <td>unknown</td>\n",
       "      <td>6.8</td>\n",
       "      <td>фантастика,боевик,триллер</td>\n",
       "      <td>0.0</td>\n",
       "      <td>0.0</td>\n",
       "      <td>2016</td>\n",
       "      <td>Тимур Бекмамбетов</td>\n",
       "      <td>фантастика</td>\n",
       "    </tr>\n",
       "    <tr>\n",
       "      <th>4</th>\n",
       "      <td>Особо опасен</td>\n",
       "      <td>221030815</td>\n",
       "      <td>2015-07-29 12:00:00+00:00</td>\n",
       "      <td>Художественный</td>\n",
       "      <td>Юниверсал Пикчерз, Кикстарт Продакшнз, Марк Пл...</td>\n",
       "      <td>США</td>\n",
       "      <td>Тимур Бекмамбетов</td>\n",
       "      <td>Джим Лемли, Джейсон Нетер, Марк Е.Платт, Яйн Смит</td>\n",
       "      <td>18+</td>\n",
       "      <td>0.0</td>\n",
       "      <td>0.0</td>\n",
       "      <td>0.0</td>\n",
       "      <td>unknown</td>\n",
       "      <td>6.8</td>\n",
       "      <td>фантастика,боевик,триллер</td>\n",
       "      <td>0.0</td>\n",
       "      <td>0.0</td>\n",
       "      <td>2015</td>\n",
       "      <td>Тимур Бекмамбетов</td>\n",
       "      <td>фантастика</td>\n",
       "    </tr>\n",
       "    <tr>\n",
       "      <th>5</th>\n",
       "      <td>Остановился поезд</td>\n",
       "      <td>111013816</td>\n",
       "      <td>2016-09-13 12:00:00+00:00</td>\n",
       "      <td>Художественный</td>\n",
       "      <td>Киностудия \"Мосфильм\"</td>\n",
       "      <td>СССР</td>\n",
       "      <td>В.Абдрашитов</td>\n",
       "      <td>unknown</td>\n",
       "      <td>6+</td>\n",
       "      <td>0.0</td>\n",
       "      <td>0.0</td>\n",
       "      <td>0.0</td>\n",
       "      <td>unknown</td>\n",
       "      <td>7.7</td>\n",
       "      <td>драма</td>\n",
       "      <td>0.0</td>\n",
       "      <td>0.0</td>\n",
       "      <td>2016</td>\n",
       "      <td>В.Абдрашитов</td>\n",
       "      <td>драма</td>\n",
       "    </tr>\n",
       "    <tr>\n",
       "      <th>6</th>\n",
       "      <td>Любовь и голуби</td>\n",
       "      <td>111007013</td>\n",
       "      <td>2013-10-18 12:00:00+00:00</td>\n",
       "      <td>Художественный</td>\n",
       "      <td>Киностудия \"Мосфильм\"</td>\n",
       "      <td>СССР</td>\n",
       "      <td>В.Меньшов</td>\n",
       "      <td>unknown</td>\n",
       "      <td>12+</td>\n",
       "      <td>0.0</td>\n",
       "      <td>0.0</td>\n",
       "      <td>0.0</td>\n",
       "      <td>unknown</td>\n",
       "      <td>8.3</td>\n",
       "      <td>мелодрама,комедия</td>\n",
       "      <td>2,700.0</td>\n",
       "      <td>0.0</td>\n",
       "      <td>2013</td>\n",
       "      <td>В.Меньшов</td>\n",
       "      <td>мелодрама</td>\n",
       "    </tr>\n",
       "    <tr>\n",
       "      <th>7</th>\n",
       "      <td>Любовь и сигареты</td>\n",
       "      <td>221074614</td>\n",
       "      <td>2014-12-29 12:00:00+00:00</td>\n",
       "      <td>Художественный</td>\n",
       "      <td>Юнайтед Артистс, Грин Стрит Филмз, Айкон Интер...</td>\n",
       "      <td>США</td>\n",
       "      <td>Джон Туртурро</td>\n",
       "      <td>Джон Пенотти, Джон Туртурро</td>\n",
       "      <td>18+</td>\n",
       "      <td>0.0</td>\n",
       "      <td>0.0</td>\n",
       "      <td>0.0</td>\n",
       "      <td>unknown</td>\n",
       "      <td>6.6</td>\n",
       "      <td>мюзикл,мелодрама,комедия</td>\n",
       "      <td>0.0</td>\n",
       "      <td>0.0</td>\n",
       "      <td>2014</td>\n",
       "      <td>Джон Туртурро</td>\n",
       "      <td>мюзикл</td>\n",
       "    </tr>\n",
       "    <tr>\n",
       "      <th>8</th>\n",
       "      <td>Отпетые мошенники.</td>\n",
       "      <td>121011416</td>\n",
       "      <td>2016-05-05 12:00:00+00:00</td>\n",
       "      <td>Художественный</td>\n",
       "      <td>Пульсар Продюксьон, ТФ1 Фильм</td>\n",
       "      <td>Франция</td>\n",
       "      <td>Эрик Беснард</td>\n",
       "      <td>Патрис Леду</td>\n",
       "      <td>18+</td>\n",
       "      <td>0.0</td>\n",
       "      <td>0.0</td>\n",
       "      <td>0.0</td>\n",
       "      <td>unknown</td>\n",
       "      <td>8.0</td>\n",
       "      <td>комедия,криминал</td>\n",
       "      <td>0.0</td>\n",
       "      <td>0.0</td>\n",
       "      <td>2016</td>\n",
       "      <td>Эрик Беснард</td>\n",
       "      <td>комедия</td>\n",
       "    </tr>\n",
       "    <tr>\n",
       "      <th>9</th>\n",
       "      <td>Отпуск за свой счет</td>\n",
       "      <td>111019114</td>\n",
       "      <td>2014-12-01 12:00:00+00:00</td>\n",
       "      <td>Художественный</td>\n",
       "      <td>Киностудия \"Мосфильм\", Телевидение ВНР</td>\n",
       "      <td>СССР, Венгрия</td>\n",
       "      <td>В.Титов</td>\n",
       "      <td>unknown</td>\n",
       "      <td>12+</td>\n",
       "      <td>0.0</td>\n",
       "      <td>0.0</td>\n",
       "      <td>0.0</td>\n",
       "      <td>unknown</td>\n",
       "      <td>7.8</td>\n",
       "      <td>мелодрама,комедия</td>\n",
       "      <td>0.0</td>\n",
       "      <td>0.0</td>\n",
       "      <td>2014</td>\n",
       "      <td>В.Титов</td>\n",
       "      <td>мелодрама</td>\n",
       "    </tr>\n",
       "    <tr>\n",
       "      <th>10</th>\n",
       "      <td>Превосходство Борна /По одноименной новелле Ро...</td>\n",
       "      <td>221031416</td>\n",
       "      <td>2016-06-29 12:00:00+00:00</td>\n",
       "      <td>Художественный</td>\n",
       "      <td>Кеннеди/Маршал Компани, Юниверсал Пикчерз, Гип...</td>\n",
       "      <td>США</td>\n",
       "      <td>Пол Грингросс</td>\n",
       "      <td>Патрик Кроули, Фрэнк Маршалл, Пол Сэндберг</td>\n",
       "      <td>16+</td>\n",
       "      <td>0.0</td>\n",
       "      <td>0.0</td>\n",
       "      <td>0.0</td>\n",
       "      <td>unknown</td>\n",
       "      <td>7.7</td>\n",
       "      <td>боевик,триллер,детектив</td>\n",
       "      <td>0.0</td>\n",
       "      <td>0.0</td>\n",
       "      <td>2016</td>\n",
       "      <td>Пол Грингросс</td>\n",
       "      <td>боевик</td>\n",
       "    </tr>\n",
       "    <tr>\n",
       "      <th>11</th>\n",
       "      <td>Ответный ход</td>\n",
       "      <td>111019014</td>\n",
       "      <td>2014-12-01 12:00:00+00:00</td>\n",
       "      <td>Художественный</td>\n",
       "      <td>Киностудия \"Мосфильм\"</td>\n",
       "      <td>СССР</td>\n",
       "      <td>М.Туманишвили</td>\n",
       "      <td>unknown</td>\n",
       "      <td>12+</td>\n",
       "      <td>0.0</td>\n",
       "      <td>0.0</td>\n",
       "      <td>0.0</td>\n",
       "      <td>unknown</td>\n",
       "      <td>7.8</td>\n",
       "      <td>боевик,драма,приключения</td>\n",
       "      <td>0.0</td>\n",
       "      <td>0.0</td>\n",
       "      <td>2014</td>\n",
       "      <td>М.Туманишвили</td>\n",
       "      <td>боевик</td>\n",
       "    </tr>\n",
       "    <tr>\n",
       "      <th>12</th>\n",
       "      <td>Малышка на миллион /По мотивам рассказов Ф.Х.Т...</td>\n",
       "      <td>221011415</td>\n",
       "      <td>2015-04-03 12:00:00+00:00</td>\n",
       "      <td>Художественный</td>\n",
       "      <td>Уорнер Бразерс, Лейкшор Интертейнмент, Малпасо...</td>\n",
       "      <td>США</td>\n",
       "      <td>Клинт Иствуд</td>\n",
       "      <td>Клинт Иствуд, Том Розенберг, Альберт С.Рудди, ...</td>\n",
       "      <td>16+</td>\n",
       "      <td>0.0</td>\n",
       "      <td>0.0</td>\n",
       "      <td>0.0</td>\n",
       "      <td>unknown</td>\n",
       "      <td>8.1</td>\n",
       "      <td>драма,спорт</td>\n",
       "      <td>0.0</td>\n",
       "      <td>0.0</td>\n",
       "      <td>2015</td>\n",
       "      <td>Клинт Иствуд</td>\n",
       "      <td>драма</td>\n",
       "    </tr>\n",
       "    <tr>\n",
       "      <th>13</th>\n",
       "      <td>Преданный садовник</td>\n",
       "      <td>121003106</td>\n",
       "      <td>2013-08-26 12:00:00+00:00</td>\n",
       "      <td>Художественный</td>\n",
       "      <td>Потбойлер Продакшнз, Эпсилон Моушн Пикчерз, Ск...</td>\n",
       "      <td>Германия-Великобритания</td>\n",
       "      <td>Фернанду Мейрелльеш</td>\n",
       "      <td>Саймон Чэннинг Уильямс</td>\n",
       "      <td>16+</td>\n",
       "      <td>0.0</td>\n",
       "      <td>0.0</td>\n",
       "      <td>0.0</td>\n",
       "      <td>unknown</td>\n",
       "      <td>7.1</td>\n",
       "      <td>триллер,драма,мелодрама</td>\n",
       "      <td>0.0</td>\n",
       "      <td>0.0</td>\n",
       "      <td>2013</td>\n",
       "      <td>Фернанду Мейрелльеш</td>\n",
       "      <td>триллер</td>\n",
       "    </tr>\n",
       "    <tr>\n",
       "      <th>14</th>\n",
       "      <td>Отель /По мотивам пьесы Джона Уэбстера/</td>\n",
       "      <td>221008812</td>\n",
       "      <td>2012-01-27 12:00:00+00:00</td>\n",
       "      <td>Художественный</td>\n",
       "      <td>Кэтлей, Отель Продакшнс, Мунстоун Интертейнмен...</td>\n",
       "      <td>Великобритания - Италия</td>\n",
       "      <td>Майк Фиггис</td>\n",
       "      <td>Этчи Стро, Анни Стюарт, Майк Фиггис</td>\n",
       "      <td>18+</td>\n",
       "      <td>0.0</td>\n",
       "      <td>0.0</td>\n",
       "      <td>0.0</td>\n",
       "      <td>unknown</td>\n",
       "      <td>6.0</td>\n",
       "      <td>комедия,мелодрама</td>\n",
       "      <td>0.0</td>\n",
       "      <td>0.0</td>\n",
       "      <td>2012</td>\n",
       "      <td>Майк Фиггис</td>\n",
       "      <td>комедия</td>\n",
       "    </tr>\n",
       "    <tr>\n",
       "      <th>15</th>\n",
       "      <td>Председатель</td>\n",
       "      <td>111014916</td>\n",
       "      <td>2016-09-13 12:00:00+00:00</td>\n",
       "      <td>Художественный</td>\n",
       "      <td>Киностудия \"Мосфильм\"</td>\n",
       "      <td>СССР</td>\n",
       "      <td>А.Салтыков</td>\n",
       "      <td>unknown</td>\n",
       "      <td>12+</td>\n",
       "      <td>0.0</td>\n",
       "      <td>0.0</td>\n",
       "      <td>0.0</td>\n",
       "      <td>unknown</td>\n",
       "      <td>8.3</td>\n",
       "      <td>драма</td>\n",
       "      <td>0.0</td>\n",
       "      <td>0.0</td>\n",
       "      <td>2016</td>\n",
       "      <td>А.Салтыков</td>\n",
       "      <td>драма</td>\n",
       "    </tr>\n",
       "    <tr>\n",
       "      <th>16</th>\n",
       "      <td>Осенний марафон</td>\n",
       "      <td>111007513</td>\n",
       "      <td>2013-10-18 12:00:00+00:00</td>\n",
       "      <td>Художественный</td>\n",
       "      <td>Киностудия \"Мосфильм\"</td>\n",
       "      <td>СССР</td>\n",
       "      <td>Г.Данелия</td>\n",
       "      <td>unknown</td>\n",
       "      <td>12+</td>\n",
       "      <td>0.0</td>\n",
       "      <td>0.0</td>\n",
       "      <td>0.0</td>\n",
       "      <td>unknown</td>\n",
       "      <td>8.0</td>\n",
       "      <td>драма,мелодрама,комедия</td>\n",
       "      <td>0.0</td>\n",
       "      <td>0.0</td>\n",
       "      <td>2013</td>\n",
       "      <td>Г.Данелия</td>\n",
       "      <td>драма</td>\n",
       "    </tr>\n",
       "    <tr>\n",
       "      <th>17</th>\n",
       "      <td>Осень</td>\n",
       "      <td>111027914</td>\n",
       "      <td>2014-12-24 12:00:00+00:00</td>\n",
       "      <td>Художественный</td>\n",
       "      <td>Киностудия \"Мосфильм\"</td>\n",
       "      <td>СССР</td>\n",
       "      <td>А.Смирнов</td>\n",
       "      <td>unknown</td>\n",
       "      <td>12+</td>\n",
       "      <td>0.0</td>\n",
       "      <td>0.0</td>\n",
       "      <td>0.0</td>\n",
       "      <td>unknown</td>\n",
       "      <td>7.4</td>\n",
       "      <td>драма,мелодрама</td>\n",
       "      <td>0.0</td>\n",
       "      <td>0.0</td>\n",
       "      <td>2014</td>\n",
       "      <td>А.Смирнов</td>\n",
       "      <td>драма</td>\n",
       "    </tr>\n",
       "    <tr>\n",
       "      <th>18</th>\n",
       "      <td>Неподдающиеся</td>\n",
       "      <td>111003616</td>\n",
       "      <td>2016-02-12 12:00:00+00:00</td>\n",
       "      <td>Художественный</td>\n",
       "      <td>Киностудия \"Мосфильм\"</td>\n",
       "      <td>СССР</td>\n",
       "      <td>Ю.Чулюкин</td>\n",
       "      <td>unknown</td>\n",
       "      <td>6+</td>\n",
       "      <td>0.0</td>\n",
       "      <td>0.0</td>\n",
       "      <td>0.0</td>\n",
       "      <td>unknown</td>\n",
       "      <td>8.0</td>\n",
       "      <td>мелодрама,комедия</td>\n",
       "      <td>360.0</td>\n",
       "      <td>0.0</td>\n",
       "      <td>2016</td>\n",
       "      <td>Ю.Чулюкин</td>\n",
       "      <td>мелодрама</td>\n",
       "    </tr>\n",
       "    <tr>\n",
       "      <th>19</th>\n",
       "      <td>Неподсуден</td>\n",
       "      <td>111003716</td>\n",
       "      <td>2016-02-12 12:00:00+00:00</td>\n",
       "      <td>Художественный</td>\n",
       "      <td>Киностудия \"Мосфильм\"</td>\n",
       "      <td>СССР</td>\n",
       "      <td>В.Краснопольский, В.Усков</td>\n",
       "      <td>unknown</td>\n",
       "      <td>6+</td>\n",
       "      <td>0.0</td>\n",
       "      <td>0.0</td>\n",
       "      <td>0.0</td>\n",
       "      <td>unknown</td>\n",
       "      <td>7.7</td>\n",
       "      <td>драма</td>\n",
       "      <td>420.0</td>\n",
       "      <td>0.0</td>\n",
       "      <td>2016</td>\n",
       "      <td>В.Краснопольский</td>\n",
       "      <td>драма</td>\n",
       "    </tr>\n",
       "  </tbody>\n",
       "</table>\n",
       "</div>"
      ],
      "text/plain": [
       "                                                title   puNumber  \\\n",
       "0                                    Открытый простор  221048915   \n",
       "1                                Особо важное задание  111013716   \n",
       "2                                        Особо опасен  221038416   \n",
       "3                                        Особо опасен  221026916   \n",
       "4                                        Особо опасен  221030815   \n",
       "5                                   Остановился поезд  111013816   \n",
       "6                                     Любовь и голуби  111007013   \n",
       "7                                   Любовь и сигареты  221074614   \n",
       "8                                  Отпетые мошенники.  121011416   \n",
       "9                                 Отпуск за свой счет  111019114   \n",
       "10  Превосходство Борна /По одноименной новелле Ро...  221031416   \n",
       "11                                       Ответный ход  111019014   \n",
       "12  Малышка на миллион /По мотивам рассказов Ф.Х.Т...  221011415   \n",
       "13                                 Преданный садовник  121003106   \n",
       "14            Отель /По мотивам пьесы Джона Уэбстера/  221008812   \n",
       "15                                       Председатель  111014916   \n",
       "16                                    Осенний марафон  111007513   \n",
       "17                                              Осень  111027914   \n",
       "18                                      Неподдающиеся  111003616   \n",
       "19                                         Неподсуден  111003716   \n",
       "\n",
       "             show_start_date            type  \\\n",
       "0  2015-11-27 12:00:00+00:00  Художественный   \n",
       "1  2016-09-13 12:00:00+00:00  Художественный   \n",
       "2  2016-10-10 12:00:00+00:00  Художественный   \n",
       "3  2016-06-10 12:00:00+00:00  Художественный   \n",
       "4  2015-07-29 12:00:00+00:00  Художественный   \n",
       "5  2016-09-13 12:00:00+00:00  Художественный   \n",
       "6  2013-10-18 12:00:00+00:00  Художественный   \n",
       "7  2014-12-29 12:00:00+00:00  Художественный   \n",
       "8  2016-05-05 12:00:00+00:00  Художественный   \n",
       "9  2014-12-01 12:00:00+00:00  Художественный   \n",
       "10 2016-06-29 12:00:00+00:00  Художественный   \n",
       "11 2014-12-01 12:00:00+00:00  Художественный   \n",
       "12 2015-04-03 12:00:00+00:00  Художественный   \n",
       "13 2013-08-26 12:00:00+00:00  Художественный   \n",
       "14 2012-01-27 12:00:00+00:00  Художественный   \n",
       "15 2016-09-13 12:00:00+00:00  Художественный   \n",
       "16 2013-10-18 12:00:00+00:00  Художественный   \n",
       "17 2014-12-24 12:00:00+00:00  Художественный   \n",
       "18 2016-02-12 12:00:00+00:00  Художественный   \n",
       "19 2016-02-12 12:00:00+00:00  Художественный   \n",
       "\n",
       "                                          film_studio  \\\n",
       "0   Тачстоун Пикчерз, Кобальт Пикчерз, Бикон Пикче...   \n",
       "1                               Киностудия \"Мосфильм\"   \n",
       "2   Юниверсал Пикчерз, Кикстарт Продакшнз, Марк Пл...   \n",
       "3   Юниверсал Пикчерз, Кикстарт Продакшнз, Марк Пл...   \n",
       "4   Юниверсал Пикчерз, Кикстарт Продакшнз, Марк Пл...   \n",
       "5                               Киностудия \"Мосфильм\"   \n",
       "6                               Киностудия \"Мосфильм\"   \n",
       "7   Юнайтед Артистс, Грин Стрит Филмз, Айкон Интер...   \n",
       "8                       Пульсар Продюксьон, ТФ1 Фильм   \n",
       "9              Киностудия \"Мосфильм\", Телевидение ВНР   \n",
       "10  Кеннеди/Маршал Компани, Юниверсал Пикчерз, Гип...   \n",
       "11                              Киностудия \"Мосфильм\"   \n",
       "12  Уорнер Бразерс, Лейкшор Интертейнмент, Малпасо...   \n",
       "13  Потбойлер Продакшнз, Эпсилон Моушн Пикчерз, Ск...   \n",
       "14  Кэтлей, Отель Продакшнс, Мунстоун Интертейнмен...   \n",
       "15                              Киностудия \"Мосфильм\"   \n",
       "16                              Киностудия \"Мосфильм\"   \n",
       "17                              Киностудия \"Мосфильм\"   \n",
       "18                              Киностудия \"Мосфильм\"   \n",
       "19                              Киностудия \"Мосфильм\"   \n",
       "\n",
       "         production_country                   director  \\\n",
       "0                       США              Кевин Костнер   \n",
       "1                      СССР                  Е.Матвеев   \n",
       "2                       США          Тимур Бекмамбетов   \n",
       "3                       США          Тимур Бекмамбетов   \n",
       "4                       США          Тимур Бекмамбетов   \n",
       "5                      СССР               В.Абдрашитов   \n",
       "6                      СССР                  В.Меньшов   \n",
       "7                       США              Джон Туртурро   \n",
       "8                   Франция               Эрик Беснард   \n",
       "9             СССР, Венгрия                    В.Титов   \n",
       "10                      США              Пол Грингросс   \n",
       "11                     СССР              М.Туманишвили   \n",
       "12                      США               Клинт Иствуд   \n",
       "13  Германия-Великобритания        Фернанду Мейрелльеш   \n",
       "14  Великобритания - Италия                Майк Фиггис   \n",
       "15                     СССР                 А.Салтыков   \n",
       "16                     СССР                  Г.Данелия   \n",
       "17                     СССР                  А.Смирнов   \n",
       "18                     СССР                  Ю.Чулюкин   \n",
       "19                     СССР  В.Краснопольский, В.Усков   \n",
       "\n",
       "                                             producer age_restriction  \\\n",
       "0           Дэвид Валдес, Кевин Костнер, Джейк Эбертс             18+   \n",
       "1                                             unknown              6+   \n",
       "2   Джим Лемли, Джейсон Нетер, Марк Е.Платт, Яйн Смит             18+   \n",
       "3   Джим Лемли, Джейсон Нетер, Марк Е.Платт, Яйн Смит             18+   \n",
       "4   Джим Лемли, Джейсон Нетер, Марк Е.Платт, Яйн Смит             18+   \n",
       "5                                             unknown              6+   \n",
       "6                                             unknown             12+   \n",
       "7                         Джон Пенотти, Джон Туртурро             18+   \n",
       "8                                         Патрис Леду             18+   \n",
       "9                                             unknown             12+   \n",
       "10         Патрик Кроули, Фрэнк Маршалл, Пол Сэндберг             16+   \n",
       "11                                            unknown             12+   \n",
       "12  Клинт Иствуд, Том Розенберг, Альберт С.Рудди, ...             16+   \n",
       "13                             Саймон Чэннинг Уильямс             16+   \n",
       "14                Этчи Стро, Анни Стюарт, Майк Фиггис             18+   \n",
       "15                                            unknown             12+   \n",
       "16                                            unknown             12+   \n",
       "17                                            unknown             12+   \n",
       "18                                            unknown              6+   \n",
       "19                                            unknown              6+   \n",
       "\n",
       "    refundable_support  nonrefundable_support  budget financing_source  \\\n",
       "0                  0.0                    0.0     0.0          unknown   \n",
       "1                  0.0                    0.0     0.0          unknown   \n",
       "2                  0.0                    0.0     0.0          unknown   \n",
       "3                  0.0                    0.0     0.0          unknown   \n",
       "4                  0.0                    0.0     0.0          unknown   \n",
       "5                  0.0                    0.0     0.0          unknown   \n",
       "6                  0.0                    0.0     0.0          unknown   \n",
       "7                  0.0                    0.0     0.0          unknown   \n",
       "8                  0.0                    0.0     0.0          unknown   \n",
       "9                  0.0                    0.0     0.0          unknown   \n",
       "10                 0.0                    0.0     0.0          unknown   \n",
       "11                 0.0                    0.0     0.0          unknown   \n",
       "12                 0.0                    0.0     0.0          unknown   \n",
       "13                 0.0                    0.0     0.0          unknown   \n",
       "14                 0.0                    0.0     0.0          unknown   \n",
       "15                 0.0                    0.0     0.0          unknown   \n",
       "16                 0.0                    0.0     0.0          unknown   \n",
       "17                 0.0                    0.0     0.0          unknown   \n",
       "18                 0.0                    0.0     0.0          unknown   \n",
       "19                 0.0                    0.0     0.0          unknown   \n",
       "\n",
       "   ratings                     genres  box_office  total_support  year  \\\n",
       "0      7.2     боевик,драма,мелодрама         0.0            0.0  2015   \n",
       "1      6.6              драма,военный         0.0            0.0  2016   \n",
       "2      6.8  фантастика,боевик,триллер         0.0            0.0  2016   \n",
       "3      6.8  фантастика,боевик,триллер         0.0            0.0  2016   \n",
       "4      6.8  фантастика,боевик,триллер         0.0            0.0  2015   \n",
       "5      7.7                      драма         0.0            0.0  2016   \n",
       "6      8.3          мелодрама,комедия     2,700.0            0.0  2013   \n",
       "7      6.6   мюзикл,мелодрама,комедия         0.0            0.0  2014   \n",
       "8      8.0           комедия,криминал         0.0            0.0  2016   \n",
       "9      7.8          мелодрама,комедия         0.0            0.0  2014   \n",
       "10     7.7    боевик,триллер,детектив         0.0            0.0  2016   \n",
       "11     7.8   боевик,драма,приключения         0.0            0.0  2014   \n",
       "12     8.1                драма,спорт         0.0            0.0  2015   \n",
       "13     7.1    триллер,драма,мелодрама         0.0            0.0  2013   \n",
       "14     6.0          комедия,мелодрама         0.0            0.0  2012   \n",
       "15     8.3                      драма         0.0            0.0  2016   \n",
       "16     8.0    драма,мелодрама,комедия         0.0            0.0  2013   \n",
       "17     7.4            драма,мелодрама         0.0            0.0  2014   \n",
       "18     8.0          мелодрама,комедия       360.0            0.0  2016   \n",
       "19     7.7                      драма       420.0            0.0  2016   \n",
       "\n",
       "          main_director       genre  \n",
       "0         Кевин Костнер      боевик  \n",
       "1             Е.Матвеев       драма  \n",
       "2     Тимур Бекмамбетов  фантастика  \n",
       "3     Тимур Бекмамбетов  фантастика  \n",
       "4     Тимур Бекмамбетов  фантастика  \n",
       "5          В.Абдрашитов       драма  \n",
       "6             В.Меньшов   мелодрама  \n",
       "7         Джон Туртурро      мюзикл  \n",
       "8          Эрик Беснард     комедия  \n",
       "9               В.Титов   мелодрама  \n",
       "10        Пол Грингросс      боевик  \n",
       "11        М.Туманишвили      боевик  \n",
       "12         Клинт Иствуд       драма  \n",
       "13  Фернанду Мейрелльеш     триллер  \n",
       "14          Майк Фиггис     комедия  \n",
       "15           А.Салтыков       драма  \n",
       "16            Г.Данелия       драма  \n",
       "17            А.Смирнов       драма  \n",
       "18            Ю.Чулюкин   мелодрама  \n",
       "19     В.Краснопольский       драма  "
      ]
     },
     "metadata": {},
     "output_type": "display_data"
    }
   ],
   "source": [
    "display(data.head(20))"
   ]
  },
  {
   "cell_type": "markdown",
   "metadata": {},
   "source": [
    "Выведем таблицу"
   ]
  },
  {
   "cell_type": "markdown",
   "metadata": {
    "id": "1FsCXHwdgFyU"
   },
   "source": [
    "- Посчитайте, какую долю от общего бюджета фильма составляет государственная поддержка."
   ]
  },
  {
   "cell_type": "code",
   "execution_count": 50,
   "metadata": {
    "id": "LV6qFuZLgFyV"
   },
   "outputs": [],
   "source": [
    "data['proportion_of_support'] = data['budget'] / data['total_support']"
   ]
  },
  {
   "cell_type": "markdown",
   "metadata": {},
   "source": [
    "Посчитаем какую долю от общего бюджета фильма составляет государственная поддержка"
   ]
  },
  {
   "cell_type": "markdown",
   "metadata": {
    "id": "6t4EukPLgFyV"
   },
   "source": [
    "### Шаг 3. Проведите исследовательский анализ данных\n"
   ]
  },
  {
   "cell_type": "markdown",
   "metadata": {
    "id": "vAH8WCzugFyV"
   },
   "source": [
    "Посмотрите, сколько фильмов выходило в прокат каждый год. Обратите внимание, что данные о прокате в кинотеатрах известны не для всех фильмов. Посчитайте, какую долю составляют фильмы с указанной информацией о прокате в кинотеатрах."
   ]
  },
  {
   "cell_type": "code",
   "execution_count": 51,
   "metadata": {
    "id": "ABeV47y7gFyW"
   },
   "outputs": [],
   "source": [
    "numb_of_distribution = data.query('box_office != 0')"
   ]
  },
  {
   "cell_type": "code",
   "execution_count": 52,
   "metadata": {},
   "outputs": [
    {
     "data": {
      "image/png": "[encoded data removed]",
      "text/plain": [
       "<Figure size 432x288 with 1 Axes>"
      ]
     },
     "metadata": {
      "needs_background": "light"
     },
     "output_type": "display_data"
    }
   ],
   "source": [
    "numb_of_distribution['year'].hist(bins=20, range=(2010, 2020));"
   ]
  },
  {
   "cell_type": "markdown",
   "metadata": {},
   "source": [
    "Построим гистограмму  \n",
    "Из неё видим, что количество фильмов в прокате увеличивается с 2010 года. По нашим данным в 2010-2011 годах в прокате было около 100 фильмов ежегодно, в 2012 увиичлось примерно на 20. В 2013-2014 годах было 180 и 280 соответственно. В 2015 наблюдается резкий скачок и уже 470 фильмов в год, в 2016 число достигло 520 фильмов. В 2017 году наблюдается пад и фильмов в прокат выходило всего 460. Но уже в 2018 году показатель снова был 490, в 2019-2020 - 520 фильмов."
   ]
  },
  {
   "cell_type": "markdown",
   "metadata": {
    "id": "BEOdcIrIgFyW"
   },
   "source": [
    "- Изучите, как менялась динамика проката по годам. В каком году сумма сборов была минимальной? А максимальной?"
   ]
  },
  {
   "cell_type": "code",
   "execution_count": 53,
   "metadata": {},
   "outputs": [
    {
     "data": {
      "image/png": "[encoded data removed]",
      "text/plain": [
       "<Figure size 432x288 with 1 Axes>"
      ]
     },
     "metadata": {
      "needs_background": "light"
     },
     "output_type": "display_data"
    }
   ],
   "source": [
    "sns.barplot(x='year', y='box_office', data=data, ci= None);"
   ]
  },
  {
   "cell_type": "markdown",
   "metadata": {},
   "source": [
    "На графике мы видим, что:  \n",
    "с 2010 по 2013 год сборов не было;  \n",
    "в 2014 году видим показатели сборов на уровне 0.1;  \n",
    "в 2015 и 2016 годах почти одинаковые показатели 0.6;  \n",
    "в 2017 году сборы достигли 0.9;  \n",
    "в 2018 вернулись на уровень 0.6;  \n",
    "и в 2019 году показали результат около 0.5."
   ]
  },
  {
   "cell_type": "markdown",
   "metadata": {
    "id": "G-7qS-N-gFyY"
   },
   "source": [
    "- С помощью сводной таблицы посчитайте среднюю и медианную сумму сборов для каждого года."
   ]
  },
  {
   "cell_type": "code",
   "execution_count": 54,
   "metadata": {
    "id": "jmp-rgg9gFyY"
   },
   "outputs": [
    {
     "data": {
      "text/html": [
       "<div>\n",
       "<style scoped>\n",
       "    .dataframe tbody tr th:only-of-type {\n",
       "        vertical-align: middle;\n",
       "    }\n",
       "\n",
       "    .dataframe tbody tr th {\n",
       "        vertical-align: top;\n",
       "    }\n",
       "\n",
       "    .dataframe thead tr th {\n",
       "        text-align: left;\n",
       "    }\n",
       "\n",
       "    .dataframe thead tr:last-of-type th {\n",
       "        text-align: right;\n",
       "    }\n",
       "</style>\n",
       "<table border=\"1\" class=\"dataframe\">\n",
       "  <thead>\n",
       "    <tr>\n",
       "      <th></th>\n",
       "      <th>mean</th>\n",
       "      <th>median</th>\n",
       "    </tr>\n",
       "    <tr>\n",
       "      <th></th>\n",
       "      <th>box_office</th>\n",
       "      <th>box_office</th>\n",
       "    </tr>\n",
       "    <tr>\n",
       "      <th>year</th>\n",
       "      <th></th>\n",
       "      <th></th>\n",
       "    </tr>\n",
       "  </thead>\n",
       "  <tbody>\n",
       "    <tr>\n",
       "      <th>2010</th>\n",
       "      <td>2,470.7</td>\n",
       "      <td>0.0</td>\n",
       "    </tr>\n",
       "    <tr>\n",
       "      <th>2011</th>\n",
       "      <td>22,673.3</td>\n",
       "      <td>0.0</td>\n",
       "    </tr>\n",
       "    <tr>\n",
       "      <th>2012</th>\n",
       "      <td>11,729.2</td>\n",
       "      <td>0.0</td>\n",
       "    </tr>\n",
       "    <tr>\n",
       "      <th>2013</th>\n",
       "      <td>47,301.1</td>\n",
       "      <td>0.0</td>\n",
       "    </tr>\n",
       "    <tr>\n",
       "      <th>2014</th>\n",
       "      <td>9,225,467.0</td>\n",
       "      <td>0.0</td>\n",
       "    </tr>\n",
       "    <tr>\n",
       "      <th>2015</th>\n",
       "      <td>56,024,631.5</td>\n",
       "      <td>739,938.0</td>\n",
       "    </tr>\n",
       "    <tr>\n",
       "      <th>2016</th>\n",
       "      <td>58,516,258.9</td>\n",
       "      <td>479,832.5</td>\n",
       "    </tr>\n",
       "    <tr>\n",
       "      <th>2017</th>\n",
       "      <td>96,165,756.9</td>\n",
       "      <td>2,522,174.0</td>\n",
       "    </tr>\n",
       "    <tr>\n",
       "      <th>2018</th>\n",
       "      <td>55,744,560.2</td>\n",
       "      <td>289,040.0</td>\n",
       "    </tr>\n",
       "    <tr>\n",
       "      <th>2019</th>\n",
       "      <td>52,070,654.6</td>\n",
       "      <td>597,710.0</td>\n",
       "    </tr>\n",
       "  </tbody>\n",
       "</table>\n",
       "</div>"
      ],
      "text/plain": [
       "             mean      median\n",
       "       box_office  box_office\n",
       "year                         \n",
       "2010      2,470.7         0.0\n",
       "2011     22,673.3         0.0\n",
       "2012     11,729.2         0.0\n",
       "2013     47,301.1         0.0\n",
       "2014  9,225,467.0         0.0\n",
       "2015 56,024,631.5   739,938.0\n",
       "2016 58,516,258.9   479,832.5\n",
       "2017 96,165,756.9 2,522,174.0\n",
       "2018 55,744,560.2   289,040.0\n",
       "2019 52,070,654.6   597,710.0"
      ]
     },
     "metadata": {},
     "output_type": "display_data"
    }
   ],
   "source": [
    "display(data.pivot_table(\n",
    "               index='year',\n",
    "               values=['box_office'],\n",
    "               aggfunc=['mean', 'median']))"
   ]
  },
  {
   "cell_type": "markdown",
   "metadata": {},
   "source": [
    "Считаем среднюю и медианную сумму сборов для каждого года  \n",
    "Как и на графике, видим что в период с 2010 по 2014 медианных значений нет, а значит в наших данных есть только один фильм из этого промежутка с указанными сборами. Интересно, что медиана больше за 2017 год, а не за 2019. Хотя на нашем графике очевидно, что максимальное значение было достигнуто именно в 2019 году. Это можно объяснить количеством выпущенных в прокат фильмов в 2017 году, нежели в 2019."
   ]
  },
  {
   "cell_type": "code",
   "execution_count": 55,
   "metadata": {},
   "outputs": [
    {
     "data": {
      "text/plain": [
       "<AxesSubplot:xlabel='age_restriction'>"
      ]
     },
     "metadata": {},
     "output_type": "display_data"
    },
    {
     "data": {
      "image/png": "[encoded data removed]",
      "text/plain": [
       "<Figure size 1440x720 with 1 Axes>"
      ]
     },
     "metadata": {
      "needs_background": "light"
     },
     "output_type": "display_data"
    }
   ],
   "source": [
    "display(data\n",
    "      .query('year >= 2015')\n",
    "      .pivot_table(index='age_restriction',columns=['year'],values=['box_office'],aggfunc='median')\n",
    "      .plot(style='o-', grid=True, figsize=(20, 10)))"
   ]
  },
  {
   "cell_type": "markdown",
   "metadata": {
    "id": "Ok89WFwJgFyZ"
   },
   "source": [
    "- Определите, влияет ли возрастное ограничение аудитории («6+», «12+», «16+», «18+» и т. д.) на сборы фильма в прокате в период с 2015 по 2019 год? Фильмы с каким возрастным ограничением собрали больше всего денег в прокате? Меняется ли картина в зависимости от года? Если да, предположите, с чем это может быть связано."
   ]
  },
  {
   "cell_type": "markdown",
   "metadata": {
    "id": "jsSbEqfjgFya"
   },
   "source": [
    "Для определения влияния возрастных ограничений на сборы, построим график с медианными значениями.  \n",
    "На графике мы видим, что фильмы с разными возрастными ограничениями собирают разные суммы и отличаются от года к году.  \n",
    "\"0+\" фильмы собирал кассу только в 2015 году. Возможно, что просто по другим годам у нас нет даных.  \n",
    "\"6+\" фильмы собирали в 2015 и 2019 годах примерно одинаковое количество денег, на уровне 1,5. В 2016 собрал 0,6, в 2018 - 3,2, и максимальное значение по всем годам и возрастным рарядом собрал в 2017 году, достигнув результата - 5,8.  \n",
    "\"12+\" фильмы в 2015,2018 и 2019 годах не собрали ничего. В 2016 и 2017 - 0,1 и 0,2 соотвветсвенно.  \n",
    "\"16+\" в 2015-2016 годах собирал примерно одинаково - 0,7. В 2019 - 1,1, в 2018 - 1,9, в 2017 - 4,9.  \n",
    "\"18+\" в 2016г  собрали 0,8, в 2015 - 1,2, в 2019 - 2,5, 2018г - 4,8, в 2017 - 5,6.  \n",
    "Исходя из наших данных, мы видим что больше всего собирают две категории фильмов \"6+\" и \"18+\". Предположу что в первом случае это связано с тем, что на фильмы \"6+\" ходят чаще всего всей семьей, а значит и билетов на такие фильмы продаётся больше. Но вероятно что в этой возрастной категории выходит не так много фильмов, соответственно и сборов не всегда много. В категории \"18+\" выходит больше фильмов, поэтому мы видим средние и максимальные значения в этой категории по году. Также можем утверждать, что для кинотеатров наиболее удачным годом по сборам был 2017, так как максимальные значения по трём категориям из пяти зафиксированы именно в этот год."
   ]
  },
  {
   "cell_type": "markdown",
   "metadata": {
    "id": "l_Kg6Ku4gFya"
   },
   "source": [
    "### Шаг 4. Исследуйте фильмы, которые получили государственную поддержку\n",
    "\n",
    "На этом этапе нет конкретных инструкций и заданий — поищите интересные закономерности в данных. Посмотрите, сколько выделяют средств на поддержку кино. Проверьте, хорошо ли окупаются такие фильмы, какой у них рейтинг."
   ]
  },
  {
   "cell_type": "code",
   "execution_count": 56,
   "metadata": {},
   "outputs": [],
   "source": [
    "df_corr = data[['type', 'film_studio', 'refundable_support', 'nonrefundable_support', 'budget', 'financing_source', 'ratings', 'box_office']]"
   ]
  },
  {
   "cell_type": "markdown",
   "metadata": {},
   "source": [
    "Соберем интересующие нас столбцы в отдельную таблицу"
   ]
  },
  {
   "cell_type": "code",
   "execution_count": 57,
   "metadata": {},
   "outputs": [
    {
     "data": {
      "text/html": [
       "<div>\n",
       "<style scoped>\n",
       "    .dataframe tbody tr th:only-of-type {\n",
       "        vertical-align: middle;\n",
       "    }\n",
       "\n",
       "    .dataframe tbody tr th {\n",
       "        vertical-align: top;\n",
       "    }\n",
       "\n",
       "    .dataframe thead th {\n",
       "        text-align: right;\n",
       "    }\n",
       "</style>\n",
       "<table border=\"1\" class=\"dataframe\">\n",
       "  <thead>\n",
       "    <tr style=\"text-align: right;\">\n",
       "      <th></th>\n",
       "      <th>refundable_support</th>\n",
       "      <th>nonrefundable_support</th>\n",
       "      <th>budget</th>\n",
       "      <th>box_office</th>\n",
       "    </tr>\n",
       "  </thead>\n",
       "  <tbody>\n",
       "    <tr>\n",
       "      <th>refundable_support</th>\n",
       "      <td>1.0</td>\n",
       "      <td>0.5</td>\n",
       "      <td>0.7</td>\n",
       "      <td>0.2</td>\n",
       "    </tr>\n",
       "    <tr>\n",
       "      <th>nonrefundable_support</th>\n",
       "      <td>0.5</td>\n",
       "      <td>1.0</td>\n",
       "      <td>1.0</td>\n",
       "      <td>0.2</td>\n",
       "    </tr>\n",
       "    <tr>\n",
       "      <th>budget</th>\n",
       "      <td>0.7</td>\n",
       "      <td>1.0</td>\n",
       "      <td>1.0</td>\n",
       "      <td>0.2</td>\n",
       "    </tr>\n",
       "    <tr>\n",
       "      <th>box_office</th>\n",
       "      <td>0.2</td>\n",
       "      <td>0.2</td>\n",
       "      <td>0.2</td>\n",
       "      <td>1.0</td>\n",
       "    </tr>\n",
       "  </tbody>\n",
       "</table>\n",
       "</div>"
      ],
      "text/plain": [
       "                       refundable_support  nonrefundable_support  budget  \\\n",
       "refundable_support                    1.0                    0.5     0.7   \n",
       "nonrefundable_support                 0.5                    1.0     1.0   \n",
       "budget                                0.7                    1.0     1.0   \n",
       "box_office                            0.2                    0.2     0.2   \n",
       "\n",
       "                       box_office  \n",
       "refundable_support            0.2  \n",
       "nonrefundable_support         0.2  \n",
       "budget                        0.2  \n",
       "box_office                    1.0  "
      ]
     },
     "execution_count": 57,
     "metadata": {},
     "output_type": "execute_result"
    }
   ],
   "source": [
    "df_corr.corr()"
   ]
  },
  {
   "cell_type": "markdown",
   "metadata": {},
   "source": [
    "Выведем корреляцию между нашими столбцами  \n",
    "Видим, что есть высокая корреляция между возвратными и невозвратными средствами по отношению к общему бюджету.  \n",
    "Изучим подробнее на графиках"
   ]
  },
  {
   "cell_type": "code",
   "execution_count": 58,
   "metadata": {},
   "outputs": [
    {
     "data": {
      "image/png": "[encoded data removed]",
      "text/plain": [
       "<Figure size 1080x360 with 1 Axes>"
      ]
     },
     "metadata": {
      "needs_background": "light"
     },
     "output_type": "display_data"
    }
   ],
   "source": [
    "df_ref_supp = data.query('refundable_support > 0')\n",
    "df_ref_supp.plot(x='budget', y='refundable_support', kind='scatter', alpha=0.4, figsize=(15, 5));"
   ]
  },
  {
   "cell_type": "markdown",
   "metadata": {},
   "source": [
    "Действительно, видим что с увеличением бюджета увеличивается и количество выданных возвратных средств от государства."
   ]
  },
  {
   "cell_type": "code",
   "execution_count": 59,
   "metadata": {},
   "outputs": [
    {
     "data": {
      "image/png": "[encoded data removed]",
      "text/plain": [
       "<Figure size 1080x360 with 1 Axes>"
      ]
     },
     "metadata": {
      "needs_background": "light"
     },
     "output_type": "display_data"
    }
   ],
   "source": [
    "df_nonref_supp = data.query('nonrefundable_support >0')\n",
    "df_nonref_supp.plot(x='budget', y='nonrefundable_support', kind='scatter', alpha=0.3, figsize=(15, 5));"
   ]
  },
  {
   "cell_type": "markdown",
   "metadata": {},
   "source": [
    "На этом графике заметна ещё большая связь. Чем больше бюджет, тем больше и сумма невозвратных средств."
   ]
  },
  {
   "cell_type": "code",
   "execution_count": 60,
   "metadata": {
    "scrolled": true
   },
   "outputs": [
    {
     "data": {
      "image/png": "[encoded data removed]",
      "text/plain": [
       "<Figure size 1080x360 with 1 Axes>"
      ]
     },
     "metadata": {
      "needs_background": "light"
     },
     "output_type": "display_data"
    }
   ],
   "source": [
    "df_ref_supp.query('ratings != \"unknown\"').plot(x='ratings', y='refundable_support', \n",
    "                                               kind='scatter', alpha=0.4, figsize=(15, 5));"
   ]
  },
  {
   "cell_type": "markdown",
   "metadata": {},
   "source": [
    "Проверим, есть ли связь между рейтингом и количеством выделяем возвратных средств.  \n",
    "На графике видим, что с увеличением средств, рейтинг не увеличивается. Есть много значений с небольшой поддержкой, но высоким рейтингом. Точно так же есть много значений с большой поддержкой, но средним рейтингом в районе 5-6."
   ]
  },
  {
   "cell_type": "code",
   "execution_count": 61,
   "metadata": {},
   "outputs": [
    {
     "data": {
      "image/png": "[encoded data removed]",
      "text/plain": [
       "<Figure size 1080x360 with 1 Axes>"
      ]
     },
     "metadata": {
      "needs_background": "light"
     },
     "output_type": "display_data"
    }
   ],
   "source": [
    "df_nonref_supp.query('ratings != \"unknown\"').plot(x='ratings', y='nonrefundable_support', \n",
    "                                                  kind='scatter', alpha=0.4, figsize=(15, 5));"
   ]
  },
  {
   "cell_type": "markdown",
   "metadata": {},
   "source": [
    "Проверяем есть ли зависимость рейтинга от количества выделяем невозвратных средств.  \n",
    "Видим, что зависимости нет. С разной поддержкой, большинство фильмов лежат в диапозоне рейтинга 5-7. И парочка значений с небольшой поддержкой имеют оценку 8.7, что говорит об отсутсвии какой-либо связи этих двух факторов."
   ]
  },
  {
   "cell_type": "code",
   "execution_count": 62,
   "metadata": {},
   "outputs": [
    {
     "data": {
      "image/png": "[encoded data removed]",
      "text/plain": [
       "<Figure size 1080x360 with 1 Axes>"
      ]
     },
     "metadata": {
      "needs_background": "light"
     },
     "output_type": "display_data"
    }
   ],
   "source": [
    "df_ref_supp.plot(x='box_office', y='refundable_support', kind='scatter', alpha=0.4, figsize=(15, 5));"
   ]
  },
  {
   "cell_type": "markdown",
   "metadata": {},
   "source": [
    "Проверим, есть ли зависимость между кассовым сбором в прокате и выделяемыми возвратными средствами.  \n",
    "На графике видим, что при разных суммах выделенных средств кассовые сборы остаются примерно одинаковыми, на уровне 0.3-0.9. Это говорит об отсутсвии зависимости между данными условиями."
   ]
  },
  {
   "cell_type": "code",
   "execution_count": 63,
   "metadata": {},
   "outputs": [
    {
     "data": {
      "image/png": "[encoded data removed]",
      "text/plain": [
       "<Figure size 1080x360 with 1 Axes>"
      ]
     },
     "metadata": {
      "needs_background": "light"
     },
     "output_type": "display_data"
    }
   ],
   "source": [
    "df_nonref_supp.plot(x='box_office', y='nonrefundable_support', kind='scatter', alpha=0.4, figsize=(15, 5));"
   ]
  },
  {
   "cell_type": "markdown",
   "metadata": {},
   "source": [
    "Проверим, есть ли зависимость между кассовым сбором в прокате и выделяемыми невозвратными средствами.  \n",
    "График показывает много значений с разной суммой невозвратных средств с одинаковыми примерно кассовыми сборами, что говорит об отсутсвии зависимости."
   ]
  },
  {
   "cell_type": "markdown",
   "metadata": {
    "id": "V2gYwMcPgFyd"
   },
   "source": [
    "### Шаг 5. Напишите общий вывод"
   ]
  },
  {
   "cell_type": "markdown",
   "metadata": {
    "id": "AYRg3dzXgFye"
   },
   "source": [
    "Было проведено исследование по изучению российского рынка кинопроката.  \n",
    "Исходные данные: информация о прокатных удостоверениях, сборах и государственной поддержке фильмов, а также информация с о рейтингах фильмов.  \n",
    "  \n",
    "Перед проведением исследования мы составили следующие гипотезы:\n",
    "\n",
    "Гипотеза 1: бюджет фильма влияет на количество выделяем возвратных и невозвратных средств;\n",
    "Гипотеза 2: количество выделяемых средств влияет на рейтинг фильма;\n",
    "Гипотеза 3: количество выделяемых возвратных и невозвратных средств влияет на кассовые сборы.  \n",
    "  \n",
    "  В результате нашего исследования удалось найти следующие зависимости:\n",
    "Гипотеза 1. Данная гипотеза подтверждается полностью. Действительно мы видим, что чем больше запланированный бюджет фильма, тем больше объем средств. Наши данные показывают зависимость между бюджетом и возвратными и невозвратными средствами поддержки от государства, причём зависимость в отношении невозвртаных средств выше.\n",
    "\n",
    "Гипотеза 2.\n",
    "Данная гипотеза не подтверждается. Мы видим, что от увеличения количества возвратных и невозвратных средств поддержки государства рейтинг фильмов не увеличивается.\n",
    "\n",
    "Гипотеза 3.\n",
    "Данная гипотеза не подтверждается. Мы видим, что от увеличения количества возвратных и невозвратных средств поддержки государства кассовые сборы фильмов не растут, соответсвенно мы можем утвержать что есть другой фактор влияния.\n",
    "\n",
    "Выводы: по результатам исследования можем сказать, что наибольшую поддержку получают фильмы с большим бюджетом, однако такие фильмы не получают высокую оценку зрителей и не приносят больших кассовых сборов.\n",
    "\n",
    "Рекомендация: провести дополнительное исследование по изучению вкусовых предпочтений зрителя, чтобы инвестировать государсвенную поддержку в фильмы нужные зрителю."
   ]
  },
  {
   "cell_type": "markdown",
   "metadata": {},
   "source": [
    "---"
   ]
  }
 ],
 "metadata": {
  "ExecuteTimeLog": [
   {
    "duration": 537,
    "start_time": "2021-07-07T10:12:08.634Z"
   },
   {
    "duration": 206,
    "start_time": "2021-07-07T10:12:30.191Z"
   },
   {
    "duration": 227,
    "start_time": "2021-07-07T10:12:33.078Z"
   },
   {
    "duration": 153,
    "start_time": "2021-07-07T10:13:42.146Z"
   },
   {
    "duration": 233,
    "start_time": "2021-07-07T10:30:09.252Z"
   },
   {
    "duration": 19,
    "start_time": "2021-07-07T10:30:15.577Z"
   },
   {
    "duration": 18,
    "start_time": "2021-07-07T10:30:57.348Z"
   },
   {
    "duration": 19,
    "start_time": "2021-07-07T10:31:17.452Z"
   },
   {
    "duration": 21,
    "start_time": "2021-07-07T10:31:32.227Z"
   },
   {
    "duration": 27,
    "start_time": "2021-07-07T10:32:06.588Z"
   },
   {
    "duration": 23,
    "start_time": "2021-07-07T10:32:43.645Z"
   },
   {
    "duration": 24,
    "start_time": "2021-07-07T10:33:06.948Z"
   },
   {
    "duration": 7,
    "start_time": "2021-07-07T10:33:28.558Z"
   },
   {
    "duration": 23,
    "start_time": "2021-07-07T10:33:43.761Z"
   },
   {
    "duration": 28,
    "start_time": "2021-07-07T10:34:13.466Z"
   },
   {
    "duration": 23,
    "start_time": "2021-07-07T10:35:56.187Z"
   },
   {
    "duration": 6,
    "start_time": "2021-07-07T10:36:48.182Z"
   },
   {
    "duration": 14,
    "start_time": "2021-07-07T10:37:49.641Z"
   },
   {
    "duration": 6,
    "start_time": "2021-07-07T10:38:06.694Z"
   },
   {
    "duration": 6,
    "start_time": "2021-07-07T10:38:13.493Z"
   },
   {
    "duration": 19,
    "start_time": "2021-07-07T10:38:44.056Z"
   },
   {
    "duration": 186,
    "start_time": "2021-07-07T10:48:35.618Z"
   },
   {
    "duration": 24,
    "start_time": "2021-07-07T10:48:51.498Z"
   },
   {
    "duration": 20,
    "start_time": "2021-07-07T10:48:59.415Z"
   },
   {
    "duration": 20,
    "start_time": "2021-07-07T10:53:02.195Z"
   },
   {
    "duration": 188,
    "start_time": "2021-07-07T10:54:40.486Z"
   },
   {
    "duration": 115,
    "start_time": "2021-07-07T10:54:52.552Z"
   },
   {
    "duration": 214,
    "start_time": "2021-07-07T10:54:56.354Z"
   },
   {
    "duration": 47,
    "start_time": "2021-07-07T10:54:58.282Z"
   },
   {
    "duration": 217,
    "start_time": "2021-07-07T10:59:16.075Z"
   },
   {
    "duration": 51,
    "start_time": "2021-07-07T10:59:16.243Z"
   },
   {
    "duration": 578,
    "start_time": "2021-07-07T10:59:18.774Z"
   },
   {
    "duration": 161,
    "start_time": "2021-07-07T10:59:21.238Z"
   },
   {
    "duration": 59,
    "start_time": "2021-07-07T10:59:21.453Z"
   },
   {
    "duration": 3,
    "start_time": "2021-07-07T11:02:10.786Z"
   },
   {
    "duration": 13,
    "start_time": "2021-07-07T11:07:07.722Z"
   },
   {
    "duration": 26,
    "start_time": "2021-07-07T11:07:17.958Z"
   },
   {
    "duration": 22,
    "start_time": "2021-07-07T11:08:17.939Z"
   },
   {
    "duration": 212,
    "start_time": "2021-07-07T11:08:19.665Z"
   },
   {
    "duration": 21,
    "start_time": "2021-07-07T11:08:29.945Z"
   },
   {
    "duration": 31,
    "start_time": "2021-07-07T11:08:38.899Z"
   },
   {
    "duration": 23,
    "start_time": "2021-07-07T11:08:54.527Z"
   },
   {
    "duration": 8,
    "start_time": "2021-07-07T11:18:55.974Z"
   },
   {
    "duration": 7,
    "start_time": "2021-07-07T11:19:03.639Z"
   },
   {
    "duration": 7,
    "start_time": "2021-07-07T11:19:06.444Z"
   },
   {
    "duration": 578,
    "start_time": "2021-07-07T12:09:59.576Z"
   },
   {
    "duration": 195,
    "start_time": "2021-07-07T12:10:00.156Z"
   },
   {
    "duration": 115,
    "start_time": "2021-07-07T12:10:00.353Z"
   },
   {
    "duration": 3,
    "start_time": "2021-07-07T12:10:00.470Z"
   },
   {
    "duration": 32,
    "start_time": "2021-07-07T12:10:00.474Z"
   },
   {
    "duration": 23,
    "start_time": "2021-07-07T12:10:00.508Z"
   },
   {
    "duration": 19,
    "start_time": "2021-07-07T12:10:00.533Z"
   },
   {
    "duration": 44,
    "start_time": "2021-07-07T12:10:00.553Z"
   },
   {
    "duration": 7,
    "start_time": "2021-07-07T12:10:00.600Z"
   },
   {
    "duration": 7,
    "start_time": "2021-07-07T12:19:45.761Z"
   },
   {
    "duration": 21,
    "start_time": "2021-07-07T12:21:35.482Z"
   },
   {
    "duration": 21,
    "start_time": "2021-07-07T12:29:23.569Z"
   },
   {
    "duration": 525,
    "start_time": "2021-07-07T12:29:44.542Z"
   },
   {
    "duration": 214,
    "start_time": "2021-07-07T12:29:45.069Z"
   },
   {
    "duration": 92,
    "start_time": "2021-07-07T12:29:45.285Z"
   },
   {
    "duration": 3,
    "start_time": "2021-07-07T12:29:45.379Z"
   },
   {
    "duration": 28,
    "start_time": "2021-07-07T12:29:45.384Z"
   },
   {
    "duration": 23,
    "start_time": "2021-07-07T12:29:45.413Z"
   },
   {
    "duration": 21,
    "start_time": "2021-07-07T12:29:45.437Z"
   },
   {
    "duration": 41,
    "start_time": "2021-07-07T12:29:45.460Z"
   },
   {
    "duration": 7,
    "start_time": "2021-07-07T12:29:45.502Z"
   },
   {
    "duration": 20,
    "start_time": "2021-07-07T12:29:45.511Z"
   },
   {
    "duration": 12,
    "start_time": "2021-07-07T12:34:02.800Z"
   },
   {
    "duration": 7,
    "start_time": "2021-07-07T12:35:10.479Z"
   },
   {
    "duration": 8,
    "start_time": "2021-07-07T12:35:22.440Z"
   },
   {
    "duration": 6,
    "start_time": "2021-07-07T12:35:35.649Z"
   },
   {
    "duration": 6,
    "start_time": "2021-07-07T12:35:43.107Z"
   },
   {
    "duration": 22,
    "start_time": "2021-07-07T12:38:03.029Z"
   },
   {
    "duration": 10,
    "start_time": "2021-07-07T12:38:06.592Z"
   },
   {
    "duration": 563,
    "start_time": "2021-07-07T12:38:46.493Z"
   },
   {
    "duration": 265,
    "start_time": "2021-07-07T12:38:47.058Z"
   },
   {
    "duration": 94,
    "start_time": "2021-07-07T12:38:47.325Z"
   },
   {
    "duration": 3,
    "start_time": "2021-07-07T12:38:47.422Z"
   },
   {
    "duration": 30,
    "start_time": "2021-07-07T12:38:47.427Z"
   },
   {
    "duration": 16,
    "start_time": "2021-07-07T12:38:53.305Z"
   },
   {
    "duration": 10,
    "start_time": "2021-07-07T12:38:53.499Z"
   },
   {
    "duration": 8,
    "start_time": "2021-07-07T12:39:48.161Z"
   },
   {
    "duration": 27,
    "start_time": "2021-07-07T12:41:17.629Z"
   },
   {
    "duration": 17,
    "start_time": "2021-07-07T12:41:17.867Z"
   },
   {
    "duration": 21,
    "start_time": "2021-07-07T12:41:19.310Z"
   },
   {
    "duration": 7,
    "start_time": "2021-07-07T12:41:19.544Z"
   },
   {
    "duration": 20,
    "start_time": "2021-07-07T12:41:20.504Z"
   },
   {
    "duration": 554,
    "start_time": "2021-07-07T12:56:23.696Z"
   },
   {
    "duration": 200,
    "start_time": "2021-07-07T12:56:25.234Z"
   },
   {
    "duration": 119,
    "start_time": "2021-07-07T12:56:25.480Z"
   },
   {
    "duration": 4,
    "start_time": "2021-07-07T12:56:25.762Z"
   },
   {
    "duration": 26,
    "start_time": "2021-07-07T12:56:27.172Z"
   },
   {
    "duration": 12,
    "start_time": "2021-07-07T12:56:29.051Z"
   },
   {
    "duration": 10,
    "start_time": "2021-07-07T12:56:29.291Z"
   },
   {
    "duration": 8,
    "start_time": "2021-07-07T12:56:29.623Z"
   },
   {
    "duration": 28,
    "start_time": "2021-07-07T12:56:32.137Z"
   },
   {
    "duration": 19,
    "start_time": "2021-07-07T12:56:39.785Z"
   },
   {
    "duration": 20,
    "start_time": "2021-07-07T12:56:44.297Z"
   },
   {
    "duration": 7,
    "start_time": "2021-07-07T12:56:45.392Z"
   },
   {
    "duration": 23,
    "start_time": "2021-07-07T12:56:46.615Z"
   },
   {
    "duration": 4,
    "start_time": "2021-07-07T12:57:06.625Z"
   },
   {
    "duration": 32,
    "start_time": "2021-07-07T12:57:36.690Z"
   },
   {
    "duration": 18,
    "start_time": "2021-07-07T12:58:00.149Z"
   },
   {
    "duration": 15,
    "start_time": "2021-07-07T12:59:16.793Z"
   },
   {
    "duration": 7,
    "start_time": "2021-07-07T13:19:22.624Z"
   },
   {
    "duration": 6,
    "start_time": "2021-07-07T14:17:33.527Z"
   },
   {
    "duration": 9,
    "start_time": "2021-07-07T14:17:48.409Z"
   },
   {
    "duration": 8,
    "start_time": "2021-07-07T14:20:13.060Z"
   },
   {
    "duration": 8,
    "start_time": "2021-07-07T14:20:37.957Z"
   },
   {
    "duration": 8,
    "start_time": "2021-07-07T14:20:47.470Z"
   },
   {
    "duration": 9,
    "start_time": "2021-07-07T14:20:54.503Z"
   },
   {
    "duration": 10,
    "start_time": "2021-07-07T14:28:57.763Z"
   },
   {
    "duration": 3,
    "start_time": "2021-07-07T14:30:23.377Z"
   },
   {
    "duration": 3,
    "start_time": "2021-07-07T14:30:36.489Z"
   },
   {
    "duration": 103,
    "start_time": "2021-07-07T14:30:52.351Z"
   },
   {
    "duration": 8,
    "start_time": "2021-07-07T14:30:54.763Z"
   },
   {
    "duration": 8,
    "start_time": "2021-07-07T14:31:29.301Z"
   },
   {
    "duration": 13,
    "start_time": "2021-07-07T14:31:44.516Z"
   },
   {
    "duration": 7,
    "start_time": "2021-07-07T14:33:10.972Z"
   },
   {
    "duration": 11,
    "start_time": "2021-07-07T14:33:27.780Z"
   },
   {
    "duration": 8,
    "start_time": "2021-07-07T14:34:44.588Z"
   },
   {
    "duration": 57,
    "start_time": "2021-07-07T14:35:59.042Z"
   },
   {
    "duration": 3,
    "start_time": "2021-07-07T14:36:28.168Z"
   },
   {
    "duration": 5,
    "start_time": "2021-07-07T14:36:46.254Z"
   },
   {
    "duration": 4,
    "start_time": "2021-07-07T14:36:52.714Z"
   },
   {
    "duration": 3,
    "start_time": "2021-07-07T14:36:56.612Z"
   },
   {
    "duration": 4,
    "start_time": "2021-07-07T14:36:57.049Z"
   },
   {
    "duration": 3,
    "start_time": "2021-07-07T14:39:21.214Z"
   },
   {
    "duration": 7,
    "start_time": "2021-07-07T14:39:52.406Z"
   },
   {
    "duration": 11,
    "start_time": "2021-07-07T14:39:58.576Z"
   },
   {
    "duration": 9,
    "start_time": "2021-07-07T14:40:26.301Z"
   },
   {
    "duration": 10,
    "start_time": "2021-07-07T14:40:31.704Z"
   },
   {
    "duration": 11,
    "start_time": "2021-07-07T14:40:36.249Z"
   },
   {
    "duration": 10,
    "start_time": "2021-07-07T14:40:39.783Z"
   },
   {
    "duration": 9,
    "start_time": "2021-07-07T14:40:48.558Z"
   },
   {
    "duration": 10,
    "start_time": "2021-07-07T14:40:57.143Z"
   },
   {
    "duration": 9,
    "start_time": "2021-07-07T14:41:06.074Z"
   },
   {
    "duration": 4324,
    "start_time": "2021-07-07T14:41:22.004Z"
   },
   {
    "duration": 11,
    "start_time": "2021-07-07T14:41:33.392Z"
   },
   {
    "duration": 9,
    "start_time": "2021-07-07T14:41:39.288Z"
   },
   {
    "duration": 569,
    "start_time": "2021-07-07T14:42:14.387Z"
   },
   {
    "duration": 197,
    "start_time": "2021-07-07T14:42:14.959Z"
   },
   {
    "duration": 84,
    "start_time": "2021-07-07T14:42:16.052Z"
   },
   {
    "duration": 4,
    "start_time": "2021-07-07T14:42:16.900Z"
   },
   {
    "duration": 27,
    "start_time": "2021-07-07T14:42:19.898Z"
   },
   {
    "duration": 12,
    "start_time": "2021-07-07T14:42:21.577Z"
   },
   {
    "duration": 9,
    "start_time": "2021-07-07T14:42:21.813Z"
   },
   {
    "duration": 9,
    "start_time": "2021-07-07T14:42:22.569Z"
   },
   {
    "duration": 29,
    "start_time": "2021-07-07T14:42:25.837Z"
   },
   {
    "duration": 20,
    "start_time": "2021-07-07T14:42:27.003Z"
   },
   {
    "duration": 21,
    "start_time": "2021-07-07T14:42:28.767Z"
   },
   {
    "duration": 7,
    "start_time": "2021-07-07T14:42:29.838Z"
   },
   {
    "duration": 4,
    "start_time": "2021-07-07T14:43:25.493Z"
   },
   {
    "duration": 7,
    "start_time": "2021-07-07T14:43:26.573Z"
   },
   {
    "duration": 10,
    "start_time": "2021-07-07T14:43:31.639Z"
   },
   {
    "duration": 9,
    "start_time": "2021-07-07T14:43:32.046Z"
   },
   {
    "duration": 10,
    "start_time": "2021-07-07T14:43:33.301Z"
   },
   {
    "duration": 12,
    "start_time": "2021-07-07T14:43:33.658Z"
   },
   {
    "duration": 8,
    "start_time": "2021-07-07T14:43:34.552Z"
   },
   {
    "duration": 9,
    "start_time": "2021-07-07T14:43:35.058Z"
   },
   {
    "duration": 12,
    "start_time": "2021-07-07T14:43:35.914Z"
   },
   {
    "duration": 17,
    "start_time": "2021-07-07T14:45:34.368Z"
   },
   {
    "duration": 512,
    "start_time": "2021-07-07T14:51:58.236Z"
   },
   {
    "duration": 223,
    "start_time": "2021-07-07T14:51:58.750Z"
   },
   {
    "duration": 93,
    "start_time": "2021-07-07T14:51:58.977Z"
   },
   {
    "duration": 4,
    "start_time": "2021-07-07T14:51:59.071Z"
   },
   {
    "duration": 37,
    "start_time": "2021-07-07T14:51:59.077Z"
   },
   {
    "duration": 18,
    "start_time": "2021-07-07T14:51:59.116Z"
   },
   {
    "duration": 10,
    "start_time": "2021-07-07T14:51:59.137Z"
   },
   {
    "duration": 8,
    "start_time": "2021-07-07T14:51:59.149Z"
   },
   {
    "duration": 54,
    "start_time": "2021-07-07T14:51:59.158Z"
   },
   {
    "duration": 18,
    "start_time": "2021-07-07T14:51:59.213Z"
   },
   {
    "duration": 22,
    "start_time": "2021-07-07T14:51:59.232Z"
   },
   {
    "duration": 36,
    "start_time": "2021-07-07T14:51:59.255Z"
   },
   {
    "duration": 7,
    "start_time": "2021-07-07T14:51:59.293Z"
   },
   {
    "duration": 10,
    "start_time": "2021-07-07T14:51:59.302Z"
   },
   {
    "duration": 9,
    "start_time": "2021-07-07T14:51:59.313Z"
   },
   {
    "duration": 11,
    "start_time": "2021-07-07T14:51:59.324Z"
   },
   {
    "duration": 8,
    "start_time": "2021-07-07T14:51:59.337Z"
   },
   {
    "duration": 46,
    "start_time": "2021-07-07T14:51:59.347Z"
   },
   {
    "duration": 22,
    "start_time": "2021-07-07T14:51:59.395Z"
   },
   {
    "duration": 24,
    "start_time": "2021-07-07T14:57:32.911Z"
   },
   {
    "duration": 7,
    "start_time": "2021-07-07T14:58:22.070Z"
   },
   {
    "duration": 4,
    "start_time": "2021-07-07T14:59:11.239Z"
   },
   {
    "duration": 25,
    "start_time": "2021-07-07T15:07:22.208Z"
   },
   {
    "duration": 16,
    "start_time": "2021-07-07T15:08:25.560Z"
   },
   {
    "duration": 15,
    "start_time": "2021-07-07T15:08:40.647Z"
   },
   {
    "duration": 14,
    "start_time": "2021-07-07T15:08:46.669Z"
   },
   {
    "duration": 533,
    "start_time": "2021-07-07T15:18:07.440Z"
   },
   {
    "duration": 173,
    "start_time": "2021-07-07T15:18:07.974Z"
   },
   {
    "duration": 84,
    "start_time": "2021-07-07T15:18:08.149Z"
   },
   {
    "duration": 3,
    "start_time": "2021-07-07T15:18:08.235Z"
   },
   {
    "duration": 30,
    "start_time": "2021-07-07T15:18:08.240Z"
   },
   {
    "duration": 22,
    "start_time": "2021-07-07T15:18:08.272Z"
   },
   {
    "duration": 11,
    "start_time": "2021-07-07T15:18:08.295Z"
   },
   {
    "duration": 11,
    "start_time": "2021-07-07T15:18:08.309Z"
   },
   {
    "duration": 40,
    "start_time": "2021-07-07T15:18:08.322Z"
   },
   {
    "duration": 42,
    "start_time": "2021-07-07T15:18:08.364Z"
   },
   {
    "duration": 22,
    "start_time": "2021-07-07T15:18:08.408Z"
   },
   {
    "duration": 5,
    "start_time": "2021-07-07T15:18:08.432Z"
   },
   {
    "duration": 13,
    "start_time": "2021-07-07T15:18:08.439Z"
   },
   {
    "duration": 9,
    "start_time": "2021-07-07T15:18:08.454Z"
   },
   {
    "duration": 32,
    "start_time": "2021-07-07T15:18:08.465Z"
   },
   {
    "duration": 10,
    "start_time": "2021-07-07T15:18:08.501Z"
   },
   {
    "duration": 7,
    "start_time": "2021-07-07T15:18:08.513Z"
   },
   {
    "duration": 11,
    "start_time": "2021-07-07T15:18:08.521Z"
   },
   {
    "duration": 17,
    "start_time": "2021-07-07T15:18:08.534Z"
   },
   {
    "duration": 44,
    "start_time": "2021-07-07T15:18:08.553Z"
   },
   {
    "duration": 22,
    "start_time": "2021-07-07T15:18:08.599Z"
   },
   {
    "duration": 61,
    "start_time": "2021-07-07T15:18:08.622Z"
   },
   {
    "duration": 7,
    "start_time": "2021-07-07T15:18:39.457Z"
   },
   {
    "duration": 5,
    "start_time": "2021-07-07T16:05:17.020Z"
   },
   {
    "duration": 5,
    "start_time": "2021-07-07T16:51:28.794Z"
   },
   {
    "duration": 546,
    "start_time": "2021-07-07T16:52:26.306Z"
   },
   {
    "duration": 203,
    "start_time": "2021-07-07T16:52:27.523Z"
   },
   {
    "duration": 85,
    "start_time": "2021-07-07T16:52:27.736Z"
   },
   {
    "duration": 4,
    "start_time": "2021-07-07T16:52:27.899Z"
   },
   {
    "duration": 25,
    "start_time": "2021-07-07T16:52:28.674Z"
   },
   {
    "duration": 8,
    "start_time": "2021-07-07T16:52:32.956Z"
   },
   {
    "duration": 18,
    "start_time": "2021-07-07T16:52:35.616Z"
   },
   {
    "duration": 6,
    "start_time": "2021-07-07T16:52:36.913Z"
   },
   {
    "duration": 11,
    "start_time": "2021-07-07T16:52:40.258Z"
   },
   {
    "duration": 10,
    "start_time": "2021-07-07T16:52:46.251Z"
   },
   {
    "duration": 8,
    "start_time": "2021-07-07T16:52:47.182Z"
   },
   {
    "duration": 27,
    "start_time": "2021-07-07T16:53:20.391Z"
   },
   {
    "duration": 20,
    "start_time": "2021-07-07T16:53:22.022Z"
   },
   {
    "duration": 23,
    "start_time": "2021-07-07T16:53:23.690Z"
   },
   {
    "duration": 8,
    "start_time": "2021-07-07T16:53:24.261Z"
   },
   {
    "duration": 4,
    "start_time": "2021-07-07T16:53:38.733Z"
   },
   {
    "duration": 7,
    "start_time": "2021-07-07T16:53:40.445Z"
   },
   {
    "duration": 11,
    "start_time": "2021-07-07T16:53:41.348Z"
   },
   {
    "duration": 13,
    "start_time": "2021-07-07T16:53:45.250Z"
   },
   {
    "duration": 12,
    "start_time": "2021-07-07T16:53:45.467Z"
   },
   {
    "duration": 4,
    "start_time": "2021-07-07T16:55:32.704Z"
   },
   {
    "duration": 12,
    "start_time": "2021-07-07T16:55:49.012Z"
   },
   {
    "duration": 18,
    "start_time": "2021-07-07T16:55:49.547Z"
   },
   {
    "duration": 611,
    "start_time": "2021-07-07T16:58:35.156Z"
   },
   {
    "duration": 200,
    "start_time": "2021-07-07T16:58:35.770Z"
   },
   {
    "duration": 86,
    "start_time": "2021-07-07T16:58:35.972Z"
   },
   {
    "duration": 3,
    "start_time": "2021-07-07T16:58:36.060Z"
   },
   {
    "duration": 27,
    "start_time": "2021-07-07T16:58:36.065Z"
   },
   {
    "duration": 8,
    "start_time": "2021-07-07T16:58:36.094Z"
   },
   {
    "duration": 17,
    "start_time": "2021-07-07T16:58:36.103Z"
   },
   {
    "duration": 5,
    "start_time": "2021-07-07T16:58:36.123Z"
   },
   {
    "duration": 11,
    "start_time": "2021-07-07T16:58:36.130Z"
   },
   {
    "duration": 7,
    "start_time": "2021-07-07T16:58:36.143Z"
   },
   {
    "duration": 37,
    "start_time": "2021-07-07T16:58:36.152Z"
   },
   {
    "duration": 27,
    "start_time": "2021-07-07T16:58:36.191Z"
   },
   {
    "duration": 19,
    "start_time": "2021-07-07T16:58:36.219Z"
   },
   {
    "duration": 49,
    "start_time": "2021-07-07T16:58:36.240Z"
   },
   {
    "duration": 6,
    "start_time": "2021-07-07T16:58:36.291Z"
   },
   {
    "duration": 3,
    "start_time": "2021-07-07T16:58:36.299Z"
   },
   {
    "duration": 13,
    "start_time": "2021-07-07T16:58:36.304Z"
   },
   {
    "duration": 10,
    "start_time": "2021-07-07T16:58:36.319Z"
   },
   {
    "duration": 10,
    "start_time": "2021-07-07T16:58:36.331Z"
   },
   {
    "duration": 44,
    "start_time": "2021-07-07T16:58:36.343Z"
   },
   {
    "duration": 4,
    "start_time": "2021-07-07T16:58:36.388Z"
   },
   {
    "duration": 13,
    "start_time": "2021-07-07T16:58:36.394Z"
   },
   {
    "duration": 16,
    "start_time": "2021-07-07T16:58:36.410Z"
   },
   {
    "duration": 8,
    "start_time": "2021-07-07T17:02:31.629Z"
   },
   {
    "duration": 8,
    "start_time": "2021-07-07T17:02:34.308Z"
   },
   {
    "duration": 6,
    "start_time": "2021-07-07T17:05:13.483Z"
   },
   {
    "duration": 17,
    "start_time": "2021-07-07T17:05:20.606Z"
   },
   {
    "duration": 7,
    "start_time": "2021-07-07T17:05:34.638Z"
   },
   {
    "duration": 3,
    "start_time": "2021-07-07T17:06:31.883Z"
   },
   {
    "duration": 570,
    "start_time": "2021-07-07T17:06:37.165Z"
   },
   {
    "duration": 174,
    "start_time": "2021-07-07T17:06:37.737Z"
   },
   {
    "duration": 47,
    "start_time": "2021-07-07T17:06:37.913Z"
   },
   {
    "duration": 3,
    "start_time": "2021-07-07T17:06:37.962Z"
   },
   {
    "duration": 27,
    "start_time": "2021-07-07T17:06:37.967Z"
   },
   {
    "duration": 7,
    "start_time": "2021-07-07T17:06:37.996Z"
   },
   {
    "duration": 16,
    "start_time": "2021-07-07T17:06:38.005Z"
   },
   {
    "duration": 6,
    "start_time": "2021-07-07T17:06:38.024Z"
   },
   {
    "duration": 12,
    "start_time": "2021-07-07T17:06:38.031Z"
   },
   {
    "duration": 41,
    "start_time": "2021-07-07T17:06:38.045Z"
   },
   {
    "duration": 8,
    "start_time": "2021-07-07T17:06:38.088Z"
   },
   {
    "duration": 26,
    "start_time": "2021-07-07T17:06:38.098Z"
   },
   {
    "duration": 17,
    "start_time": "2021-07-07T17:06:38.126Z"
   },
   {
    "duration": 43,
    "start_time": "2021-07-07T17:06:38.144Z"
   },
   {
    "duration": 6,
    "start_time": "2021-07-07T17:06:38.188Z"
   },
   {
    "duration": 5,
    "start_time": "2021-07-07T17:06:38.195Z"
   },
   {
    "duration": 9,
    "start_time": "2021-07-07T17:06:38.201Z"
   },
   {
    "duration": 12,
    "start_time": "2021-07-07T17:06:38.212Z"
   },
   {
    "duration": 11,
    "start_time": "2021-07-07T17:06:38.226Z"
   },
   {
    "duration": 47,
    "start_time": "2021-07-07T17:06:38.239Z"
   },
   {
    "duration": 4,
    "start_time": "2021-07-07T17:06:38.288Z"
   },
   {
    "duration": 13,
    "start_time": "2021-07-07T17:06:38.293Z"
   },
   {
    "duration": 5,
    "start_time": "2021-07-07T17:06:38.309Z"
   },
   {
    "duration": 18,
    "start_time": "2021-07-07T17:06:38.325Z"
   },
   {
    "duration": 20,
    "start_time": "2021-07-07T17:07:02.805Z"
   },
   {
    "duration": 19,
    "start_time": "2021-07-07T17:07:08.527Z"
   },
   {
    "duration": 19,
    "start_time": "2021-07-07T17:07:12.758Z"
   },
   {
    "duration": 22,
    "start_time": "2021-07-07T17:07:17.497Z"
   },
   {
    "duration": 19,
    "start_time": "2021-07-07T17:07:19.645Z"
   },
   {
    "duration": 10,
    "start_time": "2021-07-07T17:07:34.239Z"
   },
   {
    "duration": 17,
    "start_time": "2021-07-07T17:07:54.144Z"
   },
   {
    "duration": 14,
    "start_time": "2021-07-07T17:08:14.357Z"
   },
   {
    "duration": 616,
    "start_time": "2021-07-07T17:08:45.254Z"
   },
   {
    "duration": 178,
    "start_time": "2021-07-07T17:08:45.872Z"
   },
   {
    "duration": 60,
    "start_time": "2021-07-07T17:08:46.054Z"
   },
   {
    "duration": 3,
    "start_time": "2021-07-07T17:08:46.116Z"
   },
   {
    "duration": 26,
    "start_time": "2021-07-07T17:08:46.121Z"
   },
   {
    "duration": 7,
    "start_time": "2021-07-07T17:08:46.149Z"
   },
   {
    "duration": 17,
    "start_time": "2021-07-07T17:08:46.158Z"
   },
   {
    "duration": 14,
    "start_time": "2021-07-07T17:08:46.176Z"
   },
   {
    "duration": 17,
    "start_time": "2021-07-07T17:08:46.193Z"
   },
   {
    "duration": 9,
    "start_time": "2021-07-07T17:08:46.211Z"
   },
   {
    "duration": 21,
    "start_time": "2021-07-07T17:08:46.221Z"
   },
   {
    "duration": 49,
    "start_time": "2021-07-07T17:08:46.244Z"
   },
   {
    "duration": 24,
    "start_time": "2021-07-07T17:08:46.295Z"
   },
   {
    "duration": 22,
    "start_time": "2021-07-07T17:08:46.321Z"
   },
   {
    "duration": 6,
    "start_time": "2021-07-07T17:08:46.345Z"
   },
   {
    "duration": 5,
    "start_time": "2021-07-07T17:08:46.353Z"
   },
   {
    "duration": 13,
    "start_time": "2021-07-07T17:08:46.386Z"
   },
   {
    "duration": 12,
    "start_time": "2021-07-07T17:08:46.402Z"
   },
   {
    "duration": 10,
    "start_time": "2021-07-07T17:08:46.415Z"
   },
   {
    "duration": 7,
    "start_time": "2021-07-07T17:08:46.427Z"
   },
   {
    "duration": 8,
    "start_time": "2021-07-07T17:08:46.435Z"
   },
   {
    "duration": 68,
    "start_time": "2021-07-07T17:08:46.446Z"
   },
   {
    "duration": 13,
    "start_time": "2021-07-07T17:08:46.516Z"
   },
   {
    "duration": 78,
    "start_time": "2021-07-07T17:08:46.530Z"
   },
   {
    "duration": 40,
    "start_time": "2021-07-07T17:09:08.185Z"
   },
   {
    "duration": 16,
    "start_time": "2021-07-07T17:09:19.324Z"
   },
   {
    "duration": 21,
    "start_time": "2021-07-07T17:09:23.290Z"
   },
   {
    "duration": 13,
    "start_time": "2021-07-07T17:09:54.812Z"
   },
   {
    "duration": 13,
    "start_time": "2021-07-07T17:10:02.039Z"
   },
   {
    "duration": 10,
    "start_time": "2021-07-07T17:10:29.632Z"
   },
   {
    "duration": 13,
    "start_time": "2021-07-07T17:10:52.372Z"
   },
   {
    "duration": 13,
    "start_time": "2021-07-07T17:11:17.270Z"
   },
   {
    "duration": 13,
    "start_time": "2021-07-07T17:14:59.284Z"
   },
   {
    "duration": 547,
    "start_time": "2021-07-07T17:18:52.403Z"
   },
   {
    "duration": 163,
    "start_time": "2021-07-07T17:18:52.952Z"
   },
   {
    "duration": 44,
    "start_time": "2021-07-07T17:18:53.117Z"
   },
   {
    "duration": 3,
    "start_time": "2021-07-07T17:18:53.162Z"
   },
   {
    "duration": 26,
    "start_time": "2021-07-07T17:18:53.167Z"
   },
   {
    "duration": 6,
    "start_time": "2021-07-07T17:18:53.195Z"
   },
   {
    "duration": 15,
    "start_time": "2021-07-07T17:18:53.203Z"
   },
   {
    "duration": 5,
    "start_time": "2021-07-07T17:18:53.220Z"
   },
   {
    "duration": 11,
    "start_time": "2021-07-07T17:18:53.228Z"
   },
   {
    "duration": 9,
    "start_time": "2021-07-07T17:18:53.241Z"
   },
   {
    "duration": 41,
    "start_time": "2021-07-07T17:18:53.252Z"
   },
   {
    "duration": 33,
    "start_time": "2021-07-07T17:18:53.295Z"
   },
   {
    "duration": 19,
    "start_time": "2021-07-07T17:18:53.330Z"
   },
   {
    "duration": 49,
    "start_time": "2021-07-07T17:18:53.350Z"
   },
   {
    "duration": 5,
    "start_time": "2021-07-07T17:18:53.401Z"
   },
   {
    "duration": 5,
    "start_time": "2021-07-07T17:18:53.408Z"
   },
   {
    "duration": 11,
    "start_time": "2021-07-07T17:18:53.414Z"
   },
   {
    "duration": 9,
    "start_time": "2021-07-07T17:18:53.427Z"
   },
   {
    "duration": 10,
    "start_time": "2021-07-07T17:18:53.437Z"
   },
   {
    "duration": 39,
    "start_time": "2021-07-07T17:18:53.448Z"
   },
   {
    "duration": 26,
    "start_time": "2021-07-07T17:18:55.799Z"
   },
   {
    "duration": 598,
    "start_time": "2021-07-07T17:20:17.862Z"
   },
   {
    "duration": 161,
    "start_time": "2021-07-07T17:20:18.462Z"
   },
   {
    "duration": 45,
    "start_time": "2021-07-07T17:20:18.626Z"
   },
   {
    "duration": 4,
    "start_time": "2021-07-07T17:20:18.673Z"
   },
   {
    "duration": 38,
    "start_time": "2021-07-07T17:20:26.877Z"
   },
   {
    "duration": 7,
    "start_time": "2021-07-07T17:20:37.405Z"
   },
   {
    "duration": 19,
    "start_time": "2021-07-07T17:20:51.534Z"
   },
   {
    "duration": 5,
    "start_time": "2021-07-07T17:20:57.228Z"
   },
   {
    "duration": 7,
    "start_time": "2021-07-07T17:21:08.235Z"
   },
   {
    "duration": 19,
    "start_time": "2021-07-07T17:21:42.158Z"
   },
   {
    "duration": 14,
    "start_time": "2021-07-07T17:21:50.225Z"
   },
   {
    "duration": 22,
    "start_time": "2021-07-07T17:22:54.104Z"
   },
   {
    "duration": 5,
    "start_time": "2021-07-07T17:22:56.371Z"
   },
   {
    "duration": 14,
    "start_time": "2021-07-07T17:22:58.316Z"
   },
   {
    "duration": 5,
    "start_time": "2021-07-07T17:22:58.493Z"
   },
   {
    "duration": 35,
    "start_time": "2021-07-07T17:22:59.666Z"
   },
   {
    "duration": 6,
    "start_time": "2021-07-07T17:23:02.410Z"
   },
   {
    "duration": 611,
    "start_time": "2021-07-07T17:24:59.664Z"
   },
   {
    "duration": 178,
    "start_time": "2021-07-07T17:25:01.945Z"
   },
   {
    "duration": 47,
    "start_time": "2021-07-07T17:25:02.125Z"
   },
   {
    "duration": 2,
    "start_time": "2021-07-07T17:25:07.903Z"
   },
   {
    "duration": 254,
    "start_time": "2021-07-07T17:25:08.232Z"
   },
   {
    "duration": 182,
    "start_time": "2021-07-07T17:25:08.671Z"
   },
   {
    "duration": 6,
    "start_time": "2021-07-07T17:25:13.104Z"
   },
   {
    "duration": 36,
    "start_time": "2021-07-07T17:25:13.662Z"
   },
   {
    "duration": 7,
    "start_time": "2021-07-07T17:25:14.528Z"
   },
   {
    "duration": 24,
    "start_time": "2021-07-07T17:25:27.982Z"
   },
   {
    "duration": 3,
    "start_time": "2021-07-07T17:25:48.982Z"
   },
   {
    "duration": 165,
    "start_time": "2021-07-07T17:25:48.987Z"
   },
   {
    "duration": 50,
    "start_time": "2021-07-07T17:25:49.154Z"
   },
   {
    "duration": 4,
    "start_time": "2021-07-07T17:25:49.206Z"
   },
   {
    "duration": 26,
    "start_time": "2021-07-07T17:25:49.212Z"
   },
   {
    "duration": 7,
    "start_time": "2021-07-07T17:25:49.240Z"
   },
   {
    "duration": 16,
    "start_time": "2021-07-07T17:25:49.249Z"
   },
   {
    "duration": 22,
    "start_time": "2021-07-07T17:25:49.266Z"
   },
   {
    "duration": 16,
    "start_time": "2021-07-07T17:25:49.291Z"
   },
   {
    "duration": 9,
    "start_time": "2021-07-07T17:25:49.309Z"
   },
   {
    "duration": 7,
    "start_time": "2021-07-07T17:25:49.319Z"
   },
   {
    "duration": 28,
    "start_time": "2021-07-07T17:25:49.328Z"
   },
   {
    "duration": 44,
    "start_time": "2021-07-07T17:25:49.357Z"
   },
   {
    "duration": 22,
    "start_time": "2021-07-07T17:25:49.403Z"
   },
   {
    "duration": 7,
    "start_time": "2021-07-07T17:25:49.427Z"
   },
   {
    "duration": 3,
    "start_time": "2021-07-07T17:25:49.436Z"
   },
   {
    "duration": 44,
    "start_time": "2021-07-07T17:25:49.441Z"
   },
   {
    "duration": 12,
    "start_time": "2021-07-07T17:25:49.488Z"
   },
   {
    "duration": 13,
    "start_time": "2021-07-07T17:25:49.502Z"
   },
   {
    "duration": 10,
    "start_time": "2021-07-07T17:25:49.516Z"
   },
   {
    "duration": 62,
    "start_time": "2021-07-07T17:25:49.527Z"
   },
   {
    "duration": 26,
    "start_time": "2021-07-07T17:26:51.809Z"
   },
   {
    "duration": 26,
    "start_time": "2021-07-07T17:26:55.759Z"
   },
   {
    "duration": 26,
    "start_time": "2021-07-07T17:27:04.501Z"
   },
   {
    "duration": 25,
    "start_time": "2021-07-07T17:28:24.859Z"
   },
   {
    "duration": 21,
    "start_time": "2021-07-07T17:28:55.250Z"
   },
   {
    "duration": 21,
    "start_time": "2021-07-07T17:28:58.885Z"
   },
   {
    "duration": 7,
    "start_time": "2021-07-07T17:45:40.972Z"
   },
   {
    "duration": 13,
    "start_time": "2021-07-07T17:45:42.529Z"
   },
   {
    "duration": 27,
    "start_time": "2021-07-07T17:45:51.026Z"
   },
   {
    "duration": 518,
    "start_time": "2021-07-07T17:46:15.532Z"
   },
   {
    "duration": 235,
    "start_time": "2021-07-07T17:46:16.053Z"
   },
   {
    "duration": 80,
    "start_time": "2021-07-07T17:46:16.292Z"
   },
   {
    "duration": 5,
    "start_time": "2021-07-07T17:46:16.373Z"
   },
   {
    "duration": 26,
    "start_time": "2021-07-07T17:46:16.380Z"
   },
   {
    "duration": 7,
    "start_time": "2021-07-07T17:46:16.408Z"
   },
   {
    "duration": 16,
    "start_time": "2021-07-07T17:46:16.418Z"
   },
   {
    "duration": 5,
    "start_time": "2021-07-07T17:46:16.436Z"
   },
   {
    "duration": 13,
    "start_time": "2021-07-07T17:46:16.442Z"
   },
   {
    "duration": 35,
    "start_time": "2021-07-07T17:46:16.456Z"
   },
   {
    "duration": 8,
    "start_time": "2021-07-07T17:46:16.493Z"
   },
   {
    "duration": 28,
    "start_time": "2021-07-07T17:46:16.502Z"
   },
   {
    "duration": 17,
    "start_time": "2021-07-07T17:46:16.532Z"
   },
   {
    "duration": 44,
    "start_time": "2021-07-07T17:46:16.551Z"
   },
   {
    "duration": 6,
    "start_time": "2021-07-07T17:46:16.597Z"
   },
   {
    "duration": 4,
    "start_time": "2021-07-07T17:46:16.605Z"
   },
   {
    "duration": 9,
    "start_time": "2021-07-07T17:46:16.610Z"
   },
   {
    "duration": 9,
    "start_time": "2021-07-07T17:46:16.621Z"
   },
   {
    "duration": 10,
    "start_time": "2021-07-07T17:46:16.632Z"
   },
   {
    "duration": 43,
    "start_time": "2021-07-07T17:46:16.644Z"
   },
   {
    "duration": 26,
    "start_time": "2021-07-07T17:46:16.689Z"
   },
   {
    "duration": 19,
    "start_time": "2021-07-07T17:46:16.718Z"
   },
   {
    "duration": 8,
    "start_time": "2021-07-07T17:46:16.738Z"
   },
   {
    "duration": 43,
    "start_time": "2021-07-07T17:46:16.747Z"
   },
   {
    "duration": 19,
    "start_time": "2021-07-07T17:46:16.791Z"
   },
   {
    "duration": 9,
    "start_time": "2021-07-07T17:46:16.812Z"
   },
   {
    "duration": 60,
    "start_time": "2021-07-07T17:46:16.822Z"
   },
   {
    "duration": -8,
    "start_time": "2021-07-07T17:46:16.892Z"
   },
   {
    "duration": 12,
    "start_time": "2021-07-07T17:48:47.707Z"
   },
   {
    "duration": 553,
    "start_time": "2021-07-07T18:10:09.350Z"
   },
   {
    "duration": 230,
    "start_time": "2021-07-07T18:10:09.905Z"
   },
   {
    "duration": 97,
    "start_time": "2021-07-07T18:10:10.137Z"
   },
   {
    "duration": 5,
    "start_time": "2021-07-07T18:10:10.236Z"
   },
   {
    "duration": 29,
    "start_time": "2021-07-07T18:10:10.242Z"
   },
   {
    "duration": 7,
    "start_time": "2021-07-07T18:10:10.272Z"
   },
   {
    "duration": 15,
    "start_time": "2021-07-07T18:10:10.281Z"
   },
   {
    "duration": 4,
    "start_time": "2021-07-07T18:10:10.299Z"
   },
   {
    "duration": 14,
    "start_time": "2021-07-07T18:10:10.305Z"
   },
   {
    "duration": 8,
    "start_time": "2021-07-07T18:10:10.321Z"
   },
   {
    "duration": 8,
    "start_time": "2021-07-07T18:10:10.331Z"
   },
   {
    "duration": 56,
    "start_time": "2021-07-07T18:10:10.341Z"
   },
   {
    "duration": 19,
    "start_time": "2021-07-07T18:10:10.399Z"
   },
   {
    "duration": 23,
    "start_time": "2021-07-07T18:10:10.419Z"
   },
   {
    "duration": 6,
    "start_time": "2021-07-07T18:10:10.444Z"
   },
   {
    "duration": 9,
    "start_time": "2021-07-07T18:10:10.451Z"
   },
   {
    "duration": 30,
    "start_time": "2021-07-07T18:10:10.462Z"
   },
   {
    "duration": 9,
    "start_time": "2021-07-07T18:10:10.494Z"
   },
   {
    "duration": 14,
    "start_time": "2021-07-07T18:10:10.505Z"
   },
   {
    "duration": 7,
    "start_time": "2021-07-07T18:10:10.521Z"
   },
   {
    "duration": 26,
    "start_time": "2021-07-07T18:10:10.530Z"
   },
   {
    "duration": 44,
    "start_time": "2021-07-07T18:10:10.558Z"
   },
   {
    "duration": 7,
    "start_time": "2021-07-07T18:10:10.605Z"
   },
   {
    "duration": 11,
    "start_time": "2021-07-07T18:10:10.614Z"
   },
   {
    "duration": 19,
    "start_time": "2021-07-07T18:10:10.626Z"
   },
   {
    "duration": 44,
    "start_time": "2021-07-07T18:10:10.646Z"
   },
   {
    "duration": 516,
    "start_time": "2021-07-07T18:14:00.826Z"
   },
   {
    "duration": 230,
    "start_time": "2021-07-07T18:14:01.344Z"
   },
   {
    "duration": 105,
    "start_time": "2021-07-07T18:14:01.576Z"
   },
   {
    "duration": 5,
    "start_time": "2021-07-07T18:14:01.683Z"
   },
   {
    "duration": 46,
    "start_time": "2021-07-07T18:14:01.690Z"
   },
   {
    "duration": 7,
    "start_time": "2021-07-07T18:14:01.738Z"
   },
   {
    "duration": 20,
    "start_time": "2021-07-07T18:14:01.747Z"
   },
   {
    "duration": 16,
    "start_time": "2021-07-07T18:14:01.769Z"
   },
   {
    "duration": 14,
    "start_time": "2021-07-07T18:14:01.787Z"
   },
   {
    "duration": 15,
    "start_time": "2021-07-07T18:14:01.803Z"
   },
   {
    "duration": 12,
    "start_time": "2021-07-07T18:14:01.820Z"
   },
   {
    "duration": 35,
    "start_time": "2021-07-07T18:14:01.833Z"
   },
   {
    "duration": 31,
    "start_time": "2021-07-07T18:14:01.869Z"
   },
   {
    "duration": 37,
    "start_time": "2021-07-07T18:14:01.902Z"
   },
   {
    "duration": 8,
    "start_time": "2021-07-07T18:14:01.942Z"
   },
   {
    "duration": 16,
    "start_time": "2021-07-07T18:14:01.952Z"
   },
   {
    "duration": 13,
    "start_time": "2021-07-07T18:14:01.970Z"
   },
   {
    "duration": 32,
    "start_time": "2021-07-07T18:14:01.985Z"
   },
   {
    "duration": 11,
    "start_time": "2021-07-07T18:14:02.019Z"
   },
   {
    "duration": 22,
    "start_time": "2021-07-07T18:14:02.031Z"
   },
   {
    "duration": 27,
    "start_time": "2021-07-07T18:14:02.055Z"
   },
   {
    "duration": 18,
    "start_time": "2021-07-07T18:14:02.084Z"
   },
   {
    "duration": 18,
    "start_time": "2021-07-07T18:14:02.106Z"
   },
   {
    "duration": 11,
    "start_time": "2021-07-07T18:14:02.126Z"
   },
   {
    "duration": 21,
    "start_time": "2021-07-07T18:14:02.138Z"
   },
   {
    "duration": 32,
    "start_time": "2021-07-07T18:14:02.161Z"
   },
   {
    "duration": 28,
    "start_time": "2021-07-07T18:14:44.295Z"
   },
   {
    "duration": 6,
    "start_time": "2021-07-07T18:15:05.834Z"
   },
   {
    "duration": 511,
    "start_time": "2021-07-07T18:15:41.541Z"
   },
   {
    "duration": 183,
    "start_time": "2021-07-07T18:15:42.054Z"
   },
   {
    "duration": 50,
    "start_time": "2021-07-07T18:15:42.239Z"
   },
   {
    "duration": 5,
    "start_time": "2021-07-07T18:15:42.291Z"
   },
   {
    "duration": 48,
    "start_time": "2021-07-07T18:15:42.297Z"
   },
   {
    "duration": 8,
    "start_time": "2021-07-07T18:15:42.346Z"
   },
   {
    "duration": 17,
    "start_time": "2021-07-07T18:15:42.356Z"
   },
   {
    "duration": 15,
    "start_time": "2021-07-07T18:15:42.375Z"
   },
   {
    "duration": 12,
    "start_time": "2021-07-07T18:15:42.392Z"
   },
   {
    "duration": 7,
    "start_time": "2021-07-07T18:15:42.406Z"
   },
   {
    "duration": 7,
    "start_time": "2021-07-07T18:15:42.415Z"
   },
   {
    "duration": 29,
    "start_time": "2021-07-07T18:15:42.423Z"
   },
   {
    "duration": 43,
    "start_time": "2021-07-07T18:15:42.453Z"
   },
   {
    "duration": 18,
    "start_time": "2021-07-07T18:15:42.497Z"
   },
   {
    "duration": 6,
    "start_time": "2021-07-07T18:15:42.516Z"
   },
   {
    "duration": 3,
    "start_time": "2021-07-07T18:15:42.523Z"
   },
   {
    "duration": 18,
    "start_time": "2021-07-07T18:15:42.528Z"
   },
   {
    "duration": 10,
    "start_time": "2021-07-07T18:15:42.547Z"
   },
   {
    "duration": 36,
    "start_time": "2021-07-07T18:15:42.559Z"
   },
   {
    "duration": 8,
    "start_time": "2021-07-07T18:15:42.597Z"
   },
   {
    "duration": 28,
    "start_time": "2021-07-07T18:15:42.606Z"
   },
   {
    "duration": 52,
    "start_time": "2021-07-07T18:15:42.635Z"
   },
   {
    "duration": 7,
    "start_time": "2021-07-07T18:15:42.690Z"
   },
   {
    "duration": 10,
    "start_time": "2021-07-07T18:15:42.699Z"
   },
   {
    "duration": 19,
    "start_time": "2021-07-07T18:15:42.711Z"
   },
   {
    "duration": 9,
    "start_time": "2021-07-07T18:15:42.732Z"
   },
   {
    "duration": 5,
    "start_time": "2021-07-07T18:15:42.743Z"
   },
   {
    "duration": 1450,
    "start_time": "2021-07-07T18:15:51.984Z"
   },
   {
    "duration": 161,
    "start_time": "2021-07-07T18:15:53.435Z"
   },
   {
    "duration": 124,
    "start_time": "2021-07-07T18:15:53.598Z"
   },
   {
    "duration": 5,
    "start_time": "2021-07-07T18:15:53.724Z"
   },
   {
    "duration": 34,
    "start_time": "2021-07-07T18:15:53.730Z"
   },
   {
    "duration": 7,
    "start_time": "2021-07-07T18:15:53.765Z"
   },
   {
    "duration": 15,
    "start_time": "2021-07-07T18:15:53.773Z"
   },
   {
    "duration": 5,
    "start_time": "2021-07-07T18:15:53.791Z"
   },
   {
    "duration": 19,
    "start_time": "2021-07-07T18:15:53.798Z"
   },
   {
    "duration": 9,
    "start_time": "2021-07-07T18:15:53.818Z"
   },
   {
    "duration": 19,
    "start_time": "2021-07-07T18:15:53.828Z"
   },
   {
    "duration": 27,
    "start_time": "2021-07-07T18:15:53.848Z"
   },
   {
    "duration": 16,
    "start_time": "2021-07-07T18:15:53.884Z"
   },
   {
    "duration": 29,
    "start_time": "2021-07-07T18:15:53.901Z"
   },
   {
    "duration": 5,
    "start_time": "2021-07-07T18:15:53.932Z"
   },
   {
    "duration": 15,
    "start_time": "2021-07-07T18:15:53.939Z"
   },
   {
    "duration": 13,
    "start_time": "2021-07-07T18:15:53.956Z"
   },
   {
    "duration": 20,
    "start_time": "2021-07-07T18:15:53.971Z"
   },
   {
    "duration": 14,
    "start_time": "2021-07-07T18:15:53.992Z"
   },
   {
    "duration": 9,
    "start_time": "2021-07-07T18:15:54.009Z"
   },
   {
    "duration": 28,
    "start_time": "2021-07-07T18:15:54.020Z"
   },
   {
    "duration": 50,
    "start_time": "2021-07-07T18:15:54.051Z"
   },
   {
    "duration": 8,
    "start_time": "2021-07-07T18:15:54.105Z"
   },
   {
    "duration": 11,
    "start_time": "2021-07-07T18:15:54.115Z"
   },
   {
    "duration": 20,
    "start_time": "2021-07-07T18:15:54.128Z"
   },
   {
    "duration": 13,
    "start_time": "2021-07-07T18:15:54.184Z"
   },
   {
    "duration": 7,
    "start_time": "2021-07-07T18:15:54.199Z"
   },
   {
    "duration": 7,
    "start_time": "2021-07-07T18:17:08.042Z"
   },
   {
    "duration": 8,
    "start_time": "2021-07-07T18:17:21.008Z"
   },
   {
    "duration": 7,
    "start_time": "2021-07-07T18:17:29.003Z"
   },
   {
    "duration": 8,
    "start_time": "2021-07-07T18:17:32.492Z"
   },
   {
    "duration": 9,
    "start_time": "2021-07-07T18:17:41.758Z"
   },
   {
    "duration": 255,
    "start_time": "2021-07-07T18:20:20.897Z"
   },
   {
    "duration": 173,
    "start_time": "2021-07-07T18:20:26.636Z"
   },
   {
    "duration": 7,
    "start_time": "2021-07-07T18:21:47.164Z"
   },
   {
    "duration": 254,
    "start_time": "2021-07-07T18:23:08.703Z"
   },
   {
    "duration": 21,
    "start_time": "2021-07-07T18:23:22.506Z"
   },
   {
    "duration": 315,
    "start_time": "2021-07-07T18:25:54.801Z"
   },
   {
    "duration": 34,
    "start_time": "2021-07-07T18:26:51.817Z"
   },
   {
    "duration": 327,
    "start_time": "2021-07-07T18:26:56.147Z"
   },
   {
    "duration": 342,
    "start_time": "2021-07-07T18:27:15.887Z"
   },
   {
    "duration": 302,
    "start_time": "2021-07-07T18:28:18.569Z"
   },
   {
    "duration": 226,
    "start_time": "2021-07-07T18:29:20.879Z"
   },
   {
    "duration": 207,
    "start_time": "2021-07-07T18:29:58.114Z"
   },
   {
    "duration": 140,
    "start_time": "2021-07-07T18:32:04.372Z"
   },
   {
    "duration": 158,
    "start_time": "2021-07-07T18:32:32.508Z"
   },
   {
    "duration": 145,
    "start_time": "2021-07-07T18:32:41.365Z"
   },
   {
    "duration": 132,
    "start_time": "2021-07-07T18:32:45.199Z"
   },
   {
    "duration": 11,
    "start_time": "2021-07-07T18:35:24.679Z"
   },
   {
    "duration": 268,
    "start_time": "2021-07-07T18:36:16.145Z"
   },
   {
    "duration": 227,
    "start_time": "2021-07-07T18:37:04.918Z"
   },
   {
    "duration": 3,
    "start_time": "2021-07-07T18:37:33.012Z"
   },
   {
    "duration": 671,
    "start_time": "2021-07-07T18:37:38.295Z"
   },
   {
    "duration": 54,
    "start_time": "2021-07-07T18:37:53.406Z"
   },
   {
    "duration": 631,
    "start_time": "2021-07-07T18:37:56.463Z"
   },
   {
    "duration": 19,
    "start_time": "2021-07-07T18:39:40.535Z"
   },
   {
    "duration": 20,
    "start_time": "2021-07-07T18:40:12.236Z"
   },
   {
    "duration": 633,
    "start_time": "2021-07-07T18:42:00.398Z"
   },
   {
    "duration": 218,
    "start_time": "2021-07-07T18:42:01.033Z"
   },
   {
    "duration": 49,
    "start_time": "2021-07-07T18:42:01.253Z"
   },
   {
    "duration": 5,
    "start_time": "2021-07-07T18:42:01.303Z"
   },
   {
    "duration": 27,
    "start_time": "2021-07-07T18:42:01.310Z"
   },
   {
    "duration": 8,
    "start_time": "2021-07-07T18:42:01.339Z"
   },
   {
    "duration": 20,
    "start_time": "2021-07-07T18:42:01.348Z"
   },
   {
    "duration": 6,
    "start_time": "2021-07-07T18:42:01.386Z"
   },
   {
    "duration": 16,
    "start_time": "2021-07-07T18:42:01.394Z"
   },
   {
    "duration": 9,
    "start_time": "2021-07-07T18:42:01.411Z"
   },
   {
    "duration": 11,
    "start_time": "2021-07-07T18:42:01.421Z"
   },
   {
    "duration": 31,
    "start_time": "2021-07-07T18:42:01.434Z"
   },
   {
    "duration": 18,
    "start_time": "2021-07-07T18:42:01.485Z"
   },
   {
    "duration": 23,
    "start_time": "2021-07-07T18:42:01.505Z"
   },
   {
    "duration": 6,
    "start_time": "2021-07-07T18:42:01.530Z"
   },
   {
    "duration": 10,
    "start_time": "2021-07-07T18:42:01.538Z"
   },
   {
    "duration": 13,
    "start_time": "2021-07-07T18:42:01.550Z"
   },
   {
    "duration": 24,
    "start_time": "2021-07-07T18:42:01.564Z"
   },
   {
    "duration": 20,
    "start_time": "2021-07-07T18:42:01.590Z"
   },
   {
    "duration": 8,
    "start_time": "2021-07-07T18:42:01.611Z"
   },
   {
    "duration": 31,
    "start_time": "2021-07-07T18:42:01.620Z"
   },
   {
    "duration": 39,
    "start_time": "2021-07-07T18:42:01.653Z"
   },
   {
    "duration": 8,
    "start_time": "2021-07-07T18:42:01.696Z"
   },
   {
    "duration": 13,
    "start_time": "2021-07-07T18:42:01.705Z"
   },
   {
    "duration": 20,
    "start_time": "2021-07-07T18:42:01.720Z"
   },
   {
    "duration": 12,
    "start_time": "2021-07-07T18:42:01.741Z"
   },
   {
    "duration": 35,
    "start_time": "2021-07-07T18:42:01.755Z"
   },
   {
    "duration": 14,
    "start_time": "2021-07-07T18:42:01.792Z"
   },
   {
    "duration": 188,
    "start_time": "2021-07-07T18:42:01.808Z"
   },
   {
    "duration": 19,
    "start_time": "2021-07-07T18:42:01.998Z"
   },
   {
    "duration": 175,
    "start_time": "2021-07-07T18:42:02.019Z"
   },
   {
    "duration": 134,
    "start_time": "2021-07-07T18:42:02.196Z"
   },
   {
    "duration": 10,
    "start_time": "2021-07-07T18:42:02.331Z"
   },
   {
    "duration": 19,
    "start_time": "2021-07-07T18:42:02.343Z"
   },
   {
    "duration": 628,
    "start_time": "2021-07-07T18:46:30.701Z"
   },
   {
    "duration": 183,
    "start_time": "2021-07-07T18:46:31.331Z"
   },
   {
    "duration": 48,
    "start_time": "2021-07-07T18:46:31.516Z"
   },
   {
    "duration": 5,
    "start_time": "2021-07-07T18:46:31.566Z"
   },
   {
    "duration": 28,
    "start_time": "2021-07-07T18:46:31.572Z"
   },
   {
    "duration": 8,
    "start_time": "2021-07-07T18:46:31.602Z"
   },
   {
    "duration": 19,
    "start_time": "2021-07-07T18:46:31.611Z"
   },
   {
    "duration": 6,
    "start_time": "2021-07-07T18:46:31.633Z"
   },
   {
    "duration": 17,
    "start_time": "2021-07-07T18:46:31.642Z"
   },
   {
    "duration": 10,
    "start_time": "2021-07-07T18:46:31.684Z"
   },
   {
    "duration": 9,
    "start_time": "2021-07-07T18:46:31.695Z"
   },
   {
    "duration": 28,
    "start_time": "2021-07-07T18:46:31.705Z"
   },
   {
    "duration": 18,
    "start_time": "2021-07-07T18:46:31.735Z"
   },
   {
    "duration": 48,
    "start_time": "2021-07-07T18:46:31.755Z"
   },
   {
    "duration": 6,
    "start_time": "2021-07-07T18:46:31.804Z"
   },
   {
    "duration": 4,
    "start_time": "2021-07-07T18:46:31.812Z"
   },
   {
    "duration": 9,
    "start_time": "2021-07-07T18:46:31.817Z"
   },
   {
    "duration": 10,
    "start_time": "2021-07-07T18:46:31.827Z"
   },
   {
    "duration": 12,
    "start_time": "2021-07-07T18:46:31.838Z"
   },
   {
    "duration": 39,
    "start_time": "2021-07-07T18:46:31.851Z"
   },
   {
    "duration": 24,
    "start_time": "2021-07-07T18:46:31.892Z"
   },
   {
    "duration": 15,
    "start_time": "2021-07-07T18:46:31.918Z"
   },
   {
    "duration": 7,
    "start_time": "2021-07-07T18:46:31.936Z"
   },
   {
    "duration": 8,
    "start_time": "2021-07-07T18:46:31.944Z"
   },
   {
    "duration": 19,
    "start_time": "2021-07-07T18:46:31.984Z"
   },
   {
    "duration": 10,
    "start_time": "2021-07-07T18:46:32.004Z"
   },
   {
    "duration": 5,
    "start_time": "2021-07-07T18:46:32.016Z"
   },
   {
    "duration": 9,
    "start_time": "2021-07-07T18:46:32.023Z"
   },
   {
    "duration": 199,
    "start_time": "2021-07-07T18:46:32.033Z"
   },
   {
    "duration": 19,
    "start_time": "2021-07-07T18:46:32.234Z"
   },
   {
    "duration": 159,
    "start_time": "2021-07-07T18:46:32.255Z"
   },
   {
    "duration": 134,
    "start_time": "2021-07-07T18:46:32.416Z"
   },
   {
    "duration": 10,
    "start_time": "2021-07-07T18:46:32.552Z"
   },
   {
    "duration": 34,
    "start_time": "2021-07-07T18:46:32.563Z"
   },
   {
    "duration": 1039,
    "start_time": "2021-07-08T08:41:09.419Z"
   },
   {
    "duration": 333,
    "start_time": "2021-07-08T08:41:10.459Z"
   },
   {
    "duration": 173,
    "start_time": "2021-07-08T08:41:10.794Z"
   },
   {
    "duration": 5,
    "start_time": "2021-07-08T08:41:10.968Z"
   },
   {
    "duration": 25,
    "start_time": "2021-07-08T08:41:10.975Z"
   },
   {
    "duration": 9,
    "start_time": "2021-07-08T08:41:11.002Z"
   },
   {
    "duration": 18,
    "start_time": "2021-07-08T08:41:11.013Z"
   },
   {
    "duration": 6,
    "start_time": "2021-07-08T08:41:11.033Z"
   },
   {
    "duration": 44,
    "start_time": "2021-07-08T08:41:11.042Z"
   },
   {
    "duration": 10,
    "start_time": "2021-07-08T08:41:11.088Z"
   },
   {
    "duration": 9,
    "start_time": "2021-07-08T08:41:11.100Z"
   },
   {
    "duration": 27,
    "start_time": "2021-07-08T08:41:11.111Z"
   },
   {
    "duration": 46,
    "start_time": "2021-07-08T08:41:11.140Z"
   },
   {
    "duration": 17,
    "start_time": "2021-07-08T08:41:11.187Z"
   },
   {
    "duration": 6,
    "start_time": "2021-07-08T08:41:11.206Z"
   },
   {
    "duration": 5,
    "start_time": "2021-07-08T08:41:11.213Z"
   },
   {
    "duration": 10,
    "start_time": "2021-07-08T08:41:11.219Z"
   },
   {
    "duration": 9,
    "start_time": "2021-07-08T08:41:11.230Z"
   },
   {
    "duration": 45,
    "start_time": "2021-07-08T08:41:11.241Z"
   },
   {
    "duration": 7,
    "start_time": "2021-07-08T08:41:11.287Z"
   },
   {
    "duration": 24,
    "start_time": "2021-07-08T08:41:11.296Z"
   },
   {
    "duration": 16,
    "start_time": "2021-07-08T08:41:11.322Z"
   },
   {
    "duration": 7,
    "start_time": "2021-07-08T08:41:11.341Z"
   },
   {
    "duration": 41,
    "start_time": "2021-07-08T08:41:11.349Z"
   },
   {
    "duration": 17,
    "start_time": "2021-07-08T08:41:11.391Z"
   },
   {
    "duration": 9,
    "start_time": "2021-07-08T08:41:11.410Z"
   },
   {
    "duration": 5,
    "start_time": "2021-07-08T08:41:11.421Z"
   },
   {
    "duration": 6,
    "start_time": "2021-07-08T08:41:11.428Z"
   },
   {
    "duration": 198,
    "start_time": "2021-07-08T08:41:11.435Z"
   },
   {
    "duration": 18,
    "start_time": "2021-07-08T08:41:11.635Z"
   },
   {
    "duration": 155,
    "start_time": "2021-07-08T08:41:11.655Z"
   },
   {
    "duration": 138,
    "start_time": "2021-07-08T08:41:11.811Z"
   },
   {
    "duration": 10,
    "start_time": "2021-07-08T08:41:11.950Z"
   },
   {
    "duration": 29,
    "start_time": "2021-07-08T08:41:11.961Z"
   },
   {
    "duration": 171,
    "start_time": "2021-07-08T08:47:44.522Z"
   },
   {
    "duration": 124,
    "start_time": "2021-07-08T08:47:46.872Z"
   },
   {
    "duration": 191,
    "start_time": "2021-07-08T08:47:58.148Z"
   },
   {
    "duration": 191,
    "start_time": "2021-07-08T08:48:07.412Z"
   },
   {
    "duration": 261,
    "start_time": "2021-07-08T08:48:10.385Z"
   },
   {
    "duration": 255,
    "start_time": "2021-07-08T08:48:14.494Z"
   },
   {
    "duration": 219,
    "start_time": "2021-07-08T08:48:22.752Z"
   },
   {
    "duration": 173,
    "start_time": "2021-07-08T08:49:06.395Z"
   },
   {
    "duration": 180,
    "start_time": "2021-07-08T08:49:21.011Z"
   },
   {
    "duration": 6,
    "start_time": "2021-07-08T08:50:31.697Z"
   },
   {
    "duration": 10,
    "start_time": "2021-07-08T08:50:47.394Z"
   },
   {
    "duration": 11,
    "start_time": "2021-07-08T08:53:49.332Z"
   },
   {
    "duration": 171,
    "start_time": "2021-07-08T08:54:28.408Z"
   },
   {
    "duration": 636,
    "start_time": "2021-07-08T09:02:48.385Z"
   },
   {
    "duration": 227,
    "start_time": "2021-07-08T09:02:49.023Z"
   },
   {
    "duration": 104,
    "start_time": "2021-07-08T09:02:49.252Z"
   },
   {
    "duration": 5,
    "start_time": "2021-07-08T09:02:49.358Z"
   },
   {
    "duration": 27,
    "start_time": "2021-07-08T09:02:49.365Z"
   },
   {
    "duration": 8,
    "start_time": "2021-07-08T09:02:49.394Z"
   },
   {
    "duration": 18,
    "start_time": "2021-07-08T09:02:49.404Z"
   },
   {
    "duration": 6,
    "start_time": "2021-07-08T09:02:49.424Z"
   },
   {
    "duration": 11,
    "start_time": "2021-07-08T09:02:49.433Z"
   },
   {
    "duration": 13,
    "start_time": "2021-07-08T09:02:49.485Z"
   },
   {
    "duration": 9,
    "start_time": "2021-07-08T09:02:49.500Z"
   },
   {
    "duration": 38,
    "start_time": "2021-07-08T09:02:49.511Z"
   },
   {
    "duration": 42,
    "start_time": "2021-07-08T09:02:49.551Z"
   },
   {
    "duration": 21,
    "start_time": "2021-07-08T09:02:49.594Z"
   },
   {
    "duration": 6,
    "start_time": "2021-07-08T09:02:49.616Z"
   },
   {
    "duration": 3,
    "start_time": "2021-07-08T09:02:49.623Z"
   },
   {
    "duration": 9,
    "start_time": "2021-07-08T09:02:49.628Z"
   },
   {
    "duration": 52,
    "start_time": "2021-07-08T09:02:49.638Z"
   },
   {
    "duration": 11,
    "start_time": "2021-07-08T09:02:49.692Z"
   },
   {
    "duration": 8,
    "start_time": "2021-07-08T09:02:49.704Z"
   },
   {
    "duration": 27,
    "start_time": "2021-07-08T09:02:49.713Z"
   },
   {
    "duration": 59,
    "start_time": "2021-07-08T09:02:49.741Z"
   },
   {
    "duration": 8,
    "start_time": "2021-07-08T09:02:49.803Z"
   },
   {
    "duration": 14,
    "start_time": "2021-07-08T09:02:49.813Z"
   },
   {
    "duration": 20,
    "start_time": "2021-07-08T09:02:49.829Z"
   },
   {
    "duration": 44,
    "start_time": "2021-07-08T09:02:49.851Z"
   },
   {
    "duration": 14,
    "start_time": "2021-07-08T09:02:49.896Z"
   },
   {
    "duration": 221,
    "start_time": "2021-07-08T09:02:49.912Z"
   },
   {
    "duration": 6,
    "start_time": "2021-07-08T09:02:50.134Z"
   },
   {
    "duration": 206,
    "start_time": "2021-07-08T09:02:50.142Z"
   },
   {
    "duration": 19,
    "start_time": "2021-07-08T09:02:50.350Z"
   },
   {
    "duration": 21,
    "start_time": "2021-07-08T09:02:50.370Z"
   },
   {
    "duration": 20,
    "start_time": "2021-07-08T09:02:50.393Z"
   },
   {
    "duration": 5,
    "start_time": "2021-07-08T09:02:50.414Z"
   },
   {
    "duration": 5,
    "start_time": "2021-07-08T09:03:34.173Z"
   },
   {
    "duration": 6,
    "start_time": "2021-07-08T09:04:49.062Z"
   },
   {
    "duration": 9,
    "start_time": "2021-07-08T09:04:50.118Z"
   },
   {
    "duration": 14,
    "start_time": "2021-07-08T09:04:58.512Z"
   },
   {
    "duration": 9,
    "start_time": "2021-07-08T09:05:10.988Z"
   },
   {
    "duration": 11,
    "start_time": "2021-07-08T09:05:11.743Z"
   },
   {
    "duration": 7,
    "start_time": "2021-07-08T09:05:25.677Z"
   },
   {
    "duration": 13,
    "start_time": "2021-07-08T09:05:47.189Z"
   },
   {
    "duration": 13,
    "start_time": "2021-07-08T09:05:54.755Z"
   },
   {
    "duration": 4,
    "start_time": "2021-07-08T09:06:29.189Z"
   },
   {
    "duration": 244,
    "start_time": "2021-07-08T09:06:29.195Z"
   },
   {
    "duration": 91,
    "start_time": "2021-07-08T09:06:29.441Z"
   },
   {
    "duration": 4,
    "start_time": "2021-07-08T09:06:29.534Z"
   },
   {
    "duration": 28,
    "start_time": "2021-07-08T09:06:29.540Z"
   },
   {
    "duration": 6,
    "start_time": "2021-07-08T09:06:29.570Z"
   },
   {
    "duration": 18,
    "start_time": "2021-07-08T09:06:29.578Z"
   },
   {
    "duration": 5,
    "start_time": "2021-07-08T09:06:29.597Z"
   },
   {
    "duration": 13,
    "start_time": "2021-07-08T09:06:29.605Z"
   },
   {
    "duration": 8,
    "start_time": "2021-07-08T09:06:29.620Z"
   },
   {
    "duration": 7,
    "start_time": "2021-07-08T09:06:29.630Z"
   },
   {
    "duration": 63,
    "start_time": "2021-07-08T09:06:29.639Z"
   },
   {
    "duration": 17,
    "start_time": "2021-07-08T09:06:29.704Z"
   },
   {
    "duration": 20,
    "start_time": "2021-07-08T09:06:29.723Z"
   },
   {
    "duration": 6,
    "start_time": "2021-07-08T09:06:29.745Z"
   },
   {
    "duration": 3,
    "start_time": "2021-07-08T09:06:29.752Z"
   },
   {
    "duration": 7,
    "start_time": "2021-07-08T09:06:29.785Z"
   },
   {
    "duration": 11,
    "start_time": "2021-07-08T09:06:29.794Z"
   },
   {
    "duration": 15,
    "start_time": "2021-07-08T09:06:29.807Z"
   },
   {
    "duration": 8,
    "start_time": "2021-07-08T09:06:29.823Z"
   },
   {
    "duration": 70,
    "start_time": "2021-07-08T09:06:29.832Z"
   },
   {
    "duration": 17,
    "start_time": "2021-07-08T09:06:29.903Z"
   },
   {
    "duration": 9,
    "start_time": "2021-07-08T09:06:29.921Z"
   },
   {
    "duration": 9,
    "start_time": "2021-07-08T09:06:29.932Z"
   },
   {
    "duration": 57,
    "start_time": "2021-07-08T09:06:29.942Z"
   },
   {
    "duration": 11,
    "start_time": "2021-07-08T09:06:30.001Z"
   },
   {
    "duration": 19,
    "start_time": "2021-07-08T09:06:30.016Z"
   },
   {
    "duration": 217,
    "start_time": "2021-07-08T09:06:30.037Z"
   },
   {
    "duration": 6,
    "start_time": "2021-07-08T09:06:30.255Z"
   },
   {
    "duration": 205,
    "start_time": "2021-07-08T09:06:30.263Z"
   },
   {
    "duration": 27,
    "start_time": "2021-07-08T09:06:30.470Z"
   },
   {
    "duration": 11,
    "start_time": "2021-07-08T09:06:30.500Z"
   },
   {
    "duration": 31,
    "start_time": "2021-07-08T09:06:30.513Z"
   },
   {
    "duration": 18,
    "start_time": "2021-07-08T09:06:30.546Z"
   },
   {
    "duration": 11,
    "start_time": "2021-07-08T09:06:30.566Z"
   },
   {
    "duration": 19,
    "start_time": "2021-07-08T09:06:30.579Z"
   },
   {
    "duration": 20,
    "start_time": "2021-07-08T09:06:49.466Z"
   },
   {
    "duration": 9,
    "start_time": "2021-07-08T09:06:51.994Z"
   },
   {
    "duration": 20,
    "start_time": "2021-07-08T09:06:52.273Z"
   },
   {
    "duration": 246,
    "start_time": "2021-07-08T09:10:21.272Z"
   },
   {
    "duration": 84,
    "start_time": "2021-07-08T09:10:21.436Z"
   },
   {
    "duration": 7,
    "start_time": "2021-07-08T09:10:37.608Z"
   },
   {
    "duration": 189,
    "start_time": "2021-07-08T09:10:38.573Z"
   },
   {
    "duration": 185,
    "start_time": "2021-07-08T09:10:53.181Z"
   },
   {
    "duration": 11,
    "start_time": "2021-07-08T09:10:59.549Z"
   },
   {
    "duration": 42,
    "start_time": "2021-07-08T09:10:59.709Z"
   },
   {
    "duration": 12,
    "start_time": "2021-07-08T09:11:02.857Z"
   },
   {
    "duration": 28,
    "start_time": "2021-07-08T09:11:10.062Z"
   },
   {
    "duration": 249,
    "start_time": "2021-07-08T09:11:37.388Z"
   },
   {
    "duration": 232,
    "start_time": "2021-07-08T09:11:49.485Z"
   },
   {
    "duration": 453,
    "start_time": "2021-07-08T09:12:01.546Z"
   },
   {
    "duration": 440,
    "start_time": "2021-07-08T09:12:12.347Z"
   },
   {
    "duration": 213,
    "start_time": "2021-07-08T09:13:32.196Z"
   },
   {
    "duration": 172,
    "start_time": "2021-07-08T09:14:07.400Z"
   },
   {
    "duration": 185,
    "start_time": "2021-07-08T09:14:14.905Z"
   },
   {
    "duration": 209,
    "start_time": "2021-07-08T09:14:40.109Z"
   },
   {
    "duration": 201,
    "start_time": "2021-07-08T09:14:54.506Z"
   },
   {
    "duration": 622,
    "start_time": "2021-07-08T09:18:14.497Z"
   },
   {
    "duration": 220,
    "start_time": "2021-07-08T09:18:15.121Z"
   },
   {
    "duration": 79,
    "start_time": "2021-07-08T09:18:15.343Z"
   },
   {
    "duration": 4,
    "start_time": "2021-07-08T09:18:15.425Z"
   },
   {
    "duration": 24,
    "start_time": "2021-07-08T09:18:15.431Z"
   },
   {
    "duration": 8,
    "start_time": "2021-07-08T09:18:15.457Z"
   },
   {
    "duration": 16,
    "start_time": "2021-07-08T09:18:15.466Z"
   },
   {
    "duration": 5,
    "start_time": "2021-07-08T09:18:15.484Z"
   },
   {
    "duration": 10,
    "start_time": "2021-07-08T09:18:15.493Z"
   },
   {
    "duration": 8,
    "start_time": "2021-07-08T09:18:15.504Z"
   },
   {
    "duration": 7,
    "start_time": "2021-07-08T09:18:15.513Z"
   },
   {
    "duration": 26,
    "start_time": "2021-07-08T09:18:15.522Z"
   },
   {
    "duration": 49,
    "start_time": "2021-07-08T09:18:15.550Z"
   },
   {
    "duration": 21,
    "start_time": "2021-07-08T09:18:15.601Z"
   },
   {
    "duration": 8,
    "start_time": "2021-07-08T09:18:15.624Z"
   },
   {
    "duration": 3,
    "start_time": "2021-07-08T09:18:15.634Z"
   },
   {
    "duration": 8,
    "start_time": "2021-07-08T09:18:15.639Z"
   },
   {
    "duration": 45,
    "start_time": "2021-07-08T09:18:15.649Z"
   },
   {
    "duration": 13,
    "start_time": "2021-07-08T09:18:15.696Z"
   },
   {
    "duration": 10,
    "start_time": "2021-07-08T09:18:15.711Z"
   },
   {
    "duration": 64,
    "start_time": "2021-07-08T09:18:15.722Z"
   },
   {
    "duration": 19,
    "start_time": "2021-07-08T09:18:15.788Z"
   },
   {
    "duration": 9,
    "start_time": "2021-07-08T09:18:15.809Z"
   },
   {
    "duration": 9,
    "start_time": "2021-07-08T09:18:15.820Z"
   },
   {
    "duration": 18,
    "start_time": "2021-07-08T09:18:15.831Z"
   },
   {
    "duration": 43,
    "start_time": "2021-07-08T09:18:15.851Z"
   },
   {
    "duration": 12,
    "start_time": "2021-07-08T09:18:15.897Z"
   },
   {
    "duration": 219,
    "start_time": "2021-07-08T09:18:15.911Z"
   },
   {
    "duration": 8,
    "start_time": "2021-07-08T09:18:16.132Z"
   },
   {
    "duration": 199,
    "start_time": "2021-07-08T09:18:16.141Z"
   },
   {
    "duration": 18,
    "start_time": "2021-07-08T09:18:16.341Z"
   },
   {
    "duration": 24,
    "start_time": "2021-07-08T09:18:16.361Z"
   },
   {
    "duration": 24,
    "start_time": "2021-07-08T09:18:16.387Z"
   },
   {
    "duration": 211,
    "start_time": "2021-07-08T09:18:16.413Z"
   },
   {
    "duration": 18,
    "start_time": "2021-07-08T09:18:16.626Z"
   },
   {
    "duration": 596,
    "start_time": "2021-07-08T10:06:33.623Z"
   },
   {
    "duration": 181,
    "start_time": "2021-07-08T10:06:34.221Z"
   },
   {
    "duration": 176,
    "start_time": "2021-07-08T10:06:34.635Z"
   },
   {
    "duration": 239,
    "start_time": "2021-07-08T10:06:55.572Z"
   },
   {
    "duration": 6,
    "start_time": "2021-07-08T10:06:57.687Z"
   },
   {
    "duration": 4,
    "start_time": "2021-07-08T10:07:03.956Z"
   },
   {
    "duration": 4,
    "start_time": "2021-07-08T10:07:10.376Z"
   },
   {
    "duration": 4,
    "start_time": "2021-07-08T10:17:19.889Z"
   },
   {
    "duration": 3,
    "start_time": "2021-07-08T10:19:19.407Z"
   },
   {
    "duration": 197,
    "start_time": "2021-07-08T10:19:19.412Z"
   },
   {
    "duration": 127,
    "start_time": "2021-07-08T10:19:19.611Z"
   },
   {
    "duration": 4,
    "start_time": "2021-07-08T10:19:19.740Z"
   },
   {
    "duration": 27,
    "start_time": "2021-07-08T10:19:19.746Z"
   },
   {
    "duration": 7,
    "start_time": "2021-07-08T10:19:19.775Z"
   },
   {
    "duration": 30,
    "start_time": "2021-07-08T10:19:19.784Z"
   },
   {
    "duration": 7,
    "start_time": "2021-07-08T10:19:19.817Z"
   },
   {
    "duration": 26,
    "start_time": "2021-07-08T10:19:19.826Z"
   },
   {
    "duration": 18,
    "start_time": "2021-07-08T10:19:19.854Z"
   },
   {
    "duration": 14,
    "start_time": "2021-07-08T10:19:19.874Z"
   },
   {
    "duration": 48,
    "start_time": "2021-07-08T10:19:19.890Z"
   },
   {
    "duration": 17,
    "start_time": "2021-07-08T10:19:19.940Z"
   },
   {
    "duration": 38,
    "start_time": "2021-07-08T10:19:19.959Z"
   },
   {
    "duration": 8,
    "start_time": "2021-07-08T10:19:19.999Z"
   },
   {
    "duration": 15,
    "start_time": "2021-07-08T10:19:20.009Z"
   },
   {
    "duration": 22,
    "start_time": "2021-07-08T10:19:20.026Z"
   },
   {
    "duration": 10,
    "start_time": "2021-07-08T10:19:20.050Z"
   },
   {
    "duration": 10,
    "start_time": "2021-07-08T10:19:20.062Z"
   },
   {
    "duration": 20,
    "start_time": "2021-07-08T10:19:20.073Z"
   },
   {
    "duration": 29,
    "start_time": "2021-07-08T10:19:20.095Z"
   },
   {
    "duration": 17,
    "start_time": "2021-07-08T10:19:20.126Z"
   },
   {
    "duration": 40,
    "start_time": "2021-07-08T10:19:20.146Z"
   },
   {
    "duration": 15,
    "start_time": "2021-07-08T10:19:20.189Z"
   },
   {
    "duration": 19,
    "start_time": "2021-07-08T10:19:20.206Z"
   },
   {
    "duration": 10,
    "start_time": "2021-07-08T10:19:20.226Z"
   },
   {
    "duration": 11,
    "start_time": "2021-07-08T10:19:20.238Z"
   },
   {
    "duration": 297,
    "start_time": "2021-07-08T10:19:20.250Z"
   },
   {
    "duration": 6,
    "start_time": "2021-07-08T10:19:20.549Z"
   },
   {
    "duration": 191,
    "start_time": "2021-07-08T10:19:20.557Z"
   },
   {
    "duration": 19,
    "start_time": "2021-07-08T10:19:20.750Z"
   },
   {
    "duration": 20,
    "start_time": "2021-07-08T10:19:20.771Z"
   },
   {
    "duration": 15,
    "start_time": "2021-07-08T10:19:20.793Z"
   },
   {
    "duration": 222,
    "start_time": "2021-07-08T10:19:20.809Z"
   },
   {
    "duration": 20,
    "start_time": "2021-07-08T10:19:21.033Z"
   },
   {
    "duration": 27,
    "start_time": "2021-07-08T10:45:04.055Z"
   },
   {
    "duration": 8,
    "start_time": "2021-07-08T10:45:08.478Z"
   },
   {
    "duration": 8,
    "start_time": "2021-07-08T10:45:31.982Z"
   },
   {
    "duration": 10,
    "start_time": "2021-07-08T10:46:01.221Z"
   },
   {
    "duration": 17,
    "start_time": "2021-07-08T10:46:40.011Z"
   },
   {
    "duration": 193,
    "start_time": "2021-07-08T10:48:19.471Z"
   },
   {
    "duration": 225,
    "start_time": "2021-07-08T10:49:26.480Z"
   },
   {
    "duration": 204,
    "start_time": "2021-07-08T10:49:59.992Z"
   },
   {
    "duration": 435,
    "start_time": "2021-07-08T10:50:06.779Z"
   },
   {
    "duration": 199,
    "start_time": "2021-07-08T10:50:14.891Z"
   },
   {
    "duration": 204,
    "start_time": "2021-07-08T10:50:18.501Z"
   },
   {
    "duration": 244,
    "start_time": "2021-07-08T10:50:23.359Z"
   },
   {
    "duration": 192,
    "start_time": "2021-07-08T10:50:29.135Z"
   },
   {
    "duration": 218,
    "start_time": "2021-07-08T10:50:33.092Z"
   },
   {
    "duration": 207,
    "start_time": "2021-07-08T10:52:45.381Z"
   },
   {
    "duration": 5,
    "start_time": "2021-07-08T10:53:34.641Z"
   },
   {
    "duration": 196,
    "start_time": "2021-07-08T10:53:41.478Z"
   },
   {
    "duration": 43,
    "start_time": "2021-07-08T10:53:50.335Z"
   },
   {
    "duration": 32,
    "start_time": "2021-07-08T10:53:55.294Z"
   },
   {
    "duration": 55,
    "start_time": "2021-07-08T10:54:09.675Z"
   },
   {
    "duration": 16,
    "start_time": "2021-07-08T10:54:12.260Z"
   },
   {
    "duration": 15,
    "start_time": "2021-07-08T10:54:49.150Z"
   },
   {
    "duration": 20,
    "start_time": "2021-07-08T10:56:07.596Z"
   },
   {
    "duration": 16,
    "start_time": "2021-07-08T10:58:26.276Z"
   },
   {
    "duration": 22,
    "start_time": "2021-07-08T10:59:00.486Z"
   },
   {
    "duration": 18,
    "start_time": "2021-07-08T11:02:09.653Z"
   },
   {
    "duration": 10,
    "start_time": "2021-07-08T11:03:44.331Z"
   },
   {
    "duration": 10,
    "start_time": "2021-07-08T11:03:54.055Z"
   },
   {
    "duration": 12,
    "start_time": "2021-07-08T11:04:41.967Z"
   },
   {
    "duration": 24,
    "start_time": "2021-07-08T11:07:30.732Z"
   },
   {
    "duration": 6,
    "start_time": "2021-07-08T11:07:37.364Z"
   },
   {
    "duration": 16,
    "start_time": "2021-07-08T11:08:01.819Z"
   },
   {
    "duration": 17,
    "start_time": "2021-07-08T11:09:47.488Z"
   },
   {
    "duration": 246,
    "start_time": "2021-07-08T11:10:00.830Z"
   },
   {
    "duration": 18,
    "start_time": "2021-07-08T11:13:55.195Z"
   },
   {
    "duration": 204,
    "start_time": "2021-07-08T11:14:04.951Z"
   },
   {
    "duration": 19,
    "start_time": "2021-07-08T11:15:10.613Z"
   },
   {
    "duration": 680,
    "start_time": "2021-07-08T11:16:25.793Z"
   },
   {
    "duration": 451,
    "start_time": "2021-07-08T11:16:40.313Z"
   },
   {
    "duration": 469,
    "start_time": "2021-07-08T11:17:21.286Z"
   },
   {
    "duration": 20,
    "start_time": "2021-07-08T11:19:12.554Z"
   },
   {
    "duration": 35,
    "start_time": "2021-07-08T11:20:05.484Z"
   },
   {
    "duration": 53,
    "start_time": "2021-07-08T11:21:40.050Z"
   },
   {
    "duration": 13,
    "start_time": "2021-07-08T11:22:26.059Z"
   },
   {
    "duration": 19,
    "start_time": "2021-07-08T11:22:47.419Z"
   },
   {
    "duration": 25,
    "start_time": "2021-07-08T11:23:19.958Z"
   },
   {
    "duration": 29,
    "start_time": "2021-07-08T11:23:25.415Z"
   },
   {
    "duration": 10,
    "start_time": "2021-07-08T11:24:45.138Z"
   },
   {
    "duration": 19,
    "start_time": "2021-07-08T11:24:54.498Z"
   },
   {
    "duration": 12,
    "start_time": "2021-07-08T11:25:32.225Z"
   },
   {
    "duration": 19,
    "start_time": "2021-07-08T11:25:37.092Z"
   },
   {
    "duration": 17,
    "start_time": "2021-07-08T11:25:58.116Z"
   },
   {
    "duration": 15,
    "start_time": "2021-07-08T11:26:02.258Z"
   },
   {
    "duration": 8,
    "start_time": "2021-07-08T11:26:59.682Z"
   },
   {
    "duration": 184,
    "start_time": "2021-07-08T11:27:21.894Z"
   },
   {
    "duration": 8,
    "start_time": "2021-07-08T11:27:23.824Z"
   },
   {
    "duration": 202,
    "start_time": "2021-07-08T11:27:23.962Z"
   },
   {
    "duration": 360,
    "start_time": "2021-07-08T11:28:33.215Z"
   },
   {
    "duration": 231,
    "start_time": "2021-07-08T11:32:05.542Z"
   },
   {
    "duration": 607,
    "start_time": "2021-07-08T11:36:27.854Z"
   },
   {
    "duration": 241,
    "start_time": "2021-07-08T11:36:28.463Z"
   },
   {
    "duration": 67,
    "start_time": "2021-07-08T11:36:28.709Z"
   },
   {
    "duration": 5,
    "start_time": "2021-07-08T11:36:28.778Z"
   },
   {
    "duration": 32,
    "start_time": "2021-07-08T11:36:28.784Z"
   },
   {
    "duration": 11,
    "start_time": "2021-07-08T11:36:28.819Z"
   },
   {
    "duration": 20,
    "start_time": "2021-07-08T11:36:28.834Z"
   },
   {
    "duration": 36,
    "start_time": "2021-07-08T11:36:28.857Z"
   },
   {
    "duration": 16,
    "start_time": "2021-07-08T11:36:28.895Z"
   },
   {
    "duration": 14,
    "start_time": "2021-07-08T11:36:28.913Z"
   },
   {
    "duration": 9,
    "start_time": "2021-07-08T11:36:28.930Z"
   },
   {
    "duration": 55,
    "start_time": "2021-07-08T11:36:28.941Z"
   },
   {
    "duration": 27,
    "start_time": "2021-07-08T11:36:28.999Z"
   },
   {
    "duration": 30,
    "start_time": "2021-07-08T11:36:29.028Z"
   },
   {
    "duration": 31,
    "start_time": "2021-07-08T11:36:29.060Z"
   },
   {
    "duration": 3,
    "start_time": "2021-07-08T11:36:29.093Z"
   },
   {
    "duration": 12,
    "start_time": "2021-07-08T11:36:29.099Z"
   },
   {
    "duration": 11,
    "start_time": "2021-07-08T11:36:29.112Z"
   },
   {
    "duration": 12,
    "start_time": "2021-07-08T11:36:29.125Z"
   },
   {
    "duration": 9,
    "start_time": "2021-07-08T11:36:29.139Z"
   },
   {
    "duration": 31,
    "start_time": "2021-07-08T11:36:29.191Z"
   },
   {
    "duration": 17,
    "start_time": "2021-07-08T11:36:29.226Z"
   },
   {
    "duration": 7,
    "start_time": "2021-07-08T11:36:29.245Z"
   },
   {
    "duration": 10,
    "start_time": "2021-07-08T11:36:29.254Z"
   },
   {
    "duration": 30,
    "start_time": "2021-07-08T11:36:29.292Z"
   },
   {
    "duration": 11,
    "start_time": "2021-07-08T11:36:29.324Z"
   },
   {
    "duration": 11,
    "start_time": "2021-07-08T11:36:29.337Z"
   },
   {
    "duration": 230,
    "start_time": "2021-07-08T11:36:29.349Z"
   },
   {
    "duration": 13,
    "start_time": "2021-07-08T11:36:29.588Z"
   },
   {
    "duration": 205,
    "start_time": "2021-07-08T11:36:29.603Z"
   },
   {
    "duration": 20,
    "start_time": "2021-07-08T11:36:29.810Z"
   },
   {
    "duration": 9,
    "start_time": "2021-07-08T11:36:29.832Z"
   },
   {
    "duration": 16,
    "start_time": "2021-07-08T11:36:29.843Z"
   },
   {
    "duration": 283,
    "start_time": "2021-07-08T11:36:29.861Z"
   },
   {
    "duration": 50,
    "start_time": "2021-07-08T11:36:30.146Z"
   },
   {
    "duration": 14,
    "start_time": "2021-07-08T11:36:30.198Z"
   },
   {
    "duration": 11,
    "start_time": "2021-07-08T11:36:30.214Z"
   },
   {
    "duration": 245,
    "start_time": "2021-07-08T11:36:30.227Z"
   },
   {
    "duration": 439,
    "start_time": "2021-07-08T11:36:30.474Z"
   },
   {
    "duration": 210,
    "start_time": "2021-07-08T11:36:30.915Z"
   },
   {
    "duration": 15,
    "start_time": "2021-07-08T11:36:31.127Z"
   },
   {
    "duration": 17,
    "start_time": "2021-07-08T11:38:20.451Z"
   },
   {
    "duration": 642,
    "start_time": "2021-07-08T11:46:17.881Z"
   },
   {
    "duration": 210,
    "start_time": "2021-07-08T11:46:18.525Z"
   },
   {
    "duration": 104,
    "start_time": "2021-07-08T11:46:18.741Z"
   },
   {
    "duration": 8,
    "start_time": "2021-07-08T11:46:18.847Z"
   },
   {
    "duration": 25,
    "start_time": "2021-07-08T11:46:18.857Z"
   },
   {
    "duration": 14,
    "start_time": "2021-07-08T11:46:18.884Z"
   },
   {
    "duration": 22,
    "start_time": "2021-07-08T11:46:18.900Z"
   },
   {
    "duration": 5,
    "start_time": "2021-07-08T11:46:18.924Z"
   },
   {
    "duration": 13,
    "start_time": "2021-07-08T11:46:18.931Z"
   },
   {
    "duration": 45,
    "start_time": "2021-07-08T11:46:18.946Z"
   },
   {
    "duration": 12,
    "start_time": "2021-07-08T11:46:18.993Z"
   },
   {
    "duration": 38,
    "start_time": "2021-07-08T11:46:19.006Z"
   },
   {
    "duration": 50,
    "start_time": "2021-07-08T11:46:19.046Z"
   },
   {
    "duration": 29,
    "start_time": "2021-07-08T11:46:19.099Z"
   },
   {
    "duration": 7,
    "start_time": "2021-07-08T11:46:19.130Z"
   },
   {
    "duration": 3,
    "start_time": "2021-07-08T11:46:19.139Z"
   },
   {
    "duration": 11,
    "start_time": "2021-07-08T11:46:19.144Z"
   },
   {
    "duration": 40,
    "start_time": "2021-07-08T11:46:19.157Z"
   },
   {
    "duration": 15,
    "start_time": "2021-07-08T11:46:19.199Z"
   },
   {
    "duration": 10,
    "start_time": "2021-07-08T11:46:19.217Z"
   },
   {
    "duration": 68,
    "start_time": "2021-07-08T11:46:19.230Z"
   },
   {
    "duration": 17,
    "start_time": "2021-07-08T11:46:19.301Z"
   },
   {
    "duration": 7,
    "start_time": "2021-07-08T11:46:19.321Z"
   },
   {
    "duration": 11,
    "start_time": "2021-07-08T11:46:19.330Z"
   },
   {
    "duration": 59,
    "start_time": "2021-07-08T11:46:19.343Z"
   },
   {
    "duration": 17,
    "start_time": "2021-07-08T11:46:19.405Z"
   },
   {
    "duration": 16,
    "start_time": "2021-07-08T11:46:19.424Z"
   },
   {
    "duration": 252,
    "start_time": "2021-07-08T11:46:19.443Z"
   },
   {
    "duration": 9,
    "start_time": "2021-07-08T11:46:19.697Z"
   },
   {
    "duration": 224,
    "start_time": "2021-07-08T11:46:19.708Z"
   },
   {
    "duration": 21,
    "start_time": "2021-07-08T11:46:19.934Z"
   },
   {
    "duration": 9,
    "start_time": "2021-07-08T11:46:19.956Z"
   },
   {
    "duration": 32,
    "start_time": "2021-07-08T11:46:19.967Z"
   },
   {
    "duration": 288,
    "start_time": "2021-07-08T11:46:20.004Z"
   },
   {
    "duration": 23,
    "start_time": "2021-07-08T11:46:20.300Z"
   },
   {
    "duration": 11,
    "start_time": "2021-07-08T11:46:20.325Z"
   },
   {
    "duration": 11,
    "start_time": "2021-07-08T11:46:20.339Z"
   },
   {
    "duration": 259,
    "start_time": "2021-07-08T11:46:20.352Z"
   },
   {
    "duration": 438,
    "start_time": "2021-07-08T11:46:20.613Z"
   },
   {
    "duration": 207,
    "start_time": "2021-07-08T11:46:21.054Z"
   },
   {
    "duration": 27,
    "start_time": "2021-07-08T11:46:21.262Z"
   },
   {
    "duration": 19,
    "start_time": "2021-07-08T11:46:21.291Z"
   },
   {
    "duration": 820,
    "start_time": "2021-07-08T11:49:01.655Z"
   },
   {
    "duration": 372,
    "start_time": "2021-07-08T11:49:02.478Z"
   },
   {
    "duration": 98,
    "start_time": "2021-07-08T11:49:02.853Z"
   },
   {
    "duration": 6,
    "start_time": "2021-07-08T11:49:02.953Z"
   },
   {
    "duration": 39,
    "start_time": "2021-07-08T11:49:02.960Z"
   },
   {
    "duration": 9,
    "start_time": "2021-07-08T11:49:03.003Z"
   },
   {
    "duration": 23,
    "start_time": "2021-07-08T11:49:03.014Z"
   },
   {
    "duration": 6,
    "start_time": "2021-07-08T11:49:03.041Z"
   },
   {
    "duration": 20,
    "start_time": "2021-07-08T11:49:03.049Z"
   },
   {
    "duration": 18,
    "start_time": "2021-07-08T11:49:03.084Z"
   },
   {
    "duration": 14,
    "start_time": "2021-07-08T11:49:03.104Z"
   },
   {
    "duration": 39,
    "start_time": "2021-07-08T11:49:03.119Z"
   },
   {
    "duration": 38,
    "start_time": "2021-07-08T11:49:03.160Z"
   },
   {
    "duration": 26,
    "start_time": "2021-07-08T11:49:03.200Z"
   },
   {
    "duration": 7,
    "start_time": "2021-07-08T11:49:03.227Z"
   },
   {
    "duration": 4,
    "start_time": "2021-07-08T11:49:03.236Z"
   },
   {
    "duration": 15,
    "start_time": "2021-07-08T11:49:03.243Z"
   },
   {
    "duration": 21,
    "start_time": "2021-07-08T11:49:03.285Z"
   },
   {
    "duration": 17,
    "start_time": "2021-07-08T11:49:03.309Z"
   },
   {
    "duration": 10,
    "start_time": "2021-07-08T11:49:03.328Z"
   },
   {
    "duration": 65,
    "start_time": "2021-07-08T11:49:03.340Z"
   },
   {
    "duration": 18,
    "start_time": "2021-07-08T11:49:03.407Z"
   },
   {
    "duration": 8,
    "start_time": "2021-07-08T11:49:03.428Z"
   },
   {
    "duration": 15,
    "start_time": "2021-07-08T11:49:03.438Z"
   },
   {
    "duration": 40,
    "start_time": "2021-07-08T11:49:03.455Z"
   },
   {
    "duration": 12,
    "start_time": "2021-07-08T11:49:03.497Z"
   },
   {
    "duration": 29,
    "start_time": "2021-07-08T11:49:03.511Z"
   },
   {
    "duration": 285,
    "start_time": "2021-07-08T11:49:03.542Z"
   },
   {
    "duration": 8,
    "start_time": "2021-07-08T11:49:03.829Z"
   },
   {
    "duration": 227,
    "start_time": "2021-07-08T11:49:03.838Z"
   },
   {
    "duration": 40,
    "start_time": "2021-07-08T11:49:04.066Z"
   },
   {
    "duration": 10,
    "start_time": "2021-07-08T11:49:04.108Z"
   },
   {
    "duration": 26,
    "start_time": "2021-07-08T11:49:04.121Z"
   },
   {
    "duration": 290,
    "start_time": "2021-07-08T11:49:04.149Z"
   },
   {
    "duration": 26,
    "start_time": "2021-07-08T11:49:04.441Z"
   },
   {
    "duration": 31,
    "start_time": "2021-07-08T11:49:04.470Z"
   },
   {
    "duration": 14,
    "start_time": "2021-07-08T11:49:04.503Z"
   },
   {
    "duration": 259,
    "start_time": "2021-07-08T11:49:04.521Z"
   },
   {
    "duration": 480,
    "start_time": "2021-07-08T11:49:04.782Z"
   },
   {
    "duration": 225,
    "start_time": "2021-07-08T11:49:05.264Z"
   },
   {
    "duration": 22,
    "start_time": "2021-07-08T11:49:05.491Z"
   },
   {
    "duration": 24,
    "start_time": "2021-07-08T11:49:05.515Z"
   },
   {
    "duration": 634,
    "start_time": "2021-07-08T11:52:24.960Z"
   },
   {
    "duration": 199,
    "start_time": "2021-07-08T11:52:25.599Z"
   },
   {
    "duration": 106,
    "start_time": "2021-07-08T11:52:25.803Z"
   },
   {
    "duration": 7,
    "start_time": "2021-07-08T11:52:25.911Z"
   },
   {
    "duration": 29,
    "start_time": "2021-07-08T11:52:25.920Z"
   },
   {
    "duration": 7,
    "start_time": "2021-07-08T11:52:25.951Z"
   },
   {
    "duration": 26,
    "start_time": "2021-07-08T11:52:25.961Z"
   },
   {
    "duration": 11,
    "start_time": "2021-07-08T11:52:25.990Z"
   },
   {
    "duration": 29,
    "start_time": "2021-07-08T11:52:26.005Z"
   },
   {
    "duration": 9,
    "start_time": "2021-07-08T11:52:26.036Z"
   },
   {
    "duration": 8,
    "start_time": "2021-07-08T11:52:26.047Z"
   },
   {
    "duration": 63,
    "start_time": "2021-07-08T11:52:26.057Z"
   },
   {
    "duration": 17,
    "start_time": "2021-07-08T11:52:26.122Z"
   },
   {
    "duration": 43,
    "start_time": "2021-07-08T11:52:26.142Z"
   },
   {
    "duration": 17,
    "start_time": "2021-07-08T11:52:26.187Z"
   },
   {
    "duration": 5,
    "start_time": "2021-07-08T11:52:26.206Z"
   },
   {
    "duration": 12,
    "start_time": "2021-07-08T11:52:26.212Z"
   },
   {
    "duration": 11,
    "start_time": "2021-07-08T11:52:26.226Z"
   },
   {
    "duration": 12,
    "start_time": "2021-07-08T11:52:26.238Z"
   },
   {
    "duration": 38,
    "start_time": "2021-07-08T11:52:26.252Z"
   },
   {
    "duration": 40,
    "start_time": "2021-07-08T11:52:26.292Z"
   },
   {
    "duration": 17,
    "start_time": "2021-07-08T11:52:26.336Z"
   },
   {
    "duration": 39,
    "start_time": "2021-07-08T11:52:26.355Z"
   },
   {
    "duration": 11,
    "start_time": "2021-07-08T11:52:26.395Z"
   },
   {
    "duration": 23,
    "start_time": "2021-07-08T11:52:26.408Z"
   },
   {
    "duration": 12,
    "start_time": "2021-07-08T11:52:26.432Z"
   },
   {
    "duration": 41,
    "start_time": "2021-07-08T11:52:26.446Z"
   },
   {
    "duration": 215,
    "start_time": "2021-07-08T11:52:26.493Z"
   },
   {
    "duration": 8,
    "start_time": "2021-07-08T11:52:26.710Z"
   },
   {
    "duration": 228,
    "start_time": "2021-07-08T11:52:26.720Z"
   },
   {
    "duration": 18,
    "start_time": "2021-07-08T11:52:26.950Z"
   },
   {
    "duration": 35,
    "start_time": "2021-07-08T11:52:26.969Z"
   },
   {
    "duration": 23,
    "start_time": "2021-07-08T11:52:27.006Z"
   },
   {
    "duration": 258,
    "start_time": "2021-07-08T11:52:27.030Z"
   },
   {
    "duration": 24,
    "start_time": "2021-07-08T11:52:27.290Z"
   },
   {
    "duration": 12,
    "start_time": "2021-07-08T11:52:27.316Z"
   },
   {
    "duration": 10,
    "start_time": "2021-07-08T11:52:27.329Z"
   },
   {
    "duration": 298,
    "start_time": "2021-07-08T11:52:27.341Z"
   },
   {
    "duration": 436,
    "start_time": "2021-07-08T11:52:27.641Z"
   },
   {
    "duration": 216,
    "start_time": "2021-07-08T11:52:28.079Z"
   },
   {
    "duration": 20,
    "start_time": "2021-07-08T11:52:28.297Z"
   },
   {
    "duration": 17,
    "start_time": "2021-07-08T11:52:28.319Z"
   },
   {
    "duration": 382,
    "start_time": "2023-01-12T20:43:47.269Z"
   },
   {
    "duration": 380,
    "start_time": "2023-01-12T20:45:09.988Z"
   },
   {
    "duration": 99,
    "start_time": "2023-01-12T20:50:59.416Z"
   },
   {
    "duration": 15,
    "start_time": "2023-01-12T20:51:57.115Z"
   },
   {
    "duration": 101,
    "start_time": "2023-01-12T20:52:21.122Z"
   },
   {
    "duration": 15,
    "start_time": "2023-01-12T20:52:24.535Z"
   },
   {
    "duration": 11,
    "start_time": "2023-01-12T20:53:10.392Z"
   },
   {
    "duration": 11,
    "start_time": "2023-01-12T21:04:33.150Z"
   },
   {
    "duration": 267,
    "start_time": "2023-01-12T21:05:53.775Z"
   },
   {
    "duration": 217,
    "start_time": "2023-01-12T21:06:42.758Z"
   },
   {
    "duration": 401,
    "start_time": "2023-01-12T21:07:47.087Z"
   },
   {
    "duration": 141,
    "start_time": "2023-01-12T21:07:47.490Z"
   },
   {
    "duration": 26,
    "start_time": "2023-01-12T21:07:47.632Z"
   },
   {
    "duration": 44,
    "start_time": "2023-01-12T21:07:47.660Z"
   },
   {
    "duration": 11,
    "start_time": "2023-01-12T21:07:47.706Z"
   },
   {
    "duration": 81,
    "start_time": "2023-01-12T21:07:47.720Z"
   },
   {
    "duration": 0,
    "start_time": "2023-01-12T21:07:47.803Z"
   },
   {
    "duration": 532,
    "start_time": "2023-01-12T21:08:12.287Z"
   },
   {
    "duration": 105,
    "start_time": "2023-01-12T21:08:12.822Z"
   },
   {
    "duration": 16,
    "start_time": "2023-01-12T21:08:12.929Z"
   },
   {
    "duration": 62,
    "start_time": "2023-01-12T21:08:12.946Z"
   },
   {
    "duration": 11,
    "start_time": "2023-01-12T21:08:13.013Z"
   },
   {
    "duration": 19,
    "start_time": "2023-01-12T21:08:13.026Z"
   },
   {
    "duration": 289,
    "start_time": "2023-01-12T21:08:13.047Z"
   },
   {
    "duration": 432,
    "start_time": "2023-01-12T21:16:28.361Z"
   },
   {
    "duration": 132,
    "start_time": "2023-01-12T21:16:28.796Z"
   },
   {
    "duration": 18,
    "start_time": "2023-01-12T21:16:28.930Z"
   },
   {
    "duration": 49,
    "start_time": "2023-01-12T21:16:28.950Z"
   },
   {
    "duration": 11,
    "start_time": "2023-01-12T21:16:29.001Z"
   },
   {
    "duration": 12,
    "start_time": "2023-01-12T21:16:29.014Z"
   },
   {
    "duration": 17,
    "start_time": "2023-01-12T21:16:29.028Z"
   },
   {
    "duration": 18,
    "start_time": "2023-01-12T21:16:57.597Z"
   },
   {
    "duration": 14,
    "start_time": "2023-01-12T21:19:45.540Z"
   },
   {
    "duration": 12,
    "start_time": "2023-01-12T21:19:47.672Z"
   },
   {
    "duration": 47,
    "start_time": "2023-01-12T21:28:22.477Z"
   },
   {
    "duration": 399,
    "start_time": "2023-01-12T21:28:38.779Z"
   },
   {
    "duration": 582,
    "start_time": "2023-01-12T21:28:39.179Z"
   },
   {
    "duration": 21,
    "start_time": "2023-01-12T21:28:39.763Z"
   },
   {
    "duration": 178,
    "start_time": "2023-01-12T21:28:39.786Z"
   },
   {
    "duration": 13,
    "start_time": "2023-01-12T21:28:39.966Z"
   },
   {
    "duration": 9,
    "start_time": "2023-01-12T21:28:39.981Z"
   },
   {
    "duration": 8,
    "start_time": "2023-01-12T21:28:39.991Z"
   },
   {
    "duration": 22,
    "start_time": "2023-01-12T21:28:40.000Z"
   },
   {
    "duration": 13,
    "start_time": "2023-01-12T21:28:40.023Z"
   },
   {
    "duration": 11,
    "start_time": "2023-01-12T21:28:40.038Z"
   },
   {
    "duration": 29,
    "start_time": "2023-01-12T21:28:40.050Z"
   },
   {
    "duration": 21,
    "start_time": "2023-01-12T21:29:22.238Z"
   },
   {
    "duration": 430,
    "start_time": "2023-01-13T13:36:38.708Z"
   },
   {
    "duration": 217,
    "start_time": "2023-01-13T13:36:39.140Z"
   },
   {
    "duration": 15,
    "start_time": "2023-01-13T13:36:39.359Z"
   },
   {
    "duration": 72,
    "start_time": "2023-01-13T13:36:39.375Z"
   },
   {
    "duration": 10,
    "start_time": "2023-01-13T13:36:39.449Z"
   },
   {
    "duration": 34,
    "start_time": "2023-01-13T13:36:39.460Z"
   },
   {
    "duration": 63,
    "start_time": "2023-01-13T13:36:39.496Z"
   },
   {
    "duration": 17,
    "start_time": "2023-01-13T13:36:39.561Z"
   },
   {
    "duration": 12,
    "start_time": "2023-01-13T13:36:39.581Z"
   },
   {
    "duration": 14,
    "start_time": "2023-01-13T13:36:39.594Z"
   },
   {
    "duration": 29,
    "start_time": "2023-01-13T13:36:39.610Z"
   },
   {
    "duration": 82,
    "start_time": "2023-01-13T13:36:39.640Z"
   },
   {
    "duration": 0,
    "start_time": "2023-01-13T13:36:39.724Z"
   },
   {
    "duration": 0,
    "start_time": "2023-01-13T13:36:39.725Z"
   },
   {
    "duration": 447,
    "start_time": "2023-01-13T13:43:03.899Z"
   },
   {
    "duration": 7,
    "start_time": "2023-01-13T13:43:38.689Z"
   },
   {
    "duration": 21,
    "start_time": "2023-01-13T13:43:53.927Z"
   },
   {
    "duration": 25,
    "start_time": "2023-01-13T13:44:11.419Z"
   },
   {
    "duration": 4,
    "start_time": "2023-01-13T13:45:39.863Z"
   },
   {
    "duration": 5,
    "start_time": "2023-01-13T13:45:48.397Z"
   },
   {
    "duration": 64,
    "start_time": "2023-01-13T13:49:39.821Z"
   },
   {
    "duration": 59,
    "start_time": "2023-01-13T13:50:51.797Z"
   },
   {
    "duration": 43,
    "start_time": "2023-01-13T13:51:23.046Z"
   },
   {
    "duration": 83,
    "start_time": "2023-01-13T13:51:48.752Z"
   },
   {
    "duration": 5,
    "start_time": "2023-01-13T13:51:56.248Z"
   },
   {
    "duration": 6,
    "start_time": "2023-01-13T13:52:02.388Z"
   },
   {
    "duration": 5,
    "start_time": "2023-01-13T13:52:10.413Z"
   },
   {
    "duration": 427,
    "start_time": "2023-01-13T13:52:25.616Z"
   },
   {
    "duration": 126,
    "start_time": "2023-01-13T13:52:26.045Z"
   },
   {
    "duration": 30,
    "start_time": "2023-01-13T13:52:26.173Z"
   },
   {
    "duration": 56,
    "start_time": "2023-01-13T13:52:26.205Z"
   },
   {
    "duration": 12,
    "start_time": "2023-01-13T13:52:26.264Z"
   },
   {
    "duration": 15,
    "start_time": "2023-01-13T13:52:26.279Z"
   },
   {
    "duration": 54,
    "start_time": "2023-01-13T13:52:26.296Z"
   },
   {
    "duration": 33,
    "start_time": "2023-01-13T13:52:26.352Z"
   },
   {
    "duration": 15,
    "start_time": "2023-01-13T13:52:26.387Z"
   },
   {
    "duration": 15,
    "start_time": "2023-01-13T13:52:26.406Z"
   },
   {
    "duration": 17,
    "start_time": "2023-01-13T13:52:26.423Z"
   },
   {
    "duration": 6,
    "start_time": "2023-01-13T13:52:26.442Z"
   },
   {
    "duration": 54,
    "start_time": "2023-01-13T13:52:26.450Z"
   },
   {
    "duration": 6,
    "start_time": "2023-01-13T13:52:26.506Z"
   },
   {
    "duration": 9,
    "start_time": "2023-01-13T13:52:26.514Z"
   },
   {
    "duration": 82,
    "start_time": "2023-01-13T13:52:26.525Z"
   },
   {
    "duration": 4,
    "start_time": "2023-01-13T13:55:11.374Z"
   },
   {
    "duration": 5,
    "start_time": "2023-01-13T13:55:14.062Z"
   },
   {
    "duration": 8,
    "start_time": "2023-01-13T13:55:52.182Z"
   },
   {
    "duration": 7,
    "start_time": "2023-01-13T13:55:54.898Z"
   },
   {
    "duration": 29,
    "start_time": "2023-01-13T13:56:18.658Z"
   },
   {
    "duration": 7,
    "start_time": "2023-01-13T13:57:46.946Z"
   },
   {
    "duration": 6,
    "start_time": "2023-01-13T13:57:50.241Z"
   },
   {
    "duration": 20,
    "start_time": "2023-01-13T13:58:12.457Z"
   },
   {
    "duration": 419,
    "start_time": "2023-01-13T13:58:28.380Z"
   },
   {
    "duration": 105,
    "start_time": "2023-01-13T13:58:28.802Z"
   },
   {
    "duration": 20,
    "start_time": "2023-01-13T13:58:28.909Z"
   },
   {
    "duration": 40,
    "start_time": "2023-01-13T13:58:28.930Z"
   },
   {
    "duration": 11,
    "start_time": "2023-01-13T13:58:28.972Z"
   },
   {
    "duration": 9,
    "start_time": "2023-01-13T13:58:28.984Z"
   },
   {
    "duration": 10,
    "start_time": "2023-01-13T13:58:28.994Z"
   },
   {
    "duration": 27,
    "start_time": "2023-01-13T13:58:29.006Z"
   },
   {
    "duration": 13,
    "start_time": "2023-01-13T13:58:29.035Z"
   },
   {
    "duration": 12,
    "start_time": "2023-01-13T13:58:29.050Z"
   },
   {
    "duration": 35,
    "start_time": "2023-01-13T13:58:29.065Z"
   },
   {
    "duration": 12,
    "start_time": "2023-01-13T13:58:29.103Z"
   },
   {
    "duration": 29,
    "start_time": "2023-01-13T13:58:29.117Z"
   },
   {
    "duration": 98,
    "start_time": "2023-01-13T13:58:29.149Z"
   },
   {
    "duration": 0,
    "start_time": "2023-01-13T13:58:29.248Z"
   },
   {
    "duration": 0,
    "start_time": "2023-01-13T13:58:29.250Z"
   },
   {
    "duration": 398,
    "start_time": "2023-01-13T13:59:16.710Z"
   },
   {
    "duration": 96,
    "start_time": "2023-01-13T13:59:17.109Z"
   },
   {
    "duration": 16,
    "start_time": "2023-01-13T13:59:17.206Z"
   },
   {
    "duration": 39,
    "start_time": "2023-01-13T13:59:17.224Z"
   },
   {
    "duration": 14,
    "start_time": "2023-01-13T13:59:17.266Z"
   },
   {
    "duration": 7,
    "start_time": "2023-01-13T13:59:17.282Z"
   },
   {
    "duration": 13,
    "start_time": "2023-01-13T13:59:17.290Z"
   },
   {
    "duration": 22,
    "start_time": "2023-01-13T13:59:17.305Z"
   },
   {
    "duration": 15,
    "start_time": "2023-01-13T13:59:17.328Z"
   },
   {
    "duration": 10,
    "start_time": "2023-01-13T13:59:17.344Z"
   },
   {
    "duration": 21,
    "start_time": "2023-01-13T13:59:17.356Z"
   },
   {
    "duration": 28,
    "start_time": "2023-01-13T13:59:17.379Z"
   },
   {
    "duration": 30,
    "start_time": "2023-01-13T13:59:17.409Z"
   },
   {
    "duration": 8,
    "start_time": "2023-01-13T13:59:17.441Z"
   },
   {
    "duration": 9,
    "start_time": "2023-01-13T13:59:17.451Z"
   },
   {
    "duration": 90,
    "start_time": "2023-01-13T13:59:17.461Z"
   },
   {
    "duration": 39,
    "start_time": "2023-01-13T14:05:57.136Z"
   },
   {
    "duration": 440,
    "start_time": "2023-01-13T14:06:13.412Z"
   },
   {
    "duration": 113,
    "start_time": "2023-01-13T14:06:13.854Z"
   },
   {
    "duration": 31,
    "start_time": "2023-01-13T14:06:13.971Z"
   },
   {
    "duration": 48,
    "start_time": "2023-01-13T14:06:14.004Z"
   },
   {
    "duration": 11,
    "start_time": "2023-01-13T14:06:14.054Z"
   },
   {
    "duration": 14,
    "start_time": "2023-01-13T14:06:14.067Z"
   },
   {
    "duration": 10,
    "start_time": "2023-01-13T14:06:14.083Z"
   },
   {
    "duration": 25,
    "start_time": "2023-01-13T14:06:14.094Z"
   },
   {
    "duration": 13,
    "start_time": "2023-01-13T14:06:14.122Z"
   },
   {
    "duration": 9,
    "start_time": "2023-01-13T14:06:14.137Z"
   },
   {
    "duration": 17,
    "start_time": "2023-01-13T14:06:14.148Z"
   },
   {
    "duration": 34,
    "start_time": "2023-01-13T14:06:14.167Z"
   },
   {
    "duration": 29,
    "start_time": "2023-01-13T14:06:14.203Z"
   },
   {
    "duration": 97,
    "start_time": "2023-01-13T14:06:14.234Z"
   },
   {
    "duration": 0,
    "start_time": "2023-01-13T14:06:14.332Z"
   },
   {
    "duration": 0,
    "start_time": "2023-01-13T14:06:14.333Z"
   },
   {
    "duration": 25,
    "start_time": "2023-01-13T14:06:54.076Z"
   },
   {
    "duration": 48,
    "start_time": "2023-01-13T14:10:56.439Z"
   },
   {
    "duration": 5,
    "start_time": "2023-01-13T14:11:33.788Z"
   },
   {
    "duration": 381,
    "start_time": "2023-01-13T14:11:45.031Z"
   },
   {
    "duration": 96,
    "start_time": "2023-01-13T14:11:45.414Z"
   },
   {
    "duration": 19,
    "start_time": "2023-01-13T14:11:45.512Z"
   },
   {
    "duration": 52,
    "start_time": "2023-01-13T14:11:45.532Z"
   },
   {
    "duration": 11,
    "start_time": "2023-01-13T14:11:45.587Z"
   },
   {
    "duration": 23,
    "start_time": "2023-01-13T14:11:45.600Z"
   },
   {
    "duration": 15,
    "start_time": "2023-01-13T14:11:45.625Z"
   },
   {
    "duration": 17,
    "start_time": "2023-01-13T14:11:45.642Z"
   },
   {
    "duration": 13,
    "start_time": "2023-01-13T14:11:45.661Z"
   },
   {
    "duration": 12,
    "start_time": "2023-01-13T14:11:45.676Z"
   },
   {
    "duration": 24,
    "start_time": "2023-01-13T14:11:45.696Z"
   },
   {
    "duration": 10,
    "start_time": "2023-01-13T14:11:45.722Z"
   },
   {
    "duration": 28,
    "start_time": "2023-01-13T14:11:45.734Z"
   },
   {
    "duration": 64,
    "start_time": "2023-01-13T14:11:45.765Z"
   },
   {
    "duration": 5,
    "start_time": "2023-01-13T14:11:45.831Z"
   },
   {
    "duration": 92,
    "start_time": "2023-01-13T14:11:45.838Z"
   },
   {
    "duration": 16,
    "start_time": "2023-01-13T14:17:21.763Z"
   },
   {
    "duration": 6,
    "start_time": "2023-01-13T14:17:41.705Z"
   },
   {
    "duration": 23,
    "start_time": "2023-01-13T14:18:01.411Z"
   },
   {
    "duration": 24,
    "start_time": "2023-01-13T14:18:03.499Z"
   },
   {
    "duration": 7,
    "start_time": "2023-01-13T14:18:05.842Z"
   },
   {
    "duration": 444,
    "start_time": "2023-01-13T14:18:23.086Z"
   },
   {
    "duration": 112,
    "start_time": "2023-01-13T14:18:23.532Z"
   },
   {
    "duration": 19,
    "start_time": "2023-01-13T14:18:23.646Z"
   },
   {
    "duration": 42,
    "start_time": "2023-01-13T14:18:23.668Z"
   },
   {
    "duration": 14,
    "start_time": "2023-01-13T14:18:23.712Z"
   },
   {
    "duration": 12,
    "start_time": "2023-01-13T14:18:23.728Z"
   },
   {
    "duration": 8,
    "start_time": "2023-01-13T14:18:23.742Z"
   },
   {
    "duration": 14,
    "start_time": "2023-01-13T14:18:23.751Z"
   },
   {
    "duration": 42,
    "start_time": "2023-01-13T14:18:23.767Z"
   },
   {
    "duration": 14,
    "start_time": "2023-01-13T14:18:23.812Z"
   },
   {
    "duration": 57,
    "start_time": "2023-01-13T14:18:23.828Z"
   },
   {
    "duration": 7,
    "start_time": "2023-01-13T14:18:23.887Z"
   },
   {
    "duration": 39,
    "start_time": "2023-01-13T14:18:23.896Z"
   },
   {
    "duration": 58,
    "start_time": "2023-01-13T14:18:23.937Z"
   },
   {
    "duration": 7,
    "start_time": "2023-01-13T14:18:23.997Z"
   },
   {
    "duration": 108,
    "start_time": "2023-01-13T14:18:24.006Z"
   },
   {
    "duration": 22,
    "start_time": "2023-01-13T14:18:31.796Z"
   },
   {
    "duration": 11,
    "start_time": "2023-01-13T14:18:40.947Z"
   },
   {
    "duration": 19,
    "start_time": "2023-01-13T14:18:51.901Z"
   },
   {
    "duration": 22,
    "start_time": "2023-01-13T14:18:54.299Z"
   },
   {
    "duration": 7,
    "start_time": "2023-01-13T14:18:56.076Z"
   },
   {
    "duration": 17,
    "start_time": "2023-01-13T14:19:11.778Z"
   },
   {
    "duration": 7,
    "start_time": "2023-01-13T14:19:13.469Z"
   },
   {
    "duration": 400,
    "start_time": "2023-01-13T14:22:48.744Z"
   },
   {
    "duration": 103,
    "start_time": "2023-01-13T14:22:49.146Z"
   },
   {
    "duration": 15,
    "start_time": "2023-01-13T14:22:49.252Z"
   },
   {
    "duration": 42,
    "start_time": "2023-01-13T14:22:49.269Z"
   },
   {
    "duration": 12,
    "start_time": "2023-01-13T14:22:49.313Z"
   },
   {
    "duration": 18,
    "start_time": "2023-01-13T14:22:49.327Z"
   },
   {
    "duration": 6,
    "start_time": "2023-01-13T14:22:49.347Z"
   },
   {
    "duration": 28,
    "start_time": "2023-01-13T14:22:49.355Z"
   },
   {
    "duration": 11,
    "start_time": "2023-01-13T14:22:49.385Z"
   },
   {
    "duration": 10,
    "start_time": "2023-01-13T14:22:49.399Z"
   },
   {
    "duration": 30,
    "start_time": "2023-01-13T14:22:49.411Z"
   },
   {
    "duration": 9,
    "start_time": "2023-01-13T14:22:49.443Z"
   },
   {
    "duration": 40,
    "start_time": "2023-01-13T14:22:49.453Z"
   },
   {
    "duration": 45,
    "start_time": "2023-01-13T14:22:49.504Z"
   },
   {
    "duration": 0,
    "start_time": "2023-01-13T14:22:49.550Z"
   },
   {
    "duration": 0,
    "start_time": "2023-01-13T14:22:49.553Z"
   },
   {
    "duration": 119,
    "start_time": "2023-01-13T14:23:58.816Z"
   },
   {
    "duration": 18,
    "start_time": "2023-01-13T14:28:46.944Z"
   },
   {
    "duration": 18,
    "start_time": "2023-01-13T14:29:45.338Z"
   },
   {
    "duration": 18,
    "start_time": "2023-01-13T14:30:08.844Z"
   },
   {
    "duration": 12,
    "start_time": "2023-01-13T14:30:31.631Z"
   },
   {
    "duration": 13,
    "start_time": "2023-01-13T14:30:33.751Z"
   },
   {
    "duration": 9,
    "start_time": "2023-01-13T14:30:36.094Z"
   },
   {
    "duration": 20,
    "start_time": "2023-01-13T14:31:00.455Z"
   },
   {
    "duration": 417,
    "start_time": "2023-01-13T14:31:08.089Z"
   },
   {
    "duration": 98,
    "start_time": "2023-01-13T14:31:08.509Z"
   },
   {
    "duration": 24,
    "start_time": "2023-01-13T14:31:08.609Z"
   },
   {
    "duration": 40,
    "start_time": "2023-01-13T14:31:08.635Z"
   },
   {
    "duration": 10,
    "start_time": "2023-01-13T14:31:08.678Z"
   },
   {
    "duration": 15,
    "start_time": "2023-01-13T14:31:08.690Z"
   },
   {
    "duration": 7,
    "start_time": "2023-01-13T14:31:08.707Z"
   },
   {
    "duration": 38,
    "start_time": "2023-01-13T14:31:08.717Z"
   },
   {
    "duration": 24,
    "start_time": "2023-01-13T14:31:08.757Z"
   },
   {
    "duration": 25,
    "start_time": "2023-01-13T14:31:08.784Z"
   },
   {
    "duration": 26,
    "start_time": "2023-01-13T14:31:08.812Z"
   },
   {
    "duration": 15,
    "start_time": "2023-01-13T14:31:08.839Z"
   },
   {
    "duration": 55,
    "start_time": "2023-01-13T14:31:08.856Z"
   },
   {
    "duration": 114,
    "start_time": "2023-01-13T14:31:08.915Z"
   },
   {
    "duration": 0,
    "start_time": "2023-01-13T14:31:09.031Z"
   },
   {
    "duration": 0,
    "start_time": "2023-01-13T14:31:09.033Z"
   },
   {
    "duration": 28,
    "start_time": "2023-01-13T14:33:58.447Z"
   },
   {
    "duration": 22,
    "start_time": "2023-01-13T14:34:12.966Z"
   },
   {
    "duration": 10,
    "start_time": "2023-01-13T14:34:31.202Z"
   },
   {
    "duration": 5,
    "start_time": "2023-01-13T14:34:35.091Z"
   },
   {
    "duration": 418,
    "start_time": "2023-01-13T14:37:34.073Z"
   },
   {
    "duration": 93,
    "start_time": "2023-01-13T14:37:34.493Z"
   },
   {
    "duration": 14,
    "start_time": "2023-01-13T14:37:34.588Z"
   },
   {
    "duration": 41,
    "start_time": "2023-01-13T14:37:34.604Z"
   },
   {
    "duration": 9,
    "start_time": "2023-01-13T14:37:34.647Z"
   },
   {
    "duration": 9,
    "start_time": "2023-01-13T14:37:34.658Z"
   },
   {
    "duration": 8,
    "start_time": "2023-01-13T14:37:34.669Z"
   },
   {
    "duration": 17,
    "start_time": "2023-01-13T14:37:34.679Z"
   },
   {
    "duration": 14,
    "start_time": "2023-01-13T14:37:34.698Z"
   },
   {
    "duration": 10,
    "start_time": "2023-01-13T14:37:34.715Z"
   },
   {
    "duration": 18,
    "start_time": "2023-01-13T14:37:34.727Z"
   },
   {
    "duration": 8,
    "start_time": "2023-01-13T14:37:34.746Z"
   },
   {
    "duration": 55,
    "start_time": "2023-01-13T14:37:34.756Z"
   },
   {
    "duration": 3,
    "start_time": "2023-01-13T14:37:34.812Z"
   },
   {
    "duration": 7,
    "start_time": "2023-01-13T14:37:34.817Z"
   },
   {
    "duration": 74,
    "start_time": "2023-01-13T14:37:34.826Z"
   },
   {
    "duration": 416,
    "start_time": "2023-01-13T14:38:43.268Z"
   },
   {
    "duration": 94,
    "start_time": "2023-01-13T14:38:43.686Z"
   },
   {
    "duration": 16,
    "start_time": "2023-01-13T14:38:43.785Z"
   },
   {
    "duration": 45,
    "start_time": "2023-01-13T14:38:43.804Z"
   },
   {
    "duration": 10,
    "start_time": "2023-01-13T14:38:43.851Z"
   },
   {
    "duration": 25,
    "start_time": "2023-01-13T14:38:43.863Z"
   },
   {
    "duration": 15,
    "start_time": "2023-01-13T14:38:43.890Z"
   },
   {
    "duration": 24,
    "start_time": "2023-01-13T14:38:43.907Z"
   },
   {
    "duration": 33,
    "start_time": "2023-01-13T14:38:43.932Z"
   },
   {
    "duration": 11,
    "start_time": "2023-01-13T14:38:43.967Z"
   },
   {
    "duration": 30,
    "start_time": "2023-01-13T14:38:43.979Z"
   },
   {
    "duration": 8,
    "start_time": "2023-01-13T14:38:44.011Z"
   },
   {
    "duration": 32,
    "start_time": "2023-01-13T14:38:44.021Z"
   },
   {
    "duration": 15,
    "start_time": "2023-01-13T14:38:44.054Z"
   },
   {
    "duration": 15,
    "start_time": "2023-01-13T14:38:44.070Z"
   },
   {
    "duration": 6,
    "start_time": "2023-01-13T14:38:44.087Z"
   },
   {
    "duration": 74,
    "start_time": "2023-01-13T14:38:44.095Z"
   },
   {
    "duration": 369,
    "start_time": "2023-01-13T14:39:38.624Z"
   },
   {
    "duration": 91,
    "start_time": "2023-01-13T14:39:38.996Z"
   },
   {
    "duration": 16,
    "start_time": "2023-01-13T14:39:39.089Z"
   },
   {
    "duration": 45,
    "start_time": "2023-01-13T14:39:39.107Z"
   },
   {
    "duration": 11,
    "start_time": "2023-01-13T14:39:46.352Z"
   },
   {
    "duration": 17,
    "start_time": "2023-01-13T14:39:46.365Z"
   },
   {
    "duration": 16,
    "start_time": "2023-01-13T14:39:46.384Z"
   },
   {
    "duration": 18,
    "start_time": "2023-01-13T14:39:46.401Z"
   },
   {
    "duration": 13,
    "start_time": "2023-01-13T14:39:46.421Z"
   },
   {
    "duration": 14,
    "start_time": "2023-01-13T14:39:46.435Z"
   },
   {
    "duration": 18,
    "start_time": "2023-01-13T14:39:46.450Z"
   },
   {
    "duration": 7,
    "start_time": "2023-01-13T14:39:46.469Z"
   },
   {
    "duration": 35,
    "start_time": "2023-01-13T14:39:46.478Z"
   },
   {
    "duration": 4,
    "start_time": "2023-01-13T14:39:46.514Z"
   },
   {
    "duration": 7,
    "start_time": "2023-01-13T14:39:46.520Z"
   },
   {
    "duration": 10,
    "start_time": "2023-01-13T14:39:46.528Z"
   },
   {
    "duration": 83,
    "start_time": "2023-01-13T14:39:46.540Z"
   },
   {
    "duration": 5,
    "start_time": "2023-01-13T14:40:00.931Z"
   },
   {
    "duration": 364,
    "start_time": "2023-01-13T15:08:59.164Z"
   },
   {
    "duration": 91,
    "start_time": "2023-01-13T15:08:59.530Z"
   },
   {
    "duration": 13,
    "start_time": "2023-01-13T15:08:59.623Z"
   },
   {
    "duration": 108,
    "start_time": "2023-01-13T15:08:59.638Z"
   },
   {
    "duration": 9,
    "start_time": "2023-01-13T15:08:59.748Z"
   },
   {
    "duration": 17,
    "start_time": "2023-01-13T15:08:59.759Z"
   },
   {
    "duration": 7,
    "start_time": "2023-01-13T15:08:59.778Z"
   },
   {
    "duration": 22,
    "start_time": "2023-01-13T15:08:59.786Z"
   },
   {
    "duration": 13,
    "start_time": "2023-01-13T15:08:59.810Z"
   },
   {
    "duration": 9,
    "start_time": "2023-01-13T15:08:59.825Z"
   },
   {
    "duration": 15,
    "start_time": "2023-01-13T15:08:59.836Z"
   },
   {
    "duration": 7,
    "start_time": "2023-01-13T15:08:59.853Z"
   },
   {
    "duration": 47,
    "start_time": "2023-01-13T15:08:59.861Z"
   },
   {
    "duration": 6,
    "start_time": "2023-01-13T15:08:59.910Z"
   },
   {
    "duration": 11,
    "start_time": "2023-01-13T15:08:59.917Z"
   },
   {
    "duration": 7,
    "start_time": "2023-01-13T15:08:59.930Z"
   },
   {
    "duration": 8,
    "start_time": "2023-01-13T15:08:59.939Z"
   },
   {
    "duration": 11,
    "start_time": "2023-01-13T15:08:59.949Z"
   },
   {
    "duration": 439,
    "start_time": "2023-01-13T15:22:32.293Z"
   },
   {
    "duration": 110,
    "start_time": "2023-01-13T15:22:32.735Z"
   },
   {
    "duration": 16,
    "start_time": "2023-01-13T15:22:32.847Z"
   },
   {
    "duration": 64,
    "start_time": "2023-01-13T15:22:32.865Z"
   },
   {
    "duration": 11,
    "start_time": "2023-01-13T15:22:32.933Z"
   },
   {
    "duration": 35,
    "start_time": "2023-01-13T15:22:32.946Z"
   },
   {
    "duration": 20,
    "start_time": "2023-01-13T15:22:32.983Z"
   },
   {
    "duration": 39,
    "start_time": "2023-01-13T15:22:33.009Z"
   },
   {
    "duration": 12,
    "start_time": "2023-01-13T15:22:33.049Z"
   },
   {
    "duration": 15,
    "start_time": "2023-01-13T15:22:33.063Z"
   },
   {
    "duration": 24,
    "start_time": "2023-01-13T15:22:33.080Z"
   },
   {
    "duration": 34,
    "start_time": "2023-01-13T15:22:33.105Z"
   },
   {
    "duration": 24,
    "start_time": "2023-01-13T15:22:33.141Z"
   },
   {
    "duration": 10,
    "start_time": "2023-01-13T15:22:33.167Z"
   },
   {
    "duration": 22,
    "start_time": "2023-01-13T15:22:33.178Z"
   },
   {
    "duration": 32,
    "start_time": "2023-01-13T15:22:33.202Z"
   },
   {
    "duration": 7,
    "start_time": "2023-01-13T15:22:33.236Z"
   },
   {
    "duration": 12,
    "start_time": "2023-01-13T15:22:33.245Z"
   },
   {
    "duration": 304,
    "start_time": "2023-01-13T15:22:33.259Z"
   },
   {
    "duration": 10,
    "start_time": "2023-01-13T15:24:08.498Z"
   },
   {
    "duration": 414,
    "start_time": "2023-01-13T15:27:51.698Z"
   },
   {
    "duration": 91,
    "start_time": "2023-01-13T15:27:52.114Z"
   },
   {
    "duration": 14,
    "start_time": "2023-01-13T15:27:52.207Z"
   },
   {
    "duration": 51,
    "start_time": "2023-01-13T15:27:52.223Z"
   },
   {
    "duration": 10,
    "start_time": "2023-01-13T15:27:52.276Z"
   },
   {
    "duration": 21,
    "start_time": "2023-01-13T15:27:52.287Z"
   },
   {
    "duration": 37,
    "start_time": "2023-01-13T15:27:52.310Z"
   },
   {
    "duration": 26,
    "start_time": "2023-01-13T15:27:52.349Z"
   },
   {
    "duration": 16,
    "start_time": "2023-01-13T15:27:52.377Z"
   },
   {
    "duration": 23,
    "start_time": "2023-01-13T15:27:52.397Z"
   },
   {
    "duration": 23,
    "start_time": "2023-01-13T15:27:52.422Z"
   },
   {
    "duration": 10,
    "start_time": "2023-01-13T15:27:52.446Z"
   },
   {
    "duration": 27,
    "start_time": "2023-01-13T15:27:52.458Z"
   },
   {
    "duration": 9,
    "start_time": "2023-01-13T15:27:52.487Z"
   },
   {
    "duration": 8,
    "start_time": "2023-01-13T15:27:52.498Z"
   },
   {
    "duration": 16,
    "start_time": "2023-01-13T15:27:52.508Z"
   },
   {
    "duration": 31,
    "start_time": "2023-01-13T15:27:52.526Z"
   },
   {
    "duration": 10,
    "start_time": "2023-01-13T15:27:52.559Z"
   },
   {
    "duration": 18,
    "start_time": "2023-01-13T15:27:52.572Z"
   },
   {
    "duration": 6,
    "start_time": "2023-01-13T15:27:52.593Z"
   },
   {
    "duration": 247,
    "start_time": "2023-01-13T15:27:52.601Z"
   },
   {
    "duration": 0,
    "start_time": "2023-01-13T15:27:52.850Z"
   },
   {
    "duration": 0,
    "start_time": "2023-01-13T15:27:52.851Z"
   },
   {
    "duration": 403,
    "start_time": "2023-01-13T15:28:48.947Z"
   },
   {
    "duration": 91,
    "start_time": "2023-01-13T15:28:49.352Z"
   },
   {
    "duration": 15,
    "start_time": "2023-01-13T15:28:49.447Z"
   },
   {
    "duration": 42,
    "start_time": "2023-01-13T15:28:49.463Z"
   },
   {
    "duration": 10,
    "start_time": "2023-01-13T15:28:49.507Z"
   },
   {
    "duration": 11,
    "start_time": "2023-01-13T15:28:49.519Z"
   },
   {
    "duration": 9,
    "start_time": "2023-01-13T15:28:49.531Z"
   },
   {
    "duration": 15,
    "start_time": "2023-01-13T15:28:49.542Z"
   },
   {
    "duration": 35,
    "start_time": "2023-01-13T15:28:49.561Z"
   },
   {
    "duration": 14,
    "start_time": "2023-01-13T15:28:49.599Z"
   },
   {
    "duration": 21,
    "start_time": "2023-01-13T15:28:49.615Z"
   },
   {
    "duration": 9,
    "start_time": "2023-01-13T15:28:49.638Z"
   },
   {
    "duration": 59,
    "start_time": "2023-01-13T15:28:49.649Z"
   },
   {
    "duration": 5,
    "start_time": "2023-01-13T15:28:49.710Z"
   },
   {
    "duration": 9,
    "start_time": "2023-01-13T15:28:49.718Z"
   },
   {
    "duration": 8,
    "start_time": "2023-01-13T15:28:49.729Z"
   },
   {
    "duration": 6,
    "start_time": "2023-01-13T15:28:49.740Z"
   },
   {
    "duration": 11,
    "start_time": "2023-01-13T15:28:49.748Z"
   },
   {
    "duration": 43,
    "start_time": "2023-01-13T15:28:49.761Z"
   },
   {
    "duration": 8,
    "start_time": "2023-01-13T15:28:49.806Z"
   },
   {
    "duration": 84,
    "start_time": "2023-01-13T15:28:49.816Z"
   },
   {
    "duration": 0,
    "start_time": "2023-01-13T15:28:49.903Z"
   },
   {
    "duration": 0,
    "start_time": "2023-01-13T15:28:49.904Z"
   },
   {
    "duration": 402,
    "start_time": "2023-01-13T15:30:06.354Z"
   },
   {
    "duration": 95,
    "start_time": "2023-01-13T15:30:06.757Z"
   },
   {
    "duration": 15,
    "start_time": "2023-01-13T15:30:06.853Z"
   },
   {
    "duration": 60,
    "start_time": "2023-01-13T15:30:06.870Z"
   },
   {
    "duration": 11,
    "start_time": "2023-01-13T15:30:06.931Z"
   },
   {
    "duration": 9,
    "start_time": "2023-01-13T15:30:06.943Z"
   },
   {
    "duration": 10,
    "start_time": "2023-01-13T15:30:06.954Z"
   },
   {
    "duration": 16,
    "start_time": "2023-01-13T15:30:06.966Z"
   },
   {
    "duration": 20,
    "start_time": "2023-01-13T15:30:06.984Z"
   },
   {
    "duration": 14,
    "start_time": "2023-01-13T15:30:07.010Z"
   },
   {
    "duration": 23,
    "start_time": "2023-01-13T15:30:07.026Z"
   },
   {
    "duration": 13,
    "start_time": "2023-01-13T15:30:07.051Z"
   },
   {
    "duration": 40,
    "start_time": "2023-01-13T15:30:07.066Z"
   },
   {
    "duration": 12,
    "start_time": "2023-01-13T15:30:07.109Z"
   },
   {
    "duration": 15,
    "start_time": "2023-01-13T15:30:07.123Z"
   },
   {
    "duration": 8,
    "start_time": "2023-01-13T15:30:07.140Z"
   },
   {
    "duration": 7,
    "start_time": "2023-01-13T15:30:07.151Z"
   },
   {
    "duration": 8,
    "start_time": "2023-01-13T15:30:07.160Z"
   },
   {
    "duration": 13,
    "start_time": "2023-01-13T15:30:07.170Z"
   },
   {
    "duration": 29,
    "start_time": "2023-01-13T15:30:07.185Z"
   },
   {
    "duration": 279,
    "start_time": "2023-01-13T15:30:07.216Z"
   },
   {
    "duration": 0,
    "start_time": "2023-01-13T15:30:07.500Z"
   },
   {
    "duration": 0,
    "start_time": "2023-01-13T15:30:07.501Z"
   },
   {
    "duration": 404,
    "start_time": "2023-01-13T16:03:47.825Z"
   },
   {
    "duration": 100,
    "start_time": "2023-01-13T16:03:48.231Z"
   },
   {
    "duration": 16,
    "start_time": "2023-01-13T16:03:48.333Z"
   },
   {
    "duration": 42,
    "start_time": "2023-01-13T16:03:48.351Z"
   },
   {
    "duration": 13,
    "start_time": "2023-01-13T16:03:48.395Z"
   },
   {
    "duration": 23,
    "start_time": "2023-01-13T16:03:48.416Z"
   },
   {
    "duration": 8,
    "start_time": "2023-01-13T16:03:48.441Z"
   },
   {
    "duration": 16,
    "start_time": "2023-01-13T16:03:48.450Z"
   },
   {
    "duration": 12,
    "start_time": "2023-01-13T16:03:48.468Z"
   },
   {
    "duration": 10,
    "start_time": "2023-01-13T16:03:48.482Z"
   },
   {
    "duration": 43,
    "start_time": "2023-01-13T16:03:48.497Z"
   },
   {
    "duration": 11,
    "start_time": "2023-01-13T16:03:48.542Z"
   },
   {
    "duration": 36,
    "start_time": "2023-01-13T16:03:48.555Z"
   },
   {
    "duration": 4,
    "start_time": "2023-01-13T16:03:48.593Z"
   },
   {
    "duration": 44,
    "start_time": "2023-01-13T16:03:48.603Z"
   },
   {
    "duration": 18,
    "start_time": "2023-01-13T16:03:48.649Z"
   },
   {
    "duration": 7,
    "start_time": "2023-01-13T16:03:48.669Z"
   },
   {
    "duration": 12,
    "start_time": "2023-01-13T16:03:48.677Z"
   },
   {
    "duration": 28,
    "start_time": "2023-01-13T16:03:48.690Z"
   },
   {
    "duration": 18,
    "start_time": "2023-01-13T16:03:48.720Z"
   },
   {
    "duration": 6,
    "start_time": "2023-01-13T16:03:48.740Z"
   },
   {
    "duration": 85,
    "start_time": "2023-01-13T16:03:48.747Z"
   },
   {
    "duration": 0,
    "start_time": "2023-01-13T16:03:48.834Z"
   },
   {
    "duration": 5,
    "start_time": "2023-01-13T16:07:46.452Z"
   },
   {
    "duration": 359,
    "start_time": "2023-01-13T16:08:04.355Z"
   },
   {
    "duration": 99,
    "start_time": "2023-01-13T16:08:04.716Z"
   },
   {
    "duration": 14,
    "start_time": "2023-01-13T16:08:04.817Z"
   },
   {
    "duration": 42,
    "start_time": "2023-01-13T16:08:04.833Z"
   },
   {
    "duration": 10,
    "start_time": "2023-01-13T16:08:04.878Z"
   },
   {
    "duration": 17,
    "start_time": "2023-01-13T16:08:04.890Z"
   },
   {
    "duration": 13,
    "start_time": "2023-01-13T16:08:04.908Z"
   },
   {
    "duration": 20,
    "start_time": "2023-01-13T16:08:04.923Z"
   },
   {
    "duration": 17,
    "start_time": "2023-01-13T16:08:04.945Z"
   },
   {
    "duration": 11,
    "start_time": "2023-01-13T16:08:04.964Z"
   },
   {
    "duration": 31,
    "start_time": "2023-01-13T16:08:04.977Z"
   },
   {
    "duration": 13,
    "start_time": "2023-01-13T16:08:05.013Z"
   },
   {
    "duration": 34,
    "start_time": "2023-01-13T16:08:05.028Z"
   },
   {
    "duration": 4,
    "start_time": "2023-01-13T16:08:05.066Z"
   },
   {
    "duration": 11,
    "start_time": "2023-01-13T16:08:05.071Z"
   },
   {
    "duration": 13,
    "start_time": "2023-01-13T16:08:05.084Z"
   },
   {
    "duration": 26,
    "start_time": "2023-01-13T16:08:05.099Z"
   },
   {
    "duration": 12,
    "start_time": "2023-01-13T16:08:05.127Z"
   },
   {
    "duration": 17,
    "start_time": "2023-01-13T16:08:05.141Z"
   },
   {
    "duration": 6,
    "start_time": "2023-01-13T16:08:05.161Z"
   },
   {
    "duration": 5,
    "start_time": "2023-01-13T16:08:05.169Z"
   },
   {
    "duration": 19,
    "start_time": "2023-01-13T16:08:05.175Z"
   },
   {
    "duration": 83,
    "start_time": "2023-01-13T16:08:05.196Z"
   },
   {
    "duration": 0,
    "start_time": "2023-01-13T16:08:05.281Z"
   },
   {
    "duration": 427,
    "start_time": "2023-01-13T16:10:20.973Z"
   },
   {
    "duration": 91,
    "start_time": "2023-01-13T16:10:21.401Z"
   },
   {
    "duration": 23,
    "start_time": "2023-01-13T16:10:21.494Z"
   },
   {
    "duration": 43,
    "start_time": "2023-01-13T16:10:21.519Z"
   },
   {
    "duration": 9,
    "start_time": "2023-01-13T16:10:21.564Z"
   },
   {
    "duration": 10,
    "start_time": "2023-01-13T16:10:21.574Z"
   },
   {
    "duration": 8,
    "start_time": "2023-01-13T16:10:21.585Z"
   },
   {
    "duration": 33,
    "start_time": "2023-01-13T16:10:21.595Z"
   },
   {
    "duration": 13,
    "start_time": "2023-01-13T16:10:21.629Z"
   },
   {
    "duration": 9,
    "start_time": "2023-01-13T16:10:21.645Z"
   },
   {
    "duration": 19,
    "start_time": "2023-01-13T16:10:21.656Z"
   },
   {
    "duration": 11,
    "start_time": "2023-01-13T16:10:21.677Z"
   },
   {
    "duration": 36,
    "start_time": "2023-01-13T16:10:21.690Z"
   },
   {
    "duration": 6,
    "start_time": "2023-01-13T16:10:21.728Z"
   },
   {
    "duration": 13,
    "start_time": "2023-01-13T16:10:21.736Z"
   },
   {
    "duration": 5,
    "start_time": "2023-01-13T16:10:21.751Z"
   },
   {
    "duration": 5,
    "start_time": "2023-01-13T16:10:21.757Z"
   },
   {
    "duration": 7,
    "start_time": "2023-01-13T16:10:21.764Z"
   },
   {
    "duration": 43,
    "start_time": "2023-01-13T16:10:21.772Z"
   },
   {
    "duration": 6,
    "start_time": "2023-01-13T16:10:21.817Z"
   },
   {
    "duration": 6,
    "start_time": "2023-01-13T16:10:21.824Z"
   },
   {
    "duration": 17,
    "start_time": "2023-01-13T16:10:21.832Z"
   },
   {
    "duration": 11,
    "start_time": "2023-01-13T16:10:21.851Z"
   },
   {
    "duration": 109,
    "start_time": "2023-01-13T16:10:21.863Z"
   },
   {
    "duration": 0,
    "start_time": "2023-01-13T16:10:21.974Z"
   },
   {
    "duration": 394,
    "start_time": "2023-01-13T16:13:17.540Z"
   },
   {
    "duration": 93,
    "start_time": "2023-01-13T16:13:17.935Z"
   },
   {
    "duration": 12,
    "start_time": "2023-01-13T16:13:18.030Z"
   },
   {
    "duration": 39,
    "start_time": "2023-01-13T16:13:18.044Z"
   },
   {
    "duration": 10,
    "start_time": "2023-01-13T16:13:18.085Z"
   },
   {
    "duration": 23,
    "start_time": "2023-01-13T16:13:18.097Z"
   },
   {
    "duration": 12,
    "start_time": "2023-01-13T16:13:18.122Z"
   },
   {
    "duration": 13,
    "start_time": "2023-01-13T16:13:18.136Z"
   },
   {
    "duration": 11,
    "start_time": "2023-01-13T16:13:18.150Z"
   },
   {
    "duration": 10,
    "start_time": "2023-01-13T16:13:18.164Z"
   },
   {
    "duration": 32,
    "start_time": "2023-01-13T16:13:18.176Z"
   },
   {
    "duration": 10,
    "start_time": "2023-01-13T16:13:18.210Z"
   },
   {
    "duration": 25,
    "start_time": "2023-01-13T16:13:18.222Z"
   },
   {
    "duration": 16,
    "start_time": "2023-01-13T16:13:18.249Z"
   },
   {
    "duration": 9,
    "start_time": "2023-01-13T16:13:18.267Z"
   },
   {
    "duration": 10,
    "start_time": "2023-01-13T16:13:18.277Z"
   },
   {
    "duration": 22,
    "start_time": "2023-01-13T16:13:18.289Z"
   },
   {
    "duration": 10,
    "start_time": "2023-01-13T16:13:18.313Z"
   },
   {
    "duration": 19,
    "start_time": "2023-01-13T16:13:18.324Z"
   },
   {
    "duration": 5,
    "start_time": "2023-01-13T16:13:18.345Z"
   },
   {
    "duration": 9,
    "start_time": "2023-01-13T16:13:18.352Z"
   },
   {
    "duration": 21,
    "start_time": "2023-01-13T16:13:18.363Z"
   },
   {
    "duration": 14,
    "start_time": "2023-01-13T16:13:18.386Z"
   },
   {
    "duration": 14,
    "start_time": "2023-01-13T16:13:18.407Z"
   },
   {
    "duration": 5,
    "start_time": "2023-01-13T16:14:17.020Z"
   },
   {
    "duration": 5,
    "start_time": "2023-01-13T16:15:40.210Z"
   },
   {
    "duration": 48,
    "start_time": "2023-01-14T13:40:19.954Z"
   },
   {
    "duration": 398,
    "start_time": "2023-01-14T13:40:50.758Z"
   },
   {
    "duration": 268,
    "start_time": "2023-01-14T13:40:51.158Z"
   },
   {
    "duration": 16,
    "start_time": "2023-01-14T13:40:51.427Z"
   },
   {
    "duration": 86,
    "start_time": "2023-01-14T13:40:51.445Z"
   },
   {
    "duration": 15,
    "start_time": "2023-01-14T13:40:51.534Z"
   },
   {
    "duration": 18,
    "start_time": "2023-01-14T13:40:51.551Z"
   },
   {
    "duration": 14,
    "start_time": "2023-01-14T13:40:51.571Z"
   },
   {
    "duration": 29,
    "start_time": "2023-01-14T13:40:51.587Z"
   },
   {
    "duration": 16,
    "start_time": "2023-01-14T13:40:51.619Z"
   },
   {
    "duration": 11,
    "start_time": "2023-01-14T13:40:51.636Z"
   },
   {
    "duration": 19,
    "start_time": "2023-01-14T13:40:51.649Z"
   },
   {
    "duration": 11,
    "start_time": "2023-01-14T13:40:51.670Z"
   },
   {
    "duration": 43,
    "start_time": "2023-01-14T13:40:51.683Z"
   },
   {
    "duration": 17,
    "start_time": "2023-01-14T13:40:51.730Z"
   },
   {
    "duration": 13,
    "start_time": "2023-01-14T13:40:51.749Z"
   },
   {
    "duration": 13,
    "start_time": "2023-01-14T13:40:51.764Z"
   },
   {
    "duration": 8,
    "start_time": "2023-01-14T13:40:51.780Z"
   },
   {
    "duration": 24,
    "start_time": "2023-01-14T13:40:51.790Z"
   },
   {
    "duration": 24,
    "start_time": "2023-01-14T13:40:51.816Z"
   },
   {
    "duration": 18,
    "start_time": "2023-01-14T13:40:51.843Z"
   },
   {
    "duration": 31,
    "start_time": "2023-01-14T13:40:51.863Z"
   },
   {
    "duration": 40,
    "start_time": "2023-01-14T13:40:51.896Z"
   },
   {
    "duration": 19,
    "start_time": "2023-01-14T13:40:51.938Z"
   },
   {
    "duration": 19,
    "start_time": "2023-01-14T13:40:51.958Z"
   },
   {
    "duration": 21,
    "start_time": "2023-01-14T13:40:51.978Z"
   },
   {
    "duration": 11,
    "start_time": "2023-01-14T13:48:15.522Z"
   },
   {
    "duration": 6,
    "start_time": "2023-01-14T13:49:46.589Z"
   },
   {
    "duration": 434,
    "start_time": "2023-01-14T14:03:36.912Z"
   },
   {
    "duration": 114,
    "start_time": "2023-01-14T14:03:37.351Z"
   },
   {
    "duration": 19,
    "start_time": "2023-01-14T14:03:37.467Z"
   },
   {
    "duration": 41,
    "start_time": "2023-01-14T14:03:37.488Z"
   },
   {
    "duration": 17,
    "start_time": "2023-01-14T14:03:37.531Z"
   },
   {
    "duration": 23,
    "start_time": "2023-01-14T14:03:37.551Z"
   },
   {
    "duration": 12,
    "start_time": "2023-01-14T14:03:37.576Z"
   },
   {
    "duration": 18,
    "start_time": "2023-01-14T14:03:37.589Z"
   },
   {
    "duration": 11,
    "start_time": "2023-01-14T14:03:37.608Z"
   },
   {
    "duration": 9,
    "start_time": "2023-01-14T14:03:37.623Z"
   },
   {
    "duration": 21,
    "start_time": "2023-01-14T14:03:37.634Z"
   },
   {
    "duration": 10,
    "start_time": "2023-01-14T14:03:37.657Z"
   },
   {
    "duration": 43,
    "start_time": "2023-01-14T14:03:37.669Z"
   },
   {
    "duration": 3,
    "start_time": "2023-01-14T14:03:37.713Z"
   },
   {
    "duration": 8,
    "start_time": "2023-01-14T14:03:37.719Z"
   },
   {
    "duration": 8,
    "start_time": "2023-01-14T14:03:37.729Z"
   },
   {
    "duration": 10,
    "start_time": "2023-01-14T14:03:37.738Z"
   },
   {
    "duration": 11,
    "start_time": "2023-01-14T14:03:37.749Z"
   },
   {
    "duration": 14,
    "start_time": "2023-01-14T14:03:37.761Z"
   },
   {
    "duration": 6,
    "start_time": "2023-01-14T14:03:37.777Z"
   },
   {
    "duration": 21,
    "start_time": "2023-01-14T14:03:37.784Z"
   },
   {
    "duration": 38,
    "start_time": "2023-01-14T14:03:37.806Z"
   },
   {
    "duration": 9,
    "start_time": "2023-01-14T14:03:37.845Z"
   },
   {
    "duration": 7,
    "start_time": "2023-01-14T14:03:37.855Z"
   },
   {
    "duration": 6,
    "start_time": "2023-01-14T14:03:37.864Z"
   },
   {
    "duration": 12,
    "start_time": "2023-01-14T14:03:37.872Z"
   },
   {
    "duration": 4,
    "start_time": "2023-01-14T14:03:37.886Z"
   },
   {
    "duration": 433,
    "start_time": "2023-01-14T14:09:39.187Z"
   },
   {
    "duration": 91,
    "start_time": "2023-01-14T14:09:39.621Z"
   },
   {
    "duration": 21,
    "start_time": "2023-01-14T14:09:39.714Z"
   },
   {
    "duration": 41,
    "start_time": "2023-01-14T14:09:39.737Z"
   },
   {
    "duration": 13,
    "start_time": "2023-01-14T14:09:39.781Z"
   },
   {
    "duration": 15,
    "start_time": "2023-01-14T14:09:39.796Z"
   },
   {
    "duration": 9,
    "start_time": "2023-01-14T14:09:39.813Z"
   },
   {
    "duration": 31,
    "start_time": "2023-01-14T14:09:39.824Z"
   },
   {
    "duration": 14,
    "start_time": "2023-01-14T14:09:39.857Z"
   },
   {
    "duration": 11,
    "start_time": "2023-01-14T14:09:39.873Z"
   },
   {
    "duration": 37,
    "start_time": "2023-01-14T14:09:39.886Z"
   },
   {
    "duration": 10,
    "start_time": "2023-01-14T14:09:39.925Z"
   },
   {
    "duration": 29,
    "start_time": "2023-01-14T14:09:39.936Z"
   },
   {
    "duration": 9,
    "start_time": "2023-01-14T14:09:39.968Z"
   },
   {
    "duration": 26,
    "start_time": "2023-01-14T14:09:39.979Z"
   },
   {
    "duration": 11,
    "start_time": "2023-01-14T14:09:40.007Z"
   },
   {
    "duration": 26,
    "start_time": "2023-01-14T14:09:40.020Z"
   },
   {
    "duration": 13,
    "start_time": "2023-01-14T14:09:40.048Z"
   },
   {
    "duration": 14,
    "start_time": "2023-01-14T14:09:40.063Z"
   },
   {
    "duration": 18,
    "start_time": "2023-01-14T14:09:40.078Z"
   },
   {
    "duration": 7,
    "start_time": "2023-01-14T14:09:40.097Z"
   },
   {
    "duration": 25,
    "start_time": "2023-01-14T14:09:40.106Z"
   },
   {
    "duration": 15,
    "start_time": "2023-01-14T14:09:40.134Z"
   },
   {
    "duration": 7,
    "start_time": "2023-01-14T14:09:40.152Z"
   },
   {
    "duration": 14,
    "start_time": "2023-01-14T14:09:40.161Z"
   },
   {
    "duration": 34,
    "start_time": "2023-01-14T14:09:40.178Z"
   },
   {
    "duration": 14,
    "start_time": "2023-01-14T14:09:40.213Z"
   },
   {
    "duration": 6,
    "start_time": "2023-01-14T14:09:40.228Z"
   },
   {
    "duration": 9,
    "start_time": "2023-01-14T14:10:09.285Z"
   },
   {
    "duration": 7,
    "start_time": "2023-01-14T14:17:50.598Z"
   },
   {
    "duration": 8,
    "start_time": "2023-01-14T14:18:26.656Z"
   },
   {
    "duration": 11,
    "start_time": "2023-01-14T14:19:38.068Z"
   },
   {
    "duration": 6,
    "start_time": "2023-01-14T14:21:36.368Z"
   },
   {
    "duration": 7,
    "start_time": "2023-01-14T14:22:38.071Z"
   },
   {
    "duration": 5,
    "start_time": "2023-01-14T14:22:59.054Z"
   },
   {
    "duration": 458,
    "start_time": "2023-01-14T14:23:54.910Z"
   },
   {
    "duration": 100,
    "start_time": "2023-01-14T14:23:55.370Z"
   },
   {
    "duration": 33,
    "start_time": "2023-01-14T14:23:55.472Z"
   },
   {
    "duration": 44,
    "start_time": "2023-01-14T14:23:55.508Z"
   },
   {
    "duration": 12,
    "start_time": "2023-01-14T14:23:55.554Z"
   },
   {
    "duration": 37,
    "start_time": "2023-01-14T14:23:55.568Z"
   },
   {
    "duration": 30,
    "start_time": "2023-01-14T14:23:55.608Z"
   },
   {
    "duration": 51,
    "start_time": "2023-01-14T14:23:55.641Z"
   },
   {
    "duration": 40,
    "start_time": "2023-01-14T14:23:55.694Z"
   },
   {
    "duration": 39,
    "start_time": "2023-01-14T14:23:55.736Z"
   },
   {
    "duration": 30,
    "start_time": "2023-01-14T14:23:55.777Z"
   },
   {
    "duration": 29,
    "start_time": "2023-01-14T14:23:55.809Z"
   },
   {
    "duration": 27,
    "start_time": "2023-01-14T14:23:55.839Z"
   },
   {
    "duration": 21,
    "start_time": "2023-01-14T14:23:55.871Z"
   },
   {
    "duration": 54,
    "start_time": "2023-01-14T14:23:55.894Z"
   },
   {
    "duration": 27,
    "start_time": "2023-01-14T14:23:55.949Z"
   },
   {
    "duration": 32,
    "start_time": "2023-01-14T14:23:55.978Z"
   },
   {
    "duration": 58,
    "start_time": "2023-01-14T14:23:56.012Z"
   },
   {
    "duration": 45,
    "start_time": "2023-01-14T14:23:56.072Z"
   },
   {
    "duration": 56,
    "start_time": "2023-01-14T14:23:56.120Z"
   },
   {
    "duration": 25,
    "start_time": "2023-01-14T14:23:56.177Z"
   },
   {
    "duration": 51,
    "start_time": "2023-01-14T14:23:56.204Z"
   },
   {
    "duration": 29,
    "start_time": "2023-01-14T14:23:56.256Z"
   },
   {
    "duration": 34,
    "start_time": "2023-01-14T14:23:56.287Z"
   },
   {
    "duration": 35,
    "start_time": "2023-01-14T14:23:56.322Z"
   },
   {
    "duration": 25,
    "start_time": "2023-01-14T14:23:56.358Z"
   },
   {
    "duration": 44,
    "start_time": "2023-01-14T14:23:56.384Z"
   },
   {
    "duration": 22,
    "start_time": "2023-01-14T14:23:56.429Z"
   },
   {
    "duration": 30,
    "start_time": "2023-01-14T14:23:56.453Z"
   },
   {
    "duration": 23,
    "start_time": "2023-01-14T14:23:56.485Z"
   },
   {
    "duration": 83,
    "start_time": "2023-01-14T14:23:56.510Z"
   },
   {
    "duration": 0,
    "start_time": "2023-01-14T14:23:56.595Z"
   },
   {
    "duration": 9,
    "start_time": "2023-01-14T14:24:16.872Z"
   },
   {
    "duration": 454,
    "start_time": "2023-01-14T14:27:19.470Z"
   },
   {
    "duration": 101,
    "start_time": "2023-01-14T14:27:19.927Z"
   },
   {
    "duration": 20,
    "start_time": "2023-01-14T14:27:20.031Z"
   },
   {
    "duration": 43,
    "start_time": "2023-01-14T14:27:20.054Z"
   },
   {
    "duration": 10,
    "start_time": "2023-01-14T14:27:20.099Z"
   },
   {
    "duration": 8,
    "start_time": "2023-01-14T14:27:20.111Z"
   },
   {
    "duration": 10,
    "start_time": "2023-01-14T14:27:20.121Z"
   },
   {
    "duration": 32,
    "start_time": "2023-01-14T14:27:20.133Z"
   },
   {
    "duration": 39,
    "start_time": "2023-01-14T14:27:20.168Z"
   },
   {
    "duration": 22,
    "start_time": "2023-01-14T14:27:20.211Z"
   },
   {
    "duration": 18,
    "start_time": "2023-01-14T14:27:20.235Z"
   },
   {
    "duration": 13,
    "start_time": "2023-01-14T14:27:20.255Z"
   },
   {
    "duration": 47,
    "start_time": "2023-01-14T14:27:20.271Z"
   },
   {
    "duration": 4,
    "start_time": "2023-01-14T14:27:20.320Z"
   },
   {
    "duration": 11,
    "start_time": "2023-01-14T14:27:20.326Z"
   },
   {
    "duration": 8,
    "start_time": "2023-01-14T14:27:20.339Z"
   },
   {
    "duration": 6,
    "start_time": "2023-01-14T14:27:20.349Z"
   },
   {
    "duration": 10,
    "start_time": "2023-01-14T14:27:20.357Z"
   },
   {
    "duration": 45,
    "start_time": "2023-01-14T14:27:20.369Z"
   },
   {
    "duration": 17,
    "start_time": "2023-01-14T14:27:20.416Z"
   },
   {
    "duration": 12,
    "start_time": "2023-01-14T14:27:20.435Z"
   },
   {
    "duration": 22,
    "start_time": "2023-01-14T14:27:20.449Z"
   },
   {
    "duration": 31,
    "start_time": "2023-01-14T14:27:20.473Z"
   },
   {
    "duration": 18,
    "start_time": "2023-01-14T14:27:20.505Z"
   },
   {
    "duration": 27,
    "start_time": "2023-01-14T14:27:20.525Z"
   },
   {
    "duration": 18,
    "start_time": "2023-01-14T14:27:20.554Z"
   },
   {
    "duration": 19,
    "start_time": "2023-01-14T14:27:20.574Z"
   },
   {
    "duration": 5,
    "start_time": "2023-01-14T14:27:20.597Z"
   },
   {
    "duration": 22,
    "start_time": "2023-01-14T14:27:20.605Z"
   },
   {
    "duration": 14,
    "start_time": "2023-01-14T14:27:20.629Z"
   },
   {
    "duration": 72,
    "start_time": "2023-01-14T14:27:20.645Z"
   },
   {
    "duration": 0,
    "start_time": "2023-01-14T14:27:20.719Z"
   },
   {
    "duration": 417,
    "start_time": "2023-01-14T14:30:19.507Z"
   },
   {
    "duration": 99,
    "start_time": "2023-01-14T14:30:19.926Z"
   },
   {
    "duration": 16,
    "start_time": "2023-01-14T14:30:20.027Z"
   },
   {
    "duration": 49,
    "start_time": "2023-01-14T14:30:20.046Z"
   },
   {
    "duration": 11,
    "start_time": "2023-01-14T14:30:20.096Z"
   },
   {
    "duration": 22,
    "start_time": "2023-01-14T14:30:20.108Z"
   },
   {
    "duration": 30,
    "start_time": "2023-01-14T14:30:20.132Z"
   },
   {
    "duration": 38,
    "start_time": "2023-01-14T14:30:20.164Z"
   },
   {
    "duration": 13,
    "start_time": "2023-01-14T14:30:20.204Z"
   },
   {
    "duration": 10,
    "start_time": "2023-01-14T14:30:20.219Z"
   },
   {
    "duration": 19,
    "start_time": "2023-01-14T14:30:20.231Z"
   },
   {
    "duration": 9,
    "start_time": "2023-01-14T14:30:20.252Z"
   },
   {
    "duration": 57,
    "start_time": "2023-01-14T14:30:20.263Z"
   },
   {
    "duration": 3,
    "start_time": "2023-01-14T14:30:20.322Z"
   },
   {
    "duration": 9,
    "start_time": "2023-01-14T14:30:20.327Z"
   },
   {
    "duration": 9,
    "start_time": "2023-01-14T14:30:20.337Z"
   },
   {
    "duration": 7,
    "start_time": "2023-01-14T14:30:20.348Z"
   },
   {
    "duration": 13,
    "start_time": "2023-01-14T14:30:20.357Z"
   },
   {
    "duration": 17,
    "start_time": "2023-01-14T14:30:20.371Z"
   },
   {
    "duration": 7,
    "start_time": "2023-01-14T14:30:20.405Z"
   },
   {
    "duration": 10,
    "start_time": "2023-01-14T14:30:20.414Z"
   },
   {
    "duration": 17,
    "start_time": "2023-01-14T14:30:20.426Z"
   },
   {
    "duration": 15,
    "start_time": "2023-01-14T14:30:20.445Z"
   },
   {
    "duration": 6,
    "start_time": "2023-01-14T14:30:20.462Z"
   },
   {
    "duration": 36,
    "start_time": "2023-01-14T14:30:20.470Z"
   },
   {
    "duration": 15,
    "start_time": "2023-01-14T14:30:20.508Z"
   },
   {
    "duration": 16,
    "start_time": "2023-01-14T14:30:20.525Z"
   },
   {
    "duration": 6,
    "start_time": "2023-01-14T14:30:20.546Z"
   },
   {
    "duration": 12,
    "start_time": "2023-01-14T14:30:20.554Z"
   },
   {
    "duration": 39,
    "start_time": "2023-01-14T14:30:20.568Z"
   },
   {
    "duration": 10,
    "start_time": "2023-01-14T14:30:20.609Z"
   },
   {
    "duration": 35,
    "start_time": "2023-01-14T14:30:20.622Z"
   },
   {
    "duration": 414,
    "start_time": "2023-01-14T14:31:00.852Z"
   },
   {
    "duration": 118,
    "start_time": "2023-01-14T14:31:01.268Z"
   },
   {
    "duration": 21,
    "start_time": "2023-01-14T14:31:01.389Z"
   },
   {
    "duration": 125,
    "start_time": "2023-01-14T14:31:01.413Z"
   },
   {
    "duration": 15,
    "start_time": "2023-01-14T14:31:01.541Z"
   },
   {
    "duration": 50,
    "start_time": "2023-01-14T14:31:01.559Z"
   },
   {
    "duration": 43,
    "start_time": "2023-01-14T14:31:01.612Z"
   },
   {
    "duration": 34,
    "start_time": "2023-01-14T14:31:01.658Z"
   },
   {
    "duration": 14,
    "start_time": "2023-01-14T14:31:01.695Z"
   },
   {
    "duration": 18,
    "start_time": "2023-01-14T14:31:01.713Z"
   },
   {
    "duration": 29,
    "start_time": "2023-01-14T14:31:01.733Z"
   },
   {
    "duration": 16,
    "start_time": "2023-01-14T14:31:01.764Z"
   },
   {
    "duration": 36,
    "start_time": "2023-01-14T14:31:01.783Z"
   },
   {
    "duration": 5,
    "start_time": "2023-01-14T14:31:01.822Z"
   },
   {
    "duration": 10,
    "start_time": "2023-01-14T14:31:01.828Z"
   },
   {
    "duration": 9,
    "start_time": "2023-01-14T14:31:01.840Z"
   },
   {
    "duration": 17,
    "start_time": "2023-01-14T14:31:01.851Z"
   },
   {
    "duration": 14,
    "start_time": "2023-01-14T14:31:01.872Z"
   },
   {
    "duration": 33,
    "start_time": "2023-01-14T14:31:01.888Z"
   },
   {
    "duration": 14,
    "start_time": "2023-01-14T14:31:01.924Z"
   },
   {
    "duration": 13,
    "start_time": "2023-01-14T14:31:01.940Z"
   },
   {
    "duration": 19,
    "start_time": "2023-01-14T14:31:01.955Z"
   },
   {
    "duration": 33,
    "start_time": "2023-01-14T14:31:01.976Z"
   },
   {
    "duration": 6,
    "start_time": "2023-01-14T14:31:02.011Z"
   },
   {
    "duration": 34,
    "start_time": "2023-01-14T14:31:02.019Z"
   },
   {
    "duration": 15,
    "start_time": "2023-01-14T14:31:02.056Z"
   },
   {
    "duration": 18,
    "start_time": "2023-01-14T14:31:02.073Z"
   },
   {
    "duration": 7,
    "start_time": "2023-01-14T14:31:02.104Z"
   },
   {
    "duration": 26,
    "start_time": "2023-01-14T14:31:02.113Z"
   },
   {
    "duration": 19,
    "start_time": "2023-01-14T14:31:02.141Z"
   },
   {
    "duration": 28,
    "start_time": "2023-01-14T14:31:02.162Z"
   },
   {
    "duration": 23,
    "start_time": "2023-01-14T14:31:02.191Z"
   },
   {
    "duration": 28,
    "start_time": "2023-01-14T14:31:02.216Z"
   },
   {
    "duration": 525,
    "start_time": "2023-01-14T14:31:44.667Z"
   },
   {
    "duration": 142,
    "start_time": "2023-01-14T14:31:45.195Z"
   },
   {
    "duration": 68,
    "start_time": "2023-01-14T14:31:45.339Z"
   },
   {
    "duration": 43,
    "start_time": "2023-01-14T14:31:45.411Z"
   },
   {
    "duration": 14,
    "start_time": "2023-01-14T14:31:45.456Z"
   },
   {
    "duration": 32,
    "start_time": "2023-01-14T14:31:45.473Z"
   },
   {
    "duration": 9,
    "start_time": "2023-01-14T14:31:45.508Z"
   },
   {
    "duration": 32,
    "start_time": "2023-01-14T14:31:45.520Z"
   },
   {
    "duration": 63,
    "start_time": "2023-01-14T14:31:45.554Z"
   },
   {
    "duration": 11,
    "start_time": "2023-01-14T14:31:45.620Z"
   },
   {
    "duration": 21,
    "start_time": "2023-01-14T14:31:45.634Z"
   },
   {
    "duration": 14,
    "start_time": "2023-01-14T14:31:45.657Z"
   },
   {
    "duration": 48,
    "start_time": "2023-01-14T14:31:45.673Z"
   },
   {
    "duration": 5,
    "start_time": "2023-01-14T14:31:45.723Z"
   },
   {
    "duration": 11,
    "start_time": "2023-01-14T14:31:45.730Z"
   },
   {
    "duration": 7,
    "start_time": "2023-01-14T14:31:45.743Z"
   },
   {
    "duration": 6,
    "start_time": "2023-01-14T14:31:45.752Z"
   },
   {
    "duration": 11,
    "start_time": "2023-01-14T14:31:45.761Z"
   },
   {
    "duration": 35,
    "start_time": "2023-01-14T14:31:45.774Z"
   },
   {
    "duration": 9,
    "start_time": "2023-01-14T14:31:45.811Z"
   },
   {
    "duration": 19,
    "start_time": "2023-01-14T14:31:45.822Z"
   },
   {
    "duration": 74,
    "start_time": "2023-01-14T14:31:45.844Z"
   },
   {
    "duration": 18,
    "start_time": "2023-01-14T14:31:45.920Z"
   },
   {
    "duration": 8,
    "start_time": "2023-01-14T14:31:45.940Z"
   },
   {
    "duration": 10,
    "start_time": "2023-01-14T14:31:45.951Z"
   },
   {
    "duration": 49,
    "start_time": "2023-01-14T14:31:45.963Z"
   },
   {
    "duration": 20,
    "start_time": "2023-01-14T14:31:46.015Z"
   },
   {
    "duration": 7,
    "start_time": "2023-01-14T14:31:46.041Z"
   },
   {
    "duration": 19,
    "start_time": "2023-01-14T14:31:46.050Z"
   },
   {
    "duration": 9,
    "start_time": "2023-01-14T14:31:46.105Z"
   },
   {
    "duration": 29,
    "start_time": "2023-01-14T14:31:46.116Z"
   },
   {
    "duration": 10,
    "start_time": "2023-01-14T14:31:46.147Z"
   },
   {
    "duration": 34,
    "start_time": "2023-01-14T14:31:46.160Z"
   },
   {
    "duration": 37,
    "start_time": "2023-01-14T14:31:46.197Z"
   },
   {
    "duration": 485,
    "start_time": "2023-01-14T14:32:25.216Z"
   },
   {
    "duration": 96,
    "start_time": "2023-01-14T14:32:25.706Z"
   },
   {
    "duration": 24,
    "start_time": "2023-01-14T14:32:25.804Z"
   },
   {
    "duration": 52,
    "start_time": "2023-01-14T14:32:25.831Z"
   },
   {
    "duration": 16,
    "start_time": "2023-01-14T14:32:25.886Z"
   },
   {
    "duration": 17,
    "start_time": "2023-01-14T14:32:25.905Z"
   },
   {
    "duration": 9,
    "start_time": "2023-01-14T14:32:25.924Z"
   },
   {
    "duration": 32,
    "start_time": "2023-01-14T14:32:25.936Z"
   },
   {
    "duration": 18,
    "start_time": "2023-01-14T14:32:25.971Z"
   },
   {
    "duration": 26,
    "start_time": "2023-01-14T14:32:25.992Z"
   },
   {
    "duration": 32,
    "start_time": "2023-01-14T14:32:26.020Z"
   },
   {
    "duration": 14,
    "start_time": "2023-01-14T14:32:26.055Z"
   },
   {
    "duration": 50,
    "start_time": "2023-01-14T14:32:26.072Z"
   },
   {
    "duration": 4,
    "start_time": "2023-01-14T14:32:26.124Z"
   },
   {
    "duration": 34,
    "start_time": "2023-01-14T14:32:26.131Z"
   },
   {
    "duration": 15,
    "start_time": "2023-01-14T14:32:26.167Z"
   },
   {
    "duration": 12,
    "start_time": "2023-01-14T14:32:26.184Z"
   },
   {
    "duration": 11,
    "start_time": "2023-01-14T14:32:26.198Z"
   },
   {
    "duration": 17,
    "start_time": "2023-01-14T14:32:26.211Z"
   },
   {
    "duration": 12,
    "start_time": "2023-01-14T14:32:26.231Z"
   },
   {
    "duration": 6,
    "start_time": "2023-01-14T14:32:26.246Z"
   },
   {
    "duration": 22,
    "start_time": "2023-01-14T14:32:26.254Z"
   },
   {
    "duration": 34,
    "start_time": "2023-01-14T14:32:26.278Z"
   },
   {
    "duration": 7,
    "start_time": "2023-01-14T14:32:26.314Z"
   },
   {
    "duration": 11,
    "start_time": "2023-01-14T14:32:26.322Z"
   },
   {
    "duration": 20,
    "start_time": "2023-01-14T14:32:26.335Z"
   },
   {
    "duration": 49,
    "start_time": "2023-01-14T14:32:26.358Z"
   },
   {
    "duration": 6,
    "start_time": "2023-01-14T14:32:26.411Z"
   },
   {
    "duration": 19,
    "start_time": "2023-01-14T14:32:26.419Z"
   },
   {
    "duration": 6,
    "start_time": "2023-01-14T14:32:26.441Z"
   },
   {
    "duration": 13,
    "start_time": "2023-01-14T14:32:26.450Z"
   },
   {
    "duration": 8,
    "start_time": "2023-01-14T14:32:26.465Z"
   },
   {
    "duration": 37,
    "start_time": "2023-01-14T14:32:26.475Z"
   },
   {
    "duration": 37,
    "start_time": "2023-01-14T14:32:26.514Z"
   },
   {
    "duration": 4,
    "start_time": "2023-01-14T14:59:31.397Z"
   },
   {
    "duration": 50,
    "start_time": "2023-01-14T20:16:38.339Z"
   },
   {
    "duration": 403,
    "start_time": "2023-01-14T20:16:45.079Z"
   },
   {
    "duration": 590,
    "start_time": "2023-01-14T20:16:45.483Z"
   },
   {
    "duration": 23,
    "start_time": "2023-01-14T20:16:46.075Z"
   },
   {
    "duration": 182,
    "start_time": "2023-01-14T20:16:46.100Z"
   },
   {
    "duration": 16,
    "start_time": "2023-01-14T20:16:46.285Z"
   },
   {
    "duration": 55,
    "start_time": "2023-01-14T20:16:46.303Z"
   },
   {
    "duration": 26,
    "start_time": "2023-01-14T20:16:46.361Z"
   },
   {
    "duration": 41,
    "start_time": "2023-01-14T20:16:46.390Z"
   },
   {
    "duration": 25,
    "start_time": "2023-01-14T20:16:46.433Z"
   },
   {
    "duration": 21,
    "start_time": "2023-01-14T20:16:46.461Z"
   },
   {
    "duration": 37,
    "start_time": "2023-01-14T20:16:46.484Z"
   },
   {
    "duration": 15,
    "start_time": "2023-01-14T20:16:46.523Z"
   },
   {
    "duration": 48,
    "start_time": "2023-01-14T20:16:46.540Z"
   },
   {
    "duration": 14,
    "start_time": "2023-01-14T20:16:46.593Z"
   },
   {
    "duration": 47,
    "start_time": "2023-01-14T20:16:46.610Z"
   },
   {
    "duration": 10,
    "start_time": "2023-01-14T20:16:46.659Z"
   },
   {
    "duration": 8,
    "start_time": "2023-01-14T20:16:46.672Z"
   },
   {
    "duration": 11,
    "start_time": "2023-01-14T20:16:46.682Z"
   },
   {
    "duration": 17,
    "start_time": "2023-01-14T20:16:46.695Z"
   },
   {
    "duration": 6,
    "start_time": "2023-01-14T20:16:46.714Z"
   },
   {
    "duration": 6,
    "start_time": "2023-01-14T20:16:46.737Z"
   },
   {
    "duration": 19,
    "start_time": "2023-01-14T20:16:46.745Z"
   },
   {
    "duration": 14,
    "start_time": "2023-01-14T20:16:46.766Z"
   },
   {
    "duration": 15,
    "start_time": "2023-01-14T20:16:46.783Z"
   },
   {
    "duration": 10,
    "start_time": "2023-01-14T20:16:46.801Z"
   },
   {
    "duration": 14,
    "start_time": "2023-01-14T20:16:46.838Z"
   },
   {
    "duration": 20,
    "start_time": "2023-01-14T20:16:46.854Z"
   },
   {
    "duration": 7,
    "start_time": "2023-01-14T20:16:46.876Z"
   },
   {
    "duration": 19,
    "start_time": "2023-01-14T20:16:46.886Z"
   },
   {
    "duration": 6,
    "start_time": "2023-01-14T20:16:46.937Z"
   },
   {
    "duration": 15,
    "start_time": "2023-01-14T20:16:46.945Z"
   },
   {
    "duration": 5,
    "start_time": "2023-01-14T20:16:46.962Z"
   },
   {
    "duration": 20,
    "start_time": "2023-01-14T20:16:46.969Z"
   },
   {
    "duration": 45,
    "start_time": "2023-01-14T20:16:46.992Z"
   },
   {
    "duration": 6,
    "start_time": "2023-01-14T20:16:47.039Z"
   },
   {
    "duration": 75,
    "start_time": "2023-01-14T20:16:47.046Z"
   },
   {
    "duration": 28,
    "start_time": "2023-01-14T20:22:42.481Z"
   },
   {
    "duration": 84,
    "start_time": "2023-01-14T20:24:05.587Z"
   },
   {
    "duration": 64,
    "start_time": "2023-01-14T20:24:10.973Z"
   },
   {
    "duration": 29,
    "start_time": "2023-01-14T20:24:38.423Z"
   },
   {
    "duration": 29,
    "start_time": "2023-01-14T20:30:30.522Z"
   },
   {
    "duration": 18,
    "start_time": "2023-01-14T20:39:45.080Z"
   },
   {
    "duration": 409,
    "start_time": "2023-01-14T20:42:33.748Z"
   },
   {
    "duration": 137,
    "start_time": "2023-01-14T20:42:34.160Z"
   },
   {
    "duration": 24,
    "start_time": "2023-01-14T20:42:34.299Z"
   },
   {
    "duration": 52,
    "start_time": "2023-01-14T20:42:34.326Z"
   },
   {
    "duration": 11,
    "start_time": "2023-01-14T20:42:34.383Z"
   },
   {
    "duration": 13,
    "start_time": "2023-01-14T20:42:34.396Z"
   },
   {
    "duration": 10,
    "start_time": "2023-01-14T20:42:34.411Z"
   },
   {
    "duration": 23,
    "start_time": "2023-01-14T20:42:34.422Z"
   },
   {
    "duration": 13,
    "start_time": "2023-01-14T20:42:34.447Z"
   },
   {
    "duration": 11,
    "start_time": "2023-01-14T20:42:34.461Z"
   },
   {
    "duration": 19,
    "start_time": "2023-01-14T20:42:34.474Z"
   },
   {
    "duration": 46,
    "start_time": "2023-01-14T20:42:34.495Z"
   },
   {
    "duration": 35,
    "start_time": "2023-01-14T20:42:34.544Z"
   },
   {
    "duration": 3,
    "start_time": "2023-01-14T20:42:34.584Z"
   },
   {
    "duration": 13,
    "start_time": "2023-01-14T20:42:34.590Z"
   },
   {
    "duration": 34,
    "start_time": "2023-01-14T20:42:34.605Z"
   },
   {
    "duration": 7,
    "start_time": "2023-01-14T20:42:34.641Z"
   },
   {
    "duration": 16,
    "start_time": "2023-01-14T20:42:34.650Z"
   },
   {
    "duration": 20,
    "start_time": "2023-01-14T20:42:34.668Z"
   },
   {
    "duration": 9,
    "start_time": "2023-01-14T20:42:34.691Z"
   },
   {
    "duration": 37,
    "start_time": "2023-01-14T20:42:34.702Z"
   },
   {
    "duration": 18,
    "start_time": "2023-01-14T20:42:34.742Z"
   },
   {
    "duration": 16,
    "start_time": "2023-01-14T20:42:34.762Z"
   },
   {
    "duration": 7,
    "start_time": "2023-01-14T20:42:34.780Z"
   },
   {
    "duration": 8,
    "start_time": "2023-01-14T20:42:34.789Z"
   },
   {
    "duration": 49,
    "start_time": "2023-01-14T20:42:34.798Z"
   },
   {
    "duration": 12,
    "start_time": "2023-01-14T20:42:34.849Z"
   },
   {
    "duration": 6,
    "start_time": "2023-01-14T20:42:34.863Z"
   },
   {
    "duration": 17,
    "start_time": "2023-01-14T20:42:34.871Z"
   },
   {
    "duration": 7,
    "start_time": "2023-01-14T20:42:34.890Z"
   },
   {
    "duration": 48,
    "start_time": "2023-01-14T20:42:34.899Z"
   },
   {
    "duration": 7,
    "start_time": "2023-01-14T20:42:34.949Z"
   },
   {
    "duration": 15,
    "start_time": "2023-01-14T20:42:34.958Z"
   },
   {
    "duration": 34,
    "start_time": "2023-01-14T20:42:34.975Z"
   },
   {
    "duration": 7,
    "start_time": "2023-01-14T20:42:35.042Z"
   },
   {
    "duration": 27,
    "start_time": "2023-01-14T20:42:35.051Z"
   },
   {
    "duration": 140,
    "start_time": "2023-01-14T20:42:35.080Z"
   },
   {
    "duration": 15,
    "start_time": "2023-01-14T20:43:22.020Z"
   },
   {
    "duration": 5,
    "start_time": "2023-01-14T20:46:23.917Z"
   },
   {
    "duration": 16,
    "start_time": "2023-01-14T20:58:01.023Z"
   },
   {
    "duration": 401,
    "start_time": "2023-01-14T21:09:09.646Z"
   },
   {
    "duration": 101,
    "start_time": "2023-01-14T21:09:10.050Z"
   },
   {
    "duration": 16,
    "start_time": "2023-01-14T21:09:10.153Z"
   },
   {
    "duration": 40,
    "start_time": "2023-01-14T21:09:10.171Z"
   },
   {
    "duration": 11,
    "start_time": "2023-01-14T21:09:10.213Z"
   },
   {
    "duration": 13,
    "start_time": "2023-01-14T21:09:10.227Z"
   },
   {
    "duration": 10,
    "start_time": "2023-01-14T21:09:10.243Z"
   },
   {
    "duration": 40,
    "start_time": "2023-01-14T21:09:10.255Z"
   },
   {
    "duration": 17,
    "start_time": "2023-01-14T21:09:10.297Z"
   },
   {
    "duration": 21,
    "start_time": "2023-01-14T21:09:10.316Z"
   },
   {
    "duration": 22,
    "start_time": "2023-01-14T21:09:10.339Z"
   },
   {
    "duration": 12,
    "start_time": "2023-01-14T21:09:10.363Z"
   },
   {
    "duration": 30,
    "start_time": "2023-01-14T21:09:10.377Z"
   },
   {
    "duration": 29,
    "start_time": "2023-01-14T21:09:10.409Z"
   },
   {
    "duration": 16,
    "start_time": "2023-01-14T21:09:10.441Z"
   },
   {
    "duration": 8,
    "start_time": "2023-01-14T21:09:10.459Z"
   },
   {
    "duration": 8,
    "start_time": "2023-01-14T21:09:10.469Z"
   },
   {
    "duration": 8,
    "start_time": "2023-01-14T21:09:10.479Z"
   },
   {
    "duration": 18,
    "start_time": "2023-01-14T21:09:10.489Z"
   },
   {
    "duration": 6,
    "start_time": "2023-01-14T21:09:10.509Z"
   },
   {
    "duration": 27,
    "start_time": "2023-01-14T21:09:10.516Z"
   },
   {
    "duration": 25,
    "start_time": "2023-01-14T21:09:10.545Z"
   },
   {
    "duration": 13,
    "start_time": "2023-01-14T21:09:10.572Z"
   },
   {
    "duration": 13,
    "start_time": "2023-01-14T21:09:10.586Z"
   },
   {
    "duration": 38,
    "start_time": "2023-01-14T21:09:10.601Z"
   },
   {
    "duration": 12,
    "start_time": "2023-01-14T21:09:10.641Z"
   },
   {
    "duration": 16,
    "start_time": "2023-01-14T21:09:10.655Z"
   },
   {
    "duration": 6,
    "start_time": "2023-01-14T21:09:10.675Z"
   },
   {
    "duration": 13,
    "start_time": "2023-01-14T21:09:10.684Z"
   },
   {
    "duration": 44,
    "start_time": "2023-01-14T21:09:10.699Z"
   },
   {
    "duration": 17,
    "start_time": "2023-01-14T21:09:10.745Z"
   },
   {
    "duration": 7,
    "start_time": "2023-01-14T21:09:10.764Z"
   },
   {
    "duration": 20,
    "start_time": "2023-01-14T21:09:10.773Z"
   },
   {
    "duration": 48,
    "start_time": "2023-01-14T21:09:10.795Z"
   },
   {
    "duration": 8,
    "start_time": "2023-01-14T21:09:10.846Z"
   },
   {
    "duration": 29,
    "start_time": "2023-01-14T21:09:10.856Z"
   },
   {
    "duration": 5,
    "start_time": "2023-01-14T21:09:10.888Z"
   },
   {
    "duration": 4272,
    "start_time": "2023-01-14T21:09:10.895Z"
   },
   {
    "duration": 418,
    "start_time": "2023-01-14T21:09:35.605Z"
   },
   {
    "duration": 507,
    "start_time": "2023-01-14T21:10:01.961Z"
   },
   {
    "duration": 44,
    "start_time": "2023-01-14T21:12:02.222Z"
   },
   {
    "duration": 22,
    "start_time": "2023-01-14T21:12:13.170Z"
   },
   {
    "duration": 411,
    "start_time": "2023-01-14T21:13:31.855Z"
   },
   {
    "duration": 99,
    "start_time": "2023-01-14T21:13:32.269Z"
   },
   {
    "duration": 15,
    "start_time": "2023-01-14T21:13:32.370Z"
   },
   {
    "duration": 42,
    "start_time": "2023-01-14T21:13:32.388Z"
   },
   {
    "duration": 13,
    "start_time": "2023-01-14T21:13:32.432Z"
   },
   {
    "duration": 8,
    "start_time": "2023-01-14T21:13:32.447Z"
   },
   {
    "duration": 9,
    "start_time": "2023-01-14T21:13:32.456Z"
   },
   {
    "duration": 18,
    "start_time": "2023-01-14T21:13:32.466Z"
   },
   {
    "duration": 12,
    "start_time": "2023-01-14T21:13:32.486Z"
   },
   {
    "duration": 38,
    "start_time": "2023-01-14T21:13:32.502Z"
   },
   {
    "duration": 26,
    "start_time": "2023-01-14T21:13:32.542Z"
   },
   {
    "duration": 10,
    "start_time": "2023-01-14T21:13:32.570Z"
   },
   {
    "duration": 25,
    "start_time": "2023-01-14T21:13:32.583Z"
   },
   {
    "duration": 4,
    "start_time": "2023-01-14T21:13:32.610Z"
   },
   {
    "duration": 6,
    "start_time": "2023-01-14T21:13:32.637Z"
   },
   {
    "duration": 14,
    "start_time": "2023-01-14T21:13:32.646Z"
   },
   {
    "duration": 6,
    "start_time": "2023-01-14T21:13:32.662Z"
   },
   {
    "duration": 10,
    "start_time": "2023-01-14T21:13:32.670Z"
   },
   {
    "duration": 14,
    "start_time": "2023-01-14T21:13:32.681Z"
   },
   {
    "duration": 12,
    "start_time": "2023-01-14T21:13:32.697Z"
   },
   {
    "duration": 9,
    "start_time": "2023-01-14T21:13:32.711Z"
   },
   {
    "duration": 37,
    "start_time": "2023-01-14T21:13:32.721Z"
   },
   {
    "duration": 16,
    "start_time": "2023-01-14T21:13:32.760Z"
   },
   {
    "duration": 7,
    "start_time": "2023-01-14T21:13:32.777Z"
   },
   {
    "duration": 14,
    "start_time": "2023-01-14T21:13:32.785Z"
   },
   {
    "duration": 46,
    "start_time": "2023-01-14T21:13:32.802Z"
   },
   {
    "duration": 17,
    "start_time": "2023-01-14T21:13:32.851Z"
   },
   {
    "duration": 7,
    "start_time": "2023-01-14T21:13:32.873Z"
   },
   {
    "duration": 13,
    "start_time": "2023-01-14T21:13:32.883Z"
   },
   {
    "duration": 10,
    "start_time": "2023-01-14T21:13:32.898Z"
   },
   {
    "duration": 18,
    "start_time": "2023-01-14T21:13:32.937Z"
   },
   {
    "duration": 6,
    "start_time": "2023-01-14T21:13:32.957Z"
   },
   {
    "duration": 22,
    "start_time": "2023-01-14T21:13:32.965Z"
   },
   {
    "duration": 22,
    "start_time": "2023-01-14T21:13:32.989Z"
   },
   {
    "duration": 6,
    "start_time": "2023-01-14T21:13:33.037Z"
   },
   {
    "duration": 18,
    "start_time": "2023-01-14T21:13:33.045Z"
   },
   {
    "duration": 6,
    "start_time": "2023-01-14T21:13:33.065Z"
   },
   {
    "duration": 4064,
    "start_time": "2023-01-14T21:13:33.073Z"
   },
   {
    "duration": 16,
    "start_time": "2023-01-14T21:13:37.139Z"
   },
   {
    "duration": 87,
    "start_time": "2023-01-14T21:14:51.100Z"
   },
   {
    "duration": 5,
    "start_time": "2023-01-14T21:14:58.363Z"
   },
   {
    "duration": 5,
    "start_time": "2023-01-14T21:15:04.924Z"
   },
   {
    "duration": 15,
    "start_time": "2023-01-14T21:15:45.426Z"
   },
   {
    "duration": 4,
    "start_time": "2023-01-14T21:16:41.318Z"
   },
   {
    "duration": 18,
    "start_time": "2023-01-14T21:16:44.213Z"
   },
   {
    "duration": 390,
    "start_time": "2023-01-14T21:17:19.178Z"
   },
   {
    "duration": 100,
    "start_time": "2023-01-14T21:17:19.570Z"
   },
   {
    "duration": 16,
    "start_time": "2023-01-14T21:17:19.672Z"
   },
   {
    "duration": 46,
    "start_time": "2023-01-14T21:17:19.690Z"
   },
   {
    "duration": 12,
    "start_time": "2023-01-14T21:17:19.738Z"
   },
   {
    "duration": 11,
    "start_time": "2023-01-14T21:17:19.752Z"
   },
   {
    "duration": 9,
    "start_time": "2023-01-14T21:17:19.764Z"
   },
   {
    "duration": 28,
    "start_time": "2023-01-14T21:17:19.775Z"
   },
   {
    "duration": 37,
    "start_time": "2023-01-14T21:17:19.805Z"
   },
   {
    "duration": 12,
    "start_time": "2023-01-14T21:17:19.847Z"
   },
   {
    "duration": 32,
    "start_time": "2023-01-14T21:17:19.861Z"
   },
   {
    "duration": 13,
    "start_time": "2023-01-14T21:17:19.895Z"
   },
   {
    "duration": 50,
    "start_time": "2023-01-14T21:17:19.910Z"
   },
   {
    "duration": 4,
    "start_time": "2023-01-14T21:17:19.963Z"
   },
   {
    "duration": 13,
    "start_time": "2023-01-14T21:17:19.969Z"
   },
   {
    "duration": 14,
    "start_time": "2023-01-14T21:17:19.984Z"
   },
   {
    "duration": 11,
    "start_time": "2023-01-14T21:17:20.000Z"
   },
   {
    "duration": 24,
    "start_time": "2023-01-14T21:17:20.013Z"
   },
   {
    "duration": 16,
    "start_time": "2023-01-14T21:17:20.039Z"
   },
   {
    "duration": 12,
    "start_time": "2023-01-14T21:17:20.057Z"
   },
   {
    "duration": 14,
    "start_time": "2023-01-14T21:17:20.071Z"
   },
   {
    "duration": 26,
    "start_time": "2023-01-14T21:17:20.087Z"
   },
   {
    "duration": 33,
    "start_time": "2023-01-14T21:17:20.115Z"
   },
   {
    "duration": 7,
    "start_time": "2023-01-14T21:17:20.151Z"
   },
   {
    "duration": 9,
    "start_time": "2023-01-14T21:17:20.160Z"
   },
   {
    "duration": 21,
    "start_time": "2023-01-14T21:17:20.171Z"
   },
   {
    "duration": 55,
    "start_time": "2023-01-14T21:17:20.194Z"
   },
   {
    "duration": 6,
    "start_time": "2023-01-14T21:17:20.254Z"
   },
   {
    "duration": 16,
    "start_time": "2023-01-14T21:17:20.262Z"
   },
   {
    "duration": 7,
    "start_time": "2023-01-14T21:17:20.280Z"
   },
   {
    "duration": 13,
    "start_time": "2023-01-14T21:17:20.289Z"
   },
   {
    "duration": 8,
    "start_time": "2023-01-14T21:17:20.303Z"
   },
   {
    "duration": 35,
    "start_time": "2023-01-14T21:17:20.313Z"
   },
   {
    "duration": 27,
    "start_time": "2023-01-14T21:17:20.349Z"
   },
   {
    "duration": 10,
    "start_time": "2023-01-14T21:17:20.378Z"
   },
   {
    "duration": 49,
    "start_time": "2023-01-14T21:17:20.390Z"
   },
   {
    "duration": 10,
    "start_time": "2023-01-14T21:17:20.441Z"
   },
   {
    "duration": 4165,
    "start_time": "2023-01-14T21:17:20.453Z"
   },
   {
    "duration": 4,
    "start_time": "2023-01-14T21:17:24.620Z"
   },
   {
    "duration": 30,
    "start_time": "2023-01-14T21:17:24.626Z"
   },
   {
    "duration": 438,
    "start_time": "2023-01-14T21:19:13.101Z"
   },
   {
    "duration": 144,
    "start_time": "2023-01-14T21:19:13.542Z"
   },
   {
    "duration": 20,
    "start_time": "2023-01-14T21:19:13.689Z"
   },
   {
    "duration": 41,
    "start_time": "2023-01-14T21:19:13.711Z"
   },
   {
    "duration": 15,
    "start_time": "2023-01-14T21:19:13.755Z"
   },
   {
    "duration": 12,
    "start_time": "2023-01-14T21:19:13.773Z"
   },
   {
    "duration": 12,
    "start_time": "2023-01-14T21:19:13.787Z"
   },
   {
    "duration": 18,
    "start_time": "2023-01-14T21:19:13.802Z"
   },
   {
    "duration": 20,
    "start_time": "2023-01-14T21:19:13.839Z"
   },
   {
    "duration": 15,
    "start_time": "2023-01-14T21:19:13.862Z"
   },
   {
    "duration": 44,
    "start_time": "2023-01-14T21:19:13.879Z"
   },
   {
    "duration": 15,
    "start_time": "2023-01-14T21:19:13.925Z"
   },
   {
    "duration": 26,
    "start_time": "2023-01-14T21:19:13.942Z"
   },
   {
    "duration": 5,
    "start_time": "2023-01-14T21:19:13.973Z"
   },
   {
    "duration": 15,
    "start_time": "2023-01-14T21:19:13.980Z"
   },
   {
    "duration": 10,
    "start_time": "2023-01-14T21:19:13.997Z"
   },
   {
    "duration": 30,
    "start_time": "2023-01-14T21:19:14.009Z"
   },
   {
    "duration": 7,
    "start_time": "2023-01-14T21:19:14.041Z"
   },
   {
    "duration": 17,
    "start_time": "2023-01-14T21:19:14.050Z"
   },
   {
    "duration": 15,
    "start_time": "2023-01-14T21:19:14.070Z"
   },
   {
    "duration": 8,
    "start_time": "2023-01-14T21:19:14.087Z"
   },
   {
    "duration": 52,
    "start_time": "2023-01-14T21:19:14.097Z"
   },
   {
    "duration": 13,
    "start_time": "2023-01-14T21:19:14.151Z"
   },
   {
    "duration": 23,
    "start_time": "2023-01-14T21:19:14.166Z"
   },
   {
    "duration": 11,
    "start_time": "2023-01-14T21:19:14.191Z"
   },
   {
    "duration": 22,
    "start_time": "2023-01-14T21:19:14.205Z"
   },
   {
    "duration": 21,
    "start_time": "2023-01-14T21:19:14.242Z"
   },
   {
    "duration": 7,
    "start_time": "2023-01-14T21:19:14.265Z"
   },
   {
    "duration": 18,
    "start_time": "2023-01-14T21:19:14.274Z"
   },
   {
    "duration": 9,
    "start_time": "2023-01-14T21:19:14.294Z"
   },
   {
    "duration": 40,
    "start_time": "2023-01-14T21:19:14.305Z"
   },
   {
    "duration": 7,
    "start_time": "2023-01-14T21:19:14.348Z"
   },
   {
    "duration": 25,
    "start_time": "2023-01-14T21:19:14.357Z"
   },
   {
    "duration": 25,
    "start_time": "2023-01-14T21:19:14.384Z"
   },
   {
    "duration": 29,
    "start_time": "2023-01-14T21:19:14.411Z"
   },
   {
    "duration": 25,
    "start_time": "2023-01-14T21:19:14.443Z"
   },
   {
    "duration": 4,
    "start_time": "2023-01-14T21:19:14.470Z"
   },
   {
    "duration": 2565,
    "start_time": "2023-01-14T21:19:14.477Z"
   },
   {
    "duration": 15,
    "start_time": "2023-01-14T21:19:17.044Z"
   },
   {
    "duration": 451,
    "start_time": "2023-01-14T21:19:56.770Z"
   },
   {
    "duration": 102,
    "start_time": "2023-01-14T21:19:57.224Z"
   },
   {
    "duration": 18,
    "start_time": "2023-01-14T21:19:57.328Z"
   },
   {
    "duration": 43,
    "start_time": "2023-01-14T21:19:57.349Z"
   },
   {
    "duration": 11,
    "start_time": "2023-01-14T21:19:57.395Z"
   },
   {
    "duration": 13,
    "start_time": "2023-01-14T21:19:57.408Z"
   },
   {
    "duration": 8,
    "start_time": "2023-01-14T21:19:57.423Z"
   },
   {
    "duration": 24,
    "start_time": "2023-01-14T21:19:57.433Z"
   },
   {
    "duration": 16,
    "start_time": "2023-01-14T21:19:57.460Z"
   },
   {
    "duration": 11,
    "start_time": "2023-01-14T21:19:57.481Z"
   },
   {
    "duration": 44,
    "start_time": "2023-01-14T21:19:57.494Z"
   },
   {
    "duration": 17,
    "start_time": "2023-01-14T21:19:57.540Z"
   },
   {
    "duration": 30,
    "start_time": "2023-01-14T21:19:57.559Z"
   },
   {
    "duration": 5,
    "start_time": "2023-01-14T21:19:57.591Z"
   },
   {
    "duration": 11,
    "start_time": "2023-01-14T21:19:57.598Z"
   },
   {
    "duration": 15,
    "start_time": "2023-01-14T21:19:57.639Z"
   },
   {
    "duration": 24,
    "start_time": "2023-01-14T21:19:57.656Z"
   },
   {
    "duration": 16,
    "start_time": "2023-01-14T21:19:57.682Z"
   },
   {
    "duration": 14,
    "start_time": "2023-01-14T21:19:57.700Z"
   },
   {
    "duration": 14,
    "start_time": "2023-01-14T21:19:57.716Z"
   },
   {
    "duration": 13,
    "start_time": "2023-01-14T21:19:57.731Z"
   },
   {
    "duration": 26,
    "start_time": "2023-01-14T21:19:57.746Z"
   },
   {
    "duration": 17,
    "start_time": "2023-01-14T21:19:57.774Z"
   },
   {
    "duration": 7,
    "start_time": "2023-01-14T21:19:57.794Z"
   },
   {
    "duration": 9,
    "start_time": "2023-01-14T21:19:57.804Z"
   },
   {
    "duration": 16,
    "start_time": "2023-01-14T21:19:57.838Z"
   },
   {
    "duration": 14,
    "start_time": "2023-01-14T21:19:57.856Z"
   },
   {
    "duration": 5,
    "start_time": "2023-01-14T21:19:57.874Z"
   },
   {
    "duration": 15,
    "start_time": "2023-01-14T21:19:57.881Z"
   },
   {
    "duration": 42,
    "start_time": "2023-01-14T21:19:57.898Z"
   },
   {
    "duration": 20,
    "start_time": "2023-01-14T21:19:57.943Z"
   },
   {
    "duration": 8,
    "start_time": "2023-01-14T21:19:57.965Z"
   },
   {
    "duration": 23,
    "start_time": "2023-01-14T21:19:57.975Z"
   },
   {
    "duration": 41,
    "start_time": "2023-01-14T21:19:58.000Z"
   },
   {
    "duration": 8,
    "start_time": "2023-01-14T21:19:58.044Z"
   },
   {
    "duration": 25,
    "start_time": "2023-01-14T21:19:58.054Z"
   },
   {
    "duration": 9,
    "start_time": "2023-01-14T21:19:58.081Z"
   },
   {
    "duration": 4427,
    "start_time": "2023-01-14T21:19:58.091Z"
   },
   {
    "duration": 23,
    "start_time": "2023-01-14T21:20:02.520Z"
   },
   {
    "duration": 478,
    "start_time": "2023-01-14T21:24:47.317Z"
   },
   {
    "duration": 116,
    "start_time": "2023-01-14T21:24:47.797Z"
   },
   {
    "duration": 36,
    "start_time": "2023-01-14T21:24:47.915Z"
   },
   {
    "duration": 41,
    "start_time": "2023-01-14T21:24:47.954Z"
   },
   {
    "duration": 14,
    "start_time": "2023-01-14T21:24:47.998Z"
   },
   {
    "duration": 20,
    "start_time": "2023-01-14T21:24:48.015Z"
   },
   {
    "duration": 31,
    "start_time": "2023-01-14T21:24:48.037Z"
   },
   {
    "duration": 30,
    "start_time": "2023-01-14T21:24:48.071Z"
   },
   {
    "duration": 19,
    "start_time": "2023-01-14T21:24:48.104Z"
   },
   {
    "duration": 17,
    "start_time": "2023-01-14T21:24:48.127Z"
   },
   {
    "duration": 30,
    "start_time": "2023-01-14T21:24:48.147Z"
   },
   {
    "duration": 12,
    "start_time": "2023-01-14T21:24:48.179Z"
   },
   {
    "duration": 68,
    "start_time": "2023-01-14T21:24:48.194Z"
   },
   {
    "duration": 7,
    "start_time": "2023-01-14T21:24:48.264Z"
   },
   {
    "duration": 11,
    "start_time": "2023-01-14T21:24:48.273Z"
   },
   {
    "duration": 9,
    "start_time": "2023-01-14T21:24:48.286Z"
   },
   {
    "duration": 6,
    "start_time": "2023-01-14T21:24:48.297Z"
   },
   {
    "duration": 11,
    "start_time": "2023-01-14T21:24:48.305Z"
   },
   {
    "duration": 13,
    "start_time": "2023-01-14T21:24:48.318Z"
   },
   {
    "duration": 9,
    "start_time": "2023-01-14T21:24:48.333Z"
   },
   {
    "duration": 8,
    "start_time": "2023-01-14T21:24:48.345Z"
   },
   {
    "duration": 28,
    "start_time": "2023-01-14T21:24:48.356Z"
   },
   {
    "duration": 14,
    "start_time": "2023-01-14T21:24:48.386Z"
   },
   {
    "duration": 5,
    "start_time": "2023-01-14T21:24:48.402Z"
   },
   {
    "duration": 9,
    "start_time": "2023-01-14T21:24:48.409Z"
   },
   {
    "duration": 12,
    "start_time": "2023-01-14T21:24:48.420Z"
   },
   {
    "duration": 18,
    "start_time": "2023-01-14T21:24:48.433Z"
   },
   {
    "duration": 7,
    "start_time": "2023-01-14T21:24:48.457Z"
   },
   {
    "duration": 16,
    "start_time": "2023-01-14T21:24:48.466Z"
   },
   {
    "duration": 8,
    "start_time": "2023-01-14T21:24:48.485Z"
   },
   {
    "duration": 18,
    "start_time": "2023-01-14T21:24:48.495Z"
   },
   {
    "duration": 6,
    "start_time": "2023-01-14T21:24:48.516Z"
   },
   {
    "duration": 32,
    "start_time": "2023-01-14T21:24:48.524Z"
   },
   {
    "duration": 37,
    "start_time": "2023-01-14T21:24:48.558Z"
   },
   {
    "duration": 7,
    "start_time": "2023-01-14T21:24:48.597Z"
   },
   {
    "duration": 47,
    "start_time": "2023-01-14T21:24:48.606Z"
   },
   {
    "duration": 8,
    "start_time": "2023-01-14T21:24:48.655Z"
   },
   {
    "duration": 2871,
    "start_time": "2023-01-14T21:24:48.666Z"
   },
   {
    "duration": 13,
    "start_time": "2023-01-14T21:24:51.540Z"
   },
   {
    "duration": 12,
    "start_time": "2023-01-14T21:24:51.555Z"
   },
   {
    "duration": 495,
    "start_time": "2023-01-14T21:42:15.716Z"
   },
   {
    "duration": 116,
    "start_time": "2023-01-14T21:42:16.214Z"
   },
   {
    "duration": 27,
    "start_time": "2023-01-14T21:42:16.333Z"
   },
   {
    "duration": 51,
    "start_time": "2023-01-14T21:42:16.362Z"
   },
   {
    "duration": 13,
    "start_time": "2023-01-14T21:42:16.415Z"
   },
   {
    "duration": 14,
    "start_time": "2023-01-14T21:42:16.430Z"
   },
   {
    "duration": 20,
    "start_time": "2023-01-14T21:42:16.452Z"
   },
   {
    "duration": 21,
    "start_time": "2023-01-14T21:42:16.474Z"
   },
   {
    "duration": 15,
    "start_time": "2023-01-14T21:42:16.497Z"
   },
   {
    "duration": 12,
    "start_time": "2023-01-14T21:42:16.515Z"
   },
   {
    "duration": 28,
    "start_time": "2023-01-14T21:42:16.541Z"
   },
   {
    "duration": 13,
    "start_time": "2023-01-14T21:42:16.571Z"
   },
   {
    "duration": 70,
    "start_time": "2023-01-14T21:42:16.587Z"
   },
   {
    "duration": 6,
    "start_time": "2023-01-14T21:42:16.663Z"
   },
   {
    "duration": 23,
    "start_time": "2023-01-14T21:42:16.671Z"
   },
   {
    "duration": 14,
    "start_time": "2023-01-14T21:42:16.696Z"
   },
   {
    "duration": 6,
    "start_time": "2023-01-14T21:42:16.713Z"
   },
   {
    "duration": 11,
    "start_time": "2023-01-14T21:42:16.720Z"
   },
   {
    "duration": 16,
    "start_time": "2023-01-14T21:42:16.733Z"
   },
   {
    "duration": 29,
    "start_time": "2023-01-14T21:42:16.750Z"
   },
   {
    "duration": 10,
    "start_time": "2023-01-14T21:42:16.781Z"
   },
   {
    "duration": 20,
    "start_time": "2023-01-14T21:42:16.794Z"
   },
   {
    "duration": 27,
    "start_time": "2023-01-14T21:42:16.816Z"
   },
   {
    "duration": 7,
    "start_time": "2023-01-14T21:42:16.845Z"
   },
   {
    "duration": 23,
    "start_time": "2023-01-14T21:42:16.854Z"
   },
   {
    "duration": 12,
    "start_time": "2023-01-14T21:42:16.880Z"
   },
   {
    "duration": 18,
    "start_time": "2023-01-14T21:42:16.894Z"
   },
   {
    "duration": 12,
    "start_time": "2023-01-14T21:42:16.938Z"
   },
   {
    "duration": 19,
    "start_time": "2023-01-14T21:42:16.952Z"
   },
   {
    "duration": 7,
    "start_time": "2023-01-14T21:42:16.973Z"
   },
   {
    "duration": 19,
    "start_time": "2023-01-14T21:42:16.982Z"
   },
   {
    "duration": 11,
    "start_time": "2023-01-14T21:42:17.003Z"
   },
   {
    "duration": 37,
    "start_time": "2023-01-14T21:42:17.016Z"
   },
   {
    "duration": 25,
    "start_time": "2023-01-14T21:42:17.058Z"
   },
   {
    "duration": 10,
    "start_time": "2023-01-14T21:42:17.085Z"
   },
   {
    "duration": 47,
    "start_time": "2023-01-14T21:42:17.097Z"
   },
   {
    "duration": 8,
    "start_time": "2023-01-14T21:42:17.146Z"
   },
   {
    "duration": 2748,
    "start_time": "2023-01-14T21:42:17.156Z"
   },
   {
    "duration": 19,
    "start_time": "2023-01-14T21:42:19.907Z"
   },
   {
    "duration": 15,
    "start_time": "2023-01-14T21:42:19.928Z"
   },
   {
    "duration": 22,
    "start_time": "2023-01-14T21:42:19.945Z"
   },
   {
    "duration": 89,
    "start_time": "2023-01-14T21:42:19.969Z"
   },
   {
    "duration": 0,
    "start_time": "2023-01-14T21:42:20.060Z"
   },
   {
    "duration": 445,
    "start_time": "2023-01-15T11:01:49.898Z"
   },
   {
    "duration": 276,
    "start_time": "2023-01-15T11:01:50.345Z"
   },
   {
    "duration": 14,
    "start_time": "2023-01-15T11:01:50.625Z"
   },
   {
    "duration": 94,
    "start_time": "2023-01-15T11:01:50.641Z"
   },
   {
    "duration": 11,
    "start_time": "2023-01-15T11:01:50.737Z"
   },
   {
    "duration": 22,
    "start_time": "2023-01-15T11:01:50.749Z"
   },
   {
    "duration": 23,
    "start_time": "2023-01-15T11:01:50.772Z"
   },
   {
    "duration": 30,
    "start_time": "2023-01-15T11:01:50.796Z"
   },
   {
    "duration": 26,
    "start_time": "2023-01-15T11:01:50.829Z"
   },
   {
    "duration": 22,
    "start_time": "2023-01-15T11:01:50.858Z"
   },
   {
    "duration": 31,
    "start_time": "2023-01-15T11:01:50.882Z"
   },
   {
    "duration": 8,
    "start_time": "2023-01-15T11:01:50.915Z"
   },
   {
    "duration": 32,
    "start_time": "2023-01-15T11:01:50.924Z"
   },
   {
    "duration": 16,
    "start_time": "2023-01-15T11:01:50.958Z"
   },
   {
    "duration": 23,
    "start_time": "2023-01-15T11:01:50.976Z"
   },
   {
    "duration": 50,
    "start_time": "2023-01-15T11:01:51.001Z"
   },
   {
    "duration": 29,
    "start_time": "2023-01-15T11:01:51.053Z"
   },
   {
    "duration": 23,
    "start_time": "2023-01-15T11:01:51.083Z"
   },
   {
    "duration": 48,
    "start_time": "2023-01-15T11:01:51.108Z"
   },
   {
    "duration": 23,
    "start_time": "2023-01-15T11:01:51.157Z"
   },
   {
    "duration": 35,
    "start_time": "2023-01-15T11:01:51.182Z"
   },
   {
    "duration": 73,
    "start_time": "2023-01-15T11:01:51.219Z"
   },
   {
    "duration": 44,
    "start_time": "2023-01-15T11:01:51.294Z"
   },
   {
    "duration": 129,
    "start_time": "2023-01-15T11:01:51.339Z"
   },
   {
    "duration": 33,
    "start_time": "2023-01-15T11:01:51.469Z"
   },
   {
    "duration": 23,
    "start_time": "2023-01-15T11:01:51.505Z"
   },
   {
    "duration": 44,
    "start_time": "2023-01-15T11:01:51.532Z"
   },
   {
    "duration": 5,
    "start_time": "2023-01-15T11:01:51.578Z"
   },
   {
    "duration": 15,
    "start_time": "2023-01-15T11:01:51.584Z"
   },
   {
    "duration": 7,
    "start_time": "2023-01-15T11:01:51.600Z"
   },
   {
    "duration": 16,
    "start_time": "2023-01-15T11:01:51.609Z"
   },
   {
    "duration": 6,
    "start_time": "2023-01-15T11:01:51.627Z"
   },
   {
    "duration": 21,
    "start_time": "2023-01-15T11:01:51.634Z"
   },
   {
    "duration": 38,
    "start_time": "2023-01-15T11:01:51.657Z"
   },
   {
    "duration": 6,
    "start_time": "2023-01-15T11:01:51.697Z"
   },
   {
    "duration": 21,
    "start_time": "2023-01-15T11:01:51.705Z"
   },
   {
    "duration": 4,
    "start_time": "2023-01-15T11:01:51.728Z"
   },
   {
    "duration": 2215,
    "start_time": "2023-01-15T11:01:51.734Z"
   },
   {
    "duration": 14,
    "start_time": "2023-01-15T11:01:53.951Z"
   },
   {
    "duration": 14,
    "start_time": "2023-01-15T11:01:53.967Z"
   },
   {
    "duration": 11,
    "start_time": "2023-01-15T11:01:53.983Z"
   },
   {
    "duration": 1223,
    "start_time": "2023-01-15T11:01:53.996Z"
   },
   {
    "duration": 0,
    "start_time": "2023-01-15T11:01:55.221Z"
   },
   {
    "duration": 8,
    "start_time": "2023-01-15T11:03:22.598Z"
   },
   {
    "duration": 19,
    "start_time": "2023-01-15T11:03:25.454Z"
   },
   {
    "duration": 428,
    "start_time": "2023-01-15T11:15:34.952Z"
   },
   {
    "duration": 93,
    "start_time": "2023-01-15T11:15:35.382Z"
   },
   {
    "duration": 16,
    "start_time": "2023-01-15T11:15:35.477Z"
   },
   {
    "duration": 41,
    "start_time": "2023-01-15T11:15:35.495Z"
   },
   {
    "duration": 10,
    "start_time": "2023-01-15T11:15:35.538Z"
   },
   {
    "duration": 12,
    "start_time": "2023-01-15T11:15:35.549Z"
   },
   {
    "duration": 7,
    "start_time": "2023-01-15T11:15:35.563Z"
   },
   {
    "duration": 20,
    "start_time": "2023-01-15T11:15:35.571Z"
   },
   {
    "duration": 14,
    "start_time": "2023-01-15T11:15:35.593Z"
   },
   {
    "duration": 12,
    "start_time": "2023-01-15T11:15:35.609Z"
   },
   {
    "duration": 17,
    "start_time": "2023-01-15T11:15:35.623Z"
   },
   {
    "duration": 36,
    "start_time": "2023-01-15T11:15:35.642Z"
   },
   {
    "duration": 21,
    "start_time": "2023-01-15T11:15:35.680Z"
   },
   {
    "duration": 3,
    "start_time": "2023-01-15T11:15:35.704Z"
   },
   {
    "duration": 11,
    "start_time": "2023-01-15T11:15:35.709Z"
   },
   {
    "duration": 13,
    "start_time": "2023-01-15T11:15:35.721Z"
   },
   {
    "duration": 7,
    "start_time": "2023-01-15T11:15:35.736Z"
   },
   {
    "duration": 17,
    "start_time": "2023-01-15T11:15:35.745Z"
   },
   {
    "duration": 28,
    "start_time": "2023-01-15T11:15:35.763Z"
   },
   {
    "duration": 15,
    "start_time": "2023-01-15T11:15:35.793Z"
   },
   {
    "duration": 24,
    "start_time": "2023-01-15T11:15:35.809Z"
   },
   {
    "duration": 23,
    "start_time": "2023-01-15T11:15:35.835Z"
   },
   {
    "duration": 23,
    "start_time": "2023-01-15T11:15:35.860Z"
   },
   {
    "duration": 50,
    "start_time": "2023-01-15T11:15:35.884Z"
   },
   {
    "duration": 17,
    "start_time": "2023-01-15T11:15:35.936Z"
   },
   {
    "duration": 19,
    "start_time": "2023-01-15T11:15:35.954Z"
   },
   {
    "duration": 12,
    "start_time": "2023-01-15T11:15:35.975Z"
   },
   {
    "duration": 5,
    "start_time": "2023-01-15T11:15:35.988Z"
   },
   {
    "duration": 15,
    "start_time": "2023-01-15T11:15:35.995Z"
   },
   {
    "duration": 15,
    "start_time": "2023-01-15T11:15:36.012Z"
   },
   {
    "duration": 16,
    "start_time": "2023-01-15T11:15:36.029Z"
   },
   {
    "duration": 10,
    "start_time": "2023-01-15T11:15:36.047Z"
   },
   {
    "duration": 19,
    "start_time": "2023-01-15T11:15:36.059Z"
   },
   {
    "duration": 22,
    "start_time": "2023-01-15T11:15:36.080Z"
   },
   {
    "duration": 9,
    "start_time": "2023-01-15T11:15:36.104Z"
   },
   {
    "duration": 17,
    "start_time": "2023-01-15T11:15:36.115Z"
   },
   {
    "duration": 4,
    "start_time": "2023-01-15T11:15:36.135Z"
   },
   {
    "duration": 2156,
    "start_time": "2023-01-15T11:15:36.141Z"
   },
   {
    "duration": 13,
    "start_time": "2023-01-15T11:15:38.299Z"
   },
   {
    "duration": 4,
    "start_time": "2023-01-15T11:15:38.314Z"
   },
   {
    "duration": 5,
    "start_time": "2023-01-15T11:15:38.321Z"
   },
   {
    "duration": 8,
    "start_time": "2023-01-15T11:15:38.328Z"
   },
   {
    "duration": 24,
    "start_time": "2023-01-15T11:15:38.338Z"
   },
   {
    "duration": 408,
    "start_time": "2023-01-15T11:16:03.287Z"
   },
   {
    "duration": 91,
    "start_time": "2023-01-15T11:16:03.697Z"
   },
   {
    "duration": 14,
    "start_time": "2023-01-15T11:16:03.790Z"
   },
   {
    "duration": 42,
    "start_time": "2023-01-15T11:16:03.806Z"
   },
   {
    "duration": 10,
    "start_time": "2023-01-15T11:16:03.850Z"
   },
   {
    "duration": 10,
    "start_time": "2023-01-15T11:16:03.861Z"
   },
   {
    "duration": 6,
    "start_time": "2023-01-15T11:16:03.873Z"
   },
   {
    "duration": 15,
    "start_time": "2023-01-15T11:16:03.880Z"
   },
   {
    "duration": 11,
    "start_time": "2023-01-15T11:16:03.896Z"
   },
   {
    "duration": 10,
    "start_time": "2023-01-15T11:16:03.909Z"
   },
   {
    "duration": 23,
    "start_time": "2023-01-15T11:16:03.920Z"
   },
   {
    "duration": 27,
    "start_time": "2023-01-15T11:16:03.945Z"
   },
   {
    "duration": 26,
    "start_time": "2023-01-15T11:16:03.978Z"
   },
   {
    "duration": 8,
    "start_time": "2023-01-15T11:16:04.006Z"
   },
   {
    "duration": 26,
    "start_time": "2023-01-15T11:16:04.015Z"
   },
   {
    "duration": 22,
    "start_time": "2023-01-15T11:16:04.043Z"
   },
   {
    "duration": 13,
    "start_time": "2023-01-15T11:16:04.066Z"
   },
   {
    "duration": 20,
    "start_time": "2023-01-15T11:16:04.081Z"
   },
   {
    "duration": 30,
    "start_time": "2023-01-15T11:16:04.103Z"
   },
   {
    "duration": 13,
    "start_time": "2023-01-15T11:16:04.135Z"
   },
   {
    "duration": 13,
    "start_time": "2023-01-15T11:16:04.151Z"
   },
   {
    "duration": 29,
    "start_time": "2023-01-15T11:16:04.165Z"
   },
   {
    "duration": 41,
    "start_time": "2023-01-15T11:16:04.196Z"
   },
   {
    "duration": 6,
    "start_time": "2023-01-15T11:16:04.239Z"
   },
   {
    "duration": 13,
    "start_time": "2023-01-15T11:16:04.247Z"
   },
   {
    "duration": 12,
    "start_time": "2023-01-15T11:16:04.262Z"
   },
   {
    "duration": 11,
    "start_time": "2023-01-15T11:16:04.276Z"
   },
   {
    "duration": 5,
    "start_time": "2023-01-15T11:16:04.289Z"
   },
   {
    "duration": 10,
    "start_time": "2023-01-15T11:16:04.295Z"
   },
   {
    "duration": 5,
    "start_time": "2023-01-15T11:16:04.306Z"
   },
   {
    "duration": 10,
    "start_time": "2023-01-15T11:16:04.313Z"
   },
   {
    "duration": 8,
    "start_time": "2023-01-15T11:16:04.324Z"
   },
   {
    "duration": 14,
    "start_time": "2023-01-15T11:16:04.333Z"
   },
   {
    "duration": 45,
    "start_time": "2023-01-15T11:16:04.348Z"
   },
   {
    "duration": 8,
    "start_time": "2023-01-15T11:16:04.394Z"
   },
   {
    "duration": 16,
    "start_time": "2023-01-15T11:16:04.403Z"
   },
   {
    "duration": 3,
    "start_time": "2023-01-15T11:16:04.421Z"
   },
   {
    "duration": 2125,
    "start_time": "2023-01-15T11:16:04.425Z"
   },
   {
    "duration": 11,
    "start_time": "2023-01-15T11:16:06.552Z"
   },
   {
    "duration": 13,
    "start_time": "2023-01-15T11:16:06.565Z"
   },
   {
    "duration": 3,
    "start_time": "2023-01-15T11:16:06.579Z"
   },
   {
    "duration": 19,
    "start_time": "2023-01-15T11:16:06.583Z"
   },
   {
    "duration": 15,
    "start_time": "2023-01-15T11:16:06.603Z"
   },
   {
    "duration": 435,
    "start_time": "2023-01-15T11:16:54.887Z"
   },
   {
    "duration": 96,
    "start_time": "2023-01-15T11:16:55.324Z"
   },
   {
    "duration": 15,
    "start_time": "2023-01-15T11:16:55.421Z"
   },
   {
    "duration": 40,
    "start_time": "2023-01-15T11:16:55.439Z"
   },
   {
    "duration": 10,
    "start_time": "2023-01-15T11:16:55.481Z"
   },
   {
    "duration": 12,
    "start_time": "2023-01-15T11:16:55.493Z"
   },
   {
    "duration": 12,
    "start_time": "2023-01-15T11:16:55.507Z"
   },
   {
    "duration": 23,
    "start_time": "2023-01-15T11:16:55.521Z"
   },
   {
    "duration": 27,
    "start_time": "2023-01-15T11:16:55.546Z"
   },
   {
    "duration": 10,
    "start_time": "2023-01-15T11:16:55.576Z"
   },
   {
    "duration": 26,
    "start_time": "2023-01-15T11:16:55.588Z"
   },
   {
    "duration": 9,
    "start_time": "2023-01-15T11:16:55.616Z"
   },
   {
    "duration": 25,
    "start_time": "2023-01-15T11:16:55.627Z"
   },
   {
    "duration": 27,
    "start_time": "2023-01-15T11:16:55.654Z"
   },
   {
    "duration": 13,
    "start_time": "2023-01-15T11:16:55.682Z"
   },
   {
    "duration": 8,
    "start_time": "2023-01-15T11:16:55.697Z"
   },
   {
    "duration": 16,
    "start_time": "2023-01-15T11:16:55.707Z"
   },
   {
    "duration": 16,
    "start_time": "2023-01-15T11:16:55.725Z"
   },
   {
    "duration": 14,
    "start_time": "2023-01-15T11:16:55.743Z"
   },
   {
    "duration": 7,
    "start_time": "2023-01-15T11:16:55.759Z"
   },
   {
    "duration": 13,
    "start_time": "2023-01-15T11:16:55.767Z"
   },
   {
    "duration": 22,
    "start_time": "2023-01-15T11:16:55.782Z"
   },
   {
    "duration": 10,
    "start_time": "2023-01-15T11:16:55.806Z"
   },
   {
    "duration": 6,
    "start_time": "2023-01-15T11:16:55.817Z"
   },
   {
    "duration": 9,
    "start_time": "2023-01-15T11:16:55.824Z"
   },
   {
    "duration": 11,
    "start_time": "2023-01-15T11:16:55.835Z"
   },
   {
    "duration": 33,
    "start_time": "2023-01-15T11:16:55.847Z"
   },
   {
    "duration": 6,
    "start_time": "2023-01-15T11:16:55.884Z"
   },
   {
    "duration": 13,
    "start_time": "2023-01-15T11:16:55.891Z"
   },
   {
    "duration": 6,
    "start_time": "2023-01-15T11:16:55.905Z"
   },
   {
    "duration": 12,
    "start_time": "2023-01-15T11:16:55.913Z"
   },
   {
    "duration": 5,
    "start_time": "2023-01-15T11:16:55.927Z"
   },
   {
    "duration": 45,
    "start_time": "2023-01-15T11:16:55.934Z"
   },
   {
    "duration": 23,
    "start_time": "2023-01-15T11:16:55.982Z"
   },
   {
    "duration": 8,
    "start_time": "2023-01-15T11:16:56.007Z"
   },
   {
    "duration": 36,
    "start_time": "2023-01-15T11:16:56.016Z"
   },
   {
    "duration": 8,
    "start_time": "2023-01-15T11:16:56.054Z"
   },
   {
    "duration": 2107,
    "start_time": "2023-01-15T11:16:56.064Z"
   },
   {
    "duration": 12,
    "start_time": "2023-01-15T11:16:58.172Z"
   },
   {
    "duration": 22,
    "start_time": "2023-01-15T11:16:58.186Z"
   },
   {
    "duration": 23,
    "start_time": "2023-01-15T11:16:58.209Z"
   },
   {
    "duration": 23,
    "start_time": "2023-01-15T11:16:58.233Z"
   },
   {
    "duration": 22,
    "start_time": "2023-01-15T11:16:58.257Z"
   },
   {
    "duration": 382,
    "start_time": "2023-01-15T11:17:26.599Z"
   },
   {
    "duration": 108,
    "start_time": "2023-01-15T11:17:26.983Z"
   },
   {
    "duration": 15,
    "start_time": "2023-01-15T11:17:27.094Z"
   },
   {
    "duration": 41,
    "start_time": "2023-01-15T11:17:27.112Z"
   },
   {
    "duration": 12,
    "start_time": "2023-01-15T11:17:27.154Z"
   },
   {
    "duration": 22,
    "start_time": "2023-01-15T11:17:27.168Z"
   },
   {
    "duration": 12,
    "start_time": "2023-01-15T11:17:27.192Z"
   },
   {
    "duration": 23,
    "start_time": "2023-01-15T11:17:27.206Z"
   },
   {
    "duration": 16,
    "start_time": "2023-01-15T11:17:27.231Z"
   },
   {
    "duration": 28,
    "start_time": "2023-01-15T11:17:27.249Z"
   },
   {
    "duration": 39,
    "start_time": "2023-01-15T11:17:27.278Z"
   },
   {
    "duration": 8,
    "start_time": "2023-01-15T11:17:27.319Z"
   },
   {
    "duration": 27,
    "start_time": "2023-01-15T11:17:27.329Z"
   },
   {
    "duration": 4,
    "start_time": "2023-01-15T11:17:27.358Z"
   },
   {
    "duration": 14,
    "start_time": "2023-01-15T11:17:27.364Z"
   },
   {
    "duration": 8,
    "start_time": "2023-01-15T11:17:27.380Z"
   },
   {
    "duration": 6,
    "start_time": "2023-01-15T11:17:27.389Z"
   },
   {
    "duration": 8,
    "start_time": "2023-01-15T11:17:27.397Z"
   },
   {
    "duration": 12,
    "start_time": "2023-01-15T11:17:27.406Z"
   },
   {
    "duration": 5,
    "start_time": "2023-01-15T11:17:27.420Z"
   },
   {
    "duration": 6,
    "start_time": "2023-01-15T11:17:27.427Z"
   },
   {
    "duration": 44,
    "start_time": "2023-01-15T11:17:27.435Z"
   },
   {
    "duration": 10,
    "start_time": "2023-01-15T11:17:27.480Z"
   },
   {
    "duration": 6,
    "start_time": "2023-01-15T11:17:27.491Z"
   },
   {
    "duration": 9,
    "start_time": "2023-01-15T11:17:27.498Z"
   },
   {
    "duration": 15,
    "start_time": "2023-01-15T11:17:27.508Z"
   },
   {
    "duration": 11,
    "start_time": "2023-01-15T11:17:27.525Z"
   },
   {
    "duration": 39,
    "start_time": "2023-01-15T11:17:27.539Z"
   },
   {
    "duration": 9,
    "start_time": "2023-01-15T11:17:27.579Z"
   },
   {
    "duration": 7,
    "start_time": "2023-01-15T11:17:27.590Z"
   },
   {
    "duration": 12,
    "start_time": "2023-01-15T11:17:27.598Z"
   },
   {
    "duration": 5,
    "start_time": "2023-01-15T11:17:27.612Z"
   },
   {
    "duration": 15,
    "start_time": "2023-01-15T11:17:27.618Z"
   },
   {
    "duration": 47,
    "start_time": "2023-01-15T11:17:27.634Z"
   },
   {
    "duration": 5,
    "start_time": "2023-01-15T11:17:27.684Z"
   },
   {
    "duration": 25,
    "start_time": "2023-01-15T11:17:27.691Z"
   },
   {
    "duration": 7,
    "start_time": "2023-01-15T11:17:27.718Z"
   },
   {
    "duration": 2162,
    "start_time": "2023-01-15T11:17:27.727Z"
   },
   {
    "duration": 12,
    "start_time": "2023-01-15T11:17:29.891Z"
   },
   {
    "duration": 3,
    "start_time": "2023-01-15T11:17:29.905Z"
   },
   {
    "duration": 5,
    "start_time": "2023-01-15T11:17:29.909Z"
   },
   {
    "duration": 63,
    "start_time": "2023-01-15T11:17:29.915Z"
   },
   {
    "duration": 14,
    "start_time": "2023-01-15T11:17:29.980Z"
   },
   {
    "duration": 457,
    "start_time": "2023-01-15T11:33:33.788Z"
   },
   {
    "duration": 110,
    "start_time": "2023-01-15T11:33:34.248Z"
   },
   {
    "duration": 30,
    "start_time": "2023-01-15T11:33:34.360Z"
   },
   {
    "duration": 75,
    "start_time": "2023-01-15T11:33:34.394Z"
   },
   {
    "duration": 24,
    "start_time": "2023-01-15T11:33:34.472Z"
   },
   {
    "duration": 57,
    "start_time": "2023-01-15T11:33:34.501Z"
   },
   {
    "duration": 10,
    "start_time": "2023-01-15T11:33:34.560Z"
   },
   {
    "duration": 48,
    "start_time": "2023-01-15T11:33:34.572Z"
   },
   {
    "duration": 15,
    "start_time": "2023-01-15T11:33:34.622Z"
   },
   {
    "duration": 16,
    "start_time": "2023-01-15T11:33:34.639Z"
   },
   {
    "duration": 25,
    "start_time": "2023-01-15T11:33:34.657Z"
   },
   {
    "duration": 15,
    "start_time": "2023-01-15T11:33:34.686Z"
   },
   {
    "duration": 35,
    "start_time": "2023-01-15T11:33:34.703Z"
   },
   {
    "duration": 7,
    "start_time": "2023-01-15T11:33:34.742Z"
   },
   {
    "duration": 14,
    "start_time": "2023-01-15T11:33:34.751Z"
   },
   {
    "duration": 17,
    "start_time": "2023-01-15T11:33:34.767Z"
   },
   {
    "duration": 30,
    "start_time": "2023-01-15T11:33:34.789Z"
   },
   {
    "duration": 8,
    "start_time": "2023-01-15T11:33:34.822Z"
   },
   {
    "duration": 18,
    "start_time": "2023-01-15T11:33:34.832Z"
   },
   {
    "duration": 8,
    "start_time": "2023-01-15T11:33:34.852Z"
   },
   {
    "duration": 7,
    "start_time": "2023-01-15T11:33:34.862Z"
   },
   {
    "duration": 28,
    "start_time": "2023-01-15T11:33:34.871Z"
   },
   {
    "duration": 37,
    "start_time": "2023-01-15T11:33:34.900Z"
   },
   {
    "duration": 23,
    "start_time": "2023-01-15T11:33:34.939Z"
   },
   {
    "duration": 12,
    "start_time": "2023-01-15T11:33:34.964Z"
   },
   {
    "duration": 74,
    "start_time": "2023-01-15T11:33:34.978Z"
   },
   {
    "duration": 20,
    "start_time": "2023-01-15T11:33:35.055Z"
   },
   {
    "duration": 10,
    "start_time": "2023-01-15T11:33:35.077Z"
   },
   {
    "duration": 40,
    "start_time": "2023-01-15T11:33:35.089Z"
   },
   {
    "duration": 24,
    "start_time": "2023-01-15T11:33:35.135Z"
   },
   {
    "duration": 20,
    "start_time": "2023-01-15T11:33:35.161Z"
   },
   {
    "duration": 39,
    "start_time": "2023-01-15T11:33:35.183Z"
   },
   {
    "duration": 20,
    "start_time": "2023-01-15T11:33:35.225Z"
   },
   {
    "duration": 48,
    "start_time": "2023-01-15T11:33:35.247Z"
   },
   {
    "duration": 34,
    "start_time": "2023-01-15T11:33:35.297Z"
   },
   {
    "duration": 29,
    "start_time": "2023-01-15T11:33:35.333Z"
   },
   {
    "duration": 10,
    "start_time": "2023-01-15T11:33:35.367Z"
   },
   {
    "duration": 2493,
    "start_time": "2023-01-15T11:33:35.379Z"
   },
   {
    "duration": 14,
    "start_time": "2023-01-15T11:33:37.873Z"
   },
   {
    "duration": 24,
    "start_time": "2023-01-15T11:33:37.889Z"
   },
   {
    "duration": 8,
    "start_time": "2023-01-15T11:33:37.916Z"
   },
   {
    "duration": 69,
    "start_time": "2023-01-15T11:33:37.926Z"
   },
   {
    "duration": 22,
    "start_time": "2023-01-15T11:33:38.001Z"
   },
   {
    "duration": 4,
    "start_time": "2023-01-15T11:43:13.527Z"
   },
   {
    "duration": 20,
    "start_time": "2023-01-15T11:43:30.776Z"
   },
   {
    "duration": 4,
    "start_time": "2023-01-15T11:44:18.406Z"
   },
   {
    "duration": 18,
    "start_time": "2023-01-15T11:44:20.641Z"
   },
   {
    "duration": 360,
    "start_time": "2023-01-15T11:46:28.208Z"
   },
   {
    "duration": 87,
    "start_time": "2023-01-15T11:46:28.570Z"
   },
   {
    "duration": 13,
    "start_time": "2023-01-15T11:46:28.659Z"
   },
   {
    "duration": 44,
    "start_time": "2023-01-15T11:46:28.674Z"
   },
   {
    "duration": 9,
    "start_time": "2023-01-15T11:46:28.719Z"
   },
   {
    "duration": 9,
    "start_time": "2023-01-15T11:46:28.730Z"
   },
   {
    "duration": 8,
    "start_time": "2023-01-15T11:46:28.740Z"
   },
   {
    "duration": 15,
    "start_time": "2023-01-15T11:46:28.749Z"
   },
   {
    "duration": 11,
    "start_time": "2023-01-15T11:46:28.765Z"
   },
   {
    "duration": 11,
    "start_time": "2023-01-15T11:46:28.779Z"
   },
   {
    "duration": 21,
    "start_time": "2023-01-15T11:46:28.791Z"
   },
   {
    "duration": 10,
    "start_time": "2023-01-15T11:46:28.814Z"
   },
   {
    "duration": 19,
    "start_time": "2023-01-15T11:46:28.826Z"
   },
   {
    "duration": 4,
    "start_time": "2023-01-15T11:46:28.847Z"
   },
   {
    "duration": 34,
    "start_time": "2023-01-15T11:46:28.852Z"
   },
   {
    "duration": 8,
    "start_time": "2023-01-15T11:46:28.888Z"
   },
   {
    "duration": 11,
    "start_time": "2023-01-15T11:46:28.898Z"
   },
   {
    "duration": 8,
    "start_time": "2023-01-15T11:46:28.910Z"
   },
   {
    "duration": 11,
    "start_time": "2023-01-15T11:46:28.919Z"
   },
   {
    "duration": 5,
    "start_time": "2023-01-15T11:46:28.932Z"
   },
   {
    "duration": 6,
    "start_time": "2023-01-15T11:46:28.939Z"
   },
   {
    "duration": 33,
    "start_time": "2023-01-15T11:46:28.946Z"
   },
   {
    "duration": 10,
    "start_time": "2023-01-15T11:46:28.981Z"
   },
   {
    "duration": 6,
    "start_time": "2023-01-15T11:46:28.993Z"
   },
   {
    "duration": 7,
    "start_time": "2023-01-15T11:46:29.000Z"
   },
   {
    "duration": 11,
    "start_time": "2023-01-15T11:46:29.008Z"
   },
   {
    "duration": 13,
    "start_time": "2023-01-15T11:46:29.020Z"
   },
   {
    "duration": 36,
    "start_time": "2023-01-15T11:46:29.035Z"
   },
   {
    "duration": 27,
    "start_time": "2023-01-15T11:46:29.073Z"
   },
   {
    "duration": 19,
    "start_time": "2023-01-15T11:46:29.101Z"
   },
   {
    "duration": 14,
    "start_time": "2023-01-15T11:46:29.122Z"
   },
   {
    "duration": 20,
    "start_time": "2023-01-15T11:46:29.137Z"
   },
   {
    "duration": 30,
    "start_time": "2023-01-15T11:46:29.159Z"
   },
   {
    "duration": 37,
    "start_time": "2023-01-15T11:46:29.190Z"
   },
   {
    "duration": 29,
    "start_time": "2023-01-15T11:46:29.228Z"
   },
   {
    "duration": 21,
    "start_time": "2023-01-15T11:46:29.258Z"
   },
   {
    "duration": 31,
    "start_time": "2023-01-15T11:46:29.281Z"
   },
   {
    "duration": 2161,
    "start_time": "2023-01-15T11:46:29.314Z"
   },
   {
    "duration": 11,
    "start_time": "2023-01-15T11:46:31.476Z"
   },
   {
    "duration": 23,
    "start_time": "2023-01-15T11:46:31.489Z"
   },
   {
    "duration": 32,
    "start_time": "2023-01-15T11:46:31.514Z"
   },
   {
    "duration": 95,
    "start_time": "2023-01-15T11:46:31.548Z"
   },
   {
    "duration": 15,
    "start_time": "2023-01-15T11:46:31.644Z"
   },
   {
    "duration": 26,
    "start_time": "2023-01-15T11:46:31.660Z"
   },
   {
    "duration": 37,
    "start_time": "2023-01-15T11:46:31.687Z"
   },
   {
    "duration": 471,
    "start_time": "2023-01-15T11:54:06.162Z"
   },
   {
    "duration": 135,
    "start_time": "2023-01-15T11:54:23.563Z"
   },
   {
    "duration": 179,
    "start_time": "2023-01-15T11:54:35.133Z"
   },
   {
    "duration": 124,
    "start_time": "2023-01-15T11:54:41.504Z"
   },
   {
    "duration": 127,
    "start_time": "2023-01-15T11:54:49.154Z"
   },
   {
    "duration": 122,
    "start_time": "2023-01-15T11:54:55.362Z"
   },
   {
    "duration": 120,
    "start_time": "2023-01-15T11:55:01.214Z"
   },
   {
    "duration": 106,
    "start_time": "2023-01-15T11:55:08.121Z"
   },
   {
    "duration": 110,
    "start_time": "2023-01-15T11:55:16.883Z"
   },
   {
    "duration": 113,
    "start_time": "2023-01-15T11:55:23.115Z"
   },
   {
    "duration": 116,
    "start_time": "2023-01-15T11:55:32.218Z"
   },
   {
    "duration": 134,
    "start_time": "2023-01-15T12:11:12.906Z"
   },
   {
    "duration": 84,
    "start_time": "2023-01-15T12:16:26.375Z"
   },
   {
    "duration": 77,
    "start_time": "2023-01-15T12:18:35.924Z"
   },
   {
    "duration": 66,
    "start_time": "2023-01-15T12:20:36.803Z"
   },
   {
    "duration": 91,
    "start_time": "2023-01-15T12:27:35.474Z"
   },
   {
    "duration": 70,
    "start_time": "2023-01-15T12:28:55.696Z"
   },
   {
    "duration": 68,
    "start_time": "2023-01-15T12:38:12.644Z"
   },
   {
    "duration": 83,
    "start_time": "2023-01-15T12:42:40.902Z"
   },
   {
    "duration": 85,
    "start_time": "2023-01-15T12:48:32.416Z"
   },
   {
    "duration": 21,
    "start_time": "2023-01-15T12:48:47.651Z"
   },
   {
    "duration": 22,
    "start_time": "2023-01-15T12:49:09.261Z"
   },
   {
    "duration": 16,
    "start_time": "2023-01-15T13:23:18.406Z"
   },
   {
    "duration": 16,
    "start_time": "2023-01-15T13:23:32.214Z"
   },
   {
    "duration": 4,
    "start_time": "2023-01-15T13:24:22.309Z"
   },
   {
    "duration": 4,
    "start_time": "2023-01-15T13:24:29.122Z"
   },
   {
    "duration": 70,
    "start_time": "2023-01-15T13:27:42.155Z"
   },
   {
    "duration": 28,
    "start_time": "2023-01-15T13:27:52.656Z"
   },
   {
    "duration": 291,
    "start_time": "2023-01-15T13:35:40.966Z"
   },
   {
    "duration": 325,
    "start_time": "2023-01-15T13:36:48.138Z"
   },
   {
    "duration": 269,
    "start_time": "2023-01-15T13:37:09.787Z"
   },
   {
    "duration": 71,
    "start_time": "2023-01-15T13:37:23.867Z"
   },
   {
    "duration": 271,
    "start_time": "2023-01-15T13:37:28.882Z"
   },
   {
    "duration": 300,
    "start_time": "2023-01-15T13:39:53.187Z"
   },
   {
    "duration": 349,
    "start_time": "2023-01-15T13:40:32.724Z"
   },
   {
    "duration": 16,
    "start_time": "2023-01-15T13:41:19.169Z"
   },
   {
    "duration": 28,
    "start_time": "2023-01-15T13:43:17.301Z"
   },
   {
    "duration": 28,
    "start_time": "2023-01-15T13:43:21.616Z"
   },
   {
    "duration": 33,
    "start_time": "2023-01-15T13:43:24.015Z"
   },
   {
    "duration": 253,
    "start_time": "2023-01-15T13:43:36.408Z"
   },
   {
    "duration": 71,
    "start_time": "2023-01-15T13:46:12.246Z"
   },
   {
    "duration": 250,
    "start_time": "2023-01-15T13:46:16.274Z"
   },
   {
    "duration": 418,
    "start_time": "2023-01-15T14:00:34.649Z"
   },
   {
    "duration": 96,
    "start_time": "2023-01-15T14:00:35.070Z"
   },
   {
    "duration": 15,
    "start_time": "2023-01-15T14:00:35.168Z"
   },
   {
    "duration": 56,
    "start_time": "2023-01-15T14:00:35.185Z"
   },
   {
    "duration": 9,
    "start_time": "2023-01-15T14:00:35.243Z"
   },
   {
    "duration": 14,
    "start_time": "2023-01-15T14:00:35.253Z"
   },
   {
    "duration": 17,
    "start_time": "2023-01-15T14:00:35.269Z"
   },
   {
    "duration": 40,
    "start_time": "2023-01-15T14:00:35.288Z"
   },
   {
    "duration": 15,
    "start_time": "2023-01-15T14:00:35.330Z"
   },
   {
    "duration": 16,
    "start_time": "2023-01-15T14:00:35.347Z"
   },
   {
    "duration": 43,
    "start_time": "2023-01-15T14:00:35.364Z"
   },
   {
    "duration": 33,
    "start_time": "2023-01-15T14:00:35.408Z"
   },
   {
    "duration": 57,
    "start_time": "2023-01-15T14:00:35.442Z"
   },
   {
    "duration": 12,
    "start_time": "2023-01-15T14:00:35.501Z"
   },
   {
    "duration": 19,
    "start_time": "2023-01-15T14:00:35.515Z"
   },
   {
    "duration": 24,
    "start_time": "2023-01-15T14:00:35.536Z"
   },
   {
    "duration": 18,
    "start_time": "2023-01-15T14:00:35.561Z"
   },
   {
    "duration": 14,
    "start_time": "2023-01-15T14:00:35.581Z"
   },
   {
    "duration": 36,
    "start_time": "2023-01-15T14:00:35.597Z"
   },
   {
    "duration": 28,
    "start_time": "2023-01-15T14:00:35.635Z"
   },
   {
    "duration": 31,
    "start_time": "2023-01-15T14:00:35.665Z"
   },
   {
    "duration": 32,
    "start_time": "2023-01-15T14:00:35.697Z"
   },
   {
    "duration": 19,
    "start_time": "2023-01-15T14:00:35.731Z"
   },
   {
    "duration": 27,
    "start_time": "2023-01-15T14:00:35.752Z"
   },
   {
    "duration": 15,
    "start_time": "2023-01-15T14:00:35.780Z"
   },
   {
    "duration": 24,
    "start_time": "2023-01-15T14:00:35.797Z"
   },
   {
    "duration": 23,
    "start_time": "2023-01-15T14:00:35.823Z"
   },
   {
    "duration": 22,
    "start_time": "2023-01-15T14:00:35.850Z"
   },
   {
    "duration": 17,
    "start_time": "2023-01-15T14:00:35.874Z"
   },
   {
    "duration": 16,
    "start_time": "2023-01-15T14:00:35.893Z"
   },
   {
    "duration": 30,
    "start_time": "2023-01-15T14:00:35.911Z"
   },
   {
    "duration": 15,
    "start_time": "2023-01-15T14:00:35.942Z"
   },
   {
    "duration": 33,
    "start_time": "2023-01-15T14:00:35.958Z"
   },
   {
    "duration": 24,
    "start_time": "2023-01-15T14:00:35.992Z"
   },
   {
    "duration": 25,
    "start_time": "2023-01-15T14:00:36.018Z"
   },
   {
    "duration": 35,
    "start_time": "2023-01-15T14:00:36.044Z"
   },
   {
    "duration": 29,
    "start_time": "2023-01-15T14:00:36.080Z"
   },
   {
    "duration": 2267,
    "start_time": "2023-01-15T14:00:36.111Z"
   },
   {
    "duration": 11,
    "start_time": "2023-01-15T14:00:38.379Z"
   },
   {
    "duration": 4,
    "start_time": "2023-01-15T14:00:38.392Z"
   },
   {
    "duration": 5,
    "start_time": "2023-01-15T14:00:38.397Z"
   },
   {
    "duration": 75,
    "start_time": "2023-01-15T14:00:38.403Z"
   },
   {
    "duration": 15,
    "start_time": "2023-01-15T14:00:38.480Z"
   },
   {
    "duration": 8,
    "start_time": "2023-01-15T14:00:38.496Z"
   },
   {
    "duration": 20,
    "start_time": "2023-01-15T14:00:38.505Z"
   },
   {
    "duration": 345,
    "start_time": "2023-01-15T14:00:38.527Z"
   },
   {
    "duration": 140,
    "start_time": "2023-01-15T14:00:38.873Z"
   },
   {
    "duration": 19,
    "start_time": "2023-01-15T14:00:39.015Z"
   },
   {
    "duration": 18,
    "start_time": "2023-01-15T14:00:39.036Z"
   },
   {
    "duration": 22,
    "start_time": "2023-01-15T14:00:39.056Z"
   },
   {
    "duration": 389,
    "start_time": "2023-01-15T14:00:39.080Z"
   },
   {
    "duration": 165,
    "start_time": "2023-01-15T14:51:52.499Z"
   },
   {
    "duration": 147,
    "start_time": "2023-01-15T14:52:12.897Z"
   },
   {
    "duration": 171,
    "start_time": "2023-01-15T14:56:25.956Z"
   },
   {
    "duration": 251,
    "start_time": "2023-01-15T15:16:48.451Z"
   },
   {
    "duration": 342,
    "start_time": "2023-01-15T15:19:19.124Z"
   },
   {
    "duration": 359,
    "start_time": "2023-01-15T15:19:25.336Z"
   },
   {
    "duration": 338,
    "start_time": "2023-01-15T15:19:39.063Z"
   },
   {
    "duration": 297,
    "start_time": "2023-01-15T15:20:57.318Z"
   },
   {
    "duration": 69,
    "start_time": "2023-01-15T15:24:12.962Z"
   },
   {
    "duration": 1893,
    "start_time": "2023-01-15T15:24:20.194Z"
   },
   {
    "duration": 2505,
    "start_time": "2023-01-15T15:24:46.533Z"
   },
   {
    "duration": 387,
    "start_time": "2023-01-15T18:28:17.201Z"
   },
   {
    "duration": 89,
    "start_time": "2023-01-15T18:28:17.589Z"
   },
   {
    "duration": 14,
    "start_time": "2023-01-15T18:28:17.680Z"
   },
   {
    "duration": 71,
    "start_time": "2023-01-15T18:28:17.696Z"
   },
   {
    "duration": 11,
    "start_time": "2023-01-15T18:28:17.768Z"
   },
   {
    "duration": 29,
    "start_time": "2023-01-15T18:28:17.781Z"
   },
   {
    "duration": 22,
    "start_time": "2023-01-15T18:28:17.812Z"
   },
   {
    "duration": 44,
    "start_time": "2023-01-15T18:28:17.836Z"
   },
   {
    "duration": 29,
    "start_time": "2023-01-15T18:28:17.881Z"
   },
   {
    "duration": 29,
    "start_time": "2023-01-15T18:28:17.913Z"
   },
   {
    "duration": 33,
    "start_time": "2023-01-15T18:28:17.944Z"
   },
   {
    "duration": 30,
    "start_time": "2023-01-15T18:28:17.978Z"
   },
   {
    "duration": 41,
    "start_time": "2023-01-15T18:28:18.009Z"
   },
   {
    "duration": 18,
    "start_time": "2023-01-15T18:28:18.051Z"
   },
   {
    "duration": 34,
    "start_time": "2023-01-15T18:28:18.071Z"
   },
   {
    "duration": 26,
    "start_time": "2023-01-15T18:28:18.106Z"
   },
   {
    "duration": 24,
    "start_time": "2023-01-15T18:28:18.133Z"
   },
   {
    "duration": 21,
    "start_time": "2023-01-15T18:28:18.159Z"
   },
   {
    "duration": 27,
    "start_time": "2023-01-15T18:28:18.182Z"
   },
   {
    "duration": 24,
    "start_time": "2023-01-15T18:28:18.211Z"
   },
   {
    "duration": 20,
    "start_time": "2023-01-15T18:28:18.237Z"
   },
   {
    "duration": 51,
    "start_time": "2023-01-15T18:28:18.258Z"
   },
   {
    "duration": 34,
    "start_time": "2023-01-15T18:28:18.310Z"
   },
   {
    "duration": 23,
    "start_time": "2023-01-15T18:28:18.346Z"
   },
   {
    "duration": 29,
    "start_time": "2023-01-15T18:28:18.371Z"
   },
   {
    "duration": 33,
    "start_time": "2023-01-15T18:28:18.401Z"
   },
   {
    "duration": 18,
    "start_time": "2023-01-15T18:28:18.436Z"
   },
   {
    "duration": 24,
    "start_time": "2023-01-15T18:28:18.458Z"
   },
   {
    "duration": 39,
    "start_time": "2023-01-15T18:28:18.483Z"
   },
   {
    "duration": 24,
    "start_time": "2023-01-15T18:28:18.523Z"
   },
   {
    "duration": 40,
    "start_time": "2023-01-15T18:28:18.549Z"
   },
   {
    "duration": 24,
    "start_time": "2023-01-15T18:28:18.591Z"
   },
   {
    "duration": 41,
    "start_time": "2023-01-15T18:28:18.616Z"
   },
   {
    "duration": 33,
    "start_time": "2023-01-15T18:28:18.658Z"
   },
   {
    "duration": 33,
    "start_time": "2023-01-15T18:28:18.693Z"
   },
   {
    "duration": 32,
    "start_time": "2023-01-15T18:28:18.727Z"
   },
   {
    "duration": 14,
    "start_time": "2023-01-15T18:28:18.761Z"
   },
   {
    "duration": 2171,
    "start_time": "2023-01-15T18:28:18.776Z"
   },
   {
    "duration": 11,
    "start_time": "2023-01-15T18:28:20.948Z"
   },
   {
    "duration": 5,
    "start_time": "2023-01-15T18:28:20.961Z"
   },
   {
    "duration": 14,
    "start_time": "2023-01-15T18:28:20.977Z"
   },
   {
    "duration": 66,
    "start_time": "2023-01-15T18:28:20.993Z"
   },
   {
    "duration": 14,
    "start_time": "2023-01-15T18:28:21.060Z"
   },
   {
    "duration": 20,
    "start_time": "2023-01-15T18:28:21.075Z"
   },
   {
    "duration": 21,
    "start_time": "2023-01-15T18:28:21.097Z"
   },
   {
    "duration": 302,
    "start_time": "2023-01-15T18:28:21.120Z"
   },
   {
    "duration": 125,
    "start_time": "2023-01-15T18:28:21.423Z"
   },
   {
    "duration": 17,
    "start_time": "2023-01-15T18:28:21.550Z"
   },
   {
    "duration": 61,
    "start_time": "2023-01-15T18:28:21.577Z"
   },
   {
    "duration": 5,
    "start_time": "2023-01-15T18:28:21.640Z"
   },
   {
    "duration": 342,
    "start_time": "2023-01-15T18:28:21.647Z"
   },
   {
    "duration": 15,
    "start_time": "2023-01-15T18:28:21.991Z"
   },
   {
    "duration": 134,
    "start_time": "2023-01-15T18:31:50.430Z"
   },
   {
    "duration": 122,
    "start_time": "2023-01-15T18:32:07.844Z"
   },
   {
    "duration": 162,
    "start_time": "2023-01-15T18:32:54.397Z"
   },
   {
    "duration": 232,
    "start_time": "2023-01-15T18:33:12.059Z"
   },
   {
    "duration": 126,
    "start_time": "2023-01-15T18:33:46.119Z"
   },
   {
    "duration": 143,
    "start_time": "2023-01-15T18:33:53.274Z"
   },
   {
    "duration": 135,
    "start_time": "2023-01-15T18:34:01.913Z"
   },
   {
    "duration": 183,
    "start_time": "2023-01-15T18:37:59.615Z"
   },
   {
    "duration": 180,
    "start_time": "2023-01-15T18:39:24.142Z"
   },
   {
    "duration": 181,
    "start_time": "2023-01-15T18:41:09.024Z"
   },
   {
    "duration": 248,
    "start_time": "2023-01-15T18:41:51.377Z"
   },
   {
    "duration": 167,
    "start_time": "2023-01-15T18:43:25.369Z"
   },
   {
    "duration": 155,
    "start_time": "2023-01-15T18:44:37.776Z"
   },
   {
    "duration": 170,
    "start_time": "2023-01-15T18:45:03.531Z"
   },
   {
    "duration": 154,
    "start_time": "2023-01-15T18:48:22.319Z"
   },
   {
    "duration": 147,
    "start_time": "2023-01-15T18:49:14.260Z"
   },
   {
    "duration": 18,
    "start_time": "2023-01-15T18:51:00.230Z"
   },
   {
    "duration": 14,
    "start_time": "2023-01-15T18:52:34.431Z"
   },
   {
    "duration": 42,
    "start_time": "2023-01-15T18:54:50.697Z"
   },
   {
    "duration": 43,
    "start_time": "2023-01-15T18:55:38.093Z"
   },
   {
    "duration": 103,
    "start_time": "2023-01-15T18:58:56.806Z"
   },
   {
    "duration": 86,
    "start_time": "2023-01-15T19:00:23.508Z"
   },
   {
    "duration": 4,
    "start_time": "2023-01-15T19:01:14.207Z"
   },
   {
    "duration": 389,
    "start_time": "2023-01-15T19:01:38.031Z"
   },
   {
    "duration": 99,
    "start_time": "2023-01-15T19:01:38.422Z"
   },
   {
    "duration": 18,
    "start_time": "2023-01-15T19:01:38.523Z"
   },
   {
    "duration": 43,
    "start_time": "2023-01-15T19:01:38.543Z"
   },
   {
    "duration": 11,
    "start_time": "2023-01-15T19:01:38.588Z"
   },
   {
    "duration": 15,
    "start_time": "2023-01-15T19:01:38.601Z"
   },
   {
    "duration": 14,
    "start_time": "2023-01-15T19:01:38.618Z"
   },
   {
    "duration": 17,
    "start_time": "2023-01-15T19:01:38.634Z"
   },
   {
    "duration": 11,
    "start_time": "2023-01-15T19:01:38.653Z"
   },
   {
    "duration": 20,
    "start_time": "2023-01-15T19:01:38.666Z"
   },
   {
    "duration": 18,
    "start_time": "2023-01-15T19:01:38.688Z"
   },
   {
    "duration": 8,
    "start_time": "2023-01-15T19:01:38.708Z"
   },
   {
    "duration": 21,
    "start_time": "2023-01-15T19:01:38.718Z"
   },
   {
    "duration": 4,
    "start_time": "2023-01-15T19:01:38.742Z"
   },
   {
    "duration": 5,
    "start_time": "2023-01-15T19:01:38.778Z"
   },
   {
    "duration": 10,
    "start_time": "2023-01-15T19:01:38.784Z"
   },
   {
    "duration": 5,
    "start_time": "2023-01-15T19:01:38.796Z"
   },
   {
    "duration": 7,
    "start_time": "2023-01-15T19:01:38.803Z"
   },
   {
    "duration": 17,
    "start_time": "2023-01-15T19:01:38.811Z"
   },
   {
    "duration": 5,
    "start_time": "2023-01-15T19:01:38.830Z"
   },
   {
    "duration": 10,
    "start_time": "2023-01-15T19:01:38.837Z"
   },
   {
    "duration": 29,
    "start_time": "2023-01-15T19:01:38.849Z"
   },
   {
    "duration": 9,
    "start_time": "2023-01-15T19:01:38.880Z"
   },
   {
    "duration": 5,
    "start_time": "2023-01-15T19:01:38.891Z"
   },
   {
    "duration": 7,
    "start_time": "2023-01-15T19:01:38.897Z"
   },
   {
    "duration": 11,
    "start_time": "2023-01-15T19:01:38.905Z"
   },
   {
    "duration": 10,
    "start_time": "2023-01-15T19:01:38.918Z"
   },
   {
    "duration": 5,
    "start_time": "2023-01-15T19:01:38.929Z"
   },
   {
    "duration": 9,
    "start_time": "2023-01-15T19:01:38.935Z"
   },
   {
    "duration": 35,
    "start_time": "2023-01-15T19:01:38.946Z"
   },
   {
    "duration": 13,
    "start_time": "2023-01-15T19:01:38.983Z"
   },
   {
    "duration": 6,
    "start_time": "2023-01-15T19:01:38.998Z"
   },
   {
    "duration": 20,
    "start_time": "2023-01-15T19:01:39.005Z"
   },
   {
    "duration": 25,
    "start_time": "2023-01-15T19:01:39.026Z"
   },
   {
    "duration": 27,
    "start_time": "2023-01-15T19:01:39.052Z"
   },
   {
    "duration": 23,
    "start_time": "2023-01-15T19:01:39.080Z"
   },
   {
    "duration": 4,
    "start_time": "2023-01-15T19:01:39.104Z"
   },
   {
    "duration": 2123,
    "start_time": "2023-01-15T19:01:39.109Z"
   },
   {
    "duration": 13,
    "start_time": "2023-01-15T19:01:41.233Z"
   },
   {
    "duration": 8,
    "start_time": "2023-01-15T19:01:41.248Z"
   },
   {
    "duration": 5,
    "start_time": "2023-01-15T19:01:41.259Z"
   },
   {
    "duration": 68,
    "start_time": "2023-01-15T19:01:41.265Z"
   },
   {
    "duration": 16,
    "start_time": "2023-01-15T19:01:41.335Z"
   },
   {
    "duration": 5,
    "start_time": "2023-01-15T19:01:41.353Z"
   },
   {
    "duration": 18,
    "start_time": "2023-01-15T19:01:41.378Z"
   },
   {
    "duration": 297,
    "start_time": "2023-01-15T19:01:41.398Z"
   },
   {
    "duration": 135,
    "start_time": "2023-01-15T19:01:41.697Z"
   },
   {
    "duration": 19,
    "start_time": "2023-01-15T19:01:41.833Z"
   },
   {
    "duration": 30,
    "start_time": "2023-01-15T19:01:41.853Z"
   },
   {
    "duration": 4,
    "start_time": "2023-01-15T19:01:41.884Z"
   },
   {
    "duration": 337,
    "start_time": "2023-01-15T19:01:41.890Z"
   },
   {
    "duration": 155,
    "start_time": "2023-01-15T19:01:42.229Z"
   },
   {
    "duration": 150,
    "start_time": "2023-01-15T19:01:42.386Z"
   },
   {
    "duration": 155,
    "start_time": "2023-01-15T19:01:42.538Z"
   },
   {
    "duration": 187,
    "start_time": "2023-01-15T19:01:42.695Z"
   },
   {
    "duration": 179,
    "start_time": "2023-01-15T19:01:42.884Z"
   },
   {
    "duration": 173,
    "start_time": "2023-01-15T19:01:43.065Z"
   },
   {
    "duration": 13,
    "start_time": "2023-01-15T19:01:43.240Z"
   },
   {
    "duration": 4,
    "start_time": "2023-01-15T19:01:43.255Z"
   },
   {
    "duration": 114,
    "start_time": "2023-01-15T19:01:43.260Z"
   },
   {
    "duration": 7,
    "start_time": "2023-01-15T19:02:22.296Z"
   },
   {
    "duration": 61,
    "start_time": "2023-01-15T19:02:42.634Z"
   },
   {
    "duration": 437,
    "start_time": "2023-01-15T21:17:18.436Z"
   },
   {
    "duration": 221,
    "start_time": "2023-01-15T21:17:18.875Z"
   },
   {
    "duration": 20,
    "start_time": "2023-01-15T21:17:19.098Z"
   },
   {
    "duration": 96,
    "start_time": "2023-01-15T21:17:19.121Z"
   },
   {
    "duration": 13,
    "start_time": "2023-01-15T21:17:19.220Z"
   },
   {
    "duration": 28,
    "start_time": "2023-01-15T21:17:19.235Z"
   },
   {
    "duration": 17,
    "start_time": "2023-01-15T21:17:19.265Z"
   },
   {
    "duration": 20,
    "start_time": "2023-01-15T21:17:19.284Z"
   },
   {
    "duration": 15,
    "start_time": "2023-01-15T21:17:19.307Z"
   },
   {
    "duration": 14,
    "start_time": "2023-01-15T21:17:19.325Z"
   },
   {
    "duration": 20,
    "start_time": "2023-01-15T21:17:19.341Z"
   },
   {
    "duration": 11,
    "start_time": "2023-01-15T21:17:19.363Z"
   },
   {
    "duration": 34,
    "start_time": "2023-01-15T21:17:19.376Z"
   },
   {
    "duration": 10,
    "start_time": "2023-01-15T21:17:19.411Z"
   },
   {
    "duration": 27,
    "start_time": "2023-01-15T21:17:19.422Z"
   },
   {
    "duration": 17,
    "start_time": "2023-01-15T21:17:19.450Z"
   },
   {
    "duration": 10,
    "start_time": "2023-01-15T21:17:19.469Z"
   },
   {
    "duration": 11,
    "start_time": "2023-01-15T21:17:19.480Z"
   },
   {
    "duration": 21,
    "start_time": "2023-01-15T21:17:19.493Z"
   },
   {
    "duration": 16,
    "start_time": "2023-01-15T21:17:19.515Z"
   },
   {
    "duration": 9,
    "start_time": "2023-01-15T21:17:19.532Z"
   },
   {
    "duration": 25,
    "start_time": "2023-01-15T21:17:19.542Z"
   },
   {
    "duration": 15,
    "start_time": "2023-01-15T21:17:19.569Z"
   },
   {
    "duration": 9,
    "start_time": "2023-01-15T21:17:19.587Z"
   },
   {
    "duration": 27,
    "start_time": "2023-01-15T21:17:19.598Z"
   },
   {
    "duration": 29,
    "start_time": "2023-01-15T21:17:19.627Z"
   },
   {
    "duration": 16,
    "start_time": "2023-01-15T21:17:19.658Z"
   },
   {
    "duration": 5,
    "start_time": "2023-01-15T21:17:19.678Z"
   },
   {
    "duration": 19,
    "start_time": "2023-01-15T21:17:19.685Z"
   },
   {
    "duration": 16,
    "start_time": "2023-01-15T21:17:19.706Z"
   },
   {
    "duration": 14,
    "start_time": "2023-01-15T21:17:19.724Z"
   },
   {
    "duration": 10,
    "start_time": "2023-01-15T21:17:19.740Z"
   },
   {
    "duration": 31,
    "start_time": "2023-01-15T21:17:19.752Z"
   },
   {
    "duration": 25,
    "start_time": "2023-01-15T21:17:19.785Z"
   },
   {
    "duration": 8,
    "start_time": "2023-01-15T21:17:19.811Z"
   },
   {
    "duration": 19,
    "start_time": "2023-01-15T21:17:19.821Z"
   },
   {
    "duration": 12,
    "start_time": "2023-01-15T21:17:19.842Z"
   },
   {
    "duration": 2351,
    "start_time": "2023-01-15T21:17:19.856Z"
   },
   {
    "duration": 13,
    "start_time": "2023-01-15T21:17:22.209Z"
   },
   {
    "duration": 31,
    "start_time": "2023-01-15T21:17:22.224Z"
   },
   {
    "duration": 32,
    "start_time": "2023-01-15T21:17:22.256Z"
   },
   {
    "duration": 85,
    "start_time": "2023-01-15T21:17:22.290Z"
   },
   {
    "duration": 17,
    "start_time": "2023-01-15T21:17:22.377Z"
   },
   {
    "duration": 38,
    "start_time": "2023-01-15T21:17:22.396Z"
   },
   {
    "duration": 86,
    "start_time": "2023-01-15T21:17:22.436Z"
   },
   {
    "duration": 527,
    "start_time": "2023-01-15T21:17:22.524Z"
   },
   {
    "duration": 148,
    "start_time": "2023-01-15T21:17:23.053Z"
   },
   {
    "duration": 22,
    "start_time": "2023-01-15T21:17:23.202Z"
   },
   {
    "duration": 20,
    "start_time": "2023-01-15T21:17:23.235Z"
   },
   {
    "duration": 64,
    "start_time": "2023-01-15T21:17:23.258Z"
   },
   {
    "duration": 445,
    "start_time": "2023-01-15T21:17:23.324Z"
   },
   {
    "duration": 151,
    "start_time": "2023-01-15T21:17:23.771Z"
   },
   {
    "duration": 194,
    "start_time": "2023-01-15T21:17:23.924Z"
   },
   {
    "duration": 181,
    "start_time": "2023-01-15T21:17:24.120Z"
   },
   {
    "duration": 199,
    "start_time": "2023-01-15T21:17:24.303Z"
   },
   {
    "duration": 179,
    "start_time": "2023-01-15T21:17:24.504Z"
   },
   {
    "duration": 168,
    "start_time": "2023-01-15T21:17:24.685Z"
   },
   {
    "duration": 15,
    "start_time": "2023-01-15T21:17:24.856Z"
   },
   {
    "duration": 12,
    "start_time": "2023-01-15T21:17:24.873Z"
   },
   {
    "duration": 79,
    "start_time": "2023-01-15T21:17:24.886Z"
   },
   {
    "duration": 112,
    "start_time": "2023-01-15T21:17:24.967Z"
   },
   {
    "duration": 116,
    "start_time": "2023-01-15T21:18:19.526Z"
   },
   {
    "duration": 109,
    "start_time": "2023-01-15T21:24:38.246Z"
   },
   {
    "duration": 385,
    "start_time": "2023-01-16T09:31:50.506Z"
   },
   {
    "duration": 199,
    "start_time": "2023-01-16T09:31:50.893Z"
   },
   {
    "duration": 13,
    "start_time": "2023-01-16T09:31:51.093Z"
   },
   {
    "duration": 90,
    "start_time": "2023-01-16T09:31:51.108Z"
   },
   {
    "duration": 9,
    "start_time": "2023-01-16T09:31:51.199Z"
   },
   {
    "duration": 9,
    "start_time": "2023-01-16T09:31:51.210Z"
   },
   {
    "duration": 10,
    "start_time": "2023-01-16T09:31:51.220Z"
   },
   {
    "duration": 14,
    "start_time": "2023-01-16T09:31:51.232Z"
   },
   {
    "duration": 10,
    "start_time": "2023-01-16T09:31:51.247Z"
   },
   {
    "duration": 8,
    "start_time": "2023-01-16T09:31:51.259Z"
   },
   {
    "duration": 37,
    "start_time": "2023-01-16T09:31:51.268Z"
   },
   {
    "duration": 7,
    "start_time": "2023-01-16T09:31:51.306Z"
   },
   {
    "duration": 30,
    "start_time": "2023-01-16T09:31:51.315Z"
   },
   {
    "duration": 7,
    "start_time": "2023-01-16T09:31:51.346Z"
   },
   {
    "duration": 10,
    "start_time": "2023-01-16T09:31:51.355Z"
   },
   {
    "duration": 9,
    "start_time": "2023-01-16T09:31:51.366Z"
   },
   {
    "duration": 9,
    "start_time": "2023-01-16T09:31:51.377Z"
   },
   {
    "duration": 12,
    "start_time": "2023-01-16T09:31:51.387Z"
   },
   {
    "duration": 12,
    "start_time": "2023-01-16T09:31:51.400Z"
   },
   {
    "duration": 5,
    "start_time": "2023-01-16T09:31:51.413Z"
   },
   {
    "duration": 17,
    "start_time": "2023-01-16T09:31:51.419Z"
   },
   {
    "duration": 23,
    "start_time": "2023-01-16T09:31:51.437Z"
   },
   {
    "duration": 13,
    "start_time": "2023-01-16T09:31:51.461Z"
   },
   {
    "duration": 5,
    "start_time": "2023-01-16T09:31:51.475Z"
   },
   {
    "duration": 7,
    "start_time": "2023-01-16T09:31:51.481Z"
   },
   {
    "duration": 14,
    "start_time": "2023-01-16T09:31:51.489Z"
   },
   {
    "duration": 16,
    "start_time": "2023-01-16T09:31:51.504Z"
   },
   {
    "duration": 4,
    "start_time": "2023-01-16T09:31:51.523Z"
   },
   {
    "duration": 10,
    "start_time": "2023-01-16T09:31:51.528Z"
   },
   {
    "duration": 5,
    "start_time": "2023-01-16T09:31:51.539Z"
   },
   {
    "duration": 34,
    "start_time": "2023-01-16T09:31:51.546Z"
   },
   {
    "duration": 6,
    "start_time": "2023-01-16T09:31:51.581Z"
   },
   {
    "duration": 19,
    "start_time": "2023-01-16T09:31:51.588Z"
   },
   {
    "duration": 20,
    "start_time": "2023-01-16T09:31:51.608Z"
   },
   {
    "duration": 9,
    "start_time": "2023-01-16T09:31:51.629Z"
   },
   {
    "duration": 20,
    "start_time": "2023-01-16T09:31:51.639Z"
   },
   {
    "duration": 3,
    "start_time": "2023-01-16T09:31:51.661Z"
   },
   {
    "duration": 2077,
    "start_time": "2023-01-16T09:31:51.666Z"
   },
   {
    "duration": 11,
    "start_time": "2023-01-16T09:31:53.745Z"
   },
   {
    "duration": 3,
    "start_time": "2023-01-16T09:31:53.758Z"
   },
   {
    "duration": 5,
    "start_time": "2023-01-16T09:31:53.762Z"
   },
   {
    "duration": 69,
    "start_time": "2023-01-16T09:31:53.768Z"
   },
   {
    "duration": 12,
    "start_time": "2023-01-16T09:31:53.839Z"
   },
   {
    "duration": 6,
    "start_time": "2023-01-16T09:31:53.853Z"
   },
   {
    "duration": 18,
    "start_time": "2023-01-16T09:31:53.860Z"
   },
   {
    "duration": 459,
    "start_time": "2023-01-16T09:31:53.879Z"
   },
   {
    "duration": 143,
    "start_time": "2023-01-16T09:31:54.340Z"
   },
   {
    "duration": 25,
    "start_time": "2023-01-16T09:31:54.484Z"
   },
   {
    "duration": 17,
    "start_time": "2023-01-16T09:31:54.510Z"
   },
   {
    "duration": 4,
    "start_time": "2023-01-16T09:31:54.528Z"
   },
   {
    "duration": 348,
    "start_time": "2023-01-16T09:31:54.534Z"
   },
   {
    "duration": 133,
    "start_time": "2023-01-16T09:31:54.883Z"
   },
   {
    "duration": 213,
    "start_time": "2023-01-16T09:31:55.018Z"
   },
   {
    "duration": 158,
    "start_time": "2023-01-16T09:31:55.234Z"
   },
   {
    "duration": 161,
    "start_time": "2023-01-16T09:31:55.394Z"
   },
   {
    "duration": 173,
    "start_time": "2023-01-16T09:31:55.556Z"
   },
   {
    "duration": 156,
    "start_time": "2023-01-16T09:31:55.731Z"
   },
   {
    "duration": 20,
    "start_time": "2023-01-16T09:31:55.889Z"
   },
   {
    "duration": 5,
    "start_time": "2023-01-16T09:31:55.910Z"
   },
   {
    "duration": 62,
    "start_time": "2023-01-16T09:31:55.917Z"
   },
   {
    "duration": 4,
    "start_time": "2023-01-16T09:31:55.997Z"
   },
   {
    "duration": 9,
    "start_time": "2023-01-16T09:32:16.243Z"
   },
   {
    "duration": 403,
    "start_time": "2023-01-16T09:37:44.434Z"
   },
   {
    "duration": 104,
    "start_time": "2023-01-16T09:37:44.840Z"
   },
   {
    "duration": 22,
    "start_time": "2023-01-16T09:37:44.947Z"
   },
   {
    "duration": 41,
    "start_time": "2023-01-16T09:37:44.971Z"
   },
   {
    "duration": 10,
    "start_time": "2023-01-16T09:37:45.014Z"
   },
   {
    "duration": 22,
    "start_time": "2023-01-16T09:37:45.026Z"
   },
   {
    "duration": 8,
    "start_time": "2023-01-16T09:37:45.050Z"
   },
   {
    "duration": 23,
    "start_time": "2023-01-16T09:37:45.061Z"
   },
   {
    "duration": 16,
    "start_time": "2023-01-16T09:37:45.085Z"
   },
   {
    "duration": 10,
    "start_time": "2023-01-16T09:37:45.103Z"
   },
   {
    "duration": 19,
    "start_time": "2023-01-16T09:37:45.115Z"
   },
   {
    "duration": 8,
    "start_time": "2023-01-16T09:37:45.135Z"
   },
   {
    "duration": 21,
    "start_time": "2023-01-16T09:37:45.144Z"
   },
   {
    "duration": 3,
    "start_time": "2023-01-16T09:37:45.166Z"
   },
   {
    "duration": 29,
    "start_time": "2023-01-16T09:37:45.171Z"
   },
   {
    "duration": 8,
    "start_time": "2023-01-16T09:37:45.201Z"
   },
   {
    "duration": 6,
    "start_time": "2023-01-16T09:37:45.210Z"
   },
   {
    "duration": 11,
    "start_time": "2023-01-16T09:37:45.217Z"
   },
   {
    "duration": 11,
    "start_time": "2023-01-16T09:37:45.229Z"
   },
   {
    "duration": 5,
    "start_time": "2023-01-16T09:37:45.241Z"
   },
   {
    "duration": 8,
    "start_time": "2023-01-16T09:37:45.248Z"
   },
   {
    "duration": 19,
    "start_time": "2023-01-16T09:37:45.258Z"
   },
   {
    "duration": 27,
    "start_time": "2023-01-16T09:37:45.279Z"
   },
   {
    "duration": 5,
    "start_time": "2023-01-16T09:37:45.307Z"
   },
   {
    "duration": 7,
    "start_time": "2023-01-16T09:37:45.313Z"
   },
   {
    "duration": 9,
    "start_time": "2023-01-16T09:37:45.322Z"
   },
   {
    "duration": 11,
    "start_time": "2023-01-16T09:37:45.333Z"
   },
   {
    "duration": 4,
    "start_time": "2023-01-16T09:37:45.347Z"
   },
   {
    "duration": 14,
    "start_time": "2023-01-16T09:37:45.352Z"
   },
   {
    "duration": 17,
    "start_time": "2023-01-16T09:37:45.397Z"
   },
   {
    "duration": 12,
    "start_time": "2023-01-16T09:37:45.417Z"
   },
   {
    "duration": 7,
    "start_time": "2023-01-16T09:37:45.430Z"
   },
   {
    "duration": 15,
    "start_time": "2023-01-16T09:37:45.438Z"
   },
   {
    "duration": 21,
    "start_time": "2023-01-16T09:37:45.454Z"
   },
   {
    "duration": 6,
    "start_time": "2023-01-16T09:37:45.477Z"
   },
   {
    "duration": 30,
    "start_time": "2023-01-16T09:37:45.497Z"
   },
   {
    "duration": 5,
    "start_time": "2023-01-16T09:37:45.529Z"
   },
   {
    "duration": 2162,
    "start_time": "2023-01-16T09:37:45.535Z"
   },
   {
    "duration": 12,
    "start_time": "2023-01-16T09:37:47.699Z"
   },
   {
    "duration": 11,
    "start_time": "2023-01-16T09:37:47.713Z"
   },
   {
    "duration": 10,
    "start_time": "2023-01-16T09:37:47.726Z"
   },
   {
    "duration": 75,
    "start_time": "2023-01-16T09:37:47.738Z"
   },
   {
    "duration": 15,
    "start_time": "2023-01-16T09:37:47.815Z"
   },
   {
    "duration": 13,
    "start_time": "2023-01-16T09:37:47.832Z"
   },
   {
    "duration": 28,
    "start_time": "2023-01-16T09:37:47.847Z"
   },
   {
    "duration": 316,
    "start_time": "2023-01-16T09:37:47.877Z"
   },
   {
    "duration": 139,
    "start_time": "2023-01-16T09:37:48.197Z"
   },
   {
    "duration": 18,
    "start_time": "2023-01-16T09:37:48.338Z"
   },
   {
    "duration": 86,
    "start_time": "2023-01-16T09:37:48.358Z"
   },
   {
    "duration": 13,
    "start_time": "2023-01-16T09:37:48.446Z"
   },
   {
    "duration": 305,
    "start_time": "2023-01-16T09:37:48.461Z"
   },
   {
    "duration": 133,
    "start_time": "2023-01-16T09:37:48.768Z"
   },
   {
    "duration": 172,
    "start_time": "2023-01-16T09:37:48.903Z"
   },
   {
    "duration": 229,
    "start_time": "2023-01-16T09:37:49.077Z"
   },
   {
    "duration": 179,
    "start_time": "2023-01-16T09:37:49.308Z"
   },
   {
    "duration": 167,
    "start_time": "2023-01-16T09:37:49.489Z"
   },
   {
    "duration": 165,
    "start_time": "2023-01-16T09:37:49.658Z"
   },
   {
    "duration": 15,
    "start_time": "2023-01-16T09:37:49.824Z"
   },
   {
    "duration": 5,
    "start_time": "2023-01-16T09:37:49.840Z"
   },
   {
    "duration": 80,
    "start_time": "2023-01-16T09:37:49.846Z"
   },
   {
    "duration": 4,
    "start_time": "2023-01-16T09:37:49.928Z"
   },
   {
    "duration": 15,
    "start_time": "2023-01-16T09:37:49.933Z"
   },
   {
    "duration": 159,
    "start_time": "2023-01-16T09:40:05.691Z"
   },
   {
    "duration": 159,
    "start_time": "2023-01-16T09:40:10.396Z"
   },
   {
    "duration": 52,
    "start_time": "2023-01-16T15:42:50.243Z"
   },
   {
    "duration": 428,
    "start_time": "2023-01-16T15:43:01.470Z"
   },
   {
    "duration": 220,
    "start_time": "2023-01-16T15:43:01.900Z"
   },
   {
    "duration": 14,
    "start_time": "2023-01-16T15:43:02.122Z"
   },
   {
    "duration": 110,
    "start_time": "2023-01-16T15:43:02.138Z"
   },
   {
    "duration": 10,
    "start_time": "2023-01-16T15:43:02.250Z"
   },
   {
    "duration": 24,
    "start_time": "2023-01-16T15:43:02.262Z"
   },
   {
    "duration": 9,
    "start_time": "2023-01-16T15:43:02.288Z"
   },
   {
    "duration": 27,
    "start_time": "2023-01-16T15:43:02.299Z"
   },
   {
    "duration": 26,
    "start_time": "2023-01-16T15:43:02.328Z"
   },
   {
    "duration": 26,
    "start_time": "2023-01-16T15:43:02.357Z"
   },
   {
    "duration": 40,
    "start_time": "2023-01-16T15:43:02.385Z"
   },
   {
    "duration": 21,
    "start_time": "2023-01-16T15:43:02.427Z"
   },
   {
    "duration": 47,
    "start_time": "2023-01-16T15:43:02.450Z"
   },
   {
    "duration": 26,
    "start_time": "2023-01-16T15:43:02.499Z"
   },
   {
    "duration": 21,
    "start_time": "2023-01-16T15:43:02.527Z"
   },
   {
    "duration": 9,
    "start_time": "2023-01-16T15:43:02.550Z"
   },
   {
    "duration": 8,
    "start_time": "2023-01-16T15:43:02.561Z"
   },
   {
    "duration": 9,
    "start_time": "2023-01-16T15:43:02.570Z"
   },
   {
    "duration": 26,
    "start_time": "2023-01-16T15:43:02.580Z"
   },
   {
    "duration": 16,
    "start_time": "2023-01-16T15:43:02.608Z"
   },
   {
    "duration": 7,
    "start_time": "2023-01-16T15:43:02.626Z"
   },
   {
    "duration": 21,
    "start_time": "2023-01-16T15:43:02.634Z"
   },
   {
    "duration": 10,
    "start_time": "2023-01-16T15:43:02.657Z"
   },
   {
    "duration": 10,
    "start_time": "2023-01-16T15:43:02.669Z"
   },
   {
    "duration": 21,
    "start_time": "2023-01-16T15:43:02.680Z"
   },
   {
    "duration": 24,
    "start_time": "2023-01-16T15:43:02.703Z"
   },
   {
    "duration": 21,
    "start_time": "2023-01-16T15:43:02.729Z"
   },
   {
    "duration": 5,
    "start_time": "2023-01-16T15:43:02.754Z"
   },
   {
    "duration": 20,
    "start_time": "2023-01-16T15:43:02.761Z"
   },
   {
    "duration": 16,
    "start_time": "2023-01-16T15:43:02.783Z"
   },
   {
    "duration": 20,
    "start_time": "2023-01-16T15:43:02.801Z"
   },
   {
    "duration": 11,
    "start_time": "2023-01-16T15:43:02.822Z"
   },
   {
    "duration": 20,
    "start_time": "2023-01-16T15:43:02.835Z"
   },
   {
    "duration": 25,
    "start_time": "2023-01-16T15:43:02.857Z"
   },
   {
    "duration": 7,
    "start_time": "2023-01-16T15:43:02.883Z"
   },
   {
    "duration": 22,
    "start_time": "2023-01-16T15:43:02.892Z"
   },
   {
    "duration": 11,
    "start_time": "2023-01-16T15:43:02.916Z"
   },
   {
    "duration": 2619,
    "start_time": "2023-01-16T15:43:02.928Z"
   },
   {
    "duration": 14,
    "start_time": "2023-01-16T15:43:05.549Z"
   },
   {
    "duration": 4,
    "start_time": "2023-01-16T15:43:05.565Z"
   },
   {
    "duration": 6,
    "start_time": "2023-01-16T15:43:05.571Z"
   },
   {
    "duration": 85,
    "start_time": "2023-01-16T15:43:05.579Z"
   },
   {
    "duration": 16,
    "start_time": "2023-01-16T15:43:05.666Z"
   },
   {
    "duration": 22,
    "start_time": "2023-01-16T15:43:05.683Z"
   },
   {
    "duration": 46,
    "start_time": "2023-01-16T15:43:05.707Z"
   },
   {
    "duration": 529,
    "start_time": "2023-01-16T15:43:05.755Z"
   },
   {
    "duration": 211,
    "start_time": "2023-01-16T15:43:06.286Z"
   },
   {
    "duration": 21,
    "start_time": "2023-01-16T15:43:06.499Z"
   },
   {
    "duration": 33,
    "start_time": "2023-01-16T15:43:06.522Z"
   },
   {
    "duration": 5,
    "start_time": "2023-01-16T15:43:06.557Z"
   },
   {
    "duration": 355,
    "start_time": "2023-01-16T15:43:06.563Z"
   },
   {
    "duration": 5,
    "start_time": "2023-01-16T15:43:06.920Z"
   },
   {
    "duration": 15,
    "start_time": "2023-01-16T15:43:06.927Z"
   },
   {
    "duration": 58,
    "start_time": "2023-01-16T15:43:06.944Z"
   },
   {
    "duration": 0,
    "start_time": "2023-01-16T15:43:07.003Z"
   },
   {
    "duration": 0,
    "start_time": "2023-01-16T15:43:07.005Z"
   },
   {
    "duration": 0,
    "start_time": "2023-01-16T15:43:07.006Z"
   },
   {
    "duration": 0,
    "start_time": "2023-01-16T15:43:07.007Z"
   },
   {
    "duration": 1,
    "start_time": "2023-01-16T15:43:07.008Z"
   },
   {
    "duration": 0,
    "start_time": "2023-01-16T15:43:07.010Z"
   },
   {
    "duration": 173,
    "start_time": "2023-01-16T15:43:30.036Z"
   },
   {
    "duration": 49,
    "start_time": "2023-01-16T15:43:33.278Z"
   },
   {
    "duration": 192,
    "start_time": "2023-01-16T15:43:38.987Z"
   },
   {
    "duration": 92,
    "start_time": "2023-01-16T15:43:46.885Z"
   },
   {
    "duration": 11,
    "start_time": "2023-01-16T15:46:03.027Z"
   },
   {
    "duration": 11,
    "start_time": "2023-01-16T15:46:51.647Z"
   },
   {
    "duration": 441,
    "start_time": "2023-01-16T17:36:08.432Z"
   },
   {
    "duration": 105,
    "start_time": "2023-01-16T17:36:08.875Z"
   },
   {
    "duration": 19,
    "start_time": "2023-01-16T17:36:08.982Z"
   },
   {
    "duration": 40,
    "start_time": "2023-01-16T17:36:09.004Z"
   },
   {
    "duration": 11,
    "start_time": "2023-01-16T17:36:09.046Z"
   },
   {
    "duration": 11,
    "start_time": "2023-01-16T17:36:09.059Z"
   },
   {
    "duration": 11,
    "start_time": "2023-01-16T17:36:09.072Z"
   },
   {
    "duration": 16,
    "start_time": "2023-01-16T17:36:09.084Z"
   },
   {
    "duration": 13,
    "start_time": "2023-01-16T17:36:09.102Z"
   },
   {
    "duration": 37,
    "start_time": "2023-01-16T17:36:09.118Z"
   },
   {
    "duration": 18,
    "start_time": "2023-01-16T17:36:09.158Z"
   },
   {
    "duration": 9,
    "start_time": "2023-01-16T17:36:09.178Z"
   },
   {
    "duration": 24,
    "start_time": "2023-01-16T17:36:09.189Z"
   },
   {
    "duration": 4,
    "start_time": "2023-01-16T17:36:09.214Z"
   },
   {
    "duration": 35,
    "start_time": "2023-01-16T17:36:09.220Z"
   },
   {
    "duration": 12,
    "start_time": "2023-01-16T17:36:09.257Z"
   },
   {
    "duration": 12,
    "start_time": "2023-01-16T17:36:09.271Z"
   },
   {
    "duration": 9,
    "start_time": "2023-01-16T17:36:09.284Z"
   },
   {
    "duration": 24,
    "start_time": "2023-01-16T17:36:09.294Z"
   },
   {
    "duration": 10,
    "start_time": "2023-01-16T17:36:09.320Z"
   },
   {
    "duration": 10,
    "start_time": "2023-01-16T17:36:09.332Z"
   },
   {
    "duration": 30,
    "start_time": "2023-01-16T17:36:09.343Z"
   },
   {
    "duration": 9,
    "start_time": "2023-01-16T17:36:09.375Z"
   },
   {
    "duration": 5,
    "start_time": "2023-01-16T17:36:09.386Z"
   },
   {
    "duration": 12,
    "start_time": "2023-01-16T17:36:09.393Z"
   },
   {
    "duration": 14,
    "start_time": "2023-01-16T17:36:09.406Z"
   },
   {
    "duration": 19,
    "start_time": "2023-01-16T17:36:09.421Z"
   },
   {
    "duration": 14,
    "start_time": "2023-01-16T17:36:09.443Z"
   },
   {
    "duration": 13,
    "start_time": "2023-01-16T17:36:09.458Z"
   },
   {
    "duration": 8,
    "start_time": "2023-01-16T17:36:09.472Z"
   },
   {
    "duration": 12,
    "start_time": "2023-01-16T17:36:09.482Z"
   },
   {
    "duration": 6,
    "start_time": "2023-01-16T17:36:09.496Z"
   },
   {
    "duration": 19,
    "start_time": "2023-01-16T17:36:09.504Z"
   },
   {
    "duration": 42,
    "start_time": "2023-01-16T17:36:09.525Z"
   },
   {
    "duration": 5,
    "start_time": "2023-01-16T17:36:09.568Z"
   },
   {
    "duration": 22,
    "start_time": "2023-01-16T17:36:09.575Z"
   },
   {
    "duration": 5,
    "start_time": "2023-01-16T17:36:09.599Z"
   },
   {
    "duration": 2426,
    "start_time": "2023-01-16T17:36:09.605Z"
   },
   {
    "duration": 13,
    "start_time": "2023-01-16T17:36:12.033Z"
   },
   {
    "duration": 27,
    "start_time": "2023-01-16T17:36:12.055Z"
   },
   {
    "duration": 56,
    "start_time": "2023-01-16T17:36:12.084Z"
   },
   {
    "duration": 79,
    "start_time": "2023-01-16T17:36:12.142Z"
   },
   {
    "duration": 15,
    "start_time": "2023-01-16T17:36:12.223Z"
   },
   {
    "duration": 70,
    "start_time": "2023-01-16T17:36:12.240Z"
   },
   {
    "duration": 47,
    "start_time": "2023-01-16T17:36:12.312Z"
   },
   {
    "duration": 368,
    "start_time": "2023-01-16T17:36:12.361Z"
   },
   {
    "duration": 156,
    "start_time": "2023-01-16T17:36:12.731Z"
   },
   {
    "duration": 19,
    "start_time": "2023-01-16T17:36:12.889Z"
   },
   {
    "duration": 37,
    "start_time": "2023-01-16T17:36:12.910Z"
   },
   {
    "duration": 36,
    "start_time": "2023-01-16T17:36:12.954Z"
   },
   {
    "duration": 383,
    "start_time": "2023-01-16T17:36:12.992Z"
   },
   {
    "duration": 5,
    "start_time": "2023-01-16T17:36:13.376Z"
   },
   {
    "duration": 37,
    "start_time": "2023-01-16T17:36:13.383Z"
   },
   {
    "duration": 195,
    "start_time": "2023-01-16T17:36:13.421Z"
   },
   {
    "duration": 199,
    "start_time": "2023-01-16T17:36:13.617Z"
   },
   {
    "duration": 84,
    "start_time": "2023-01-16T17:36:13.818Z"
   },
   {
    "duration": 0,
    "start_time": "2023-01-16T17:36:13.904Z"
   },
   {
    "duration": 0,
    "start_time": "2023-01-16T17:36:13.904Z"
   },
   {
    "duration": 0,
    "start_time": "2023-01-16T17:36:13.906Z"
   },
   {
    "duration": 0,
    "start_time": "2023-01-16T17:36:13.907Z"
   },
   {
    "duration": 434,
    "start_time": "2023-01-16T17:37:17.632Z"
   },
   {
    "duration": 95,
    "start_time": "2023-01-16T17:37:18.069Z"
   },
   {
    "duration": 16,
    "start_time": "2023-01-16T17:37:18.166Z"
   },
   {
    "duration": 48,
    "start_time": "2023-01-16T17:37:18.184Z"
   },
   {
    "duration": 10,
    "start_time": "2023-01-16T17:37:18.234Z"
   },
   {
    "duration": 14,
    "start_time": "2023-01-16T17:37:18.245Z"
   },
   {
    "duration": 7,
    "start_time": "2023-01-16T17:37:18.261Z"
   },
   {
    "duration": 16,
    "start_time": "2023-01-16T17:37:18.270Z"
   },
   {
    "duration": 11,
    "start_time": "2023-01-16T17:37:18.288Z"
   },
   {
    "duration": 10,
    "start_time": "2023-01-16T17:37:18.301Z"
   },
   {
    "duration": 17,
    "start_time": "2023-01-16T17:37:18.312Z"
   },
   {
    "duration": 31,
    "start_time": "2023-01-16T17:37:18.331Z"
   },
   {
    "duration": 21,
    "start_time": "2023-01-16T17:37:18.364Z"
   },
   {
    "duration": 4,
    "start_time": "2023-01-16T17:37:18.388Z"
   },
   {
    "duration": 15,
    "start_time": "2023-01-16T17:37:18.393Z"
   },
   {
    "duration": 8,
    "start_time": "2023-01-16T17:37:18.410Z"
   },
   {
    "duration": 11,
    "start_time": "2023-01-16T17:37:18.420Z"
   },
   {
    "duration": 22,
    "start_time": "2023-01-16T17:37:18.433Z"
   },
   {
    "duration": 9,
    "start_time": "2023-01-16T17:37:18.457Z"
   },
   {
    "duration": 5,
    "start_time": "2023-01-16T17:37:18.468Z"
   },
   {
    "duration": 6,
    "start_time": "2023-01-16T17:37:18.474Z"
   },
   {
    "duration": 19,
    "start_time": "2023-01-16T17:37:18.482Z"
   },
   {
    "duration": 10,
    "start_time": "2023-01-16T17:37:18.503Z"
   },
   {
    "duration": 14,
    "start_time": "2023-01-16T17:37:18.514Z"
   },
   {
    "duration": 30,
    "start_time": "2023-01-16T17:37:18.529Z"
   },
   {
    "duration": 18,
    "start_time": "2023-01-16T17:37:18.561Z"
   },
   {
    "duration": 23,
    "start_time": "2023-01-16T17:37:18.581Z"
   },
   {
    "duration": 6,
    "start_time": "2023-01-16T17:37:18.606Z"
   },
   {
    "duration": 14,
    "start_time": "2023-01-16T17:37:18.614Z"
   },
   {
    "duration": 10,
    "start_time": "2023-01-16T17:37:18.629Z"
   },
   {
    "duration": 10,
    "start_time": "2023-01-16T17:37:18.654Z"
   },
   {
    "duration": 19,
    "start_time": "2023-01-16T17:37:18.666Z"
   },
   {
    "duration": 33,
    "start_time": "2023-01-16T17:37:18.687Z"
   },
   {
    "duration": 27,
    "start_time": "2023-01-16T17:37:18.721Z"
   },
   {
    "duration": 19,
    "start_time": "2023-01-16T17:37:18.750Z"
   },
   {
    "duration": 21,
    "start_time": "2023-01-16T17:37:18.770Z"
   },
   {
    "duration": 12,
    "start_time": "2023-01-16T17:37:18.793Z"
   },
   {
    "duration": 2339,
    "start_time": "2023-01-16T17:37:18.807Z"
   },
   {
    "duration": 17,
    "start_time": "2023-01-16T17:37:21.148Z"
   },
   {
    "duration": 9,
    "start_time": "2023-01-16T17:37:21.167Z"
   },
   {
    "duration": 10,
    "start_time": "2023-01-16T17:37:21.180Z"
   },
   {
    "duration": 82,
    "start_time": "2023-01-16T17:37:21.191Z"
   },
   {
    "duration": 15,
    "start_time": "2023-01-16T17:37:21.274Z"
   },
   {
    "duration": 16,
    "start_time": "2023-01-16T17:37:21.291Z"
   },
   {
    "duration": 28,
    "start_time": "2023-01-16T17:37:21.309Z"
   },
   {
    "duration": 345,
    "start_time": "2023-01-16T17:37:21.339Z"
   },
   {
    "duration": 147,
    "start_time": "2023-01-16T17:37:21.686Z"
   },
   {
    "duration": 28,
    "start_time": "2023-01-16T17:37:21.835Z"
   },
   {
    "duration": 70,
    "start_time": "2023-01-16T17:37:21.865Z"
   },
   {
    "duration": 18,
    "start_time": "2023-01-16T17:37:21.937Z"
   },
   {
    "duration": 341,
    "start_time": "2023-01-16T17:37:21.957Z"
   },
   {
    "duration": 5,
    "start_time": "2023-01-16T17:37:22.300Z"
   },
   {
    "duration": 34,
    "start_time": "2023-01-16T17:37:22.307Z"
   },
   {
    "duration": 178,
    "start_time": "2023-01-16T17:37:22.344Z"
   },
   {
    "duration": 186,
    "start_time": "2023-01-16T17:37:22.523Z"
   },
   {
    "duration": 164,
    "start_time": "2023-01-16T17:37:22.711Z"
   },
   {
    "duration": 165,
    "start_time": "2023-01-16T17:37:22.877Z"
   },
   {
    "duration": 172,
    "start_time": "2023-01-16T17:37:23.044Z"
   },
   {
    "duration": 184,
    "start_time": "2023-01-16T17:37:23.218Z"
   },
   {
    "duration": 1213,
    "start_time": "2023-01-16T17:37:23.403Z"
   },
   {
    "duration": 324,
    "start_time": "2023-01-16T17:39:00.297Z"
   },
   {
    "duration": 280,
    "start_time": "2023-01-16T17:43:08.714Z"
   },
   {
    "duration": 315,
    "start_time": "2023-01-16T17:43:25.619Z"
   },
   {
    "duration": 258,
    "start_time": "2023-01-16T17:45:23.214Z"
   },
   {
    "duration": 446,
    "start_time": "2023-01-16T17:58:16.750Z"
   },
   {
    "duration": 117,
    "start_time": "2023-01-16T17:58:17.198Z"
   },
   {
    "duration": 17,
    "start_time": "2023-01-16T17:58:17.316Z"
   },
   {
    "duration": 52,
    "start_time": "2023-01-16T17:58:17.335Z"
   },
   {
    "duration": 11,
    "start_time": "2023-01-16T17:58:17.389Z"
   },
   {
    "duration": 12,
    "start_time": "2023-01-16T17:58:17.402Z"
   },
   {
    "duration": 10,
    "start_time": "2023-01-16T17:58:17.416Z"
   },
   {
    "duration": 20,
    "start_time": "2023-01-16T17:58:17.428Z"
   },
   {
    "duration": 27,
    "start_time": "2023-01-16T17:58:17.450Z"
   },
   {
    "duration": 13,
    "start_time": "2023-01-16T17:58:17.479Z"
   },
   {
    "duration": 18,
    "start_time": "2023-01-16T17:58:17.494Z"
   },
   {
    "duration": 9,
    "start_time": "2023-01-16T17:58:17.514Z"
   },
   {
    "duration": 49,
    "start_time": "2023-01-16T17:58:17.525Z"
   },
   {
    "duration": 4,
    "start_time": "2023-01-16T17:58:17.577Z"
   },
   {
    "duration": 11,
    "start_time": "2023-01-16T17:58:17.582Z"
   },
   {
    "duration": 9,
    "start_time": "2023-01-16T17:58:17.595Z"
   },
   {
    "duration": 7,
    "start_time": "2023-01-16T17:58:17.605Z"
   },
   {
    "duration": 8,
    "start_time": "2023-01-16T17:58:17.614Z"
   },
   {
    "duration": 33,
    "start_time": "2023-01-16T17:58:17.624Z"
   },
   {
    "duration": 10,
    "start_time": "2023-01-16T17:58:17.665Z"
   },
   {
    "duration": 9,
    "start_time": "2023-01-16T17:58:17.677Z"
   },
   {
    "duration": 19,
    "start_time": "2023-01-16T17:58:17.688Z"
   },
   {
    "duration": 11,
    "start_time": "2023-01-16T17:58:17.708Z"
   },
   {
    "duration": 6,
    "start_time": "2023-01-16T17:58:17.721Z"
   },
   {
    "duration": 45,
    "start_time": "2023-01-16T17:58:17.729Z"
   },
   {
    "duration": 11,
    "start_time": "2023-01-16T17:58:17.776Z"
   },
   {
    "duration": 12,
    "start_time": "2023-01-16T17:58:17.789Z"
   },
   {
    "duration": 6,
    "start_time": "2023-01-16T17:58:17.803Z"
   },
   {
    "duration": 17,
    "start_time": "2023-01-16T17:58:17.811Z"
   },
   {
    "duration": 31,
    "start_time": "2023-01-16T17:58:17.830Z"
   },
   {
    "duration": 20,
    "start_time": "2023-01-16T17:58:17.865Z"
   },
   {
    "duration": 5,
    "start_time": "2023-01-16T17:58:17.887Z"
   },
   {
    "duration": 19,
    "start_time": "2023-01-16T17:58:17.894Z"
   },
   {
    "duration": 24,
    "start_time": "2023-01-16T17:58:17.914Z"
   },
   {
    "duration": 9,
    "start_time": "2023-01-16T17:58:17.954Z"
   },
   {
    "duration": 20,
    "start_time": "2023-01-16T17:58:17.971Z"
   },
   {
    "duration": 5,
    "start_time": "2023-01-16T17:58:17.993Z"
   },
   {
    "duration": 2609,
    "start_time": "2023-01-16T17:58:18.000Z"
   },
   {
    "duration": 14,
    "start_time": "2023-01-16T17:58:20.611Z"
   },
   {
    "duration": 5,
    "start_time": "2023-01-16T17:58:20.628Z"
   },
   {
    "duration": 5,
    "start_time": "2023-01-16T17:58:20.656Z"
   },
   {
    "duration": 83,
    "start_time": "2023-01-16T17:58:20.662Z"
   },
   {
    "duration": 27,
    "start_time": "2023-01-16T17:58:20.746Z"
   },
   {
    "duration": 7,
    "start_time": "2023-01-16T17:58:20.775Z"
   },
   {
    "duration": 29,
    "start_time": "2023-01-16T17:58:20.784Z"
   },
   {
    "duration": 400,
    "start_time": "2023-01-16T17:58:20.814Z"
   },
   {
    "duration": 169,
    "start_time": "2023-01-16T17:58:21.216Z"
   },
   {
    "duration": 22,
    "start_time": "2023-01-16T17:58:21.387Z"
   },
   {
    "duration": 98,
    "start_time": "2023-01-16T17:58:21.411Z"
   },
   {
    "duration": 5,
    "start_time": "2023-01-16T17:58:21.511Z"
   },
   {
    "duration": 380,
    "start_time": "2023-01-16T17:58:21.518Z"
   },
   {
    "duration": 6,
    "start_time": "2023-01-16T17:58:21.900Z"
   },
   {
    "duration": 16,
    "start_time": "2023-01-16T17:58:21.907Z"
   },
   {
    "duration": 182,
    "start_time": "2023-01-16T17:58:21.925Z"
   },
   {
    "duration": 209,
    "start_time": "2023-01-16T17:58:22.109Z"
   },
   {
    "duration": 192,
    "start_time": "2023-01-16T17:58:22.320Z"
   },
   {
    "duration": 192,
    "start_time": "2023-01-16T17:58:22.514Z"
   },
   {
    "duration": 201,
    "start_time": "2023-01-16T17:58:22.707Z"
   },
   {
    "duration": 207,
    "start_time": "2023-01-16T17:58:22.910Z"
   },
   {
    "duration": 279,
    "start_time": "2023-01-16T17:58:23.119Z"
   },
   {
    "duration": 255,
    "start_time": "2023-01-16T17:59:30.212Z"
   },
   {
    "duration": 238,
    "start_time": "2023-01-16T17:59:41.698Z"
   },
   {
    "duration": 350,
    "start_time": "2023-01-16T18:00:17.029Z"
   },
   {
    "duration": 393,
    "start_time": "2023-01-16T18:03:08.729Z"
   },
   {
    "duration": 306,
    "start_time": "2023-01-16T18:04:35.315Z"
   },
   {
    "duration": 161,
    "start_time": "2023-01-16T18:06:47.080Z"
   },
   {
    "duration": 448,
    "start_time": "2023-01-16T18:07:16.324Z"
   },
   {
    "duration": 97,
    "start_time": "2023-01-16T18:07:16.774Z"
   },
   {
    "duration": 17,
    "start_time": "2023-01-16T18:07:16.873Z"
   },
   {
    "duration": 40,
    "start_time": "2023-01-16T18:07:16.892Z"
   },
   {
    "duration": 13,
    "start_time": "2023-01-16T18:07:16.934Z"
   },
   {
    "duration": 8,
    "start_time": "2023-01-16T18:07:16.949Z"
   },
   {
    "duration": 17,
    "start_time": "2023-01-16T18:07:16.959Z"
   },
   {
    "duration": 23,
    "start_time": "2023-01-16T18:07:16.978Z"
   },
   {
    "duration": 13,
    "start_time": "2023-01-16T18:07:17.003Z"
   },
   {
    "duration": 10,
    "start_time": "2023-01-16T18:07:17.019Z"
   },
   {
    "duration": 32,
    "start_time": "2023-01-16T18:07:17.030Z"
   },
   {
    "duration": 13,
    "start_time": "2023-01-16T18:07:17.064Z"
   },
   {
    "duration": 21,
    "start_time": "2023-01-16T18:07:17.080Z"
   },
   {
    "duration": 3,
    "start_time": "2023-01-16T18:07:17.103Z"
   },
   {
    "duration": 11,
    "start_time": "2023-01-16T18:07:17.108Z"
   },
   {
    "duration": 7,
    "start_time": "2023-01-16T18:07:17.121Z"
   },
   {
    "duration": 5,
    "start_time": "2023-01-16T18:07:17.155Z"
   },
   {
    "duration": 12,
    "start_time": "2023-01-16T18:07:17.162Z"
   },
   {
    "duration": 26,
    "start_time": "2023-01-16T18:07:17.175Z"
   },
   {
    "duration": 9,
    "start_time": "2023-01-16T18:07:17.202Z"
   },
   {
    "duration": 7,
    "start_time": "2023-01-16T18:07:17.213Z"
   },
   {
    "duration": 33,
    "start_time": "2023-01-16T18:07:17.222Z"
   },
   {
    "duration": 10,
    "start_time": "2023-01-16T18:07:17.257Z"
   },
   {
    "duration": 12,
    "start_time": "2023-01-16T18:07:17.268Z"
   },
   {
    "duration": 11,
    "start_time": "2023-01-16T18:07:17.281Z"
   },
   {
    "duration": 20,
    "start_time": "2023-01-16T18:07:17.293Z"
   },
   {
    "duration": 20,
    "start_time": "2023-01-16T18:07:17.315Z"
   },
   {
    "duration": 6,
    "start_time": "2023-01-16T18:07:17.354Z"
   },
   {
    "duration": 15,
    "start_time": "2023-01-16T18:07:17.361Z"
   },
   {
    "duration": 8,
    "start_time": "2023-01-16T18:07:17.378Z"
   },
   {
    "duration": 28,
    "start_time": "2023-01-16T18:07:17.388Z"
   },
   {
    "duration": 13,
    "start_time": "2023-01-16T18:07:17.417Z"
   },
   {
    "duration": 27,
    "start_time": "2023-01-16T18:07:17.431Z"
   },
   {
    "duration": 22,
    "start_time": "2023-01-16T18:07:17.460Z"
   },
   {
    "duration": 8,
    "start_time": "2023-01-16T18:07:17.484Z"
   },
   {
    "duration": 29,
    "start_time": "2023-01-16T18:07:17.493Z"
   },
   {
    "duration": 26,
    "start_time": "2023-01-16T18:07:17.524Z"
   },
   {
    "duration": 2416,
    "start_time": "2023-01-16T18:07:17.551Z"
   },
   {
    "duration": 13,
    "start_time": "2023-01-16T18:07:19.969Z"
   },
   {
    "duration": 62,
    "start_time": "2023-01-16T18:07:19.983Z"
   },
   {
    "duration": 44,
    "start_time": "2023-01-16T18:07:20.047Z"
   },
   {
    "duration": 117,
    "start_time": "2023-01-16T18:07:20.093Z"
   },
   {
    "duration": 19,
    "start_time": "2023-01-16T18:07:20.212Z"
   },
   {
    "duration": 35,
    "start_time": "2023-01-16T18:07:20.233Z"
   },
   {
    "duration": 51,
    "start_time": "2023-01-16T18:07:20.270Z"
   },
   {
    "duration": 408,
    "start_time": "2023-01-16T18:07:20.323Z"
   },
   {
    "duration": 179,
    "start_time": "2023-01-16T18:07:20.733Z"
   },
   {
    "duration": 22,
    "start_time": "2023-01-16T18:07:20.913Z"
   },
   {
    "duration": 99,
    "start_time": "2023-01-16T18:07:20.937Z"
   },
   {
    "duration": 17,
    "start_time": "2023-01-16T18:07:21.038Z"
   },
   {
    "duration": 353,
    "start_time": "2023-01-16T18:07:21.057Z"
   },
   {
    "duration": 5,
    "start_time": "2023-01-16T18:07:21.412Z"
   },
   {
    "duration": 39,
    "start_time": "2023-01-16T18:07:21.419Z"
   },
   {
    "duration": 187,
    "start_time": "2023-01-16T18:07:21.461Z"
   },
   {
    "duration": 190,
    "start_time": "2023-01-16T18:07:21.655Z"
   },
   {
    "duration": 177,
    "start_time": "2023-01-16T18:07:21.847Z"
   },
   {
    "duration": 182,
    "start_time": "2023-01-16T18:07:22.026Z"
   },
   {
    "duration": 200,
    "start_time": "2023-01-16T18:07:22.210Z"
   },
   {
    "duration": 189,
    "start_time": "2023-01-16T18:07:22.411Z"
   },
   {
    "duration": 51,
    "start_time": "2023-01-17T12:39:21.883Z"
   },
   {
    "duration": 531,
    "start_time": "2023-01-17T12:45:09.889Z"
   },
   {
    "duration": 437,
    "start_time": "2023-01-17T12:45:10.422Z"
   },
   {
    "duration": 24,
    "start_time": "2023-01-17T12:45:10.862Z"
   },
   {
    "duration": 100,
    "start_time": "2023-01-17T12:45:10.889Z"
   },
   {
    "duration": 19,
    "start_time": "2023-01-17T12:45:10.992Z"
   },
   {
    "duration": 28,
    "start_time": "2023-01-17T12:45:11.013Z"
   },
   {
    "duration": 28,
    "start_time": "2023-01-17T12:45:11.043Z"
   },
   {
    "duration": 21,
    "start_time": "2023-01-17T12:45:11.073Z"
   },
   {
    "duration": 36,
    "start_time": "2023-01-17T12:45:11.097Z"
   },
   {
    "duration": 26,
    "start_time": "2023-01-17T12:45:11.137Z"
   },
   {
    "duration": 21,
    "start_time": "2023-01-17T12:45:11.166Z"
   },
   {
    "duration": 67,
    "start_time": "2023-01-17T12:45:11.190Z"
   },
   {
    "duration": 44,
    "start_time": "2023-01-17T12:45:11.260Z"
   },
   {
    "duration": 36,
    "start_time": "2023-01-17T12:45:11.306Z"
   },
   {
    "duration": 17,
    "start_time": "2023-01-17T12:45:11.344Z"
   },
   {
    "duration": 13,
    "start_time": "2023-01-17T12:45:11.363Z"
   },
   {
    "duration": 17,
    "start_time": "2023-01-17T12:45:11.377Z"
   },
   {
    "duration": 20,
    "start_time": "2023-01-17T12:45:11.397Z"
   },
   {
    "duration": 13,
    "start_time": "2023-01-17T12:45:11.420Z"
   },
   {
    "duration": 8,
    "start_time": "2023-01-17T12:45:11.435Z"
   },
   {
    "duration": 15,
    "start_time": "2023-01-17T12:45:11.444Z"
   },
   {
    "duration": 38,
    "start_time": "2023-01-17T12:45:11.461Z"
   },
   {
    "duration": 17,
    "start_time": "2023-01-17T12:45:11.502Z"
   },
   {
    "duration": 14,
    "start_time": "2023-01-17T12:45:11.521Z"
   },
   {
    "duration": 10,
    "start_time": "2023-01-17T12:45:11.537Z"
   },
   {
    "duration": 26,
    "start_time": "2023-01-17T12:45:11.549Z"
   },
   {
    "duration": 19,
    "start_time": "2023-01-17T12:45:11.577Z"
   },
   {
    "duration": 7,
    "start_time": "2023-01-17T12:45:11.602Z"
   },
   {
    "duration": 33,
    "start_time": "2023-01-17T12:45:11.611Z"
   },
   {
    "duration": 23,
    "start_time": "2023-01-17T12:45:11.646Z"
   },
   {
    "duration": 17,
    "start_time": "2023-01-17T12:45:11.671Z"
   },
   {
    "duration": 22,
    "start_time": "2023-01-17T12:45:11.691Z"
   },
   {
    "duration": 42,
    "start_time": "2023-01-17T12:45:11.715Z"
   },
   {
    "duration": 12,
    "start_time": "2023-01-17T12:45:11.759Z"
   },
   {
    "duration": 24,
    "start_time": "2023-01-17T12:45:11.773Z"
   },
   {
    "duration": 9,
    "start_time": "2023-01-17T12:45:11.799Z"
   },
   {
    "duration": 3133,
    "start_time": "2023-01-17T12:45:11.810Z"
   },
   {
    "duration": 27,
    "start_time": "2023-01-17T12:45:14.945Z"
   },
   {
    "duration": 57,
    "start_time": "2023-01-17T12:45:14.975Z"
   },
   {
    "duration": 34,
    "start_time": "2023-01-17T12:45:15.034Z"
   },
   {
    "duration": 109,
    "start_time": "2023-01-17T12:45:15.070Z"
   },
   {
    "duration": 22,
    "start_time": "2023-01-17T12:45:15.181Z"
   },
   {
    "duration": 11,
    "start_time": "2023-01-17T12:45:15.206Z"
   },
   {
    "duration": 19,
    "start_time": "2023-01-17T12:45:15.221Z"
   },
   {
    "duration": 519,
    "start_time": "2023-01-17T12:45:15.242Z"
   },
   {
    "duration": 158,
    "start_time": "2023-01-17T12:45:15.763Z"
   },
   {
    "duration": 23,
    "start_time": "2023-01-17T12:45:15.922Z"
   },
   {
    "duration": 94,
    "start_time": "2023-01-17T12:45:15.947Z"
   },
   {
    "duration": 5,
    "start_time": "2023-01-17T12:45:16.043Z"
   },
   {
    "duration": 334,
    "start_time": "2023-01-17T12:45:16.050Z"
   },
   {
    "duration": 6,
    "start_time": "2023-01-17T12:45:16.387Z"
   },
   {
    "duration": 30,
    "start_time": "2023-01-17T12:45:16.395Z"
   },
   {
    "duration": 194,
    "start_time": "2023-01-17T12:45:16.427Z"
   },
   {
    "duration": 204,
    "start_time": "2023-01-17T12:45:16.624Z"
   },
   {
    "duration": 178,
    "start_time": "2023-01-17T12:45:16.830Z"
   },
   {
    "duration": 181,
    "start_time": "2023-01-17T12:45:17.010Z"
   },
   {
    "duration": 178,
    "start_time": "2023-01-17T12:45:17.192Z"
   },
   {
    "duration": 216,
    "start_time": "2023-01-17T12:45:17.372Z"
   },
   {
    "duration": 362,
    "start_time": "2023-01-17T12:49:27.009Z"
   },
   {
    "duration": 90,
    "start_time": "2023-01-17T12:49:27.373Z"
   },
   {
    "duration": 16,
    "start_time": "2023-01-17T12:49:27.465Z"
   },
   {
    "duration": 44,
    "start_time": "2023-01-17T12:49:27.484Z"
   },
   {
    "duration": 9,
    "start_time": "2023-01-17T12:49:27.530Z"
   },
   {
    "duration": 14,
    "start_time": "2023-01-17T12:49:27.541Z"
   },
   {
    "duration": 7,
    "start_time": "2023-01-17T12:49:27.557Z"
   },
   {
    "duration": 9,
    "start_time": "2023-01-17T12:49:27.565Z"
   },
   {
    "duration": 16,
    "start_time": "2023-01-17T12:49:27.575Z"
   },
   {
    "duration": 14,
    "start_time": "2023-01-17T12:49:27.594Z"
   },
   {
    "duration": 11,
    "start_time": "2023-01-17T12:49:27.609Z"
   },
   {
    "duration": 14,
    "start_time": "2023-01-17T12:49:27.622Z"
   },
   {
    "duration": 30,
    "start_time": "2023-01-17T12:49:27.637Z"
   },
   {
    "duration": 21,
    "start_time": "2023-01-17T12:49:27.669Z"
   },
   {
    "duration": 4,
    "start_time": "2023-01-17T12:49:27.692Z"
   },
   {
    "duration": 7,
    "start_time": "2023-01-17T12:49:27.697Z"
   },
   {
    "duration": 7,
    "start_time": "2023-01-17T12:49:27.706Z"
   },
   {
    "duration": 6,
    "start_time": "2023-01-17T12:49:27.715Z"
   },
   {
    "duration": 47,
    "start_time": "2023-01-17T12:49:27.723Z"
   },
   {
    "duration": 7,
    "start_time": "2023-01-17T12:49:27.771Z"
   },
   {
    "duration": 18,
    "start_time": "2023-01-17T12:49:27.779Z"
   },
   {
    "duration": 10,
    "start_time": "2023-01-17T12:49:27.799Z"
   },
   {
    "duration": 8,
    "start_time": "2023-01-17T12:49:27.811Z"
   },
   {
    "duration": 8,
    "start_time": "2023-01-17T12:49:27.821Z"
   },
   {
    "duration": 41,
    "start_time": "2023-01-17T12:49:27.831Z"
   },
   {
    "duration": 11,
    "start_time": "2023-01-17T12:49:27.874Z"
   },
   {
    "duration": 5,
    "start_time": "2023-01-17T12:49:27.886Z"
   },
   {
    "duration": 10,
    "start_time": "2023-01-17T12:49:27.894Z"
   },
   {
    "duration": 7,
    "start_time": "2023-01-17T12:49:27.905Z"
   },
   {
    "duration": 12,
    "start_time": "2023-01-17T12:49:27.914Z"
   },
   {
    "duration": 48,
    "start_time": "2023-01-17T12:49:27.927Z"
   },
   {
    "duration": 21,
    "start_time": "2023-01-17T12:49:27.978Z"
   },
   {
    "duration": 7,
    "start_time": "2023-01-17T12:49:28.001Z"
   },
   {
    "duration": 21,
    "start_time": "2023-01-17T12:49:28.009Z"
   },
   {
    "duration": 5,
    "start_time": "2023-01-17T12:49:28.031Z"
   },
   {
    "duration": 2229,
    "start_time": "2023-01-17T12:49:28.038Z"
   },
   {
    "duration": 14,
    "start_time": "2023-01-17T12:49:30.268Z"
   },
   {
    "duration": 18,
    "start_time": "2023-01-17T12:49:30.283Z"
   },
   {
    "duration": 20,
    "start_time": "2023-01-17T12:49:30.303Z"
   },
   {
    "duration": 71,
    "start_time": "2023-01-17T12:49:30.325Z"
   },
   {
    "duration": 15,
    "start_time": "2023-01-17T12:49:30.398Z"
   },
   {
    "duration": 34,
    "start_time": "2023-01-17T12:49:30.414Z"
   },
   {
    "duration": 40,
    "start_time": "2023-01-17T12:49:30.450Z"
   },
   {
    "duration": 348,
    "start_time": "2023-01-17T12:49:30.492Z"
   },
   {
    "duration": 147,
    "start_time": "2023-01-17T12:49:30.842Z"
   },
   {
    "duration": 18,
    "start_time": "2023-01-17T12:49:30.991Z"
   },
   {
    "duration": 36,
    "start_time": "2023-01-17T12:49:31.011Z"
   },
   {
    "duration": 45,
    "start_time": "2023-01-17T12:49:31.050Z"
   },
   {
    "duration": 382,
    "start_time": "2023-01-17T12:49:31.097Z"
   },
   {
    "duration": 5,
    "start_time": "2023-01-17T12:49:31.481Z"
   },
   {
    "duration": 20,
    "start_time": "2023-01-17T12:49:31.488Z"
   },
   {
    "duration": 244,
    "start_time": "2023-01-17T12:49:31.510Z"
   },
   {
    "duration": 203,
    "start_time": "2023-01-17T12:49:31.756Z"
   },
   {
    "duration": 152,
    "start_time": "2023-01-17T12:49:31.960Z"
   },
   {
    "duration": 159,
    "start_time": "2023-01-17T12:49:32.114Z"
   },
   {
    "duration": 167,
    "start_time": "2023-01-17T12:49:32.275Z"
   },
   {
    "duration": 166,
    "start_time": "2023-01-17T12:49:32.444Z"
   },
   {
    "duration": 429,
    "start_time": "2023-01-17T20:55:43.586Z"
   },
   {
    "duration": 286,
    "start_time": "2023-01-17T20:55:44.017Z"
   },
   {
    "duration": 15,
    "start_time": "2023-01-17T20:55:44.305Z"
   },
   {
    "duration": 55,
    "start_time": "2023-01-17T20:55:44.322Z"
   },
   {
    "duration": 10,
    "start_time": "2023-01-17T20:55:44.380Z"
   },
   {
    "duration": 18,
    "start_time": "2023-01-17T20:55:44.392Z"
   },
   {
    "duration": 8,
    "start_time": "2023-01-17T20:55:44.412Z"
   },
   {
    "duration": 11,
    "start_time": "2023-01-17T20:55:44.422Z"
   },
   {
    "duration": 43,
    "start_time": "2023-01-17T20:55:44.435Z"
   },
   {
    "duration": 18,
    "start_time": "2023-01-17T20:55:44.479Z"
   },
   {
    "duration": 10,
    "start_time": "2023-01-17T20:55:44.498Z"
   },
   {
    "duration": 25,
    "start_time": "2023-01-17T20:55:44.509Z"
   },
   {
    "duration": 9,
    "start_time": "2023-01-17T20:55:44.536Z"
   },
   {
    "duration": 19,
    "start_time": "2023-01-17T20:55:44.548Z"
   },
   {
    "duration": 3,
    "start_time": "2023-01-17T20:55:44.569Z"
   },
   {
    "duration": 15,
    "start_time": "2023-01-17T20:55:44.574Z"
   },
   {
    "duration": 11,
    "start_time": "2023-01-17T20:55:44.591Z"
   },
   {
    "duration": 15,
    "start_time": "2023-01-17T20:55:44.613Z"
   },
   {
    "duration": 25,
    "start_time": "2023-01-17T20:55:44.631Z"
   },
   {
    "duration": 11,
    "start_time": "2023-01-17T20:55:44.658Z"
   },
   {
    "duration": 42,
    "start_time": "2023-01-17T20:55:44.671Z"
   },
   {
    "duration": 19,
    "start_time": "2023-01-17T20:55:44.714Z"
   },
   {
    "duration": 7,
    "start_time": "2023-01-17T20:55:44.735Z"
   },
   {
    "duration": 8,
    "start_time": "2023-01-17T20:55:44.744Z"
   },
   {
    "duration": 13,
    "start_time": "2023-01-17T20:55:44.754Z"
   },
   {
    "duration": 9,
    "start_time": "2023-01-17T20:55:44.769Z"
   },
   {
    "duration": 5,
    "start_time": "2023-01-17T20:55:44.780Z"
   },
   {
    "duration": 33,
    "start_time": "2023-01-17T20:55:44.786Z"
   },
   {
    "duration": 7,
    "start_time": "2023-01-17T20:55:44.820Z"
   },
   {
    "duration": 11,
    "start_time": "2023-01-17T20:55:44.828Z"
   },
   {
    "duration": 17,
    "start_time": "2023-01-17T20:55:44.841Z"
   },
   {
    "duration": 22,
    "start_time": "2023-01-17T20:55:44.860Z"
   },
   {
    "duration": 32,
    "start_time": "2023-01-17T20:55:44.884Z"
   },
   {
    "duration": 24,
    "start_time": "2023-01-17T20:55:44.918Z"
   },
   {
    "duration": 4,
    "start_time": "2023-01-17T20:55:44.944Z"
   },
   {
    "duration": 2278,
    "start_time": "2023-01-17T20:55:44.950Z"
   },
   {
    "duration": 13,
    "start_time": "2023-01-17T20:55:47.230Z"
   },
   {
    "duration": 9,
    "start_time": "2023-01-17T20:55:47.245Z"
   },
   {
    "duration": 20,
    "start_time": "2023-01-17T20:55:47.256Z"
   },
   {
    "duration": 79,
    "start_time": "2023-01-17T20:55:47.278Z"
   },
   {
    "duration": 15,
    "start_time": "2023-01-17T20:55:47.361Z"
   },
   {
    "duration": 7,
    "start_time": "2023-01-17T20:55:47.377Z"
   },
   {
    "duration": 27,
    "start_time": "2023-01-17T20:55:47.386Z"
   },
   {
    "duration": 522,
    "start_time": "2023-01-17T20:55:47.414Z"
   },
   {
    "duration": 147,
    "start_time": "2023-01-17T20:55:47.938Z"
   },
   {
    "duration": 30,
    "start_time": "2023-01-17T20:55:48.087Z"
   },
   {
    "duration": 17,
    "start_time": "2023-01-17T20:55:48.119Z"
   },
   {
    "duration": 11,
    "start_time": "2023-01-17T20:55:48.139Z"
   },
   {
    "duration": 399,
    "start_time": "2023-01-17T20:55:48.151Z"
   },
   {
    "duration": 5,
    "start_time": "2023-01-17T20:55:48.551Z"
   },
   {
    "duration": 20,
    "start_time": "2023-01-17T20:55:48.558Z"
   },
   {
    "duration": 174,
    "start_time": "2023-01-17T20:55:48.580Z"
   },
   {
    "duration": 184,
    "start_time": "2023-01-17T20:55:48.756Z"
   },
   {
    "duration": 187,
    "start_time": "2023-01-17T20:55:48.942Z"
   },
   {
    "duration": 184,
    "start_time": "2023-01-17T20:55:49.131Z"
   },
   {
    "duration": 185,
    "start_time": "2023-01-17T20:55:49.318Z"
   },
   {
    "duration": 178,
    "start_time": "2023-01-17T20:55:49.504Z"
   },
   {
    "duration": 436,
    "start_time": "2023-01-17T20:58:57.216Z"
   },
   {
    "duration": 91,
    "start_time": "2023-01-17T20:58:57.654Z"
   },
   {
    "duration": 16,
    "start_time": "2023-01-17T20:58:57.747Z"
   },
   {
    "duration": 45,
    "start_time": "2023-01-17T20:58:57.764Z"
   },
   {
    "duration": 10,
    "start_time": "2023-01-17T20:58:57.811Z"
   },
   {
    "duration": 24,
    "start_time": "2023-01-17T20:58:57.822Z"
   },
   {
    "duration": 23,
    "start_time": "2023-01-17T20:58:57.848Z"
   },
   {
    "duration": 20,
    "start_time": "2023-01-17T20:58:57.872Z"
   },
   {
    "duration": 10,
    "start_time": "2023-01-17T20:58:57.893Z"
   },
   {
    "duration": 21,
    "start_time": "2023-01-17T20:58:57.905Z"
   },
   {
    "duration": 8,
    "start_time": "2023-01-17T20:58:57.928Z"
   },
   {
    "duration": 24,
    "start_time": "2023-01-17T20:58:57.937Z"
   },
   {
    "duration": 4,
    "start_time": "2023-01-17T20:58:57.963Z"
   },
   {
    "duration": 8,
    "start_time": "2023-01-17T20:58:57.970Z"
   },
   {
    "duration": 39,
    "start_time": "2023-01-17T20:58:57.980Z"
   },
   {
    "duration": 7,
    "start_time": "2023-01-17T20:58:58.021Z"
   },
   {
    "duration": 16,
    "start_time": "2023-01-17T20:58:58.029Z"
   },
   {
    "duration": 10,
    "start_time": "2023-01-17T20:58:58.046Z"
   },
   {
    "duration": 19,
    "start_time": "2023-01-17T20:58:58.058Z"
   },
   {
    "duration": 10,
    "start_time": "2023-01-17T20:58:58.079Z"
   },
   {
    "duration": 29,
    "start_time": "2023-01-17T20:58:58.091Z"
   },
   {
    "duration": 9,
    "start_time": "2023-01-17T20:58:58.121Z"
   },
   {
    "duration": 13,
    "start_time": "2023-01-17T20:58:58.132Z"
   },
   {
    "duration": 20,
    "start_time": "2023-01-17T20:58:58.146Z"
   },
   {
    "duration": 10,
    "start_time": "2023-01-17T20:58:58.168Z"
   },
   {
    "duration": 12,
    "start_time": "2023-01-17T20:58:58.180Z"
   },
   {
    "duration": 20,
    "start_time": "2023-01-17T20:58:58.193Z"
   },
   {
    "duration": 8,
    "start_time": "2023-01-17T20:58:58.215Z"
   },
   {
    "duration": 19,
    "start_time": "2023-01-17T20:58:58.224Z"
   },
   {
    "duration": 24,
    "start_time": "2023-01-17T20:58:58.245Z"
   },
   {
    "duration": 9,
    "start_time": "2023-01-17T20:58:58.271Z"
   },
   {
    "duration": 38,
    "start_time": "2023-01-17T20:58:58.282Z"
   },
   {
    "duration": 10,
    "start_time": "2023-01-17T20:58:58.323Z"
   },
   {
    "duration": 2436,
    "start_time": "2023-01-17T20:58:58.335Z"
   },
   {
    "duration": 17,
    "start_time": "2023-01-17T20:59:00.774Z"
   },
   {
    "duration": 20,
    "start_time": "2023-01-17T20:59:00.793Z"
   },
   {
    "duration": 8,
    "start_time": "2023-01-17T20:59:00.815Z"
   },
   {
    "duration": 69,
    "start_time": "2023-01-17T20:59:00.825Z"
   },
   {
    "duration": 20,
    "start_time": "2023-01-17T20:59:00.896Z"
   },
   {
    "duration": 16,
    "start_time": "2023-01-17T20:59:00.918Z"
   },
   {
    "duration": 28,
    "start_time": "2023-01-17T20:59:00.939Z"
   },
   {
    "duration": 348,
    "start_time": "2023-01-17T20:59:00.968Z"
   },
   {
    "duration": 154,
    "start_time": "2023-01-17T20:59:01.318Z"
   },
   {
    "duration": 21,
    "start_time": "2023-01-17T20:59:01.473Z"
   },
   {
    "duration": 31,
    "start_time": "2023-01-17T20:59:01.496Z"
   },
   {
    "duration": 4,
    "start_time": "2023-01-17T20:59:01.529Z"
   },
   {
    "duration": 386,
    "start_time": "2023-01-17T20:59:01.535Z"
   },
   {
    "duration": 4,
    "start_time": "2023-01-17T20:59:01.923Z"
   },
   {
    "duration": 44,
    "start_time": "2023-01-17T20:59:01.929Z"
   },
   {
    "duration": 182,
    "start_time": "2023-01-17T20:59:01.974Z"
   },
   {
    "duration": 174,
    "start_time": "2023-01-17T20:59:02.157Z"
   },
   {
    "duration": 169,
    "start_time": "2023-01-17T20:59:02.333Z"
   },
   {
    "duration": 171,
    "start_time": "2023-01-17T20:59:02.504Z"
   },
   {
    "duration": 176,
    "start_time": "2023-01-17T20:59:02.678Z"
   },
   {
    "duration": 188,
    "start_time": "2023-01-17T20:59:02.856Z"
   },
   {
    "duration": 123,
    "start_time": "2023-01-17T21:30:28.167Z"
   },
   {
    "duration": 416,
    "start_time": "2023-01-17T21:31:00.272Z"
   },
   {
    "duration": 92,
    "start_time": "2023-01-17T21:31:00.690Z"
   },
   {
    "duration": 14,
    "start_time": "2023-01-17T21:31:00.784Z"
   },
   {
    "duration": 54,
    "start_time": "2023-01-17T21:31:00.801Z"
   },
   {
    "duration": 16,
    "start_time": "2023-01-17T21:31:00.857Z"
   },
   {
    "duration": 23,
    "start_time": "2023-01-17T21:31:00.875Z"
   },
   {
    "duration": 17,
    "start_time": "2023-01-17T21:31:00.900Z"
   },
   {
    "duration": 12,
    "start_time": "2023-01-17T21:31:00.919Z"
   },
   {
    "duration": 11,
    "start_time": "2023-01-17T21:31:00.933Z"
   },
   {
    "duration": 23,
    "start_time": "2023-01-17T21:31:00.947Z"
   },
   {
    "duration": 9,
    "start_time": "2023-01-17T21:31:00.971Z"
   },
   {
    "duration": 40,
    "start_time": "2023-01-17T21:31:00.982Z"
   },
   {
    "duration": 12,
    "start_time": "2023-01-17T21:31:01.024Z"
   },
   {
    "duration": 65,
    "start_time": "2023-01-17T21:31:01.037Z"
   },
   {
    "duration": 14,
    "start_time": "2023-01-17T21:31:01.104Z"
   },
   {
    "duration": 42,
    "start_time": "2023-01-17T21:31:01.120Z"
   },
   {
    "duration": 12,
    "start_time": "2023-01-17T21:31:01.164Z"
   },
   {
    "duration": 14,
    "start_time": "2023-01-17T21:31:01.178Z"
   },
   {
    "duration": 25,
    "start_time": "2023-01-17T21:31:01.194Z"
   },
   {
    "duration": 7,
    "start_time": "2023-01-17T21:31:01.221Z"
   },
   {
    "duration": 70,
    "start_time": "2023-01-17T21:31:01.230Z"
   },
   {
    "duration": 0,
    "start_time": "2023-01-17T21:31:01.303Z"
   },
   {
    "duration": 0,
    "start_time": "2023-01-17T21:31:01.304Z"
   },
   {
    "duration": 0,
    "start_time": "2023-01-17T21:31:01.305Z"
   },
   {
    "duration": 0,
    "start_time": "2023-01-17T21:31:01.307Z"
   },
   {
    "duration": 0,
    "start_time": "2023-01-17T21:31:01.309Z"
   },
   {
    "duration": 0,
    "start_time": "2023-01-17T21:31:01.310Z"
   },
   {
    "duration": 0,
    "start_time": "2023-01-17T21:31:01.311Z"
   },
   {
    "duration": 0,
    "start_time": "2023-01-17T21:31:01.313Z"
   },
   {
    "duration": 0,
    "start_time": "2023-01-17T21:31:01.314Z"
   },
   {
    "duration": 0,
    "start_time": "2023-01-17T21:31:01.315Z"
   },
   {
    "duration": 0,
    "start_time": "2023-01-17T21:31:01.317Z"
   },
   {
    "duration": 0,
    "start_time": "2023-01-17T21:31:01.319Z"
   },
   {
    "duration": 0,
    "start_time": "2023-01-17T21:31:01.320Z"
   },
   {
    "duration": 0,
    "start_time": "2023-01-17T21:31:01.321Z"
   },
   {
    "duration": 0,
    "start_time": "2023-01-17T21:31:01.322Z"
   },
   {
    "duration": 0,
    "start_time": "2023-01-17T21:31:01.324Z"
   },
   {
    "duration": 0,
    "start_time": "2023-01-17T21:31:01.325Z"
   },
   {
    "duration": 0,
    "start_time": "2023-01-17T21:31:01.327Z"
   },
   {
    "duration": 0,
    "start_time": "2023-01-17T21:31:01.328Z"
   },
   {
    "duration": 0,
    "start_time": "2023-01-17T21:31:01.331Z"
   },
   {
    "duration": 0,
    "start_time": "2023-01-17T21:31:01.332Z"
   },
   {
    "duration": 0,
    "start_time": "2023-01-17T21:31:01.333Z"
   },
   {
    "duration": 0,
    "start_time": "2023-01-17T21:31:01.335Z"
   },
   {
    "duration": 0,
    "start_time": "2023-01-17T21:31:01.336Z"
   },
   {
    "duration": 0,
    "start_time": "2023-01-17T21:31:01.337Z"
   },
   {
    "duration": 0,
    "start_time": "2023-01-17T21:31:01.339Z"
   },
   {
    "duration": 0,
    "start_time": "2023-01-17T21:31:01.340Z"
   },
   {
    "duration": 0,
    "start_time": "2023-01-17T21:31:01.341Z"
   },
   {
    "duration": 0,
    "start_time": "2023-01-17T21:31:01.342Z"
   },
   {
    "duration": 423,
    "start_time": "2023-01-17T21:32:37.005Z"
   },
   {
    "duration": 105,
    "start_time": "2023-01-17T21:32:37.431Z"
   },
   {
    "duration": 15,
    "start_time": "2023-01-17T21:32:37.537Z"
   },
   {
    "duration": 39,
    "start_time": "2023-01-17T21:32:37.555Z"
   },
   {
    "duration": 15,
    "start_time": "2023-01-17T21:32:37.596Z"
   },
   {
    "duration": 24,
    "start_time": "2023-01-17T21:32:37.612Z"
   },
   {
    "duration": 20,
    "start_time": "2023-01-17T21:32:37.637Z"
   },
   {
    "duration": 15,
    "start_time": "2023-01-17T21:32:37.659Z"
   },
   {
    "duration": 9,
    "start_time": "2023-01-17T21:32:37.676Z"
   },
   {
    "duration": 20,
    "start_time": "2023-01-17T21:32:37.688Z"
   },
   {
    "duration": 11,
    "start_time": "2023-01-17T21:32:37.709Z"
   },
   {
    "duration": 22,
    "start_time": "2023-01-17T21:32:37.722Z"
   },
   {
    "duration": 3,
    "start_time": "2023-01-17T21:32:37.746Z"
   },
   {
    "duration": 10,
    "start_time": "2023-01-17T21:32:37.750Z"
   },
   {
    "duration": 12,
    "start_time": "2023-01-17T21:32:37.762Z"
   },
   {
    "duration": 8,
    "start_time": "2023-01-17T21:32:37.776Z"
   },
   {
    "duration": 8,
    "start_time": "2023-01-17T21:32:37.786Z"
   },
   {
    "duration": 18,
    "start_time": "2023-01-17T21:32:37.795Z"
   },
   {
    "duration": 21,
    "start_time": "2023-01-17T21:32:37.814Z"
   },
   {
    "duration": 6,
    "start_time": "2023-01-17T21:32:37.837Z"
   },
   {
    "duration": 74,
    "start_time": "2023-01-17T21:32:37.845Z"
   },
   {
    "duration": 0,
    "start_time": "2023-01-17T21:32:37.922Z"
   },
   {
    "duration": 0,
    "start_time": "2023-01-17T21:32:37.924Z"
   },
   {
    "duration": 0,
    "start_time": "2023-01-17T21:32:37.925Z"
   },
   {
    "duration": 0,
    "start_time": "2023-01-17T21:32:37.927Z"
   },
   {
    "duration": 0,
    "start_time": "2023-01-17T21:32:37.929Z"
   },
   {
    "duration": 0,
    "start_time": "2023-01-17T21:32:37.930Z"
   },
   {
    "duration": 0,
    "start_time": "2023-01-17T21:32:37.932Z"
   },
   {
    "duration": 0,
    "start_time": "2023-01-17T21:32:37.933Z"
   },
   {
    "duration": 0,
    "start_time": "2023-01-17T21:32:37.935Z"
   },
   {
    "duration": 0,
    "start_time": "2023-01-17T21:32:37.937Z"
   },
   {
    "duration": 0,
    "start_time": "2023-01-17T21:32:37.939Z"
   },
   {
    "duration": 0,
    "start_time": "2023-01-17T21:32:37.940Z"
   },
   {
    "duration": 0,
    "start_time": "2023-01-17T21:32:37.941Z"
   },
   {
    "duration": 0,
    "start_time": "2023-01-17T21:32:37.943Z"
   },
   {
    "duration": 0,
    "start_time": "2023-01-17T21:32:37.944Z"
   },
   {
    "duration": 0,
    "start_time": "2023-01-17T21:32:37.945Z"
   },
   {
    "duration": 0,
    "start_time": "2023-01-17T21:32:37.947Z"
   },
   {
    "duration": 0,
    "start_time": "2023-01-17T21:32:37.948Z"
   },
   {
    "duration": 0,
    "start_time": "2023-01-17T21:32:37.949Z"
   },
   {
    "duration": 0,
    "start_time": "2023-01-17T21:32:37.950Z"
   },
   {
    "duration": 0,
    "start_time": "2023-01-17T21:32:37.951Z"
   },
   {
    "duration": 0,
    "start_time": "2023-01-17T21:32:37.952Z"
   },
   {
    "duration": 0,
    "start_time": "2023-01-17T21:32:37.953Z"
   },
   {
    "duration": 0,
    "start_time": "2023-01-17T21:32:37.954Z"
   },
   {
    "duration": 0,
    "start_time": "2023-01-17T21:32:37.955Z"
   },
   {
    "duration": 0,
    "start_time": "2023-01-17T21:32:37.956Z"
   },
   {
    "duration": 0,
    "start_time": "2023-01-17T21:32:37.957Z"
   },
   {
    "duration": 0,
    "start_time": "2023-01-17T21:32:37.958Z"
   },
   {
    "duration": 0,
    "start_time": "2023-01-17T21:32:37.959Z"
   },
   {
    "duration": 406,
    "start_time": "2023-01-17T21:32:53.625Z"
   },
   {
    "duration": 87,
    "start_time": "2023-01-17T21:32:54.033Z"
   },
   {
    "duration": 14,
    "start_time": "2023-01-17T21:32:54.122Z"
   },
   {
    "duration": 38,
    "start_time": "2023-01-17T21:32:54.139Z"
   },
   {
    "duration": 9,
    "start_time": "2023-01-17T21:32:54.179Z"
   },
   {
    "duration": 11,
    "start_time": "2023-01-17T21:32:54.190Z"
   },
   {
    "duration": 15,
    "start_time": "2023-01-17T21:32:54.202Z"
   },
   {
    "duration": 12,
    "start_time": "2023-01-17T21:32:54.219Z"
   },
   {
    "duration": 10,
    "start_time": "2023-01-17T21:32:54.233Z"
   },
   {
    "duration": 16,
    "start_time": "2023-01-17T21:32:54.246Z"
   },
   {
    "duration": 9,
    "start_time": "2023-01-17T21:32:54.263Z"
   },
   {
    "duration": 40,
    "start_time": "2023-01-17T21:32:54.274Z"
   },
   {
    "duration": 3,
    "start_time": "2023-01-17T21:32:54.316Z"
   },
   {
    "duration": 10,
    "start_time": "2023-01-17T21:32:54.321Z"
   },
   {
    "duration": 16,
    "start_time": "2023-01-17T21:32:54.333Z"
   },
   {
    "duration": 10,
    "start_time": "2023-01-17T21:32:54.350Z"
   },
   {
    "duration": 9,
    "start_time": "2023-01-17T21:32:54.362Z"
   },
   {
    "duration": 10,
    "start_time": "2023-01-17T21:32:54.372Z"
   },
   {
    "duration": 14,
    "start_time": "2023-01-17T21:32:54.383Z"
   },
   {
    "duration": 18,
    "start_time": "2023-01-17T21:32:54.400Z"
   },
   {
    "duration": 14,
    "start_time": "2023-01-17T21:32:54.420Z"
   },
   {
    "duration": 11,
    "start_time": "2023-01-17T21:32:54.435Z"
   },
   {
    "duration": 5,
    "start_time": "2023-01-17T21:32:54.448Z"
   },
   {
    "duration": 9,
    "start_time": "2023-01-17T21:32:54.455Z"
   },
   {
    "duration": 6,
    "start_time": "2023-01-17T21:32:54.465Z"
   },
   {
    "duration": 41,
    "start_time": "2023-01-17T21:32:54.473Z"
   },
   {
    "duration": 16,
    "start_time": "2023-01-17T21:32:54.516Z"
   },
   {
    "duration": 3,
    "start_time": "2023-01-17T21:32:54.537Z"
   },
   {
    "duration": 2329,
    "start_time": "2023-01-17T21:32:54.542Z"
   },
   {
    "duration": 16,
    "start_time": "2023-01-17T21:32:56.873Z"
   },
   {
    "duration": 5,
    "start_time": "2023-01-17T21:32:56.891Z"
   },
   {
    "duration": 8,
    "start_time": "2023-01-17T21:32:56.913Z"
   },
   {
    "duration": 72,
    "start_time": "2023-01-17T21:32:56.924Z"
   },
   {
    "duration": 29,
    "start_time": "2023-01-17T21:32:56.998Z"
   },
   {
    "duration": 10,
    "start_time": "2023-01-17T21:32:57.029Z"
   },
   {
    "duration": 361,
    "start_time": "2023-01-17T21:32:57.041Z"
   },
   {
    "duration": 151,
    "start_time": "2023-01-17T21:32:57.405Z"
   },
   {
    "duration": 20,
    "start_time": "2023-01-17T21:32:57.557Z"
   },
   {
    "duration": 81,
    "start_time": "2023-01-17T21:32:57.579Z"
   },
   {
    "duration": 12,
    "start_time": "2023-01-17T21:32:57.662Z"
   },
   {
    "duration": 296,
    "start_time": "2023-01-17T21:32:57.677Z"
   },
   {
    "duration": 5,
    "start_time": "2023-01-17T21:32:57.975Z"
   },
   {
    "duration": 24,
    "start_time": "2023-01-17T21:32:57.982Z"
   },
   {
    "duration": 176,
    "start_time": "2023-01-17T21:32:58.008Z"
   },
   {
    "duration": 169,
    "start_time": "2023-01-17T21:32:58.186Z"
   },
   {
    "duration": 173,
    "start_time": "2023-01-17T21:32:58.358Z"
   },
   {
    "duration": 165,
    "start_time": "2023-01-17T21:32:58.532Z"
   },
   {
    "duration": 186,
    "start_time": "2023-01-17T21:32:58.699Z"
   },
   {
    "duration": 183,
    "start_time": "2023-01-17T21:32:58.886Z"
   },
   {
    "duration": 398,
    "start_time": "2023-01-17T21:38:52.271Z"
   },
   {
    "duration": 90,
    "start_time": "2023-01-17T21:38:52.671Z"
   },
   {
    "duration": 15,
    "start_time": "2023-01-17T21:38:52.766Z"
   },
   {
    "duration": 42,
    "start_time": "2023-01-17T21:38:52.783Z"
   },
   {
    "duration": 11,
    "start_time": "2023-01-17T21:38:52.827Z"
   },
   {
    "duration": 12,
    "start_time": "2023-01-17T21:38:52.840Z"
   },
   {
    "duration": 17,
    "start_time": "2023-01-17T21:38:52.853Z"
   },
   {
    "duration": 12,
    "start_time": "2023-01-17T21:38:52.872Z"
   },
   {
    "duration": 10,
    "start_time": "2023-01-17T21:38:52.886Z"
   },
   {
    "duration": 35,
    "start_time": "2023-01-17T21:38:52.897Z"
   },
   {
    "duration": 8,
    "start_time": "2023-01-17T21:38:52.934Z"
   },
   {
    "duration": 23,
    "start_time": "2023-01-17T21:38:52.943Z"
   },
   {
    "duration": 8,
    "start_time": "2023-01-17T21:38:52.967Z"
   },
   {
    "duration": 9,
    "start_time": "2023-01-17T21:38:52.976Z"
   },
   {
    "duration": 30,
    "start_time": "2023-01-17T21:38:52.987Z"
   },
   {
    "duration": 9,
    "start_time": "2023-01-17T21:38:53.019Z"
   },
   {
    "duration": 10,
    "start_time": "2023-01-17T21:38:53.030Z"
   },
   {
    "duration": 13,
    "start_time": "2023-01-17T21:38:53.041Z"
   },
   {
    "duration": 26,
    "start_time": "2023-01-17T21:38:53.056Z"
   },
   {
    "duration": 15,
    "start_time": "2023-01-17T21:38:53.088Z"
   },
   {
    "duration": 18,
    "start_time": "2023-01-17T21:38:53.105Z"
   },
   {
    "duration": 18,
    "start_time": "2023-01-17T21:38:53.125Z"
   },
   {
    "duration": 11,
    "start_time": "2023-01-17T21:38:53.145Z"
   },
   {
    "duration": 13,
    "start_time": "2023-01-17T21:38:53.158Z"
   },
   {
    "duration": 11,
    "start_time": "2023-01-17T21:38:53.172Z"
   },
   {
    "duration": 9,
    "start_time": "2023-01-17T21:38:53.185Z"
   },
   {
    "duration": 27,
    "start_time": "2023-01-17T21:38:53.197Z"
   },
   {
    "duration": 19,
    "start_time": "2023-01-17T21:38:53.226Z"
   },
   {
    "duration": 2230,
    "start_time": "2023-01-17T21:38:53.247Z"
   },
   {
    "duration": 15,
    "start_time": "2023-01-17T21:38:55.478Z"
   },
   {
    "duration": 19,
    "start_time": "2023-01-17T21:38:55.494Z"
   },
   {
    "duration": 5,
    "start_time": "2023-01-17T21:38:55.514Z"
   },
   {
    "duration": 106,
    "start_time": "2023-01-17T21:38:55.521Z"
   },
   {
    "duration": 16,
    "start_time": "2023-01-17T21:38:55.630Z"
   },
   {
    "duration": 7,
    "start_time": "2023-01-17T21:38:55.648Z"
   },
   {
    "duration": 0,
    "start_time": "2023-01-17T21:38:55.657Z"
   },
   {
    "duration": 0,
    "start_time": "2023-01-17T21:38:55.658Z"
   },
   {
    "duration": 0,
    "start_time": "2023-01-17T21:38:55.659Z"
   },
   {
    "duration": 0,
    "start_time": "2023-01-17T21:38:55.661Z"
   },
   {
    "duration": 0,
    "start_time": "2023-01-17T21:38:55.662Z"
   },
   {
    "duration": 0,
    "start_time": "2023-01-17T21:38:55.663Z"
   },
   {
    "duration": 0,
    "start_time": "2023-01-17T21:38:55.664Z"
   },
   {
    "duration": 0,
    "start_time": "2023-01-17T21:38:55.666Z"
   },
   {
    "duration": 0,
    "start_time": "2023-01-17T21:38:55.667Z"
   },
   {
    "duration": 0,
    "start_time": "2023-01-17T21:38:55.668Z"
   },
   {
    "duration": 0,
    "start_time": "2023-01-17T21:38:55.669Z"
   },
   {
    "duration": 0,
    "start_time": "2023-01-17T21:38:55.670Z"
   },
   {
    "duration": 0,
    "start_time": "2023-01-17T21:38:55.671Z"
   },
   {
    "duration": 0,
    "start_time": "2023-01-17T21:38:55.672Z"
   },
   {
    "duration": 4,
    "start_time": "2023-01-17T21:39:11.962Z"
   },
   {
    "duration": 676,
    "start_time": "2023-01-17T21:39:17.542Z"
   },
   {
    "duration": 646,
    "start_time": "2023-01-17T21:39:41.431Z"
   },
   {
    "duration": 397,
    "start_time": "2023-01-17T21:48:17.179Z"
   },
   {
    "duration": 88,
    "start_time": "2023-01-17T21:48:17.578Z"
   },
   {
    "duration": 14,
    "start_time": "2023-01-17T21:48:17.668Z"
   },
   {
    "duration": 62,
    "start_time": "2023-01-17T21:48:17.684Z"
   },
   {
    "duration": 10,
    "start_time": "2023-01-17T21:48:17.748Z"
   },
   {
    "duration": 27,
    "start_time": "2023-01-17T21:48:17.759Z"
   },
   {
    "duration": 25,
    "start_time": "2023-01-17T21:48:17.788Z"
   },
   {
    "duration": 33,
    "start_time": "2023-01-17T21:48:17.814Z"
   },
   {
    "duration": 13,
    "start_time": "2023-01-17T21:48:17.849Z"
   },
   {
    "duration": 41,
    "start_time": "2023-01-17T21:48:17.864Z"
   },
   {
    "duration": 42,
    "start_time": "2023-01-17T21:48:17.907Z"
   },
   {
    "duration": 24,
    "start_time": "2023-01-17T21:48:17.951Z"
   },
   {
    "duration": 9,
    "start_time": "2023-01-17T21:48:17.976Z"
   },
   {
    "duration": 10,
    "start_time": "2023-01-17T21:48:17.988Z"
   },
   {
    "duration": 17,
    "start_time": "2023-01-17T21:48:18.000Z"
   },
   {
    "duration": 9,
    "start_time": "2023-01-17T21:48:18.018Z"
   },
   {
    "duration": 10,
    "start_time": "2023-01-17T21:48:18.029Z"
   },
   {
    "duration": 10,
    "start_time": "2023-01-17T21:48:18.041Z"
   },
   {
    "duration": 24,
    "start_time": "2023-01-17T21:48:18.053Z"
   },
   {
    "duration": 6,
    "start_time": "2023-01-17T21:48:18.079Z"
   },
   {
    "duration": 13,
    "start_time": "2023-01-17T21:48:18.087Z"
   },
   {
    "duration": 12,
    "start_time": "2023-01-17T21:48:18.112Z"
   },
   {
    "duration": 7,
    "start_time": "2023-01-17T21:48:18.126Z"
   },
   {
    "duration": 25,
    "start_time": "2023-01-17T21:48:18.134Z"
   },
   {
    "duration": 8,
    "start_time": "2023-01-17T21:48:18.161Z"
   },
   {
    "duration": 10,
    "start_time": "2023-01-17T21:48:18.171Z"
   },
   {
    "duration": 31,
    "start_time": "2023-01-17T21:48:18.182Z"
   },
   {
    "duration": 6,
    "start_time": "2023-01-17T21:48:18.215Z"
   },
   {
    "duration": 2369,
    "start_time": "2023-01-17T21:48:18.222Z"
   },
   {
    "duration": 21,
    "start_time": "2023-01-17T21:48:20.593Z"
   },
   {
    "duration": 18,
    "start_time": "2023-01-17T21:48:20.616Z"
   },
   {
    "duration": 10,
    "start_time": "2023-01-17T21:48:20.636Z"
   },
   {
    "duration": 75,
    "start_time": "2023-01-17T21:48:20.648Z"
   },
   {
    "duration": 14,
    "start_time": "2023-01-17T21:48:20.725Z"
   },
   {
    "duration": 7,
    "start_time": "2023-01-17T21:48:20.741Z"
   },
   {
    "duration": 14,
    "start_time": "2023-01-17T21:48:20.749Z"
   },
   {
    "duration": 356,
    "start_time": "2023-01-17T21:48:20.764Z"
   },
   {
    "duration": 90935,
    "start_time": "2023-01-17T21:48:21.121Z"
   },
   {
    "duration": 152,
    "start_time": "2023-01-17T21:49:52.087Z"
   },
   {
    "duration": 18,
    "start_time": "2023-01-17T21:49:52.241Z"
   },
   {
    "duration": 18,
    "start_time": "2023-01-17T21:49:52.263Z"
   },
   {
    "duration": 31,
    "start_time": "2023-01-17T21:49:52.283Z"
   },
   {
    "duration": 299,
    "start_time": "2023-01-17T21:49:52.316Z"
   },
   {
    "duration": 5,
    "start_time": "2023-01-17T21:49:52.617Z"
   },
   {
    "duration": 45,
    "start_time": "2023-01-17T21:49:52.624Z"
   },
   {
    "duration": 186,
    "start_time": "2023-01-17T21:49:52.671Z"
   },
   {
    "duration": 193,
    "start_time": "2023-01-17T21:49:52.859Z"
   },
   {
    "duration": 160,
    "start_time": "2023-01-17T21:49:53.054Z"
   },
   {
    "duration": 171,
    "start_time": "2023-01-17T21:49:53.217Z"
   },
   {
    "duration": 212,
    "start_time": "2023-01-17T21:49:53.390Z"
   },
   {
    "duration": 199,
    "start_time": "2023-01-17T21:49:53.604Z"
   },
   {
    "duration": 428,
    "start_time": "2023-01-17T21:50:10.132Z"
   },
   {
    "duration": 94,
    "start_time": "2023-01-17T21:50:10.562Z"
   },
   {
    "duration": 15,
    "start_time": "2023-01-17T21:50:10.658Z"
   },
   {
    "duration": 38,
    "start_time": "2023-01-17T21:50:10.675Z"
   },
   {
    "duration": 9,
    "start_time": "2023-01-17T21:50:10.715Z"
   },
   {
    "duration": 13,
    "start_time": "2023-01-17T21:50:10.726Z"
   },
   {
    "duration": 17,
    "start_time": "2023-01-17T21:50:10.741Z"
   },
   {
    "duration": 15,
    "start_time": "2023-01-17T21:50:10.760Z"
   },
   {
    "duration": 37,
    "start_time": "2023-01-17T21:50:10.776Z"
   },
   {
    "duration": 15,
    "start_time": "2023-01-17T21:50:10.816Z"
   },
   {
    "duration": 22,
    "start_time": "2023-01-17T21:50:10.833Z"
   },
   {
    "duration": 29,
    "start_time": "2023-01-17T21:50:10.857Z"
   },
   {
    "duration": 3,
    "start_time": "2023-01-17T21:50:10.888Z"
   },
   {
    "duration": 21,
    "start_time": "2023-01-17T21:50:10.892Z"
   },
   {
    "duration": 10,
    "start_time": "2023-01-17T21:50:10.915Z"
   },
   {
    "duration": 13,
    "start_time": "2023-01-17T21:50:10.927Z"
   },
   {
    "duration": 18,
    "start_time": "2023-01-17T21:50:10.941Z"
   },
   {
    "duration": 10,
    "start_time": "2023-01-17T21:50:10.960Z"
   },
   {
    "duration": 18,
    "start_time": "2023-01-17T21:50:10.972Z"
   },
   {
    "duration": 22,
    "start_time": "2023-01-17T21:50:10.992Z"
   },
   {
    "duration": 16,
    "start_time": "2023-01-17T21:50:11.015Z"
   },
   {
    "duration": 11,
    "start_time": "2023-01-17T21:50:11.033Z"
   },
   {
    "duration": 6,
    "start_time": "2023-01-17T21:50:11.046Z"
   },
   {
    "duration": 13,
    "start_time": "2023-01-17T21:50:11.054Z"
   },
   {
    "duration": 6,
    "start_time": "2023-01-17T21:50:11.069Z"
   },
   {
    "duration": 37,
    "start_time": "2023-01-17T21:50:11.077Z"
   },
   {
    "duration": 20,
    "start_time": "2023-01-17T21:50:11.116Z"
   },
   {
    "duration": 3,
    "start_time": "2023-01-17T21:50:11.140Z"
   },
   {
    "duration": 2349,
    "start_time": "2023-01-17T21:50:11.145Z"
   },
   {
    "duration": 18,
    "start_time": "2023-01-17T21:50:13.496Z"
   },
   {
    "duration": 11,
    "start_time": "2023-01-17T21:50:13.515Z"
   },
   {
    "duration": 5,
    "start_time": "2023-01-17T21:50:13.527Z"
   },
   {
    "duration": 66,
    "start_time": "2023-01-17T21:50:13.533Z"
   },
   {
    "duration": 25,
    "start_time": "2023-01-17T21:50:13.601Z"
   },
   {
    "duration": 10,
    "start_time": "2023-01-17T21:50:13.628Z"
   },
   {
    "duration": 34,
    "start_time": "2023-01-17T21:50:13.640Z"
   },
   {
    "duration": 337,
    "start_time": "2023-01-17T21:50:13.676Z"
   },
   {
    "duration": 147339,
    "start_time": "2023-01-17T21:50:14.014Z"
   },
   {
    "duration": 140,
    "start_time": "2023-01-17T21:52:41.355Z"
   },
   {
    "duration": 22,
    "start_time": "2023-01-17T21:52:41.497Z"
   },
   {
    "duration": 19,
    "start_time": "2023-01-17T21:52:41.521Z"
   },
   {
    "duration": 5,
    "start_time": "2023-01-17T21:52:41.541Z"
   },
   {
    "duration": 317,
    "start_time": "2023-01-17T21:52:41.548Z"
   },
   {
    "duration": 5,
    "start_time": "2023-01-17T21:52:41.867Z"
   },
   {
    "duration": 17,
    "start_time": "2023-01-17T21:52:41.873Z"
   },
   {
    "duration": 161,
    "start_time": "2023-01-17T21:52:41.891Z"
   },
   {
    "duration": 175,
    "start_time": "2023-01-17T21:52:42.054Z"
   },
   {
    "duration": 757,
    "start_time": "2023-01-17T21:52:42.231Z"
   },
   {
    "duration": 167,
    "start_time": "2023-01-17T21:52:42.990Z"
   },
   {
    "duration": 173,
    "start_time": "2023-01-17T21:52:43.159Z"
   },
   {
    "duration": 176,
    "start_time": "2023-01-17T21:52:43.335Z"
   },
   {
    "duration": 439,
    "start_time": "2023-01-17T21:58:31.879Z"
   },
   {
    "duration": 91,
    "start_time": "2023-01-17T21:58:32.321Z"
   },
   {
    "duration": 17,
    "start_time": "2023-01-17T21:58:32.413Z"
   },
   {
    "duration": 81,
    "start_time": "2023-01-17T21:58:32.431Z"
   },
   {
    "duration": 10,
    "start_time": "2023-01-17T21:58:32.515Z"
   },
   {
    "duration": 53,
    "start_time": "2023-01-17T21:58:32.526Z"
   },
   {
    "duration": 43,
    "start_time": "2023-01-17T21:58:32.581Z"
   },
   {
    "duration": 22,
    "start_time": "2023-01-17T21:58:32.626Z"
   },
   {
    "duration": 17,
    "start_time": "2023-01-17T21:58:32.650Z"
   },
   {
    "duration": 51,
    "start_time": "2023-01-17T21:58:32.669Z"
   },
   {
    "duration": 35,
    "start_time": "2023-01-17T21:58:32.722Z"
   },
   {
    "duration": 54,
    "start_time": "2023-01-17T21:58:32.758Z"
   },
   {
    "duration": 20,
    "start_time": "2023-01-17T21:58:32.813Z"
   },
   {
    "duration": 13,
    "start_time": "2023-01-17T21:58:32.836Z"
   },
   {
    "duration": 45,
    "start_time": "2023-01-17T21:58:32.851Z"
   },
   {
    "duration": 18,
    "start_time": "2023-01-17T21:58:32.897Z"
   },
   {
    "duration": 28,
    "start_time": "2023-01-17T21:58:32.917Z"
   },
   {
    "duration": 35,
    "start_time": "2023-01-17T21:58:32.947Z"
   },
   {
    "duration": 41,
    "start_time": "2023-01-17T21:58:32.984Z"
   },
   {
    "duration": 11,
    "start_time": "2023-01-17T21:58:33.026Z"
   },
   {
    "duration": 31,
    "start_time": "2023-01-17T21:58:33.039Z"
   },
   {
    "duration": 32,
    "start_time": "2023-01-17T21:58:33.072Z"
   },
   {
    "duration": 11,
    "start_time": "2023-01-17T21:58:33.106Z"
   },
   {
    "duration": 36,
    "start_time": "2023-01-17T21:58:33.119Z"
   },
   {
    "duration": 7,
    "start_time": "2023-01-17T21:58:33.157Z"
   },
   {
    "duration": 25,
    "start_time": "2023-01-17T21:58:33.165Z"
   },
   {
    "duration": 51,
    "start_time": "2023-01-17T21:58:33.192Z"
   },
   {
    "duration": 23,
    "start_time": "2023-01-17T21:58:33.245Z"
   },
   {
    "duration": 2314,
    "start_time": "2023-01-17T21:58:33.270Z"
   },
   {
    "duration": 13,
    "start_time": "2023-01-17T21:58:35.586Z"
   },
   {
    "duration": 13,
    "start_time": "2023-01-17T21:58:35.600Z"
   },
   {
    "duration": 6,
    "start_time": "2023-01-17T21:58:35.614Z"
   },
   {
    "duration": 66,
    "start_time": "2023-01-17T21:58:35.622Z"
   },
   {
    "duration": 24,
    "start_time": "2023-01-17T21:58:35.690Z"
   },
   {
    "duration": 5,
    "start_time": "2023-01-17T21:58:35.716Z"
   },
   {
    "duration": 16,
    "start_time": "2023-01-17T21:58:35.723Z"
   },
   {
    "duration": 333,
    "start_time": "2023-01-17T21:58:35.741Z"
   },
   {
    "duration": 310,
    "start_time": "2023-01-17T21:58:36.075Z"
   },
   {
    "duration": 260,
    "start_time": "2023-01-17T21:58:36.387Z"
   },
   {
    "duration": 144,
    "start_time": "2023-01-17T21:58:36.650Z"
   },
   {
    "duration": 25,
    "start_time": "2023-01-17T21:58:36.797Z"
   },
   {
    "duration": 18,
    "start_time": "2023-01-17T21:58:36.823Z"
   },
   {
    "duration": 8,
    "start_time": "2023-01-17T21:58:36.843Z"
   },
   {
    "duration": 365,
    "start_time": "2023-01-17T21:58:36.852Z"
   },
   {
    "duration": 5,
    "start_time": "2023-01-17T21:58:37.219Z"
   },
   {
    "duration": 26,
    "start_time": "2023-01-17T21:58:37.225Z"
   },
   {
    "duration": 174,
    "start_time": "2023-01-17T21:58:37.253Z"
   },
   {
    "duration": 254,
    "start_time": "2023-01-17T21:58:37.429Z"
   },
   {
    "duration": 178,
    "start_time": "2023-01-17T21:58:37.685Z"
   },
   {
    "duration": 174,
    "start_time": "2023-01-17T21:58:37.865Z"
   },
   {
    "duration": 189,
    "start_time": "2023-01-17T21:58:38.041Z"
   },
   {
    "duration": 172,
    "start_time": "2023-01-17T21:58:38.232Z"
   },
   {
    "duration": 416,
    "start_time": "2023-01-17T22:00:27.400Z"
   },
   {
    "duration": 88,
    "start_time": "2023-01-17T22:00:27.818Z"
   },
   {
    "duration": 15,
    "start_time": "2023-01-17T22:00:27.908Z"
   },
   {
    "duration": 48,
    "start_time": "2023-01-17T22:00:27.924Z"
   },
   {
    "duration": 11,
    "start_time": "2023-01-17T22:00:27.974Z"
   },
   {
    "duration": 31,
    "start_time": "2023-01-17T22:00:27.987Z"
   },
   {
    "duration": 59,
    "start_time": "2023-01-17T22:00:28.021Z"
   },
   {
    "duration": 49,
    "start_time": "2023-01-17T22:00:28.082Z"
   },
   {
    "duration": 33,
    "start_time": "2023-01-17T22:00:28.134Z"
   },
   {
    "duration": 51,
    "start_time": "2023-01-17T22:00:28.170Z"
   },
   {
    "duration": 26,
    "start_time": "2023-01-17T22:00:28.223Z"
   },
   {
    "duration": 45,
    "start_time": "2023-01-17T22:00:28.252Z"
   },
   {
    "duration": 20,
    "start_time": "2023-01-17T22:00:28.299Z"
   },
   {
    "duration": 35,
    "start_time": "2023-01-17T22:00:28.322Z"
   },
   {
    "duration": 25,
    "start_time": "2023-01-17T22:00:28.359Z"
   },
   {
    "duration": 36,
    "start_time": "2023-01-17T22:00:28.386Z"
   },
   {
    "duration": 23,
    "start_time": "2023-01-17T22:00:28.425Z"
   },
   {
    "duration": 12,
    "start_time": "2023-01-17T22:00:28.450Z"
   },
   {
    "duration": 19,
    "start_time": "2023-01-17T22:00:28.464Z"
   },
   {
    "duration": 5,
    "start_time": "2023-01-17T22:00:28.485Z"
   },
   {
    "duration": 12,
    "start_time": "2023-01-17T22:00:28.492Z"
   },
   {
    "duration": 23,
    "start_time": "2023-01-17T22:00:28.505Z"
   },
   {
    "duration": 6,
    "start_time": "2023-01-17T22:00:28.530Z"
   },
   {
    "duration": 24,
    "start_time": "2023-01-17T22:00:28.538Z"
   },
   {
    "duration": 12,
    "start_time": "2023-01-17T22:00:28.564Z"
   },
   {
    "duration": 34,
    "start_time": "2023-01-17T22:00:28.577Z"
   },
   {
    "duration": 38,
    "start_time": "2023-01-17T22:00:28.613Z"
   },
   {
    "duration": 14,
    "start_time": "2023-01-17T22:00:28.653Z"
   },
   {
    "duration": 2440,
    "start_time": "2023-01-17T22:00:28.669Z"
   },
   {
    "duration": 14,
    "start_time": "2023-01-17T22:00:31.111Z"
   },
   {
    "duration": 33,
    "start_time": "2023-01-17T22:00:31.127Z"
   },
   {
    "duration": 20,
    "start_time": "2023-01-17T22:00:31.161Z"
   },
   {
    "duration": 85,
    "start_time": "2023-01-17T22:00:31.183Z"
   },
   {
    "duration": 15,
    "start_time": "2023-01-17T22:00:31.270Z"
   },
   {
    "duration": 18,
    "start_time": "2023-01-17T22:00:31.287Z"
   },
   {
    "duration": 31,
    "start_time": "2023-01-17T22:00:31.307Z"
   },
   {
    "duration": 359,
    "start_time": "2023-01-17T22:00:31.339Z"
   },
   {
    "duration": 274,
    "start_time": "2023-01-17T22:00:31.700Z"
   },
   {
    "duration": 39077,
    "start_time": "2023-01-17T22:00:31.976Z"
   },
   {
    "duration": 143,
    "start_time": "2023-01-17T22:01:11.055Z"
   },
   {
    "duration": 26,
    "start_time": "2023-01-17T22:01:11.202Z"
   },
   {
    "duration": 17,
    "start_time": "2023-01-17T22:01:11.230Z"
   },
   {
    "duration": 9,
    "start_time": "2023-01-17T22:01:11.249Z"
   },
   {
    "duration": 777,
    "start_time": "2023-01-17T22:01:11.260Z"
   },
   {
    "duration": 5,
    "start_time": "2023-01-17T22:01:12.039Z"
   },
   {
    "duration": 15,
    "start_time": "2023-01-17T22:01:12.045Z"
   },
   {
    "duration": 170,
    "start_time": "2023-01-17T22:01:12.062Z"
   },
   {
    "duration": 172,
    "start_time": "2023-01-17T22:01:12.234Z"
   },
   {
    "duration": 168,
    "start_time": "2023-01-17T22:01:12.407Z"
   },
   {
    "duration": 171,
    "start_time": "2023-01-17T22:01:12.577Z"
   },
   {
    "duration": 189,
    "start_time": "2023-01-17T22:01:12.749Z"
   },
   {
    "duration": 182,
    "start_time": "2023-01-17T22:01:12.941Z"
   },
   {
    "duration": 368,
    "start_time": "2023-01-17T22:01:33.565Z"
   },
   {
    "duration": 120,
    "start_time": "2023-01-17T22:01:33.935Z"
   },
   {
    "duration": 15,
    "start_time": "2023-01-17T22:01:34.057Z"
   },
   {
    "duration": 34,
    "start_time": "2023-01-17T22:01:34.074Z"
   },
   {
    "duration": 11,
    "start_time": "2023-01-17T22:01:34.110Z"
   },
   {
    "duration": 19,
    "start_time": "2023-01-17T22:01:34.122Z"
   },
   {
    "duration": 18,
    "start_time": "2023-01-17T22:01:34.143Z"
   },
   {
    "duration": 12,
    "start_time": "2023-01-17T22:01:34.163Z"
   },
   {
    "duration": 10,
    "start_time": "2023-01-17T22:01:34.176Z"
   },
   {
    "duration": 28,
    "start_time": "2023-01-17T22:01:34.188Z"
   },
   {
    "duration": 9,
    "start_time": "2023-01-17T22:01:34.218Z"
   },
   {
    "duration": 31,
    "start_time": "2023-01-17T22:01:34.229Z"
   },
   {
    "duration": 6,
    "start_time": "2023-01-17T22:01:34.262Z"
   },
   {
    "duration": 15,
    "start_time": "2023-01-17T22:01:34.269Z"
   },
   {
    "duration": 7,
    "start_time": "2023-01-17T22:01:34.286Z"
   },
   {
    "duration": 34,
    "start_time": "2023-01-17T22:01:34.295Z"
   },
   {
    "duration": 11,
    "start_time": "2023-01-17T22:01:34.331Z"
   },
   {
    "duration": 21,
    "start_time": "2023-01-17T22:01:34.344Z"
   },
   {
    "duration": 27,
    "start_time": "2023-01-17T22:01:34.367Z"
   },
   {
    "duration": 5,
    "start_time": "2023-01-17T22:01:34.396Z"
   },
   {
    "duration": 22,
    "start_time": "2023-01-17T22:01:34.403Z"
   },
   {
    "duration": 40,
    "start_time": "2023-01-17T22:01:34.427Z"
   },
   {
    "duration": 11,
    "start_time": "2023-01-17T22:01:34.470Z"
   },
   {
    "duration": 20,
    "start_time": "2023-01-17T22:01:34.483Z"
   },
   {
    "duration": 7,
    "start_time": "2023-01-17T22:01:34.505Z"
   },
   {
    "duration": 17,
    "start_time": "2023-01-17T22:01:34.514Z"
   },
   {
    "duration": 16,
    "start_time": "2023-01-17T22:01:34.532Z"
   },
   {
    "duration": 3,
    "start_time": "2023-01-17T22:01:34.552Z"
   },
   {
    "duration": 2423,
    "start_time": "2023-01-17T22:01:34.556Z"
   },
   {
    "duration": 14,
    "start_time": "2023-01-17T22:01:36.981Z"
   },
   {
    "duration": 18,
    "start_time": "2023-01-17T22:01:36.997Z"
   },
   {
    "duration": 4,
    "start_time": "2023-01-17T22:01:37.017Z"
   },
   {
    "duration": 89,
    "start_time": "2023-01-17T22:01:37.023Z"
   },
   {
    "duration": 21,
    "start_time": "2023-01-17T22:01:37.115Z"
   },
   {
    "duration": 5,
    "start_time": "2023-01-17T22:01:37.139Z"
   },
   {
    "duration": 28,
    "start_time": "2023-01-17T22:01:37.146Z"
   },
   {
    "duration": 422,
    "start_time": "2023-01-17T22:01:37.177Z"
   },
   {
    "duration": 267,
    "start_time": "2023-01-17T22:01:37.601Z"
   },
   {
    "duration": 247,
    "start_time": "2023-01-17T22:01:37.870Z"
   },
   {
    "duration": 172,
    "start_time": "2023-01-17T22:01:38.119Z"
   },
   {
    "duration": 28,
    "start_time": "2023-01-17T22:01:38.292Z"
   },
   {
    "duration": 23,
    "start_time": "2023-01-17T22:01:38.322Z"
   },
   {
    "duration": 15,
    "start_time": "2023-01-17T22:01:38.347Z"
   },
   {
    "duration": 330,
    "start_time": "2023-01-17T22:01:38.363Z"
   },
   {
    "duration": 5,
    "start_time": "2023-01-17T22:01:38.695Z"
   },
   {
    "duration": 24,
    "start_time": "2023-01-17T22:01:38.702Z"
   },
   {
    "duration": 173,
    "start_time": "2023-01-17T22:01:38.728Z"
   },
   {
    "duration": 197,
    "start_time": "2023-01-17T22:01:38.903Z"
   },
   {
    "duration": 177,
    "start_time": "2023-01-17T22:01:39.102Z"
   },
   {
    "duration": 182,
    "start_time": "2023-01-17T22:01:39.281Z"
   },
   {
    "duration": 206,
    "start_time": "2023-01-17T22:01:39.465Z"
   },
   {
    "duration": 175,
    "start_time": "2023-01-17T22:01:39.673Z"
   },
   {
    "duration": 411,
    "start_time": "2023-01-17T22:02:48.826Z"
   },
   {
    "duration": 99,
    "start_time": "2023-01-17T22:02:49.239Z"
   },
   {
    "duration": 15,
    "start_time": "2023-01-17T22:02:49.340Z"
   },
   {
    "duration": 43,
    "start_time": "2023-01-17T22:02:49.358Z"
   },
   {
    "duration": 13,
    "start_time": "2023-01-17T22:02:49.403Z"
   },
   {
    "duration": 21,
    "start_time": "2023-01-17T22:02:49.417Z"
   },
   {
    "duration": 34,
    "start_time": "2023-01-17T22:02:49.439Z"
   },
   {
    "duration": 31,
    "start_time": "2023-01-17T22:02:49.474Z"
   },
   {
    "duration": 33,
    "start_time": "2023-01-17T22:02:49.507Z"
   },
   {
    "duration": 37,
    "start_time": "2023-01-17T22:02:49.544Z"
   },
   {
    "duration": 23,
    "start_time": "2023-01-17T22:02:49.583Z"
   },
   {
    "duration": 26,
    "start_time": "2023-01-17T22:02:49.609Z"
   },
   {
    "duration": 23,
    "start_time": "2023-01-17T22:02:49.637Z"
   },
   {
    "duration": 17,
    "start_time": "2023-01-17T22:02:49.662Z"
   },
   {
    "duration": 45,
    "start_time": "2023-01-17T22:02:49.680Z"
   },
   {
    "duration": 16,
    "start_time": "2023-01-17T22:02:49.726Z"
   },
   {
    "duration": 57,
    "start_time": "2023-01-17T22:02:49.744Z"
   },
   {
    "duration": 26,
    "start_time": "2023-01-17T22:02:49.803Z"
   },
   {
    "duration": 33,
    "start_time": "2023-01-17T22:02:49.831Z"
   },
   {
    "duration": 15,
    "start_time": "2023-01-17T22:02:49.865Z"
   },
   {
    "duration": 25,
    "start_time": "2023-01-17T22:02:49.881Z"
   },
   {
    "duration": 26,
    "start_time": "2023-01-17T22:02:49.907Z"
   },
   {
    "duration": 7,
    "start_time": "2023-01-17T22:02:49.936Z"
   },
   {
    "duration": 34,
    "start_time": "2023-01-17T22:02:49.945Z"
   },
   {
    "duration": 16,
    "start_time": "2023-01-17T22:02:49.981Z"
   },
   {
    "duration": 61,
    "start_time": "2023-01-17T22:02:49.999Z"
   },
   {
    "duration": 53,
    "start_time": "2023-01-17T22:02:50.062Z"
   },
   {
    "duration": 37,
    "start_time": "2023-01-17T22:02:50.118Z"
   },
   {
    "duration": 2328,
    "start_time": "2023-01-17T22:02:50.157Z"
   },
   {
    "duration": 13,
    "start_time": "2023-01-17T22:02:52.487Z"
   },
   {
    "duration": 18,
    "start_time": "2023-01-17T22:02:52.501Z"
   },
   {
    "duration": 5,
    "start_time": "2023-01-17T22:02:52.521Z"
   },
   {
    "duration": 63,
    "start_time": "2023-01-17T22:02:52.528Z"
   },
   {
    "duration": 24,
    "start_time": "2023-01-17T22:02:52.592Z"
   },
   {
    "duration": 13,
    "start_time": "2023-01-17T22:02:52.618Z"
   },
   {
    "duration": 19,
    "start_time": "2023-01-17T22:02:52.633Z"
   },
   {
    "duration": 369,
    "start_time": "2023-01-17T22:02:52.654Z"
   },
   {
    "duration": 264,
    "start_time": "2023-01-17T22:02:53.025Z"
   },
   {
    "duration": 234,
    "start_time": "2023-01-17T22:02:53.291Z"
   },
   {
    "duration": 18,
    "start_time": "2023-01-17T22:02:53.527Z"
   },
   {
    "duration": 17,
    "start_time": "2023-01-17T22:02:53.546Z"
   },
   {
    "duration": 1266,
    "start_time": "2023-01-17T22:02:53.565Z"
   },
   {
    "duration": 0,
    "start_time": "2023-01-17T22:02:54.833Z"
   },
   {
    "duration": 0,
    "start_time": "2023-01-17T22:02:54.834Z"
   },
   {
    "duration": 0,
    "start_time": "2023-01-17T22:02:54.836Z"
   },
   {
    "duration": 0,
    "start_time": "2023-01-17T22:02:54.837Z"
   },
   {
    "duration": 0,
    "start_time": "2023-01-17T22:02:54.838Z"
   },
   {
    "duration": 0,
    "start_time": "2023-01-17T22:02:54.840Z"
   },
   {
    "duration": 0,
    "start_time": "2023-01-17T22:02:54.841Z"
   },
   {
    "duration": 0,
    "start_time": "2023-01-17T22:02:54.843Z"
   },
   {
    "duration": 0,
    "start_time": "2023-01-17T22:02:54.844Z"
   },
   {
    "duration": 3,
    "start_time": "2023-01-17T22:17:00.437Z"
   },
   {
    "duration": 106,
    "start_time": "2023-01-17T22:17:00.443Z"
   },
   {
    "duration": 16,
    "start_time": "2023-01-17T22:17:00.550Z"
   },
   {
    "duration": 70,
    "start_time": "2023-01-17T22:17:00.568Z"
   },
   {
    "duration": 18,
    "start_time": "2023-01-17T22:17:00.640Z"
   },
   {
    "duration": 31,
    "start_time": "2023-01-17T22:17:00.660Z"
   },
   {
    "duration": 46,
    "start_time": "2023-01-17T22:17:00.693Z"
   },
   {
    "duration": 22,
    "start_time": "2023-01-17T22:17:00.741Z"
   },
   {
    "duration": 20,
    "start_time": "2023-01-17T22:17:00.765Z"
   },
   {
    "duration": 37,
    "start_time": "2023-01-17T22:17:00.787Z"
   },
   {
    "duration": 16,
    "start_time": "2023-01-17T22:17:00.826Z"
   },
   {
    "duration": 54,
    "start_time": "2023-01-17T22:17:00.844Z"
   },
   {
    "duration": 11,
    "start_time": "2023-01-17T22:17:00.900Z"
   },
   {
    "duration": 29,
    "start_time": "2023-01-17T22:17:00.914Z"
   },
   {
    "duration": 21,
    "start_time": "2023-01-17T22:17:00.945Z"
   },
   {
    "duration": 17,
    "start_time": "2023-01-17T22:17:00.967Z"
   },
   {
    "duration": 11,
    "start_time": "2023-01-17T22:17:00.986Z"
   },
   {
    "duration": 19,
    "start_time": "2023-01-17T22:17:00.998Z"
   },
   {
    "duration": 43,
    "start_time": "2023-01-17T22:17:01.019Z"
   },
   {
    "duration": 60,
    "start_time": "2023-01-17T22:17:01.064Z"
   },
   {
    "duration": 76,
    "start_time": "2023-01-17T22:17:01.126Z"
   },
   {
    "duration": 48,
    "start_time": "2023-01-17T22:17:01.203Z"
   },
   {
    "duration": 51,
    "start_time": "2023-01-17T22:17:01.253Z"
   },
   {
    "duration": 65,
    "start_time": "2023-01-17T22:17:01.306Z"
   },
   {
    "duration": 9,
    "start_time": "2023-01-17T22:17:01.373Z"
   },
   {
    "duration": 10,
    "start_time": "2023-01-17T22:17:01.384Z"
   },
   {
    "duration": 33,
    "start_time": "2023-01-17T22:17:01.396Z"
   },
   {
    "duration": 10,
    "start_time": "2023-01-17T22:17:01.431Z"
   },
   {
    "duration": 2449,
    "start_time": "2023-01-17T22:17:01.444Z"
   },
   {
    "duration": 18,
    "start_time": "2023-01-17T22:17:03.895Z"
   },
   {
    "duration": 4,
    "start_time": "2023-01-17T22:17:03.915Z"
   },
   {
    "duration": 10,
    "start_time": "2023-01-17T22:17:03.921Z"
   },
   {
    "duration": 28,
    "start_time": "2023-01-17T22:17:03.933Z"
   },
   {
    "duration": 16,
    "start_time": "2023-01-17T22:17:03.963Z"
   },
   {
    "duration": 9,
    "start_time": "2023-01-17T22:17:03.981Z"
   },
   {
    "duration": 28,
    "start_time": "2023-01-17T22:17:03.992Z"
   },
   {
    "duration": 137,
    "start_time": "2023-01-17T22:17:04.022Z"
   },
   {
    "duration": 183,
    "start_time": "2023-01-17T22:17:04.161Z"
   },
   {
    "duration": 17,
    "start_time": "2023-01-17T22:17:04.346Z"
   },
   {
    "duration": 422,
    "start_time": "2023-01-17T22:17:14.298Z"
   },
   {
    "duration": 91,
    "start_time": "2023-01-17T22:17:14.723Z"
   },
   {
    "duration": 15,
    "start_time": "2023-01-17T22:17:14.816Z"
   },
   {
    "duration": 34,
    "start_time": "2023-01-17T22:17:14.833Z"
   },
   {
    "duration": 10,
    "start_time": "2023-01-17T22:17:14.869Z"
   },
   {
    "duration": 12,
    "start_time": "2023-01-17T22:17:14.881Z"
   },
   {
    "duration": 19,
    "start_time": "2023-01-17T22:17:14.895Z"
   },
   {
    "duration": 20,
    "start_time": "2023-01-17T22:17:14.916Z"
   },
   {
    "duration": 10,
    "start_time": "2023-01-17T22:17:14.938Z"
   },
   {
    "duration": 18,
    "start_time": "2023-01-17T22:17:14.952Z"
   },
   {
    "duration": 12,
    "start_time": "2023-01-17T22:17:14.972Z"
   },
   {
    "duration": 46,
    "start_time": "2023-01-17T22:17:14.986Z"
   },
   {
    "duration": 34,
    "start_time": "2023-01-17T22:17:15.033Z"
   },
   {
    "duration": 19,
    "start_time": "2023-01-17T22:17:15.069Z"
   },
   {
    "duration": 12,
    "start_time": "2023-01-17T22:17:15.089Z"
   },
   {
    "duration": 25,
    "start_time": "2023-01-17T22:17:15.103Z"
   },
   {
    "duration": 18,
    "start_time": "2023-01-17T22:17:15.130Z"
   },
   {
    "duration": 8,
    "start_time": "2023-01-17T22:17:15.150Z"
   },
   {
    "duration": 16,
    "start_time": "2023-01-17T22:17:15.159Z"
   },
   {
    "duration": 5,
    "start_time": "2023-01-17T22:17:15.177Z"
   },
   {
    "duration": 13,
    "start_time": "2023-01-17T22:17:15.184Z"
   },
   {
    "duration": 11,
    "start_time": "2023-01-17T22:17:15.199Z"
   },
   {
    "duration": 5,
    "start_time": "2023-01-17T22:17:15.211Z"
   },
   {
    "duration": 13,
    "start_time": "2023-01-17T22:17:15.218Z"
   },
   {
    "duration": 6,
    "start_time": "2023-01-17T22:17:15.233Z"
   },
   {
    "duration": 15,
    "start_time": "2023-01-17T22:17:15.240Z"
   },
   {
    "duration": 21,
    "start_time": "2023-01-17T22:17:15.257Z"
   },
   {
    "duration": 4,
    "start_time": "2023-01-17T22:17:15.282Z"
   },
   {
    "duration": 2271,
    "start_time": "2023-01-17T22:17:15.288Z"
   },
   {
    "duration": 14,
    "start_time": "2023-01-17T22:17:17.561Z"
   },
   {
    "duration": 27,
    "start_time": "2023-01-17T22:17:17.576Z"
   },
   {
    "duration": 21,
    "start_time": "2023-01-17T22:17:17.604Z"
   },
   {
    "duration": 75,
    "start_time": "2023-01-17T22:17:17.626Z"
   },
   {
    "duration": 14,
    "start_time": "2023-01-17T22:17:17.703Z"
   },
   {
    "duration": 44,
    "start_time": "2023-01-17T22:17:17.720Z"
   },
   {
    "duration": 24,
    "start_time": "2023-01-17T22:17:17.766Z"
   },
   {
    "duration": 351,
    "start_time": "2023-01-17T22:17:17.792Z"
   },
   {
    "duration": 188,
    "start_time": "2023-01-17T22:17:18.145Z"
   },
   {
    "duration": 18,
    "start_time": "2023-01-17T22:17:18.335Z"
   },
   {
    "duration": 382,
    "start_time": "2023-01-17T22:17:18.355Z"
   },
   {
    "duration": 5,
    "start_time": "2023-01-17T22:17:18.739Z"
   },
   {
    "duration": 25,
    "start_time": "2023-01-17T22:17:18.745Z"
   },
   {
    "duration": 195,
    "start_time": "2023-01-17T22:17:18.771Z"
   },
   {
    "duration": 201,
    "start_time": "2023-01-17T22:17:18.969Z"
   },
   {
    "duration": 170,
    "start_time": "2023-01-17T22:17:19.172Z"
   },
   {
    "duration": 189,
    "start_time": "2023-01-17T22:17:19.344Z"
   },
   {
    "duration": 178,
    "start_time": "2023-01-17T22:17:19.535Z"
   },
   {
    "duration": 171,
    "start_time": "2023-01-17T22:17:19.715Z"
   },
   {
    "duration": 420,
    "start_time": "2023-01-17T22:45:56.998Z"
   },
   {
    "duration": 89,
    "start_time": "2023-01-17T22:45:57.420Z"
   },
   {
    "duration": 15,
    "start_time": "2023-01-17T22:45:57.511Z"
   },
   {
    "duration": 36,
    "start_time": "2023-01-17T22:45:57.528Z"
   },
   {
    "duration": 10,
    "start_time": "2023-01-17T22:45:57.566Z"
   },
   {
    "duration": 15,
    "start_time": "2023-01-17T22:45:57.578Z"
   },
   {
    "duration": 33,
    "start_time": "2023-01-17T22:45:57.594Z"
   },
   {
    "duration": 26,
    "start_time": "2023-01-17T22:45:57.628Z"
   },
   {
    "duration": 10,
    "start_time": "2023-01-17T22:45:57.655Z"
   },
   {
    "duration": 31,
    "start_time": "2023-01-17T22:45:57.668Z"
   },
   {
    "duration": 13,
    "start_time": "2023-01-17T22:45:57.701Z"
   },
   {
    "duration": 24,
    "start_time": "2023-01-17T22:45:57.716Z"
   },
   {
    "duration": 4,
    "start_time": "2023-01-17T22:45:57.741Z"
   },
   {
    "duration": 10,
    "start_time": "2023-01-17T22:45:57.746Z"
   },
   {
    "duration": 13,
    "start_time": "2023-01-17T22:45:57.758Z"
   },
   {
    "duration": 12,
    "start_time": "2023-01-17T22:45:57.772Z"
   },
   {
    "duration": 18,
    "start_time": "2023-01-17T22:45:57.786Z"
   },
   {
    "duration": 9,
    "start_time": "2023-01-17T22:45:57.805Z"
   },
   {
    "duration": 22,
    "start_time": "2023-01-17T22:45:57.816Z"
   },
   {
    "duration": 6,
    "start_time": "2023-01-17T22:45:57.840Z"
   },
   {
    "duration": 31,
    "start_time": "2023-01-17T22:45:57.847Z"
   },
   {
    "duration": 16,
    "start_time": "2023-01-17T22:45:57.880Z"
   },
   {
    "duration": 5,
    "start_time": "2023-01-17T22:45:57.897Z"
   },
   {
    "duration": 15,
    "start_time": "2023-01-17T22:45:57.904Z"
   },
   {
    "duration": 11,
    "start_time": "2023-01-17T22:45:57.920Z"
   },
   {
    "duration": 11,
    "start_time": "2023-01-17T22:45:57.932Z"
   },
   {
    "duration": 20,
    "start_time": "2023-01-17T22:45:57.944Z"
   },
   {
    "duration": 4,
    "start_time": "2023-01-17T22:45:57.967Z"
   },
   {
    "duration": 2299,
    "start_time": "2023-01-17T22:45:57.972Z"
   },
   {
    "duration": 13,
    "start_time": "2023-01-17T22:46:00.273Z"
   },
   {
    "duration": 19,
    "start_time": "2023-01-17T22:46:00.288Z"
   },
   {
    "duration": 15,
    "start_time": "2023-01-17T22:46:00.309Z"
   },
   {
    "duration": 91,
    "start_time": "2023-01-17T22:46:00.326Z"
   },
   {
    "duration": 26,
    "start_time": "2023-01-17T22:46:00.419Z"
   },
   {
    "duration": 33,
    "start_time": "2023-01-17T22:46:00.447Z"
   },
   {
    "duration": 44,
    "start_time": "2023-01-17T22:46:00.482Z"
   },
   {
    "duration": 367,
    "start_time": "2023-01-17T22:46:00.529Z"
   },
   {
    "duration": 188,
    "start_time": "2023-01-17T22:46:00.898Z"
   },
   {
    "duration": 27,
    "start_time": "2023-01-17T22:46:01.087Z"
   },
   {
    "duration": 366,
    "start_time": "2023-01-17T22:46:01.115Z"
   },
   {
    "duration": 5,
    "start_time": "2023-01-17T22:46:01.483Z"
   },
   {
    "duration": 39,
    "start_time": "2023-01-17T22:46:01.490Z"
   },
   {
    "duration": 171,
    "start_time": "2023-01-17T22:46:01.531Z"
   },
   {
    "duration": 180,
    "start_time": "2023-01-17T22:46:01.704Z"
   },
   {
    "duration": 174,
    "start_time": "2023-01-17T22:46:01.885Z"
   },
   {
    "duration": 172,
    "start_time": "2023-01-17T22:46:02.060Z"
   },
   {
    "duration": 181,
    "start_time": "2023-01-17T22:46:02.234Z"
   },
   {
    "duration": 176,
    "start_time": "2023-01-17T22:46:02.416Z"
   },
   {
    "duration": 419,
    "start_time": "2023-01-18T06:46:25.972Z"
   },
   {
    "duration": 366,
    "start_time": "2023-01-18T06:46:26.393Z"
   },
   {
    "duration": 15,
    "start_time": "2023-01-18T06:46:26.760Z"
   },
   {
    "duration": 94,
    "start_time": "2023-01-18T06:46:26.777Z"
   },
   {
    "duration": 11,
    "start_time": "2023-01-18T06:46:26.872Z"
   },
   {
    "duration": 16,
    "start_time": "2023-01-18T06:46:26.884Z"
   },
   {
    "duration": 17,
    "start_time": "2023-01-18T06:46:26.901Z"
   },
   {
    "duration": 11,
    "start_time": "2023-01-18T06:46:26.920Z"
   },
   {
    "duration": 10,
    "start_time": "2023-01-18T06:46:26.932Z"
   },
   {
    "duration": 14,
    "start_time": "2023-01-18T06:46:26.945Z"
   },
   {
    "duration": 31,
    "start_time": "2023-01-18T06:46:26.961Z"
   },
   {
    "duration": 23,
    "start_time": "2023-01-18T06:46:26.993Z"
   },
   {
    "duration": 4,
    "start_time": "2023-01-18T06:46:27.018Z"
   },
   {
    "duration": 10,
    "start_time": "2023-01-18T06:46:27.023Z"
   },
   {
    "duration": 7,
    "start_time": "2023-01-18T06:46:27.035Z"
   },
   {
    "duration": 5,
    "start_time": "2023-01-18T06:46:27.044Z"
   },
   {
    "duration": 8,
    "start_time": "2023-01-18T06:46:27.051Z"
   },
   {
    "duration": 32,
    "start_time": "2023-01-18T06:46:27.060Z"
   },
   {
    "duration": 13,
    "start_time": "2023-01-18T06:46:27.094Z"
   },
   {
    "duration": 5,
    "start_time": "2023-01-18T06:46:27.109Z"
   },
   {
    "duration": 13,
    "start_time": "2023-01-18T06:46:27.115Z"
   },
   {
    "duration": 10,
    "start_time": "2023-01-18T06:46:27.130Z"
   },
   {
    "duration": 4,
    "start_time": "2023-01-18T06:46:27.141Z"
   },
   {
    "duration": 45,
    "start_time": "2023-01-18T06:46:27.147Z"
   },
   {
    "duration": 7,
    "start_time": "2023-01-18T06:46:27.194Z"
   },
   {
    "duration": 12,
    "start_time": "2023-01-18T06:46:27.203Z"
   },
   {
    "duration": 24,
    "start_time": "2023-01-18T06:46:27.217Z"
   },
   {
    "duration": 4,
    "start_time": "2023-01-18T06:46:27.245Z"
   },
   {
    "duration": 2188,
    "start_time": "2023-01-18T06:46:27.250Z"
   },
   {
    "duration": 12,
    "start_time": "2023-01-18T06:46:29.440Z"
   },
   {
    "duration": 4,
    "start_time": "2023-01-18T06:46:29.453Z"
   },
   {
    "duration": 10,
    "start_time": "2023-01-18T06:46:29.458Z"
   },
   {
    "duration": 66,
    "start_time": "2023-01-18T06:46:29.470Z"
   },
   {
    "duration": 14,
    "start_time": "2023-01-18T06:46:29.538Z"
   },
   {
    "duration": 6,
    "start_time": "2023-01-18T06:46:29.553Z"
   },
   {
    "duration": 12,
    "start_time": "2023-01-18T06:46:29.560Z"
   },
   {
    "duration": 324,
    "start_time": "2023-01-18T06:46:29.573Z"
   },
   {
    "duration": 204,
    "start_time": "2023-01-18T06:46:29.899Z"
   },
   {
    "duration": 20,
    "start_time": "2023-01-18T06:46:30.105Z"
   },
   {
    "duration": 374,
    "start_time": "2023-01-18T06:46:30.127Z"
   },
   {
    "duration": 5,
    "start_time": "2023-01-18T06:46:30.503Z"
   },
   {
    "duration": 61,
    "start_time": "2023-01-18T06:46:30.509Z"
   },
   {
    "duration": 191,
    "start_time": "2023-01-18T06:46:30.572Z"
   },
   {
    "duration": 172,
    "start_time": "2023-01-18T06:46:30.765Z"
   },
   {
    "duration": 163,
    "start_time": "2023-01-18T06:46:30.938Z"
   },
   {
    "duration": 180,
    "start_time": "2023-01-18T06:46:31.103Z"
   },
   {
    "duration": 173,
    "start_time": "2023-01-18T06:46:31.284Z"
   },
   {
    "duration": 177,
    "start_time": "2023-01-18T06:46:31.459Z"
   },
   {
    "duration": 401,
    "start_time": "2023-01-18T18:44:20.891Z"
   },
   {
    "duration": 348,
    "start_time": "2023-01-18T18:44:21.294Z"
   },
   {
    "duration": 14,
    "start_time": "2023-01-18T18:44:21.644Z"
   },
   {
    "duration": 101,
    "start_time": "2023-01-18T18:44:21.659Z"
   },
   {
    "duration": 9,
    "start_time": "2023-01-18T18:44:21.762Z"
   },
   {
    "duration": 12,
    "start_time": "2023-01-18T18:44:21.773Z"
   },
   {
    "duration": 15,
    "start_time": "2023-01-18T18:44:21.786Z"
   },
   {
    "duration": 11,
    "start_time": "2023-01-18T18:44:21.803Z"
   },
   {
    "duration": 9,
    "start_time": "2023-01-18T18:44:21.815Z"
   },
   {
    "duration": 13,
    "start_time": "2023-01-18T18:44:21.827Z"
   },
   {
    "duration": 8,
    "start_time": "2023-01-18T18:44:21.842Z"
   },
   {
    "duration": 51,
    "start_time": "2023-01-18T18:44:21.852Z"
   },
   {
    "duration": 3,
    "start_time": "2023-01-18T18:44:21.905Z"
   },
   {
    "duration": 9,
    "start_time": "2023-01-18T18:44:21.910Z"
   },
   {
    "duration": 7,
    "start_time": "2023-01-18T18:44:21.921Z"
   },
   {
    "duration": 6,
    "start_time": "2023-01-18T18:44:21.930Z"
   },
   {
    "duration": 8,
    "start_time": "2023-01-18T18:44:21.937Z"
   },
   {
    "duration": 7,
    "start_time": "2023-01-18T18:44:21.946Z"
   },
   {
    "duration": 38,
    "start_time": "2023-01-18T18:44:21.954Z"
   },
   {
    "duration": 4,
    "start_time": "2023-01-18T18:44:21.994Z"
   },
   {
    "duration": 11,
    "start_time": "2023-01-18T18:44:22.000Z"
   },
   {
    "duration": 13,
    "start_time": "2023-01-18T18:44:22.012Z"
   },
   {
    "duration": 9,
    "start_time": "2023-01-18T18:44:22.026Z"
   },
   {
    "duration": 13,
    "start_time": "2023-01-18T18:44:22.037Z"
   },
   {
    "duration": 7,
    "start_time": "2023-01-18T18:44:22.051Z"
   },
   {
    "duration": 45,
    "start_time": "2023-01-18T18:44:22.060Z"
   },
   {
    "duration": 4,
    "start_time": "2023-01-18T18:44:22.107Z"
   },
   {
    "duration": 1683,
    "start_time": "2023-01-18T18:44:22.116Z"
   },
   {
    "duration": 12,
    "start_time": "2023-01-18T18:44:23.801Z"
   },
   {
    "duration": 4,
    "start_time": "2023-01-18T18:44:23.814Z"
   },
   {
    "duration": 4,
    "start_time": "2023-01-18T18:44:23.819Z"
   },
   {
    "duration": 75,
    "start_time": "2023-01-18T18:44:23.825Z"
   },
   {
    "duration": 12,
    "start_time": "2023-01-18T18:44:23.902Z"
   },
   {
    "duration": 6,
    "start_time": "2023-01-18T18:44:23.916Z"
   },
   {
    "duration": 13,
    "start_time": "2023-01-18T18:44:23.924Z"
   },
   {
    "duration": 477,
    "start_time": "2023-01-18T18:44:23.938Z"
   },
   {
    "duration": 174,
    "start_time": "2023-01-18T18:44:24.417Z"
   },
   {
    "duration": 18,
    "start_time": "2023-01-18T18:44:24.593Z"
   },
   {
    "duration": 340,
    "start_time": "2023-01-18T18:44:24.613Z"
   },
   {
    "duration": 5,
    "start_time": "2023-01-18T18:44:24.955Z"
   },
   {
    "duration": 11,
    "start_time": "2023-01-18T18:44:24.962Z"
   },
   {
    "duration": 161,
    "start_time": "2023-01-18T18:44:24.974Z"
   },
   {
    "duration": 179,
    "start_time": "2023-01-18T18:44:25.137Z"
   },
   {
    "duration": 160,
    "start_time": "2023-01-18T18:44:25.318Z"
   },
   {
    "duration": 160,
    "start_time": "2023-01-18T18:44:25.480Z"
   },
   {
    "duration": 163,
    "start_time": "2023-01-18T18:44:25.641Z"
   },
   {
    "duration": 164,
    "start_time": "2023-01-18T18:44:25.806Z"
   },
   {
    "duration": 412,
    "start_time": "2023-01-18T18:45:48.218Z"
   },
   {
    "duration": 91,
    "start_time": "2023-01-18T18:45:48.632Z"
   },
   {
    "duration": 14,
    "start_time": "2023-01-18T18:45:48.725Z"
   },
   {
    "duration": 40,
    "start_time": "2023-01-18T18:45:48.741Z"
   },
   {
    "duration": 9,
    "start_time": "2023-01-18T18:45:48.783Z"
   },
   {
    "duration": 22,
    "start_time": "2023-01-18T18:45:48.794Z"
   },
   {
    "duration": 23,
    "start_time": "2023-01-18T18:45:48.818Z"
   },
   {
    "duration": 24,
    "start_time": "2023-01-18T18:45:48.843Z"
   },
   {
    "duration": 14,
    "start_time": "2023-01-18T18:45:48.869Z"
   },
   {
    "duration": 16,
    "start_time": "2023-01-18T18:45:48.893Z"
   },
   {
    "duration": 9,
    "start_time": "2023-01-18T18:45:48.911Z"
   },
   {
    "duration": 42,
    "start_time": "2023-01-18T18:45:48.921Z"
   },
   {
    "duration": 33,
    "start_time": "2023-01-18T18:45:48.965Z"
   },
   {
    "duration": 33,
    "start_time": "2023-01-18T18:45:49.000Z"
   },
   {
    "duration": 16,
    "start_time": "2023-01-18T18:45:49.035Z"
   },
   {
    "duration": 30,
    "start_time": "2023-01-18T18:45:49.053Z"
   },
   {
    "duration": 46,
    "start_time": "2023-01-18T18:45:49.085Z"
   },
   {
    "duration": 9,
    "start_time": "2023-01-18T18:45:49.133Z"
   },
   {
    "duration": 26,
    "start_time": "2023-01-18T18:45:49.143Z"
   },
   {
    "duration": 9,
    "start_time": "2023-01-18T18:45:49.171Z"
   },
   {
    "duration": 19,
    "start_time": "2023-01-18T18:45:49.182Z"
   },
   {
    "duration": 11,
    "start_time": "2023-01-18T18:45:49.203Z"
   },
   {
    "duration": 9,
    "start_time": "2023-01-18T18:45:49.216Z"
   },
   {
    "duration": 6,
    "start_time": "2023-01-18T18:45:49.227Z"
   },
   {
    "duration": 17,
    "start_time": "2023-01-18T18:45:49.235Z"
   },
   {
    "duration": 16,
    "start_time": "2023-01-18T18:45:49.254Z"
   },
   {
    "duration": 4,
    "start_time": "2023-01-18T18:45:49.292Z"
   },
   {
    "duration": 1804,
    "start_time": "2023-01-18T18:45:49.299Z"
   },
   {
    "duration": 13,
    "start_time": "2023-01-18T18:45:51.105Z"
   },
   {
    "duration": 4,
    "start_time": "2023-01-18T18:45:51.119Z"
   },
   {
    "duration": 8,
    "start_time": "2023-01-18T18:45:51.125Z"
   },
   {
    "duration": 86,
    "start_time": "2023-01-18T18:45:51.136Z"
   },
   {
    "duration": 13,
    "start_time": "2023-01-18T18:45:51.224Z"
   },
   {
    "duration": 27,
    "start_time": "2023-01-18T18:45:51.239Z"
   },
   {
    "duration": 63,
    "start_time": "2023-01-18T18:45:51.268Z"
   },
   {
    "duration": 0,
    "start_time": "2023-01-18T18:45:51.332Z"
   },
   {
    "duration": 0,
    "start_time": "2023-01-18T18:45:51.334Z"
   },
   {
    "duration": 0,
    "start_time": "2023-01-18T18:45:51.335Z"
   },
   {
    "duration": 0,
    "start_time": "2023-01-18T18:45:51.336Z"
   },
   {
    "duration": 0,
    "start_time": "2023-01-18T18:45:51.337Z"
   },
   {
    "duration": 0,
    "start_time": "2023-01-18T18:45:51.338Z"
   },
   {
    "duration": 0,
    "start_time": "2023-01-18T18:45:51.340Z"
   },
   {
    "duration": 0,
    "start_time": "2023-01-18T18:45:51.341Z"
   },
   {
    "duration": 0,
    "start_time": "2023-01-18T18:45:51.342Z"
   },
   {
    "duration": 0,
    "start_time": "2023-01-18T18:45:51.343Z"
   },
   {
    "duration": 0,
    "start_time": "2023-01-18T18:45:51.344Z"
   },
   {
    "duration": 320,
    "start_time": "2023-01-18T18:46:05.851Z"
   },
   {
    "duration": 17,
    "start_time": "2023-01-18T18:46:10.232Z"
   },
   {
    "duration": 387,
    "start_time": "2023-01-18T18:46:43.325Z"
   },
   {
    "duration": 97,
    "start_time": "2023-01-18T18:46:43.714Z"
   },
   {
    "duration": 14,
    "start_time": "2023-01-18T18:46:43.813Z"
   },
   {
    "duration": 39,
    "start_time": "2023-01-18T18:46:43.829Z"
   },
   {
    "duration": 10,
    "start_time": "2023-01-18T18:46:43.870Z"
   },
   {
    "duration": 13,
    "start_time": "2023-01-18T18:46:43.882Z"
   },
   {
    "duration": 24,
    "start_time": "2023-01-18T18:46:43.897Z"
   },
   {
    "duration": 12,
    "start_time": "2023-01-18T18:46:43.923Z"
   },
   {
    "duration": 11,
    "start_time": "2023-01-18T18:46:43.936Z"
   },
   {
    "duration": 22,
    "start_time": "2023-01-18T18:46:43.950Z"
   },
   {
    "duration": 19,
    "start_time": "2023-01-18T18:46:43.973Z"
   },
   {
    "duration": 24,
    "start_time": "2023-01-18T18:46:43.993Z"
   },
   {
    "duration": 10,
    "start_time": "2023-01-18T18:46:44.019Z"
   },
   {
    "duration": 9,
    "start_time": "2023-01-18T18:46:44.030Z"
   },
   {
    "duration": 7,
    "start_time": "2023-01-18T18:46:44.041Z"
   },
   {
    "duration": 6,
    "start_time": "2023-01-18T18:46:44.050Z"
   },
   {
    "duration": 12,
    "start_time": "2023-01-18T18:46:44.057Z"
   },
   {
    "duration": 23,
    "start_time": "2023-01-18T18:46:44.070Z"
   },
   {
    "duration": 14,
    "start_time": "2023-01-18T18:46:44.095Z"
   },
   {
    "duration": 5,
    "start_time": "2023-01-18T18:46:44.111Z"
   },
   {
    "duration": 12,
    "start_time": "2023-01-18T18:46:44.117Z"
   },
   {
    "duration": 13,
    "start_time": "2023-01-18T18:46:44.130Z"
   },
   {
    "duration": 5,
    "start_time": "2023-01-18T18:46:44.145Z"
   },
   {
    "duration": 41,
    "start_time": "2023-01-18T18:46:44.152Z"
   },
   {
    "duration": 5,
    "start_time": "2023-01-18T18:46:44.195Z"
   },
   {
    "duration": 8,
    "start_time": "2023-01-18T18:46:44.202Z"
   },
   {
    "duration": 16,
    "start_time": "2023-01-18T18:46:44.212Z"
   },
   {
    "duration": 3,
    "start_time": "2023-01-18T18:46:44.231Z"
   },
   {
    "duration": 2346,
    "start_time": "2023-01-18T18:46:44.236Z"
   },
   {
    "duration": 16,
    "start_time": "2023-01-18T18:46:46.584Z"
   },
   {
    "duration": 4,
    "start_time": "2023-01-18T18:46:46.601Z"
   },
   {
    "duration": 4,
    "start_time": "2023-01-18T18:46:46.607Z"
   },
   {
    "duration": 59,
    "start_time": "2023-01-18T18:46:46.612Z"
   },
   {
    "duration": 31,
    "start_time": "2023-01-18T18:46:46.672Z"
   },
   {
    "duration": 7,
    "start_time": "2023-01-18T18:46:46.705Z"
   },
   {
    "duration": 13,
    "start_time": "2023-01-18T18:46:46.713Z"
   },
   {
    "duration": 318,
    "start_time": "2023-01-18T18:46:46.728Z"
   },
   {
    "duration": 184,
    "start_time": "2023-01-18T18:46:47.048Z"
   },
   {
    "duration": 16,
    "start_time": "2023-01-18T18:46:47.233Z"
   },
   {
    "duration": 354,
    "start_time": "2023-01-18T18:46:47.251Z"
   },
   {
    "duration": 4,
    "start_time": "2023-01-18T18:46:47.607Z"
   },
   {
    "duration": 16,
    "start_time": "2023-01-18T18:46:47.612Z"
   },
   {
    "duration": 162,
    "start_time": "2023-01-18T18:46:47.630Z"
   },
   {
    "duration": 179,
    "start_time": "2023-01-18T18:46:47.793Z"
   },
   {
    "duration": 172,
    "start_time": "2023-01-18T18:46:47.974Z"
   },
   {
    "duration": 159,
    "start_time": "2023-01-18T18:46:48.148Z"
   },
   {
    "duration": 177,
    "start_time": "2023-01-18T18:46:48.308Z"
   },
   {
    "duration": 171,
    "start_time": "2023-01-18T18:46:48.491Z"
   },
   {
    "duration": 16,
    "start_time": "2023-01-18T18:49:17.079Z"
   },
   {
    "duration": 21,
    "start_time": "2023-01-18T18:49:21.981Z"
   },
   {
    "duration": 3,
    "start_time": "2023-01-18T18:50:39.432Z"
   },
   {
    "duration": 19,
    "start_time": "2023-01-18T18:50:39.671Z"
   },
   {
    "duration": 431,
    "start_time": "2023-01-18T19:57:41.560Z"
   },
   {
    "duration": 87,
    "start_time": "2023-01-18T19:57:41.993Z"
   },
   {
    "duration": 14,
    "start_time": "2023-01-18T19:57:42.082Z"
   },
   {
    "duration": 43,
    "start_time": "2023-01-18T19:57:42.097Z"
   },
   {
    "duration": 10,
    "start_time": "2023-01-18T19:57:42.142Z"
   },
   {
    "duration": 19,
    "start_time": "2023-01-18T19:57:42.153Z"
   },
   {
    "duration": 14,
    "start_time": "2023-01-18T19:57:42.173Z"
   },
   {
    "duration": 13,
    "start_time": "2023-01-18T19:57:42.189Z"
   },
   {
    "duration": 9,
    "start_time": "2023-01-18T19:57:42.204Z"
   },
   {
    "duration": 17,
    "start_time": "2023-01-18T19:57:42.215Z"
   },
   {
    "duration": 8,
    "start_time": "2023-01-18T19:57:42.233Z"
   },
   {
    "duration": 23,
    "start_time": "2023-01-18T19:57:42.243Z"
   },
   {
    "duration": 24,
    "start_time": "2023-01-18T19:57:42.268Z"
   },
   {
    "duration": 9,
    "start_time": "2023-01-18T19:57:42.295Z"
   },
   {
    "duration": 7,
    "start_time": "2023-01-18T19:57:42.306Z"
   },
   {
    "duration": 6,
    "start_time": "2023-01-18T19:57:42.315Z"
   },
   {
    "duration": 7,
    "start_time": "2023-01-18T19:57:42.323Z"
   },
   {
    "duration": 7,
    "start_time": "2023-01-18T19:57:42.332Z"
   },
   {
    "duration": 14,
    "start_time": "2023-01-18T19:57:42.340Z"
   },
   {
    "duration": 5,
    "start_time": "2023-01-18T19:57:42.356Z"
   },
   {
    "duration": 38,
    "start_time": "2023-01-18T19:57:42.363Z"
   },
   {
    "duration": 11,
    "start_time": "2023-01-18T19:57:42.402Z"
   },
   {
    "duration": 4,
    "start_time": "2023-01-18T19:57:42.414Z"
   },
   {
    "duration": 11,
    "start_time": "2023-01-18T19:57:42.420Z"
   },
   {
    "duration": 5,
    "start_time": "2023-01-18T19:57:42.433Z"
   },
   {
    "duration": 6,
    "start_time": "2023-01-18T19:57:42.440Z"
   },
   {
    "duration": 48,
    "start_time": "2023-01-18T19:57:42.447Z"
   },
   {
    "duration": 6,
    "start_time": "2023-01-18T19:57:42.497Z"
   },
   {
    "duration": 2123,
    "start_time": "2023-01-18T19:57:42.504Z"
   },
   {
    "duration": 12,
    "start_time": "2023-01-18T19:57:44.629Z"
   },
   {
    "duration": 7,
    "start_time": "2023-01-18T19:57:44.643Z"
   },
   {
    "duration": 3,
    "start_time": "2023-01-18T19:57:44.652Z"
   },
   {
    "duration": 80,
    "start_time": "2023-01-18T19:57:44.657Z"
   },
   {
    "duration": 15,
    "start_time": "2023-01-18T19:57:44.738Z"
   },
   {
    "duration": 13,
    "start_time": "2023-01-18T19:57:44.755Z"
   },
   {
    "duration": 22,
    "start_time": "2023-01-18T19:57:44.770Z"
   },
   {
    "duration": 333,
    "start_time": "2023-01-18T19:57:44.793Z"
   },
   {
    "duration": 215,
    "start_time": "2023-01-18T19:57:45.127Z"
   },
   {
    "duration": 16,
    "start_time": "2023-01-18T19:57:45.344Z"
   },
   {
    "duration": 355,
    "start_time": "2023-01-18T19:57:45.362Z"
   },
   {
    "duration": 5,
    "start_time": "2023-01-18T19:57:45.721Z"
   },
   {
    "duration": 14,
    "start_time": "2023-01-18T19:57:45.727Z"
   },
   {
    "duration": 162,
    "start_time": "2023-01-18T19:57:45.743Z"
   },
   {
    "duration": 167,
    "start_time": "2023-01-18T19:57:45.907Z"
   },
   {
    "duration": 158,
    "start_time": "2023-01-18T19:57:46.075Z"
   },
   {
    "duration": 174,
    "start_time": "2023-01-18T19:57:46.235Z"
   },
   {
    "duration": 236,
    "start_time": "2023-01-18T19:57:46.411Z"
   },
   {
    "duration": 204,
    "start_time": "2023-01-18T19:57:46.649Z"
   },
   {
    "duration": 22,
    "start_time": "2023-01-18T19:59:38.101Z"
   },
   {
    "duration": 17,
    "start_time": "2023-01-18T20:00:07.198Z"
   },
   {
    "duration": 36,
    "start_time": "2023-01-18T20:01:01.252Z"
   },
   {
    "duration": 32,
    "start_time": "2023-01-18T20:01:26.788Z"
   },
   {
    "duration": 400,
    "start_time": "2023-01-18T20:03:26.705Z"
   },
   {
    "duration": 84,
    "start_time": "2023-01-18T20:03:27.107Z"
   },
   {
    "duration": 31,
    "start_time": "2023-01-18T20:03:27.193Z"
   },
   {
    "duration": 44,
    "start_time": "2023-01-18T20:03:27.226Z"
   },
   {
    "duration": 10,
    "start_time": "2023-01-18T20:03:27.272Z"
   },
   {
    "duration": 11,
    "start_time": "2023-01-18T20:03:27.283Z"
   },
   {
    "duration": 13,
    "start_time": "2023-01-18T20:03:27.295Z"
   },
   {
    "duration": 11,
    "start_time": "2023-01-18T20:03:27.309Z"
   },
   {
    "duration": 9,
    "start_time": "2023-01-18T20:03:27.321Z"
   },
   {
    "duration": 16,
    "start_time": "2023-01-18T20:03:27.333Z"
   },
   {
    "duration": 9,
    "start_time": "2023-01-18T20:03:27.350Z"
   },
   {
    "duration": 22,
    "start_time": "2023-01-18T20:03:27.392Z"
   },
   {
    "duration": 4,
    "start_time": "2023-01-18T20:03:27.415Z"
   },
   {
    "duration": 7,
    "start_time": "2023-01-18T20:03:27.420Z"
   },
   {
    "duration": 5,
    "start_time": "2023-01-18T20:03:27.429Z"
   },
   {
    "duration": 8,
    "start_time": "2023-01-18T20:03:27.436Z"
   },
   {
    "duration": 7,
    "start_time": "2023-01-18T20:03:27.446Z"
   },
   {
    "duration": 12,
    "start_time": "2023-01-18T20:03:27.455Z"
   },
   {
    "duration": 31,
    "start_time": "2023-01-18T20:03:27.469Z"
   },
   {
    "duration": 5,
    "start_time": "2023-01-18T20:03:27.501Z"
   },
   {
    "duration": 10,
    "start_time": "2023-01-18T20:03:27.508Z"
   },
   {
    "duration": 10,
    "start_time": "2023-01-18T20:03:27.519Z"
   },
   {
    "duration": 6,
    "start_time": "2023-01-18T20:03:27.531Z"
   },
   {
    "duration": 12,
    "start_time": "2023-01-18T20:03:27.538Z"
   },
   {
    "duration": 6,
    "start_time": "2023-01-18T20:03:27.551Z"
   },
   {
    "duration": 37,
    "start_time": "2023-01-18T20:03:27.558Z"
   },
   {
    "duration": 17,
    "start_time": "2023-01-18T20:03:27.597Z"
   },
   {
    "duration": 4,
    "start_time": "2023-01-18T20:03:27.618Z"
   },
   {
    "duration": 1660,
    "start_time": "2023-01-18T20:03:27.624Z"
   },
   {
    "duration": 14,
    "start_time": "2023-01-18T20:03:29.286Z"
   },
   {
    "duration": 4,
    "start_time": "2023-01-18T20:03:29.302Z"
   },
   {
    "duration": 4,
    "start_time": "2023-01-18T20:03:29.308Z"
   },
   {
    "duration": 80,
    "start_time": "2023-01-18T20:03:29.313Z"
   },
   {
    "duration": 13,
    "start_time": "2023-01-18T20:03:29.395Z"
   },
   {
    "duration": 5,
    "start_time": "2023-01-18T20:03:29.410Z"
   },
   {
    "duration": 12,
    "start_time": "2023-01-18T20:03:29.417Z"
   },
   {
    "duration": 308,
    "start_time": "2023-01-18T20:03:29.430Z"
   },
   {
    "duration": 35,
    "start_time": "2023-01-18T20:03:29.740Z"
   },
   {
    "duration": 187,
    "start_time": "2023-01-18T20:03:29.776Z"
   },
   {
    "duration": 28,
    "start_time": "2023-01-18T20:03:29.965Z"
   },
   {
    "duration": 335,
    "start_time": "2023-01-18T20:03:29.994Z"
   },
   {
    "duration": 4,
    "start_time": "2023-01-18T20:03:30.331Z"
   },
   {
    "duration": 35,
    "start_time": "2023-01-18T20:03:30.337Z"
   },
   {
    "duration": 177,
    "start_time": "2023-01-18T20:03:30.374Z"
   },
   {
    "duration": 170,
    "start_time": "2023-01-18T20:03:30.552Z"
   },
   {
    "duration": 161,
    "start_time": "2023-01-18T20:03:30.724Z"
   },
   {
    "duration": 156,
    "start_time": "2023-01-18T20:03:30.891Z"
   },
   {
    "duration": 190,
    "start_time": "2023-01-18T20:03:31.049Z"
   },
   {
    "duration": 195,
    "start_time": "2023-01-18T20:03:31.241Z"
   },
   {
    "duration": 420,
    "start_time": "2023-01-18T20:06:00.883Z"
   },
   {
    "duration": 90,
    "start_time": "2023-01-18T20:06:01.305Z"
   },
   {
    "duration": 15,
    "start_time": "2023-01-18T20:06:01.397Z"
   },
   {
    "duration": 93,
    "start_time": "2023-01-18T20:06:01.414Z"
   },
   {
    "duration": 12,
    "start_time": "2023-01-18T20:06:01.509Z"
   },
   {
    "duration": 36,
    "start_time": "2023-01-18T20:06:01.523Z"
   },
   {
    "duration": 58,
    "start_time": "2023-01-18T20:06:01.561Z"
   },
   {
    "duration": 36,
    "start_time": "2023-01-18T20:06:01.621Z"
   },
   {
    "duration": 35,
    "start_time": "2023-01-18T20:06:01.658Z"
   },
   {
    "duration": 94,
    "start_time": "2023-01-18T20:06:01.695Z"
   },
   {
    "duration": 34,
    "start_time": "2023-01-18T20:06:01.791Z"
   },
   {
    "duration": 114,
    "start_time": "2023-01-18T20:06:01.827Z"
   },
   {
    "duration": 102,
    "start_time": "2023-01-18T20:06:01.943Z"
   },
   {
    "duration": 50,
    "start_time": "2023-01-18T20:06:02.047Z"
   },
   {
    "duration": 41,
    "start_time": "2023-01-18T20:06:02.099Z"
   },
   {
    "duration": 92,
    "start_time": "2023-01-18T20:06:02.141Z"
   },
   {
    "duration": 101,
    "start_time": "2023-01-18T20:06:02.234Z"
   },
   {
    "duration": 141,
    "start_time": "2023-01-18T20:06:02.337Z"
   },
   {
    "duration": 65,
    "start_time": "2023-01-18T20:06:02.480Z"
   },
   {
    "duration": 42,
    "start_time": "2023-01-18T20:06:02.546Z"
   },
   {
    "duration": 35,
    "start_time": "2023-01-18T20:06:02.590Z"
   },
   {
    "duration": 186,
    "start_time": "2023-01-18T20:06:02.627Z"
   },
   {
    "duration": 24,
    "start_time": "2023-01-18T20:06:02.815Z"
   },
   {
    "duration": 12,
    "start_time": "2023-01-18T20:06:02.840Z"
   },
   {
    "duration": 26,
    "start_time": "2023-01-18T20:06:02.854Z"
   },
   {
    "duration": 19,
    "start_time": "2023-01-18T20:06:02.882Z"
   },
   {
    "duration": 8,
    "start_time": "2023-01-18T20:06:02.903Z"
   },
   {
    "duration": 36,
    "start_time": "2023-01-18T20:06:02.914Z"
   },
   {
    "duration": 5,
    "start_time": "2023-01-18T20:06:02.952Z"
   },
   {
    "duration": 1711,
    "start_time": "2023-01-18T20:06:02.958Z"
   },
   {
    "duration": 21,
    "start_time": "2023-01-18T20:06:04.671Z"
   },
   {
    "duration": 58,
    "start_time": "2023-01-18T20:06:04.693Z"
   },
   {
    "duration": 79,
    "start_time": "2023-01-18T20:06:04.752Z"
   },
   {
    "duration": 143,
    "start_time": "2023-01-18T20:06:04.833Z"
   },
   {
    "duration": 227,
    "start_time": "2023-01-18T20:06:04.978Z"
   },
   {
    "duration": 31,
    "start_time": "2023-01-18T20:06:05.207Z"
   },
   {
    "duration": 36,
    "start_time": "2023-01-18T20:06:05.240Z"
   },
   {
    "duration": 343,
    "start_time": "2023-01-18T20:06:05.278Z"
   },
   {
    "duration": 172,
    "start_time": "2023-01-18T20:06:05.622Z"
   },
   {
    "duration": 15,
    "start_time": "2023-01-18T20:06:05.796Z"
   },
   {
    "duration": 420,
    "start_time": "2023-01-18T20:06:05.813Z"
   },
   {
    "duration": 4,
    "start_time": "2023-01-18T20:06:06.235Z"
   },
   {
    "duration": 15,
    "start_time": "2023-01-18T20:06:06.241Z"
   },
   {
    "duration": 201,
    "start_time": "2023-01-18T20:06:06.261Z"
   },
   {
    "duration": 176,
    "start_time": "2023-01-18T20:06:06.464Z"
   },
   {
    "duration": 167,
    "start_time": "2023-01-18T20:06:06.642Z"
   },
   {
    "duration": 161,
    "start_time": "2023-01-18T20:06:06.810Z"
   },
   {
    "duration": 166,
    "start_time": "2023-01-18T20:06:06.973Z"
   },
   {
    "duration": 189,
    "start_time": "2023-01-18T20:06:07.141Z"
   },
   {
    "duration": 442,
    "start_time": "2023-01-18T20:07:46.162Z"
   },
   {
    "duration": 88,
    "start_time": "2023-01-18T20:07:46.606Z"
   },
   {
    "duration": 14,
    "start_time": "2023-01-18T20:07:46.696Z"
   },
   {
    "duration": 42,
    "start_time": "2023-01-18T20:07:46.712Z"
   },
   {
    "duration": 10,
    "start_time": "2023-01-18T20:07:46.756Z"
   },
   {
    "duration": 17,
    "start_time": "2023-01-18T20:07:46.768Z"
   },
   {
    "duration": 17,
    "start_time": "2023-01-18T20:07:46.787Z"
   },
   {
    "duration": 11,
    "start_time": "2023-01-18T20:07:46.806Z"
   },
   {
    "duration": 21,
    "start_time": "2023-01-18T20:07:46.818Z"
   },
   {
    "duration": 14,
    "start_time": "2023-01-18T20:07:46.842Z"
   },
   {
    "duration": 8,
    "start_time": "2023-01-18T20:07:46.858Z"
   },
   {
    "duration": 39,
    "start_time": "2023-01-18T20:07:46.868Z"
   },
   {
    "duration": 5,
    "start_time": "2023-01-18T20:07:46.909Z"
   },
   {
    "duration": 12,
    "start_time": "2023-01-18T20:07:46.916Z"
   },
   {
    "duration": 7,
    "start_time": "2023-01-18T20:07:46.930Z"
   },
   {
    "duration": 20,
    "start_time": "2023-01-18T20:07:46.939Z"
   },
   {
    "duration": 12,
    "start_time": "2023-01-18T20:07:46.961Z"
   },
   {
    "duration": 16,
    "start_time": "2023-01-18T20:07:46.975Z"
   },
   {
    "duration": 29,
    "start_time": "2023-01-18T20:07:46.993Z"
   },
   {
    "duration": 6,
    "start_time": "2023-01-18T20:07:47.024Z"
   },
   {
    "duration": 23,
    "start_time": "2023-01-18T20:07:47.031Z"
   },
   {
    "duration": 32,
    "start_time": "2023-01-18T20:07:47.056Z"
   },
   {
    "duration": 9,
    "start_time": "2023-01-18T20:07:47.090Z"
   },
   {
    "duration": 7,
    "start_time": "2023-01-18T20:07:47.101Z"
   },
   {
    "duration": 21,
    "start_time": "2023-01-18T20:07:47.110Z"
   },
   {
    "duration": 10,
    "start_time": "2023-01-18T20:07:47.132Z"
   },
   {
    "duration": 11,
    "start_time": "2023-01-18T20:07:47.144Z"
   },
   {
    "duration": 13,
    "start_time": "2023-01-18T20:07:47.159Z"
   },
   {
    "duration": 4,
    "start_time": "2023-01-18T20:07:47.174Z"
   },
   {
    "duration": 1799,
    "start_time": "2023-01-18T20:07:47.179Z"
   },
   {
    "duration": 20,
    "start_time": "2023-01-18T20:07:48.981Z"
   },
   {
    "duration": 20,
    "start_time": "2023-01-18T20:07:49.003Z"
   },
   {
    "duration": 17,
    "start_time": "2023-01-18T20:07:49.025Z"
   },
   {
    "duration": 66,
    "start_time": "2023-01-18T20:07:49.044Z"
   },
   {
    "duration": 19,
    "start_time": "2023-01-18T20:07:49.113Z"
   },
   {
    "duration": 30,
    "start_time": "2023-01-18T20:07:49.135Z"
   },
   {
    "duration": 35,
    "start_time": "2023-01-18T20:07:49.166Z"
   },
   {
    "duration": 350,
    "start_time": "2023-01-18T20:07:49.204Z"
   },
   {
    "duration": 180,
    "start_time": "2023-01-18T20:07:49.556Z"
   },
   {
    "duration": 16,
    "start_time": "2023-01-18T20:07:49.737Z"
   },
   {
    "duration": 362,
    "start_time": "2023-01-18T20:07:49.755Z"
   },
   {
    "duration": 4,
    "start_time": "2023-01-18T20:07:50.120Z"
   },
   {
    "duration": 13,
    "start_time": "2023-01-18T20:07:50.126Z"
   },
   {
    "duration": 157,
    "start_time": "2023-01-18T20:07:50.141Z"
   },
   {
    "duration": 192,
    "start_time": "2023-01-18T20:07:50.300Z"
   },
   {
    "duration": 282,
    "start_time": "2023-01-18T20:07:50.495Z"
   },
   {
    "duration": 166,
    "start_time": "2023-01-18T20:07:50.779Z"
   },
   {
    "duration": 172,
    "start_time": "2023-01-18T20:07:50.947Z"
   },
   {
    "duration": 180,
    "start_time": "2023-01-18T20:07:51.121Z"
   },
   {
    "duration": 366,
    "start_time": "2023-01-18T20:08:34.226Z"
   },
   {
    "duration": 85,
    "start_time": "2023-01-18T20:08:34.595Z"
   },
   {
    "duration": 16,
    "start_time": "2023-01-18T20:08:34.682Z"
   },
   {
    "duration": 39,
    "start_time": "2023-01-18T20:08:34.700Z"
   },
   {
    "duration": 10,
    "start_time": "2023-01-18T20:08:34.740Z"
   },
   {
    "duration": 11,
    "start_time": "2023-01-18T20:08:34.752Z"
   },
   {
    "duration": 16,
    "start_time": "2023-01-18T20:08:34.765Z"
   },
   {
    "duration": 13,
    "start_time": "2023-01-18T20:08:34.783Z"
   },
   {
    "duration": 10,
    "start_time": "2023-01-18T20:08:34.798Z"
   },
   {
    "duration": 30,
    "start_time": "2023-01-18T20:08:34.810Z"
   },
   {
    "duration": 8,
    "start_time": "2023-01-18T20:08:34.842Z"
   },
   {
    "duration": 23,
    "start_time": "2023-01-18T20:08:34.852Z"
   },
   {
    "duration": 3,
    "start_time": "2023-01-18T20:08:34.877Z"
   },
   {
    "duration": 14,
    "start_time": "2023-01-18T20:08:34.882Z"
   },
   {
    "duration": 10,
    "start_time": "2023-01-18T20:08:34.898Z"
   },
   {
    "duration": 7,
    "start_time": "2023-01-18T20:08:34.910Z"
   },
   {
    "duration": 14,
    "start_time": "2023-01-18T20:08:34.918Z"
   },
   {
    "duration": 15,
    "start_time": "2023-01-18T20:08:34.933Z"
   },
   {
    "duration": 16,
    "start_time": "2023-01-18T20:08:34.949Z"
   },
   {
    "duration": 5,
    "start_time": "2023-01-18T20:08:34.966Z"
   },
   {
    "duration": 10,
    "start_time": "2023-01-18T20:08:34.993Z"
   },
   {
    "duration": 12,
    "start_time": "2023-01-18T20:08:35.005Z"
   },
   {
    "duration": 6,
    "start_time": "2023-01-18T20:08:35.019Z"
   },
   {
    "duration": 11,
    "start_time": "2023-01-18T20:08:35.027Z"
   },
   {
    "duration": 58,
    "start_time": "2023-01-18T20:08:35.040Z"
   },
   {
    "duration": 5,
    "start_time": "2023-01-18T20:08:35.100Z"
   },
   {
    "duration": 8,
    "start_time": "2023-01-18T20:08:35.107Z"
   },
   {
    "duration": 13,
    "start_time": "2023-01-18T20:08:35.117Z"
   },
   {
    "duration": 4,
    "start_time": "2023-01-18T20:08:35.132Z"
   },
   {
    "duration": 1794,
    "start_time": "2023-01-18T20:08:35.138Z"
   },
   {
    "duration": 12,
    "start_time": "2023-01-18T20:08:36.934Z"
   },
   {
    "duration": 4,
    "start_time": "2023-01-18T20:08:36.947Z"
   },
   {
    "duration": 4,
    "start_time": "2023-01-18T20:08:36.953Z"
   },
   {
    "duration": 138,
    "start_time": "2023-01-18T20:08:36.958Z"
   },
   {
    "duration": 11,
    "start_time": "2023-01-18T20:08:37.098Z"
   },
   {
    "duration": 11,
    "start_time": "2023-01-18T20:08:37.111Z"
   },
   {
    "duration": 68,
    "start_time": "2023-01-18T20:08:37.124Z"
   },
   {
    "duration": 544,
    "start_time": "2023-01-18T20:08:37.195Z"
   },
   {
    "duration": 374,
    "start_time": "2023-01-18T20:08:37.740Z"
   },
   {
    "duration": 18,
    "start_time": "2023-01-18T20:08:38.115Z"
   },
   {
    "duration": 647,
    "start_time": "2023-01-18T20:08:38.134Z"
   },
   {
    "duration": 5,
    "start_time": "2023-01-18T20:08:38.782Z"
   },
   {
    "duration": 31,
    "start_time": "2023-01-18T20:08:38.788Z"
   },
   {
    "duration": 156,
    "start_time": "2023-01-18T20:08:38.820Z"
   },
   {
    "duration": 169,
    "start_time": "2023-01-18T20:08:38.977Z"
   },
   {
    "duration": 174,
    "start_time": "2023-01-18T20:08:39.148Z"
   },
   {
    "duration": 152,
    "start_time": "2023-01-18T20:08:39.324Z"
   },
   {
    "duration": 185,
    "start_time": "2023-01-18T20:08:39.477Z"
   },
   {
    "duration": 166,
    "start_time": "2023-01-18T20:08:39.663Z"
   },
   {
    "duration": 360,
    "start_time": "2023-01-18T20:09:07.643Z"
   },
   {
    "duration": 91,
    "start_time": "2023-01-18T20:09:08.005Z"
   },
   {
    "duration": 15,
    "start_time": "2023-01-18T20:09:08.097Z"
   },
   {
    "duration": 40,
    "start_time": "2023-01-18T20:09:08.115Z"
   },
   {
    "duration": 10,
    "start_time": "2023-01-18T20:09:08.157Z"
   },
   {
    "duration": 13,
    "start_time": "2023-01-18T20:09:08.168Z"
   },
   {
    "duration": 14,
    "start_time": "2023-01-18T20:09:08.182Z"
   },
   {
    "duration": 17,
    "start_time": "2023-01-18T20:09:08.198Z"
   },
   {
    "duration": 12,
    "start_time": "2023-01-18T20:09:08.216Z"
   },
   {
    "duration": 20,
    "start_time": "2023-01-18T20:09:08.231Z"
   },
   {
    "duration": 14,
    "start_time": "2023-01-18T20:09:08.253Z"
   },
   {
    "duration": 31,
    "start_time": "2023-01-18T20:09:08.268Z"
   },
   {
    "duration": 3,
    "start_time": "2023-01-18T20:09:08.300Z"
   },
   {
    "duration": 16,
    "start_time": "2023-01-18T20:09:08.305Z"
   },
   {
    "duration": 16,
    "start_time": "2023-01-18T20:09:08.323Z"
   },
   {
    "duration": 6,
    "start_time": "2023-01-18T20:09:08.341Z"
   },
   {
    "duration": 12,
    "start_time": "2023-01-18T20:09:08.349Z"
   },
   {
    "duration": 8,
    "start_time": "2023-01-18T20:09:08.363Z"
   },
   {
    "duration": 19,
    "start_time": "2023-01-18T20:09:08.373Z"
   },
   {
    "duration": 5,
    "start_time": "2023-01-18T20:09:08.393Z"
   },
   {
    "duration": 17,
    "start_time": "2023-01-18T20:09:08.401Z"
   },
   {
    "duration": 10,
    "start_time": "2023-01-18T20:09:08.420Z"
   },
   {
    "duration": 6,
    "start_time": "2023-01-18T20:09:08.431Z"
   },
   {
    "duration": 12,
    "start_time": "2023-01-18T20:09:08.438Z"
   },
   {
    "duration": 5,
    "start_time": "2023-01-18T20:09:08.452Z"
   },
   {
    "duration": 15,
    "start_time": "2023-01-18T20:09:08.458Z"
   },
   {
    "duration": 43,
    "start_time": "2023-01-18T20:09:08.475Z"
   },
   {
    "duration": 15,
    "start_time": "2023-01-18T20:09:08.522Z"
   },
   {
    "duration": 5,
    "start_time": "2023-01-18T20:09:08.539Z"
   },
   {
    "duration": 1642,
    "start_time": "2023-01-18T20:09:08.545Z"
   },
   {
    "duration": 17,
    "start_time": "2023-01-18T20:09:10.189Z"
   },
   {
    "duration": 12,
    "start_time": "2023-01-18T20:09:10.208Z"
   },
   {
    "duration": 3,
    "start_time": "2023-01-18T20:09:10.222Z"
   },
   {
    "duration": 75,
    "start_time": "2023-01-18T20:09:10.226Z"
   },
   {
    "duration": 12,
    "start_time": "2023-01-18T20:09:10.303Z"
   },
   {
    "duration": 9,
    "start_time": "2023-01-18T20:09:10.316Z"
   },
   {
    "duration": 12,
    "start_time": "2023-01-18T20:09:10.327Z"
   },
   {
    "duration": 309,
    "start_time": "2023-01-18T20:09:10.341Z"
   },
   {
    "duration": 171,
    "start_time": "2023-01-18T20:09:10.652Z"
   },
   {
    "duration": 16,
    "start_time": "2023-01-18T20:09:10.825Z"
   },
   {
    "duration": 351,
    "start_time": "2023-01-18T20:09:10.842Z"
   },
   {
    "duration": 4,
    "start_time": "2023-01-18T20:09:11.195Z"
   },
   {
    "duration": 17,
    "start_time": "2023-01-18T20:09:11.200Z"
   },
   {
    "duration": 168,
    "start_time": "2023-01-18T20:09:11.218Z"
   },
   {
    "duration": 175,
    "start_time": "2023-01-18T20:09:11.391Z"
   },
   {
    "duration": 181,
    "start_time": "2023-01-18T20:09:11.567Z"
   },
   {
    "duration": 164,
    "start_time": "2023-01-18T20:09:11.750Z"
   },
   {
    "duration": 171,
    "start_time": "2023-01-18T20:09:11.916Z"
   },
   {
    "duration": 172,
    "start_time": "2023-01-18T20:09:12.091Z"
   },
   {
    "duration": 374,
    "start_time": "2023-01-18T20:09:34.622Z"
   },
   {
    "duration": 89,
    "start_time": "2023-01-18T20:09:34.998Z"
   },
   {
    "duration": 13,
    "start_time": "2023-01-18T20:09:35.089Z"
   },
   {
    "duration": 39,
    "start_time": "2023-01-18T20:09:35.104Z"
   },
   {
    "duration": 11,
    "start_time": "2023-01-18T20:09:35.144Z"
   },
   {
    "duration": 11,
    "start_time": "2023-01-18T20:09:35.157Z"
   },
   {
    "duration": 14,
    "start_time": "2023-01-18T20:09:35.170Z"
   },
   {
    "duration": 12,
    "start_time": "2023-01-18T20:09:35.185Z"
   },
   {
    "duration": 12,
    "start_time": "2023-01-18T20:09:35.199Z"
   },
   {
    "duration": 15,
    "start_time": "2023-01-18T20:09:35.214Z"
   },
   {
    "duration": 9,
    "start_time": "2023-01-18T20:09:35.230Z"
   },
   {
    "duration": 43,
    "start_time": "2023-01-18T20:09:35.249Z"
   },
   {
    "duration": 4,
    "start_time": "2023-01-18T20:09:35.294Z"
   },
   {
    "duration": 8,
    "start_time": "2023-01-18T20:09:35.299Z"
   },
   {
    "duration": 6,
    "start_time": "2023-01-18T20:09:35.308Z"
   },
   {
    "duration": 7,
    "start_time": "2023-01-18T20:09:35.315Z"
   },
   {
    "duration": 7,
    "start_time": "2023-01-18T20:09:35.323Z"
   },
   {
    "duration": 9,
    "start_time": "2023-01-18T20:09:35.332Z"
   },
   {
    "duration": 13,
    "start_time": "2023-01-18T20:09:35.342Z"
   },
   {
    "duration": 5,
    "start_time": "2023-01-18T20:09:35.356Z"
   },
   {
    "duration": 35,
    "start_time": "2023-01-18T20:09:35.362Z"
   },
   {
    "duration": 10,
    "start_time": "2023-01-18T20:09:35.399Z"
   },
   {
    "duration": 5,
    "start_time": "2023-01-18T20:09:35.410Z"
   },
   {
    "duration": 23,
    "start_time": "2023-01-18T20:09:35.417Z"
   },
   {
    "duration": 7,
    "start_time": "2023-01-18T20:09:35.441Z"
   },
   {
    "duration": 10,
    "start_time": "2023-01-18T20:09:35.449Z"
   },
   {
    "duration": 34,
    "start_time": "2023-01-18T20:09:35.461Z"
   },
   {
    "duration": 4,
    "start_time": "2023-01-18T20:09:35.498Z"
   },
   {
    "duration": 40,
    "start_time": "2023-01-18T20:09:35.503Z"
   },
   {
    "duration": 1734,
    "start_time": "2023-01-18T20:09:35.544Z"
   },
   {
    "duration": 15,
    "start_time": "2023-01-18T20:09:37.279Z"
   },
   {
    "duration": 5,
    "start_time": "2023-01-18T20:09:37.296Z"
   },
   {
    "duration": 3,
    "start_time": "2023-01-18T20:09:37.303Z"
   },
   {
    "duration": 56,
    "start_time": "2023-01-18T20:09:37.308Z"
   },
   {
    "duration": 31,
    "start_time": "2023-01-18T20:09:37.366Z"
   },
   {
    "duration": 5,
    "start_time": "2023-01-18T20:09:37.399Z"
   },
   {
    "duration": 12,
    "start_time": "2023-01-18T20:09:37.406Z"
   },
   {
    "duration": 311,
    "start_time": "2023-01-18T20:09:37.420Z"
   },
   {
    "duration": 177,
    "start_time": "2023-01-18T20:09:37.733Z"
   },
   {
    "duration": 16,
    "start_time": "2023-01-18T20:09:37.912Z"
   },
   {
    "duration": 340,
    "start_time": "2023-01-18T20:09:37.929Z"
   },
   {
    "duration": 4,
    "start_time": "2023-01-18T20:09:38.271Z"
   },
   {
    "duration": 12,
    "start_time": "2023-01-18T20:09:38.276Z"
   },
   {
    "duration": 157,
    "start_time": "2023-01-18T20:09:38.290Z"
   },
   {
    "duration": 164,
    "start_time": "2023-01-18T20:09:38.449Z"
   },
   {
    "duration": 160,
    "start_time": "2023-01-18T20:09:38.615Z"
   },
   {
    "duration": 160,
    "start_time": "2023-01-18T20:09:38.776Z"
   },
   {
    "duration": 372,
    "start_time": "2023-01-18T20:09:38.938Z"
   },
   {
    "duration": 322,
    "start_time": "2023-01-18T20:09:39.312Z"
   },
   {
    "duration": 423,
    "start_time": "2023-01-18T20:09:57.484Z"
   },
   {
    "duration": 95,
    "start_time": "2023-01-18T20:09:57.909Z"
   },
   {
    "duration": 15,
    "start_time": "2023-01-18T20:09:58.006Z"
   },
   {
    "duration": 50,
    "start_time": "2023-01-18T20:09:58.023Z"
   },
   {
    "duration": 10,
    "start_time": "2023-01-18T20:09:58.075Z"
   },
   {
    "duration": 17,
    "start_time": "2023-01-18T20:09:58.087Z"
   },
   {
    "duration": 15,
    "start_time": "2023-01-18T20:09:58.106Z"
   },
   {
    "duration": 10,
    "start_time": "2023-01-18T20:09:58.123Z"
   },
   {
    "duration": 10,
    "start_time": "2023-01-18T20:09:58.135Z"
   },
   {
    "duration": 14,
    "start_time": "2023-01-18T20:09:58.148Z"
   },
   {
    "duration": 40,
    "start_time": "2023-01-18T20:09:58.164Z"
   },
   {
    "duration": 21,
    "start_time": "2023-01-18T20:09:58.206Z"
   },
   {
    "duration": 4,
    "start_time": "2023-01-18T20:09:58.228Z"
   },
   {
    "duration": 10,
    "start_time": "2023-01-18T20:09:58.234Z"
   },
   {
    "duration": 9,
    "start_time": "2023-01-18T20:09:58.246Z"
   },
   {
    "duration": 5,
    "start_time": "2023-01-18T20:09:58.256Z"
   },
   {
    "duration": 6,
    "start_time": "2023-01-18T20:09:58.263Z"
   },
   {
    "duration": 5,
    "start_time": "2023-01-18T20:09:58.271Z"
   },
   {
    "duration": 34,
    "start_time": "2023-01-18T20:09:58.278Z"
   },
   {
    "duration": 5,
    "start_time": "2023-01-18T20:09:58.314Z"
   },
   {
    "duration": 10,
    "start_time": "2023-01-18T20:09:58.321Z"
   },
   {
    "duration": 10,
    "start_time": "2023-01-18T20:09:58.333Z"
   },
   {
    "duration": 2,
    "start_time": "2023-01-18T20:09:58.345Z"
   },
   {
    "duration": 11,
    "start_time": "2023-01-18T20:09:58.348Z"
   },
   {
    "duration": 5,
    "start_time": "2023-01-18T20:09:58.361Z"
   },
   {
    "duration": 34,
    "start_time": "2023-01-18T20:09:58.367Z"
   },
   {
    "duration": 24,
    "start_time": "2023-01-18T20:09:58.403Z"
   },
   {
    "duration": 4,
    "start_time": "2023-01-18T20:09:58.431Z"
   },
   {
    "duration": 1804,
    "start_time": "2023-01-18T20:09:58.437Z"
   },
   {
    "duration": 26,
    "start_time": "2023-01-18T20:10:00.243Z"
   },
   {
    "duration": 33,
    "start_time": "2023-01-18T20:10:00.271Z"
   },
   {
    "duration": 89,
    "start_time": "2023-01-18T20:10:00.306Z"
   },
   {
    "duration": 36,
    "start_time": "2023-01-18T20:10:00.397Z"
   },
   {
    "duration": 84,
    "start_time": "2023-01-18T20:10:00.434Z"
   },
   {
    "duration": 12,
    "start_time": "2023-01-18T20:10:00.519Z"
   },
   {
    "duration": 38,
    "start_time": "2023-01-18T20:10:00.532Z"
   },
   {
    "duration": 28,
    "start_time": "2023-01-18T20:10:00.572Z"
   },
   {
    "duration": 337,
    "start_time": "2023-01-18T20:10:00.603Z"
   },
   {
    "duration": 189,
    "start_time": "2023-01-18T20:10:00.942Z"
   },
   {
    "duration": 20,
    "start_time": "2023-01-18T20:10:01.133Z"
   },
   {
    "duration": 386,
    "start_time": "2023-01-18T20:10:01.155Z"
   },
   {
    "duration": 6,
    "start_time": "2023-01-18T20:10:01.543Z"
   },
   {
    "duration": 70,
    "start_time": "2023-01-18T20:10:01.551Z"
   },
   {
    "duration": 204,
    "start_time": "2023-01-18T20:10:01.623Z"
   },
   {
    "duration": 177,
    "start_time": "2023-01-18T20:10:01.829Z"
   },
   {
    "duration": 168,
    "start_time": "2023-01-18T20:10:02.008Z"
   },
   {
    "duration": 230,
    "start_time": "2023-01-18T20:10:02.177Z"
   },
   {
    "duration": 324,
    "start_time": "2023-01-18T20:10:02.409Z"
   },
   {
    "duration": 463,
    "start_time": "2023-01-18T20:10:02.734Z"
   },
   {
    "duration": 77,
    "start_time": "2023-01-18T20:15:34.582Z"
   },
   {
    "duration": 8,
    "start_time": "2023-01-18T20:16:00.269Z"
   },
   {
    "duration": 4,
    "start_time": "2023-01-18T20:16:04.066Z"
   },
   {
    "duration": 133,
    "start_time": "2023-01-18T20:16:27.566Z"
   },
   {
    "duration": 252,
    "start_time": "2023-01-18T20:17:24.210Z"
   },
   {
    "duration": 126,
    "start_time": "2023-01-18T20:17:49.442Z"
   },
   {
    "duration": 209,
    "start_time": "2023-01-18T20:17:58.974Z"
   },
   {
    "duration": 134,
    "start_time": "2023-01-18T20:18:28.373Z"
   },
   {
    "duration": 130,
    "start_time": "2023-01-18T20:20:23.150Z"
   },
   {
    "duration": 8,
    "start_time": "2023-01-18T20:22:00.099Z"
   },
   {
    "duration": 129,
    "start_time": "2023-01-18T20:22:00.357Z"
   },
   {
    "duration": 8,
    "start_time": "2023-01-18T20:22:20.612Z"
   },
   {
    "duration": 269,
    "start_time": "2023-01-18T20:23:00.585Z"
   },
   {
    "duration": 47,
    "start_time": "2023-01-18T21:11:34.622Z"
   },
   {
    "duration": 398,
    "start_time": "2023-01-18T21:11:43.669Z"
   },
   {
    "duration": 243,
    "start_time": "2023-01-18T21:11:44.069Z"
   },
   {
    "duration": 17,
    "start_time": "2023-01-18T21:11:44.313Z"
   },
   {
    "duration": 170,
    "start_time": "2023-01-18T21:11:44.333Z"
   },
   {
    "duration": 0,
    "start_time": "2023-01-18T21:11:44.506Z"
   },
   {
    "duration": 0,
    "start_time": "2023-01-18T21:11:44.508Z"
   },
   {
    "duration": 0,
    "start_time": "2023-01-18T21:11:44.509Z"
   },
   {
    "duration": 0,
    "start_time": "2023-01-18T21:11:44.510Z"
   },
   {
    "duration": 0,
    "start_time": "2023-01-18T21:11:44.511Z"
   },
   {
    "duration": 0,
    "start_time": "2023-01-18T21:11:44.512Z"
   },
   {
    "duration": 0,
    "start_time": "2023-01-18T21:11:44.513Z"
   },
   {
    "duration": 0,
    "start_time": "2023-01-18T21:11:44.514Z"
   },
   {
    "duration": 0,
    "start_time": "2023-01-18T21:11:44.515Z"
   },
   {
    "duration": 0,
    "start_time": "2023-01-18T21:11:44.516Z"
   },
   {
    "duration": 0,
    "start_time": "2023-01-18T21:11:44.517Z"
   },
   {
    "duration": 0,
    "start_time": "2023-01-18T21:11:44.518Z"
   },
   {
    "duration": 0,
    "start_time": "2023-01-18T21:11:44.519Z"
   },
   {
    "duration": 0,
    "start_time": "2023-01-18T21:11:44.520Z"
   },
   {
    "duration": 0,
    "start_time": "2023-01-18T21:11:44.537Z"
   },
   {
    "duration": 0,
    "start_time": "2023-01-18T21:11:44.539Z"
   },
   {
    "duration": 0,
    "start_time": "2023-01-18T21:11:44.540Z"
   },
   {
    "duration": 0,
    "start_time": "2023-01-18T21:11:44.541Z"
   },
   {
    "duration": 0,
    "start_time": "2023-01-18T21:11:44.543Z"
   },
   {
    "duration": 0,
    "start_time": "2023-01-18T21:11:44.544Z"
   },
   {
    "duration": 0,
    "start_time": "2023-01-18T21:11:44.545Z"
   },
   {
    "duration": 0,
    "start_time": "2023-01-18T21:11:44.546Z"
   },
   {
    "duration": 0,
    "start_time": "2023-01-18T21:11:44.546Z"
   },
   {
    "duration": 0,
    "start_time": "2023-01-18T21:11:44.547Z"
   },
   {
    "duration": 0,
    "start_time": "2023-01-18T21:11:44.549Z"
   },
   {
    "duration": 0,
    "start_time": "2023-01-18T21:11:44.550Z"
   },
   {
    "duration": 0,
    "start_time": "2023-01-18T21:11:44.553Z"
   },
   {
    "duration": 0,
    "start_time": "2023-01-18T21:11:44.554Z"
   },
   {
    "duration": 0,
    "start_time": "2023-01-18T21:11:44.556Z"
   },
   {
    "duration": 0,
    "start_time": "2023-01-18T21:11:44.557Z"
   },
   {
    "duration": 0,
    "start_time": "2023-01-18T21:11:44.558Z"
   },
   {
    "duration": 0,
    "start_time": "2023-01-18T21:11:44.560Z"
   },
   {
    "duration": 0,
    "start_time": "2023-01-18T21:11:44.561Z"
   },
   {
    "duration": 0,
    "start_time": "2023-01-18T21:11:44.563Z"
   },
   {
    "duration": 0,
    "start_time": "2023-01-18T21:11:44.564Z"
   },
   {
    "duration": 0,
    "start_time": "2023-01-18T21:11:44.565Z"
   },
   {
    "duration": 0,
    "start_time": "2023-01-18T21:11:44.567Z"
   },
   {
    "duration": 0,
    "start_time": "2023-01-18T21:11:44.568Z"
   },
   {
    "duration": 1,
    "start_time": "2023-01-18T21:11:44.569Z"
   },
   {
    "duration": 0,
    "start_time": "2023-01-18T21:11:44.571Z"
   },
   {
    "duration": 0,
    "start_time": "2023-01-18T21:11:44.573Z"
   },
   {
    "duration": 0,
    "start_time": "2023-01-18T21:11:44.574Z"
   },
   {
    "duration": 0,
    "start_time": "2023-01-18T21:11:44.575Z"
   },
   {
    "duration": 0,
    "start_time": "2023-01-18T21:11:44.576Z"
   },
   {
    "duration": 363,
    "start_time": "2023-01-18T21:12:43.794Z"
   },
   {
    "duration": 107,
    "start_time": "2023-01-18T21:12:44.159Z"
   },
   {
    "duration": 16,
    "start_time": "2023-01-18T21:12:44.267Z"
   },
   {
    "duration": 42,
    "start_time": "2023-01-18T21:12:44.285Z"
   },
   {
    "duration": 9,
    "start_time": "2023-01-18T21:12:44.329Z"
   },
   {
    "duration": 15,
    "start_time": "2023-01-18T21:12:44.340Z"
   },
   {
    "duration": 19,
    "start_time": "2023-01-18T21:12:44.356Z"
   },
   {
    "duration": 11,
    "start_time": "2023-01-18T21:12:44.377Z"
   },
   {
    "duration": 11,
    "start_time": "2023-01-18T21:12:44.390Z"
   },
   {
    "duration": 37,
    "start_time": "2023-01-18T21:12:44.403Z"
   },
   {
    "duration": 9,
    "start_time": "2023-01-18T21:12:44.441Z"
   },
   {
    "duration": 24,
    "start_time": "2023-01-18T21:12:44.451Z"
   },
   {
    "duration": 9,
    "start_time": "2023-01-18T21:12:44.477Z"
   },
   {
    "duration": 9,
    "start_time": "2023-01-18T21:12:44.488Z"
   },
   {
    "duration": 9,
    "start_time": "2023-01-18T21:12:44.498Z"
   },
   {
    "duration": 13,
    "start_time": "2023-01-18T21:12:44.509Z"
   },
   {
    "duration": 16,
    "start_time": "2023-01-18T21:12:44.523Z"
   },
   {
    "duration": 11,
    "start_time": "2023-01-18T21:12:44.540Z"
   },
   {
    "duration": 15,
    "start_time": "2023-01-18T21:12:44.553Z"
   },
   {
    "duration": 5,
    "start_time": "2023-01-18T21:12:44.569Z"
   },
   {
    "duration": 14,
    "start_time": "2023-01-18T21:12:44.575Z"
   },
   {
    "duration": 20,
    "start_time": "2023-01-18T21:12:44.591Z"
   },
   {
    "duration": 24,
    "start_time": "2023-01-18T21:12:44.613Z"
   },
   {
    "duration": 10,
    "start_time": "2023-01-18T21:12:44.640Z"
   },
   {
    "duration": 10,
    "start_time": "2023-01-18T21:12:44.651Z"
   },
   {
    "duration": 9,
    "start_time": "2023-01-18T21:12:44.663Z"
   },
   {
    "duration": 17,
    "start_time": "2023-01-18T21:12:44.674Z"
   },
   {
    "duration": 4,
    "start_time": "2023-01-18T21:12:44.694Z"
   },
   {
    "duration": 1870,
    "start_time": "2023-01-18T21:12:44.699Z"
   },
   {
    "duration": 12,
    "start_time": "2023-01-18T21:12:46.571Z"
   },
   {
    "duration": 30,
    "start_time": "2023-01-18T21:12:46.585Z"
   },
   {
    "duration": 22,
    "start_time": "2023-01-18T21:12:46.616Z"
   },
   {
    "duration": 91,
    "start_time": "2023-01-18T21:12:46.640Z"
   },
   {
    "duration": 12,
    "start_time": "2023-01-18T21:12:46.733Z"
   },
   {
    "duration": 13,
    "start_time": "2023-01-18T21:12:46.747Z"
   },
   {
    "duration": 18,
    "start_time": "2023-01-18T21:12:46.763Z"
   },
   {
    "duration": 509,
    "start_time": "2023-01-18T21:12:46.784Z"
   },
   {
    "duration": 195,
    "start_time": "2023-01-18T21:12:47.295Z"
   },
   {
    "duration": 17,
    "start_time": "2023-01-18T21:12:47.492Z"
   },
   {
    "duration": 373,
    "start_time": "2023-01-18T21:12:47.511Z"
   },
   {
    "duration": 4,
    "start_time": "2023-01-18T21:12:47.886Z"
   },
   {
    "duration": 53,
    "start_time": "2023-01-18T21:12:47.892Z"
   },
   {
    "duration": 193,
    "start_time": "2023-01-18T21:12:47.947Z"
   },
   {
    "duration": 200,
    "start_time": "2023-01-18T21:12:48.142Z"
   },
   {
    "duration": 169,
    "start_time": "2023-01-18T21:12:48.344Z"
   },
   {
    "duration": 164,
    "start_time": "2023-01-18T21:12:48.516Z"
   },
   {
    "duration": 177,
    "start_time": "2023-01-18T21:12:48.682Z"
   },
   {
    "duration": 179,
    "start_time": "2023-01-18T21:12:48.861Z"
   },
   {
    "duration": 15,
    "start_time": "2023-01-18T21:16:29.885Z"
   },
   {
    "duration": 394,
    "start_time": "2023-01-18T21:25:54.774Z"
   },
   {
    "duration": 105,
    "start_time": "2023-01-18T21:25:55.170Z"
   },
   {
    "duration": 14,
    "start_time": "2023-01-18T21:25:55.277Z"
   },
   {
    "duration": 45,
    "start_time": "2023-01-18T21:25:55.293Z"
   },
   {
    "duration": 0,
    "start_time": "2023-01-18T21:25:55.342Z"
   },
   {
    "duration": 0,
    "start_time": "2023-01-18T21:25:55.343Z"
   },
   {
    "duration": 0,
    "start_time": "2023-01-18T21:25:55.344Z"
   },
   {
    "duration": 0,
    "start_time": "2023-01-18T21:25:55.345Z"
   },
   {
    "duration": 0,
    "start_time": "2023-01-18T21:25:55.346Z"
   },
   {
    "duration": 0,
    "start_time": "2023-01-18T21:25:55.347Z"
   },
   {
    "duration": 0,
    "start_time": "2023-01-18T21:25:55.348Z"
   },
   {
    "duration": 0,
    "start_time": "2023-01-18T21:25:55.349Z"
   },
   {
    "duration": 0,
    "start_time": "2023-01-18T21:25:55.350Z"
   },
   {
    "duration": 0,
    "start_time": "2023-01-18T21:25:55.351Z"
   },
   {
    "duration": 0,
    "start_time": "2023-01-18T21:25:55.352Z"
   },
   {
    "duration": 0,
    "start_time": "2023-01-18T21:25:55.353Z"
   },
   {
    "duration": 0,
    "start_time": "2023-01-18T21:25:55.355Z"
   },
   {
    "duration": 0,
    "start_time": "2023-01-18T21:25:55.356Z"
   },
   {
    "duration": 0,
    "start_time": "2023-01-18T21:25:55.357Z"
   },
   {
    "duration": 0,
    "start_time": "2023-01-18T21:25:55.359Z"
   },
   {
    "duration": 0,
    "start_time": "2023-01-18T21:25:55.360Z"
   },
   {
    "duration": 0,
    "start_time": "2023-01-18T21:25:55.361Z"
   },
   {
    "duration": 1,
    "start_time": "2023-01-18T21:25:55.361Z"
   },
   {
    "duration": 0,
    "start_time": "2023-01-18T21:25:55.363Z"
   },
   {
    "duration": 0,
    "start_time": "2023-01-18T21:25:55.364Z"
   },
   {
    "duration": 0,
    "start_time": "2023-01-18T21:25:55.365Z"
   },
   {
    "duration": 0,
    "start_time": "2023-01-18T21:25:55.366Z"
   },
   {
    "duration": 0,
    "start_time": "2023-01-18T21:25:55.367Z"
   },
   {
    "duration": 0,
    "start_time": "2023-01-18T21:25:55.368Z"
   },
   {
    "duration": 0,
    "start_time": "2023-01-18T21:25:55.368Z"
   },
   {
    "duration": 0,
    "start_time": "2023-01-18T21:25:55.370Z"
   },
   {
    "duration": 0,
    "start_time": "2023-01-18T21:25:55.371Z"
   },
   {
    "duration": 0,
    "start_time": "2023-01-18T21:25:55.372Z"
   },
   {
    "duration": 0,
    "start_time": "2023-01-18T21:25:55.373Z"
   },
   {
    "duration": 0,
    "start_time": "2023-01-18T21:25:55.374Z"
   },
   {
    "duration": 0,
    "start_time": "2023-01-18T21:25:55.375Z"
   },
   {
    "duration": 0,
    "start_time": "2023-01-18T21:25:55.376Z"
   },
   {
    "duration": 0,
    "start_time": "2023-01-18T21:25:55.377Z"
   },
   {
    "duration": 0,
    "start_time": "2023-01-18T21:25:55.378Z"
   },
   {
    "duration": 0,
    "start_time": "2023-01-18T21:25:55.438Z"
   },
   {
    "duration": 0,
    "start_time": "2023-01-18T21:25:55.439Z"
   },
   {
    "duration": 0,
    "start_time": "2023-01-18T21:25:55.440Z"
   },
   {
    "duration": 0,
    "start_time": "2023-01-18T21:25:55.441Z"
   },
   {
    "duration": 0,
    "start_time": "2023-01-18T21:25:55.443Z"
   },
   {
    "duration": 0,
    "start_time": "2023-01-18T21:25:55.443Z"
   },
   {
    "duration": 0,
    "start_time": "2023-01-18T21:25:55.444Z"
   },
   {
    "duration": 0,
    "start_time": "2023-01-18T21:25:55.445Z"
   },
   {
    "duration": 0,
    "start_time": "2023-01-18T21:25:55.446Z"
   },
   {
    "duration": 0,
    "start_time": "2023-01-18T21:25:55.448Z"
   },
   {
    "duration": 406,
    "start_time": "2023-01-18T21:26:26.733Z"
   },
   {
    "duration": 102,
    "start_time": "2023-01-18T21:26:27.141Z"
   },
   {
    "duration": 13,
    "start_time": "2023-01-18T21:26:27.245Z"
   },
   {
    "duration": 41,
    "start_time": "2023-01-18T21:26:27.261Z"
   },
   {
    "duration": 0,
    "start_time": "2023-01-18T21:26:27.306Z"
   },
   {
    "duration": 0,
    "start_time": "2023-01-18T21:26:27.307Z"
   },
   {
    "duration": 0,
    "start_time": "2023-01-18T21:26:27.307Z"
   },
   {
    "duration": 0,
    "start_time": "2023-01-18T21:26:27.309Z"
   },
   {
    "duration": 0,
    "start_time": "2023-01-18T21:26:27.310Z"
   },
   {
    "duration": 0,
    "start_time": "2023-01-18T21:26:27.311Z"
   },
   {
    "duration": 0,
    "start_time": "2023-01-18T21:26:27.312Z"
   },
   {
    "duration": 0,
    "start_time": "2023-01-18T21:26:27.313Z"
   },
   {
    "duration": 0,
    "start_time": "2023-01-18T21:26:27.314Z"
   },
   {
    "duration": 0,
    "start_time": "2023-01-18T21:26:27.315Z"
   },
   {
    "duration": 0,
    "start_time": "2023-01-18T21:26:27.316Z"
   },
   {
    "duration": 0,
    "start_time": "2023-01-18T21:26:27.317Z"
   },
   {
    "duration": 0,
    "start_time": "2023-01-18T21:26:27.318Z"
   },
   {
    "duration": 0,
    "start_time": "2023-01-18T21:26:27.319Z"
   },
   {
    "duration": 0,
    "start_time": "2023-01-18T21:26:27.320Z"
   },
   {
    "duration": 0,
    "start_time": "2023-01-18T21:26:27.321Z"
   },
   {
    "duration": 0,
    "start_time": "2023-01-18T21:26:27.322Z"
   },
   {
    "duration": 0,
    "start_time": "2023-01-18T21:26:27.323Z"
   },
   {
    "duration": 0,
    "start_time": "2023-01-18T21:26:27.324Z"
   },
   {
    "duration": 0,
    "start_time": "2023-01-18T21:26:27.325Z"
   },
   {
    "duration": 0,
    "start_time": "2023-01-18T21:26:27.326Z"
   },
   {
    "duration": 0,
    "start_time": "2023-01-18T21:26:27.337Z"
   },
   {
    "duration": 0,
    "start_time": "2023-01-18T21:26:27.338Z"
   },
   {
    "duration": 0,
    "start_time": "2023-01-18T21:26:27.339Z"
   },
   {
    "duration": 0,
    "start_time": "2023-01-18T21:26:27.340Z"
   },
   {
    "duration": 0,
    "start_time": "2023-01-18T21:26:27.341Z"
   },
   {
    "duration": 0,
    "start_time": "2023-01-18T21:26:27.342Z"
   },
   {
    "duration": 0,
    "start_time": "2023-01-18T21:26:27.343Z"
   },
   {
    "duration": 0,
    "start_time": "2023-01-18T21:26:27.344Z"
   },
   {
    "duration": 0,
    "start_time": "2023-01-18T21:26:27.345Z"
   },
   {
    "duration": 0,
    "start_time": "2023-01-18T21:26:27.346Z"
   },
   {
    "duration": 0,
    "start_time": "2023-01-18T21:26:27.347Z"
   },
   {
    "duration": 0,
    "start_time": "2023-01-18T21:26:27.348Z"
   },
   {
    "duration": 0,
    "start_time": "2023-01-18T21:26:27.349Z"
   },
   {
    "duration": 0,
    "start_time": "2023-01-18T21:26:27.349Z"
   },
   {
    "duration": 0,
    "start_time": "2023-01-18T21:26:27.350Z"
   },
   {
    "duration": 0,
    "start_time": "2023-01-18T21:26:27.351Z"
   },
   {
    "duration": 0,
    "start_time": "2023-01-18T21:26:27.352Z"
   },
   {
    "duration": 0,
    "start_time": "2023-01-18T21:26:27.353Z"
   },
   {
    "duration": 0,
    "start_time": "2023-01-18T21:26:27.354Z"
   },
   {
    "duration": 0,
    "start_time": "2023-01-18T21:26:27.354Z"
   },
   {
    "duration": 0,
    "start_time": "2023-01-18T21:26:27.355Z"
   },
   {
    "duration": 0,
    "start_time": "2023-01-18T21:26:27.356Z"
   },
   {
    "duration": 0,
    "start_time": "2023-01-18T21:26:27.357Z"
   },
   {
    "duration": 0,
    "start_time": "2023-01-18T21:26:27.358Z"
   },
   {
    "duration": 416,
    "start_time": "2023-01-18T21:26:58.102Z"
   },
   {
    "duration": 99,
    "start_time": "2023-01-18T21:26:58.520Z"
   },
   {
    "duration": 15,
    "start_time": "2023-01-18T21:26:58.621Z"
   },
   {
    "duration": 57,
    "start_time": "2023-01-18T21:26:58.638Z"
   },
   {
    "duration": 9,
    "start_time": "2023-01-18T21:26:58.697Z"
   },
   {
    "duration": 17,
    "start_time": "2023-01-18T21:26:58.707Z"
   },
   {
    "duration": 21,
    "start_time": "2023-01-18T21:26:58.725Z"
   },
   {
    "duration": 14,
    "start_time": "2023-01-18T21:26:58.747Z"
   },
   {
    "duration": 12,
    "start_time": "2023-01-18T21:26:58.763Z"
   },
   {
    "duration": 20,
    "start_time": "2023-01-18T21:26:58.777Z"
   },
   {
    "duration": 21,
    "start_time": "2023-01-18T21:26:58.798Z"
   },
   {
    "duration": 27,
    "start_time": "2023-01-18T21:26:58.820Z"
   },
   {
    "duration": 25,
    "start_time": "2023-01-18T21:26:58.849Z"
   },
   {
    "duration": 13,
    "start_time": "2023-01-18T21:26:58.875Z"
   },
   {
    "duration": 28,
    "start_time": "2023-01-18T21:26:58.890Z"
   },
   {
    "duration": 12,
    "start_time": "2023-01-18T21:26:58.920Z"
   },
   {
    "duration": 30,
    "start_time": "2023-01-18T21:26:58.934Z"
   },
   {
    "duration": 13,
    "start_time": "2023-01-18T21:26:58.966Z"
   },
   {
    "duration": 10,
    "start_time": "2023-01-18T21:26:58.980Z"
   },
   {
    "duration": 29,
    "start_time": "2023-01-18T21:26:58.992Z"
   },
   {
    "duration": 8,
    "start_time": "2023-01-18T21:26:59.023Z"
   },
   {
    "duration": 24,
    "start_time": "2023-01-18T21:26:59.033Z"
   },
   {
    "duration": 48,
    "start_time": "2023-01-18T21:26:59.059Z"
   },
   {
    "duration": 1,
    "start_time": "2023-01-18T21:26:59.109Z"
   },
   {
    "duration": 0,
    "start_time": "2023-01-18T21:26:59.111Z"
   },
   {
    "duration": 0,
    "start_time": "2023-01-18T21:26:59.112Z"
   },
   {
    "duration": 0,
    "start_time": "2023-01-18T21:26:59.113Z"
   },
   {
    "duration": 0,
    "start_time": "2023-01-18T21:26:59.114Z"
   },
   {
    "duration": 0,
    "start_time": "2023-01-18T21:26:59.115Z"
   },
   {
    "duration": 0,
    "start_time": "2023-01-18T21:26:59.116Z"
   },
   {
    "duration": 0,
    "start_time": "2023-01-18T21:26:59.117Z"
   },
   {
    "duration": 0,
    "start_time": "2023-01-18T21:26:59.118Z"
   },
   {
    "duration": 0,
    "start_time": "2023-01-18T21:26:59.120Z"
   },
   {
    "duration": 0,
    "start_time": "2023-01-18T21:26:59.121Z"
   },
   {
    "duration": 0,
    "start_time": "2023-01-18T21:26:59.121Z"
   },
   {
    "duration": 0,
    "start_time": "2023-01-18T21:26:59.123Z"
   },
   {
    "duration": 0,
    "start_time": "2023-01-18T21:26:59.124Z"
   },
   {
    "duration": 0,
    "start_time": "2023-01-18T21:26:59.125Z"
   },
   {
    "duration": 0,
    "start_time": "2023-01-18T21:26:59.126Z"
   },
   {
    "duration": 0,
    "start_time": "2023-01-18T21:26:59.127Z"
   },
   {
    "duration": 0,
    "start_time": "2023-01-18T21:26:59.128Z"
   },
   {
    "duration": 0,
    "start_time": "2023-01-18T21:26:59.128Z"
   },
   {
    "duration": 0,
    "start_time": "2023-01-18T21:26:59.130Z"
   },
   {
    "duration": 0,
    "start_time": "2023-01-18T21:26:59.131Z"
   },
   {
    "duration": 0,
    "start_time": "2023-01-18T21:26:59.132Z"
   },
   {
    "duration": 0,
    "start_time": "2023-01-18T21:26:59.133Z"
   },
   {
    "duration": 0,
    "start_time": "2023-01-18T21:26:59.134Z"
   },
   {
    "duration": 0,
    "start_time": "2023-01-18T21:26:59.136Z"
   },
   {
    "duration": 0,
    "start_time": "2023-01-18T21:26:59.137Z"
   },
   {
    "duration": 401,
    "start_time": "2023-01-18T21:27:53.167Z"
   },
   {
    "duration": 107,
    "start_time": "2023-01-18T21:27:53.570Z"
   },
   {
    "duration": 15,
    "start_time": "2023-01-18T21:27:53.679Z"
   },
   {
    "duration": 44,
    "start_time": "2023-01-18T21:27:53.697Z"
   },
   {
    "duration": 9,
    "start_time": "2023-01-18T21:27:53.743Z"
   },
   {
    "duration": 18,
    "start_time": "2023-01-18T21:27:53.754Z"
   },
   {
    "duration": 25,
    "start_time": "2023-01-18T21:27:53.774Z"
   },
   {
    "duration": 36,
    "start_time": "2023-01-18T21:27:53.801Z"
   },
   {
    "duration": 12,
    "start_time": "2023-01-18T21:27:53.839Z"
   },
   {
    "duration": 27,
    "start_time": "2023-01-18T21:27:53.854Z"
   },
   {
    "duration": 37,
    "start_time": "2023-01-18T21:27:53.883Z"
   },
   {
    "duration": 7,
    "start_time": "2023-01-18T21:27:53.921Z"
   },
   {
    "duration": 21,
    "start_time": "2023-01-18T21:27:53.929Z"
   },
   {
    "duration": 23,
    "start_time": "2023-01-18T21:27:53.951Z"
   },
   {
    "duration": 26,
    "start_time": "2023-01-18T21:27:53.975Z"
   },
   {
    "duration": 23,
    "start_time": "2023-01-18T21:27:54.003Z"
   },
   {
    "duration": 29,
    "start_time": "2023-01-18T21:27:54.027Z"
   },
   {
    "duration": 26,
    "start_time": "2023-01-18T21:27:54.058Z"
   },
   {
    "duration": 23,
    "start_time": "2023-01-18T21:27:54.085Z"
   },
   {
    "duration": 25,
    "start_time": "2023-01-18T21:27:54.110Z"
   },
   {
    "duration": 6,
    "start_time": "2023-01-18T21:27:54.137Z"
   },
   {
    "duration": 25,
    "start_time": "2023-01-18T21:27:54.145Z"
   },
   {
    "duration": 22,
    "start_time": "2023-01-18T21:27:54.171Z"
   },
   {
    "duration": 16,
    "start_time": "2023-01-18T21:27:54.195Z"
   },
   {
    "duration": 17,
    "start_time": "2023-01-18T21:27:54.212Z"
   },
   {
    "duration": 19,
    "start_time": "2023-01-18T21:27:54.230Z"
   },
   {
    "duration": 20,
    "start_time": "2023-01-18T21:27:54.251Z"
   },
   {
    "duration": 30,
    "start_time": "2023-01-18T21:27:54.275Z"
   },
   {
    "duration": 6,
    "start_time": "2023-01-18T21:27:54.307Z"
   },
   {
    "duration": 1711,
    "start_time": "2023-01-18T21:27:54.315Z"
   },
   {
    "duration": 16,
    "start_time": "2023-01-18T21:27:56.027Z"
   },
   {
    "duration": 4,
    "start_time": "2023-01-18T21:27:56.044Z"
   },
   {
    "duration": 22,
    "start_time": "2023-01-18T21:27:56.049Z"
   },
   {
    "duration": 73,
    "start_time": "2023-01-18T21:27:56.072Z"
   },
   {
    "duration": 13,
    "start_time": "2023-01-18T21:27:56.147Z"
   },
   {
    "duration": 9,
    "start_time": "2023-01-18T21:27:56.162Z"
   },
   {
    "duration": 20,
    "start_time": "2023-01-18T21:27:56.172Z"
   },
   {
    "duration": 322,
    "start_time": "2023-01-18T21:27:56.194Z"
   },
   {
    "duration": 186,
    "start_time": "2023-01-18T21:27:56.518Z"
   },
   {
    "duration": 17,
    "start_time": "2023-01-18T21:27:56.706Z"
   },
   {
    "duration": 387,
    "start_time": "2023-01-18T21:27:56.725Z"
   },
   {
    "duration": 4,
    "start_time": "2023-01-18T21:27:57.113Z"
   },
   {
    "duration": 40,
    "start_time": "2023-01-18T21:27:57.119Z"
   },
   {
    "duration": 165,
    "start_time": "2023-01-18T21:27:57.160Z"
   },
   {
    "duration": 178,
    "start_time": "2023-01-18T21:27:57.327Z"
   },
   {
    "duration": 168,
    "start_time": "2023-01-18T21:27:57.507Z"
   },
   {
    "duration": 167,
    "start_time": "2023-01-18T21:27:57.677Z"
   },
   {
    "duration": 161,
    "start_time": "2023-01-18T21:27:57.846Z"
   },
   {
    "duration": 205,
    "start_time": "2023-01-18T21:27:58.008Z"
   },
   {
    "duration": 407,
    "start_time": "2023-01-18T21:38:13.238Z"
   },
   {
    "duration": 106,
    "start_time": "2023-01-18T21:38:13.648Z"
   },
   {
    "duration": 17,
    "start_time": "2023-01-18T21:38:13.755Z"
   },
   {
    "duration": 50,
    "start_time": "2023-01-18T21:38:13.774Z"
   },
   {
    "duration": 9,
    "start_time": "2023-01-18T21:38:13.826Z"
   },
   {
    "duration": 29,
    "start_time": "2023-01-18T21:38:13.837Z"
   },
   {
    "duration": 39,
    "start_time": "2023-01-18T21:38:13.867Z"
   },
   {
    "duration": 41,
    "start_time": "2023-01-18T21:38:13.908Z"
   },
   {
    "duration": 26,
    "start_time": "2023-01-18T21:38:13.950Z"
   },
   {
    "duration": 21,
    "start_time": "2023-01-18T21:38:13.980Z"
   },
   {
    "duration": 36,
    "start_time": "2023-01-18T21:38:14.003Z"
   },
   {
    "duration": 20,
    "start_time": "2023-01-18T21:38:14.041Z"
   },
   {
    "duration": 34,
    "start_time": "2023-01-18T21:38:14.063Z"
   },
   {
    "duration": 20,
    "start_time": "2023-01-18T21:38:14.099Z"
   },
   {
    "duration": 45,
    "start_time": "2023-01-18T21:38:14.121Z"
   },
   {
    "duration": 32,
    "start_time": "2023-01-18T21:38:14.168Z"
   },
   {
    "duration": 28,
    "start_time": "2023-01-18T21:38:14.202Z"
   },
   {
    "duration": 23,
    "start_time": "2023-01-18T21:38:14.232Z"
   },
   {
    "duration": 22,
    "start_time": "2023-01-18T21:38:14.257Z"
   },
   {
    "duration": 21,
    "start_time": "2023-01-18T21:38:14.281Z"
   },
   {
    "duration": 8,
    "start_time": "2023-01-18T21:38:14.304Z"
   },
   {
    "duration": 29,
    "start_time": "2023-01-18T21:38:14.314Z"
   },
   {
    "duration": 9,
    "start_time": "2023-01-18T21:38:14.344Z"
   },
   {
    "duration": 22,
    "start_time": "2023-01-18T21:38:14.354Z"
   },
   {
    "duration": 13,
    "start_time": "2023-01-18T21:38:14.378Z"
   },
   {
    "duration": 22,
    "start_time": "2023-01-18T21:38:14.393Z"
   },
   {
    "duration": 15,
    "start_time": "2023-01-18T21:38:14.417Z"
   },
   {
    "duration": 28,
    "start_time": "2023-01-18T21:38:14.435Z"
   },
   {
    "duration": 41,
    "start_time": "2023-01-18T21:38:14.464Z"
   },
   {
    "duration": 29,
    "start_time": "2023-01-18T21:38:14.507Z"
   },
   {
    "duration": 2388,
    "start_time": "2023-01-18T21:38:14.538Z"
   },
   {
    "duration": 17,
    "start_time": "2023-01-18T21:38:16.928Z"
   },
   {
    "duration": 16,
    "start_time": "2023-01-18T21:38:16.947Z"
   },
   {
    "duration": 5,
    "start_time": "2023-01-18T21:38:16.965Z"
   },
   {
    "duration": 60,
    "start_time": "2023-01-18T21:38:16.972Z"
   },
   {
    "duration": 15,
    "start_time": "2023-01-18T21:38:17.034Z"
   },
   {
    "duration": 16,
    "start_time": "2023-01-18T21:38:17.050Z"
   },
   {
    "duration": 17,
    "start_time": "2023-01-18T21:38:17.068Z"
   },
   {
    "duration": 318,
    "start_time": "2023-01-18T21:38:17.086Z"
   },
   {
    "duration": 182,
    "start_time": "2023-01-18T21:38:17.406Z"
   },
   {
    "duration": 16,
    "start_time": "2023-01-18T21:38:17.590Z"
   },
   {
    "duration": 392,
    "start_time": "2023-01-18T21:38:17.608Z"
   },
   {
    "duration": 5,
    "start_time": "2023-01-18T21:38:18.001Z"
   },
   {
    "duration": 28,
    "start_time": "2023-01-18T21:38:18.008Z"
   },
   {
    "duration": 209,
    "start_time": "2023-01-18T21:38:18.038Z"
   },
   {
    "duration": 177,
    "start_time": "2023-01-18T21:38:18.249Z"
   },
   {
    "duration": 213,
    "start_time": "2023-01-18T21:38:18.428Z"
   },
   {
    "duration": 0,
    "start_time": "2023-01-18T21:38:18.643Z"
   },
   {
    "duration": 0,
    "start_time": "2023-01-18T21:38:18.644Z"
   },
   {
    "duration": 0,
    "start_time": "2023-01-18T21:38:18.645Z"
   },
   {
    "duration": 6,
    "start_time": "2023-01-18T21:38:46.209Z"
   },
   {
    "duration": 6,
    "start_time": "2023-01-18T21:38:55.359Z"
   },
   {
    "duration": 6,
    "start_time": "2023-01-18T21:40:26.512Z"
   },
   {
    "duration": 9,
    "start_time": "2023-01-18T21:46:05.809Z"
   },
   {
    "duration": 21,
    "start_time": "2023-01-18T21:47:15.805Z"
   },
   {
    "duration": 7,
    "start_time": "2023-01-18T21:48:40.028Z"
   },
   {
    "duration": 5,
    "start_time": "2023-01-18T21:49:12.268Z"
   },
   {
    "duration": 5,
    "start_time": "2023-01-18T21:53:02.887Z"
   },
   {
    "duration": 47,
    "start_time": "2023-01-18T21:56:57.939Z"
   },
   {
    "duration": 10,
    "start_time": "2023-01-18T21:57:50.578Z"
   },
   {
    "duration": 24,
    "start_time": "2023-01-18T21:58:32.368Z"
   },
   {
    "duration": 398,
    "start_time": "2023-01-18T21:58:50.298Z"
   },
   {
    "duration": 110,
    "start_time": "2023-01-18T21:58:50.698Z"
   },
   {
    "duration": 29,
    "start_time": "2023-01-18T21:58:50.810Z"
   },
   {
    "duration": 65,
    "start_time": "2023-01-18T21:58:50.841Z"
   },
   {
    "duration": 15,
    "start_time": "2023-01-18T21:58:50.908Z"
   },
   {
    "duration": 42,
    "start_time": "2023-01-18T21:58:50.925Z"
   },
   {
    "duration": 39,
    "start_time": "2023-01-18T21:58:50.969Z"
   },
   {
    "duration": 33,
    "start_time": "2023-01-18T21:58:51.010Z"
   },
   {
    "duration": 18,
    "start_time": "2023-01-18T21:58:51.045Z"
   },
   {
    "duration": 25,
    "start_time": "2023-01-18T21:58:51.066Z"
   },
   {
    "duration": 31,
    "start_time": "2023-01-18T21:58:51.093Z"
   },
   {
    "duration": 14,
    "start_time": "2023-01-18T21:58:51.127Z"
   },
   {
    "duration": 36,
    "start_time": "2023-01-18T21:58:51.143Z"
   },
   {
    "duration": 32,
    "start_time": "2023-01-18T21:58:51.181Z"
   },
   {
    "duration": 25,
    "start_time": "2023-01-18T21:58:51.215Z"
   },
   {
    "duration": 16,
    "start_time": "2023-01-18T21:58:51.242Z"
   },
   {
    "duration": 9,
    "start_time": "2023-01-18T21:58:51.260Z"
   },
   {
    "duration": 17,
    "start_time": "2023-01-18T21:58:51.271Z"
   },
   {
    "duration": 43,
    "start_time": "2023-01-18T21:58:51.289Z"
   },
   {
    "duration": 59,
    "start_time": "2023-01-18T21:58:51.334Z"
   },
   {
    "duration": 29,
    "start_time": "2023-01-18T21:58:51.396Z"
   },
   {
    "duration": 17,
    "start_time": "2023-01-18T21:58:51.426Z"
   },
   {
    "duration": 10,
    "start_time": "2023-01-18T21:58:51.445Z"
   },
   {
    "duration": 18,
    "start_time": "2023-01-18T21:58:51.456Z"
   },
   {
    "duration": 5,
    "start_time": "2023-01-18T21:58:51.476Z"
   },
   {
    "duration": 17,
    "start_time": "2023-01-18T21:58:51.483Z"
   },
   {
    "duration": 22,
    "start_time": "2023-01-18T21:58:51.502Z"
   },
   {
    "duration": 15,
    "start_time": "2023-01-18T21:58:51.539Z"
   },
   {
    "duration": 31,
    "start_time": "2023-01-18T21:58:51.555Z"
   },
   {
    "duration": 35,
    "start_time": "2023-01-18T21:58:51.588Z"
   },
   {
    "duration": 22,
    "start_time": "2023-01-18T21:58:51.625Z"
   },
   {
    "duration": 21,
    "start_time": "2023-01-18T21:58:51.649Z"
   },
   {
    "duration": 22,
    "start_time": "2023-01-18T21:58:51.672Z"
   },
   {
    "duration": 45,
    "start_time": "2023-01-18T21:58:51.696Z"
   },
   {
    "duration": 2777,
    "start_time": "2023-01-18T21:58:51.743Z"
   },
   {
    "duration": 16,
    "start_time": "2023-01-18T21:58:54.522Z"
   },
   {
    "duration": 4,
    "start_time": "2023-01-18T21:58:54.540Z"
   },
   {
    "duration": 18,
    "start_time": "2023-01-18T21:58:54.545Z"
   },
   {
    "duration": 82,
    "start_time": "2023-01-18T21:58:54.565Z"
   },
   {
    "duration": 15,
    "start_time": "2023-01-18T21:58:54.649Z"
   },
   {
    "duration": 17,
    "start_time": "2023-01-18T21:58:54.666Z"
   },
   {
    "duration": 18,
    "start_time": "2023-01-18T21:58:54.685Z"
   },
   {
    "duration": 321,
    "start_time": "2023-01-18T21:58:54.704Z"
   },
   {
    "duration": 182,
    "start_time": "2023-01-18T21:58:55.027Z"
   },
   {
    "duration": 29,
    "start_time": "2023-01-18T21:58:55.211Z"
   },
   {
    "duration": 366,
    "start_time": "2023-01-18T21:58:55.241Z"
   },
   {
    "duration": 4,
    "start_time": "2023-01-18T21:58:55.610Z"
   },
   {
    "duration": 25,
    "start_time": "2023-01-18T21:58:55.616Z"
   },
   {
    "duration": 174,
    "start_time": "2023-01-18T21:58:55.642Z"
   },
   {
    "duration": 174,
    "start_time": "2023-01-18T21:58:55.818Z"
   },
   {
    "duration": 227,
    "start_time": "2023-01-18T21:58:55.994Z"
   },
   {
    "duration": 0,
    "start_time": "2023-01-18T21:58:56.222Z"
   },
   {
    "duration": 0,
    "start_time": "2023-01-18T21:58:56.224Z"
   },
   {
    "duration": 0,
    "start_time": "2023-01-18T21:58:56.225Z"
   },
   {
    "duration": 4,
    "start_time": "2023-01-18T22:02:07.347Z"
   },
   {
    "duration": 7,
    "start_time": "2023-01-18T22:03:15.651Z"
   },
   {
    "duration": 5,
    "start_time": "2023-01-18T22:03:17.702Z"
   },
   {
    "duration": 410,
    "start_time": "2023-01-18T22:03:38.155Z"
   },
   {
    "duration": 105,
    "start_time": "2023-01-18T22:03:38.567Z"
   },
   {
    "duration": 15,
    "start_time": "2023-01-18T22:03:38.674Z"
   },
   {
    "duration": 42,
    "start_time": "2023-01-18T22:03:38.691Z"
   },
   {
    "duration": 10,
    "start_time": "2023-01-18T22:03:38.735Z"
   },
   {
    "duration": 16,
    "start_time": "2023-01-18T22:03:38.747Z"
   },
   {
    "duration": 17,
    "start_time": "2023-01-18T22:03:38.764Z"
   },
   {
    "duration": 17,
    "start_time": "2023-01-18T22:03:38.783Z"
   },
   {
    "duration": 13,
    "start_time": "2023-01-18T22:03:38.801Z"
   },
   {
    "duration": 33,
    "start_time": "2023-01-18T22:03:38.816Z"
   },
   {
    "duration": 14,
    "start_time": "2023-01-18T22:03:38.851Z"
   },
   {
    "duration": 20,
    "start_time": "2023-01-18T22:03:38.867Z"
   },
   {
    "duration": 23,
    "start_time": "2023-01-18T22:03:38.889Z"
   },
   {
    "duration": 18,
    "start_time": "2023-01-18T22:03:38.913Z"
   },
   {
    "duration": 20,
    "start_time": "2023-01-18T22:03:38.933Z"
   },
   {
    "duration": 17,
    "start_time": "2023-01-18T22:03:38.955Z"
   },
   {
    "duration": 31,
    "start_time": "2023-01-18T22:03:38.973Z"
   },
   {
    "duration": 29,
    "start_time": "2023-01-18T22:03:39.006Z"
   },
   {
    "duration": 27,
    "start_time": "2023-01-18T22:03:39.037Z"
   },
   {
    "duration": 28,
    "start_time": "2023-01-18T22:03:39.065Z"
   },
   {
    "duration": 12,
    "start_time": "2023-01-18T22:03:39.095Z"
   },
   {
    "duration": 26,
    "start_time": "2023-01-18T22:03:39.110Z"
   },
   {
    "duration": 10,
    "start_time": "2023-01-18T22:03:39.138Z"
   },
   {
    "duration": 18,
    "start_time": "2023-01-18T22:03:39.150Z"
   },
   {
    "duration": 9,
    "start_time": "2023-01-18T22:03:39.170Z"
   },
   {
    "duration": 22,
    "start_time": "2023-01-18T22:03:39.180Z"
   },
   {
    "duration": 22,
    "start_time": "2023-01-18T22:03:39.204Z"
   },
   {
    "duration": 24,
    "start_time": "2023-01-18T22:03:39.231Z"
   },
   {
    "duration": 17,
    "start_time": "2023-01-18T22:03:39.257Z"
   },
   {
    "duration": 31,
    "start_time": "2023-01-18T22:03:39.276Z"
   },
   {
    "duration": 13,
    "start_time": "2023-01-18T22:03:39.309Z"
   },
   {
    "duration": 22,
    "start_time": "2023-01-18T22:03:39.324Z"
   },
   {
    "duration": 28,
    "start_time": "2023-01-18T22:03:39.347Z"
   },
   {
    "duration": 17,
    "start_time": "2023-01-18T22:03:39.376Z"
   },
   {
    "duration": 2351,
    "start_time": "2023-01-18T22:03:39.395Z"
   },
   {
    "duration": 11,
    "start_time": "2023-01-18T22:03:41.748Z"
   },
   {
    "duration": 8,
    "start_time": "2023-01-18T22:03:41.760Z"
   },
   {
    "duration": 5,
    "start_time": "2023-01-18T22:03:41.769Z"
   },
   {
    "duration": 69,
    "start_time": "2023-01-18T22:03:41.776Z"
   },
   {
    "duration": 15,
    "start_time": "2023-01-18T22:03:41.847Z"
   },
   {
    "duration": 6,
    "start_time": "2023-01-18T22:03:41.865Z"
   },
   {
    "duration": 13,
    "start_time": "2023-01-18T22:03:41.872Z"
   },
   {
    "duration": 342,
    "start_time": "2023-01-18T22:03:41.886Z"
   },
   {
    "duration": 191,
    "start_time": "2023-01-18T22:03:42.231Z"
   },
   {
    "duration": 28,
    "start_time": "2023-01-18T22:03:42.425Z"
   },
   {
    "duration": 373,
    "start_time": "2023-01-18T22:03:42.455Z"
   },
   {
    "duration": 5,
    "start_time": "2023-01-18T22:03:42.829Z"
   },
   {
    "duration": 16,
    "start_time": "2023-01-18T22:03:42.835Z"
   },
   {
    "duration": 171,
    "start_time": "2023-01-18T22:03:42.853Z"
   },
   {
    "duration": 183,
    "start_time": "2023-01-18T22:03:43.027Z"
   },
   {
    "duration": 236,
    "start_time": "2023-01-18T22:03:43.212Z"
   },
   {
    "duration": 0,
    "start_time": "2023-01-18T22:03:43.450Z"
   },
   {
    "duration": 0,
    "start_time": "2023-01-18T22:03:43.451Z"
   },
   {
    "duration": 0,
    "start_time": "2023-01-18T22:03:43.452Z"
   },
   {
    "duration": 8,
    "start_time": "2023-01-18T22:06:39.609Z"
   },
   {
    "duration": 48,
    "start_time": "2023-01-18T22:07:41.588Z"
   },
   {
    "duration": 10,
    "start_time": "2023-01-18T22:07:48.327Z"
   },
   {
    "duration": 8,
    "start_time": "2023-01-18T22:09:37.562Z"
   },
   {
    "duration": 7,
    "start_time": "2023-01-18T22:10:31.284Z"
   },
   {
    "duration": 51,
    "start_time": "2023-01-18T22:19:30.528Z"
   },
   {
    "duration": 435,
    "start_time": "2023-01-18T22:19:43.817Z"
   },
   {
    "duration": 108,
    "start_time": "2023-01-18T22:19:44.254Z"
   },
   {
    "duration": 15,
    "start_time": "2023-01-18T22:19:44.363Z"
   },
   {
    "duration": 46,
    "start_time": "2023-01-18T22:19:44.380Z"
   },
   {
    "duration": 10,
    "start_time": "2023-01-18T22:19:44.428Z"
   },
   {
    "duration": 22,
    "start_time": "2023-01-18T22:19:44.439Z"
   },
   {
    "duration": 39,
    "start_time": "2023-01-18T22:19:44.463Z"
   },
   {
    "duration": 18,
    "start_time": "2023-01-18T22:19:44.504Z"
   },
   {
    "duration": 19,
    "start_time": "2023-01-18T22:19:44.524Z"
   },
   {
    "duration": 16,
    "start_time": "2023-01-18T22:19:44.546Z"
   },
   {
    "duration": 25,
    "start_time": "2023-01-18T22:19:44.563Z"
   },
   {
    "duration": 21,
    "start_time": "2023-01-18T22:19:44.590Z"
   },
   {
    "duration": 26,
    "start_time": "2023-01-18T22:19:44.612Z"
   },
   {
    "duration": 9,
    "start_time": "2023-01-18T22:19:44.640Z"
   },
   {
    "duration": 14,
    "start_time": "2023-01-18T22:19:44.650Z"
   },
   {
    "duration": 10,
    "start_time": "2023-01-18T22:19:44.666Z"
   },
   {
    "duration": 10,
    "start_time": "2023-01-18T22:19:44.678Z"
   },
   {
    "duration": 12,
    "start_time": "2023-01-18T22:19:44.689Z"
   },
   {
    "duration": 16,
    "start_time": "2023-01-18T22:19:44.703Z"
   },
   {
    "duration": 25,
    "start_time": "2023-01-18T22:19:44.720Z"
   },
   {
    "duration": 6,
    "start_time": "2023-01-18T22:19:44.746Z"
   },
   {
    "duration": 22,
    "start_time": "2023-01-18T22:19:44.753Z"
   },
   {
    "duration": 20,
    "start_time": "2023-01-18T22:19:44.777Z"
   },
   {
    "duration": 24,
    "start_time": "2023-01-18T22:19:44.798Z"
   },
   {
    "duration": 16,
    "start_time": "2023-01-18T22:19:44.824Z"
   },
   {
    "duration": 18,
    "start_time": "2023-01-18T22:19:44.842Z"
   },
   {
    "duration": 12,
    "start_time": "2023-01-18T22:19:44.862Z"
   },
   {
    "duration": 15,
    "start_time": "2023-01-18T22:19:44.879Z"
   },
   {
    "duration": 24,
    "start_time": "2023-01-18T22:19:44.896Z"
   },
   {
    "duration": 11,
    "start_time": "2023-01-18T22:19:44.922Z"
   },
   {
    "duration": 22,
    "start_time": "2023-01-18T22:19:44.935Z"
   },
   {
    "duration": 18,
    "start_time": "2023-01-18T22:19:44.959Z"
   },
   {
    "duration": 41,
    "start_time": "2023-01-18T22:19:44.979Z"
   },
   {
    "duration": 35,
    "start_time": "2023-01-18T22:19:45.022Z"
   },
   {
    "duration": 19,
    "start_time": "2023-01-18T22:19:45.059Z"
   },
   {
    "duration": 53,
    "start_time": "2023-01-18T22:19:45.080Z"
   },
   {
    "duration": 16,
    "start_time": "2023-01-18T22:19:45.135Z"
   },
   {
    "duration": 57,
    "start_time": "2023-01-18T22:19:45.153Z"
   },
   {
    "duration": 4,
    "start_time": "2023-01-18T22:19:45.212Z"
   },
   {
    "duration": 2351,
    "start_time": "2023-01-18T22:19:45.217Z"
   },
   {
    "duration": 14,
    "start_time": "2023-01-18T22:19:47.570Z"
   },
   {
    "duration": 27,
    "start_time": "2023-01-18T22:19:47.586Z"
   },
   {
    "duration": 18,
    "start_time": "2023-01-18T22:19:47.615Z"
   },
   {
    "duration": 85,
    "start_time": "2023-01-18T22:19:47.635Z"
   },
   {
    "duration": 17,
    "start_time": "2023-01-18T22:19:47.722Z"
   },
   {
    "duration": 27,
    "start_time": "2023-01-18T22:19:47.741Z"
   },
   {
    "duration": 30,
    "start_time": "2023-01-18T22:19:47.770Z"
   },
   {
    "duration": 380,
    "start_time": "2023-01-18T22:19:47.802Z"
   },
   {
    "duration": 182,
    "start_time": "2023-01-18T22:19:48.185Z"
   },
   {
    "duration": 18,
    "start_time": "2023-01-18T22:19:48.369Z"
   },
   {
    "duration": 383,
    "start_time": "2023-01-18T22:19:48.389Z"
   },
   {
    "duration": 5,
    "start_time": "2023-01-18T22:19:48.773Z"
   },
   {
    "duration": 24,
    "start_time": "2023-01-18T22:19:48.780Z"
   },
   {
    "duration": 165,
    "start_time": "2023-01-18T22:19:48.806Z"
   },
   {
    "duration": 171,
    "start_time": "2023-01-18T22:19:48.973Z"
   },
   {
    "duration": 222,
    "start_time": "2023-01-18T22:19:49.146Z"
   },
   {
    "duration": 0,
    "start_time": "2023-01-18T22:19:49.370Z"
   },
   {
    "duration": 0,
    "start_time": "2023-01-18T22:19:49.372Z"
   },
   {
    "duration": 0,
    "start_time": "2023-01-18T22:19:49.373Z"
   },
   {
    "duration": 4,
    "start_time": "2023-01-18T22:21:10.179Z"
   },
   {
    "duration": 50,
    "start_time": "2023-01-18T22:21:48.987Z"
   },
   {
    "duration": 5,
    "start_time": "2023-01-18T22:26:29.177Z"
   },
   {
    "duration": 688,
    "start_time": "2023-01-18T22:26:50.467Z"
   },
   {
    "duration": 5,
    "start_time": "2023-01-18T22:26:55.756Z"
   },
   {
    "duration": 5,
    "start_time": "2023-01-18T22:27:27.568Z"
   },
   {
    "duration": 62,
    "start_time": "2023-01-18T22:30:07.073Z"
   },
   {
    "duration": 7,
    "start_time": "2023-01-18T22:30:25.027Z"
   },
   {
    "duration": 7,
    "start_time": "2023-01-18T22:32:02.165Z"
   },
   {
    "duration": 7,
    "start_time": "2023-01-18T22:33:22.439Z"
   },
   {
    "duration": 5,
    "start_time": "2023-01-18T22:33:28.883Z"
   },
   {
    "duration": 5,
    "start_time": "2023-01-18T22:33:39.716Z"
   },
   {
    "duration": 43,
    "start_time": "2023-01-18T22:35:37.230Z"
   },
   {
    "duration": 46,
    "start_time": "2023-01-18T22:36:51.390Z"
   },
   {
    "duration": 43,
    "start_time": "2023-01-19T13:26:22.078Z"
   },
   {
    "duration": 412,
    "start_time": "2023-01-19T13:26:34.517Z"
   },
   {
    "duration": 286,
    "start_time": "2023-01-19T13:26:34.930Z"
   },
   {
    "duration": 14,
    "start_time": "2023-01-19T13:26:35.217Z"
   },
   {
    "duration": 72,
    "start_time": "2023-01-19T13:26:35.233Z"
   },
   {
    "duration": 9,
    "start_time": "2023-01-19T13:26:35.306Z"
   },
   {
    "duration": 25,
    "start_time": "2023-01-19T13:26:35.317Z"
   },
   {
    "duration": 28,
    "start_time": "2023-01-19T13:26:35.343Z"
   },
   {
    "duration": 29,
    "start_time": "2023-01-19T13:26:35.373Z"
   },
   {
    "duration": 22,
    "start_time": "2023-01-19T13:26:35.403Z"
   },
   {
    "duration": 36,
    "start_time": "2023-01-19T13:26:35.427Z"
   },
   {
    "duration": 28,
    "start_time": "2023-01-19T13:26:35.465Z"
   },
   {
    "duration": 19,
    "start_time": "2023-01-19T13:26:35.494Z"
   },
   {
    "duration": 25,
    "start_time": "2023-01-19T13:26:35.515Z"
   },
   {
    "duration": 18,
    "start_time": "2023-01-19T13:26:35.541Z"
   },
   {
    "duration": 33,
    "start_time": "2023-01-19T13:26:35.560Z"
   },
   {
    "duration": 42,
    "start_time": "2023-01-19T13:26:35.595Z"
   },
   {
    "duration": 14,
    "start_time": "2023-01-19T13:26:35.638Z"
   },
   {
    "duration": 36,
    "start_time": "2023-01-19T13:26:35.654Z"
   },
   {
    "duration": 52,
    "start_time": "2023-01-19T13:26:35.691Z"
   },
   {
    "duration": 16,
    "start_time": "2023-01-19T13:26:35.745Z"
   },
   {
    "duration": 4,
    "start_time": "2023-01-19T13:26:35.763Z"
   },
   {
    "duration": 22,
    "start_time": "2023-01-19T13:26:35.769Z"
   },
   {
    "duration": 9,
    "start_time": "2023-01-19T13:26:35.793Z"
   },
   {
    "duration": 28,
    "start_time": "2023-01-19T13:26:35.803Z"
   },
   {
    "duration": 26,
    "start_time": "2023-01-19T13:26:35.833Z"
   },
   {
    "duration": 11,
    "start_time": "2023-01-19T13:26:35.861Z"
   },
   {
    "duration": 10,
    "start_time": "2023-01-19T13:26:35.874Z"
   },
   {
    "duration": 6,
    "start_time": "2023-01-19T13:26:35.887Z"
   },
   {
    "duration": 28,
    "start_time": "2023-01-19T13:26:35.894Z"
   },
   {
    "duration": 26,
    "start_time": "2023-01-19T13:26:35.924Z"
   },
   {
    "duration": 10,
    "start_time": "2023-01-19T13:26:35.951Z"
   },
   {
    "duration": 11,
    "start_time": "2023-01-19T13:26:35.962Z"
   },
   {
    "duration": 20,
    "start_time": "2023-01-19T13:26:35.974Z"
   },
   {
    "duration": 14,
    "start_time": "2023-01-19T13:26:35.995Z"
   },
   {
    "duration": 5,
    "start_time": "2023-01-19T13:26:36.010Z"
   },
   {
    "duration": 12,
    "start_time": "2023-01-19T13:26:36.017Z"
   },
   {
    "duration": 13,
    "start_time": "2023-01-19T13:26:36.030Z"
   },
   {
    "duration": 13,
    "start_time": "2023-01-19T13:26:36.044Z"
   },
   {
    "duration": 22,
    "start_time": "2023-01-19T13:26:36.058Z"
   },
   {
    "duration": 4,
    "start_time": "2023-01-19T13:26:36.081Z"
   },
   {
    "duration": 1981,
    "start_time": "2023-01-19T13:26:36.086Z"
   },
   {
    "duration": 10,
    "start_time": "2023-01-19T13:26:38.069Z"
   },
   {
    "duration": 38,
    "start_time": "2023-01-19T13:26:38.080Z"
   },
   {
    "duration": 75,
    "start_time": "2023-01-19T13:26:38.119Z"
   },
   {
    "duration": 0,
    "start_time": "2023-01-19T13:26:38.195Z"
   },
   {
    "duration": 0,
    "start_time": "2023-01-19T13:26:38.196Z"
   },
   {
    "duration": 0,
    "start_time": "2023-01-19T13:26:38.197Z"
   },
   {
    "duration": 0,
    "start_time": "2023-01-19T13:26:38.198Z"
   },
   {
    "duration": 0,
    "start_time": "2023-01-19T13:26:38.199Z"
   },
   {
    "duration": 0,
    "start_time": "2023-01-19T13:26:38.200Z"
   },
   {
    "duration": 0,
    "start_time": "2023-01-19T13:26:38.201Z"
   },
   {
    "duration": 0,
    "start_time": "2023-01-19T13:26:38.202Z"
   },
   {
    "duration": 0,
    "start_time": "2023-01-19T13:26:38.203Z"
   },
   {
    "duration": 0,
    "start_time": "2023-01-19T13:26:38.203Z"
   },
   {
    "duration": 0,
    "start_time": "2023-01-19T13:26:38.204Z"
   },
   {
    "duration": 0,
    "start_time": "2023-01-19T13:26:38.205Z"
   },
   {
    "duration": 0,
    "start_time": "2023-01-19T13:26:38.206Z"
   },
   {
    "duration": 0,
    "start_time": "2023-01-19T13:26:38.207Z"
   },
   {
    "duration": 0,
    "start_time": "2023-01-19T13:26:38.207Z"
   },
   {
    "duration": 0,
    "start_time": "2023-01-19T13:26:38.208Z"
   },
   {
    "duration": 0,
    "start_time": "2023-01-19T13:26:38.209Z"
   },
   {
    "duration": 0,
    "start_time": "2023-01-19T13:26:38.210Z"
   },
   {
    "duration": 28,
    "start_time": "2023-01-19T13:28:53.665Z"
   },
   {
    "duration": 62,
    "start_time": "2023-01-19T13:29:40.546Z"
   },
   {
    "duration": 29,
    "start_time": "2023-01-19T13:30:09.859Z"
   },
   {
    "duration": 28,
    "start_time": "2023-01-19T13:30:55.742Z"
   },
   {
    "duration": 26,
    "start_time": "2023-01-19T13:31:19.112Z"
   },
   {
    "duration": 27,
    "start_time": "2023-01-19T13:31:55.989Z"
   },
   {
    "duration": 26,
    "start_time": "2023-01-19T13:32:36.408Z"
   },
   {
    "duration": 24,
    "start_time": "2023-01-19T13:32:59.647Z"
   },
   {
    "duration": 25,
    "start_time": "2023-01-19T13:35:22.062Z"
   },
   {
    "duration": 1074,
    "start_time": "2023-01-19T13:48:57.271Z"
   },
   {
    "duration": 5,
    "start_time": "2023-01-19T13:49:02.787Z"
   },
   {
    "duration": 376,
    "start_time": "2023-01-19T16:33:50.996Z"
   },
   {
    "duration": 261,
    "start_time": "2023-01-19T16:33:51.374Z"
   },
   {
    "duration": 18,
    "start_time": "2023-01-19T16:33:51.638Z"
   },
   {
    "duration": 91,
    "start_time": "2023-01-19T16:33:51.658Z"
   },
   {
    "duration": 10,
    "start_time": "2023-01-19T16:33:51.751Z"
   },
   {
    "duration": 20,
    "start_time": "2023-01-19T16:33:51.763Z"
   },
   {
    "duration": 16,
    "start_time": "2023-01-19T16:33:51.785Z"
   },
   {
    "duration": 13,
    "start_time": "2023-01-19T16:33:51.803Z"
   },
   {
    "duration": 20,
    "start_time": "2023-01-19T16:33:51.818Z"
   },
   {
    "duration": 17,
    "start_time": "2023-01-19T16:33:51.840Z"
   },
   {
    "duration": 32,
    "start_time": "2023-01-19T16:33:51.858Z"
   },
   {
    "duration": 16,
    "start_time": "2023-01-19T16:33:51.892Z"
   },
   {
    "duration": 52,
    "start_time": "2023-01-19T16:33:51.910Z"
   },
   {
    "duration": 13,
    "start_time": "2023-01-19T16:33:51.966Z"
   },
   {
    "duration": 13,
    "start_time": "2023-01-19T16:33:51.981Z"
   },
   {
    "duration": 9,
    "start_time": "2023-01-19T16:33:51.996Z"
   },
   {
    "duration": 19,
    "start_time": "2023-01-19T16:33:52.007Z"
   },
   {
    "duration": 10,
    "start_time": "2023-01-19T16:33:52.028Z"
   },
   {
    "duration": 11,
    "start_time": "2023-01-19T16:33:52.040Z"
   },
   {
    "duration": 18,
    "start_time": "2023-01-19T16:33:52.052Z"
   },
   {
    "duration": 10,
    "start_time": "2023-01-19T16:33:52.073Z"
   },
   {
    "duration": 25,
    "start_time": "2023-01-19T16:33:52.084Z"
   },
   {
    "duration": 8,
    "start_time": "2023-01-19T16:33:52.110Z"
   },
   {
    "duration": 14,
    "start_time": "2023-01-19T16:33:52.136Z"
   },
   {
    "duration": 19,
    "start_time": "2023-01-19T16:33:52.152Z"
   },
   {
    "duration": 23,
    "start_time": "2023-01-19T16:33:52.173Z"
   },
   {
    "duration": 16,
    "start_time": "2023-01-19T16:33:52.198Z"
   },
   {
    "duration": 21,
    "start_time": "2023-01-19T16:33:52.216Z"
   },
   {
    "duration": 14,
    "start_time": "2023-01-19T16:33:52.240Z"
   },
   {
    "duration": 9,
    "start_time": "2023-01-19T16:33:52.256Z"
   },
   {
    "duration": 9,
    "start_time": "2023-01-19T16:33:52.267Z"
   },
   {
    "duration": 14,
    "start_time": "2023-01-19T16:33:52.278Z"
   },
   {
    "duration": 13,
    "start_time": "2023-01-19T16:33:52.294Z"
   },
   {
    "duration": 40,
    "start_time": "2023-01-19T16:33:52.309Z"
   },
   {
    "duration": 6,
    "start_time": "2023-01-19T16:33:52.351Z"
   },
   {
    "duration": 19,
    "start_time": "2023-01-19T16:33:52.358Z"
   },
   {
    "duration": 11,
    "start_time": "2023-01-19T16:33:52.379Z"
   },
   {
    "duration": 7,
    "start_time": "2023-01-19T16:33:52.392Z"
   },
   {
    "duration": 51,
    "start_time": "2023-01-19T16:33:52.401Z"
   },
   {
    "duration": 4,
    "start_time": "2023-01-19T16:33:52.455Z"
   },
   {
    "duration": 2491,
    "start_time": "2023-01-19T16:33:52.465Z"
   },
   {
    "duration": 13,
    "start_time": "2023-01-19T16:33:54.958Z"
   },
   {
    "duration": 36,
    "start_time": "2023-01-19T16:33:54.973Z"
   },
   {
    "duration": 9,
    "start_time": "2023-01-19T16:33:55.012Z"
   },
   {
    "duration": 26,
    "start_time": "2023-01-19T16:33:55.023Z"
   },
   {
    "duration": 27,
    "start_time": "2023-01-19T16:33:55.051Z"
   },
   {
    "duration": 86,
    "start_time": "2023-01-19T16:33:55.080Z"
   },
   {
    "duration": 16,
    "start_time": "2023-01-19T16:33:55.168Z"
   },
   {
    "duration": 14,
    "start_time": "2023-01-19T16:33:55.186Z"
   },
   {
    "duration": 27,
    "start_time": "2023-01-19T16:33:55.203Z"
   },
   {
    "duration": 517,
    "start_time": "2023-01-19T16:33:55.232Z"
   },
   {
    "duration": 205,
    "start_time": "2023-01-19T16:33:55.751Z"
   },
   {
    "duration": 26,
    "start_time": "2023-01-19T16:33:55.958Z"
   },
   {
    "duration": 401,
    "start_time": "2023-01-19T16:33:55.986Z"
   },
   {
    "duration": 5,
    "start_time": "2023-01-19T16:33:56.390Z"
   },
   {
    "duration": 14,
    "start_time": "2023-01-19T16:33:56.397Z"
   },
   {
    "duration": 171,
    "start_time": "2023-01-19T16:33:56.413Z"
   },
   {
    "duration": 184,
    "start_time": "2023-01-19T16:33:56.586Z"
   },
   {
    "duration": 223,
    "start_time": "2023-01-19T16:33:56.772Z"
   },
   {
    "duration": 0,
    "start_time": "2023-01-19T16:33:56.997Z"
   },
   {
    "duration": 0,
    "start_time": "2023-01-19T16:33:56.998Z"
   },
   {
    "duration": 0,
    "start_time": "2023-01-19T16:33:57.000Z"
   },
   {
    "duration": 134,
    "start_time": "2023-01-19T16:34:24.107Z"
   },
   {
    "duration": 212,
    "start_time": "2023-01-19T16:36:16.534Z"
   },
   {
    "duration": 67,
    "start_time": "2023-01-19T16:36:48.309Z"
   },
   {
    "duration": 230,
    "start_time": "2023-01-19T16:37:03.006Z"
   },
   {
    "duration": 289,
    "start_time": "2023-01-19T17:14:08.290Z"
   },
   {
    "duration": 235,
    "start_time": "2023-01-19T17:26:33.390Z"
   },
   {
    "duration": 298,
    "start_time": "2023-01-19T17:26:56.010Z"
   },
   {
    "duration": 368,
    "start_time": "2023-01-19T17:27:14.805Z"
   },
   {
    "duration": 671,
    "start_time": "2023-01-19T17:27:30.683Z"
   },
   {
    "duration": 417,
    "start_time": "2023-01-19T17:27:36.649Z"
   },
   {
    "duration": 325,
    "start_time": "2023-01-19T17:27:48.252Z"
   },
   {
    "duration": 158,
    "start_time": "2023-01-19T17:57:31.957Z"
   },
   {
    "duration": 172,
    "start_time": "2023-01-19T17:57:55.924Z"
   },
   {
    "duration": 173,
    "start_time": "2023-01-19T17:58:02.492Z"
   },
   {
    "duration": 173,
    "start_time": "2023-01-19T17:58:05.614Z"
   },
   {
    "duration": 391,
    "start_time": "2023-01-19T17:58:39.250Z"
   },
   {
    "duration": 102,
    "start_time": "2023-01-19T17:58:39.643Z"
   },
   {
    "duration": 14,
    "start_time": "2023-01-19T17:58:39.749Z"
   },
   {
    "duration": 39,
    "start_time": "2023-01-19T17:58:39.765Z"
   },
   {
    "duration": 9,
    "start_time": "2023-01-19T17:58:39.806Z"
   },
   {
    "duration": 16,
    "start_time": "2023-01-19T17:58:39.816Z"
   },
   {
    "duration": 20,
    "start_time": "2023-01-19T17:58:39.834Z"
   },
   {
    "duration": 13,
    "start_time": "2023-01-19T17:58:39.855Z"
   },
   {
    "duration": 10,
    "start_time": "2023-01-19T17:58:39.872Z"
   },
   {
    "duration": 18,
    "start_time": "2023-01-19T17:58:39.884Z"
   },
   {
    "duration": 19,
    "start_time": "2023-01-19T17:58:39.903Z"
   },
   {
    "duration": 23,
    "start_time": "2023-01-19T17:58:39.923Z"
   },
   {
    "duration": 17,
    "start_time": "2023-01-19T17:58:39.947Z"
   },
   {
    "duration": 6,
    "start_time": "2023-01-19T17:58:39.966Z"
   },
   {
    "duration": 11,
    "start_time": "2023-01-19T17:58:39.973Z"
   },
   {
    "duration": 7,
    "start_time": "2023-01-19T17:58:39.985Z"
   },
   {
    "duration": 7,
    "start_time": "2023-01-19T17:58:39.993Z"
   },
   {
    "duration": 17,
    "start_time": "2023-01-19T17:58:40.001Z"
   },
   {
    "duration": 21,
    "start_time": "2023-01-19T17:58:40.019Z"
   },
   {
    "duration": 15,
    "start_time": "2023-01-19T17:58:40.041Z"
   },
   {
    "duration": 5,
    "start_time": "2023-01-19T17:58:40.058Z"
   },
   {
    "duration": 11,
    "start_time": "2023-01-19T17:58:40.064Z"
   },
   {
    "duration": 5,
    "start_time": "2023-01-19T17:58:40.076Z"
   },
   {
    "duration": 13,
    "start_time": "2023-01-19T17:58:40.082Z"
   },
   {
    "duration": 4,
    "start_time": "2023-01-19T17:58:40.097Z"
   },
   {
    "duration": 41,
    "start_time": "2023-01-19T17:58:40.103Z"
   },
   {
    "duration": 13,
    "start_time": "2023-01-19T17:58:40.147Z"
   },
   {
    "duration": 6,
    "start_time": "2023-01-19T17:58:40.162Z"
   },
   {
    "duration": 11,
    "start_time": "2023-01-19T17:58:40.170Z"
   },
   {
    "duration": 6,
    "start_time": "2023-01-19T17:58:40.182Z"
   },
   {
    "duration": 9,
    "start_time": "2023-01-19T17:58:40.189Z"
   },
   {
    "duration": 37,
    "start_time": "2023-01-19T17:58:40.199Z"
   },
   {
    "duration": 6,
    "start_time": "2023-01-19T17:58:40.238Z"
   },
   {
    "duration": 12,
    "start_time": "2023-01-19T17:58:40.246Z"
   },
   {
    "duration": 5,
    "start_time": "2023-01-19T17:58:40.259Z"
   },
   {
    "duration": 9,
    "start_time": "2023-01-19T17:58:40.266Z"
   },
   {
    "duration": 8,
    "start_time": "2023-01-19T17:58:40.277Z"
   },
   {
    "duration": 5,
    "start_time": "2023-01-19T17:58:40.287Z"
   },
   {
    "duration": 42,
    "start_time": "2023-01-19T17:58:40.294Z"
   },
   {
    "duration": 4,
    "start_time": "2023-01-19T17:58:40.338Z"
   },
   {
    "duration": 2220,
    "start_time": "2023-01-19T17:58:40.344Z"
   },
   {
    "duration": 12,
    "start_time": "2023-01-19T17:58:42.566Z"
   },
   {
    "duration": 5,
    "start_time": "2023-01-19T17:58:42.579Z"
   },
   {
    "duration": 7,
    "start_time": "2023-01-19T17:58:42.585Z"
   },
   {
    "duration": 6,
    "start_time": "2023-01-19T17:58:42.594Z"
   },
   {
    "duration": 3,
    "start_time": "2023-01-19T17:58:42.602Z"
   },
   {
    "duration": 86,
    "start_time": "2023-01-19T17:58:42.607Z"
   },
   {
    "duration": 15,
    "start_time": "2023-01-19T17:58:42.694Z"
   },
   {
    "duration": 5,
    "start_time": "2023-01-19T17:58:42.711Z"
   },
   {
    "duration": 26,
    "start_time": "2023-01-19T17:58:42.718Z"
   },
   {
    "duration": 316,
    "start_time": "2023-01-19T17:58:42.746Z"
   },
   {
    "duration": 248,
    "start_time": "2023-01-19T17:58:43.063Z"
   },
   {
    "duration": 20,
    "start_time": "2023-01-19T17:58:43.313Z"
   },
   {
    "duration": 333,
    "start_time": "2023-01-19T17:58:43.335Z"
   },
   {
    "duration": 5,
    "start_time": "2023-01-19T17:58:43.669Z"
   },
   {
    "duration": 14,
    "start_time": "2023-01-19T17:58:43.675Z"
   },
   {
    "duration": 175,
    "start_time": "2023-01-19T17:58:43.691Z"
   },
   {
    "duration": 178,
    "start_time": "2023-01-19T17:58:43.868Z"
   },
   {
    "duration": 167,
    "start_time": "2023-01-19T17:58:44.048Z"
   },
   {
    "duration": 162,
    "start_time": "2023-01-19T17:58:44.217Z"
   },
   {
    "duration": 190,
    "start_time": "2023-01-19T17:58:44.381Z"
   },
   {
    "duration": 177,
    "start_time": "2023-01-19T17:58:44.573Z"
   },
   {
    "duration": 425,
    "start_time": "2023-01-19T19:10:34.744Z"
   },
   {
    "duration": 111,
    "start_time": "2023-01-19T19:10:35.171Z"
   },
   {
    "duration": 18,
    "start_time": "2023-01-19T19:10:35.284Z"
   },
   {
    "duration": 70,
    "start_time": "2023-01-19T19:10:35.304Z"
   },
   {
    "duration": 11,
    "start_time": "2023-01-19T19:10:35.376Z"
   },
   {
    "duration": 52,
    "start_time": "2023-01-19T19:10:35.389Z"
   },
   {
    "duration": 56,
    "start_time": "2023-01-19T19:10:35.443Z"
   },
   {
    "duration": 36,
    "start_time": "2023-01-19T19:10:35.501Z"
   },
   {
    "duration": 49,
    "start_time": "2023-01-19T19:10:35.540Z"
   },
   {
    "duration": 33,
    "start_time": "2023-01-19T19:10:35.592Z"
   },
   {
    "duration": 30,
    "start_time": "2023-01-19T19:10:35.627Z"
   },
   {
    "duration": 21,
    "start_time": "2023-01-19T19:10:35.658Z"
   },
   {
    "duration": 34,
    "start_time": "2023-01-19T19:10:35.682Z"
   },
   {
    "duration": 37,
    "start_time": "2023-01-19T19:10:35.718Z"
   },
   {
    "duration": 32,
    "start_time": "2023-01-19T19:10:35.757Z"
   },
   {
    "duration": 30,
    "start_time": "2023-01-19T19:10:35.791Z"
   },
   {
    "duration": 23,
    "start_time": "2023-01-19T19:10:35.823Z"
   },
   {
    "duration": 34,
    "start_time": "2023-01-19T19:10:35.849Z"
   },
   {
    "duration": 19,
    "start_time": "2023-01-19T19:10:35.885Z"
   },
   {
    "duration": 31,
    "start_time": "2023-01-19T19:10:35.907Z"
   },
   {
    "duration": 12,
    "start_time": "2023-01-19T19:10:35.940Z"
   },
   {
    "duration": 34,
    "start_time": "2023-01-19T19:10:35.954Z"
   },
   {
    "duration": 28,
    "start_time": "2023-01-19T19:10:35.990Z"
   },
   {
    "duration": 36,
    "start_time": "2023-01-19T19:10:36.022Z"
   },
   {
    "duration": 44,
    "start_time": "2023-01-19T19:10:36.061Z"
   },
   {
    "duration": 42,
    "start_time": "2023-01-19T19:10:36.108Z"
   },
   {
    "duration": 40,
    "start_time": "2023-01-19T19:10:36.153Z"
   },
   {
    "duration": 24,
    "start_time": "2023-01-19T19:10:36.199Z"
   },
   {
    "duration": 29,
    "start_time": "2023-01-19T19:10:36.225Z"
   },
   {
    "duration": 30,
    "start_time": "2023-01-19T19:10:36.256Z"
   },
   {
    "duration": 34,
    "start_time": "2023-01-19T19:10:36.289Z"
   },
   {
    "duration": 36,
    "start_time": "2023-01-19T19:10:36.325Z"
   },
   {
    "duration": 42,
    "start_time": "2023-01-19T19:10:36.363Z"
   },
   {
    "duration": 46,
    "start_time": "2023-01-19T19:10:36.407Z"
   },
   {
    "duration": 61,
    "start_time": "2023-01-19T19:10:36.455Z"
   },
   {
    "duration": 50,
    "start_time": "2023-01-19T19:10:36.518Z"
   },
   {
    "duration": 43,
    "start_time": "2023-01-19T19:10:36.570Z"
   },
   {
    "duration": 21,
    "start_time": "2023-01-19T19:10:36.615Z"
   },
   {
    "duration": 57,
    "start_time": "2023-01-19T19:10:36.638Z"
   },
   {
    "duration": 4,
    "start_time": "2023-01-19T19:10:36.697Z"
   },
   {
    "duration": 2621,
    "start_time": "2023-01-19T19:10:36.703Z"
   },
   {
    "duration": 27,
    "start_time": "2023-01-19T19:10:39.327Z"
   },
   {
    "duration": 150,
    "start_time": "2023-01-19T19:10:39.356Z"
   },
   {
    "duration": 25,
    "start_time": "2023-01-19T19:10:39.507Z"
   },
   {
    "duration": 51,
    "start_time": "2023-01-19T19:10:39.533Z"
   },
   {
    "duration": 33,
    "start_time": "2023-01-19T19:10:39.586Z"
   },
   {
    "duration": 97,
    "start_time": "2023-01-19T19:10:39.621Z"
   },
   {
    "duration": 32,
    "start_time": "2023-01-19T19:10:39.720Z"
   },
   {
    "duration": 29,
    "start_time": "2023-01-19T19:10:39.754Z"
   },
   {
    "duration": 34,
    "start_time": "2023-01-19T19:10:39.785Z"
   },
   {
    "duration": 375,
    "start_time": "2023-01-19T19:10:39.821Z"
   },
   {
    "duration": 277,
    "start_time": "2023-01-19T19:10:40.198Z"
   },
   {
    "duration": 23,
    "start_time": "2023-01-19T19:10:40.477Z"
   },
   {
    "duration": 529,
    "start_time": "2023-01-19T19:10:40.502Z"
   },
   {
    "duration": 10,
    "start_time": "2023-01-19T19:10:41.032Z"
   },
   {
    "duration": 38,
    "start_time": "2023-01-19T19:10:41.046Z"
   },
   {
    "duration": 190,
    "start_time": "2023-01-19T19:10:41.086Z"
   },
   {
    "duration": 215,
    "start_time": "2023-01-19T19:10:41.278Z"
   },
   {
    "duration": 209,
    "start_time": "2023-01-19T19:10:41.496Z"
   },
   {
    "duration": 192,
    "start_time": "2023-01-19T19:10:41.708Z"
   },
   {
    "duration": 178,
    "start_time": "2023-01-19T19:10:41.903Z"
   },
   {
    "duration": 180,
    "start_time": "2023-01-19T19:10:42.083Z"
   },
   {
    "duration": 447,
    "start_time": "2023-01-19T19:15:07.525Z"
   },
   {
    "duration": 118,
    "start_time": "2023-01-19T19:15:07.974Z"
   },
   {
    "duration": 17,
    "start_time": "2023-01-19T19:15:08.094Z"
   },
   {
    "duration": 55,
    "start_time": "2023-01-19T19:15:08.114Z"
   },
   {
    "duration": 12,
    "start_time": "2023-01-19T19:15:08.171Z"
   },
   {
    "duration": 21,
    "start_time": "2023-01-19T19:15:08.185Z"
   },
   {
    "duration": 25,
    "start_time": "2023-01-19T19:15:08.208Z"
   },
   {
    "duration": 22,
    "start_time": "2023-01-19T19:15:08.235Z"
   },
   {
    "duration": 51,
    "start_time": "2023-01-19T19:15:08.260Z"
   },
   {
    "duration": 44,
    "start_time": "2023-01-19T19:15:08.314Z"
   },
   {
    "duration": 27,
    "start_time": "2023-01-19T19:15:08.360Z"
   },
   {
    "duration": 16,
    "start_time": "2023-01-19T19:15:08.389Z"
   },
   {
    "duration": 35,
    "start_time": "2023-01-19T19:15:08.407Z"
   },
   {
    "duration": 17,
    "start_time": "2023-01-19T19:15:08.444Z"
   },
   {
    "duration": 73,
    "start_time": "2023-01-19T19:15:08.464Z"
   },
   {
    "duration": 25,
    "start_time": "2023-01-19T19:15:08.540Z"
   },
   {
    "duration": 8,
    "start_time": "2023-01-19T19:15:08.567Z"
   },
   {
    "duration": 16,
    "start_time": "2023-01-19T19:15:08.578Z"
   },
   {
    "duration": 19,
    "start_time": "2023-01-19T19:15:08.597Z"
   },
   {
    "duration": 31,
    "start_time": "2023-01-19T19:15:08.619Z"
   },
   {
    "duration": 28,
    "start_time": "2023-01-19T19:15:08.653Z"
   },
   {
    "duration": 30,
    "start_time": "2023-01-19T19:15:08.683Z"
   },
   {
    "duration": 15,
    "start_time": "2023-01-19T19:15:08.715Z"
   },
   {
    "duration": 21,
    "start_time": "2023-01-19T19:15:08.732Z"
   },
   {
    "duration": 11,
    "start_time": "2023-01-19T19:15:08.755Z"
   },
   {
    "duration": 15,
    "start_time": "2023-01-19T19:15:08.768Z"
   },
   {
    "duration": 14,
    "start_time": "2023-01-19T19:15:08.784Z"
   },
   {
    "duration": 10,
    "start_time": "2023-01-19T19:15:08.802Z"
   },
   {
    "duration": 28,
    "start_time": "2023-01-19T19:15:08.814Z"
   },
   {
    "duration": 8,
    "start_time": "2023-01-19T19:15:08.845Z"
   },
   {
    "duration": 17,
    "start_time": "2023-01-19T19:15:08.855Z"
   },
   {
    "duration": 19,
    "start_time": "2023-01-19T19:15:08.874Z"
   },
   {
    "duration": 11,
    "start_time": "2023-01-19T19:15:08.895Z"
   },
   {
    "duration": 31,
    "start_time": "2023-01-19T19:15:08.908Z"
   },
   {
    "duration": 8,
    "start_time": "2023-01-19T19:15:08.942Z"
   },
   {
    "duration": 24,
    "start_time": "2023-01-19T19:15:08.953Z"
   },
   {
    "duration": 23,
    "start_time": "2023-01-19T19:15:08.980Z"
   },
   {
    "duration": 29,
    "start_time": "2023-01-19T19:15:09.005Z"
   },
   {
    "duration": 55,
    "start_time": "2023-01-19T19:15:09.037Z"
   },
   {
    "duration": 6,
    "start_time": "2023-01-19T19:15:09.094Z"
   },
   {
    "duration": 2528,
    "start_time": "2023-01-19T19:15:09.101Z"
   },
   {
    "duration": 23,
    "start_time": "2023-01-19T19:15:11.631Z"
   },
   {
    "duration": 18,
    "start_time": "2023-01-19T19:15:11.656Z"
   },
   {
    "duration": 19,
    "start_time": "2023-01-19T19:15:11.677Z"
   },
   {
    "duration": 15,
    "start_time": "2023-01-19T19:15:11.698Z"
   },
   {
    "duration": 21,
    "start_time": "2023-01-19T19:15:11.716Z"
   },
   {
    "duration": 122,
    "start_time": "2023-01-19T19:15:11.739Z"
   },
   {
    "duration": 48,
    "start_time": "2023-01-19T19:15:11.863Z"
   },
   {
    "duration": 27,
    "start_time": "2023-01-19T19:15:11.913Z"
   },
   {
    "duration": 36,
    "start_time": "2023-01-19T19:15:11.942Z"
   },
   {
    "duration": 380,
    "start_time": "2023-01-19T19:15:11.981Z"
   },
   {
    "duration": 272,
    "start_time": "2023-01-19T19:15:12.363Z"
   },
   {
    "duration": 22,
    "start_time": "2023-01-19T19:15:12.637Z"
   },
   {
    "duration": 387,
    "start_time": "2023-01-19T19:15:12.661Z"
   },
   {
    "duration": 6,
    "start_time": "2023-01-19T19:15:13.051Z"
   },
   {
    "duration": 35,
    "start_time": "2023-01-19T19:15:13.059Z"
   },
   {
    "duration": 275,
    "start_time": "2023-01-19T19:15:13.096Z"
   },
   {
    "duration": 218,
    "start_time": "2023-01-19T19:15:13.373Z"
   },
   {
    "duration": 185,
    "start_time": "2023-01-19T19:15:13.593Z"
   },
   {
    "duration": 204,
    "start_time": "2023-01-19T19:15:13.780Z"
   },
   {
    "duration": 184,
    "start_time": "2023-01-19T19:15:13.986Z"
   },
   {
    "duration": 197,
    "start_time": "2023-01-19T19:15:14.172Z"
   },
   {
    "duration": 402,
    "start_time": "2023-01-19T20:38:40.196Z"
   },
   {
    "duration": 109,
    "start_time": "2023-01-19T20:38:40.602Z"
   },
   {
    "duration": 27,
    "start_time": "2023-01-19T20:38:40.713Z"
   },
   {
    "duration": 43,
    "start_time": "2023-01-19T20:38:40.744Z"
   },
   {
    "duration": 11,
    "start_time": "2023-01-19T20:38:40.789Z"
   },
   {
    "duration": 17,
    "start_time": "2023-01-19T20:38:40.802Z"
   },
   {
    "duration": 23,
    "start_time": "2023-01-19T20:38:40.821Z"
   },
   {
    "duration": 24,
    "start_time": "2023-01-19T20:38:40.846Z"
   },
   {
    "duration": 31,
    "start_time": "2023-01-19T20:38:40.873Z"
   },
   {
    "duration": 23,
    "start_time": "2023-01-19T20:38:40.908Z"
   },
   {
    "duration": 23,
    "start_time": "2023-01-19T20:38:40.933Z"
   },
   {
    "duration": 12,
    "start_time": "2023-01-19T20:38:40.958Z"
   },
   {
    "duration": 21,
    "start_time": "2023-01-19T20:38:40.971Z"
   },
   {
    "duration": 6,
    "start_time": "2023-01-19T20:38:40.994Z"
   },
   {
    "duration": 9,
    "start_time": "2023-01-19T20:38:41.002Z"
   },
   {
    "duration": 24,
    "start_time": "2023-01-19T20:38:41.014Z"
   },
   {
    "duration": 25,
    "start_time": "2023-01-19T20:38:41.040Z"
   },
   {
    "duration": 16,
    "start_time": "2023-01-19T20:38:41.066Z"
   },
   {
    "duration": 8,
    "start_time": "2023-01-19T20:38:41.085Z"
   },
   {
    "duration": 16,
    "start_time": "2023-01-19T20:38:41.095Z"
   },
   {
    "duration": 5,
    "start_time": "2023-01-19T20:38:41.113Z"
   },
   {
    "duration": 39,
    "start_time": "2023-01-19T20:38:41.121Z"
   },
   {
    "duration": 8,
    "start_time": "2023-01-19T20:38:41.162Z"
   },
   {
    "duration": 15,
    "start_time": "2023-01-19T20:38:41.173Z"
   },
   {
    "duration": 11,
    "start_time": "2023-01-19T20:38:41.190Z"
   },
   {
    "duration": 11,
    "start_time": "2023-01-19T20:38:41.203Z"
   },
   {
    "duration": 27,
    "start_time": "2023-01-19T20:38:41.215Z"
   },
   {
    "duration": 10,
    "start_time": "2023-01-19T20:38:41.249Z"
   },
   {
    "duration": 14,
    "start_time": "2023-01-19T20:38:41.261Z"
   },
   {
    "duration": 9,
    "start_time": "2023-01-19T20:38:41.277Z"
   },
   {
    "duration": 9,
    "start_time": "2023-01-19T20:38:41.288Z"
   },
   {
    "duration": 13,
    "start_time": "2023-01-19T20:38:41.299Z"
   },
   {
    "duration": 55,
    "start_time": "2023-01-19T20:38:41.314Z"
   },
   {
    "duration": 33,
    "start_time": "2023-01-19T20:38:41.371Z"
   },
   {
    "duration": 9,
    "start_time": "2023-01-19T20:38:41.406Z"
   },
   {
    "duration": 14,
    "start_time": "2023-01-19T20:38:41.417Z"
   },
   {
    "duration": 18,
    "start_time": "2023-01-19T20:38:41.434Z"
   },
   {
    "duration": 16,
    "start_time": "2023-01-19T20:38:41.459Z"
   },
   {
    "duration": 34,
    "start_time": "2023-01-19T20:38:41.477Z"
   },
   {
    "duration": 11,
    "start_time": "2023-01-19T20:38:41.512Z"
   },
   {
    "duration": 2496,
    "start_time": "2023-01-19T20:38:41.525Z"
   },
   {
    "duration": 23,
    "start_time": "2023-01-19T20:38:44.023Z"
   },
   {
    "duration": 6,
    "start_time": "2023-01-19T20:38:44.057Z"
   },
   {
    "duration": 32,
    "start_time": "2023-01-19T20:38:44.065Z"
   },
   {
    "duration": 32,
    "start_time": "2023-01-19T20:38:44.099Z"
   },
   {
    "duration": 37,
    "start_time": "2023-01-19T20:38:44.132Z"
   },
   {
    "duration": 94,
    "start_time": "2023-01-19T20:38:44.171Z"
   },
   {
    "duration": 32,
    "start_time": "2023-01-19T20:38:44.267Z"
   },
   {
    "duration": 15,
    "start_time": "2023-01-19T20:38:44.301Z"
   },
   {
    "duration": 26,
    "start_time": "2023-01-19T20:38:44.318Z"
   },
   {
    "duration": 434,
    "start_time": "2023-01-19T20:38:44.351Z"
   },
   {
    "duration": 273,
    "start_time": "2023-01-19T20:38:44.787Z"
   },
   {
    "duration": 23,
    "start_time": "2023-01-19T20:38:45.062Z"
   },
   {
    "duration": 393,
    "start_time": "2023-01-19T20:38:45.087Z"
   },
   {
    "duration": 6,
    "start_time": "2023-01-19T20:38:45.483Z"
   },
   {
    "duration": 28,
    "start_time": "2023-01-19T20:38:45.492Z"
   },
   {
    "duration": 231,
    "start_time": "2023-01-19T20:38:45.522Z"
   },
   {
    "duration": 195,
    "start_time": "2023-01-19T20:38:45.755Z"
   },
   {
    "duration": 171,
    "start_time": "2023-01-19T20:38:45.955Z"
   },
   {
    "duration": 180,
    "start_time": "2023-01-19T20:38:46.129Z"
   },
   {
    "duration": 193,
    "start_time": "2023-01-19T20:38:46.310Z"
   },
   {
    "duration": 193,
    "start_time": "2023-01-19T20:38:46.505Z"
   },
   {
    "duration": 404,
    "start_time": "2023-01-19T22:05:51.260Z"
   },
   {
    "duration": 104,
    "start_time": "2023-01-19T22:05:51.666Z"
   },
   {
    "duration": 15,
    "start_time": "2023-01-19T22:05:51.772Z"
   },
   {
    "duration": 50,
    "start_time": "2023-01-19T22:05:51.789Z"
   },
   {
    "duration": 10,
    "start_time": "2023-01-19T22:05:51.841Z"
   },
   {
    "duration": 18,
    "start_time": "2023-01-19T22:05:51.852Z"
   },
   {
    "duration": 27,
    "start_time": "2023-01-19T22:05:51.872Z"
   },
   {
    "duration": 25,
    "start_time": "2023-01-19T22:05:51.900Z"
   },
   {
    "duration": 23,
    "start_time": "2023-01-19T22:05:51.927Z"
   },
   {
    "duration": 26,
    "start_time": "2023-01-19T22:05:51.953Z"
   },
   {
    "duration": 16,
    "start_time": "2023-01-19T22:05:51.980Z"
   },
   {
    "duration": 14,
    "start_time": "2023-01-19T22:05:51.998Z"
   },
   {
    "duration": 25,
    "start_time": "2023-01-19T22:05:52.014Z"
   },
   {
    "duration": 18,
    "start_time": "2023-01-19T22:05:52.041Z"
   },
   {
    "duration": 14,
    "start_time": "2023-01-19T22:05:52.060Z"
   },
   {
    "duration": 21,
    "start_time": "2023-01-19T22:05:52.075Z"
   },
   {
    "duration": 12,
    "start_time": "2023-01-19T22:05:52.098Z"
   },
   {
    "duration": 19,
    "start_time": "2023-01-19T22:05:52.112Z"
   },
   {
    "duration": 18,
    "start_time": "2023-01-19T22:05:52.133Z"
   },
   {
    "duration": 39,
    "start_time": "2023-01-19T22:05:52.153Z"
   },
   {
    "duration": 6,
    "start_time": "2023-01-19T22:05:52.194Z"
   },
   {
    "duration": 20,
    "start_time": "2023-01-19T22:05:52.202Z"
   },
   {
    "duration": 8,
    "start_time": "2023-01-19T22:05:52.224Z"
   },
   {
    "duration": 18,
    "start_time": "2023-01-19T22:05:52.233Z"
   },
   {
    "duration": 11,
    "start_time": "2023-01-19T22:05:52.252Z"
   },
   {
    "duration": 9,
    "start_time": "2023-01-19T22:05:52.265Z"
   },
   {
    "duration": 16,
    "start_time": "2023-01-19T22:05:52.276Z"
   },
   {
    "duration": 7,
    "start_time": "2023-01-19T22:05:52.296Z"
   },
   {
    "duration": 39,
    "start_time": "2023-01-19T22:05:52.304Z"
   },
   {
    "duration": 27,
    "start_time": "2023-01-19T22:05:52.345Z"
   },
   {
    "duration": 37,
    "start_time": "2023-01-19T22:05:52.374Z"
   },
   {
    "duration": 30,
    "start_time": "2023-01-19T22:05:52.413Z"
   },
   {
    "duration": 50,
    "start_time": "2023-01-19T22:05:52.445Z"
   },
   {
    "duration": 70,
    "start_time": "2023-01-19T22:05:52.497Z"
   },
   {
    "duration": 28,
    "start_time": "2023-01-19T22:05:52.569Z"
   },
   {
    "duration": 15,
    "start_time": "2023-01-19T22:05:52.599Z"
   },
   {
    "duration": 22,
    "start_time": "2023-01-19T22:05:52.615Z"
   },
   {
    "duration": 11,
    "start_time": "2023-01-19T22:05:52.639Z"
   },
   {
    "duration": 51,
    "start_time": "2023-01-19T22:05:52.652Z"
   },
   {
    "duration": 4,
    "start_time": "2023-01-19T22:05:52.705Z"
   },
   {
    "duration": 2307,
    "start_time": "2023-01-19T22:05:52.711Z"
   },
   {
    "duration": 25,
    "start_time": "2023-01-19T22:05:55.020Z"
   },
   {
    "duration": 10,
    "start_time": "2023-01-19T22:05:55.047Z"
   },
   {
    "duration": 15,
    "start_time": "2023-01-19T22:05:55.058Z"
   },
   {
    "duration": 19,
    "start_time": "2023-01-19T22:05:55.075Z"
   },
   {
    "duration": 13,
    "start_time": "2023-01-19T22:05:55.096Z"
   },
   {
    "duration": 80,
    "start_time": "2023-01-19T22:05:55.111Z"
   },
   {
    "duration": 29,
    "start_time": "2023-01-19T22:05:55.194Z"
   },
   {
    "duration": 14,
    "start_time": "2023-01-19T22:05:55.225Z"
   },
   {
    "duration": 13,
    "start_time": "2023-01-19T22:05:55.241Z"
   },
   {
    "duration": 356,
    "start_time": "2023-01-19T22:05:55.256Z"
   },
   {
    "duration": 228,
    "start_time": "2023-01-19T22:05:55.614Z"
   },
   {
    "duration": 26,
    "start_time": "2023-01-19T22:05:55.844Z"
   },
   {
    "duration": 366,
    "start_time": "2023-01-19T22:05:55.872Z"
   },
   {
    "duration": 5,
    "start_time": "2023-01-19T22:05:56.240Z"
   },
   {
    "duration": 26,
    "start_time": "2023-01-19T22:05:56.247Z"
   },
   {
    "duration": 171,
    "start_time": "2023-01-19T22:05:56.274Z"
   },
   {
    "duration": 177,
    "start_time": "2023-01-19T22:05:56.447Z"
   },
   {
    "duration": 173,
    "start_time": "2023-01-19T22:05:56.626Z"
   },
   {
    "duration": 171,
    "start_time": "2023-01-19T22:05:56.802Z"
   },
   {
    "duration": 182,
    "start_time": "2023-01-19T22:05:56.975Z"
   },
   {
    "duration": 185,
    "start_time": "2023-01-19T22:05:57.159Z"
   },
   {
    "duration": 458,
    "start_time": "2023-01-19T22:16:17.823Z"
   },
   {
    "duration": 107,
    "start_time": "2023-01-19T22:16:18.283Z"
   },
   {
    "duration": 16,
    "start_time": "2023-01-19T22:16:18.391Z"
   },
   {
    "duration": 13,
    "start_time": "2023-01-19T22:16:18.411Z"
   },
   {
    "duration": 50,
    "start_time": "2023-01-19T22:16:18.425Z"
   },
   {
    "duration": 12,
    "start_time": "2023-01-19T22:16:18.477Z"
   },
   {
    "duration": 24,
    "start_time": "2023-01-19T22:16:18.491Z"
   },
   {
    "duration": 24,
    "start_time": "2023-01-19T22:16:18.518Z"
   },
   {
    "duration": 18,
    "start_time": "2023-01-19T22:16:18.543Z"
   },
   {
    "duration": 17,
    "start_time": "2023-01-19T22:16:18.565Z"
   },
   {
    "duration": 28,
    "start_time": "2023-01-19T22:16:18.583Z"
   },
   {
    "duration": 24,
    "start_time": "2023-01-19T22:16:18.613Z"
   },
   {
    "duration": 16,
    "start_time": "2023-01-19T22:16:18.639Z"
   },
   {
    "duration": 25,
    "start_time": "2023-01-19T22:16:18.656Z"
   },
   {
    "duration": 8,
    "start_time": "2023-01-19T22:16:18.683Z"
   },
   {
    "duration": 17,
    "start_time": "2023-01-19T22:16:18.693Z"
   },
   {
    "duration": 14,
    "start_time": "2023-01-19T22:16:18.712Z"
   },
   {
    "duration": 9,
    "start_time": "2023-01-19T22:16:18.728Z"
   },
   {
    "duration": 11,
    "start_time": "2023-01-19T22:16:18.740Z"
   },
   {
    "duration": 18,
    "start_time": "2023-01-19T22:16:18.753Z"
   },
   {
    "duration": 16,
    "start_time": "2023-01-19T22:16:18.772Z"
   },
   {
    "duration": 5,
    "start_time": "2023-01-19T22:16:18.790Z"
   },
   {
    "duration": 45,
    "start_time": "2023-01-19T22:16:18.797Z"
   },
   {
    "duration": 22,
    "start_time": "2023-01-19T22:16:18.844Z"
   },
   {
    "duration": 26,
    "start_time": "2023-01-19T22:16:18.868Z"
   },
   {
    "duration": 10,
    "start_time": "2023-01-19T22:16:18.896Z"
   },
   {
    "duration": 16,
    "start_time": "2023-01-19T22:16:18.908Z"
   },
   {
    "duration": 13,
    "start_time": "2023-01-19T22:16:18.928Z"
   },
   {
    "duration": 13,
    "start_time": "2023-01-19T22:16:18.942Z"
   },
   {
    "duration": 18,
    "start_time": "2023-01-19T22:16:18.957Z"
   },
   {
    "duration": 26,
    "start_time": "2023-01-19T22:16:18.977Z"
   },
   {
    "duration": 18,
    "start_time": "2023-01-19T22:16:19.004Z"
   },
   {
    "duration": 23,
    "start_time": "2023-01-19T22:16:19.023Z"
   },
   {
    "duration": 19,
    "start_time": "2023-01-19T22:16:19.048Z"
   },
   {
    "duration": 15,
    "start_time": "2023-01-19T22:16:19.069Z"
   },
   {
    "duration": 13,
    "start_time": "2023-01-19T22:16:19.085Z"
   },
   {
    "duration": 9,
    "start_time": "2023-01-19T22:16:19.099Z"
   },
   {
    "duration": 18,
    "start_time": "2023-01-19T22:16:19.110Z"
   },
   {
    "duration": 8,
    "start_time": "2023-01-19T22:16:19.130Z"
   },
   {
    "duration": 27,
    "start_time": "2023-01-19T22:16:19.140Z"
   },
   {
    "duration": 4,
    "start_time": "2023-01-19T22:16:19.169Z"
   },
   {
    "duration": 2531,
    "start_time": "2023-01-19T22:16:19.174Z"
   },
   {
    "duration": 15,
    "start_time": "2023-01-19T22:16:21.706Z"
   },
   {
    "duration": 8,
    "start_time": "2023-01-19T22:16:21.723Z"
   },
   {
    "duration": 9,
    "start_time": "2023-01-19T22:16:21.738Z"
   },
   {
    "duration": 6,
    "start_time": "2023-01-19T22:16:21.748Z"
   },
   {
    "duration": 4,
    "start_time": "2023-01-19T22:16:21.756Z"
   },
   {
    "duration": 63,
    "start_time": "2023-01-19T22:16:21.761Z"
   },
   {
    "duration": 21,
    "start_time": "2023-01-19T22:16:21.826Z"
   },
   {
    "duration": 7,
    "start_time": "2023-01-19T22:16:21.848Z"
   },
   {
    "duration": 17,
    "start_time": "2023-01-19T22:16:21.857Z"
   },
   {
    "duration": 333,
    "start_time": "2023-01-19T22:16:21.875Z"
   },
   {
    "duration": 230,
    "start_time": "2023-01-19T22:16:22.210Z"
   },
   {
    "duration": 24,
    "start_time": "2023-01-19T22:16:22.442Z"
   },
   {
    "duration": 323,
    "start_time": "2023-01-19T22:16:22.467Z"
   },
   {
    "duration": 5,
    "start_time": "2023-01-19T22:16:22.791Z"
   },
   {
    "duration": 15,
    "start_time": "2023-01-19T22:16:22.797Z"
   },
   {
    "duration": 168,
    "start_time": "2023-01-19T22:16:22.813Z"
   },
   {
    "duration": 170,
    "start_time": "2023-01-19T22:16:22.982Z"
   },
   {
    "duration": 165,
    "start_time": "2023-01-19T22:16:23.153Z"
   },
   {
    "duration": 171,
    "start_time": "2023-01-19T22:16:23.319Z"
   },
   {
    "duration": 175,
    "start_time": "2023-01-19T22:16:23.491Z"
   },
   {
    "duration": 179,
    "start_time": "2023-01-19T22:16:23.668Z"
   },
   {
    "duration": 51,
    "start_time": "2023-01-20T09:10:56.927Z"
   },
   {
    "duration": 441,
    "start_time": "2023-01-20T09:11:21.129Z"
   },
   {
    "duration": 243,
    "start_time": "2023-01-20T09:11:21.573Z"
   },
   {
    "duration": 15,
    "start_time": "2023-01-20T09:11:21.818Z"
   },
   {
    "duration": 128,
    "start_time": "2023-01-20T09:11:21.835Z"
   },
   {
    "duration": 13,
    "start_time": "2023-01-20T09:11:21.965Z"
   },
   {
    "duration": 40,
    "start_time": "2023-01-20T09:11:21.979Z"
   },
   {
    "duration": 27,
    "start_time": "2023-01-20T09:11:22.021Z"
   },
   {
    "duration": 30,
    "start_time": "2023-01-20T09:11:22.050Z"
   },
   {
    "duration": 23,
    "start_time": "2023-01-20T09:11:22.082Z"
   },
   {
    "duration": 31,
    "start_time": "2023-01-20T09:11:22.108Z"
   },
   {
    "duration": 30,
    "start_time": "2023-01-20T09:11:22.142Z"
   },
   {
    "duration": 23,
    "start_time": "2023-01-20T09:11:22.174Z"
   },
   {
    "duration": 37,
    "start_time": "2023-01-20T09:11:22.199Z"
   },
   {
    "duration": 27,
    "start_time": "2023-01-20T09:11:22.237Z"
   },
   {
    "duration": 38,
    "start_time": "2023-01-20T09:11:22.266Z"
   },
   {
    "duration": 19,
    "start_time": "2023-01-20T09:11:22.306Z"
   },
   {
    "duration": 31,
    "start_time": "2023-01-20T09:11:22.327Z"
   },
   {
    "duration": 27,
    "start_time": "2023-01-20T09:11:22.360Z"
   },
   {
    "duration": 34,
    "start_time": "2023-01-20T09:11:22.389Z"
   },
   {
    "duration": 41,
    "start_time": "2023-01-20T09:11:22.425Z"
   },
   {
    "duration": 15,
    "start_time": "2023-01-20T09:11:22.468Z"
   },
   {
    "duration": 42,
    "start_time": "2023-01-20T09:11:22.484Z"
   },
   {
    "duration": 33,
    "start_time": "2023-01-20T09:11:22.527Z"
   },
   {
    "duration": 12,
    "start_time": "2023-01-20T09:11:22.561Z"
   },
   {
    "duration": 28,
    "start_time": "2023-01-20T09:11:22.574Z"
   },
   {
    "duration": 29,
    "start_time": "2023-01-20T09:11:22.604Z"
   },
   {
    "duration": 34,
    "start_time": "2023-01-20T09:11:22.635Z"
   },
   {
    "duration": 13,
    "start_time": "2023-01-20T09:11:22.674Z"
   },
   {
    "duration": 30,
    "start_time": "2023-01-20T09:11:22.689Z"
   },
   {
    "duration": 32,
    "start_time": "2023-01-20T09:11:22.721Z"
   },
   {
    "duration": 17,
    "start_time": "2023-01-20T09:11:22.756Z"
   },
   {
    "duration": 23,
    "start_time": "2023-01-20T09:11:22.775Z"
   },
   {
    "duration": 23,
    "start_time": "2023-01-20T09:11:22.800Z"
   },
   {
    "duration": 35,
    "start_time": "2023-01-20T09:11:22.825Z"
   },
   {
    "duration": 32,
    "start_time": "2023-01-20T09:11:22.863Z"
   },
   {
    "duration": 14,
    "start_time": "2023-01-20T09:11:22.897Z"
   },
   {
    "duration": 41,
    "start_time": "2023-01-20T09:11:22.913Z"
   },
   {
    "duration": 29,
    "start_time": "2023-01-20T09:11:22.957Z"
   },
   {
    "duration": 29,
    "start_time": "2023-01-20T09:11:22.988Z"
   },
   {
    "duration": 33,
    "start_time": "2023-01-20T09:11:23.019Z"
   },
   {
    "duration": 7,
    "start_time": "2023-01-20T09:11:23.054Z"
   },
   {
    "duration": 2519,
    "start_time": "2023-01-20T09:11:23.063Z"
   },
   {
    "duration": 20,
    "start_time": "2023-01-20T09:11:25.584Z"
   },
   {
    "duration": 13,
    "start_time": "2023-01-20T09:11:25.606Z"
   },
   {
    "duration": 19,
    "start_time": "2023-01-20T09:11:25.620Z"
   },
   {
    "duration": 4,
    "start_time": "2023-01-20T09:11:25.641Z"
   },
   {
    "duration": 5,
    "start_time": "2023-01-20T09:11:25.647Z"
   },
   {
    "duration": 67,
    "start_time": "2023-01-20T09:11:25.653Z"
   },
   {
    "duration": 35,
    "start_time": "2023-01-20T09:11:25.722Z"
   },
   {
    "duration": 9,
    "start_time": "2023-01-20T09:11:25.758Z"
   },
   {
    "duration": 18,
    "start_time": "2023-01-20T09:11:25.769Z"
   },
   {
    "duration": 543,
    "start_time": "2023-01-20T09:11:25.789Z"
   },
   {
    "duration": 315,
    "start_time": "2023-01-20T09:11:26.336Z"
   },
   {
    "duration": 21,
    "start_time": "2023-01-20T09:11:26.653Z"
   },
   {
    "duration": 297,
    "start_time": "2023-01-20T09:11:26.675Z"
   },
   {
    "duration": 6,
    "start_time": "2023-01-20T09:11:26.974Z"
   },
   {
    "duration": 15,
    "start_time": "2023-01-20T09:11:26.982Z"
   },
   {
    "duration": 186,
    "start_time": "2023-01-20T09:11:26.999Z"
   },
   {
    "duration": 186,
    "start_time": "2023-01-20T09:11:27.187Z"
   },
   {
    "duration": 181,
    "start_time": "2023-01-20T09:11:27.376Z"
   },
   {
    "duration": 177,
    "start_time": "2023-01-20T09:11:27.559Z"
   },
   {
    "duration": 184,
    "start_time": "2023-01-20T09:11:27.738Z"
   },
   {
    "duration": 191,
    "start_time": "2023-01-20T09:11:27.924Z"
   },
   {
    "duration": 224,
    "start_time": "2023-01-20T09:17:20.735Z"
   },
   {
    "duration": 141,
    "start_time": "2023-01-20T09:20:46.153Z"
   },
   {
    "duration": 204,
    "start_time": "2023-01-20T09:21:09.636Z"
   },
   {
    "duration": 395,
    "start_time": "2023-01-20T09:25:08.281Z"
   },
   {
    "duration": 274,
    "start_time": "2023-01-20T09:28:06.345Z"
   },
   {
    "duration": 661,
    "start_time": "2023-01-20T09:28:21.380Z"
   },
   {
    "duration": 196,
    "start_time": "2023-01-20T09:28:34.802Z"
   },
   {
    "duration": 295,
    "start_time": "2023-01-20T09:28:44.760Z"
   },
   {
    "duration": 204,
    "start_time": "2023-01-20T09:28:58.855Z"
   },
   {
    "duration": 162,
    "start_time": "2023-01-20T09:29:39.583Z"
   },
   {
    "duration": 274,
    "start_time": "2023-01-20T09:29:48.253Z"
   },
   {
    "duration": 210,
    "start_time": "2023-01-20T09:36:16.113Z"
   },
   {
    "duration": 202,
    "start_time": "2023-01-20T09:36:40.118Z"
   },
   {
    "duration": 104638,
    "start_time": "2023-01-20T09:37:22.091Z"
   },
   {
    "duration": 335,
    "start_time": "2023-01-20T09:40:21.210Z"
   },
   {
    "duration": 168,
    "start_time": "2023-01-20T09:40:34.466Z"
   },
   {
    "duration": 346,
    "start_time": "2023-01-20T09:40:55.067Z"
   },
   {
    "duration": 241,
    "start_time": "2023-01-20T09:41:19.090Z"
   },
   {
    "duration": 730,
    "start_time": "2023-01-20T09:41:40.954Z"
   },
   {
    "duration": 133431,
    "start_time": "2023-01-20T09:41:54.821Z"
   },
   {
    "duration": 207,
    "start_time": "2023-01-20T09:45:53.741Z"
   },
   {
    "duration": 156,
    "start_time": "2023-01-20T09:46:36.044Z"
   },
   {
    "duration": 260,
    "start_time": "2023-01-20T09:47:09.449Z"
   },
   {
    "duration": 142,
    "start_time": "2023-01-20T09:47:16.118Z"
   },
   {
    "duration": 146,
    "start_time": "2023-01-20T09:47:26.754Z"
   },
   {
    "duration": 1258,
    "start_time": "2023-01-20T09:57:09.007Z"
   },
   {
    "duration": 110,
    "start_time": "2023-01-20T09:57:10.267Z"
   },
   {
    "duration": 15,
    "start_time": "2023-01-20T09:57:10.378Z"
   },
   {
    "duration": 42,
    "start_time": "2023-01-20T09:57:10.395Z"
   },
   {
    "duration": 11,
    "start_time": "2023-01-20T09:57:10.438Z"
   },
   {
    "duration": 28,
    "start_time": "2023-01-20T09:57:10.450Z"
   },
   {
    "duration": 18,
    "start_time": "2023-01-20T09:57:10.480Z"
   },
   {
    "duration": 12,
    "start_time": "2023-01-20T09:57:10.500Z"
   },
   {
    "duration": 24,
    "start_time": "2023-01-20T09:57:10.514Z"
   },
   {
    "duration": 15,
    "start_time": "2023-01-20T09:57:10.540Z"
   },
   {
    "duration": 16,
    "start_time": "2023-01-20T09:57:10.557Z"
   },
   {
    "duration": 8,
    "start_time": "2023-01-20T09:57:10.575Z"
   },
   {
    "duration": 21,
    "start_time": "2023-01-20T09:57:10.585Z"
   },
   {
    "duration": 31,
    "start_time": "2023-01-20T09:57:10.607Z"
   },
   {
    "duration": 16,
    "start_time": "2023-01-20T09:57:10.640Z"
   },
   {
    "duration": 10,
    "start_time": "2023-01-20T09:57:10.658Z"
   },
   {
    "duration": 12,
    "start_time": "2023-01-20T09:57:10.670Z"
   },
   {
    "duration": 23,
    "start_time": "2023-01-20T09:57:10.684Z"
   },
   {
    "duration": 25,
    "start_time": "2023-01-20T09:57:10.708Z"
   },
   {
    "duration": 38,
    "start_time": "2023-01-20T09:57:10.735Z"
   },
   {
    "duration": 7,
    "start_time": "2023-01-20T09:57:10.775Z"
   },
   {
    "duration": 35,
    "start_time": "2023-01-20T09:57:10.784Z"
   },
   {
    "duration": 27,
    "start_time": "2023-01-20T09:57:10.822Z"
   },
   {
    "duration": 5,
    "start_time": "2023-01-20T09:57:10.851Z"
   },
   {
    "duration": 36,
    "start_time": "2023-01-20T09:57:10.858Z"
   },
   {
    "duration": 16,
    "start_time": "2023-01-20T09:57:10.896Z"
   },
   {
    "duration": 55,
    "start_time": "2023-01-20T09:57:10.914Z"
   },
   {
    "duration": 18,
    "start_time": "2023-01-20T09:57:10.974Z"
   },
   {
    "duration": 28,
    "start_time": "2023-01-20T09:57:10.994Z"
   },
   {
    "duration": 18,
    "start_time": "2023-01-20T09:57:11.024Z"
   },
   {
    "duration": 27,
    "start_time": "2023-01-20T09:57:11.044Z"
   },
   {
    "duration": 27,
    "start_time": "2023-01-20T09:57:11.073Z"
   },
   {
    "duration": 34,
    "start_time": "2023-01-20T09:57:11.102Z"
   },
   {
    "duration": 29,
    "start_time": "2023-01-20T09:57:11.138Z"
   },
   {
    "duration": 53,
    "start_time": "2023-01-20T09:57:11.169Z"
   },
   {
    "duration": 17,
    "start_time": "2023-01-20T09:57:11.224Z"
   },
   {
    "duration": 62,
    "start_time": "2023-01-20T09:57:11.243Z"
   },
   {
    "duration": 43,
    "start_time": "2023-01-20T09:57:11.307Z"
   },
   {
    "duration": 30,
    "start_time": "2023-01-20T09:57:11.352Z"
   },
   {
    "duration": 58,
    "start_time": "2023-01-20T09:57:11.384Z"
   },
   {
    "duration": 6,
    "start_time": "2023-01-20T09:57:11.444Z"
   },
   {
    "duration": 2356,
    "start_time": "2023-01-20T09:57:11.452Z"
   },
   {
    "duration": 17,
    "start_time": "2023-01-20T09:57:13.810Z"
   },
   {
    "duration": 11,
    "start_time": "2023-01-20T09:57:13.829Z"
   },
   {
    "duration": 6,
    "start_time": "2023-01-20T09:57:13.842Z"
   },
   {
    "duration": 6,
    "start_time": "2023-01-20T09:57:13.850Z"
   },
   {
    "duration": 5,
    "start_time": "2023-01-20T09:57:13.857Z"
   },
   {
    "duration": 40,
    "start_time": "2023-01-20T09:57:13.864Z"
   },
   {
    "duration": 47,
    "start_time": "2023-01-20T09:57:13.906Z"
   },
   {
    "duration": 5,
    "start_time": "2023-01-20T09:57:13.955Z"
   },
   {
    "duration": 13,
    "start_time": "2023-01-20T09:57:13.962Z"
   },
   {
    "duration": 186,
    "start_time": "2023-01-20T09:57:13.976Z"
   },
   {
    "duration": 111,
    "start_time": "2023-01-20T09:57:14.164Z"
   },
   {
    "duration": 0,
    "start_time": "2023-01-20T09:57:14.276Z"
   },
   {
    "duration": 0,
    "start_time": "2023-01-20T09:57:14.277Z"
   },
   {
    "duration": 0,
    "start_time": "2023-01-20T09:57:14.278Z"
   },
   {
    "duration": 0,
    "start_time": "2023-01-20T09:57:14.279Z"
   },
   {
    "duration": 0,
    "start_time": "2023-01-20T09:57:14.280Z"
   },
   {
    "duration": 0,
    "start_time": "2023-01-20T09:57:14.281Z"
   },
   {
    "duration": 0,
    "start_time": "2023-01-20T09:57:14.282Z"
   },
   {
    "duration": 0,
    "start_time": "2023-01-20T09:57:14.283Z"
   },
   {
    "duration": 0,
    "start_time": "2023-01-20T09:57:14.285Z"
   },
   {
    "duration": 0,
    "start_time": "2023-01-20T09:57:14.286Z"
   },
   {
    "duration": 0,
    "start_time": "2023-01-20T09:57:14.287Z"
   },
   {
    "duration": 0,
    "start_time": "2023-01-20T09:57:14.288Z"
   },
   {
    "duration": 9,
    "start_time": "2023-01-20T09:58:33.996Z"
   },
   {
    "duration": 1175,
    "start_time": "2023-01-20T09:58:41.437Z"
   },
   {
    "duration": 101,
    "start_time": "2023-01-20T09:58:42.614Z"
   },
   {
    "duration": 19,
    "start_time": "2023-01-20T09:58:42.717Z"
   },
   {
    "duration": 40,
    "start_time": "2023-01-20T09:58:42.739Z"
   },
   {
    "duration": 11,
    "start_time": "2023-01-20T09:58:42.781Z"
   },
   {
    "duration": 21,
    "start_time": "2023-01-20T09:58:42.794Z"
   },
   {
    "duration": 36,
    "start_time": "2023-01-20T09:58:42.816Z"
   },
   {
    "duration": 14,
    "start_time": "2023-01-20T09:58:42.854Z"
   },
   {
    "duration": 18,
    "start_time": "2023-01-20T09:58:42.869Z"
   },
   {
    "duration": 14,
    "start_time": "2023-01-20T09:58:42.890Z"
   },
   {
    "duration": 37,
    "start_time": "2023-01-20T09:58:42.906Z"
   },
   {
    "duration": 7,
    "start_time": "2023-01-20T09:58:42.945Z"
   },
   {
    "duration": 32,
    "start_time": "2023-01-20T09:58:42.954Z"
   },
   {
    "duration": 8,
    "start_time": "2023-01-20T09:58:42.987Z"
   },
   {
    "duration": 11,
    "start_time": "2023-01-20T09:58:42.997Z"
   },
   {
    "duration": 8,
    "start_time": "2023-01-20T09:58:43.010Z"
   },
   {
    "duration": 8,
    "start_time": "2023-01-20T09:58:43.020Z"
   },
   {
    "duration": 21,
    "start_time": "2023-01-20T09:58:43.030Z"
   },
   {
    "duration": 12,
    "start_time": "2023-01-20T09:58:43.053Z"
   },
   {
    "duration": 25,
    "start_time": "2023-01-20T09:58:43.067Z"
   },
   {
    "duration": 4,
    "start_time": "2023-01-20T09:58:43.094Z"
   },
   {
    "duration": 14,
    "start_time": "2023-01-20T09:58:43.100Z"
   },
   {
    "duration": 26,
    "start_time": "2023-01-20T09:58:43.116Z"
   },
   {
    "duration": 6,
    "start_time": "2023-01-20T09:58:43.144Z"
   },
   {
    "duration": 14,
    "start_time": "2023-01-20T09:58:43.152Z"
   },
   {
    "duration": 5,
    "start_time": "2023-01-20T09:58:43.168Z"
   },
   {
    "duration": 12,
    "start_time": "2023-01-20T09:58:43.175Z"
   },
   {
    "duration": 12,
    "start_time": "2023-01-20T09:58:43.191Z"
   },
   {
    "duration": 32,
    "start_time": "2023-01-20T09:58:43.205Z"
   },
   {
    "duration": 10,
    "start_time": "2023-01-20T09:58:43.238Z"
   },
   {
    "duration": 8,
    "start_time": "2023-01-20T09:58:43.250Z"
   },
   {
    "duration": 8,
    "start_time": "2023-01-20T09:58:43.260Z"
   },
   {
    "duration": 11,
    "start_time": "2023-01-20T09:58:43.269Z"
   },
   {
    "duration": 6,
    "start_time": "2023-01-20T09:58:43.282Z"
   },
   {
    "duration": 14,
    "start_time": "2023-01-20T09:58:43.290Z"
   },
   {
    "duration": 36,
    "start_time": "2023-01-20T09:58:43.306Z"
   },
   {
    "duration": 13,
    "start_time": "2023-01-20T09:58:43.345Z"
   },
   {
    "duration": 7,
    "start_time": "2023-01-20T09:58:43.359Z"
   },
   {
    "duration": 7,
    "start_time": "2023-01-20T09:58:43.368Z"
   },
   {
    "duration": 27,
    "start_time": "2023-01-20T09:58:43.377Z"
   },
   {
    "duration": 31,
    "start_time": "2023-01-20T09:58:43.406Z"
   },
   {
    "duration": 2454,
    "start_time": "2023-01-20T09:58:43.439Z"
   },
   {
    "duration": 23,
    "start_time": "2023-01-20T09:58:45.895Z"
   },
   {
    "duration": 19,
    "start_time": "2023-01-20T09:58:45.920Z"
   },
   {
    "duration": 6,
    "start_time": "2023-01-20T09:58:45.942Z"
   },
   {
    "duration": 10,
    "start_time": "2023-01-20T09:58:45.950Z"
   },
   {
    "duration": 5,
    "start_time": "2023-01-20T09:58:45.962Z"
   },
   {
    "duration": 30,
    "start_time": "2023-01-20T09:58:45.969Z"
   },
   {
    "duration": 40,
    "start_time": "2023-01-20T09:58:46.001Z"
   },
   {
    "duration": 5,
    "start_time": "2023-01-20T09:58:46.043Z"
   },
   {
    "duration": 13,
    "start_time": "2023-01-20T09:58:46.050Z"
   },
   {
    "duration": 161,
    "start_time": "2023-01-20T09:58:46.065Z"
   },
   {
    "duration": 389,
    "start_time": "2023-01-20T09:58:46.228Z"
   },
   {
    "duration": 222,
    "start_time": "2023-01-20T09:58:46.619Z"
   },
   {
    "duration": 253,
    "start_time": "2023-01-20T09:58:46.843Z"
   },
   {
    "duration": 21,
    "start_time": "2023-01-20T09:58:47.098Z"
   },
   {
    "duration": 311,
    "start_time": "2023-01-20T09:58:47.122Z"
   },
   {
    "duration": 5,
    "start_time": "2023-01-20T09:58:47.437Z"
   },
   {
    "duration": 21,
    "start_time": "2023-01-20T09:58:47.444Z"
   },
   {
    "duration": 192,
    "start_time": "2023-01-20T09:58:47.467Z"
   },
   {
    "duration": 186,
    "start_time": "2023-01-20T09:58:47.662Z"
   },
   {
    "duration": 266,
    "start_time": "2023-01-20T09:58:47.849Z"
   },
   {
    "duration": 174,
    "start_time": "2023-01-20T09:58:48.117Z"
   },
   {
    "duration": 205,
    "start_time": "2023-01-20T09:58:48.293Z"
   },
   {
    "duration": 229,
    "start_time": "2023-01-20T09:58:48.500Z"
   },
   {
    "duration": 412,
    "start_time": "2023-01-20T09:59:28.762Z"
   },
   {
    "duration": 145,
    "start_time": "2023-01-20T10:00:20.630Z"
   },
   {
    "duration": 214,
    "start_time": "2023-01-20T10:08:34.194Z"
   },
   {
    "duration": 154,
    "start_time": "2023-01-20T10:08:39.129Z"
   },
   {
    "duration": 125,
    "start_time": "2023-01-20T11:02:57.581Z"
   },
   {
    "duration": 154,
    "start_time": "2023-01-20T11:03:03.465Z"
   },
   {
    "duration": 1239,
    "start_time": "2023-01-20T11:09:48.394Z"
   },
   {
    "duration": 102,
    "start_time": "2023-01-20T11:09:49.635Z"
   },
   {
    "duration": 24,
    "start_time": "2023-01-20T11:09:49.739Z"
   },
   {
    "duration": 58,
    "start_time": "2023-01-20T11:09:49.764Z"
   },
   {
    "duration": 10,
    "start_time": "2023-01-20T11:09:49.824Z"
   },
   {
    "duration": 42,
    "start_time": "2023-01-20T11:09:49.836Z"
   },
   {
    "duration": 36,
    "start_time": "2023-01-20T11:09:49.880Z"
   },
   {
    "duration": 20,
    "start_time": "2023-01-20T11:09:49.918Z"
   },
   {
    "duration": 31,
    "start_time": "2023-01-20T11:09:49.940Z"
   },
   {
    "duration": 15,
    "start_time": "2023-01-20T11:09:49.973Z"
   },
   {
    "duration": 14,
    "start_time": "2023-01-20T11:09:49.990Z"
   },
   {
    "duration": 17,
    "start_time": "2023-01-20T11:09:50.006Z"
   },
   {
    "duration": 29,
    "start_time": "2023-01-20T11:09:50.025Z"
   },
   {
    "duration": 20,
    "start_time": "2023-01-20T11:09:50.057Z"
   },
   {
    "duration": 35,
    "start_time": "2023-01-20T11:09:50.079Z"
   },
   {
    "duration": 13,
    "start_time": "2023-01-20T11:09:50.116Z"
   },
   {
    "duration": 25,
    "start_time": "2023-01-20T11:09:50.131Z"
   },
   {
    "duration": 16,
    "start_time": "2023-01-20T11:09:50.157Z"
   },
   {
    "duration": 14,
    "start_time": "2023-01-20T11:09:50.174Z"
   },
   {
    "duration": 17,
    "start_time": "2023-01-20T11:09:50.190Z"
   },
   {
    "duration": 6,
    "start_time": "2023-01-20T11:09:50.208Z"
   },
   {
    "duration": 16,
    "start_time": "2023-01-20T11:09:50.215Z"
   },
   {
    "duration": 46,
    "start_time": "2023-01-20T11:09:50.233Z"
   },
   {
    "duration": 14,
    "start_time": "2023-01-20T11:09:50.281Z"
   },
   {
    "duration": 62,
    "start_time": "2023-01-20T11:09:50.297Z"
   },
   {
    "duration": 10,
    "start_time": "2023-01-20T11:09:50.361Z"
   },
   {
    "duration": 16,
    "start_time": "2023-01-20T11:09:50.373Z"
   },
   {
    "duration": 19,
    "start_time": "2023-01-20T11:09:50.390Z"
   },
   {
    "duration": 19,
    "start_time": "2023-01-20T11:09:50.411Z"
   },
   {
    "duration": 41,
    "start_time": "2023-01-20T11:09:50.431Z"
   },
   {
    "duration": 10,
    "start_time": "2023-01-20T11:09:50.474Z"
   },
   {
    "duration": 17,
    "start_time": "2023-01-20T11:09:50.485Z"
   },
   {
    "duration": 21,
    "start_time": "2023-01-20T11:09:50.504Z"
   },
   {
    "duration": 26,
    "start_time": "2023-01-20T11:09:50.527Z"
   },
   {
    "duration": 24,
    "start_time": "2023-01-20T11:09:50.557Z"
   },
   {
    "duration": 7,
    "start_time": "2023-01-20T11:09:50.583Z"
   },
   {
    "duration": 11,
    "start_time": "2023-01-20T11:09:50.592Z"
   },
   {
    "duration": 16,
    "start_time": "2023-01-20T11:09:50.605Z"
   },
   {
    "duration": 6,
    "start_time": "2023-01-20T11:09:50.623Z"
   },
   {
    "duration": 32,
    "start_time": "2023-01-20T11:09:50.631Z"
   },
   {
    "duration": 11,
    "start_time": "2023-01-20T11:09:50.667Z"
   },
   {
    "duration": 2510,
    "start_time": "2023-01-20T11:09:50.680Z"
   },
   {
    "duration": 18,
    "start_time": "2023-01-20T11:09:53.192Z"
   },
   {
    "duration": 33,
    "start_time": "2023-01-20T11:09:53.212Z"
   },
   {
    "duration": 45,
    "start_time": "2023-01-20T11:09:53.247Z"
   },
   {
    "duration": 21,
    "start_time": "2023-01-20T11:09:53.294Z"
   },
   {
    "duration": 17,
    "start_time": "2023-01-20T11:09:53.317Z"
   },
   {
    "duration": 89,
    "start_time": "2023-01-20T11:09:53.335Z"
   },
   {
    "duration": 28,
    "start_time": "2023-01-20T11:09:53.426Z"
   },
   {
    "duration": 23,
    "start_time": "2023-01-20T11:09:53.456Z"
   },
   {
    "duration": 26,
    "start_time": "2023-01-20T11:09:53.481Z"
   },
   {
    "duration": 168,
    "start_time": "2023-01-20T11:09:53.509Z"
   },
   {
    "duration": 165,
    "start_time": "2023-01-20T11:09:53.680Z"
   },
   {
    "duration": 23,
    "start_time": "2023-01-20T11:09:53.847Z"
   },
   {
    "duration": 351,
    "start_time": "2023-01-20T11:09:53.872Z"
   },
   {
    "duration": 5,
    "start_time": "2023-01-20T11:09:54.226Z"
   },
   {
    "duration": 38,
    "start_time": "2023-01-20T11:09:54.232Z"
   },
   {
    "duration": 186,
    "start_time": "2023-01-20T11:09:54.272Z"
   },
   {
    "duration": 199,
    "start_time": "2023-01-20T11:09:54.460Z"
   },
   {
    "duration": 190,
    "start_time": "2023-01-20T11:09:54.661Z"
   },
   {
    "duration": 173,
    "start_time": "2023-01-20T11:09:54.853Z"
   },
   {
    "duration": 286,
    "start_time": "2023-01-20T11:09:55.027Z"
   },
   {
    "duration": 193,
    "start_time": "2023-01-20T11:09:55.315Z"
   },
   {
    "duration": 1125,
    "start_time": "2023-01-20T22:09:09.795Z"
   },
   {
    "duration": 513,
    "start_time": "2023-01-20T22:09:10.922Z"
   },
   {
    "duration": 16,
    "start_time": "2023-01-20T22:09:11.437Z"
   },
   {
    "duration": 56,
    "start_time": "2023-01-20T22:09:11.455Z"
   },
   {
    "duration": 11,
    "start_time": "2023-01-20T22:09:11.512Z"
   },
   {
    "duration": 12,
    "start_time": "2023-01-20T22:09:11.525Z"
   },
   {
    "duration": 19,
    "start_time": "2023-01-20T22:09:11.538Z"
   },
   {
    "duration": 14,
    "start_time": "2023-01-20T22:09:11.559Z"
   },
   {
    "duration": 30,
    "start_time": "2023-01-20T22:09:11.575Z"
   },
   {
    "duration": 15,
    "start_time": "2023-01-20T22:09:11.607Z"
   },
   {
    "duration": 13,
    "start_time": "2023-01-20T22:09:11.623Z"
   },
   {
    "duration": 7,
    "start_time": "2023-01-20T22:09:11.638Z"
   },
   {
    "duration": 34,
    "start_time": "2023-01-20T22:09:11.647Z"
   },
   {
    "duration": 22,
    "start_time": "2023-01-20T22:09:11.683Z"
   },
   {
    "duration": 9,
    "start_time": "2023-01-20T22:09:11.707Z"
   },
   {
    "duration": 12,
    "start_time": "2023-01-20T22:09:11.718Z"
   },
   {
    "duration": 9,
    "start_time": "2023-01-20T22:09:11.732Z"
   },
   {
    "duration": 10,
    "start_time": "2023-01-20T22:09:11.742Z"
   },
   {
    "duration": 12,
    "start_time": "2023-01-20T22:09:11.753Z"
   },
   {
    "duration": 15,
    "start_time": "2023-01-20T22:09:11.767Z"
   },
   {
    "duration": 21,
    "start_time": "2023-01-20T22:09:11.783Z"
   },
   {
    "duration": 14,
    "start_time": "2023-01-20T22:09:11.806Z"
   },
   {
    "duration": 25,
    "start_time": "2023-01-20T22:09:11.821Z"
   },
   {
    "duration": 6,
    "start_time": "2023-01-20T22:09:11.847Z"
   },
   {
    "duration": 29,
    "start_time": "2023-01-20T22:09:11.854Z"
   },
   {
    "duration": 13,
    "start_time": "2023-01-20T22:09:11.885Z"
   },
   {
    "duration": 8,
    "start_time": "2023-01-20T22:09:11.899Z"
   },
   {
    "duration": 11,
    "start_time": "2023-01-20T22:09:11.911Z"
   },
   {
    "duration": 9,
    "start_time": "2023-01-20T22:09:11.923Z"
   },
   {
    "duration": 13,
    "start_time": "2023-01-20T22:09:11.933Z"
   },
   {
    "duration": 6,
    "start_time": "2023-01-20T22:09:11.947Z"
   },
   {
    "duration": 6,
    "start_time": "2023-01-20T22:09:11.955Z"
   },
   {
    "duration": 7,
    "start_time": "2023-01-20T22:09:11.963Z"
   },
   {
    "duration": 34,
    "start_time": "2023-01-20T22:09:11.972Z"
   },
   {
    "duration": 9,
    "start_time": "2023-01-20T22:09:12.007Z"
   },
   {
    "duration": 24,
    "start_time": "2023-01-20T22:09:12.018Z"
   },
   {
    "duration": 31,
    "start_time": "2023-01-20T22:09:12.044Z"
   },
   {
    "duration": 27,
    "start_time": "2023-01-20T22:09:12.077Z"
   },
   {
    "duration": 11,
    "start_time": "2023-01-20T22:09:12.107Z"
   },
   {
    "duration": 54,
    "start_time": "2023-01-20T22:09:12.120Z"
   },
   {
    "duration": 4,
    "start_time": "2023-01-20T22:09:12.175Z"
   },
   {
    "duration": 2207,
    "start_time": "2023-01-20T22:09:12.180Z"
   },
   {
    "duration": 20,
    "start_time": "2023-01-20T22:09:14.388Z"
   },
   {
    "duration": 6,
    "start_time": "2023-01-20T22:09:14.410Z"
   },
   {
    "duration": 6,
    "start_time": "2023-01-20T22:09:14.418Z"
   },
   {
    "duration": 6,
    "start_time": "2023-01-20T22:09:14.425Z"
   },
   {
    "duration": 7,
    "start_time": "2023-01-20T22:09:14.433Z"
   },
   {
    "duration": 26,
    "start_time": "2023-01-20T22:09:14.442Z"
   },
   {
    "duration": 42,
    "start_time": "2023-01-20T22:09:14.470Z"
   },
   {
    "duration": 5,
    "start_time": "2023-01-20T22:09:14.514Z"
   },
   {
    "duration": 15,
    "start_time": "2023-01-20T22:09:14.521Z"
   },
   {
    "duration": 160,
    "start_time": "2023-01-20T22:09:14.538Z"
   },
   {
    "duration": 142,
    "start_time": "2023-01-20T22:09:14.702Z"
   },
   {
    "duration": 20,
    "start_time": "2023-01-20T22:09:14.846Z"
   },
   {
    "duration": 291,
    "start_time": "2023-01-20T22:09:14.867Z"
   },
   {
    "duration": 5,
    "start_time": "2023-01-20T22:09:15.159Z"
   },
   {
    "duration": 12,
    "start_time": "2023-01-20T22:09:15.165Z"
   },
   {
    "duration": 169,
    "start_time": "2023-01-20T22:09:15.178Z"
   },
   {
    "duration": 180,
    "start_time": "2023-01-20T22:09:15.349Z"
   },
   {
    "duration": 166,
    "start_time": "2023-01-20T22:09:15.530Z"
   },
   {
    "duration": 159,
    "start_time": "2023-01-20T22:09:15.698Z"
   },
   {
    "duration": 230,
    "start_time": "2023-01-20T22:09:15.859Z"
   },
   {
    "duration": 177,
    "start_time": "2023-01-20T22:09:16.092Z"
   }
  ],
  "colab": {
   "name": "DA+. Сборный проект 1. Шаблон (1).ipynb",
   "provenance": []
  },
  "kernelspec": {
   "display_name": "Python 3 (ipykernel)",
   "language": "python",
   "name": "python3"
  },
  "language_info": {
   "codemirror_mode": {
    "name": "ipython",
    "version": 3
   },
   "file_extension": ".py",
   "mimetype": "text/x-python",
   "name": "python",
   "nbconvert_exporter": "python",
   "pygments_lexer": "ipython3",
   "version": "3.9.13"
  },
  "toc": {
   "base_numbering": 1,
   "nav_menu": {},
   "number_sections": true,
   "sideBar": true,
   "skip_h1_title": true,
   "title_cell": "Table of Contents",
   "title_sidebar": "Contents",
   "toc_cell": false,
   "toc_position": {
    "height": "calc(100% - 180px)",
    "left": "10px",
    "top": "150px",
    "width": "165px"
   },
   "toc_section_display": true,
   "toc_window_display": true
  }
 },
 "nbformat": 4,
 "nbformat_minor": 1
}
