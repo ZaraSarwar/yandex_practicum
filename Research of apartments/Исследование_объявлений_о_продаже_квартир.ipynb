{
 "cells": [
  {
   "cell_type": "markdown",
   "metadata": {},
   "source": [
    "# Исследование объявлений о продаже квартир\n",
    "\n",
    "В вашем распоряжении данные сервиса Яндекс.Недвижимость — архив объявлений о продаже квартир в Санкт-Петербурге и соседних населённых пунктов за несколько лет. Нужно научиться определять рыночную стоимость объектов недвижимости. Ваша задача — установить параметры. Это позволит построить автоматизированную систему: она отследит аномалии и мошенническую деятельность. \n",
    "\n",
    "По каждой квартире на продажу доступны два вида данных. Первые вписаны пользователем, вторые — получены автоматически на основе картографических данных. Например, расстояние до центра, аэропорта, ближайшего парка и водоёма. "
   ]
  },
  {
   "cell_type": "markdown",
   "metadata": {},
   "source": [
    "### Откройте файл с данными и изучите общую информацию. "
   ]
  },
  {
   "cell_type": "code",
   "execution_count": 1,
   "metadata": {},
   "outputs": [],
   "source": [
    "import pandas as pd\n",
    "import numpy as np\n",
    "import matplotlib.pyplot as plt"
   ]
  },
  {
   "cell_type": "markdown",
   "metadata": {},
   "source": [
    "Загрузим все нужные нам библиотеке, будем дополнять по необходимости"
   ]
  },
  {
   "cell_type": "code",
   "execution_count": 2,
   "metadata": {},
   "outputs": [
    {
     "name": "stdout",
     "output_type": "stream",
     "text": [
      "<class 'pandas.core.frame.DataFrame'>\n",
      "RangeIndex: 23699 entries, 0 to 23698\n",
      "Data columns (total 22 columns):\n",
      " #   Column                Non-Null Count  Dtype  \n",
      "---  ------                --------------  -----  \n",
      " 0   total_images          23699 non-null  int64  \n",
      " 1   last_price            23699 non-null  float64\n",
      " 2   total_area            23699 non-null  float64\n",
      " 3   first_day_exposition  23699 non-null  object \n",
      " 4   rooms                 23699 non-null  int64  \n",
      " 5   ceiling_height        14504 non-null  float64\n",
      " 6   floors_total          23613 non-null  float64\n",
      " 7   living_area           21796 non-null  float64\n",
      " 8   floor                 23699 non-null  int64  \n",
      " 9   is_apartment          2775 non-null   object \n",
      " 10  studio                23699 non-null  bool   \n",
      " 11  open_plan             23699 non-null  bool   \n",
      " 12  kitchen_area          21421 non-null  float64\n",
      " 13  balcony               12180 non-null  float64\n",
      " 14  locality_name         23650 non-null  object \n",
      " 15  airports_nearest      18157 non-null  float64\n",
      " 16  cityCenters_nearest   18180 non-null  float64\n",
      " 17  parks_around3000      18181 non-null  float64\n",
      " 18  parks_nearest         8079 non-null   float64\n",
      " 19  ponds_around3000      18181 non-null  float64\n",
      " 20  ponds_nearest         9110 non-null   float64\n",
      " 21  days_exposition       20518 non-null  float64\n",
      "dtypes: bool(2), float64(14), int64(3), object(3)\n",
      "memory usage: 3.7+ MB\n",
      "None\n"
     ]
    }
   ],
   "source": [
    "data = pd.read_csv('/datasets/real_estate_data.csv', sep='\\t')\n",
    "print(data.info())"
   ]
  },
  {
   "cell_type": "markdown",
   "metadata": {},
   "source": [
    "Откроем файл и изучим общие сведения"
   ]
  },
  {
   "cell_type": "code",
   "execution_count": 3,
   "metadata": {},
   "outputs": [
    {
     "name": "stdout",
     "output_type": "stream",
     "text": [
      "   total_images  last_price  total_area first_day_exposition  rooms  \\\n",
      "0            20  13000000.0       108.0  2019-03-07T00:00:00      3   \n",
      "1             7   3350000.0        40.4  2018-12-04T00:00:00      1   \n",
      "2            10   5196000.0        56.0  2015-08-20T00:00:00      2   \n",
      "3             0  64900000.0       159.0  2015-07-24T00:00:00      3   \n",
      "4             2  10000000.0       100.0  2018-06-19T00:00:00      2   \n",
      "\n",
      "   ceiling_height  floors_total  living_area  floor is_apartment  ...  \\\n",
      "0            2.70          16.0         51.0      8          NaN  ...   \n",
      "1             NaN          11.0         18.6      1          NaN  ...   \n",
      "2             NaN           5.0         34.3      4          NaN  ...   \n",
      "3             NaN          14.0          NaN      9          NaN  ...   \n",
      "4            3.03          14.0         32.0     13          NaN  ...   \n",
      "\n",
      "   kitchen_area  balcony    locality_name  airports_nearest  \\\n",
      "0          25.0      NaN  Санкт-Петербург           18863.0   \n",
      "1          11.0      2.0   посёлок Шушары           12817.0   \n",
      "2           8.3      0.0  Санкт-Петербург           21741.0   \n",
      "3           NaN      0.0  Санкт-Петербург           28098.0   \n",
      "4          41.0      NaN  Санкт-Петербург           31856.0   \n",
      "\n",
      "  cityCenters_nearest  parks_around3000  parks_nearest  ponds_around3000  \\\n",
      "0             16028.0               1.0          482.0               2.0   \n",
      "1             18603.0               0.0            NaN               0.0   \n",
      "2             13933.0               1.0           90.0               2.0   \n",
      "3              6800.0               2.0           84.0               3.0   \n",
      "4              8098.0               2.0          112.0               1.0   \n",
      "\n",
      "   ponds_nearest  days_exposition  \n",
      "0          755.0              NaN  \n",
      "1            NaN             81.0  \n",
      "2          574.0            558.0  \n",
      "3          234.0            424.0  \n",
      "4           48.0            121.0  \n",
      "\n",
      "[5 rows x 22 columns]\n"
     ]
    }
   ],
   "source": [
    "print(data.head())"
   ]
  },
  {
   "cell_type": "code",
   "execution_count": 4,
   "metadata": {},
   "outputs": [
    {
     "data": {
      "image/png": "[encoded data removed]",
      "text/plain": [
       "<Figure size 1080x1440 with 20 Axes>"
      ]
     },
     "metadata": {
      "needs_background": "light"
     },
     "output_type": "display_data"
    }
   ],
   "source": [
    "data.hist(figsize=(15, 20));"
   ]
  },
  {
   "cell_type": "markdown",
   "metadata": {},
   "source": [
    "Построим общую гистограмму для всех столбцов"
   ]
  },
  {
   "cell_type": "markdown",
   "metadata": {},
   "source": [
    "### Предобработка данных"
   ]
  },
  {
   "cell_type": "code",
   "execution_count": 5,
   "metadata": {},
   "outputs": [
    {
     "name": "stdout",
     "output_type": "stream",
     "text": [
      "total_images                0\n",
      "last_price                  0\n",
      "total_area                  0\n",
      "first_day_exposition        0\n",
      "rooms                       0\n",
      "ceiling_height           9195\n",
      "floors_total               86\n",
      "living_area              1903\n",
      "floor                       0\n",
      "is_apartment            20924\n",
      "studio                      0\n",
      "open_plan                   0\n",
      "kitchen_area             2278\n",
      "balcony                 11519\n",
      "locality_name              49\n",
      "airports_nearest         5542\n",
      "cityCenters_nearest      5519\n",
      "parks_around3000         5518\n",
      "parks_nearest           15620\n",
      "ponds_around3000         5518\n",
      "ponds_nearest           14589\n",
      "days_exposition          3181\n",
      "dtype: int64\n"
     ]
    }
   ],
   "source": [
    "print(data.isna().sum())\n",
    "data['balcony'] = data['balcony'].fillna(0).astype('int')\n",
    "data['is_apartment'] = data['is_apartment'].fillna('True').astype('bool')\n",
    "data['ceiling_height'] = data['ceiling_height'].fillna(data['ceiling_height'].median())"
   ]
  },
  {
   "cell_type": "code",
   "execution_count": 6,
   "metadata": {},
   "outputs": [
    {
     "name": "stdout",
     "output_type": "stream",
     "text": [
      "total_images                0\n",
      "last_price                  0\n",
      "total_area                  0\n",
      "first_day_exposition        0\n",
      "rooms                       0\n",
      "ceiling_height              0\n",
      "floors_total               86\n",
      "living_area              1903\n",
      "floor                       0\n",
      "is_apartment                0\n",
      "studio                      0\n",
      "open_plan                   0\n",
      "kitchen_area             2278\n",
      "balcony                     0\n",
      "locality_name              49\n",
      "airports_nearest         5542\n",
      "cityCenters_nearest      5519\n",
      "parks_around3000         5518\n",
      "parks_nearest           15620\n",
      "ponds_around3000         5518\n",
      "ponds_nearest           14589\n",
      "days_exposition          3181\n",
      "dtype: int64\n"
     ]
    }
   ],
   "source": [
    "print(data.isna().sum())"
   ]
  },
  {
   "cell_type": "markdown",
   "metadata": {},
   "source": [
    "Проверим изменения, сначала проверим пропуски"
   ]
  },
  {
   "cell_type": "code",
   "execution_count": 7,
   "metadata": {},
   "outputs": [
    {
     "name": "stdout",
     "output_type": "stream",
     "text": [
      "<class 'pandas.core.frame.DataFrame'>\n",
      "RangeIndex: 23699 entries, 0 to 23698\n",
      "Data columns (total 22 columns):\n",
      " #   Column                Non-Null Count  Dtype  \n",
      "---  ------                --------------  -----  \n",
      " 0   total_images          23699 non-null  int64  \n",
      " 1   last_price            23699 non-null  float64\n",
      " 2   total_area            23699 non-null  float64\n",
      " 3   first_day_exposition  23699 non-null  object \n",
      " 4   rooms                 23699 non-null  int64  \n",
      " 5   ceiling_height        23699 non-null  float64\n",
      " 6   floors_total          23613 non-null  float64\n",
      " 7   living_area           21796 non-null  float64\n",
      " 8   floor                 23699 non-null  int64  \n",
      " 9   is_apartment          23699 non-null  bool   \n",
      " 10  studio                23699 non-null  bool   \n",
      " 11  open_plan             23699 non-null  bool   \n",
      " 12  kitchen_area          21421 non-null  float64\n",
      " 13  balcony               23699 non-null  int64  \n",
      " 14  locality_name         23650 non-null  object \n",
      " 15  airports_nearest      18157 non-null  float64\n",
      " 16  cityCenters_nearest   18180 non-null  float64\n",
      " 17  parks_around3000      18181 non-null  float64\n",
      " 18  parks_nearest         8079 non-null   float64\n",
      " 19  ponds_around3000      18181 non-null  float64\n",
      " 20  ponds_nearest         9110 non-null   float64\n",
      " 21  days_exposition       20518 non-null  float64\n",
      "dtypes: bool(3), float64(13), int64(4), object(2)\n",
      "memory usage: 3.5+ MB\n"
     ]
    }
   ],
   "source": [
    "data.info()"
   ]
  },
  {
   "cell_type": "markdown",
   "metadata": {},
   "source": [
    "Теперь проверим изменения в типах данных"
   ]
  },
  {
   "cell_type": "code",
   "execution_count": 8,
   "metadata": {},
   "outputs": [
    {
     "name": "stdout",
     "output_type": "stream",
     "text": [
      "<class 'pandas.core.frame.DataFrame'>\n",
      "Int64Index: 23613 entries, 0 to 23698\n",
      "Data columns (total 22 columns):\n",
      " #   Column                Non-Null Count  Dtype         \n",
      "---  ------                --------------  -----         \n",
      " 0   total_images          23613 non-null  int64         \n",
      " 1   last_price            23613 non-null  int32         \n",
      " 2   total_area            23613 non-null  float64       \n",
      " 3   first_day_exposition  23613 non-null  datetime64[ns]\n",
      " 4   rooms                 23613 non-null  int64         \n",
      " 5   ceiling_height        23613 non-null  float64       \n",
      " 6   floors_total          23613 non-null  int32         \n",
      " 7   living_area           21743 non-null  float64       \n",
      " 8   floor                 23613 non-null  int64         \n",
      " 9   is_apartment          23613 non-null  bool          \n",
      " 10  studio                23613 non-null  bool          \n",
      " 11  open_plan             23613 non-null  bool          \n",
      " 12  kitchen_area          21382 non-null  float64       \n",
      " 13  balcony               23613 non-null  int64         \n",
      " 14  locality_name         23565 non-null  object        \n",
      " 15  airports_nearest      18081 non-null  float64       \n",
      " 16  cityCenters_nearest   18104 non-null  float64       \n",
      " 17  parks_around3000      18105 non-null  float64       \n",
      " 18  parks_nearest         8045 non-null   float64       \n",
      " 19  ponds_around3000      18105 non-null  float64       \n",
      " 20  ponds_nearest         9061 non-null   float64       \n",
      " 21  days_exposition       20441 non-null  float64       \n",
      "dtypes: bool(3), datetime64[ns](1), float64(11), int32(2), int64(4), object(1)\n",
      "memory usage: 3.5+ MB\n"
     ]
    }
   ],
   "source": [
    "data['first_day_exposition'] = pd.to_datetime(data['first_day_exposition'], format='%Y-%m-%dT')\n",
    "data = data.dropna(subset=['floors_total'])\n",
    "data[['last_price', 'floors_total']] = data[['last_price', 'floors_total']].astype('int32')\n",
    "data.info()"
   ]
  },
  {
   "cell_type": "markdown",
   "metadata": {},
   "source": [
    "Рассмотрим типы данных в каждом столбце  \n",
    "Изменим тип данных в столбцах first_day_exposition и floors_total"
   ]
  },
  {
   "cell_type": "code",
   "execution_count": 9,
   "metadata": {},
   "outputs": [],
   "source": [
    "data['locality_name'].unique()\n",
    "data['locality_name'] = data['locality_name'].str.replace('ё', 'е')\n",
    "data['locality_name'] = data['locality_name'].replace('посёлок |деревня | село |поселок |посёлок городского типа |поселок городского типа |садовое товарищество |садоводческое некоммерческое товарищество | городского типа |городской ', '', regex=True)"
   ]
  },
  {
   "cell_type": "markdown",
   "metadata": {},
   "source": [
    "Изучим уникальные значения в столбце с названиями и устраним дубликаты  "
   ]
  },
  {
   "cell_type": "code",
   "execution_count": 10,
   "metadata": {},
   "outputs": [],
   "source": [
    "data['ceiling_height'].unique()\n",
    "data.loc[data['ceiling_height'] > 8.3, 'ceiling_height'] /= 10"
   ]
  },
  {
   "cell_type": "markdown",
   "metadata": {},
   "source": [
    "В столбце ceiling_height заменим все аномальные значения выше 8,3"
   ]
  },
  {
   "cell_type": "code",
   "execution_count": 11,
   "metadata": {},
   "outputs": [],
   "source": [
    "data['last_price'].unique()\n",
    "data.loc[data['last_price'] > 9000000, 'last_price'] /= 10\n",
    "data.loc[data['last_price'] < 1000000, 'last_price'] *= 10"
   ]
  },
  {
   "cell_type": "code",
   "execution_count": 12,
   "metadata": {},
   "outputs": [],
   "source": [
    "data['rooms'].unique()\n",
    "data = data.loc[data['rooms'] <= 6]"
   ]
  },
  {
   "cell_type": "code",
   "execution_count": 13,
   "metadata": {},
   "outputs": [
    {
     "name": "stdout",
     "output_type": "stream",
     "text": [
      "[108.    40.4   56.   ...  66.86 133.81  76.75]\n"
     ]
    }
   ],
   "source": [
    "print(data['total_area'].unique())\n",
    "data = data[(data['total_area'] <= 140) & (data['total_area'] >= 25)] \n",
    "data = data.dropna(subset=['total_area'])"
   ]
  },
  {
   "cell_type": "markdown",
   "metadata": {},
   "source": [
    "### Посчитайте и добавьте в таблицу новые столбцы"
   ]
  },
  {
   "cell_type": "code",
   "execution_count": 16,
   "metadata": {},
   "outputs": [
    {
     "name": "stdout",
     "output_type": "stream",
     "text": [
      "    total_images  last_price  total_area first_day_exposition  rooms  \\\n",
      "0             20   1300000.0       108.0           2019-03-07      3   \n",
      "1              7   3350000.0        40.4           2018-12-04      1   \n",
      "2             10   5196000.0        56.0           2015-08-20      2   \n",
      "4              2   1000000.0       100.0           2018-06-19      2   \n",
      "6              6   3700000.0        37.3           2017-11-02      1   \n",
      "7              5   7915000.0        71.6           2019-04-18      2   \n",
      "9             18   5400000.0        61.0           2017-02-26      3   \n",
      "10             5   5050000.0        39.6           2017-11-16      1   \n",
      "11             9   3300000.0        44.0           2018-08-27      2   \n",
      "13            20   3550000.0        42.8           2017-07-01      2   \n",
      "14             1   4400000.0        36.0           2016-06-23      1   \n",
      "15            16   4650000.0        39.0           2017-11-18      1   \n",
      "16            11   6700000.0        82.0           2017-11-23      3   \n",
      "17             6   4180000.0        36.0           2016-09-09      1   \n",
      "18             8   3250000.0        31.0           2017-01-27      1   \n",
      "19            16   1420000.0       121.0           2019-01-09      3   \n",
      "20            12   6120000.0        80.0           2017-09-28      3   \n",
      "21            13   3200000.0        31.6           2018-03-14      1   \n",
      "23            11   2950000.0        32.0           2016-10-29      1   \n",
      "24             8   6500000.0        97.2           2015-10-31      2   \n",
      "\n",
      "    ceiling_height  floors_total  living_area  floor  is_apartment  ...  \\\n",
      "0             2.70            16         51.0      8          True  ...   \n",
      "1             2.65            11         18.6      1          True  ...   \n",
      "2             2.65             5         34.3      4          True  ...   \n",
      "4             3.03            14         32.0     13          True  ...   \n",
      "6             2.65            26         10.6      6          True  ...   \n",
      "7             2.65            24          NaN     22          True  ...   \n",
      "9             2.50             9         43.6      7          True  ...   \n",
      "10            2.67            12         20.3      3          True  ...   \n",
      "11            2.65             5         31.0      4         False  ...   \n",
      "13            2.56             5         27.0      5          True  ...   \n",
      "14            2.65             6         17.0      1          True  ...   \n",
      "15            2.65            14         20.5      5          True  ...   \n",
      "16            3.05             5         55.6      1          True  ...   \n",
      "17            2.65            17         16.5      7          True  ...   \n",
      "18            2.50             5         19.4      2          True  ...   \n",
      "19            2.75            16         76.0      8          True  ...   \n",
      "20            2.70            27         48.0     11          True  ...   \n",
      "21            2.65             5         16.9      2          True  ...   \n",
      "23            2.60             9         17.7      9          True  ...   \n",
      "24            2.65             3         46.5      1          True  ...   \n",
      "\n",
      "    parks_nearest  ponds_around3000  ponds_nearest  days_exposition  \\\n",
      "0           482.0               2.0          755.0              NaN   \n",
      "1             NaN               0.0            NaN             81.0   \n",
      "2            90.0               2.0          574.0            558.0   \n",
      "4           112.0               1.0           48.0            121.0   \n",
      "6             NaN               0.0            NaN            155.0   \n",
      "7             NaN               0.0            NaN              NaN   \n",
      "9             NaN               0.0            NaN            289.0   \n",
      "10          310.0               2.0          553.0            137.0   \n",
      "11            NaN               0.0            NaN              7.0   \n",
      "13          294.0               3.0          298.0            366.0   \n",
      "14            NaN               1.0           96.0            203.0   \n",
      "15          590.0               1.0          296.0             19.0   \n",
      "16          420.0               0.0            NaN            397.0   \n",
      "17            NaN               1.0          859.0            571.0   \n",
      "18          759.0               0.0            NaN            168.0   \n",
      "19            NaN               0.0            NaN             97.0   \n",
      "20            NaN               0.0            NaN             74.0   \n",
      "21          248.0               0.0            NaN            310.0   \n",
      "23          517.0               1.0          190.0            615.0   \n",
      "24          411.0               3.0          124.0            265.0   \n",
      "\n",
      "   price_sq_m  weekday  month  year  floor_type  city_centers_group  \n",
      "0       12037        3      3  2019      другой                  16  \n",
      "1       82920        1     12  2018      первый                  18  \n",
      "2       92785        3      8  2015      другой                  13  \n",
      "4       10000        1      6  2018      другой                   8  \n",
      "6       99195        3     11  2017      другой                  19  \n",
      "7      110544        3      4  2019      другой                  11  \n",
      "9       88524        6      2  2017      другой                  15  \n",
      "10     127525        3     11  2017      другой                  13  \n",
      "11      75000        0      8  2018      другой                  51  \n",
      "13      82943        5      7  2017   последний                  33  \n",
      "14     122222        3      6  2016      первый                  30  \n",
      "15     119230        5     11  2017      другой                  14  \n",
      "16      81707        3     11  2017      первый                  10  \n",
      "17     116111        4      9  2016      другой                  14  \n",
      "18     104838        4      1  2017      другой                  10  \n",
      "19      11735        2      1  2019      другой                  12  \n",
      "20      76500        3      9  2017      другой                  19  \n",
      "21     101265        2      3  2018      другой                   9  \n",
      "23      92187        5     10  2016   последний                  14  \n",
      "24      66872        5     10  2015      первый                   2  \n",
      "\n",
      "[20 rows x 28 columns]\n"
     ]
    }
   ],
   "source": [
    "data['price_sq_m'] = data['last_price']/ data['total_area']\n",
    "data['price_sq_m'] = data['price_sq_m'].astype('int')\n",
    "data['weekday'] = data['first_day_exposition'].dt.weekday\n",
    "data['month'] = pd.DatetimeIndex(data['first_day_exposition']).month\n",
    "data['year'] = pd.DatetimeIndex(data['first_day_exposition']).year\n",
    "\n",
    "data.insert(26, 'floor_type', np.nan)\n",
    "data.loc[data['floor'] == 1, 'floor_type'] = 'первый'\n",
    "data.loc[data['floor'] == data['floors_total'], 'floor_type'] = 'последний'\n",
    "data['floor_type'] = data['floor_type'].fillna(value='другой')\n",
    "    \n",
    "data = data.dropna(subset=['cityCenters_nearest'])\n",
    "data['city_centers_group'] = data['cityCenters_nearest']/1000\n",
    "data['city_centers_group'] = data['city_centers_group'].astype('int')\n",
    "\n",
    "print(data.head(20))"
   ]
  },
  {
   "cell_type": "markdown",
   "metadata": {},
   "source": [
    "Добавьим в таблицу новые столбцы со следующими параметрами:  \n",
    "цена одного квадратного метра - price_sq_m  \n",
    "день недели публикации объявления - weekday  \n",
    "месяц публикации объявления - month  \n",
    "год публикации объявления - year  \n",
    "тип этажа квартиры — floor_type и заполним этот столбец параметрами «первый», «последний», «другой»  \n",
    "расстояние до центра города в километрах - city_сenters_group"
   ]
  },
  {
   "cell_type": "markdown",
   "metadata": {},
   "source": [
    "### Проведите исследовательский анализ данных"
   ]
  },
  {
   "cell_type": "code",
   "execution_count": 17,
   "metadata": {
    "scrolled": true
   },
   "outputs": [
    {
     "data": {
      "image/png": "[encoded data removed]",
      "text/plain": [
       "<Figure size 432x288 with 1 Axes>"
      ]
     },
     "metadata": {
      "needs_background": "light"
     },
     "output_type": "display_data"
    }
   ],
   "source": [
    "data['total_area'].hist(bins=8, range=(0, 180));"
   ]
  },
  {
   "cell_type": "markdown",
   "metadata": {},
   "source": [
    "На графике с общей площадью мы видим что свыше 6000 квартир от 40 до 60 кв. метров, примерно 6000 квартир с площадью 25-40 кв м и вдвое меньше квартир с площадью 60-80 кв м. Квартир с площадью 80-110 кв м около 1200 шт, а с площадью 110-135 - 500 шт и совсем мало квартир с площадью 135-140 кв метров - 100 шт."
   ]
  },
  {
   "cell_type": "code",
   "execution_count": 18,
   "metadata": {},
   "outputs": [
    {
     "data": {
      "image/png": "[encoded data removed]",
      "text/plain": [
       "<Figure size 432x288 with 1 Axes>"
      ]
     },
     "metadata": {
      "needs_background": "light"
     },
     "output_type": "display_data"
    }
   ],
   "source": [
    "data['living_area'].hist(bins=6, range=(0, 120));"
   ]
  },
  {
   "cell_type": "markdown",
   "metadata": {},
   "source": [
    "Видим, что:\n",
    "квартир с жилой площадью 20-40 кв. метров больше всего - 7000 шт, с жилой площадью 0-20 квадратов примерно 4300 шт, с площадью 40-60 квадратов - 3800 штук, квартир с жил.площадью 60-80 квадратов около 800 штук и совсем мало квартир с жилой площадью 80-100 метров, около 100 шт"
   ]
  },
  {
   "cell_type": "code",
   "execution_count": 19,
   "metadata": {},
   "outputs": [
    {
     "data": {
      "image/png": "[encoded data removed]",
      "text/plain": [
       "<Figure size 432x288 with 1 Axes>"
      ]
     },
     "metadata": {
      "needs_background": "light"
     },
     "output_type": "display_data"
    }
   ],
   "source": [
    "data['kitchen_area'].hist(bins=10, range=(0, 40));"
   ]
  },
  {
   "cell_type": "markdown",
   "metadata": {},
   "source": [
    "Больше всего кухонь с площадью 8-11 квадратов - 6800, кухонь с параметрами 4-8 кв метров - 4900 шт, кухонь с площадью 11-16 кв м - 3700, с площадью 16-20 кв м - 700 шт, с площадью 20-23 кв м - 300 шт, кухонь с плоащдью 23-40 - около 100 шт."
   ]
  },
  {
   "cell_type": "code",
   "execution_count": 20,
   "metadata": {},
   "outputs": [
    {
     "data": {
      "image/png": "[encoded data removed]",
      "text/plain": [
       "<Figure size 432x288 with 1 Axes>"
      ]
     },
     "metadata": {
      "needs_background": "light"
     },
     "output_type": "display_data"
    }
   ],
   "source": [
    "data['last_price'].hist(bins=30);"
   ]
  },
  {
   "cell_type": "markdown",
   "metadata": {},
   "source": [
    "В столбце с стоимостью квартиры больше всего квартир в диапозоне 0,3-0,4. На графике видно, что идет постепенное увеличение стоимости уменьшение таких предложений. При этом заметен пик в районе 0,1 - возможно это большое количество квартир с невысокой стоимостью в отдаленных городах вокруг Санкт-Петербурга."
   ]
  },
  {
   "cell_type": "code",
   "execution_count": 21,
   "metadata": {},
   "outputs": [
    {
     "data": {
      "image/png": "[encoded data removed]",
      "text/plain": [
       "<Figure size 432x288 with 1 Axes>"
      ]
     },
     "metadata": {
      "needs_background": "light"
     },
     "output_type": "display_data"
    }
   ],
   "source": [
    "data['rooms'].hist(bins=8, range=(0, 8));"
   ]
  },
  {
   "cell_type": "markdown",
   "metadata": {},
   "source": [
    "По графику видим почти одинаковое количество 1/2/3- комнатных квартир, в районе 5800,  \n",
    "4 комнатных квартир примерно 4,5 тысячи, 5 комнатных около 800 и 6 и более - менее 100 шт."
   ]
  },
  {
   "cell_type": "code",
   "execution_count": 22,
   "metadata": {},
   "outputs": [
    {
     "data": {
      "image/png": "[encoded data removed]",
      "text/plain": [
       "<Figure size 432x288 with 1 Axes>"
      ]
     },
     "metadata": {
      "needs_background": "light"
     },
     "output_type": "display_data"
    }
   ],
   "source": [
    "data['ceiling_height'].hist(bins=3, range=(0, 9));"
   ]
  },
  {
   "cell_type": "markdown",
   "metadata": {},
   "source": [
    "По графику видим что высота потолоков почти во всех квартирах лежит в диапозоне 2-2,7 метра и их одинаковое количество, а именно - 15600 шт. Ещё примерно в 2000 квартир высота потолков равна 2,7-6 метров."
   ]
  },
  {
   "cell_type": "code",
   "execution_count": 23,
   "metadata": {},
   "outputs": [
    {
     "data": {
      "image/png": "[encoded data removed]",
      "text/plain": [
       "<Figure size 432x288 with 1 Axes>"
      ]
     },
     "metadata": {
      "needs_background": "light"
     },
     "output_type": "display_data"
    }
   ],
   "source": [
    "data['floor'].hist(bins=10, range=(0, 20));"
   ]
  },
  {
   "cell_type": "markdown",
   "metadata": {},
   "source": [
    "Квартир на 2-4 этажах больше всего - 4800 шт, квартир на 5-6 этажах чуть меньше 3800 шт, квартир на 1 и на 6-8 этажах около 2000, 8-10 этажах примерно 1800 шт, 10-12 - 1000 шт, 12-14 - 600 шт, 14-16 этажах - 500 шт, 16 и выше около 400 шт."
   ]
  },
  {
   "cell_type": "code",
   "execution_count": 24,
   "metadata": {
    "scrolled": true
   },
   "outputs": [
    {
     "data": {
      "image/png": "[encoded data removed]",
      "text/plain": [
       "<Figure size 432x288 with 1 Axes>"
      ]
     },
     "metadata": {
      "needs_background": "light"
     },
     "output_type": "display_data"
    }
   ],
   "source": [
    "data['floor_type'].hist(bins=5, range=(0, 3));"
   ]
  },
  {
   "cell_type": "markdown",
   "metadata": {},
   "source": [
    "На графике видно, что предложений на \"других\" этажах почти 13 тысяч, в то время как \"первого\" и \"последнего\" - всего около 2000 шутк"
   ]
  },
  {
   "cell_type": "code",
   "execution_count": 25,
   "metadata": {},
   "outputs": [
    {
     "data": {
      "image/png": "[encoded data removed]",
      "text/plain": [
       "<Figure size 432x288 with 1 Axes>"
      ]
     },
     "metadata": {
      "needs_background": "light"
     },
     "output_type": "display_data"
    }
   ],
   "source": [
    "data['floors_total'].hist(bins=10, range=(0, 20));"
   ]
  },
  {
   "cell_type": "markdown",
   "metadata": {},
   "source": [
    "Больше всего квартир в 4-6 этажных домах - таких 4500, 8-10 этажных - 3500, 16-18 этажных домов около 1800 шт, 12-14 этажных домов 1300 шт, 6-8 этажных и 10-12 этажных домов по 1100, 14-16 этажных и 18-20 этажных домов по 800 шт и ещё примерно 400 домов 2-4 этажных."
   ]
  },
  {
   "cell_type": "code",
   "execution_count": 26,
   "metadata": {},
   "outputs": [
    {
     "data": {
      "image/png": "[encoded data removed]",
      "text/plain": [
       "<Figure size 432x288 with 1 Axes>"
      ]
     },
     "metadata": {
      "needs_background": "light"
     },
     "output_type": "display_data"
    }
   ],
   "source": [
    "data['cityCenters_nearest'].hist(bins=10);"
   ]
  },
  {
   "cell_type": "markdown",
   "metadata": {},
   "source": [
    "Больше всего вариантов в отдаленности 8000 - 20000 м от центра, таких 6000, предложений в 0-8000 м от центра 2800, в 27000-33000 примерно 1100 квартир, 800 квартир в 20000-27000 м от центра, и в 37000 и более примерно 400 квартир."
   ]
  },
  {
   "cell_type": "code",
   "execution_count": 27,
   "metadata": {},
   "outputs": [
    {
     "data": {
      "image/png": "[encoded data removed]",
      "text/plain": [
       "<Figure size 432x288 with 1 Axes>"
      ]
     },
     "metadata": {
      "needs_background": "light"
     },
     "output_type": "display_data"
    }
   ],
   "source": [
    "data['airports_nearest'].hist(bins=5);"
   ]
  },
  {
   "cell_type": "markdown",
   "metadata": {},
   "source": [
    "В 18000-37000 м от аэропорта расположено наибольшее число квартир, а именно 7800, в отдаленности 37000-50000 расположено 5000 квартир, 4600 квартир находятся на расстоянии 0-20000 м от аэропорта, и примерно 1000 кв находятся в 50000 м от аэропорта и дальше."
   ]
  },
  {
   "cell_type": "code",
   "execution_count": 28,
   "metadata": {},
   "outputs": [
    {
     "data": {
      "image/png": "[encoded data removed]",
      "text/plain": [
       "<Figure size 432x288 with 1 Axes>"
      ]
     },
     "metadata": {
      "needs_background": "light"
     },
     "output_type": "display_data"
    }
   ],
   "source": [
    "data['parks_nearest'].hist(bins=10);"
   ]
  },
  {
   "cell_type": "markdown",
   "metadata": {},
   "source": [
    "Больше всего квартир расположено на расстоянии 400-600 м от ближайшего парка - 3800,  2200 квартир находятся в 0-400 м от парка, 1300 квартир расположены в 600-950 метрах от парка. В 950 и более расположено чуть более 200-х сот квартир."
   ]
  },
  {
   "cell_type": "code",
   "execution_count": 29,
   "metadata": {},
   "outputs": [
    {
     "data": {
      "image/png": "[encoded data removed]",
      "text/plain": [
       "<Figure size 432x288 with 1 Axes>"
      ]
     },
     "metadata": {
      "needs_background": "light"
     },
     "output_type": "display_data"
    }
   ],
   "source": [
    "data['weekday'].hist(bins=10, range=(0, 7));"
   ]
  },
  {
   "cell_type": "markdown",
   "metadata": {},
   "source": [
    "Больше всего объявлений было опубликовано во вторник и четверг, таких было по 3200 шт, ещё около 3000 шт было опубликовано в среду и пятницу, в понедельник было опубликовано примерно 2600 объявлений и по суббота и воскресеньям 1400 и 1300 объявлений соответсвенно."
   ]
  },
  {
   "cell_type": "code",
   "execution_count": 30,
   "metadata": {},
   "outputs": [
    {
     "data": {
      "image/png": "[encoded data removed]",
      "text/plain": [
       "<Figure size 432x288 with 1 Axes>"
      ]
     },
     "metadata": {
      "needs_background": "light"
     },
     "output_type": "display_data"
    }
   ],
   "source": [
    "data['month'].hist(bins=10, range=(0, 12));"
   ]
  },
  {
   "cell_type": "markdown",
   "metadata": {},
   "source": [
    "Больше всего размещено объявлений в декабре - 3300, с февраля по май примерно одинаковое количество объявлений каждый месяц около 1800 шт, с июля по сентябрь около 1300 объявлений в месяц, в октябре и ноябре около 1500, в январе и июне по 1000 объявлений."
   ]
  },
  {
   "cell_type": "code",
   "execution_count": 31,
   "metadata": {},
   "outputs": [
    {
     "name": "stdout",
     "output_type": "stream",
     "text": [
      "count    15208.000000\n",
      "mean       178.811941\n",
      "std        219.617174\n",
      "min          1.000000\n",
      "25%         43.000000\n",
      "50%         94.000000\n",
      "75%        226.250000\n",
      "max       1572.000000\n",
      "Name: days_exposition, dtype: float64\n"
     ]
    },
    {
     "data": {
      "image/png": "[encoded data removed]",
      "text/plain": [
       "<Figure size 432x288 with 1 Axes>"
      ]
     },
     "metadata": {
      "needs_background": "light"
     },
     "output_type": "display_data"
    }
   ],
   "source": [
    "data.hist(column='days_exposition', bins=100)\n",
    "print(data['days_exposition'].describe())"
   ]
  },
  {
   "cell_type": "markdown",
   "metadata": {},
   "source": [
    "В среднем продажа занимает 96 дней. Быстрыми продажа можно считать те, которые произошли в течение 30 дней. На нашем графике таких большинство. Долгими продажами можно считать те, что висели 200 и более дней."
   ]
  },
  {
   "cell_type": "code",
   "execution_count": 32,
   "metadata": {},
   "outputs": [
    {
     "data": {
      "image/png": "[encoded data removed]",
      "text/plain": [
       "<Figure size 432x288 with 1 Axes>"
      ]
     },
     "metadata": {
      "needs_background": "light"
     },
     "output_type": "display_data"
    },
    {
     "data": {
      "image/png": "[encoded data removed]",
      "text/plain": [
       "<Figure size 432x288 with 1 Axes>"
      ]
     },
     "metadata": {
      "needs_background": "light"
     },
     "output_type": "display_data"
    },
    {
     "data": {
      "image/png": "[encoded data removed]",
      "text/plain": [
       "<Figure size 432x288 with 1 Axes>"
      ]
     },
     "metadata": {
      "needs_background": "light"
     },
     "output_type": "display_data"
    },
    {
     "data": {
      "image/png": "[encoded data removed]",
      "text/plain": [
       "<Figure size 432x288 with 1 Axes>"
      ]
     },
     "metadata": {
      "needs_background": "light"
     },
     "output_type": "display_data"
    },
    {
     "data": {
      "image/png": "[encoded data removed]",
      "text/plain": [
       "<Figure size 432x288 with 1 Axes>"
      ]
     },
     "metadata": {
      "needs_background": "light"
     },
     "output_type": "display_data"
    },
    {
     "data": {
      "image/png": "[encoded data removed]",
      "text/plain": [
       "<Figure size 432x288 with 1 Axes>"
      ]
     },
     "metadata": {
      "needs_background": "light"
     },
     "output_type": "display_data"
    },
    {
     "data": {
      "image/png": "[encoded data removed]",
      "text/plain": [
       "<Figure size 432x288 with 1 Axes>"
      ]
     },
     "metadata": {
      "needs_background": "light"
     },
     "output_type": "display_data"
    },
    {
     "data": {
      "image/png": "[encoded data removed]",
      "text/plain": [
       "<Figure size 432x288 with 1 Axes>"
      ]
     },
     "metadata": {
      "needs_background": "light"
     },
     "output_type": "display_data"
    }
   ],
   "source": [
    "data.plot(x='total_area', y='last_price', kind='scatter', grid=True, alpha=0.4)\n",
    "data.plot(x='living_area', y='last_price', kind='scatter', grid=True, alpha=0.4)\n",
    "data.plot(x='kitchen_area', y='last_price', kind='scatter', grid=True, alpha=0.4)\n",
    "\n",
    "rooms_stat = data.pivot_table(index='rooms', values='last_price', aggfunc='mean')\n",
    "rooms_stat.plot(kind='bar', grid=True)\n",
    "\n",
    "floor_type_stat = data.pivot_table(index='floor_type', values='last_price', aggfunc='mean')\n",
    "floor_type_stat.plot(kind='bar', grid=True)\n",
    "\n",
    "weekday_stat = data.pivot_table(index='weekday', values='last_price', aggfunc='mean')\n",
    "weekday_stat.plot(kind='bar', grid=True)\n",
    "\n",
    "month_stat = data.pivot_table(index='month', values='last_price', aggfunc='mean')\n",
    "month_stat.plot(kind='bar', grid=True)\n",
    "\n",
    "year_stat = data.pivot_table(index='year', values='last_price', aggfunc='mean')\n",
    "year_stat.plot(kind='bar', grid=True);"
   ]
  },
  {
   "cell_type": "markdown",
   "metadata": {},
   "source": [
    "Изучим, зависит ли цена от:  \n",
    "от общей площади цена зависит, но мы можем сказать что есть значительное количество примеров, где с увеличением площади цена не увеличивается, можем сделать вывод, что есть третий фактор влиящий на стоимость \n",
    "от жилой площади цена зависит больше, нежели от общей, но также есть исключения  \n",
    "с увеличением площади кухни увеличивается и цена, график отражает это, но всё ещё множество исключений\n",
    "до 3 комнатных квартир график показывает увеличение стоимости, однако с 4 комнатных квартир стоимость уменьшается, можем сделать вывод, что есть третий фактор влиящий на стоимость  \n",
    "мы видим, что цена не значительно отличается в зависимости от этажа, на котором расположена квартира (первый, последний, другой)  \n",
    "мы наблюдаем, что день недели и месяц влияют не существенно на стоимость квартиры, в то время как год старта продажи сказывается на цене. Предположу, что это связано с инфляцией."
   ]
  },
  {
   "cell_type": "code",
   "execution_count": 33,
   "metadata": {},
   "outputs": [
    {
     "name": "stdout",
     "output_type": "stream",
     "text": [
      "              last_price  total_area  living_area  kitchen_area     rooms\n",
      "last_price      1.000000    0.088296     0.110165     -0.009956  0.162731\n",
      "total_area      0.088296    1.000000     0.912964      0.535068  0.781937\n",
      "living_area     0.110165    0.912964     1.000000      0.255299  0.874500\n",
      "kitchen_area   -0.009956    0.535068     0.255299      1.000000  0.140977\n",
      "rooms           0.162731    0.781937     0.874500      0.140977  1.000000\n"
     ]
    }
   ],
   "source": [
    "df_corr = data[['last_price', 'total_area', 'living_area', 'kitchen_area', 'rooms']].corr()\n",
    "print(df_corr)"
   ]
  },
  {
   "cell_type": "markdown",
   "metadata": {},
   "source": [
    "Рассчитаем корреляцию стоимости от общей площади, жилой площади, площади кухни и количества комнат.  \n",
    "Из полученных сведений можем сделать следующие выводы:  \n",
    "для стоимости: ни один из изученных нами условий не имеет достаточной высокой поожительной корреляции, чтобы говорить об устойчивой взаимосявзи. Наибольшая корреляция наблюдается в связи с количеством комнат, но она всего лишь 0,16.  \n",
    "для общей площади: наблюдается высокая крреляция с жилой площадью и количеством комнат - 0,91 и 0,78 соответсвенно.  \n",
    "для жилой площади: характерна уже упомянутая корреляция с общей площадью (0,91) и количеством комнат - 0,87.  \n",
    "для площади кухни: не наблюдается ни одной устойчивой связи, наибольшая корреляция 0,53 с общей площадью.  \n",
    "для количества комнат: корреляция существует с общей площадью (0,78) и жилой площадью (0,87)."
   ]
  },
  {
   "cell_type": "code",
   "execution_count": 34,
   "metadata": {},
   "outputs": [
    {
     "name": "stdout",
     "output_type": "stream",
     "text": [
      "                 count  price per m pop\n",
      "locality_name                          \n",
      "Санкт-Петербург  14864     92295.825484\n",
      "Шушары             432     77617.951389\n",
      "Пушкин             356     93326.196629\n",
      "Колпино            335     74880.576119\n",
      "Парголово          325     90430.298462\n",
      "Петергоф           197     81637.654822\n",
      "Сестрорецк         181     91174.662983\n",
      "Красное Село       172     72155.563953\n",
      "Ломоносов          132     72609.386364\n",
      "Кронштадт           94     78106.797872\n",
      "Металлострой        66     73751.939394\n",
      "Стрельна            41     86047.585366\n",
      "Павловск            36     75259.694444\n",
      "Зеленогорск         23     90138.478261\n",
      "Понтонный           20     70104.050000\n"
     ]
    }
   ],
   "source": [
    "popular_location = data.groupby('locality_name').agg({'price_sq_m':['count','mean']})\n",
    "popular_location.columns = ['count', 'price per m pop']\n",
    "popular_location = popular_location.sort_values(by='count', ascending=False)\n",
    "\n",
    "print(popular_location.head(15))"
   ]
  },
  {
   "cell_type": "markdown",
   "metadata": {},
   "source": [
    "Посчитаем среднюю цену одного квадратного метра в 10 населённых пунктах с наибольшим числом объявлений. Выделим населённые пункты с самой высокой и низкой стоимостью квадратного метра и сохраним их в popular_location.  \n",
    "Из населенных пунктов с наибольшим количеством объявлений можем сказать, что наибольшая стоимость квадратного метра в городе Пушкин и составляет 93326р. Наименьшая стоимость квадратного метра из нашей выборки в г. Понтонный и составляет 70104р."
   ]
  },
  {
   "cell_type": "code",
   "execution_count": 35,
   "metadata": {},
   "outputs": [
    {
     "data": {
      "text/plain": [
       "city_centers_group\n",
       "0     5.038194e+06\n",
       "1     4.715906e+06\n",
       "2     5.348459e+06\n",
       "3     5.120819e+06\n",
       "4     4.826950e+06\n",
       "5     5.268686e+06\n",
       "6     4.977356e+06\n",
       "7     5.069615e+06\n",
       "8     4.843941e+06\n",
       "9     4.778164e+06\n",
       "10    4.708864e+06\n",
       "11    4.930002e+06\n",
       "12    4.768677e+06\n",
       "13    5.062620e+06\n",
       "14    4.949131e+06\n",
       "15    4.869736e+06\n",
       "16    4.739609e+06\n",
       "17    4.515217e+06\n",
       "18    4.548366e+06\n",
       "19    4.593212e+06\n",
       "20    5.827839e+06\n",
       "21    4.921474e+06\n",
       "22    4.996741e+06\n",
       "23    4.126867e+06\n",
       "24    3.862235e+06\n",
       "25    4.048664e+06\n",
       "26    3.575000e+06\n",
       "27    1.842500e+06\n",
       "28    4.910500e+06\n",
       "29    3.833333e+06\n",
       "Name: last_price, dtype: float64"
      ]
     },
     "execution_count": 35,
     "metadata": {},
     "output_type": "execute_result"
    },
    {
     "data": {
      "image/png": "[encoded data removed]",
      "text/plain": [
       "<Figure size 432x288 with 1 Axes>"
      ]
     },
     "metadata": {
      "needs_background": "light"
     },
     "output_type": "display_data"
    }
   ],
   "source": [
    "spb_stat = data.query('locality_name == \"Санкт-Петербург\"')\n",
    "spb_stat.plot(x='city_centers_group', y='price_sq_m', kind='scatter', alpha=0.4) \n",
    "spb_stat.groupby('city_centers_group')['last_price'].mean()"
   ]
  },
  {
   "cell_type": "markdown",
   "metadata": {},
   "source": [
    "Выделим квартиры в Санкт-Петербурге и вычислим среднюю цену каждого километра. Оценим, как стоимость объектов зависит от расстояния до центра города. По нашим результатам можем отметить, что до чем ближе к центру, тем дороже стоит квадратный метр. В пределах 7 км от центра стоимость квадратного метра наиболее высокая и составляет в среднем 200 тыс рублей (разброс от 180 до 260 тыс за кв м). Ещё один пик наблюдается на расстоянии 13 км от центра и составляет 180 тыс за кв метр. С 13 км стоимость квадратного метра падает при удалении от центра."
   ]
  },
  {
   "cell_type": "markdown",
   "metadata": {},
   "source": [
    "### Общий вывод"
   ]
  },
  {
   "cell_type": "markdown",
   "metadata": {},
   "source": [
    "Было проведено исследование для установления взаимосвязи разных условий на полную стоимость квартиры.  \n",
    "Исходные данные: база объявлений со сроками продажи квартир за 4 года (с 2014 по 2018 года).  \n",
    "  \n",
    " Перед проведением исследования перед нами были поставлены вопросы, из которых мы вывели следующие гипотезы:\n",
    "\n",
    "* **Гипотеза 1:** общая плоащдь влияет на стоимость квартиры; \n",
    "* **Гипотеза 2:** жилая площадь влияет на стоимость квартиры;\n",
    "* **Гипотеза 3:** площадь кухни влияет на стоимость квартиры;\n",
    "* **Гипотеза 4:** количество комнат влияет на стоимость квартиры;\n",
    "* **Гипотеза 5:** этаж, на котором расположена квартира, влияет на стоимость квартиры;\n",
    "* **Гипотеза 6:** дата размещения влияет на стоимость квартиры;\n",
    "* **Гипотеза 7:** удаленность от центра города влияет на стоиомость квартиры в Санкт-Петербурге.\n",
    "    \n",
    "В результате удалось найти следующие зависимости.  \n",
    "\n",
    "**Гипотеза 1.** \n",
    "    Данная гипотеза подтверждается частично. \n",
    "Действительно общая площадь влияет на стоимость квартиры, однако на графике мы видим, что есть много предложений в которых с увеличением площади стоимость растет незначительно или не растет вовсе.\n",
    "        \n",
    "Рекомендация: зависимость есть, при этом есть и множество исключений, поэтому брать этот критерий за основополагающий для установления стоимости не стоит. Вероятно есть другие факторы, больше влияющие на стоимость квартиры, нежели общая площадь.\n",
    "\n",
    "**Гипотеза 2.**    \n",
    "     Данная гипотеза подтверждается частично. \n",
    "Действительно жилая площадь влияет на стоимость квартиры, однако на графике мы видим, что есть много предложений в которых с увеличением площади стоимость растет незначительно.  \n",
    "\n",
    "Рекомендация: зависимость есть, но есть и множество исключений, поэтому брать этот критерий за основополагающий для установления стоимости не стоит.\n",
    "\n",
    "**Гипотеза 3.**     \n",
    "    Данная гипотеза подтверждается частично. \n",
    "Действительно площадь кухни влияет на стоимость квартиры, однако на графике мы видим, что есть квартиры, в которых с увеличением площади кухни стоимость растет несильно.  \n",
    "\n",
    "Рекомендация: гипотеза подтверждается только частично, считаю брать данный критерий как основопологающий для установления стоимости невозможно.\n",
    "        \n",
    "**Гипотеза 4.**     \n",
    "    Данная гипотеза подтверждается частично. \n",
    "Действительно количество комнат влияет на стоимость квартиры и с увеличением комнат квартира растет в цене. Однако мы видим, что есть объекты, в которых с увеличением количества комнат, стоимость не растет. \n",
    "\n",
    "Рекомендация: гипотеза подтверждается частично, считаю можно брать данный критерий в качестве дополнительного.  \n",
    "  \n",
    "**Гипотеза 5.**     \n",
    "    Данная гипотеза не подтверждается. \n",
    "Стоимость квартиры не зависит от этажа, на котором расположена. Квартиры на первом этаже и на последнем стоят незначительно меньше. \n",
    "  \n",
    "Рекомендация: гипотеза не подтверждается, брать данный критерий для установления стоимости не рекомендую.\n",
    "  \n",
    "**Гипотеза 6.**     \n",
    "    Данная гипотеза подтверждается частично. \n",
    "Стоимость квартиры не зависит от дня недели и месяца, в котором было размещено объявление о её продаже. Год продажи немного влияет на стоимость квартиры, исключительно из-за инфляции.   \n",
    "  \n",
    "Рекомендация: можем сделать вывод, что данные критерии для установления стоимости не стоит.  \n",
    "\n",
    "**Гипотеза 7.**     \n",
    "    Данная гипотеза подтверждается. \n",
    "Действительно стоимость квартиры зависит от её расположения и удаленности от центра городамы видим, что с увеличением растояния от центра падает и стоимость квадратного метра.   \n",
    "  \n",
    "Рекомендация: гипотеза подтверждается, считаю данный критерий можно взять за основопологающий для установления стоимости квартиры. \n",
    "\n",
    "**Общие выводы:**\n",
    "Считаю можно расстояние до центра в качестве основополагающего критерия для установления стоимости квартиры. А также количетсво комнат, общую площадь, жилую площадь, площадь кухни брать в качестве дополнительных критериев."
   ]
  }
 ],
 "metadata": {
  "ExecuteTimeLog": [
   {
    "duration": 518,
    "start_time": "2022-12-26T20:57:08.672Z"
   },
   {
    "duration": 96,
    "start_time": "2022-12-26T20:58:22.773Z"
   },
   {
    "duration": 90,
    "start_time": "2022-12-26T20:58:48.197Z"
   },
   {
    "duration": 93,
    "start_time": "2022-12-26T20:59:03.137Z"
   },
   {
    "duration": 556,
    "start_time": "2022-12-26T21:18:12.849Z"
   },
   {
    "duration": 106,
    "start_time": "2022-12-26T21:18:36.360Z"
   },
   {
    "duration": 78,
    "start_time": "2022-12-26T21:18:40.947Z"
   },
   {
    "duration": 95,
    "start_time": "2022-12-26T21:18:51.962Z"
   },
   {
    "duration": 569,
    "start_time": "2022-12-27T06:38:58.708Z"
   },
   {
    "duration": 108,
    "start_time": "2022-12-27T06:39:47.906Z"
   },
   {
    "duration": 8,
    "start_time": "2022-12-27T06:42:28.534Z"
   },
   {
    "duration": 108,
    "start_time": "2022-12-27T06:53:23.769Z"
   },
   {
    "duration": 24,
    "start_time": "2022-12-27T07:10:56.277Z"
   },
   {
    "duration": 2474,
    "start_time": "2022-12-27T07:36:33.507Z"
   },
   {
    "duration": 33,
    "start_time": "2022-12-27T09:14:47.677Z"
   },
   {
    "duration": 32,
    "start_time": "2022-12-27T09:16:47.837Z"
   },
   {
    "duration": 79,
    "start_time": "2022-12-27T09:24:03.401Z"
   },
   {
    "duration": 45,
    "start_time": "2022-12-27T09:24:33.994Z"
   },
   {
    "duration": 74,
    "start_time": "2022-12-27T09:28:22.429Z"
   },
   {
    "duration": 2717,
    "start_time": "2022-12-27T10:41:10.280Z"
   },
   {
    "duration": 49,
    "start_time": "2022-12-27T10:41:12.999Z"
   },
   {
    "duration": 7,
    "start_time": "2022-12-27T10:41:13.050Z"
   },
   {
    "duration": 29,
    "start_time": "2022-12-27T10:41:36.882Z"
   },
   {
    "duration": 114,
    "start_time": "2022-12-27T10:43:29.218Z"
   },
   {
    "duration": 123,
    "start_time": "2022-12-27T10:43:47.899Z"
   },
   {
    "duration": 4,
    "start_time": "2022-12-27T11:27:44.773Z"
   },
   {
    "duration": 82,
    "start_time": "2022-12-27T11:29:08.667Z"
   },
   {
    "duration": 92,
    "start_time": "2022-12-27T11:29:24.101Z"
   },
   {
    "duration": 84,
    "start_time": "2022-12-27T11:29:46.234Z"
   },
   {
    "duration": 81,
    "start_time": "2022-12-27T11:29:54.502Z"
   },
   {
    "duration": 89,
    "start_time": "2022-12-27T11:30:32.538Z"
   },
   {
    "duration": 79,
    "start_time": "2022-12-27T11:30:45.234Z"
   },
   {
    "duration": 487,
    "start_time": "2022-12-27T11:30:50.607Z"
   },
   {
    "duration": 77,
    "start_time": "2022-12-27T11:30:51.096Z"
   },
   {
    "duration": 0,
    "start_time": "2022-12-27T11:30:51.174Z"
   },
   {
    "duration": 79,
    "start_time": "2022-12-27T11:30:55.818Z"
   },
   {
    "duration": 76,
    "start_time": "2022-12-27T11:32:55.462Z"
   },
   {
    "duration": 62,
    "start_time": "2022-12-27T11:39:58.632Z"
   },
   {
    "duration": 63,
    "start_time": "2022-12-27T14:57:28.548Z"
   },
   {
    "duration": 26,
    "start_time": "2022-12-27T14:58:26.303Z"
   },
   {
    "duration": 41,
    "start_time": "2022-12-27T16:02:09.974Z"
   },
   {
    "duration": 995,
    "start_time": "2022-12-27T18:02:29.103Z"
   },
   {
    "duration": 112,
    "start_time": "2022-12-27T18:14:03.703Z"
   },
   {
    "duration": 62,
    "start_time": "2022-12-27T18:14:33.124Z"
   },
   {
    "duration": 546,
    "start_time": "2022-12-27T18:17:53.177Z"
   },
   {
    "duration": 79,
    "start_time": "2022-12-27T18:17:53.725Z"
   },
   {
    "duration": 34,
    "start_time": "2022-12-27T18:17:53.806Z"
   },
   {
    "duration": 90,
    "start_time": "2022-12-27T18:21:32.564Z"
   },
   {
    "duration": 13,
    "start_time": "2022-12-27T18:21:53.228Z"
   },
   {
    "duration": 3181,
    "start_time": "2022-12-27T18:22:09.217Z"
   },
   {
    "duration": 71,
    "start_time": "2022-12-27T18:22:12.402Z"
   },
   {
    "duration": 96,
    "start_time": "2022-12-27T18:22:12.475Z"
   },
   {
    "duration": 3049,
    "start_time": "2022-12-27T18:22:56.415Z"
   },
   {
    "duration": 66,
    "start_time": "2022-12-27T18:22:59.466Z"
   },
   {
    "duration": 91,
    "start_time": "2022-12-27T18:22:59.534Z"
   },
   {
    "duration": 14,
    "start_time": "2022-12-27T18:23:14.905Z"
   },
   {
    "duration": 21,
    "start_time": "2022-12-27T18:24:14.393Z"
   },
   {
    "duration": 3117,
    "start_time": "2022-12-27T18:24:30.908Z"
   },
   {
    "duration": 70,
    "start_time": "2022-12-27T18:24:34.027Z"
   },
   {
    "duration": 87,
    "start_time": "2022-12-27T18:24:34.098Z"
   },
   {
    "duration": 2925,
    "start_time": "2022-12-27T18:37:43.543Z"
   },
   {
    "duration": 59,
    "start_time": "2022-12-27T18:37:46.470Z"
   },
   {
    "duration": 86,
    "start_time": "2022-12-27T18:37:46.531Z"
   },
   {
    "duration": 105,
    "start_time": "2022-12-27T18:41:17.590Z"
   },
   {
    "duration": 2867,
    "start_time": "2022-12-27T18:42:01.550Z"
   },
   {
    "duration": 74,
    "start_time": "2022-12-27T18:42:04.419Z"
   },
   {
    "duration": 79,
    "start_time": "2022-12-27T18:42:04.495Z"
   },
   {
    "duration": 237,
    "start_time": "2022-12-27T18:43:46.393Z"
   },
   {
    "duration": 66,
    "start_time": "2022-12-27T18:44:21.996Z"
   },
   {
    "duration": 60,
    "start_time": "2022-12-27T18:44:52.858Z"
   },
   {
    "duration": 11,
    "start_time": "2022-12-27T18:45:27.888Z"
   },
   {
    "duration": 281,
    "start_time": "2022-12-27T18:45:45.292Z"
   },
   {
    "duration": 3216,
    "start_time": "2022-12-27T18:45:52.460Z"
   },
   {
    "duration": 64,
    "start_time": "2022-12-27T18:45:55.683Z"
   },
   {
    "duration": 388,
    "start_time": "2022-12-27T18:45:55.749Z"
   },
   {
    "duration": 275,
    "start_time": "2022-12-27T18:45:56.859Z"
   },
   {
    "duration": 237,
    "start_time": "2022-12-27T18:46:38.111Z"
   },
   {
    "duration": 2959,
    "start_time": "2022-12-27T18:46:43.661Z"
   },
   {
    "duration": 52,
    "start_time": "2022-12-27T18:46:46.622Z"
   },
   {
    "duration": 377,
    "start_time": "2022-12-27T18:46:46.676Z"
   },
   {
    "duration": 259,
    "start_time": "2022-12-27T18:49:28.604Z"
   },
   {
    "duration": 49,
    "start_time": "2022-12-28T06:42:38.779Z"
   },
   {
    "duration": 8,
    "start_time": "2022-12-28T06:43:01.429Z"
   },
   {
    "duration": 8,
    "start_time": "2022-12-28T06:43:15.995Z"
   },
   {
    "duration": 2910,
    "start_time": "2022-12-28T06:43:25.378Z"
   },
   {
    "duration": 59,
    "start_time": "2022-12-28T06:43:32.863Z"
   },
   {
    "duration": 67,
    "start_time": "2022-12-28T06:46:27.160Z"
   },
   {
    "duration": 89,
    "start_time": "2022-12-28T06:46:51.894Z"
   },
   {
    "duration": 5,
    "start_time": "2022-12-28T06:46:58.227Z"
   },
   {
    "duration": 47,
    "start_time": "2022-12-28T06:47:09.209Z"
   },
   {
    "duration": 53,
    "start_time": "2022-12-28T06:53:50.207Z"
   },
   {
    "duration": 0,
    "start_time": "2022-12-28T06:54:59.992Z"
   },
   {
    "duration": 0,
    "start_time": "2022-12-28T06:54:59.993Z"
   },
   {
    "duration": 0,
    "start_time": "2022-12-28T06:54:59.994Z"
   },
   {
    "duration": 1984,
    "start_time": "2022-12-28T06:55:02.357Z"
   },
   {
    "duration": 54,
    "start_time": "2022-12-28T06:55:10.822Z"
   },
   {
    "duration": 20,
    "start_time": "2022-12-28T06:56:26.527Z"
   },
   {
    "duration": 179,
    "start_time": "2022-12-28T06:56:32.123Z"
   },
   {
    "duration": 11,
    "start_time": "2022-12-28T06:57:47.167Z"
   },
   {
    "duration": 9,
    "start_time": "2022-12-28T06:58:43.758Z"
   },
   {
    "duration": 182,
    "start_time": "2022-12-28T06:58:50.624Z"
   },
   {
    "duration": 205,
    "start_time": "2022-12-28T06:59:26.040Z"
   },
   {
    "duration": 2535,
    "start_time": "2022-12-28T07:02:34.057Z"
   },
   {
    "duration": 27,
    "start_time": "2022-12-28T07:02:36.629Z"
   },
   {
    "duration": 67,
    "start_time": "2022-12-28T07:07:00.201Z"
   },
   {
    "duration": 218,
    "start_time": "2022-12-28T07:07:24.123Z"
   },
   {
    "duration": 46,
    "start_time": "2022-12-28T07:09:05.191Z"
   },
   {
    "duration": 6,
    "start_time": "2022-12-28T07:10:42.278Z"
   },
   {
    "duration": 702,
    "start_time": "2022-12-28T07:11:53.854Z"
   },
   {
    "duration": 12,
    "start_time": "2022-12-28T07:12:11.296Z"
   },
   {
    "duration": 12,
    "start_time": "2022-12-28T07:12:17.673Z"
   },
   {
    "duration": 2501,
    "start_time": "2022-12-28T07:12:26.747Z"
   },
   {
    "duration": 12,
    "start_time": "2022-12-28T07:12:29.250Z"
   },
   {
    "duration": 36,
    "start_time": "2022-12-28T07:12:29.263Z"
   },
   {
    "duration": 11,
    "start_time": "2022-12-28T07:12:29.300Z"
   },
   {
    "duration": 1941,
    "start_time": "2022-12-28T07:12:55.637Z"
   },
   {
    "duration": 12,
    "start_time": "2022-12-28T07:12:57.580Z"
   },
   {
    "duration": 48,
    "start_time": "2022-12-28T07:12:57.593Z"
   },
   {
    "duration": 11,
    "start_time": "2022-12-28T07:12:57.643Z"
   },
   {
    "duration": 17,
    "start_time": "2022-12-28T07:13:13.220Z"
   },
   {
    "duration": 54,
    "start_time": "2022-12-28T07:17:34.688Z"
   },
   {
    "duration": 43,
    "start_time": "2022-12-28T07:20:11.000Z"
   },
   {
    "duration": 41,
    "start_time": "2022-12-28T07:25:26.933Z"
   },
   {
    "duration": 48,
    "start_time": "2022-12-28T07:28:04.388Z"
   },
   {
    "duration": 2530,
    "start_time": "2022-12-28T07:29:09.478Z"
   },
   {
    "duration": 12,
    "start_time": "2022-12-28T07:29:12.010Z"
   },
   {
    "duration": 37,
    "start_time": "2022-12-28T07:29:12.026Z"
   },
   {
    "duration": 65,
    "start_time": "2022-12-28T07:29:12.065Z"
   },
   {
    "duration": 1968,
    "start_time": "2022-12-28T07:31:00.968Z"
   },
   {
    "duration": 1956,
    "start_time": "2022-12-28T07:31:31.349Z"
   },
   {
    "duration": 48,
    "start_time": "2022-12-28T07:33:33.515Z"
   },
   {
    "duration": 46,
    "start_time": "2022-12-28T07:34:08.750Z"
   },
   {
    "duration": 50,
    "start_time": "2022-12-28T07:35:27.948Z"
   },
   {
    "duration": 110,
    "start_time": "2022-12-28T07:37:48.199Z"
   },
   {
    "duration": 61,
    "start_time": "2022-12-28T07:37:57.764Z"
   },
   {
    "duration": 4,
    "start_time": "2022-12-28T07:40:37.115Z"
   },
   {
    "duration": 59,
    "start_time": "2022-12-28T07:40:58.827Z"
   },
   {
    "duration": 59,
    "start_time": "2022-12-28T07:41:29.163Z"
   },
   {
    "duration": 51,
    "start_time": "2022-12-28T07:42:25.979Z"
   },
   {
    "duration": 49,
    "start_time": "2022-12-28T07:42:35.979Z"
   },
   {
    "duration": 50,
    "start_time": "2022-12-28T07:42:58.262Z"
   },
   {
    "duration": 226,
    "start_time": "2022-12-28T07:46:35.358Z"
   },
   {
    "duration": 47,
    "start_time": "2022-12-28T12:01:32.808Z"
   },
   {
    "duration": 42,
    "start_time": "2022-12-28T12:01:52.955Z"
   },
   {
    "duration": 12,
    "start_time": "2022-12-28T13:05:31.143Z"
   },
   {
    "duration": 12,
    "start_time": "2022-12-28T13:56:52.131Z"
   },
   {
    "duration": 13,
    "start_time": "2022-12-28T13:57:15.392Z"
   },
   {
    "duration": 12,
    "start_time": "2022-12-28T14:03:08.064Z"
   },
   {
    "duration": 11,
    "start_time": "2022-12-28T14:40:27.713Z"
   },
   {
    "duration": 2527,
    "start_time": "2022-12-28T14:40:38.413Z"
   },
   {
    "duration": 14,
    "start_time": "2022-12-28T14:40:40.942Z"
   },
   {
    "duration": 37,
    "start_time": "2022-12-28T14:40:40.957Z"
   },
   {
    "duration": 48,
    "start_time": "2022-12-28T14:40:40.996Z"
   },
   {
    "duration": 15,
    "start_time": "2022-12-28T14:40:41.045Z"
   },
   {
    "duration": 27,
    "start_time": "2022-12-28T14:41:28.317Z"
   },
   {
    "duration": 767,
    "start_time": "2022-12-28T15:34:41.912Z"
   },
   {
    "duration": 179,
    "start_time": "2022-12-28T15:34:57.929Z"
   },
   {
    "duration": 36,
    "start_time": "2022-12-28T15:41:46.511Z"
   },
   {
    "duration": 31,
    "start_time": "2022-12-28T15:43:00.893Z"
   },
   {
    "duration": 31,
    "start_time": "2022-12-28T15:43:31.579Z"
   },
   {
    "duration": 40,
    "start_time": "2022-12-28T15:44:01.375Z"
   },
   {
    "duration": 247,
    "start_time": "2022-12-28T15:46:00.326Z"
   },
   {
    "duration": 40,
    "start_time": "2022-12-28T15:47:50.915Z"
   },
   {
    "duration": 48,
    "start_time": "2022-12-28T17:13:49.100Z"
   },
   {
    "duration": 39,
    "start_time": "2022-12-28T17:14:20.842Z"
   },
   {
    "duration": 5,
    "start_time": "2022-12-28T17:27:27.424Z"
   },
   {
    "duration": 50,
    "start_time": "2022-12-28T17:28:46.094Z"
   },
   {
    "duration": 22,
    "start_time": "2022-12-28T17:29:12.086Z"
   },
   {
    "duration": 34,
    "start_time": "2022-12-28T17:29:37.595Z"
   },
   {
    "duration": 20,
    "start_time": "2022-12-28T17:29:57.797Z"
   },
   {
    "duration": 34,
    "start_time": "2022-12-28T17:30:11.689Z"
   },
   {
    "duration": 42,
    "start_time": "2022-12-28T17:33:32.209Z"
   },
   {
    "duration": 2520,
    "start_time": "2022-12-28T18:41:10.160Z"
   },
   {
    "duration": 5,
    "start_time": "2022-12-28T18:41:12.682Z"
   },
   {
    "duration": 52,
    "start_time": "2022-12-28T18:41:12.689Z"
   },
   {
    "duration": 43,
    "start_time": "2022-12-28T18:41:12.743Z"
   },
   {
    "duration": 10,
    "start_time": "2022-12-28T18:41:12.788Z"
   },
   {
    "duration": 766,
    "start_time": "2022-12-28T18:41:57.077Z"
   },
   {
    "duration": 706,
    "start_time": "2022-12-28T18:42:34.322Z"
   },
   {
    "duration": 692,
    "start_time": "2022-12-28T18:42:56.231Z"
   },
   {
    "duration": 694,
    "start_time": "2022-12-28T18:45:35.334Z"
   },
   {
    "duration": 831,
    "start_time": "2022-12-28T18:46:15.214Z"
   },
   {
    "duration": 36,
    "start_time": "2022-12-28T18:56:22.171Z"
   },
   {
    "duration": 34,
    "start_time": "2022-12-28T19:01:58.071Z"
   },
   {
    "duration": 2649,
    "start_time": "2022-12-28T19:02:40.415Z"
   },
   {
    "duration": 5,
    "start_time": "2022-12-28T19:02:43.066Z"
   },
   {
    "duration": 42,
    "start_time": "2022-12-28T19:02:43.073Z"
   },
   {
    "duration": 42,
    "start_time": "2022-12-28T19:02:43.117Z"
   },
   {
    "duration": 37,
    "start_time": "2022-12-28T19:02:43.161Z"
   },
   {
    "duration": 2024,
    "start_time": "2022-12-28T19:02:51.078Z"
   },
   {
    "duration": 19,
    "start_time": "2022-12-28T19:02:59.411Z"
   },
   {
    "duration": 45,
    "start_time": "2022-12-28T19:03:04.132Z"
   },
   {
    "duration": 50,
    "start_time": "2022-12-28T19:03:15.164Z"
   },
   {
    "duration": 2461,
    "start_time": "2022-12-28T19:14:20.959Z"
   },
   {
    "duration": 12,
    "start_time": "2022-12-28T19:14:23.422Z"
   },
   {
    "duration": 37,
    "start_time": "2022-12-28T19:14:23.435Z"
   },
   {
    "duration": 72,
    "start_time": "2022-12-28T19:14:23.474Z"
   },
   {
    "duration": 31,
    "start_time": "2022-12-28T19:14:23.548Z"
   },
   {
    "duration": 33,
    "start_time": "2022-12-28T19:15:31.295Z"
   },
   {
    "duration": 1859,
    "start_time": "2022-12-28T19:15:53.301Z"
   },
   {
    "duration": 2632,
    "start_time": "2022-12-28T19:18:08.201Z"
   },
   {
    "duration": 11,
    "start_time": "2022-12-28T19:18:10.835Z"
   },
   {
    "duration": 37,
    "start_time": "2022-12-28T19:18:10.848Z"
   },
   {
    "duration": 64,
    "start_time": "2022-12-28T19:18:10.886Z"
   },
   {
    "duration": 909,
    "start_time": "2022-12-28T19:18:10.952Z"
   },
   {
    "duration": 31,
    "start_time": "2022-12-28T19:20:10.179Z"
   },
   {
    "duration": 29,
    "start_time": "2022-12-28T19:21:37.581Z"
   },
   {
    "duration": 34,
    "start_time": "2022-12-28T19:25:07.608Z"
   },
   {
    "duration": 24,
    "start_time": "2022-12-28T19:25:44.305Z"
   },
   {
    "duration": 33,
    "start_time": "2022-12-28T19:26:03.379Z"
   },
   {
    "duration": 28,
    "start_time": "2022-12-28T19:27:03.375Z"
   },
   {
    "duration": 2716,
    "start_time": "2022-12-28T19:27:16.660Z"
   },
   {
    "duration": 12,
    "start_time": "2022-12-28T19:27:19.378Z"
   },
   {
    "duration": 40,
    "start_time": "2022-12-28T19:27:19.391Z"
   },
   {
    "duration": 51,
    "start_time": "2022-12-28T19:27:19.439Z"
   },
   {
    "duration": 33,
    "start_time": "2022-12-28T19:27:19.491Z"
   },
   {
    "duration": 863,
    "start_time": "2022-12-28T19:28:11.631Z"
   },
   {
    "duration": 30,
    "start_time": "2022-12-28T19:30:42.448Z"
   },
   {
    "duration": 54,
    "start_time": "2022-12-29T06:40:17.779Z"
   },
   {
    "duration": 3150,
    "start_time": "2022-12-29T06:42:10.535Z"
   },
   {
    "duration": 13,
    "start_time": "2022-12-29T06:42:13.688Z"
   },
   {
    "duration": 43,
    "start_time": "2022-12-29T06:42:13.703Z"
   },
   {
    "duration": 87,
    "start_time": "2022-12-29T06:42:13.748Z"
   },
   {
    "duration": 113,
    "start_time": "2022-12-29T06:42:13.837Z"
   },
   {
    "duration": 2125,
    "start_time": "2022-12-29T06:42:21.976Z"
   },
   {
    "duration": 15,
    "start_time": "2022-12-29T06:42:29.892Z"
   },
   {
    "duration": 38,
    "start_time": "2022-12-29T06:42:33.946Z"
   },
   {
    "duration": 77,
    "start_time": "2022-12-29T06:42:38.195Z"
   },
   {
    "duration": 59,
    "start_time": "2022-12-29T06:43:28.081Z"
   },
   {
    "duration": 33,
    "start_time": "2022-12-29T06:43:44.912Z"
   },
   {
    "duration": 42,
    "start_time": "2022-12-29T06:46:43.169Z"
   },
   {
    "duration": 3122,
    "start_time": "2022-12-29T06:50:41.139Z"
   },
   {
    "duration": 13,
    "start_time": "2022-12-29T06:50:44.263Z"
   },
   {
    "duration": 41,
    "start_time": "2022-12-29T06:50:44.277Z"
   },
   {
    "duration": 81,
    "start_time": "2022-12-29T06:50:44.319Z"
   },
   {
    "duration": 53,
    "start_time": "2022-12-29T06:50:44.402Z"
   },
   {
    "duration": 49,
    "start_time": "2022-12-29T06:51:01.988Z"
   },
   {
    "duration": 2489,
    "start_time": "2022-12-29T07:19:30.307Z"
   },
   {
    "duration": 46,
    "start_time": "2022-12-29T10:52:06.213Z"
   },
   {
    "duration": 2727,
    "start_time": "2022-12-29T10:52:22.380Z"
   },
   {
    "duration": 2532,
    "start_time": "2022-12-29T10:54:54.963Z"
   },
   {
    "duration": 12,
    "start_time": "2022-12-29T10:55:14.103Z"
   },
   {
    "duration": 36,
    "start_time": "2022-12-29T10:55:19.499Z"
   },
   {
    "duration": 63,
    "start_time": "2022-12-29T10:55:30.712Z"
   },
   {
    "duration": 87,
    "start_time": "2022-12-29T10:55:40.152Z"
   },
   {
    "duration": 23,
    "start_time": "2022-12-29T10:56:15.136Z"
   },
   {
    "duration": 2373,
    "start_time": "2022-12-29T10:57:00.055Z"
   },
   {
    "duration": 8,
    "start_time": "2022-12-29T10:57:13.243Z"
   },
   {
    "duration": 8,
    "start_time": "2022-12-29T10:57:56.573Z"
   },
   {
    "duration": 8,
    "start_time": "2022-12-29T11:02:40.134Z"
   },
   {
    "duration": 7,
    "start_time": "2022-12-29T11:02:56.485Z"
   },
   {
    "duration": 2569,
    "start_time": "2022-12-29T11:03:20.082Z"
   },
   {
    "duration": 16,
    "start_time": "2022-12-29T11:03:37.837Z"
   },
   {
    "duration": 47,
    "start_time": "2022-12-29T11:03:41.633Z"
   },
   {
    "duration": 59,
    "start_time": "2022-12-29T11:03:48.051Z"
   },
   {
    "duration": 88,
    "start_time": "2022-12-29T11:03:55.935Z"
   },
   {
    "duration": 2374,
    "start_time": "2022-12-29T11:05:36.315Z"
   },
   {
    "duration": 10,
    "start_time": "2022-12-29T11:05:45.115Z"
   },
   {
    "duration": 228,
    "start_time": "2022-12-29T11:07:49.984Z"
   },
   {
    "duration": 242,
    "start_time": "2022-12-29T11:20:37.774Z"
   },
   {
    "duration": 2541,
    "start_time": "2022-12-29T11:49:37.734Z"
   },
   {
    "duration": 12,
    "start_time": "2022-12-29T11:49:47.766Z"
   },
   {
    "duration": 39,
    "start_time": "2022-12-29T11:49:51.696Z"
   },
   {
    "duration": 56,
    "start_time": "2022-12-29T11:49:55.615Z"
   },
   {
    "duration": 82,
    "start_time": "2022-12-29T11:50:00.348Z"
   },
   {
    "duration": 2345,
    "start_time": "2022-12-29T11:50:04.412Z"
   },
   {
    "duration": 239,
    "start_time": "2022-12-29T11:56:32.213Z"
   },
   {
    "duration": 265,
    "start_time": "2022-12-29T11:58:08.647Z"
   },
   {
    "duration": 3840,
    "start_time": "2022-12-29T12:46:31.036Z"
   },
   {
    "duration": 15,
    "start_time": "2022-12-29T12:46:38.632Z"
   },
   {
    "duration": 49,
    "start_time": "2022-12-29T12:46:42.778Z"
   },
   {
    "duration": 86,
    "start_time": "2022-12-29T12:46:46.910Z"
   },
   {
    "duration": 128,
    "start_time": "2022-12-29T12:46:53.245Z"
   },
   {
    "duration": 48,
    "start_time": "2022-12-29T12:47:05.246Z"
   },
   {
    "duration": 80,
    "start_time": "2022-12-29T12:53:02.212Z"
   },
   {
    "duration": 1176,
    "start_time": "2022-12-29T12:55:25.376Z"
   },
   {
    "duration": 23,
    "start_time": "2022-12-29T12:55:35.345Z"
   },
   {
    "duration": 44,
    "start_time": "2022-12-29T12:56:50.575Z"
   },
   {
    "duration": 40,
    "start_time": "2022-12-29T12:57:23.528Z"
   },
   {
    "duration": 3034,
    "start_time": "2022-12-29T12:57:58.855Z"
   },
   {
    "duration": 14,
    "start_time": "2022-12-29T12:58:11.207Z"
   },
   {
    "duration": 46,
    "start_time": "2022-12-29T12:58:16.124Z"
   },
   {
    "duration": 82,
    "start_time": "2022-12-29T12:58:19.577Z"
   },
   {
    "duration": 34,
    "start_time": "2022-12-29T12:58:25.858Z"
   },
   {
    "duration": 45,
    "start_time": "2022-12-29T13:00:07.576Z"
   },
   {
    "duration": 91,
    "start_time": "2022-12-29T13:01:02.191Z"
   },
   {
    "duration": 24,
    "start_time": "2022-12-29T13:02:13.790Z"
   },
   {
    "duration": 24,
    "start_time": "2022-12-29T13:02:16.956Z"
   },
   {
    "duration": 2953,
    "start_time": "2022-12-29T13:03:22.120Z"
   },
   {
    "duration": 15,
    "start_time": "2022-12-29T13:03:30.534Z"
   },
   {
    "duration": 101,
    "start_time": "2022-12-29T13:03:38.282Z"
   },
   {
    "duration": 25,
    "start_time": "2022-12-29T13:04:18.886Z"
   },
   {
    "duration": 44,
    "start_time": "2022-12-29T13:04:56.510Z"
   },
   {
    "duration": 89,
    "start_time": "2022-12-29T13:05:05.973Z"
   },
   {
    "duration": 47,
    "start_time": "2022-12-29T13:05:11.025Z"
   },
   {
    "duration": 47,
    "start_time": "2022-12-29T13:05:22.442Z"
   },
   {
    "duration": 3144,
    "start_time": "2022-12-29T13:07:19.897Z"
   },
   {
    "duration": 15,
    "start_time": "2022-12-29T13:07:23.043Z"
   },
   {
    "duration": 95,
    "start_time": "2022-12-29T13:07:23.060Z"
   },
   {
    "duration": 66,
    "start_time": "2022-12-29T13:07:23.156Z"
   },
   {
    "duration": 49,
    "start_time": "2022-12-29T13:07:23.224Z"
   },
   {
    "duration": 2889,
    "start_time": "2022-12-29T13:07:23.275Z"
   },
   {
    "duration": 293,
    "start_time": "2022-12-29T13:07:26.166Z"
   },
   {
    "duration": 2524,
    "start_time": "2022-12-29T13:23:43.298Z"
   },
   {
    "duration": 15,
    "start_time": "2022-12-29T13:23:49.081Z"
   },
   {
    "duration": 46,
    "start_time": "2022-12-29T13:24:00.367Z"
   },
   {
    "duration": 58,
    "start_time": "2022-12-29T13:24:27.104Z"
   },
   {
    "duration": 72,
    "start_time": "2022-12-29T13:25:22.178Z"
   },
   {
    "duration": 3471,
    "start_time": "2022-12-29T13:26:13.738Z"
   },
   {
    "duration": 19,
    "start_time": "2022-12-29T13:26:43.322Z"
   },
   {
    "duration": 73,
    "start_time": "2022-12-29T13:26:47.001Z"
   },
   {
    "duration": 17,
    "start_time": "2022-12-29T13:27:41.351Z"
   },
   {
    "duration": 75,
    "start_time": "2022-12-29T13:32:02.514Z"
   },
   {
    "duration": 66,
    "start_time": "2022-12-29T13:32:33.562Z"
   },
   {
    "duration": 76,
    "start_time": "2022-12-29T13:34:52.764Z"
   },
   {
    "duration": 59,
    "start_time": "2022-12-29T13:41:37.266Z"
   },
   {
    "duration": 62,
    "start_time": "2022-12-29T13:44:27.694Z"
   },
   {
    "duration": 158,
    "start_time": "2022-12-29T13:50:45.841Z"
   },
   {
    "duration": 30,
    "start_time": "2022-12-29T13:50:54.357Z"
   },
   {
    "duration": 24,
    "start_time": "2022-12-29T13:51:21.757Z"
   },
   {
    "duration": 39,
    "start_time": "2022-12-29T13:51:47.725Z"
   },
   {
    "duration": 39,
    "start_time": "2022-12-29T13:52:38.916Z"
   },
   {
    "duration": 2930,
    "start_time": "2023-01-06T09:29:39.834Z"
   },
   {
    "duration": 14,
    "start_time": "2023-01-06T09:29:42.767Z"
   },
   {
    "duration": 36,
    "start_time": "2023-01-06T09:29:42.783Z"
   },
   {
    "duration": 77,
    "start_time": "2023-01-06T09:29:42.821Z"
   },
   {
    "duration": 37,
    "start_time": "2023-01-06T09:29:42.900Z"
   },
   {
    "duration": 2760,
    "start_time": "2023-01-06T09:29:42.939Z"
   },
   {
    "duration": 294,
    "start_time": "2023-01-06T09:29:45.701Z"
   },
   {
    "duration": 30,
    "start_time": "2023-01-06T10:13:23.602Z"
   },
   {
    "duration": 92,
    "start_time": "2023-01-06T10:23:41.535Z"
   },
   {
    "duration": 74,
    "start_time": "2023-01-06T10:24:19.172Z"
   },
   {
    "duration": 25,
    "start_time": "2023-01-06T10:25:20.184Z"
   },
   {
    "duration": 25,
    "start_time": "2023-01-06T10:48:18.979Z"
   },
   {
    "duration": 24,
    "start_time": "2023-01-06T10:49:05.132Z"
   },
   {
    "duration": 25,
    "start_time": "2023-01-06T10:49:23.661Z"
   },
   {
    "duration": 20,
    "start_time": "2023-01-06T10:49:47.814Z"
   },
   {
    "duration": 2788,
    "start_time": "2023-01-06T10:51:14.652Z"
   },
   {
    "duration": 20,
    "start_time": "2023-01-06T10:51:17.442Z"
   },
   {
    "duration": 31,
    "start_time": "2023-01-06T10:51:17.463Z"
   },
   {
    "duration": 55,
    "start_time": "2023-01-06T10:51:17.496Z"
   },
   {
    "duration": 98,
    "start_time": "2023-01-06T10:51:17.553Z"
   },
   {
    "duration": 0,
    "start_time": "2023-01-06T10:51:17.652Z"
   },
   {
    "duration": 0,
    "start_time": "2023-01-06T10:51:17.654Z"
   },
   {
    "duration": 46,
    "start_time": "2023-01-06T10:52:15.183Z"
   },
   {
    "duration": 35,
    "start_time": "2023-01-06T10:52:49.698Z"
   },
   {
    "duration": 2668,
    "start_time": "2023-01-06T10:53:41.848Z"
   },
   {
    "duration": 21,
    "start_time": "2023-01-06T10:53:44.518Z"
   },
   {
    "duration": 31,
    "start_time": "2023-01-06T10:53:44.540Z"
   },
   {
    "duration": 54,
    "start_time": "2023-01-06T10:53:44.573Z"
   },
   {
    "duration": 93,
    "start_time": "2023-01-06T10:53:44.628Z"
   },
   {
    "duration": 0,
    "start_time": "2023-01-06T10:53:44.722Z"
   },
   {
    "duration": 0,
    "start_time": "2023-01-06T10:53:44.723Z"
   },
   {
    "duration": 24,
    "start_time": "2023-01-06T13:06:43.293Z"
   },
   {
    "duration": 45,
    "start_time": "2023-01-06T13:19:04.295Z"
   },
   {
    "duration": 65,
    "start_time": "2023-01-06T13:20:33.040Z"
   },
   {
    "duration": 28,
    "start_time": "2023-01-06T13:22:06.739Z"
   },
   {
    "duration": 2688,
    "start_time": "2023-01-06T13:22:36.504Z"
   },
   {
    "duration": 24,
    "start_time": "2023-01-06T13:22:42.969Z"
   },
   {
    "duration": 58,
    "start_time": "2023-01-06T13:22:52.667Z"
   },
   {
    "duration": 66,
    "start_time": "2023-01-06T13:23:15.658Z"
   },
   {
    "duration": 116,
    "start_time": "2023-01-06T13:23:31.089Z"
   },
   {
    "duration": 39,
    "start_time": "2023-01-06T13:25:12.671Z"
   },
   {
    "duration": 31,
    "start_time": "2023-01-06T13:26:55.887Z"
   },
   {
    "duration": 2647,
    "start_time": "2023-01-06T13:27:34.653Z"
   },
   {
    "duration": 46,
    "start_time": "2023-01-06T13:27:40.188Z"
   },
   {
    "duration": 64,
    "start_time": "2023-01-06T13:27:44.956Z"
   },
   {
    "duration": 63,
    "start_time": "2023-01-06T13:27:49.317Z"
   },
   {
    "duration": 49,
    "start_time": "2023-01-06T13:28:30.670Z"
   },
   {
    "duration": 74,
    "start_time": "2023-01-06T13:29:31.405Z"
   },
   {
    "duration": 41,
    "start_time": "2023-01-06T13:34:29.770Z"
   },
   {
    "duration": 1173,
    "start_time": "2023-01-06T13:34:55.288Z"
   },
   {
    "duration": 19,
    "start_time": "2023-01-06T13:35:09.626Z"
   },
   {
    "duration": 21,
    "start_time": "2023-01-06T13:50:25.459Z"
   },
   {
    "duration": 45,
    "start_time": "2023-01-06T13:50:44.319Z"
   },
   {
    "duration": 48,
    "start_time": "2023-01-06T13:57:49.674Z"
   },
   {
    "duration": 1605,
    "start_time": "2023-01-06T13:58:32.143Z"
   },
   {
    "duration": 2716,
    "start_time": "2023-01-06T14:03:32.276Z"
   },
   {
    "duration": 26,
    "start_time": "2023-01-06T14:03:39.661Z"
   },
   {
    "duration": 42,
    "start_time": "2023-01-06T14:03:44.977Z"
   },
   {
    "duration": 53,
    "start_time": "2023-01-06T14:03:51.125Z"
   },
   {
    "duration": 1660,
    "start_time": "2023-01-06T14:05:41.510Z"
   },
   {
    "duration": 74,
    "start_time": "2023-01-06T14:13:10.898Z"
   },
   {
    "duration": 45,
    "start_time": "2023-01-06T14:13:17.757Z"
   },
   {
    "duration": 79,
    "start_time": "2023-01-06T14:17:45.806Z"
   },
   {
    "duration": 2625,
    "start_time": "2023-01-06T14:19:29.127Z"
   },
   {
    "duration": 24,
    "start_time": "2023-01-06T14:19:38.473Z"
   },
   {
    "duration": 45,
    "start_time": "2023-01-06T14:19:41.904Z"
   },
   {
    "duration": 56,
    "start_time": "2023-01-06T14:19:46.391Z"
   },
   {
    "duration": 51,
    "start_time": "2023-01-06T14:19:51.321Z"
   },
   {
    "duration": 84,
    "start_time": "2023-01-06T14:20:28.138Z"
   },
   {
    "duration": 27,
    "start_time": "2023-01-06T14:20:45.192Z"
   },
   {
    "duration": 21,
    "start_time": "2023-01-06T14:21:07.589Z"
   },
   {
    "duration": 29,
    "start_time": "2023-01-06T14:21:16.144Z"
   },
   {
    "duration": 20,
    "start_time": "2023-01-06T14:25:24.273Z"
   },
   {
    "duration": 2744,
    "start_time": "2023-01-06T14:25:38.136Z"
   },
   {
    "duration": 26,
    "start_time": "2023-01-06T14:25:40.883Z"
   },
   {
    "duration": 47,
    "start_time": "2023-01-06T14:25:40.911Z"
   },
   {
    "duration": 68,
    "start_time": "2023-01-06T14:25:40.980Z"
   },
   {
    "duration": 74,
    "start_time": "2023-01-06T14:25:41.050Z"
   },
   {
    "duration": 2752,
    "start_time": "2023-01-06T14:25:41.126Z"
   },
   {
    "duration": 351,
    "start_time": "2023-01-06T14:25:43.880Z"
   },
   {
    "duration": 81,
    "start_time": "2023-01-06T14:26:04.206Z"
   },
   {
    "duration": 19,
    "start_time": "2023-01-06T14:26:46.777Z"
   },
   {
    "duration": 2796,
    "start_time": "2023-01-06T14:27:10.888Z"
   },
   {
    "duration": 22,
    "start_time": "2023-01-06T14:27:17.886Z"
   },
   {
    "duration": 38,
    "start_time": "2023-01-06T14:27:22.055Z"
   },
   {
    "duration": 58,
    "start_time": "2023-01-06T14:27:27.421Z"
   },
   {
    "duration": 53,
    "start_time": "2023-01-06T14:27:33.823Z"
   },
   {
    "duration": 2542,
    "start_time": "2023-01-06T14:27:49.008Z"
   },
   {
    "duration": 253,
    "start_time": "2023-01-06T14:28:56.292Z"
   },
   {
    "duration": 2668,
    "start_time": "2023-01-06T14:35:44.060Z"
   },
   {
    "duration": 25,
    "start_time": "2023-01-06T14:35:51.575Z"
   },
   {
    "duration": 39,
    "start_time": "2023-01-06T14:35:54.987Z"
   },
   {
    "duration": 53,
    "start_time": "2023-01-06T14:35:59.621Z"
   },
   {
    "duration": 51,
    "start_time": "2023-01-06T14:36:07.886Z"
   },
   {
    "duration": 2798,
    "start_time": "2023-01-06T14:36:11.837Z"
   },
   {
    "duration": 281,
    "start_time": "2023-01-06T14:36:40.186Z"
   },
   {
    "duration": 171,
    "start_time": "2023-01-06T15:32:56.976Z"
   },
   {
    "duration": 160,
    "start_time": "2023-01-06T15:33:37.027Z"
   },
   {
    "duration": 350,
    "start_time": "2023-01-06T15:34:02.827Z"
   },
   {
    "duration": 850,
    "start_time": "2023-01-06T15:42:53.444Z"
   },
   {
    "duration": 705,
    "start_time": "2023-01-06T15:43:33.413Z"
   },
   {
    "duration": 45,
    "start_time": "2023-01-06T15:59:29.236Z"
   },
   {
    "duration": 2622,
    "start_time": "2023-01-06T15:59:47.634Z"
   },
   {
    "duration": 33,
    "start_time": "2023-01-06T15:59:50.259Z"
   },
   {
    "duration": 42,
    "start_time": "2023-01-06T15:59:50.294Z"
   },
   {
    "duration": 57,
    "start_time": "2023-01-06T15:59:50.337Z"
   },
   {
    "duration": 229,
    "start_time": "2023-01-06T15:59:50.396Z"
   },
   {
    "duration": 2550,
    "start_time": "2023-01-06T15:59:50.626Z"
   },
   {
    "duration": 268,
    "start_time": "2023-01-06T15:59:53.178Z"
   },
   {
    "duration": 1674,
    "start_time": "2023-01-06T15:59:53.448Z"
   },
   {
    "duration": 832,
    "start_time": "2023-01-06T16:53:49.681Z"
   },
   {
    "duration": 672,
    "start_time": "2023-01-06T16:54:35.413Z"
   },
   {
    "duration": 866,
    "start_time": "2023-01-06T16:56:37.972Z"
   },
   {
    "duration": 1201,
    "start_time": "2023-01-06T16:58:11.024Z"
   },
   {
    "duration": 1001,
    "start_time": "2023-01-06T16:59:02.021Z"
   },
   {
    "duration": 1074,
    "start_time": "2023-01-06T16:59:35.970Z"
   },
   {
    "duration": 25908,
    "start_time": "2023-01-06T17:12:10.361Z"
   },
   {
    "duration": 1290,
    "start_time": "2023-01-06T17:42:42.353Z"
   },
   {
    "duration": 1271,
    "start_time": "2023-01-06T18:22:23.472Z"
   },
   {
    "duration": 1240,
    "start_time": "2023-01-06T18:23:08.655Z"
   },
   {
    "duration": 58,
    "start_time": "2023-01-07T08:47:55.345Z"
   },
   {
    "duration": 69,
    "start_time": "2023-01-07T08:48:20.539Z"
   },
   {
    "duration": 7,
    "start_time": "2023-01-07T08:48:34.104Z"
   },
   {
    "duration": 2894,
    "start_time": "2023-01-07T08:48:51.934Z"
   },
   {
    "duration": 22,
    "start_time": "2023-01-07T08:48:54.830Z"
   },
   {
    "duration": 42,
    "start_time": "2023-01-07T08:48:54.854Z"
   },
   {
    "duration": 58,
    "start_time": "2023-01-07T08:48:54.898Z"
   },
   {
    "duration": 63,
    "start_time": "2023-01-07T08:48:54.958Z"
   },
   {
    "duration": 2538,
    "start_time": "2023-01-07T08:48:55.023Z"
   },
   {
    "duration": 267,
    "start_time": "2023-01-07T08:48:57.562Z"
   },
   {
    "duration": 1680,
    "start_time": "2023-01-07T08:48:57.831Z"
   },
   {
    "duration": 86,
    "start_time": "2023-01-07T08:48:59.513Z"
   },
   {
    "duration": 50,
    "start_time": "2023-01-07T08:50:35.414Z"
   },
   {
    "duration": 48,
    "start_time": "2023-01-07T08:50:47.437Z"
   },
   {
    "duration": 17,
    "start_time": "2023-01-07T08:57:29.511Z"
   },
   {
    "duration": 10,
    "start_time": "2023-01-07T08:57:50.877Z"
   },
   {
    "duration": 8,
    "start_time": "2023-01-07T08:58:12.183Z"
   },
   {
    "duration": 20,
    "start_time": "2023-01-07T08:58:30.326Z"
   },
   {
    "duration": 19,
    "start_time": "2023-01-07T08:58:38.160Z"
   },
   {
    "duration": 30,
    "start_time": "2023-01-07T09:00:11.478Z"
   },
   {
    "duration": 25,
    "start_time": "2023-01-07T09:00:38.958Z"
   },
   {
    "duration": 49,
    "start_time": "2023-01-07T09:13:06.878Z"
   },
   {
    "duration": 49,
    "start_time": "2023-01-07T09:13:13.492Z"
   },
   {
    "duration": 16,
    "start_time": "2023-01-07T09:13:29.791Z"
   },
   {
    "duration": 14,
    "start_time": "2023-01-07T09:38:19.499Z"
   },
   {
    "duration": 2648,
    "start_time": "2023-01-07T09:49:08.878Z"
   },
   {
    "duration": 23,
    "start_time": "2023-01-07T09:49:11.528Z"
   },
   {
    "duration": 38,
    "start_time": "2023-01-07T09:49:11.555Z"
   },
   {
    "duration": 55,
    "start_time": "2023-01-07T09:49:11.596Z"
   },
   {
    "duration": 62,
    "start_time": "2023-01-07T09:49:11.652Z"
   },
   {
    "duration": 2441,
    "start_time": "2023-01-07T09:49:11.716Z"
   },
   {
    "duration": 266,
    "start_time": "2023-01-07T09:49:14.159Z"
   },
   {
    "duration": 1434,
    "start_time": "2023-01-07T09:49:14.426Z"
   },
   {
    "duration": 29,
    "start_time": "2023-01-07T09:49:15.884Z"
   },
   {
    "duration": 76,
    "start_time": "2023-01-07T09:59:34.303Z"
   },
   {
    "duration": 21,
    "start_time": "2023-01-07T10:00:14.467Z"
   },
   {
    "duration": 20,
    "start_time": "2023-01-07T10:00:19.882Z"
   },
   {
    "duration": 21,
    "start_time": "2023-01-07T10:00:55.085Z"
   },
   {
    "duration": 15,
    "start_time": "2023-01-07T10:01:20.369Z"
   },
   {
    "duration": 28,
    "start_time": "2023-01-07T10:02:35.253Z"
   },
   {
    "duration": 24,
    "start_time": "2023-01-07T10:02:42.199Z"
   },
   {
    "duration": 28,
    "start_time": "2023-01-07T10:26:07.945Z"
   },
   {
    "duration": 21,
    "start_time": "2023-01-07T10:34:46.808Z"
   },
   {
    "duration": 14,
    "start_time": "2023-01-07T10:36:09.087Z"
   },
   {
    "duration": 19,
    "start_time": "2023-01-07T10:38:49.146Z"
   },
   {
    "duration": 21,
    "start_time": "2023-01-07T10:39:02.074Z"
   },
   {
    "duration": 19,
    "start_time": "2023-01-07T10:42:23.473Z"
   },
   {
    "duration": 22,
    "start_time": "2023-01-07T10:43:00.422Z"
   },
   {
    "duration": 29,
    "start_time": "2023-01-07T10:43:46.492Z"
   },
   {
    "duration": 21,
    "start_time": "2023-01-07T10:45:34.375Z"
   },
   {
    "duration": 13249,
    "start_time": "2023-01-07T11:54:49.735Z"
   },
   {
    "duration": 29,
    "start_time": "2023-01-07T12:47:03.322Z"
   },
   {
    "duration": 11145,
    "start_time": "2023-01-07T13:17:18.262Z"
   },
   {
    "duration": 2602,
    "start_time": "2023-01-07T15:47:13.928Z"
   },
   {
    "duration": 22,
    "start_time": "2023-01-07T15:47:16.531Z"
   },
   {
    "duration": 38,
    "start_time": "2023-01-07T15:47:16.554Z"
   },
   {
    "duration": 67,
    "start_time": "2023-01-07T15:47:16.593Z"
   },
   {
    "duration": 58,
    "start_time": "2023-01-07T15:47:16.663Z"
   },
   {
    "duration": 2340,
    "start_time": "2023-01-07T15:47:16.723Z"
   },
   {
    "duration": 263,
    "start_time": "2023-01-07T15:47:19.065Z"
   },
   {
    "duration": 1352,
    "start_time": "2023-01-07T15:47:19.329Z"
   },
   {
    "duration": 2692,
    "start_time": "2023-01-07T15:50:55.146Z"
   },
   {
    "duration": 21,
    "start_time": "2023-01-07T15:50:57.841Z"
   },
   {
    "duration": 36,
    "start_time": "2023-01-07T15:50:57.864Z"
   },
   {
    "duration": 65,
    "start_time": "2023-01-07T15:50:57.902Z"
   },
   {
    "duration": 57,
    "start_time": "2023-01-07T15:50:57.969Z"
   },
   {
    "duration": 2462,
    "start_time": "2023-01-07T15:50:58.028Z"
   },
   {
    "duration": 281,
    "start_time": "2023-01-07T15:51:00.491Z"
   },
   {
    "duration": 1439,
    "start_time": "2023-01-07T15:51:00.773Z"
   },
   {
    "duration": 46,
    "start_time": "2023-01-07T15:58:32.208Z"
   },
   {
    "duration": 2689,
    "start_time": "2023-01-07T16:41:55.993Z"
   },
   {
    "duration": 24,
    "start_time": "2023-01-07T16:41:58.684Z"
   },
   {
    "duration": 36,
    "start_time": "2023-01-07T16:41:58.709Z"
   },
   {
    "duration": 64,
    "start_time": "2023-01-07T16:41:58.746Z"
   },
   {
    "duration": 46,
    "start_time": "2023-01-07T16:41:58.812Z"
   },
   {
    "duration": 2523,
    "start_time": "2023-01-07T16:41:58.859Z"
   },
   {
    "duration": 297,
    "start_time": "2023-01-07T16:42:01.384Z"
   },
   {
    "duration": 1467,
    "start_time": "2023-01-07T16:42:01.683Z"
   },
   {
    "duration": 49,
    "start_time": "2023-01-07T16:46:04.340Z"
   },
   {
    "duration": 2766,
    "start_time": "2023-01-07T16:46:31.643Z"
   },
   {
    "duration": 2475,
    "start_time": "2023-01-07T16:46:57.107Z"
   },
   {
    "duration": 21,
    "start_time": "2023-01-07T16:47:06.241Z"
   },
   {
    "duration": 36,
    "start_time": "2023-01-07T16:47:10.059Z"
   },
   {
    "duration": 54,
    "start_time": "2023-01-07T16:47:17.408Z"
   },
   {
    "duration": 52,
    "start_time": "2023-01-07T16:47:30.279Z"
   },
   {
    "duration": 2470,
    "start_time": "2023-01-07T16:47:35.407Z"
   },
   {
    "duration": 251,
    "start_time": "2023-01-07T16:47:42.557Z"
   },
   {
    "duration": 1367,
    "start_time": "2023-01-07T16:47:49.308Z"
   },
   {
    "duration": 50,
    "start_time": "2023-01-07T18:08:07.835Z"
   },
   {
    "duration": 2972,
    "start_time": "2023-01-07T18:08:25.349Z"
   },
   {
    "duration": 21,
    "start_time": "2023-01-07T18:08:28.323Z"
   },
   {
    "duration": 33,
    "start_time": "2023-01-07T18:08:28.346Z"
   },
   {
    "duration": 75,
    "start_time": "2023-01-07T18:08:28.382Z"
   },
   {
    "duration": 61,
    "start_time": "2023-01-07T18:08:28.458Z"
   },
   {
    "duration": 2679,
    "start_time": "2023-01-07T18:08:28.520Z"
   },
   {
    "duration": 285,
    "start_time": "2023-01-07T18:08:31.205Z"
   },
   {
    "duration": 1557,
    "start_time": "2023-01-07T18:08:31.496Z"
   },
   {
    "duration": 118,
    "start_time": "2023-01-07T18:08:33.055Z"
   },
   {
    "duration": 2754,
    "start_time": "2023-01-09T11:49:25.632Z"
   },
   {
    "duration": 22,
    "start_time": "2023-01-09T11:49:28.388Z"
   },
   {
    "duration": 38,
    "start_time": "2023-01-09T11:49:28.412Z"
   },
   {
    "duration": 70,
    "start_time": "2023-01-09T11:49:28.452Z"
   },
   {
    "duration": 49,
    "start_time": "2023-01-09T11:49:28.525Z"
   },
   {
    "duration": 2635,
    "start_time": "2023-01-09T11:49:28.576Z"
   },
   {
    "duration": 256,
    "start_time": "2023-01-09T11:49:31.213Z"
   },
   {
    "duration": 1342,
    "start_time": "2023-01-09T11:49:31.470Z"
   },
   {
    "duration": 94,
    "start_time": "2023-01-09T11:49:32.814Z"
   },
   {
    "duration": 10400,
    "start_time": "2023-01-09T11:50:37.607Z"
   },
   {
    "duration": 2411,
    "start_time": "2023-01-09T11:59:21.905Z"
   },
   {
    "duration": 18,
    "start_time": "2023-01-09T12:02:43.126Z"
   },
   {
    "duration": 9,
    "start_time": "2023-01-09T12:03:02.300Z"
   },
   {
    "duration": 17,
    "start_time": "2023-01-09T12:15:49.308Z"
   },
   {
    "duration": 17,
    "start_time": "2023-01-09T12:16:07.041Z"
   },
   {
    "duration": 2495,
    "start_time": "2023-01-09T12:56:00.215Z"
   },
   {
    "duration": 16,
    "start_time": "2023-01-09T12:56:02.713Z"
   },
   {
    "duration": 120,
    "start_time": "2023-01-09T12:56:02.731Z"
   },
   {
    "duration": 0,
    "start_time": "2023-01-09T12:56:02.853Z"
   },
   {
    "duration": 0,
    "start_time": "2023-01-09T12:56:02.854Z"
   },
   {
    "duration": 0,
    "start_time": "2023-01-09T12:56:02.855Z"
   },
   {
    "duration": 0,
    "start_time": "2023-01-09T12:56:02.857Z"
   },
   {
    "duration": 0,
    "start_time": "2023-01-09T12:56:02.858Z"
   },
   {
    "duration": 0,
    "start_time": "2023-01-09T12:56:02.859Z"
   },
   {
    "duration": 0,
    "start_time": "2023-01-09T12:56:02.860Z"
   },
   {
    "duration": 0,
    "start_time": "2023-01-09T12:56:02.862Z"
   },
   {
    "duration": 1885,
    "start_time": "2023-01-09T12:59:32.771Z"
   },
   {
    "duration": 14,
    "start_time": "2023-01-09T12:59:34.659Z"
   },
   {
    "duration": 41,
    "start_time": "2023-01-09T12:59:34.674Z"
   },
   {
    "duration": 44,
    "start_time": "2023-01-09T12:59:34.717Z"
   },
   {
    "duration": 76,
    "start_time": "2023-01-09T12:59:34.764Z"
   },
   {
    "duration": 34,
    "start_time": "2023-01-09T12:59:34.842Z"
   },
   {
    "duration": 2582,
    "start_time": "2023-01-09T12:59:34.878Z"
   },
   {
    "duration": 261,
    "start_time": "2023-01-09T12:59:37.461Z"
   },
   {
    "duration": 1321,
    "start_time": "2023-01-09T12:59:37.723Z"
   },
   {
    "duration": 11378,
    "start_time": "2023-01-09T12:59:39.046Z"
   },
   {
    "duration": 85,
    "start_time": "2023-01-09T15:11:56.459Z"
   },
   {
    "duration": 3466,
    "start_time": "2023-01-09T21:02:02.815Z"
   },
   {
    "duration": 13,
    "start_time": "2023-01-09T21:02:06.284Z"
   },
   {
    "duration": 24,
    "start_time": "2023-01-09T21:02:06.299Z"
   },
   {
    "duration": 42,
    "start_time": "2023-01-09T21:02:06.325Z"
   },
   {
    "duration": 65,
    "start_time": "2023-01-09T21:02:06.370Z"
   },
   {
    "duration": 807,
    "start_time": "2023-01-09T21:02:06.437Z"
   },
   {
    "duration": 0,
    "start_time": "2023-01-09T21:02:07.246Z"
   },
   {
    "duration": 0,
    "start_time": "2023-01-09T21:02:07.247Z"
   },
   {
    "duration": 0,
    "start_time": "2023-01-09T21:02:07.248Z"
   },
   {
    "duration": 0,
    "start_time": "2023-01-09T21:02:07.249Z"
   },
   {
    "duration": 2177,
    "start_time": "2023-01-09T21:03:26.059Z"
   },
   {
    "duration": 14,
    "start_time": "2023-01-09T21:03:28.238Z"
   },
   {
    "duration": 19,
    "start_time": "2023-01-09T21:03:28.254Z"
   },
   {
    "duration": 62,
    "start_time": "2023-01-09T21:03:28.275Z"
   },
   {
    "duration": 65,
    "start_time": "2023-01-09T21:03:28.339Z"
   },
   {
    "duration": 61,
    "start_time": "2023-01-09T21:03:28.406Z"
   },
   {
    "duration": 2730,
    "start_time": "2023-01-09T21:03:28.468Z"
   },
   {
    "duration": 290,
    "start_time": "2023-01-09T21:03:31.200Z"
   },
   {
    "duration": 1591,
    "start_time": "2023-01-09T21:03:31.492Z"
   },
   {
    "duration": 35,
    "start_time": "2023-01-09T21:03:33.085Z"
   },
   {
    "duration": 2082,
    "start_time": "2023-01-09T21:17:37.241Z"
   },
   {
    "duration": 22,
    "start_time": "2023-01-09T21:17:39.326Z"
   },
   {
    "duration": 30,
    "start_time": "2023-01-09T21:17:39.350Z"
   },
   {
    "duration": 37,
    "start_time": "2023-01-09T21:17:39.382Z"
   },
   {
    "duration": 71,
    "start_time": "2023-01-09T21:17:39.421Z"
   },
   {
    "duration": 62,
    "start_time": "2023-01-09T21:17:39.494Z"
   },
   {
    "duration": 2879,
    "start_time": "2023-01-09T21:17:39.558Z"
   },
   {
    "duration": 385,
    "start_time": "2023-01-09T21:17:42.439Z"
   },
   {
    "duration": 1596,
    "start_time": "2023-01-09T21:17:42.834Z"
   },
   {
    "duration": 37,
    "start_time": "2023-01-09T21:17:44.434Z"
   },
   {
    "duration": 2978,
    "start_time": "2023-01-09T21:18:06.723Z"
   },
   {
    "duration": 16,
    "start_time": "2023-01-09T21:18:09.703Z"
   },
   {
    "duration": 25,
    "start_time": "2023-01-09T21:18:09.722Z"
   },
   {
    "duration": 54,
    "start_time": "2023-01-09T21:18:09.750Z"
   },
   {
    "duration": 77,
    "start_time": "2023-01-09T21:18:09.807Z"
   },
   {
    "duration": 56,
    "start_time": "2023-01-09T21:18:09.886Z"
   },
   {
    "duration": 2824,
    "start_time": "2023-01-09T21:18:09.945Z"
   },
   {
    "duration": 312,
    "start_time": "2023-01-09T21:18:12.771Z"
   },
   {
    "duration": 1750,
    "start_time": "2023-01-09T21:18:13.085Z"
   },
   {
    "duration": 122,
    "start_time": "2023-01-09T21:18:14.837Z"
   },
   {
    "duration": 291,
    "start_time": "2023-01-09T21:18:59.948Z"
   },
   {
    "duration": 36,
    "start_time": "2023-01-09T21:22:07.361Z"
   },
   {
    "duration": 13961,
    "start_time": "2023-01-09T21:23:29.837Z"
   },
   {
    "duration": 24,
    "start_time": "2023-01-09T21:26:30.282Z"
   },
   {
    "duration": 13030,
    "start_time": "2023-01-09T21:28:10.334Z"
   },
   {
    "duration": 195,
    "start_time": "2023-01-09T21:35:11.174Z"
   },
   {
    "duration": 210,
    "start_time": "2023-01-09T21:35:53.765Z"
   },
   {
    "duration": 199,
    "start_time": "2023-01-09T21:36:53.838Z"
   },
   {
    "duration": 177,
    "start_time": "2023-01-09T21:37:00.323Z"
   },
   {
    "duration": 186,
    "start_time": "2023-01-09T21:37:07.607Z"
   },
   {
    "duration": 222,
    "start_time": "2023-01-09T21:44:51.622Z"
   },
   {
    "duration": 2879,
    "start_time": "2023-01-09T21:48:45.350Z"
   },
   {
    "duration": 16,
    "start_time": "2023-01-09T21:48:48.232Z"
   },
   {
    "duration": 20,
    "start_time": "2023-01-09T21:48:48.250Z"
   },
   {
    "duration": 63,
    "start_time": "2023-01-09T21:48:48.272Z"
   },
   {
    "duration": 67,
    "start_time": "2023-01-09T21:48:48.337Z"
   },
   {
    "duration": 55,
    "start_time": "2023-01-09T21:48:48.406Z"
   },
   {
    "duration": 2881,
    "start_time": "2023-01-09T21:48:48.464Z"
   },
   {
    "duration": 299,
    "start_time": "2023-01-09T21:48:51.347Z"
   },
   {
    "duration": 1547,
    "start_time": "2023-01-09T21:48:51.647Z"
   },
   {
    "duration": 22,
    "start_time": "2023-01-09T21:48:53.197Z"
   },
   {
    "duration": 206,
    "start_time": "2023-01-09T21:48:53.220Z"
   },
   {
    "duration": 2385,
    "start_time": "2023-01-09T21:50:31.656Z"
   },
   {
    "duration": 15,
    "start_time": "2023-01-09T21:50:34.044Z"
   },
   {
    "duration": 22,
    "start_time": "2023-01-09T21:50:34.061Z"
   },
   {
    "duration": 73,
    "start_time": "2023-01-09T21:50:34.085Z"
   },
   {
    "duration": 80,
    "start_time": "2023-01-09T21:50:34.161Z"
   },
   {
    "duration": 45,
    "start_time": "2023-01-09T21:50:34.243Z"
   },
   {
    "duration": 2917,
    "start_time": "2023-01-09T21:50:34.291Z"
   },
   {
    "duration": 300,
    "start_time": "2023-01-09T21:50:37.209Z"
   },
   {
    "duration": 1404,
    "start_time": "2023-01-09T21:50:37.510Z"
   },
   {
    "duration": 46,
    "start_time": "2023-01-09T21:50:38.916Z"
   },
   {
    "duration": 0,
    "start_time": "2023-01-09T21:50:38.964Z"
   },
   {
    "duration": 25,
    "start_time": "2023-01-09T21:51:19.181Z"
   },
   {
    "duration": 195,
    "start_time": "2023-01-09T21:51:58.983Z"
   },
   {
    "duration": 2832,
    "start_time": "2023-01-09T22:00:21.709Z"
   },
   {
    "duration": 15,
    "start_time": "2023-01-09T22:00:24.544Z"
   },
   {
    "duration": 21,
    "start_time": "2023-01-09T22:00:24.560Z"
   },
   {
    "duration": 57,
    "start_time": "2023-01-09T22:00:24.583Z"
   },
   {
    "duration": 59,
    "start_time": "2023-01-09T22:00:24.642Z"
   },
   {
    "duration": 59,
    "start_time": "2023-01-09T22:00:24.704Z"
   },
   {
    "duration": 2803,
    "start_time": "2023-01-09T22:00:24.765Z"
   },
   {
    "duration": 300,
    "start_time": "2023-01-09T22:00:27.571Z"
   },
   {
    "duration": 1472,
    "start_time": "2023-01-09T22:00:27.873Z"
   },
   {
    "duration": 23,
    "start_time": "2023-01-09T22:00:29.347Z"
   },
   {
    "duration": 203,
    "start_time": "2023-01-09T22:00:29.372Z"
   },
   {
    "duration": 54,
    "start_time": "2023-01-10T12:38:38.081Z"
   },
   {
    "duration": 2837,
    "start_time": "2023-01-10T12:38:58.525Z"
   },
   {
    "duration": 16,
    "start_time": "2023-01-10T12:39:01.364Z"
   },
   {
    "duration": 48,
    "start_time": "2023-01-10T12:39:01.382Z"
   },
   {
    "duration": 59,
    "start_time": "2023-01-10T12:39:01.432Z"
   },
   {
    "duration": 72,
    "start_time": "2023-01-10T12:39:01.493Z"
   },
   {
    "duration": 40,
    "start_time": "2023-01-10T12:39:01.567Z"
   },
   {
    "duration": 2586,
    "start_time": "2023-01-10T12:39:01.608Z"
   },
   {
    "duration": 302,
    "start_time": "2023-01-10T12:39:04.197Z"
   },
   {
    "duration": 1379,
    "start_time": "2023-01-10T12:39:04.501Z"
   },
   {
    "duration": 22,
    "start_time": "2023-01-10T12:39:05.882Z"
   },
   {
    "duration": 194,
    "start_time": "2023-01-10T12:39:05.905Z"
   },
   {
    "duration": 186,
    "start_time": "2023-01-10T12:42:05.997Z"
   },
   {
    "duration": 2668,
    "start_time": "2023-01-10T12:44:27.938Z"
   },
   {
    "duration": 23,
    "start_time": "2023-01-10T12:44:30.609Z"
   },
   {
    "duration": 37,
    "start_time": "2023-01-10T12:44:30.635Z"
   },
   {
    "duration": 43,
    "start_time": "2023-01-10T12:44:30.674Z"
   },
   {
    "duration": 62,
    "start_time": "2023-01-10T12:44:30.720Z"
   },
   {
    "duration": 42,
    "start_time": "2023-01-10T12:44:30.783Z"
   },
   {
    "duration": 2667,
    "start_time": "2023-01-10T12:44:30.827Z"
   },
   {
    "duration": 276,
    "start_time": "2023-01-10T12:44:33.496Z"
   },
   {
    "duration": 1598,
    "start_time": "2023-01-10T12:44:33.777Z"
   },
   {
    "duration": 33,
    "start_time": "2023-01-10T12:44:35.379Z"
   },
   {
    "duration": 225,
    "start_time": "2023-01-10T12:44:35.414Z"
   },
   {
    "duration": 2707,
    "start_time": "2023-01-10T12:48:53.369Z"
   },
   {
    "duration": 14,
    "start_time": "2023-01-10T12:48:56.078Z"
   },
   {
    "duration": 33,
    "start_time": "2023-01-10T12:48:56.094Z"
   },
   {
    "duration": 65,
    "start_time": "2023-01-10T12:48:56.129Z"
   },
   {
    "duration": 56,
    "start_time": "2023-01-10T12:48:56.196Z"
   },
   {
    "duration": 58,
    "start_time": "2023-01-10T12:48:56.254Z"
   },
   {
    "duration": 2486,
    "start_time": "2023-01-10T12:48:56.314Z"
   },
   {
    "duration": 275,
    "start_time": "2023-01-10T12:48:58.802Z"
   },
   {
    "duration": 1338,
    "start_time": "2023-01-10T12:48:59.079Z"
   },
   {
    "duration": 21,
    "start_time": "2023-01-10T12:49:00.419Z"
   },
   {
    "duration": 195,
    "start_time": "2023-01-10T12:49:00.441Z"
   },
   {
    "duration": 188,
    "start_time": "2023-01-10T12:49:34.277Z"
   },
   {
    "duration": 195,
    "start_time": "2023-01-10T12:50:52.205Z"
   },
   {
    "duration": 3304,
    "start_time": "2023-01-10T13:31:08.824Z"
   },
   {
    "duration": 15,
    "start_time": "2023-01-10T13:31:12.130Z"
   },
   {
    "duration": 18,
    "start_time": "2023-01-10T13:31:12.146Z"
   },
   {
    "duration": 62,
    "start_time": "2023-01-10T13:31:12.167Z"
   },
   {
    "duration": 63,
    "start_time": "2023-01-10T13:31:12.231Z"
   },
   {
    "duration": 55,
    "start_time": "2023-01-10T13:31:12.296Z"
   },
   {
    "duration": 2891,
    "start_time": "2023-01-10T13:31:12.352Z"
   },
   {
    "duration": 345,
    "start_time": "2023-01-10T13:31:15.245Z"
   },
   {
    "duration": 1609,
    "start_time": "2023-01-10T13:31:15.592Z"
   },
   {
    "duration": 28,
    "start_time": "2023-01-10T13:31:17.204Z"
   },
   {
    "duration": 211,
    "start_time": "2023-01-10T13:31:17.234Z"
   },
   {
    "duration": 190,
    "start_time": "2023-01-10T13:44:31.408Z"
   },
   {
    "duration": 2829,
    "start_time": "2023-01-10T18:07:26.392Z"
   },
   {
    "duration": 16,
    "start_time": "2023-01-10T18:07:29.223Z"
   },
   {
    "duration": 25,
    "start_time": "2023-01-10T18:07:29.240Z"
   },
   {
    "duration": 39,
    "start_time": "2023-01-10T18:07:29.266Z"
   },
   {
    "duration": 68,
    "start_time": "2023-01-10T18:07:29.308Z"
   },
   {
    "duration": 41,
    "start_time": "2023-01-10T18:07:29.377Z"
   },
   {
    "duration": 2548,
    "start_time": "2023-01-10T18:07:29.419Z"
   },
   {
    "duration": 281,
    "start_time": "2023-01-10T18:07:31.969Z"
   },
   {
    "duration": 1465,
    "start_time": "2023-01-10T18:07:32.252Z"
   },
   {
    "duration": 30,
    "start_time": "2023-01-10T18:07:33.718Z"
   },
   {
    "duration": 191,
    "start_time": "2023-01-10T18:07:33.749Z"
   },
   {
    "duration": 14,
    "start_time": "2023-01-10T18:08:49.320Z"
   },
   {
    "duration": 20,
    "start_time": "2023-01-10T18:09:05.768Z"
   },
   {
    "duration": 6,
    "start_time": "2023-01-10T18:10:04.137Z"
   },
   {
    "duration": 2904,
    "start_time": "2023-01-10T18:10:10.241Z"
   },
   {
    "duration": 15,
    "start_time": "2023-01-10T18:10:13.147Z"
   },
   {
    "duration": 18,
    "start_time": "2023-01-10T18:10:13.164Z"
   },
   {
    "duration": 51,
    "start_time": "2023-01-10T18:10:13.184Z"
   },
   {
    "duration": 61,
    "start_time": "2023-01-10T18:10:13.236Z"
   },
   {
    "duration": 6,
    "start_time": "2023-01-10T18:10:13.299Z"
   },
   {
    "duration": 66,
    "start_time": "2023-01-10T18:10:13.307Z"
   },
   {
    "duration": 2686,
    "start_time": "2023-01-10T18:10:13.374Z"
   },
   {
    "duration": 283,
    "start_time": "2023-01-10T18:10:16.062Z"
   },
   {
    "duration": 1470,
    "start_time": "2023-01-10T18:10:16.348Z"
   },
   {
    "duration": 28,
    "start_time": "2023-01-10T18:10:17.820Z"
   },
   {
    "duration": 202,
    "start_time": "2023-01-10T18:10:17.850Z"
   },
   {
    "duration": 85,
    "start_time": "2023-01-10T18:10:53.049Z"
   },
   {
    "duration": 7,
    "start_time": "2023-01-10T18:11:10.409Z"
   },
   {
    "duration": 6,
    "start_time": "2023-01-10T18:11:19.231Z"
   },
   {
    "duration": 28,
    "start_time": "2023-01-10T18:19:35.992Z"
   },
   {
    "duration": 31,
    "start_time": "2023-01-10T18:19:42.555Z"
   },
   {
    "duration": 3375,
    "start_time": "2023-01-11T12:06:52.764Z"
   },
   {
    "duration": 2314,
    "start_time": "2023-01-11T12:10:04.682Z"
   },
   {
    "duration": 625,
    "start_time": "2023-01-11T12:15:43.105Z"
   },
   {
    "duration": 111,
    "start_time": "2023-01-11T12:15:43.733Z"
   },
   {
    "duration": 17,
    "start_time": "2023-01-11T12:15:43.846Z"
   },
   {
    "duration": 2164,
    "start_time": "2023-01-11T12:15:43.866Z"
   },
   {
    "duration": 15,
    "start_time": "2023-01-11T12:15:46.032Z"
   },
   {
    "duration": 18,
    "start_time": "2023-01-11T12:15:46.049Z"
   },
   {
    "duration": 39,
    "start_time": "2023-01-11T12:15:46.069Z"
   },
   {
    "duration": 92,
    "start_time": "2023-01-11T12:15:46.110Z"
   },
   {
    "duration": 55,
    "start_time": "2023-01-11T12:15:46.204Z"
   },
   {
    "duration": 2768,
    "start_time": "2023-01-11T12:15:46.262Z"
   },
   {
    "duration": 314,
    "start_time": "2023-01-11T12:15:49.032Z"
   },
   {
    "duration": 1479,
    "start_time": "2023-01-11T12:15:49.354Z"
   },
   {
    "duration": 29,
    "start_time": "2023-01-11T12:15:50.835Z"
   },
   {
    "duration": 210,
    "start_time": "2023-01-11T12:15:50.866Z"
   },
   {
    "duration": 18,
    "start_time": "2023-01-11T12:22:04.507Z"
   },
   {
    "duration": 14,
    "start_time": "2023-01-11T12:24:54.911Z"
   },
   {
    "duration": 842,
    "start_time": "2023-01-11T12:25:32.736Z"
   },
   {
    "duration": 149,
    "start_time": "2023-01-11T12:25:33.580Z"
   },
   {
    "duration": 33,
    "start_time": "2023-01-11T12:25:33.732Z"
   },
   {
    "duration": 2471,
    "start_time": "2023-01-11T12:25:33.767Z"
   },
   {
    "duration": 23,
    "start_time": "2023-01-11T12:25:36.241Z"
   },
   {
    "duration": 28,
    "start_time": "2023-01-11T12:25:36.267Z"
   },
   {
    "duration": 70,
    "start_time": "2023-01-11T12:25:36.297Z"
   },
   {
    "duration": 86,
    "start_time": "2023-01-11T12:25:36.370Z"
   },
   {
    "duration": 63,
    "start_time": "2023-01-11T12:25:36.458Z"
   },
   {
    "duration": 3078,
    "start_time": "2023-01-11T12:25:36.524Z"
   },
   {
    "duration": 333,
    "start_time": "2023-01-11T12:25:39.605Z"
   },
   {
    "duration": 1724,
    "start_time": "2023-01-11T12:25:39.941Z"
   },
   {
    "duration": 32,
    "start_time": "2023-01-11T12:25:41.668Z"
   },
   {
    "duration": 266,
    "start_time": "2023-01-11T12:25:41.704Z"
   },
   {
    "duration": 24,
    "start_time": "2023-01-11T12:31:23.145Z"
   },
   {
    "duration": 5,
    "start_time": "2023-01-11T12:36:55.009Z"
   },
   {
    "duration": 5,
    "start_time": "2023-01-11T12:37:53.494Z"
   },
   {
    "duration": 54,
    "start_time": "2023-01-11T12:38:22.474Z"
   },
   {
    "duration": 5,
    "start_time": "2023-01-11T12:38:28.694Z"
   },
   {
    "duration": 7,
    "start_time": "2023-01-11T12:39:32.083Z"
   },
   {
    "duration": 10,
    "start_time": "2023-01-11T12:45:01.309Z"
   },
   {
    "duration": 6,
    "start_time": "2023-01-11T12:46:23.303Z"
   },
   {
    "duration": 138,
    "start_time": "2023-01-11T12:47:54.592Z"
   },
   {
    "duration": 53,
    "start_time": "2023-01-11T12:48:12.997Z"
   },
   {
    "duration": 10,
    "start_time": "2023-01-11T12:50:33.250Z"
   },
   {
    "duration": 7,
    "start_time": "2023-01-11T12:50:57.421Z"
   },
   {
    "duration": 62,
    "start_time": "2023-01-11T12:54:22.449Z"
   },
   {
    "duration": 11,
    "start_time": "2023-01-11T12:55:24.942Z"
   },
   {
    "duration": 14,
    "start_time": "2023-01-11T12:55:36.573Z"
   },
   {
    "duration": 9,
    "start_time": "2023-01-11T12:58:15.683Z"
   },
   {
    "duration": 6,
    "start_time": "2023-01-11T12:58:25.084Z"
   },
   {
    "duration": 7,
    "start_time": "2023-01-11T12:58:51.021Z"
   },
   {
    "duration": 7,
    "start_time": "2023-01-11T12:59:13.492Z"
   },
   {
    "duration": 7,
    "start_time": "2023-01-11T12:59:36.355Z"
   },
   {
    "duration": 11,
    "start_time": "2023-01-11T13:01:04.964Z"
   },
   {
    "duration": 10,
    "start_time": "2023-01-11T13:01:41.196Z"
   },
   {
    "duration": 674,
    "start_time": "2023-01-11T13:02:45.069Z"
   },
   {
    "duration": 114,
    "start_time": "2023-01-11T13:02:45.745Z"
   },
   {
    "duration": 16,
    "start_time": "2023-01-11T13:02:45.860Z"
   },
   {
    "duration": 2112,
    "start_time": "2023-01-11T13:02:45.878Z"
   },
   {
    "duration": 18,
    "start_time": "2023-01-11T13:02:47.992Z"
   },
   {
    "duration": 8,
    "start_time": "2023-01-11T13:02:48.011Z"
   },
   {
    "duration": 17,
    "start_time": "2023-01-11T13:02:48.021Z"
   },
   {
    "duration": 35,
    "start_time": "2023-01-11T13:02:48.039Z"
   },
   {
    "duration": 58,
    "start_time": "2023-01-11T13:02:48.076Z"
   },
   {
    "duration": 22,
    "start_time": "2023-01-11T13:02:48.136Z"
   },
   {
    "duration": 10,
    "start_time": "2023-01-11T13:02:48.159Z"
   },
   {
    "duration": 9,
    "start_time": "2023-01-11T13:02:48.170Z"
   },
   {
    "duration": 8,
    "start_time": "2023-01-11T13:02:48.181Z"
   },
   {
    "duration": 68,
    "start_time": "2023-01-11T13:02:48.191Z"
   },
   {
    "duration": 2792,
    "start_time": "2023-01-11T13:02:48.261Z"
   },
   {
    "duration": 286,
    "start_time": "2023-01-11T13:02:51.055Z"
   },
   {
    "duration": 1405,
    "start_time": "2023-01-11T13:02:51.343Z"
   },
   {
    "duration": 22,
    "start_time": "2023-01-11T13:02:52.755Z"
   },
   {
    "duration": 203,
    "start_time": "2023-01-11T13:02:52.779Z"
   },
   {
    "duration": 11,
    "start_time": "2023-01-11T13:03:07.147Z"
   },
   {
    "duration": 701,
    "start_time": "2023-01-11T13:04:00.649Z"
   },
   {
    "duration": 116,
    "start_time": "2023-01-11T13:04:01.352Z"
   },
   {
    "duration": 17,
    "start_time": "2023-01-11T13:04:01.470Z"
   },
   {
    "duration": 2220,
    "start_time": "2023-01-11T13:04:01.490Z"
   },
   {
    "duration": 24,
    "start_time": "2023-01-11T13:04:03.713Z"
   },
   {
    "duration": 12,
    "start_time": "2023-01-11T13:04:03.739Z"
   },
   {
    "duration": 38,
    "start_time": "2023-01-11T13:04:03.755Z"
   },
   {
    "duration": 46,
    "start_time": "2023-01-11T13:04:03.795Z"
   },
   {
    "duration": 63,
    "start_time": "2023-01-11T13:04:03.843Z"
   },
   {
    "duration": 6,
    "start_time": "2023-01-11T13:04:03.909Z"
   },
   {
    "duration": 13,
    "start_time": "2023-01-11T13:04:03.917Z"
   },
   {
    "duration": 25,
    "start_time": "2023-01-11T13:04:03.932Z"
   },
   {
    "duration": 23,
    "start_time": "2023-01-11T13:04:03.959Z"
   },
   {
    "duration": 79,
    "start_time": "2023-01-11T13:04:03.983Z"
   },
   {
    "duration": 3123,
    "start_time": "2023-01-11T13:04:04.064Z"
   },
   {
    "duration": 305,
    "start_time": "2023-01-11T13:04:07.189Z"
   },
   {
    "duration": 1527,
    "start_time": "2023-01-11T13:04:07.496Z"
   },
   {
    "duration": 34,
    "start_time": "2023-01-11T13:04:09.025Z"
   },
   {
    "duration": 205,
    "start_time": "2023-01-11T13:04:09.061Z"
   },
   {
    "duration": 707,
    "start_time": "2023-01-11T13:07:25.032Z"
   },
   {
    "duration": 112,
    "start_time": "2023-01-11T13:07:25.742Z"
   },
   {
    "duration": 18,
    "start_time": "2023-01-11T13:07:25.857Z"
   },
   {
    "duration": 2222,
    "start_time": "2023-01-11T13:07:25.876Z"
   },
   {
    "duration": 19,
    "start_time": "2023-01-11T13:07:28.102Z"
   },
   {
    "duration": 9,
    "start_time": "2023-01-11T13:07:28.123Z"
   },
   {
    "duration": 17,
    "start_time": "2023-01-11T13:07:28.134Z"
   },
   {
    "duration": 30,
    "start_time": "2023-01-11T13:07:28.152Z"
   },
   {
    "duration": 75,
    "start_time": "2023-01-11T13:07:28.184Z"
   },
   {
    "duration": 6,
    "start_time": "2023-01-11T13:07:28.260Z"
   },
   {
    "duration": 10,
    "start_time": "2023-01-11T13:07:28.267Z"
   },
   {
    "duration": 13,
    "start_time": "2023-01-11T13:07:28.279Z"
   },
   {
    "duration": 12,
    "start_time": "2023-01-11T13:07:28.294Z"
   },
   {
    "duration": 20,
    "start_time": "2023-01-11T13:07:28.309Z"
   },
   {
    "duration": 2275,
    "start_time": "2023-01-11T13:07:28.331Z"
   },
   {
    "duration": 278,
    "start_time": "2023-01-11T13:07:30.608Z"
   },
   {
    "duration": 507,
    "start_time": "2023-01-11T13:07:30.888Z"
   },
   {
    "duration": 0,
    "start_time": "2023-01-11T13:07:31.397Z"
   },
   {
    "duration": 0,
    "start_time": "2023-01-11T13:07:31.398Z"
   },
   {
    "duration": 704,
    "start_time": "2023-01-11T13:08:50.435Z"
   },
   {
    "duration": 122,
    "start_time": "2023-01-11T13:08:51.140Z"
   },
   {
    "duration": 15,
    "start_time": "2023-01-11T13:08:51.264Z"
   },
   {
    "duration": 2225,
    "start_time": "2023-01-11T13:08:51.282Z"
   },
   {
    "duration": 24,
    "start_time": "2023-01-11T13:08:53.508Z"
   },
   {
    "duration": 12,
    "start_time": "2023-01-11T13:08:53.533Z"
   },
   {
    "duration": 21,
    "start_time": "2023-01-11T13:08:53.547Z"
   },
   {
    "duration": 30,
    "start_time": "2023-01-11T13:08:53.570Z"
   },
   {
    "duration": 88,
    "start_time": "2023-01-11T13:08:53.602Z"
   },
   {
    "duration": 6,
    "start_time": "2023-01-11T13:08:53.694Z"
   },
   {
    "duration": 10,
    "start_time": "2023-01-11T13:08:53.703Z"
   },
   {
    "duration": 37,
    "start_time": "2023-01-11T13:08:53.715Z"
   },
   {
    "duration": 13,
    "start_time": "2023-01-11T13:08:53.754Z"
   },
   {
    "duration": 86,
    "start_time": "2023-01-11T13:08:53.769Z"
   },
   {
    "duration": 0,
    "start_time": "2023-01-11T13:08:53.857Z"
   },
   {
    "duration": 0,
    "start_time": "2023-01-11T13:08:53.858Z"
   },
   {
    "duration": 0,
    "start_time": "2023-01-11T13:08:53.859Z"
   },
   {
    "duration": 0,
    "start_time": "2023-01-11T13:08:53.861Z"
   },
   {
    "duration": 0,
    "start_time": "2023-01-11T13:08:53.862Z"
   },
   {
    "duration": 0,
    "start_time": "2023-01-11T13:08:53.862Z"
   },
   {
    "duration": 5,
    "start_time": "2023-01-11T13:26:58.439Z"
   },
   {
    "duration": 804,
    "start_time": "2023-01-11T13:28:44.171Z"
   },
   {
    "duration": 0,
    "start_time": "2023-01-11T13:28:44.978Z"
   },
   {
    "duration": 0,
    "start_time": "2023-01-11T13:28:44.978Z"
   },
   {
    "duration": 0,
    "start_time": "2023-01-11T13:28:44.980Z"
   },
   {
    "duration": 0,
    "start_time": "2023-01-11T13:28:44.981Z"
   },
   {
    "duration": 0,
    "start_time": "2023-01-11T13:28:44.982Z"
   },
   {
    "duration": 0,
    "start_time": "2023-01-11T13:28:44.993Z"
   },
   {
    "duration": 0,
    "start_time": "2023-01-11T13:28:44.995Z"
   },
   {
    "duration": 0,
    "start_time": "2023-01-11T13:28:44.997Z"
   },
   {
    "duration": 0,
    "start_time": "2023-01-11T13:28:44.998Z"
   },
   {
    "duration": 0,
    "start_time": "2023-01-11T13:28:45.000Z"
   },
   {
    "duration": 0,
    "start_time": "2023-01-11T13:28:45.001Z"
   },
   {
    "duration": 0,
    "start_time": "2023-01-11T13:28:45.003Z"
   },
   {
    "duration": 0,
    "start_time": "2023-01-11T13:28:45.004Z"
   },
   {
    "duration": 0,
    "start_time": "2023-01-11T13:28:45.005Z"
   },
   {
    "duration": 0,
    "start_time": "2023-01-11T13:28:45.006Z"
   },
   {
    "duration": 0,
    "start_time": "2023-01-11T13:28:45.008Z"
   },
   {
    "duration": 0,
    "start_time": "2023-01-11T13:28:45.009Z"
   },
   {
    "duration": 0,
    "start_time": "2023-01-11T13:28:45.011Z"
   },
   {
    "duration": 0,
    "start_time": "2023-01-11T13:28:45.012Z"
   },
   {
    "duration": 657,
    "start_time": "2023-01-11T13:29:14.791Z"
   },
   {
    "duration": 134,
    "start_time": "2023-01-11T13:29:15.450Z"
   },
   {
    "duration": 16,
    "start_time": "2023-01-11T13:29:15.586Z"
   },
   {
    "duration": 2282,
    "start_time": "2023-01-11T13:29:15.604Z"
   },
   {
    "duration": 19,
    "start_time": "2023-01-11T13:29:17.888Z"
   },
   {
    "duration": 8,
    "start_time": "2023-01-11T13:29:17.909Z"
   },
   {
    "duration": 16,
    "start_time": "2023-01-11T13:29:17.919Z"
   },
   {
    "duration": 49,
    "start_time": "2023-01-11T13:29:17.937Z"
   },
   {
    "duration": 82,
    "start_time": "2023-01-11T13:29:17.987Z"
   },
   {
    "duration": 6,
    "start_time": "2023-01-11T13:29:18.072Z"
   },
   {
    "duration": 10,
    "start_time": "2023-01-11T13:29:18.080Z"
   },
   {
    "duration": 25,
    "start_time": "2023-01-11T13:29:18.092Z"
   },
   {
    "duration": 9,
    "start_time": "2023-01-11T13:29:18.119Z"
   },
   {
    "duration": 37,
    "start_time": "2023-01-11T13:29:18.130Z"
   },
   {
    "duration": 21,
    "start_time": "2023-01-11T13:29:18.169Z"
   },
   {
    "duration": 2282,
    "start_time": "2023-01-11T13:29:18.192Z"
   },
   {
    "duration": 268,
    "start_time": "2023-01-11T13:29:20.476Z"
   },
   {
    "duration": 534,
    "start_time": "2023-01-11T13:29:20.746Z"
   },
   {
    "duration": 0,
    "start_time": "2023-01-11T13:29:21.281Z"
   },
   {
    "duration": 0,
    "start_time": "2023-01-11T13:29:21.283Z"
   },
   {
    "duration": 978,
    "start_time": "2023-01-11T13:30:27.312Z"
   },
   {
    "duration": 5,
    "start_time": "2023-01-11T13:33:00.280Z"
   },
   {
    "duration": 629,
    "start_time": "2023-01-11T13:33:26.896Z"
   },
   {
    "duration": 119,
    "start_time": "2023-01-11T13:33:27.527Z"
   },
   {
    "duration": 18,
    "start_time": "2023-01-11T13:33:27.648Z"
   },
   {
    "duration": 2133,
    "start_time": "2023-01-11T13:33:27.669Z"
   },
   {
    "duration": 18,
    "start_time": "2023-01-11T13:33:29.804Z"
   },
   {
    "duration": 8,
    "start_time": "2023-01-11T13:33:29.824Z"
   },
   {
    "duration": 19,
    "start_time": "2023-01-11T13:33:29.834Z"
   },
   {
    "duration": 36,
    "start_time": "2023-01-11T13:33:29.854Z"
   },
   {
    "duration": 83,
    "start_time": "2023-01-11T13:33:29.891Z"
   },
   {
    "duration": 6,
    "start_time": "2023-01-11T13:33:29.976Z"
   },
   {
    "duration": 13,
    "start_time": "2023-01-11T13:33:29.984Z"
   },
   {
    "duration": 9,
    "start_time": "2023-01-11T13:33:29.999Z"
   },
   {
    "duration": 15,
    "start_time": "2023-01-11T13:33:30.010Z"
   },
   {
    "duration": 5,
    "start_time": "2023-01-11T13:33:30.027Z"
   },
   {
    "duration": 39,
    "start_time": "2023-01-11T13:33:30.034Z"
   },
   {
    "duration": 2275,
    "start_time": "2023-01-11T13:33:30.074Z"
   },
   {
    "duration": 267,
    "start_time": "2023-01-11T13:33:32.351Z"
   },
   {
    "duration": 487,
    "start_time": "2023-01-11T13:33:32.620Z"
   },
   {
    "duration": 0,
    "start_time": "2023-01-11T13:33:33.109Z"
   },
   {
    "duration": 0,
    "start_time": "2023-01-11T13:33:33.110Z"
   },
   {
    "duration": 688,
    "start_time": "2023-01-11T13:48:07.160Z"
   },
   {
    "duration": 120,
    "start_time": "2023-01-11T13:48:07.850Z"
   },
   {
    "duration": 18,
    "start_time": "2023-01-11T13:48:07.972Z"
   },
   {
    "duration": 2198,
    "start_time": "2023-01-11T13:48:07.992Z"
   },
   {
    "duration": 19,
    "start_time": "2023-01-11T13:48:10.194Z"
   },
   {
    "duration": 9,
    "start_time": "2023-01-11T13:48:10.215Z"
   },
   {
    "duration": 34,
    "start_time": "2023-01-11T13:48:10.226Z"
   },
   {
    "duration": 31,
    "start_time": "2023-01-11T13:48:10.262Z"
   },
   {
    "duration": 72,
    "start_time": "2023-01-11T13:48:10.295Z"
   },
   {
    "duration": 5,
    "start_time": "2023-01-11T13:48:10.369Z"
   },
   {
    "duration": 16,
    "start_time": "2023-01-11T13:48:10.377Z"
   },
   {
    "duration": 17,
    "start_time": "2023-01-11T13:48:10.396Z"
   },
   {
    "duration": 17,
    "start_time": "2023-01-11T13:48:10.415Z"
   },
   {
    "duration": 100,
    "start_time": "2023-01-11T13:48:10.435Z"
   },
   {
    "duration": 0,
    "start_time": "2023-01-11T13:48:10.537Z"
   },
   {
    "duration": 0,
    "start_time": "2023-01-11T13:48:10.538Z"
   },
   {
    "duration": 0,
    "start_time": "2023-01-11T13:48:10.539Z"
   },
   {
    "duration": 0,
    "start_time": "2023-01-11T13:48:10.540Z"
   },
   {
    "duration": 0,
    "start_time": "2023-01-11T13:48:10.555Z"
   },
   {
    "duration": 0,
    "start_time": "2023-01-11T13:48:10.556Z"
   },
   {
    "duration": 23,
    "start_time": "2023-01-11T13:48:51.203Z"
   },
   {
    "duration": 2640,
    "start_time": "2023-01-11T13:48:51.228Z"
   },
   {
    "duration": 304,
    "start_time": "2023-01-11T13:48:53.871Z"
   },
   {
    "duration": 510,
    "start_time": "2023-01-11T13:48:54.177Z"
   },
   {
    "duration": 0,
    "start_time": "2023-01-11T13:48:54.690Z"
   },
   {
    "duration": 0,
    "start_time": "2023-01-11T13:48:54.692Z"
   },
   {
    "duration": 770,
    "start_time": "2023-01-11T13:49:09.572Z"
   },
   {
    "duration": 166,
    "start_time": "2023-01-11T13:49:10.344Z"
   },
   {
    "duration": 17,
    "start_time": "2023-01-11T13:49:10.512Z"
   },
   {
    "duration": 2487,
    "start_time": "2023-01-11T13:49:10.531Z"
   },
   {
    "duration": 20,
    "start_time": "2023-01-11T13:49:13.021Z"
   },
   {
    "duration": 9,
    "start_time": "2023-01-11T13:49:13.043Z"
   },
   {
    "duration": 49,
    "start_time": "2023-01-11T13:49:13.054Z"
   },
   {
    "duration": 31,
    "start_time": "2023-01-11T13:49:13.104Z"
   },
   {
    "duration": 55,
    "start_time": "2023-01-11T13:49:13.137Z"
   },
   {
    "duration": 8,
    "start_time": "2023-01-11T13:49:13.194Z"
   },
   {
    "duration": 17,
    "start_time": "2023-01-11T13:49:13.204Z"
   },
   {
    "duration": 10,
    "start_time": "2023-01-11T13:49:13.223Z"
   },
   {
    "duration": 34,
    "start_time": "2023-01-11T13:49:13.235Z"
   },
   {
    "duration": 36,
    "start_time": "2023-01-11T13:49:13.274Z"
   },
   {
    "duration": 2661,
    "start_time": "2023-01-11T13:49:13.312Z"
   },
   {
    "duration": 304,
    "start_time": "2023-01-11T13:49:15.979Z"
   },
   {
    "duration": 567,
    "start_time": "2023-01-11T13:49:16.286Z"
   },
   {
    "duration": 0,
    "start_time": "2023-01-11T13:49:16.856Z"
   },
   {
    "duration": 0,
    "start_time": "2023-01-11T13:49:16.859Z"
   },
   {
    "duration": 3,
    "start_time": "2023-01-11T13:49:46.616Z"
   },
   {
    "duration": 821,
    "start_time": "2023-01-11T13:49:54.103Z"
   },
   {
    "duration": 143,
    "start_time": "2023-01-11T13:49:57.215Z"
   },
   {
    "duration": 23,
    "start_time": "2023-01-11T13:50:00.514Z"
   },
   {
    "duration": 2556,
    "start_time": "2023-01-11T13:50:03.982Z"
   },
   {
    "duration": 20,
    "start_time": "2023-01-11T13:50:13.512Z"
   },
   {
    "duration": 10,
    "start_time": "2023-01-11T13:50:17.297Z"
   },
   {
    "duration": 16,
    "start_time": "2023-01-11T13:50:20.094Z"
   },
   {
    "duration": 41,
    "start_time": "2023-01-11T13:50:22.980Z"
   },
   {
    "duration": 58,
    "start_time": "2023-01-11T13:50:26.218Z"
   },
   {
    "duration": 5,
    "start_time": "2023-01-11T13:50:35.271Z"
   },
   {
    "duration": 7,
    "start_time": "2023-01-11T13:50:37.816Z"
   },
   {
    "duration": 10,
    "start_time": "2023-01-11T13:50:40.116Z"
   },
   {
    "duration": 12,
    "start_time": "2023-01-11T13:50:42.469Z"
   },
   {
    "duration": 22,
    "start_time": "2023-01-11T13:50:48.073Z"
   },
   {
    "duration": 2448,
    "start_time": "2023-01-11T13:51:07.860Z"
   },
   {
    "duration": 2987,
    "start_time": "2023-01-11T13:52:42.733Z"
   },
   {
    "duration": 708,
    "start_time": "2023-01-11T13:54:07.121Z"
   },
   {
    "duration": 129,
    "start_time": "2023-01-11T13:54:07.831Z"
   },
   {
    "duration": 26,
    "start_time": "2023-01-11T13:54:07.963Z"
   },
   {
    "duration": 2374,
    "start_time": "2023-01-11T13:54:07.992Z"
   },
   {
    "duration": 20,
    "start_time": "2023-01-11T13:54:10.383Z"
   },
   {
    "duration": 9,
    "start_time": "2023-01-11T13:54:10.405Z"
   },
   {
    "duration": 22,
    "start_time": "2023-01-11T13:54:10.416Z"
   },
   {
    "duration": 47,
    "start_time": "2023-01-11T13:54:10.440Z"
   },
   {
    "duration": 68,
    "start_time": "2023-01-11T13:54:10.489Z"
   },
   {
    "duration": 8,
    "start_time": "2023-01-11T13:54:10.561Z"
   },
   {
    "duration": 17,
    "start_time": "2023-01-11T13:54:10.572Z"
   },
   {
    "duration": 28,
    "start_time": "2023-01-11T13:54:10.591Z"
   },
   {
    "duration": 11,
    "start_time": "2023-01-11T13:54:10.620Z"
   },
   {
    "duration": 44,
    "start_time": "2023-01-11T13:54:10.633Z"
   },
   {
    "duration": 2696,
    "start_time": "2023-01-11T13:54:10.679Z"
   },
   {
    "duration": 297,
    "start_time": "2023-01-11T13:54:13.376Z"
   },
   {
    "duration": 557,
    "start_time": "2023-01-11T13:54:13.675Z"
   },
   {
    "duration": 0,
    "start_time": "2023-01-11T13:54:14.234Z"
   },
   {
    "duration": 0,
    "start_time": "2023-01-11T13:54:14.235Z"
   },
   {
    "duration": 833,
    "start_time": "2023-01-11T13:55:03.439Z"
   },
   {
    "duration": 126,
    "start_time": "2023-01-11T13:55:04.275Z"
   },
   {
    "duration": 16,
    "start_time": "2023-01-11T13:55:04.403Z"
   },
   {
    "duration": 2385,
    "start_time": "2023-01-11T13:55:04.421Z"
   },
   {
    "duration": 17,
    "start_time": "2023-01-11T13:55:06.809Z"
   },
   {
    "duration": 8,
    "start_time": "2023-01-11T13:55:06.827Z"
   },
   {
    "duration": 17,
    "start_time": "2023-01-11T13:55:06.837Z"
   },
   {
    "duration": 38,
    "start_time": "2023-01-11T13:55:06.856Z"
   },
   {
    "duration": 78,
    "start_time": "2023-01-11T13:55:06.896Z"
   },
   {
    "duration": 10,
    "start_time": "2023-01-11T13:55:06.976Z"
   },
   {
    "duration": 11,
    "start_time": "2023-01-11T13:55:06.987Z"
   },
   {
    "duration": 13,
    "start_time": "2023-01-11T13:55:07.000Z"
   },
   {
    "duration": 10,
    "start_time": "2023-01-11T13:55:07.015Z"
   },
   {
    "duration": 52,
    "start_time": "2023-01-11T13:55:07.029Z"
   },
   {
    "duration": 2622,
    "start_time": "2023-01-11T13:55:07.083Z"
   },
   {
    "duration": 305,
    "start_time": "2023-01-11T13:55:09.707Z"
   },
   {
    "duration": 521,
    "start_time": "2023-01-11T13:55:10.014Z"
   },
   {
    "duration": 0,
    "start_time": "2023-01-11T13:55:10.537Z"
   },
   {
    "duration": 0,
    "start_time": "2023-01-11T13:55:10.538Z"
   },
   {
    "duration": 679,
    "start_time": "2023-01-11T13:56:26.892Z"
   },
   {
    "duration": 131,
    "start_time": "2023-01-11T13:56:27.573Z"
   },
   {
    "duration": 17,
    "start_time": "2023-01-11T13:56:27.706Z"
   },
   {
    "duration": 2281,
    "start_time": "2023-01-11T13:56:27.725Z"
   },
   {
    "duration": 19,
    "start_time": "2023-01-11T13:56:30.008Z"
   },
   {
    "duration": 8,
    "start_time": "2023-01-11T13:56:30.029Z"
   },
   {
    "duration": 29,
    "start_time": "2023-01-11T13:56:30.039Z"
   },
   {
    "duration": 36,
    "start_time": "2023-01-11T13:56:30.070Z"
   },
   {
    "duration": 61,
    "start_time": "2023-01-11T13:56:30.108Z"
   },
   {
    "duration": 21,
    "start_time": "2023-01-11T13:56:30.173Z"
   },
   {
    "duration": 21,
    "start_time": "2023-01-11T13:56:30.196Z"
   },
   {
    "duration": 28,
    "start_time": "2023-01-11T13:56:30.219Z"
   },
   {
    "duration": 38,
    "start_time": "2023-01-11T13:56:30.249Z"
   },
   {
    "duration": 43,
    "start_time": "2023-01-11T13:56:30.290Z"
   },
   {
    "duration": 2705,
    "start_time": "2023-01-11T13:56:30.335Z"
   },
   {
    "duration": 276,
    "start_time": "2023-01-11T13:56:33.042Z"
   },
   {
    "duration": 542,
    "start_time": "2023-01-11T13:56:33.319Z"
   },
   {
    "duration": 0,
    "start_time": "2023-01-11T13:56:33.864Z"
   },
   {
    "duration": 0,
    "start_time": "2023-01-11T13:56:33.865Z"
   },
   {
    "duration": 667,
    "start_time": "2023-01-11T13:58:46.500Z"
   },
   {
    "duration": 130,
    "start_time": "2023-01-11T13:59:03.850Z"
   },
   {
    "duration": 23,
    "start_time": "2023-01-11T13:59:07.149Z"
   },
   {
    "duration": 2282,
    "start_time": "2023-01-11T13:59:10.849Z"
   },
   {
    "duration": 29,
    "start_time": "2023-01-11T13:59:18.253Z"
   },
   {
    "duration": 9,
    "start_time": "2023-01-11T13:59:21.567Z"
   },
   {
    "duration": 16,
    "start_time": "2023-01-11T13:59:24.535Z"
   },
   {
    "duration": 31,
    "start_time": "2023-01-11T13:59:30.096Z"
   },
   {
    "duration": 43,
    "start_time": "2023-01-11T13:59:33.781Z"
   },
   {
    "duration": 5,
    "start_time": "2023-01-11T13:59:42.033Z"
   },
   {
    "duration": 10,
    "start_time": "2023-01-11T13:59:44.749Z"
   },
   {
    "duration": 10,
    "start_time": "2023-01-11T13:59:46.891Z"
   },
   {
    "duration": 8,
    "start_time": "2023-01-11T13:59:50.507Z"
   },
   {
    "duration": 20,
    "start_time": "2023-01-11T13:59:55.384Z"
   },
   {
    "duration": 24,
    "start_time": "2023-01-11T14:01:27.335Z"
   },
   {
    "duration": 17,
    "start_time": "2023-01-11T14:01:45.952Z"
   },
   {
    "duration": 7,
    "start_time": "2023-01-11T14:01:57.353Z"
   },
   {
    "duration": 758,
    "start_time": "2023-01-11T14:02:11.733Z"
   },
   {
    "duration": 128,
    "start_time": "2023-01-11T14:02:12.493Z"
   },
   {
    "duration": 17,
    "start_time": "2023-01-11T14:02:12.622Z"
   },
   {
    "duration": 2422,
    "start_time": "2023-01-11T14:02:12.641Z"
   },
   {
    "duration": 19,
    "start_time": "2023-01-11T14:02:15.065Z"
   },
   {
    "duration": 8,
    "start_time": "2023-01-11T14:02:15.085Z"
   },
   {
    "duration": 15,
    "start_time": "2023-01-11T14:02:15.095Z"
   },
   {
    "duration": 53,
    "start_time": "2023-01-11T14:02:15.112Z"
   },
   {
    "duration": 47,
    "start_time": "2023-01-11T14:02:15.167Z"
   },
   {
    "duration": 6,
    "start_time": "2023-01-11T14:02:15.216Z"
   },
   {
    "duration": 35,
    "start_time": "2023-01-11T14:02:15.224Z"
   },
   {
    "duration": 34,
    "start_time": "2023-01-11T14:02:15.262Z"
   },
   {
    "duration": 13,
    "start_time": "2023-01-11T14:02:15.298Z"
   },
   {
    "duration": 22,
    "start_time": "2023-01-11T14:02:15.313Z"
   },
   {
    "duration": 2675,
    "start_time": "2023-01-11T14:02:15.356Z"
   },
   {
    "duration": 280,
    "start_time": "2023-01-11T14:02:18.033Z"
   },
   {
    "duration": 513,
    "start_time": "2023-01-11T14:02:18.315Z"
   },
   {
    "duration": 0,
    "start_time": "2023-01-11T14:02:18.830Z"
   },
   {
    "duration": 0,
    "start_time": "2023-01-11T14:02:18.831Z"
   },
   {
    "duration": 775,
    "start_time": "2023-01-11T14:03:02.931Z"
   },
   {
    "duration": 143,
    "start_time": "2023-01-11T14:03:03.709Z"
   },
   {
    "duration": 22,
    "start_time": "2023-01-11T14:03:03.854Z"
   },
   {
    "duration": 2460,
    "start_time": "2023-01-11T14:03:03.878Z"
   },
   {
    "duration": 21,
    "start_time": "2023-01-11T14:03:06.341Z"
   },
   {
    "duration": 14,
    "start_time": "2023-01-11T14:03:06.365Z"
   },
   {
    "duration": 19,
    "start_time": "2023-01-11T14:03:06.381Z"
   },
   {
    "duration": 31,
    "start_time": "2023-01-11T14:03:06.402Z"
   },
   {
    "duration": 73,
    "start_time": "2023-01-11T14:03:06.435Z"
   },
   {
    "duration": 5,
    "start_time": "2023-01-11T14:03:06.510Z"
   },
   {
    "duration": 11,
    "start_time": "2023-01-11T14:03:06.517Z"
   },
   {
    "duration": 45,
    "start_time": "2023-01-11T14:03:06.530Z"
   },
   {
    "duration": 12,
    "start_time": "2023-01-11T14:03:06.576Z"
   },
   {
    "duration": 45,
    "start_time": "2023-01-11T14:03:06.590Z"
   },
   {
    "duration": 3242,
    "start_time": "2023-01-11T14:03:06.656Z"
   },
   {
    "duration": 314,
    "start_time": "2023-01-11T14:03:09.900Z"
   },
   {
    "duration": 1569,
    "start_time": "2023-01-11T14:03:10.216Z"
   },
   {
    "duration": 24,
    "start_time": "2023-01-11T14:03:11.786Z"
   },
   {
    "duration": 225,
    "start_time": "2023-01-11T14:03:11.811Z"
   },
   {
    "duration": 3145,
    "start_time": "2023-01-11T14:04:07.935Z"
   },
   {
    "duration": 2914,
    "start_time": "2023-01-11T14:37:40.464Z"
   },
   {
    "duration": 3101,
    "start_time": "2023-01-11T14:40:04.135Z"
   },
   {
    "duration": 720,
    "start_time": "2023-01-11T14:44:12.468Z"
   },
   {
    "duration": 128,
    "start_time": "2023-01-11T14:44:13.190Z"
   },
   {
    "duration": 19,
    "start_time": "2023-01-11T14:44:13.319Z"
   },
   {
    "duration": 2433,
    "start_time": "2023-01-11T14:44:13.341Z"
   },
   {
    "duration": 19,
    "start_time": "2023-01-11T14:44:15.776Z"
   },
   {
    "duration": 9,
    "start_time": "2023-01-11T14:44:15.796Z"
   },
   {
    "duration": 20,
    "start_time": "2023-01-11T14:44:15.806Z"
   },
   {
    "duration": 46,
    "start_time": "2023-01-11T14:44:15.827Z"
   },
   {
    "duration": 45,
    "start_time": "2023-01-11T14:44:15.876Z"
   },
   {
    "duration": 5,
    "start_time": "2023-01-11T14:44:15.924Z"
   },
   {
    "duration": 37,
    "start_time": "2023-01-11T14:44:15.931Z"
   },
   {
    "duration": 10,
    "start_time": "2023-01-11T14:44:15.970Z"
   },
   {
    "duration": 13,
    "start_time": "2023-01-11T14:44:15.982Z"
   },
   {
    "duration": 72,
    "start_time": "2023-01-11T14:44:15.996Z"
   },
   {
    "duration": 0,
    "start_time": "2023-01-11T14:44:16.069Z"
   },
   {
    "duration": 0,
    "start_time": "2023-01-11T14:44:16.071Z"
   },
   {
    "duration": 0,
    "start_time": "2023-01-11T14:44:16.072Z"
   },
   {
    "duration": 0,
    "start_time": "2023-01-11T14:44:16.073Z"
   },
   {
    "duration": 0,
    "start_time": "2023-01-11T14:44:16.074Z"
   },
   {
    "duration": 3603,
    "start_time": "2023-01-11T14:53:24.748Z"
   },
   {
    "duration": 695,
    "start_time": "2023-01-11T14:53:56.151Z"
   },
   {
    "duration": 118,
    "start_time": "2023-01-11T14:53:56.848Z"
   },
   {
    "duration": 17,
    "start_time": "2023-01-11T14:53:56.968Z"
   },
   {
    "duration": 2192,
    "start_time": "2023-01-11T14:53:56.987Z"
   },
   {
    "duration": 20,
    "start_time": "2023-01-11T14:53:59.181Z"
   },
   {
    "duration": 10,
    "start_time": "2023-01-11T14:53:59.203Z"
   },
   {
    "duration": 16,
    "start_time": "2023-01-11T14:53:59.216Z"
   },
   {
    "duration": 51,
    "start_time": "2023-01-11T14:53:59.234Z"
   },
   {
    "duration": 46,
    "start_time": "2023-01-11T14:53:59.287Z"
   },
   {
    "duration": 6,
    "start_time": "2023-01-11T14:53:59.356Z"
   },
   {
    "duration": 11,
    "start_time": "2023-01-11T14:53:59.364Z"
   },
   {
    "duration": 12,
    "start_time": "2023-01-11T14:53:59.377Z"
   },
   {
    "duration": 18,
    "start_time": "2023-01-11T14:53:59.391Z"
   },
   {
    "duration": 90,
    "start_time": "2023-01-11T14:53:59.411Z"
   },
   {
    "duration": 3607,
    "start_time": "2023-01-11T14:53:59.503Z"
   },
   {
    "duration": 0,
    "start_time": "2023-01-11T14:54:03.112Z"
   },
   {
    "duration": 0,
    "start_time": "2023-01-11T14:54:03.113Z"
   },
   {
    "duration": 0,
    "start_time": "2023-01-11T14:54:03.115Z"
   },
   {
    "duration": 0,
    "start_time": "2023-01-11T14:54:03.115Z"
   },
   {
    "duration": 3548,
    "start_time": "2023-01-11T14:55:21.613Z"
   },
   {
    "duration": 667,
    "start_time": "2023-01-11T15:02:38.102Z"
   },
   {
    "duration": 115,
    "start_time": "2023-01-11T15:02:38.771Z"
   },
   {
    "duration": 16,
    "start_time": "2023-01-11T15:02:38.887Z"
   },
   {
    "duration": 2164,
    "start_time": "2023-01-11T15:02:38.906Z"
   },
   {
    "duration": 17,
    "start_time": "2023-01-11T15:02:41.072Z"
   },
   {
    "duration": 8,
    "start_time": "2023-01-11T15:02:41.091Z"
   },
   {
    "duration": 14,
    "start_time": "2023-01-11T15:02:41.101Z"
   },
   {
    "duration": 51,
    "start_time": "2023-01-11T15:02:41.117Z"
   },
   {
    "duration": 44,
    "start_time": "2023-01-11T15:02:41.170Z"
   },
   {
    "duration": 6,
    "start_time": "2023-01-11T15:02:41.217Z"
   },
   {
    "duration": 31,
    "start_time": "2023-01-11T15:02:41.224Z"
   },
   {
    "duration": 10,
    "start_time": "2023-01-11T15:02:41.256Z"
   },
   {
    "duration": 13,
    "start_time": "2023-01-11T15:02:41.268Z"
   },
   {
    "duration": 117,
    "start_time": "2023-01-11T15:02:41.283Z"
   },
   {
    "duration": 0,
    "start_time": "2023-01-11T15:02:41.402Z"
   },
   {
    "duration": 0,
    "start_time": "2023-01-11T15:02:41.403Z"
   },
   {
    "duration": 0,
    "start_time": "2023-01-11T15:02:41.404Z"
   },
   {
    "duration": 0,
    "start_time": "2023-01-11T15:02:41.406Z"
   },
   {
    "duration": 0,
    "start_time": "2023-01-11T15:02:41.408Z"
   },
   {
    "duration": 762,
    "start_time": "2023-01-11T15:04:37.923Z"
   },
   {
    "duration": 131,
    "start_time": "2023-01-11T15:04:38.687Z"
   },
   {
    "duration": 20,
    "start_time": "2023-01-11T15:04:38.821Z"
   },
   {
    "duration": 2198,
    "start_time": "2023-01-11T15:04:38.844Z"
   },
   {
    "duration": 21,
    "start_time": "2023-01-11T15:04:41.044Z"
   },
   {
    "duration": 10,
    "start_time": "2023-01-11T15:04:41.067Z"
   },
   {
    "duration": 24,
    "start_time": "2023-01-11T15:04:41.080Z"
   },
   {
    "duration": 59,
    "start_time": "2023-01-11T15:04:41.106Z"
   },
   {
    "duration": 46,
    "start_time": "2023-01-11T15:04:41.167Z"
   },
   {
    "duration": 6,
    "start_time": "2023-01-11T15:04:41.216Z"
   },
   {
    "duration": 31,
    "start_time": "2023-01-11T15:04:41.224Z"
   },
   {
    "duration": 10,
    "start_time": "2023-01-11T15:04:41.257Z"
   },
   {
    "duration": 13,
    "start_time": "2023-01-11T15:04:41.269Z"
   },
   {
    "duration": 45,
    "start_time": "2023-01-11T15:04:41.284Z"
   },
   {
    "duration": 4003,
    "start_time": "2023-01-11T15:04:41.355Z"
   },
   {
    "duration": 0,
    "start_time": "2023-01-11T15:04:45.361Z"
   },
   {
    "duration": 0,
    "start_time": "2023-01-11T15:04:45.363Z"
   },
   {
    "duration": 0,
    "start_time": "2023-01-11T15:04:45.365Z"
   },
   {
    "duration": 0,
    "start_time": "2023-01-11T15:04:45.366Z"
   },
   {
    "duration": 3152,
    "start_time": "2023-01-11T15:09:52.847Z"
   },
   {
    "duration": 3251,
    "start_time": "2023-01-11T15:11:22.081Z"
   },
   {
    "duration": 3068,
    "start_time": "2023-01-11T15:15:19.512Z"
   },
   {
    "duration": 3334,
    "start_time": "2023-01-11T15:15:44.279Z"
   },
   {
    "duration": 2882,
    "start_time": "2023-01-11T15:18:36.734Z"
   },
   {
    "duration": 2987,
    "start_time": "2023-01-11T15:19:31.766Z"
   },
   {
    "duration": 3238,
    "start_time": "2023-01-11T15:22:42.361Z"
   },
   {
    "duration": 3287,
    "start_time": "2023-01-11T15:24:24.450Z"
   },
   {
    "duration": 671,
    "start_time": "2023-01-11T15:28:13.668Z"
   },
   {
    "duration": 132,
    "start_time": "2023-01-11T15:28:14.342Z"
   },
   {
    "duration": 25,
    "start_time": "2023-01-11T15:28:14.477Z"
   },
   {
    "duration": 2361,
    "start_time": "2023-01-11T15:28:14.505Z"
   },
   {
    "duration": 20,
    "start_time": "2023-01-11T15:28:16.869Z"
   },
   {
    "duration": 12,
    "start_time": "2023-01-11T15:28:16.891Z"
   },
   {
    "duration": 27,
    "start_time": "2023-01-11T15:28:16.905Z"
   },
   {
    "duration": 48,
    "start_time": "2023-01-11T15:28:16.936Z"
   },
   {
    "duration": 48,
    "start_time": "2023-01-11T15:28:16.986Z"
   },
   {
    "duration": 10,
    "start_time": "2023-01-11T15:28:17.054Z"
   },
   {
    "duration": 11,
    "start_time": "2023-01-11T15:28:17.066Z"
   },
   {
    "duration": 20,
    "start_time": "2023-01-11T15:28:17.079Z"
   },
   {
    "duration": 11,
    "start_time": "2023-01-11T15:28:17.101Z"
   },
   {
    "duration": 65,
    "start_time": "2023-01-11T15:28:17.114Z"
   },
   {
    "duration": 3145,
    "start_time": "2023-01-11T15:28:17.181Z"
   },
   {
    "duration": 319,
    "start_time": "2023-01-11T15:28:20.328Z"
   },
   {
    "duration": 1501,
    "start_time": "2023-01-11T15:28:20.655Z"
   },
   {
    "duration": 24,
    "start_time": "2023-01-11T15:28:22.158Z"
   },
   {
    "duration": 213,
    "start_time": "2023-01-11T15:28:22.185Z"
   },
   {
    "duration": 655,
    "start_time": "2023-01-11T15:48:11.266Z"
   },
   {
    "duration": 118,
    "start_time": "2023-01-11T15:48:11.923Z"
   },
   {
    "duration": 18,
    "start_time": "2023-01-11T15:48:12.043Z"
   },
   {
    "duration": 2171,
    "start_time": "2023-01-11T15:48:12.063Z"
   },
   {
    "duration": 19,
    "start_time": "2023-01-11T15:48:14.237Z"
   },
   {
    "duration": 9,
    "start_time": "2023-01-11T15:48:14.258Z"
   },
   {
    "duration": 17,
    "start_time": "2023-01-11T15:48:14.269Z"
   },
   {
    "duration": 29,
    "start_time": "2023-01-11T15:48:14.288Z"
   },
   {
    "duration": 71,
    "start_time": "2023-01-11T15:48:14.319Z"
   },
   {
    "duration": 5,
    "start_time": "2023-01-11T15:48:14.393Z"
   },
   {
    "duration": 13,
    "start_time": "2023-01-11T15:48:14.400Z"
   },
   {
    "duration": 10,
    "start_time": "2023-01-11T15:48:14.415Z"
   },
   {
    "duration": 38,
    "start_time": "2023-01-11T15:48:14.426Z"
   },
   {
    "duration": 41,
    "start_time": "2023-01-11T15:48:14.467Z"
   },
   {
    "duration": 3243,
    "start_time": "2023-01-11T15:48:14.510Z"
   },
   {
    "duration": 0,
    "start_time": "2023-01-11T15:48:17.755Z"
   },
   {
    "duration": 0,
    "start_time": "2023-01-11T15:48:17.757Z"
   },
   {
    "duration": 0,
    "start_time": "2023-01-11T15:48:17.758Z"
   },
   {
    "duration": 0,
    "start_time": "2023-01-11T15:48:17.759Z"
   },
   {
    "duration": 654,
    "start_time": "2023-01-11T15:48:29.985Z"
   },
   {
    "duration": 127,
    "start_time": "2023-01-11T15:48:30.641Z"
   },
   {
    "duration": 17,
    "start_time": "2023-01-11T15:48:30.770Z"
   },
   {
    "duration": 2153,
    "start_time": "2023-01-11T15:48:30.790Z"
   },
   {
    "duration": 26,
    "start_time": "2023-01-11T15:48:32.945Z"
   },
   {
    "duration": 10,
    "start_time": "2023-01-11T15:48:32.974Z"
   },
   {
    "duration": 18,
    "start_time": "2023-01-11T15:48:32.987Z"
   },
   {
    "duration": 59,
    "start_time": "2023-01-11T15:48:33.007Z"
   },
   {
    "duration": 45,
    "start_time": "2023-01-11T15:48:33.068Z"
   },
   {
    "duration": 8,
    "start_time": "2023-01-11T15:48:33.116Z"
   },
   {
    "duration": 10,
    "start_time": "2023-01-11T15:48:33.125Z"
   },
   {
    "duration": 28,
    "start_time": "2023-01-11T15:48:33.136Z"
   },
   {
    "duration": 13,
    "start_time": "2023-01-11T15:48:33.165Z"
   },
   {
    "duration": 43,
    "start_time": "2023-01-11T15:48:33.179Z"
   },
   {
    "duration": 3150,
    "start_time": "2023-01-11T15:48:33.224Z"
   },
   {
    "duration": 307,
    "start_time": "2023-01-11T15:48:36.376Z"
   },
   {
    "duration": 1531,
    "start_time": "2023-01-11T15:48:36.685Z"
   },
   {
    "duration": 24,
    "start_time": "2023-01-11T15:48:38.219Z"
   },
   {
    "duration": 206,
    "start_time": "2023-01-11T15:48:38.255Z"
   },
   {
    "duration": 679,
    "start_time": "2023-01-11T15:49:04.550Z"
   },
   {
    "duration": 112,
    "start_time": "2023-01-11T15:49:05.230Z"
   },
   {
    "duration": 22,
    "start_time": "2023-01-11T15:49:05.344Z"
   },
   {
    "duration": 2118,
    "start_time": "2023-01-11T15:49:05.368Z"
   },
   {
    "duration": 19,
    "start_time": "2023-01-11T15:49:07.488Z"
   },
   {
    "duration": 8,
    "start_time": "2023-01-11T15:49:07.509Z"
   },
   {
    "duration": 17,
    "start_time": "2023-01-11T15:49:07.518Z"
   },
   {
    "duration": 30,
    "start_time": "2023-01-11T15:49:07.538Z"
   },
   {
    "duration": 46,
    "start_time": "2023-01-11T15:49:07.571Z"
   },
   {
    "duration": 6,
    "start_time": "2023-01-11T15:49:07.621Z"
   },
   {
    "duration": 29,
    "start_time": "2023-01-11T15:49:07.629Z"
   },
   {
    "duration": 14,
    "start_time": "2023-01-11T15:49:07.660Z"
   },
   {
    "duration": 16,
    "start_time": "2023-01-11T15:49:07.676Z"
   },
   {
    "duration": 88,
    "start_time": "2023-01-11T15:49:07.695Z"
   },
   {
    "duration": 3026,
    "start_time": "2023-01-11T15:49:07.785Z"
   },
   {
    "duration": 291,
    "start_time": "2023-01-11T15:49:10.813Z"
   },
   {
    "duration": 1391,
    "start_time": "2023-01-11T15:49:11.106Z"
   },
   {
    "duration": 25,
    "start_time": "2023-01-11T15:49:12.499Z"
   },
   {
    "duration": 212,
    "start_time": "2023-01-11T15:49:12.526Z"
   },
   {
    "duration": 727,
    "start_time": "2023-01-11T15:50:18.033Z"
   },
   {
    "duration": 119,
    "start_time": "2023-01-11T15:50:18.762Z"
   },
   {
    "duration": 18,
    "start_time": "2023-01-11T15:50:18.883Z"
   },
   {
    "duration": 2475,
    "start_time": "2023-01-11T15:50:18.904Z"
   },
   {
    "duration": 22,
    "start_time": "2023-01-11T15:50:21.381Z"
   },
   {
    "duration": 10,
    "start_time": "2023-01-11T15:50:21.405Z"
   },
   {
    "duration": 23,
    "start_time": "2023-01-11T15:50:21.417Z"
   },
   {
    "duration": 36,
    "start_time": "2023-01-11T15:50:21.443Z"
   },
   {
    "duration": 45,
    "start_time": "2023-01-11T15:50:21.482Z"
   },
   {
    "duration": 27,
    "start_time": "2023-01-11T15:50:21.529Z"
   },
   {
    "duration": 19,
    "start_time": "2023-01-11T15:50:21.559Z"
   },
   {
    "duration": 11,
    "start_time": "2023-01-11T15:50:21.580Z"
   },
   {
    "duration": 13,
    "start_time": "2023-01-11T15:50:21.593Z"
   },
   {
    "duration": 71,
    "start_time": "2023-01-11T15:50:21.608Z"
   },
   {
    "duration": 3386,
    "start_time": "2023-01-11T15:50:21.682Z"
   },
   {
    "duration": 300,
    "start_time": "2023-01-11T15:50:25.070Z"
   },
   {
    "duration": 1464,
    "start_time": "2023-01-11T15:50:25.372Z"
   },
   {
    "duration": 34,
    "start_time": "2023-01-11T15:50:26.838Z"
   },
   {
    "duration": 209,
    "start_time": "2023-01-11T15:50:26.874Z"
   },
   {
    "duration": 738,
    "start_time": "2023-01-11T15:51:21.413Z"
   },
   {
    "duration": 118,
    "start_time": "2023-01-11T15:51:22.154Z"
   },
   {
    "duration": 17,
    "start_time": "2023-01-11T15:51:22.277Z"
   },
   {
    "duration": 2266,
    "start_time": "2023-01-11T15:51:22.297Z"
   },
   {
    "duration": 23,
    "start_time": "2023-01-11T15:51:24.565Z"
   },
   {
    "duration": 10,
    "start_time": "2023-01-11T15:51:24.590Z"
   },
   {
    "duration": 28,
    "start_time": "2023-01-11T15:51:24.602Z"
   },
   {
    "duration": 54,
    "start_time": "2023-01-11T15:51:24.632Z"
   },
   {
    "duration": 74,
    "start_time": "2023-01-11T15:51:24.690Z"
   },
   {
    "duration": 7,
    "start_time": "2023-01-11T15:51:24.767Z"
   },
   {
    "duration": 12,
    "start_time": "2023-01-11T15:51:24.777Z"
   },
   {
    "duration": 15,
    "start_time": "2023-01-11T15:51:24.792Z"
   },
   {
    "duration": 16,
    "start_time": "2023-01-11T15:51:24.809Z"
   },
   {
    "duration": 66,
    "start_time": "2023-01-11T15:51:24.828Z"
   },
   {
    "duration": 3193,
    "start_time": "2023-01-11T15:51:24.896Z"
   },
   {
    "duration": 0,
    "start_time": "2023-01-11T15:51:28.090Z"
   },
   {
    "duration": 0,
    "start_time": "2023-01-11T15:51:28.091Z"
   },
   {
    "duration": 0,
    "start_time": "2023-01-11T15:51:28.092Z"
   },
   {
    "duration": 0,
    "start_time": "2023-01-11T15:51:28.094Z"
   },
   {
    "duration": 733,
    "start_time": "2023-01-11T15:53:00.536Z"
   },
   {
    "duration": 125,
    "start_time": "2023-01-11T15:53:01.272Z"
   },
   {
    "duration": 22,
    "start_time": "2023-01-11T15:53:01.399Z"
   },
   {
    "duration": 2222,
    "start_time": "2023-01-11T15:53:01.424Z"
   },
   {
    "duration": 21,
    "start_time": "2023-01-11T15:53:03.648Z"
   },
   {
    "duration": 11,
    "start_time": "2023-01-11T15:53:03.671Z"
   },
   {
    "duration": 26,
    "start_time": "2023-01-11T15:53:03.685Z"
   },
   {
    "duration": 49,
    "start_time": "2023-01-11T15:53:03.713Z"
   },
   {
    "duration": 51,
    "start_time": "2023-01-11T15:53:03.765Z"
   },
   {
    "duration": 6,
    "start_time": "2023-01-11T15:53:03.819Z"
   },
   {
    "duration": 33,
    "start_time": "2023-01-11T15:53:03.827Z"
   },
   {
    "duration": 10,
    "start_time": "2023-01-11T15:53:03.862Z"
   },
   {
    "duration": 13,
    "start_time": "2023-01-11T15:53:03.874Z"
   },
   {
    "duration": 66,
    "start_time": "2023-01-11T15:53:03.889Z"
   },
   {
    "duration": 51,
    "start_time": "2023-01-11T15:53:03.957Z"
   },
   {
    "duration": 0,
    "start_time": "2023-01-11T15:53:04.010Z"
   },
   {
    "duration": 0,
    "start_time": "2023-01-11T15:53:04.011Z"
   },
   {
    "duration": 0,
    "start_time": "2023-01-11T15:53:04.012Z"
   },
   {
    "duration": 0,
    "start_time": "2023-01-11T15:53:04.014Z"
   },
   {
    "duration": 680,
    "start_time": "2023-01-11T15:54:18.511Z"
   },
   {
    "duration": 180,
    "start_time": "2023-01-11T15:54:19.194Z"
   },
   {
    "duration": 18,
    "start_time": "2023-01-11T15:54:19.376Z"
   },
   {
    "duration": 2198,
    "start_time": "2023-01-11T15:54:19.396Z"
   },
   {
    "duration": 18,
    "start_time": "2023-01-11T15:54:21.597Z"
   },
   {
    "duration": 10,
    "start_time": "2023-01-11T15:54:21.617Z"
   },
   {
    "duration": 20,
    "start_time": "2023-01-11T15:54:21.628Z"
   },
   {
    "duration": 30,
    "start_time": "2023-01-11T15:54:21.649Z"
   },
   {
    "duration": 46,
    "start_time": "2023-01-11T15:54:21.681Z"
   },
   {
    "duration": 6,
    "start_time": "2023-01-11T15:54:21.728Z"
   },
   {
    "duration": 25,
    "start_time": "2023-01-11T15:54:21.735Z"
   },
   {
    "duration": 10,
    "start_time": "2023-01-11T15:54:21.762Z"
   },
   {
    "duration": 13,
    "start_time": "2023-01-11T15:54:21.774Z"
   },
   {
    "duration": 69,
    "start_time": "2023-01-11T15:54:21.790Z"
   },
   {
    "duration": 3244,
    "start_time": "2023-01-11T15:54:21.861Z"
   },
   {
    "duration": 302,
    "start_time": "2023-01-11T15:54:25.107Z"
   },
   {
    "duration": 1504,
    "start_time": "2023-01-11T15:54:25.411Z"
   },
   {
    "duration": 24,
    "start_time": "2023-01-11T15:54:26.917Z"
   },
   {
    "duration": 212,
    "start_time": "2023-01-11T15:54:26.943Z"
   },
   {
    "duration": 686,
    "start_time": "2023-01-11T16:02:52.188Z"
   },
   {
    "duration": 120,
    "start_time": "2023-01-11T16:02:52.876Z"
   },
   {
    "duration": 18,
    "start_time": "2023-01-11T16:02:52.998Z"
   },
   {
    "duration": 2350,
    "start_time": "2023-01-11T16:02:53.018Z"
   },
   {
    "duration": 17,
    "start_time": "2023-01-11T16:02:55.371Z"
   },
   {
    "duration": 8,
    "start_time": "2023-01-11T16:02:55.390Z"
   },
   {
    "duration": 16,
    "start_time": "2023-01-11T16:02:55.400Z"
   },
   {
    "duration": 52,
    "start_time": "2023-01-11T16:02:55.418Z"
   },
   {
    "duration": 40,
    "start_time": "2023-01-11T16:02:55.471Z"
   },
   {
    "duration": 6,
    "start_time": "2023-01-11T16:02:55.513Z"
   },
   {
    "duration": 10,
    "start_time": "2023-01-11T16:02:55.521Z"
   },
   {
    "duration": 9,
    "start_time": "2023-01-11T16:02:55.532Z"
   },
   {
    "duration": 16,
    "start_time": "2023-01-11T16:02:55.556Z"
   },
   {
    "duration": 40,
    "start_time": "2023-01-11T16:02:55.575Z"
   },
   {
    "duration": 3244,
    "start_time": "2023-01-11T16:02:55.617Z"
   },
   {
    "duration": 320,
    "start_time": "2023-01-11T16:02:58.867Z"
   },
   {
    "duration": 1555,
    "start_time": "2023-01-11T16:02:59.189Z"
   },
   {
    "duration": 33,
    "start_time": "2023-01-11T16:03:00.746Z"
   },
   {
    "duration": 215,
    "start_time": "2023-01-11T16:03:00.781Z"
   },
   {
    "duration": 3045,
    "start_time": "2023-01-11T16:03:25.367Z"
   },
   {
    "duration": 82,
    "start_time": "2023-01-11T16:18:17.181Z"
   },
   {
    "duration": 794,
    "start_time": "2023-01-11T16:21:10.020Z"
   },
   {
    "duration": 140,
    "start_time": "2023-01-11T16:21:17.237Z"
   },
   {
    "duration": 700,
    "start_time": "2023-01-11T16:58:56.249Z"
   },
   {
    "duration": 121,
    "start_time": "2023-01-11T16:58:56.952Z"
   },
   {
    "duration": 25,
    "start_time": "2023-01-11T16:58:57.078Z"
   },
   {
    "duration": 2233,
    "start_time": "2023-01-11T16:58:57.105Z"
   },
   {
    "duration": 18,
    "start_time": "2023-01-11T16:58:59.340Z"
   },
   {
    "duration": 8,
    "start_time": "2023-01-11T16:58:59.360Z"
   },
   {
    "duration": 17,
    "start_time": "2023-01-11T16:58:59.370Z"
   },
   {
    "duration": 30,
    "start_time": "2023-01-11T16:58:59.389Z"
   },
   {
    "duration": 42,
    "start_time": "2023-01-11T16:58:59.454Z"
   },
   {
    "duration": 5,
    "start_time": "2023-01-11T16:58:59.498Z"
   },
   {
    "duration": 10,
    "start_time": "2023-01-11T16:58:59.505Z"
   },
   {
    "duration": 41,
    "start_time": "2023-01-11T16:58:59.517Z"
   },
   {
    "duration": 18,
    "start_time": "2023-01-11T16:58:59.561Z"
   },
   {
    "duration": 73,
    "start_time": "2023-01-11T16:58:59.582Z"
   },
   {
    "duration": 152,
    "start_time": "2023-01-11T16:58:59.657Z"
   },
   {
    "duration": 166,
    "start_time": "2023-01-11T16:58:59.811Z"
   },
   {
    "duration": 170,
    "start_time": "2023-01-11T16:58:59.979Z"
   },
   {
    "duration": 165,
    "start_time": "2023-01-11T16:59:00.154Z"
   },
   {
    "duration": 167,
    "start_time": "2023-01-11T16:59:00.322Z"
   },
   {
    "duration": 855,
    "start_time": "2023-01-11T16:59:00.492Z"
   },
   {
    "duration": 0,
    "start_time": "2023-01-11T16:59:01.350Z"
   },
   {
    "duration": 0,
    "start_time": "2023-01-11T16:59:01.351Z"
   },
   {
    "duration": 0,
    "start_time": "2023-01-11T16:59:01.353Z"
   },
   {
    "duration": 0,
    "start_time": "2023-01-11T16:59:01.354Z"
   },
   {
    "duration": 0,
    "start_time": "2023-01-11T16:59:01.355Z"
   },
   {
    "duration": 0,
    "start_time": "2023-01-11T16:59:01.356Z"
   },
   {
    "duration": 0,
    "start_time": "2023-01-11T16:59:01.357Z"
   },
   {
    "duration": 0,
    "start_time": "2023-01-11T16:59:01.358Z"
   },
   {
    "duration": 0,
    "start_time": "2023-01-11T16:59:01.359Z"
   },
   {
    "duration": 1,
    "start_time": "2023-01-11T16:59:01.360Z"
   },
   {
    "duration": 0,
    "start_time": "2023-01-11T16:59:01.362Z"
   },
   {
    "duration": 0,
    "start_time": "2023-01-11T16:59:01.364Z"
   },
   {
    "duration": 161,
    "start_time": "2023-01-11T17:01:12.815Z"
   },
   {
    "duration": 268,
    "start_time": "2023-01-11T17:01:12.979Z"
   },
   {
    "duration": 119,
    "start_time": "2023-01-11T17:01:13.249Z"
   },
   {
    "duration": 135,
    "start_time": "2023-01-11T17:01:13.370Z"
   },
   {
    "duration": 145,
    "start_time": "2023-01-11T17:01:13.507Z"
   },
   {
    "duration": 164,
    "start_time": "2023-01-11T17:01:13.655Z"
   },
   {
    "duration": 149,
    "start_time": "2023-01-11T17:01:13.821Z"
   },
   {
    "duration": 146,
    "start_time": "2023-01-11T17:01:13.972Z"
   },
   {
    "duration": 320,
    "start_time": "2023-01-11T17:01:14.154Z"
   },
   {
    "duration": 1438,
    "start_time": "2023-01-11T17:01:14.478Z"
   },
   {
    "duration": 8,
    "start_time": "2023-01-11T17:01:15.918Z"
   },
   {
    "duration": 37,
    "start_time": "2023-01-11T17:01:15.927Z"
   },
   {
    "duration": 189,
    "start_time": "2023-01-11T17:01:15.966Z"
   },
   {
    "duration": 675,
    "start_time": "2023-01-11T17:03:38.615Z"
   },
   {
    "duration": 118,
    "start_time": "2023-01-11T17:03:39.293Z"
   },
   {
    "duration": 19,
    "start_time": "2023-01-11T17:03:39.412Z"
   },
   {
    "duration": 2130,
    "start_time": "2023-01-11T17:03:39.433Z"
   },
   {
    "duration": 17,
    "start_time": "2023-01-11T17:03:41.566Z"
   },
   {
    "duration": 9,
    "start_time": "2023-01-11T17:03:41.585Z"
   },
   {
    "duration": 19,
    "start_time": "2023-01-11T17:03:41.596Z"
   },
   {
    "duration": 53,
    "start_time": "2023-01-11T17:03:41.617Z"
   },
   {
    "duration": 45,
    "start_time": "2023-01-11T17:03:41.672Z"
   },
   {
    "duration": 5,
    "start_time": "2023-01-11T17:03:41.719Z"
   },
   {
    "duration": 32,
    "start_time": "2023-01-11T17:03:41.726Z"
   },
   {
    "duration": 9,
    "start_time": "2023-01-11T17:03:41.760Z"
   },
   {
    "duration": 13,
    "start_time": "2023-01-11T17:03:41.771Z"
   },
   {
    "duration": 45,
    "start_time": "2023-01-11T17:03:41.787Z"
   },
   {
    "duration": 161,
    "start_time": "2023-01-11T17:03:41.855Z"
   },
   {
    "duration": 161,
    "start_time": "2023-01-11T17:03:42.017Z"
   },
   {
    "duration": 176,
    "start_time": "2023-01-11T17:03:42.180Z"
   },
   {
    "duration": 188,
    "start_time": "2023-01-11T17:03:42.358Z"
   },
   {
    "duration": 158,
    "start_time": "2023-01-11T17:03:42.548Z"
   },
   {
    "duration": 149,
    "start_time": "2023-01-11T17:03:42.707Z"
   },
   {
    "duration": 268,
    "start_time": "2023-01-11T17:03:42.857Z"
   },
   {
    "duration": 128,
    "start_time": "2023-01-11T17:03:43.127Z"
   },
   {
    "duration": 145,
    "start_time": "2023-01-11T17:03:43.257Z"
   },
   {
    "duration": 146,
    "start_time": "2023-01-11T17:03:43.404Z"
   },
   {
    "duration": 156,
    "start_time": "2023-01-11T17:03:43.555Z"
   },
   {
    "duration": 174,
    "start_time": "2023-01-11T17:03:43.713Z"
   },
   {
    "duration": 161,
    "start_time": "2023-01-11T17:03:43.888Z"
   },
   {
    "duration": 289,
    "start_time": "2023-01-11T17:03:44.050Z"
   },
   {
    "duration": 1516,
    "start_time": "2023-01-11T17:03:44.341Z"
   },
   {
    "duration": 11,
    "start_time": "2023-01-11T17:03:45.859Z"
   },
   {
    "duration": 24,
    "start_time": "2023-01-11T17:03:45.872Z"
   },
   {
    "duration": 208,
    "start_time": "2023-01-11T17:03:45.898Z"
   },
   {
    "duration": 679,
    "start_time": "2023-01-11T17:08:55.911Z"
   },
   {
    "duration": 118,
    "start_time": "2023-01-11T17:08:56.592Z"
   },
   {
    "duration": 16,
    "start_time": "2023-01-11T17:08:56.712Z"
   },
   {
    "duration": 2120,
    "start_time": "2023-01-11T17:08:56.730Z"
   },
   {
    "duration": 17,
    "start_time": "2023-01-11T17:08:58.853Z"
   },
   {
    "duration": 8,
    "start_time": "2023-01-11T17:08:58.872Z"
   },
   {
    "duration": 18,
    "start_time": "2023-01-11T17:08:58.882Z"
   },
   {
    "duration": 53,
    "start_time": "2023-01-11T17:08:58.903Z"
   },
   {
    "duration": 51,
    "start_time": "2023-01-11T17:08:58.958Z"
   },
   {
    "duration": 6,
    "start_time": "2023-01-11T17:08:59.011Z"
   },
   {
    "duration": 10,
    "start_time": "2023-01-11T17:08:59.019Z"
   },
   {
    "duration": 28,
    "start_time": "2023-01-11T17:08:59.030Z"
   },
   {
    "duration": 12,
    "start_time": "2023-01-11T17:08:59.060Z"
   },
   {
    "duration": 43,
    "start_time": "2023-01-11T17:08:59.075Z"
   },
   {
    "duration": 171,
    "start_time": "2023-01-11T17:08:59.120Z"
   },
   {
    "duration": 151,
    "start_time": "2023-01-11T17:08:59.293Z"
   },
   {
    "duration": 165,
    "start_time": "2023-01-11T17:08:59.446Z"
   },
   {
    "duration": 189,
    "start_time": "2023-01-11T17:08:59.613Z"
   },
   {
    "duration": 147,
    "start_time": "2023-01-11T17:08:59.804Z"
   },
   {
    "duration": 139,
    "start_time": "2023-01-11T17:08:59.954Z"
   },
   {
    "duration": 276,
    "start_time": "2023-01-11T17:09:00.095Z"
   },
   {
    "duration": 133,
    "start_time": "2023-01-11T17:09:00.372Z"
   },
   {
    "duration": 150,
    "start_time": "2023-01-11T17:09:00.506Z"
   },
   {
    "duration": 151,
    "start_time": "2023-01-11T17:09:00.659Z"
   },
   {
    "duration": 145,
    "start_time": "2023-01-11T17:09:00.812Z"
   },
   {
    "duration": 164,
    "start_time": "2023-01-11T17:09:00.959Z"
   },
   {
    "duration": 172,
    "start_time": "2023-01-11T17:09:01.125Z"
   },
   {
    "duration": 301,
    "start_time": "2023-01-11T17:09:01.300Z"
   },
   {
    "duration": 1478,
    "start_time": "2023-01-11T17:09:01.602Z"
   },
   {
    "duration": 11,
    "start_time": "2023-01-11T17:09:03.081Z"
   },
   {
    "duration": 24,
    "start_time": "2023-01-11T17:09:03.094Z"
   },
   {
    "duration": 260,
    "start_time": "2023-01-11T17:09:03.119Z"
   },
   {
    "duration": 694,
    "start_time": "2023-01-11T17:14:12.242Z"
   },
   {
    "duration": 132,
    "start_time": "2023-01-11T17:14:12.939Z"
   },
   {
    "duration": 17,
    "start_time": "2023-01-11T17:14:13.073Z"
   },
   {
    "duration": 2331,
    "start_time": "2023-01-11T17:14:13.092Z"
   },
   {
    "duration": 21,
    "start_time": "2023-01-11T17:14:15.425Z"
   },
   {
    "duration": 11,
    "start_time": "2023-01-11T17:14:15.449Z"
   },
   {
    "duration": 16,
    "start_time": "2023-01-11T17:14:15.462Z"
   },
   {
    "duration": 32,
    "start_time": "2023-01-11T17:14:15.480Z"
   },
   {
    "duration": 68,
    "start_time": "2023-01-11T17:14:15.514Z"
   },
   {
    "duration": 6,
    "start_time": "2023-01-11T17:14:15.585Z"
   },
   {
    "duration": 17,
    "start_time": "2023-01-11T17:14:15.592Z"
   },
   {
    "duration": 14,
    "start_time": "2023-01-11T17:14:15.611Z"
   },
   {
    "duration": 43,
    "start_time": "2023-01-11T17:14:15.627Z"
   },
   {
    "duration": 46,
    "start_time": "2023-01-11T17:14:15.673Z"
   },
   {
    "duration": 184,
    "start_time": "2023-01-11T17:14:15.721Z"
   },
   {
    "duration": 157,
    "start_time": "2023-01-11T17:14:15.907Z"
   },
   {
    "duration": 165,
    "start_time": "2023-01-11T17:14:16.066Z"
   },
   {
    "duration": 189,
    "start_time": "2023-01-11T17:14:16.233Z"
   },
   {
    "duration": 154,
    "start_time": "2023-01-11T17:14:16.424Z"
   },
   {
    "duration": 147,
    "start_time": "2023-01-11T17:14:16.580Z"
   },
   {
    "duration": 277,
    "start_time": "2023-01-11T17:14:16.728Z"
   },
   {
    "duration": 125,
    "start_time": "2023-01-11T17:14:17.007Z"
   },
   {
    "duration": 151,
    "start_time": "2023-01-11T17:14:17.134Z"
   },
   {
    "duration": 162,
    "start_time": "2023-01-11T17:14:17.287Z"
   },
   {
    "duration": 145,
    "start_time": "2023-01-11T17:14:17.454Z"
   },
   {
    "duration": 169,
    "start_time": "2023-01-11T17:14:17.601Z"
   },
   {
    "duration": 172,
    "start_time": "2023-01-11T17:14:17.772Z"
   },
   {
    "duration": 295,
    "start_time": "2023-01-11T17:14:17.949Z"
   },
   {
    "duration": 1517,
    "start_time": "2023-01-11T17:14:18.256Z"
   },
   {
    "duration": 54,
    "start_time": "2023-01-11T17:14:19.774Z"
   },
   {
    "duration": 0,
    "start_time": "2023-01-11T17:14:19.830Z"
   },
   {
    "duration": 0,
    "start_time": "2023-01-11T17:14:19.832Z"
   },
   {
    "duration": 0,
    "start_time": "2023-01-11T17:14:19.834Z"
   },
   {
    "duration": 655,
    "start_time": "2023-01-11T20:45:30.973Z"
   },
   {
    "duration": 109,
    "start_time": "2023-01-11T20:45:31.630Z"
   },
   {
    "duration": 27,
    "start_time": "2023-01-11T20:45:31.741Z"
   },
   {
    "duration": 1977,
    "start_time": "2023-01-11T20:45:31.774Z"
   },
   {
    "duration": 24,
    "start_time": "2023-01-11T20:45:33.754Z"
   },
   {
    "duration": 8,
    "start_time": "2023-01-11T20:45:33.780Z"
   },
   {
    "duration": 15,
    "start_time": "2023-01-11T20:45:33.789Z"
   },
   {
    "duration": 26,
    "start_time": "2023-01-11T20:45:33.806Z"
   },
   {
    "duration": 44,
    "start_time": "2023-01-11T20:45:33.861Z"
   },
   {
    "duration": 5,
    "start_time": "2023-01-11T20:45:33.907Z"
   },
   {
    "duration": 21,
    "start_time": "2023-01-11T20:45:33.913Z"
   },
   {
    "duration": 13,
    "start_time": "2023-01-11T20:45:33.936Z"
   },
   {
    "duration": 28,
    "start_time": "2023-01-11T20:45:33.950Z"
   },
   {
    "duration": 37,
    "start_time": "2023-01-11T20:45:33.980Z"
   },
   {
    "duration": 123,
    "start_time": "2023-01-11T20:45:34.019Z"
   },
   {
    "duration": 137,
    "start_time": "2023-01-11T20:45:34.144Z"
   },
   {
    "duration": 145,
    "start_time": "2023-01-11T20:45:34.284Z"
   },
   {
    "duration": 194,
    "start_time": "2023-01-11T20:45:34.430Z"
   },
   {
    "duration": 160,
    "start_time": "2023-01-11T20:45:34.626Z"
   },
   {
    "duration": 123,
    "start_time": "2023-01-11T20:45:34.789Z"
   },
   {
    "duration": 226,
    "start_time": "2023-01-11T20:45:34.914Z"
   },
   {
    "duration": 125,
    "start_time": "2023-01-11T20:45:35.142Z"
   },
   {
    "duration": 122,
    "start_time": "2023-01-11T20:45:35.269Z"
   },
   {
    "duration": 133,
    "start_time": "2023-01-11T20:45:35.393Z"
   },
   {
    "duration": 121,
    "start_time": "2023-01-11T20:45:35.528Z"
   },
   {
    "duration": 135,
    "start_time": "2023-01-11T20:45:35.657Z"
   },
   {
    "duration": 142,
    "start_time": "2023-01-11T20:45:35.793Z"
   },
   {
    "duration": 274,
    "start_time": "2023-01-11T20:45:35.938Z"
   },
   {
    "duration": 1308,
    "start_time": "2023-01-11T20:45:36.214Z"
   },
   {
    "duration": 55,
    "start_time": "2023-01-11T20:45:37.524Z"
   },
   {
    "duration": 0,
    "start_time": "2023-01-11T20:45:37.581Z"
   },
   {
    "duration": 0,
    "start_time": "2023-01-11T20:45:37.582Z"
   },
   {
    "duration": 0,
    "start_time": "2023-01-11T20:45:37.583Z"
   },
   {
    "duration": 648,
    "start_time": "2023-01-11T20:47:52.272Z"
   },
   {
    "duration": 120,
    "start_time": "2023-01-11T20:47:52.922Z"
   },
   {
    "duration": 26,
    "start_time": "2023-01-11T20:47:53.044Z"
   },
   {
    "duration": 2181,
    "start_time": "2023-01-11T20:47:53.073Z"
   },
   {
    "duration": 21,
    "start_time": "2023-01-11T20:47:55.259Z"
   },
   {
    "duration": 8,
    "start_time": "2023-01-11T20:47:55.282Z"
   },
   {
    "duration": 15,
    "start_time": "2023-01-11T20:47:55.292Z"
   },
   {
    "duration": 52,
    "start_time": "2023-01-11T20:47:55.309Z"
   },
   {
    "duration": 42,
    "start_time": "2023-01-11T20:47:55.363Z"
   },
   {
    "duration": 6,
    "start_time": "2023-01-11T20:47:55.408Z"
   },
   {
    "duration": 16,
    "start_time": "2023-01-11T20:47:55.416Z"
   },
   {
    "duration": 27,
    "start_time": "2023-01-11T20:47:55.434Z"
   },
   {
    "duration": 31,
    "start_time": "2023-01-11T20:47:55.462Z"
   },
   {
    "duration": 45,
    "start_time": "2023-01-11T20:47:55.494Z"
   },
   {
    "duration": 146,
    "start_time": "2023-01-11T20:47:55.540Z"
   },
   {
    "duration": 140,
    "start_time": "2023-01-11T20:47:55.687Z"
   },
   {
    "duration": 155,
    "start_time": "2023-01-11T20:47:55.829Z"
   },
   {
    "duration": 182,
    "start_time": "2023-01-11T20:47:55.985Z"
   },
   {
    "duration": 138,
    "start_time": "2023-01-11T20:47:56.168Z"
   },
   {
    "duration": 132,
    "start_time": "2023-01-11T20:47:56.307Z"
   },
   {
    "duration": 254,
    "start_time": "2023-01-11T20:47:56.440Z"
   },
   {
    "duration": 123,
    "start_time": "2023-01-11T20:47:56.697Z"
   },
   {
    "duration": 154,
    "start_time": "2023-01-11T20:47:56.822Z"
   },
   {
    "duration": 138,
    "start_time": "2023-01-11T20:47:56.978Z"
   },
   {
    "duration": 149,
    "start_time": "2023-01-11T20:47:57.117Z"
   },
   {
    "duration": 134,
    "start_time": "2023-01-11T20:47:57.268Z"
   },
   {
    "duration": 146,
    "start_time": "2023-01-11T20:47:57.403Z"
   },
   {
    "duration": 157,
    "start_time": "2023-01-11T20:47:57.565Z"
   },
   {
    "duration": 276,
    "start_time": "2023-01-11T20:47:57.723Z"
   },
   {
    "duration": 1387,
    "start_time": "2023-01-11T20:47:58.001Z"
   },
   {
    "duration": 48,
    "start_time": "2023-01-11T20:47:59.390Z"
   },
   {
    "duration": 0,
    "start_time": "2023-01-11T20:47:59.440Z"
   },
   {
    "duration": 0,
    "start_time": "2023-01-11T20:47:59.442Z"
   },
   {
    "duration": 0,
    "start_time": "2023-01-11T20:47:59.443Z"
   },
   {
    "duration": 739,
    "start_time": "2023-01-11T20:49:34.456Z"
   },
   {
    "duration": 118,
    "start_time": "2023-01-11T20:49:35.197Z"
   },
   {
    "duration": 16,
    "start_time": "2023-01-11T20:49:35.317Z"
   },
   {
    "duration": 2163,
    "start_time": "2023-01-11T20:49:35.335Z"
   },
   {
    "duration": 19,
    "start_time": "2023-01-11T20:49:37.500Z"
   },
   {
    "duration": 7,
    "start_time": "2023-01-11T20:49:37.521Z"
   },
   {
    "duration": 16,
    "start_time": "2023-01-11T20:49:37.530Z"
   },
   {
    "duration": 34,
    "start_time": "2023-01-11T20:49:37.548Z"
   },
   {
    "duration": 42,
    "start_time": "2023-01-11T20:49:37.584Z"
   },
   {
    "duration": 30,
    "start_time": "2023-01-11T20:49:37.629Z"
   },
   {
    "duration": 12,
    "start_time": "2023-01-11T20:49:37.664Z"
   },
   {
    "duration": 13,
    "start_time": "2023-01-11T20:49:37.677Z"
   },
   {
    "duration": 12,
    "start_time": "2023-01-11T20:49:37.691Z"
   },
   {
    "duration": 74,
    "start_time": "2023-01-11T20:49:37.706Z"
   },
   {
    "duration": 153,
    "start_time": "2023-01-11T20:49:37.782Z"
   },
   {
    "duration": 151,
    "start_time": "2023-01-11T20:49:37.937Z"
   },
   {
    "duration": 161,
    "start_time": "2023-01-11T20:49:38.090Z"
   },
   {
    "duration": 192,
    "start_time": "2023-01-11T20:49:38.254Z"
   },
   {
    "duration": 158,
    "start_time": "2023-01-11T20:49:38.448Z"
   },
   {
    "duration": 142,
    "start_time": "2023-01-11T20:49:38.608Z"
   },
   {
    "duration": 275,
    "start_time": "2023-01-11T20:49:38.752Z"
   },
   {
    "duration": 139,
    "start_time": "2023-01-11T20:49:39.030Z"
   },
   {
    "duration": 153,
    "start_time": "2023-01-11T20:49:39.171Z"
   },
   {
    "duration": 157,
    "start_time": "2023-01-11T20:49:39.326Z"
   },
   {
    "duration": 148,
    "start_time": "2023-01-11T20:49:39.485Z"
   },
   {
    "duration": 155,
    "start_time": "2023-01-11T20:49:39.635Z"
   },
   {
    "duration": 149,
    "start_time": "2023-01-11T20:49:39.792Z"
   },
   {
    "duration": 152,
    "start_time": "2023-01-11T20:49:39.944Z"
   },
   {
    "duration": 297,
    "start_time": "2023-01-11T20:49:40.097Z"
   },
   {
    "duration": 1468,
    "start_time": "2023-01-11T20:49:40.396Z"
   },
   {
    "duration": 53,
    "start_time": "2023-01-11T20:49:41.866Z"
   },
   {
    "duration": 0,
    "start_time": "2023-01-11T20:49:41.922Z"
   },
   {
    "duration": 0,
    "start_time": "2023-01-11T20:49:41.923Z"
   },
   {
    "duration": 0,
    "start_time": "2023-01-11T20:49:41.925Z"
   },
   {
    "duration": 654,
    "start_time": "2023-01-11T21:05:27.967Z"
   },
   {
    "duration": 122,
    "start_time": "2023-01-11T21:05:28.624Z"
   },
   {
    "duration": 22,
    "start_time": "2023-01-11T21:05:28.761Z"
   },
   {
    "duration": 2144,
    "start_time": "2023-01-11T21:05:28.786Z"
   },
   {
    "duration": 18,
    "start_time": "2023-01-11T21:05:30.932Z"
   },
   {
    "duration": 24,
    "start_time": "2023-01-11T21:05:30.952Z"
   },
   {
    "duration": 26,
    "start_time": "2023-01-11T21:05:30.978Z"
   },
   {
    "duration": 31,
    "start_time": "2023-01-11T21:05:31.006Z"
   },
   {
    "duration": 51,
    "start_time": "2023-01-11T21:05:31.039Z"
   },
   {
    "duration": 11,
    "start_time": "2023-01-11T21:05:31.092Z"
   },
   {
    "duration": 19,
    "start_time": "2023-01-11T21:05:31.105Z"
   },
   {
    "duration": 21,
    "start_time": "2023-01-11T21:05:31.126Z"
   },
   {
    "duration": 23,
    "start_time": "2023-01-11T21:05:31.150Z"
   },
   {
    "duration": 49,
    "start_time": "2023-01-11T21:05:31.176Z"
   },
   {
    "duration": 145,
    "start_time": "2023-01-11T21:05:31.227Z"
   },
   {
    "duration": 149,
    "start_time": "2023-01-11T21:05:31.374Z"
   },
   {
    "duration": 168,
    "start_time": "2023-01-11T21:05:31.525Z"
   },
   {
    "duration": 177,
    "start_time": "2023-01-11T21:05:31.695Z"
   },
   {
    "duration": 145,
    "start_time": "2023-01-11T21:05:31.874Z"
   },
   {
    "duration": 149,
    "start_time": "2023-01-11T21:05:32.021Z"
   },
   {
    "duration": 240,
    "start_time": "2023-01-11T21:05:32.171Z"
   },
   {
    "duration": 123,
    "start_time": "2023-01-11T21:05:32.413Z"
   },
   {
    "duration": 153,
    "start_time": "2023-01-11T21:05:32.537Z"
   },
   {
    "duration": 140,
    "start_time": "2023-01-11T21:05:32.691Z"
   },
   {
    "duration": 154,
    "start_time": "2023-01-11T21:05:32.833Z"
   },
   {
    "duration": 147,
    "start_time": "2023-01-11T21:05:32.990Z"
   },
   {
    "duration": 155,
    "start_time": "2023-01-11T21:05:33.140Z"
   },
   {
    "duration": 145,
    "start_time": "2023-01-11T21:05:33.297Z"
   },
   {
    "duration": 347,
    "start_time": "2023-01-11T21:05:33.443Z"
   },
   {
    "duration": 1487,
    "start_time": "2023-01-11T21:05:33.792Z"
   },
   {
    "duration": 9,
    "start_time": "2023-01-11T21:05:35.281Z"
   },
   {
    "duration": 23,
    "start_time": "2023-01-11T21:05:35.292Z"
   },
   {
    "duration": 215,
    "start_time": "2023-01-11T21:05:35.317Z"
   },
   {
    "duration": 673,
    "start_time": "2023-01-11T21:25:21.245Z"
   },
   {
    "duration": 116,
    "start_time": "2023-01-11T21:25:21.919Z"
   },
   {
    "duration": 19,
    "start_time": "2023-01-11T21:25:22.037Z"
   },
   {
    "duration": 2168,
    "start_time": "2023-01-11T21:25:22.058Z"
   },
   {
    "duration": 18,
    "start_time": "2023-01-11T21:25:24.228Z"
   },
   {
    "duration": 10,
    "start_time": "2023-01-11T21:25:24.247Z"
   },
   {
    "duration": 29,
    "start_time": "2023-01-11T21:25:24.259Z"
   },
   {
    "duration": 31,
    "start_time": "2023-01-11T21:25:24.290Z"
   },
   {
    "duration": 58,
    "start_time": "2023-01-11T21:25:24.323Z"
   },
   {
    "duration": 5,
    "start_time": "2023-01-11T21:25:24.384Z"
   },
   {
    "duration": 9,
    "start_time": "2023-01-11T21:25:24.391Z"
   },
   {
    "duration": 10,
    "start_time": "2023-01-11T21:25:24.402Z"
   },
   {
    "duration": 11,
    "start_time": "2023-01-11T21:25:24.414Z"
   },
   {
    "duration": 77,
    "start_time": "2023-01-11T21:25:24.427Z"
   },
   {
    "duration": 198,
    "start_time": "2023-01-11T21:25:24.507Z"
   },
   {
    "duration": 140,
    "start_time": "2023-01-11T21:25:24.706Z"
   },
   {
    "duration": 176,
    "start_time": "2023-01-11T21:25:24.848Z"
   },
   {
    "duration": 180,
    "start_time": "2023-01-11T21:25:25.026Z"
   },
   {
    "duration": 160,
    "start_time": "2023-01-11T21:25:25.208Z"
   },
   {
    "duration": 129,
    "start_time": "2023-01-11T21:25:25.369Z"
   },
   {
    "duration": 245,
    "start_time": "2023-01-11T21:25:25.500Z"
   },
   {
    "duration": 134,
    "start_time": "2023-01-11T21:25:25.747Z"
   },
   {
    "duration": 137,
    "start_time": "2023-01-11T21:25:25.883Z"
   },
   {
    "duration": 154,
    "start_time": "2023-01-11T21:25:26.022Z"
   },
   {
    "duration": 146,
    "start_time": "2023-01-11T21:25:26.178Z"
   },
   {
    "duration": 158,
    "start_time": "2023-01-11T21:25:26.326Z"
   },
   {
    "duration": 155,
    "start_time": "2023-01-11T21:25:26.486Z"
   },
   {
    "duration": 150,
    "start_time": "2023-01-11T21:25:26.644Z"
   },
   {
    "duration": 300,
    "start_time": "2023-01-11T21:25:26.796Z"
   },
   {
    "duration": 1420,
    "start_time": "2023-01-11T21:25:27.098Z"
   },
   {
    "duration": 9,
    "start_time": "2023-01-11T21:25:28.519Z"
   },
   {
    "duration": 41,
    "start_time": "2023-01-11T21:25:28.530Z"
   },
   {
    "duration": 195,
    "start_time": "2023-01-11T21:25:28.573Z"
   },
   {
    "duration": 647,
    "start_time": "2023-01-11T21:30:14.902Z"
   },
   {
    "duration": 127,
    "start_time": "2023-01-11T21:30:15.552Z"
   },
   {
    "duration": 17,
    "start_time": "2023-01-11T21:30:15.683Z"
   },
   {
    "duration": 2113,
    "start_time": "2023-01-11T21:30:15.701Z"
   },
   {
    "duration": 17,
    "start_time": "2023-01-11T21:30:17.816Z"
   },
   {
    "duration": 8,
    "start_time": "2023-01-11T21:30:17.835Z"
   },
   {
    "duration": 27,
    "start_time": "2023-01-11T21:30:17.845Z"
   },
   {
    "duration": 32,
    "start_time": "2023-01-11T21:30:17.873Z"
   },
   {
    "duration": 64,
    "start_time": "2023-01-11T21:30:17.908Z"
   },
   {
    "duration": 5,
    "start_time": "2023-01-11T21:30:17.974Z"
   },
   {
    "duration": 10,
    "start_time": "2023-01-11T21:30:17.981Z"
   },
   {
    "duration": 10,
    "start_time": "2023-01-11T21:30:17.992Z"
   },
   {
    "duration": 14,
    "start_time": "2023-01-11T21:30:18.003Z"
   },
   {
    "duration": 65,
    "start_time": "2023-01-11T21:30:18.018Z"
   },
   {
    "duration": 147,
    "start_time": "2023-01-11T21:30:18.085Z"
   },
   {
    "duration": 155,
    "start_time": "2023-01-11T21:30:18.234Z"
   },
   {
    "duration": 160,
    "start_time": "2023-01-11T21:30:18.391Z"
   },
   {
    "duration": 168,
    "start_time": "2023-01-11T21:30:18.553Z"
   },
   {
    "duration": 155,
    "start_time": "2023-01-11T21:30:18.723Z"
   },
   {
    "duration": 148,
    "start_time": "2023-01-11T21:30:18.879Z"
   },
   {
    "duration": 258,
    "start_time": "2023-01-11T21:30:19.028Z"
   },
   {
    "duration": 123,
    "start_time": "2023-01-11T21:30:19.288Z"
   },
   {
    "duration": 159,
    "start_time": "2023-01-11T21:30:19.413Z"
   },
   {
    "duration": 139,
    "start_time": "2023-01-11T21:30:19.575Z"
   },
   {
    "duration": 153,
    "start_time": "2023-01-11T21:30:19.715Z"
   },
   {
    "duration": 140,
    "start_time": "2023-01-11T21:30:19.870Z"
   },
   {
    "duration": 156,
    "start_time": "2023-01-11T21:30:20.013Z"
   },
   {
    "duration": 137,
    "start_time": "2023-01-11T21:30:20.171Z"
   },
   {
    "duration": 286,
    "start_time": "2023-01-11T21:30:20.310Z"
   },
   {
    "duration": 1471,
    "start_time": "2023-01-11T21:30:20.598Z"
   },
   {
    "duration": 11,
    "start_time": "2023-01-11T21:30:22.072Z"
   },
   {
    "duration": 22,
    "start_time": "2023-01-11T21:30:22.084Z"
   },
   {
    "duration": 211,
    "start_time": "2023-01-11T21:30:22.108Z"
   },
   {
    "duration": 633,
    "start_time": "2023-01-11T21:37:41.967Z"
   },
   {
    "duration": 116,
    "start_time": "2023-01-11T21:37:42.602Z"
   },
   {
    "duration": 15,
    "start_time": "2023-01-11T21:37:42.720Z"
   },
   {
    "duration": 2181,
    "start_time": "2023-01-11T21:37:42.737Z"
   },
   {
    "duration": 20,
    "start_time": "2023-01-11T21:37:44.922Z"
   },
   {
    "duration": 9,
    "start_time": "2023-01-11T21:37:44.945Z"
   },
   {
    "duration": 28,
    "start_time": "2023-01-11T21:37:44.960Z"
   },
   {
    "duration": 31,
    "start_time": "2023-01-11T21:37:44.990Z"
   },
   {
    "duration": 56,
    "start_time": "2023-01-11T21:37:45.023Z"
   },
   {
    "duration": 5,
    "start_time": "2023-01-11T21:37:45.081Z"
   },
   {
    "duration": 12,
    "start_time": "2023-01-11T21:37:45.088Z"
   },
   {
    "duration": 10,
    "start_time": "2023-01-11T21:37:45.102Z"
   },
   {
    "duration": 11,
    "start_time": "2023-01-11T21:37:45.114Z"
   },
   {
    "duration": 64,
    "start_time": "2023-01-11T21:37:45.127Z"
   },
   {
    "duration": 156,
    "start_time": "2023-01-11T21:37:45.193Z"
   },
   {
    "duration": 140,
    "start_time": "2023-01-11T21:37:45.351Z"
   },
   {
    "duration": 174,
    "start_time": "2023-01-11T21:37:45.492Z"
   },
   {
    "duration": 164,
    "start_time": "2023-01-11T21:37:45.668Z"
   },
   {
    "duration": 153,
    "start_time": "2023-01-11T21:37:45.834Z"
   },
   {
    "duration": 133,
    "start_time": "2023-01-11T21:37:45.988Z"
   },
   {
    "duration": 253,
    "start_time": "2023-01-11T21:37:46.123Z"
   },
   {
    "duration": 120,
    "start_time": "2023-01-11T21:37:46.378Z"
   },
   {
    "duration": 146,
    "start_time": "2023-01-11T21:37:46.499Z"
   },
   {
    "duration": 148,
    "start_time": "2023-01-11T21:37:46.647Z"
   },
   {
    "duration": 137,
    "start_time": "2023-01-11T21:37:46.797Z"
   },
   {
    "duration": 154,
    "start_time": "2023-01-11T21:37:46.937Z"
   },
   {
    "duration": 141,
    "start_time": "2023-01-11T21:37:47.093Z"
   },
   {
    "duration": 144,
    "start_time": "2023-01-11T21:37:47.235Z"
   },
   {
    "duration": 290,
    "start_time": "2023-01-11T21:37:47.380Z"
   },
   {
    "duration": 1385,
    "start_time": "2023-01-11T21:37:47.672Z"
   },
   {
    "duration": 14,
    "start_time": "2023-01-11T21:37:49.061Z"
   },
   {
    "duration": 12,
    "start_time": "2023-01-11T21:37:49.077Z"
   },
   {
    "duration": 219,
    "start_time": "2023-01-11T21:37:49.091Z"
   },
   {
    "duration": 606,
    "start_time": "2023-01-11T21:38:42.381Z"
   },
   {
    "duration": 110,
    "start_time": "2023-01-11T21:38:42.989Z"
   },
   {
    "duration": 16,
    "start_time": "2023-01-11T21:38:43.101Z"
   },
   {
    "duration": 2087,
    "start_time": "2023-01-11T21:38:43.119Z"
   },
   {
    "duration": 17,
    "start_time": "2023-01-11T21:38:45.208Z"
   },
   {
    "duration": 7,
    "start_time": "2023-01-11T21:38:45.227Z"
   },
   {
    "duration": 29,
    "start_time": "2023-01-11T21:38:45.236Z"
   },
   {
    "duration": 30,
    "start_time": "2023-01-11T21:38:45.268Z"
   },
   {
    "duration": 43,
    "start_time": "2023-01-11T21:38:45.299Z"
   },
   {
    "duration": 9,
    "start_time": "2023-01-11T21:38:45.356Z"
   },
   {
    "duration": 11,
    "start_time": "2023-01-11T21:38:45.369Z"
   },
   {
    "duration": 10,
    "start_time": "2023-01-11T21:38:45.381Z"
   },
   {
    "duration": 15,
    "start_time": "2023-01-11T21:38:45.392Z"
   },
   {
    "duration": 69,
    "start_time": "2023-01-11T21:38:45.408Z"
   },
   {
    "duration": 143,
    "start_time": "2023-01-11T21:38:45.479Z"
   },
   {
    "duration": 150,
    "start_time": "2023-01-11T21:38:45.623Z"
   },
   {
    "duration": 145,
    "start_time": "2023-01-11T21:38:45.775Z"
   },
   {
    "duration": 179,
    "start_time": "2023-01-11T21:38:45.922Z"
   },
   {
    "duration": 143,
    "start_time": "2023-01-11T21:38:46.102Z"
   },
   {
    "duration": 135,
    "start_time": "2023-01-11T21:38:46.247Z"
   },
   {
    "duration": 243,
    "start_time": "2023-01-11T21:38:46.384Z"
   },
   {
    "duration": 122,
    "start_time": "2023-01-11T21:38:46.629Z"
   },
   {
    "duration": 138,
    "start_time": "2023-01-11T21:38:46.753Z"
   },
   {
    "duration": 138,
    "start_time": "2023-01-11T21:38:46.893Z"
   },
   {
    "duration": 143,
    "start_time": "2023-01-11T21:38:47.033Z"
   },
   {
    "duration": 129,
    "start_time": "2023-01-11T21:38:47.178Z"
   },
   {
    "duration": 146,
    "start_time": "2023-01-11T21:38:47.308Z"
   },
   {
    "duration": 131,
    "start_time": "2023-01-11T21:38:47.458Z"
   },
   {
    "duration": 270,
    "start_time": "2023-01-11T21:38:47.591Z"
   },
   {
    "duration": 1365,
    "start_time": "2023-01-11T21:38:47.862Z"
   },
   {
    "duration": 10,
    "start_time": "2023-01-11T21:38:49.229Z"
   },
   {
    "duration": 30,
    "start_time": "2023-01-11T21:38:49.241Z"
   },
   {
    "duration": 201,
    "start_time": "2023-01-11T21:38:49.273Z"
   },
   {
    "duration": 666,
    "start_time": "2023-01-11T21:42:21.547Z"
   },
   {
    "duration": 113,
    "start_time": "2023-01-11T21:42:22.215Z"
   },
   {
    "duration": 16,
    "start_time": "2023-01-11T21:42:22.330Z"
   },
   {
    "duration": 2142,
    "start_time": "2023-01-11T21:42:22.348Z"
   },
   {
    "duration": 21,
    "start_time": "2023-01-11T21:42:24.493Z"
   },
   {
    "duration": 10,
    "start_time": "2023-01-11T21:42:24.516Z"
   },
   {
    "duration": 21,
    "start_time": "2023-01-11T21:42:24.528Z"
   },
   {
    "duration": 36,
    "start_time": "2023-01-11T21:42:24.551Z"
   },
   {
    "duration": 76,
    "start_time": "2023-01-11T21:42:24.589Z"
   },
   {
    "duration": 6,
    "start_time": "2023-01-11T21:42:24.667Z"
   },
   {
    "duration": 10,
    "start_time": "2023-01-11T21:42:24.675Z"
   },
   {
    "duration": 21,
    "start_time": "2023-01-11T21:42:24.687Z"
   },
   {
    "duration": 12,
    "start_time": "2023-01-11T21:42:24.710Z"
   },
   {
    "duration": 54,
    "start_time": "2023-01-11T21:42:24.725Z"
   },
   {
    "duration": 177,
    "start_time": "2023-01-11T21:42:24.782Z"
   },
   {
    "duration": 168,
    "start_time": "2023-01-11T21:42:24.961Z"
   },
   {
    "duration": 150,
    "start_time": "2023-01-11T21:42:25.131Z"
   },
   {
    "duration": 190,
    "start_time": "2023-01-11T21:42:25.282Z"
   },
   {
    "duration": 136,
    "start_time": "2023-01-11T21:42:25.473Z"
   },
   {
    "duration": 137,
    "start_time": "2023-01-11T21:42:25.611Z"
   },
   {
    "duration": 240,
    "start_time": "2023-01-11T21:42:25.755Z"
   },
   {
    "duration": 119,
    "start_time": "2023-01-11T21:42:25.996Z"
   },
   {
    "duration": 151,
    "start_time": "2023-01-11T21:42:26.117Z"
   },
   {
    "duration": 132,
    "start_time": "2023-01-11T21:42:26.269Z"
   },
   {
    "duration": 137,
    "start_time": "2023-01-11T21:42:26.403Z"
   },
   {
    "duration": 156,
    "start_time": "2023-01-11T21:42:26.542Z"
   },
   {
    "duration": 150,
    "start_time": "2023-01-11T21:42:26.700Z"
   },
   {
    "duration": 153,
    "start_time": "2023-01-11T21:42:26.855Z"
   },
   {
    "duration": 279,
    "start_time": "2023-01-11T21:42:27.010Z"
   },
   {
    "duration": 1416,
    "start_time": "2023-01-11T21:42:27.291Z"
   },
   {
    "duration": 11,
    "start_time": "2023-01-11T21:42:28.708Z"
   },
   {
    "duration": 54,
    "start_time": "2023-01-11T21:42:28.721Z"
   },
   {
    "duration": 0,
    "start_time": "2023-01-11T21:42:28.777Z"
   },
   {
    "duration": 666,
    "start_time": "2023-01-11T21:42:54.634Z"
   },
   {
    "duration": 114,
    "start_time": "2023-01-11T21:42:55.302Z"
   },
   {
    "duration": 15,
    "start_time": "2023-01-11T21:42:55.418Z"
   },
   {
    "duration": 2116,
    "start_time": "2023-01-11T21:42:55.435Z"
   },
   {
    "duration": 21,
    "start_time": "2023-01-11T21:42:57.554Z"
   },
   {
    "duration": 8,
    "start_time": "2023-01-11T21:42:57.577Z"
   },
   {
    "duration": 15,
    "start_time": "2023-01-11T21:42:57.587Z"
   },
   {
    "duration": 58,
    "start_time": "2023-01-11T21:42:57.603Z"
   },
   {
    "duration": 46,
    "start_time": "2023-01-11T21:42:57.662Z"
   },
   {
    "duration": 5,
    "start_time": "2023-01-11T21:42:57.709Z"
   },
   {
    "duration": 9,
    "start_time": "2023-01-11T21:42:57.716Z"
   },
   {
    "duration": 10,
    "start_time": "2023-01-11T21:42:57.726Z"
   },
   {
    "duration": 37,
    "start_time": "2023-01-11T21:42:57.737Z"
   },
   {
    "duration": 40,
    "start_time": "2023-01-11T21:42:57.776Z"
   },
   {
    "duration": 161,
    "start_time": "2023-01-11T21:42:57.817Z"
   },
   {
    "duration": 143,
    "start_time": "2023-01-11T21:42:57.980Z"
   },
   {
    "duration": 170,
    "start_time": "2023-01-11T21:42:58.125Z"
   },
   {
    "duration": 180,
    "start_time": "2023-01-11T21:42:58.297Z"
   },
   {
    "duration": 159,
    "start_time": "2023-01-11T21:42:58.479Z"
   },
   {
    "duration": 140,
    "start_time": "2023-01-11T21:42:58.640Z"
   },
   {
    "duration": 255,
    "start_time": "2023-01-11T21:42:58.782Z"
   },
   {
    "duration": 117,
    "start_time": "2023-01-11T21:42:59.039Z"
   },
   {
    "duration": 139,
    "start_time": "2023-01-11T21:42:59.157Z"
   },
   {
    "duration": 137,
    "start_time": "2023-01-11T21:42:59.298Z"
   },
   {
    "duration": 138,
    "start_time": "2023-01-11T21:42:59.437Z"
   },
   {
    "duration": 142,
    "start_time": "2023-01-11T21:42:59.577Z"
   },
   {
    "duration": 153,
    "start_time": "2023-01-11T21:42:59.721Z"
   },
   {
    "duration": 141,
    "start_time": "2023-01-11T21:42:59.876Z"
   },
   {
    "duration": 298,
    "start_time": "2023-01-11T21:43:00.019Z"
   },
   {
    "duration": 1400,
    "start_time": "2023-01-11T21:43:00.319Z"
   },
   {
    "duration": 10,
    "start_time": "2023-01-11T21:43:01.721Z"
   },
   {
    "duration": 60,
    "start_time": "2023-01-11T21:43:01.733Z"
   },
   {
    "duration": 0,
    "start_time": "2023-01-11T21:43:01.795Z"
   },
   {
    "duration": 643,
    "start_time": "2023-01-11T21:45:57.835Z"
   },
   {
    "duration": 110,
    "start_time": "2023-01-11T21:45:58.480Z"
   },
   {
    "duration": 14,
    "start_time": "2023-01-11T21:45:58.592Z"
   },
   {
    "duration": 1910,
    "start_time": "2023-01-11T21:45:58.608Z"
   },
   {
    "duration": 16,
    "start_time": "2023-01-11T21:46:00.520Z"
   },
   {
    "duration": 7,
    "start_time": "2023-01-11T21:46:00.538Z"
   },
   {
    "duration": 21,
    "start_time": "2023-01-11T21:46:00.546Z"
   },
   {
    "duration": 36,
    "start_time": "2023-01-11T21:46:00.570Z"
   },
   {
    "duration": 42,
    "start_time": "2023-01-11T21:46:00.608Z"
   },
   {
    "duration": 16,
    "start_time": "2023-01-11T21:46:00.653Z"
   },
   {
    "duration": 16,
    "start_time": "2023-01-11T21:46:00.670Z"
   },
   {
    "duration": 12,
    "start_time": "2023-01-11T21:46:00.687Z"
   },
   {
    "duration": 13,
    "start_time": "2023-01-11T21:46:00.701Z"
   },
   {
    "duration": 50,
    "start_time": "2023-01-11T21:46:00.716Z"
   },
   {
    "duration": 134,
    "start_time": "2023-01-11T21:46:00.768Z"
   },
   {
    "duration": 127,
    "start_time": "2023-01-11T21:46:00.904Z"
   },
   {
    "duration": 152,
    "start_time": "2023-01-11T21:46:01.033Z"
   },
   {
    "duration": 170,
    "start_time": "2023-01-11T21:46:01.187Z"
   },
   {
    "duration": 135,
    "start_time": "2023-01-11T21:46:01.364Z"
   },
   {
    "duration": 131,
    "start_time": "2023-01-11T21:46:01.500Z"
   },
   {
    "duration": 245,
    "start_time": "2023-01-11T21:46:01.633Z"
   },
   {
    "duration": 121,
    "start_time": "2023-01-11T21:46:01.880Z"
   },
   {
    "duration": 134,
    "start_time": "2023-01-11T21:46:02.003Z"
   },
   {
    "duration": 141,
    "start_time": "2023-01-11T21:46:02.139Z"
   },
   {
    "duration": 130,
    "start_time": "2023-01-11T21:46:02.281Z"
   },
   {
    "duration": 136,
    "start_time": "2023-01-11T21:46:02.413Z"
   },
   {
    "duration": 141,
    "start_time": "2023-01-11T21:46:02.554Z"
   },
   {
    "duration": 136,
    "start_time": "2023-01-11T21:46:02.698Z"
   },
   {
    "duration": 266,
    "start_time": "2023-01-11T21:46:02.836Z"
   },
   {
    "duration": 1325,
    "start_time": "2023-01-11T21:46:03.103Z"
   },
   {
    "duration": 11,
    "start_time": "2023-01-11T21:46:04.429Z"
   },
   {
    "duration": 52,
    "start_time": "2023-01-11T21:46:04.463Z"
   },
   {
    "duration": 0,
    "start_time": "2023-01-11T21:46:04.517Z"
   },
   {
    "duration": 603,
    "start_time": "2023-01-11T21:46:32.604Z"
   },
   {
    "duration": 119,
    "start_time": "2023-01-11T21:46:33.209Z"
   },
   {
    "duration": 16,
    "start_time": "2023-01-11T21:46:33.329Z"
   },
   {
    "duration": 2120,
    "start_time": "2023-01-11T21:46:33.347Z"
   },
   {
    "duration": 19,
    "start_time": "2023-01-11T21:46:35.471Z"
   },
   {
    "duration": 8,
    "start_time": "2023-01-11T21:46:35.492Z"
   },
   {
    "duration": 15,
    "start_time": "2023-01-11T21:46:35.502Z"
   },
   {
    "duration": 51,
    "start_time": "2023-01-11T21:46:35.519Z"
   },
   {
    "duration": 43,
    "start_time": "2023-01-11T21:46:35.572Z"
   },
   {
    "duration": 5,
    "start_time": "2023-01-11T21:46:35.617Z"
   },
   {
    "duration": 12,
    "start_time": "2023-01-11T21:46:35.623Z"
   },
   {
    "duration": 33,
    "start_time": "2023-01-11T21:46:35.637Z"
   },
   {
    "duration": 23,
    "start_time": "2023-01-11T21:46:35.671Z"
   },
   {
    "duration": 42,
    "start_time": "2023-01-11T21:46:35.698Z"
   },
   {
    "duration": 152,
    "start_time": "2023-01-11T21:46:35.742Z"
   },
   {
    "duration": 154,
    "start_time": "2023-01-11T21:46:35.896Z"
   },
   {
    "duration": 157,
    "start_time": "2023-01-11T21:46:36.055Z"
   },
   {
    "duration": 175,
    "start_time": "2023-01-11T21:46:36.214Z"
   },
   {
    "duration": 153,
    "start_time": "2023-01-11T21:46:36.391Z"
   },
   {
    "duration": 128,
    "start_time": "2023-01-11T21:46:36.546Z"
   },
   {
    "duration": 230,
    "start_time": "2023-01-11T21:46:36.676Z"
   },
   {
    "duration": 131,
    "start_time": "2023-01-11T21:46:36.908Z"
   },
   {
    "duration": 138,
    "start_time": "2023-01-11T21:46:37.041Z"
   },
   {
    "duration": 147,
    "start_time": "2023-01-11T21:46:37.181Z"
   },
   {
    "duration": 159,
    "start_time": "2023-01-11T21:46:37.330Z"
   },
   {
    "duration": 152,
    "start_time": "2023-01-11T21:46:37.491Z"
   },
   {
    "duration": 145,
    "start_time": "2023-01-11T21:46:37.644Z"
   },
   {
    "duration": 131,
    "start_time": "2023-01-11T21:46:37.790Z"
   },
   {
    "duration": 282,
    "start_time": "2023-01-11T21:46:37.923Z"
   },
   {
    "duration": 1408,
    "start_time": "2023-01-11T21:46:38.207Z"
   },
   {
    "duration": 9,
    "start_time": "2023-01-11T21:46:39.617Z"
   },
   {
    "duration": 98,
    "start_time": "2023-01-11T21:46:39.628Z"
   },
   {
    "duration": 0,
    "start_time": "2023-01-11T21:46:39.728Z"
   },
   {
    "duration": 656,
    "start_time": "2023-01-11T21:49:29.777Z"
   },
   {
    "duration": 125,
    "start_time": "2023-01-11T21:49:30.435Z"
   },
   {
    "duration": 21,
    "start_time": "2023-01-11T21:49:30.562Z"
   },
   {
    "duration": 2184,
    "start_time": "2023-01-11T21:49:30.586Z"
   },
   {
    "duration": 19,
    "start_time": "2023-01-11T21:49:32.772Z"
   },
   {
    "duration": 8,
    "start_time": "2023-01-11T21:49:32.792Z"
   },
   {
    "duration": 16,
    "start_time": "2023-01-11T21:49:32.802Z"
   },
   {
    "duration": 40,
    "start_time": "2023-01-11T21:49:32.820Z"
   },
   {
    "duration": 41,
    "start_time": "2023-01-11T21:49:32.870Z"
   },
   {
    "duration": 6,
    "start_time": "2023-01-11T21:49:32.913Z"
   },
   {
    "duration": 10,
    "start_time": "2023-01-11T21:49:32.920Z"
   },
   {
    "duration": 11,
    "start_time": "2023-01-11T21:49:32.931Z"
   },
   {
    "duration": 13,
    "start_time": "2023-01-11T21:49:32.954Z"
   },
   {
    "duration": 47,
    "start_time": "2023-01-11T21:49:32.969Z"
   },
   {
    "duration": 158,
    "start_time": "2023-01-11T21:49:33.018Z"
   },
   {
    "duration": 139,
    "start_time": "2023-01-11T21:49:33.178Z"
   },
   {
    "duration": 157,
    "start_time": "2023-01-11T21:49:33.319Z"
   },
   {
    "duration": 187,
    "start_time": "2023-01-11T21:49:33.478Z"
   },
   {
    "duration": 163,
    "start_time": "2023-01-11T21:49:33.668Z"
   },
   {
    "duration": 137,
    "start_time": "2023-01-11T21:49:33.832Z"
   },
   {
    "duration": 240,
    "start_time": "2023-01-11T21:49:33.971Z"
   },
   {
    "duration": 118,
    "start_time": "2023-01-11T21:49:34.213Z"
   },
   {
    "duration": 150,
    "start_time": "2023-01-11T21:49:34.333Z"
   },
   {
    "duration": 162,
    "start_time": "2023-01-11T21:49:34.485Z"
   },
   {
    "duration": 148,
    "start_time": "2023-01-11T21:49:34.650Z"
   },
   {
    "duration": 143,
    "start_time": "2023-01-11T21:49:34.800Z"
   },
   {
    "duration": 153,
    "start_time": "2023-01-11T21:49:34.944Z"
   },
   {
    "duration": 141,
    "start_time": "2023-01-11T21:49:35.101Z"
   },
   {
    "duration": 322,
    "start_time": "2023-01-11T21:49:35.244Z"
   },
   {
    "duration": 1421,
    "start_time": "2023-01-11T21:49:35.568Z"
   },
   {
    "duration": 9,
    "start_time": "2023-01-11T21:49:36.991Z"
   },
   {
    "duration": 105,
    "start_time": "2023-01-11T21:49:37.001Z"
   },
   {
    "duration": 0,
    "start_time": "2023-01-11T21:49:37.107Z"
   },
   {
    "duration": 652,
    "start_time": "2023-01-11T21:50:04.571Z"
   },
   {
    "duration": 116,
    "start_time": "2023-01-11T21:50:05.225Z"
   },
   {
    "duration": 21,
    "start_time": "2023-01-11T21:50:05.343Z"
   },
   {
    "duration": 2112,
    "start_time": "2023-01-11T21:50:05.366Z"
   },
   {
    "duration": 17,
    "start_time": "2023-01-11T21:50:07.481Z"
   },
   {
    "duration": 7,
    "start_time": "2023-01-11T21:50:07.499Z"
   },
   {
    "duration": 15,
    "start_time": "2023-01-11T21:50:07.508Z"
   },
   {
    "duration": 31,
    "start_time": "2023-01-11T21:50:07.525Z"
   },
   {
    "duration": 43,
    "start_time": "2023-01-11T21:50:07.570Z"
   },
   {
    "duration": 6,
    "start_time": "2023-01-11T21:50:07.614Z"
   },
   {
    "duration": 10,
    "start_time": "2023-01-11T21:50:07.622Z"
   },
   {
    "duration": 9,
    "start_time": "2023-01-11T21:50:07.633Z"
   },
   {
    "duration": 31,
    "start_time": "2023-01-11T21:50:07.644Z"
   },
   {
    "duration": 40,
    "start_time": "2023-01-11T21:50:07.678Z"
   },
   {
    "duration": 155,
    "start_time": "2023-01-11T21:50:07.720Z"
   },
   {
    "duration": 139,
    "start_time": "2023-01-11T21:50:07.877Z"
   },
   {
    "duration": 163,
    "start_time": "2023-01-11T21:50:08.018Z"
   },
   {
    "duration": 190,
    "start_time": "2023-01-11T21:50:08.182Z"
   },
   {
    "duration": 134,
    "start_time": "2023-01-11T21:50:08.373Z"
   },
   {
    "duration": 137,
    "start_time": "2023-01-11T21:50:08.509Z"
   },
   {
    "duration": 236,
    "start_time": "2023-01-11T21:50:08.647Z"
   },
   {
    "duration": 122,
    "start_time": "2023-01-11T21:50:08.885Z"
   },
   {
    "duration": 142,
    "start_time": "2023-01-11T21:50:09.009Z"
   },
   {
    "duration": 140,
    "start_time": "2023-01-11T21:50:09.170Z"
   },
   {
    "duration": 135,
    "start_time": "2023-01-11T21:50:09.312Z"
   },
   {
    "duration": 152,
    "start_time": "2023-01-11T21:50:09.454Z"
   },
   {
    "duration": 149,
    "start_time": "2023-01-11T21:50:09.608Z"
   },
   {
    "duration": 131,
    "start_time": "2023-01-11T21:50:09.768Z"
   },
   {
    "duration": 284,
    "start_time": "2023-01-11T21:50:09.900Z"
   },
   {
    "duration": 1413,
    "start_time": "2023-01-11T21:50:10.185Z"
   },
   {
    "duration": 11,
    "start_time": "2023-01-11T21:50:11.599Z"
   },
   {
    "duration": 111,
    "start_time": "2023-01-11T21:50:11.611Z"
   },
   {
    "duration": 0,
    "start_time": "2023-01-11T21:50:11.724Z"
   },
   {
    "duration": 636,
    "start_time": "2023-01-11T21:51:24.881Z"
   },
   {
    "duration": 117,
    "start_time": "2023-01-11T21:51:25.519Z"
   },
   {
    "duration": 31,
    "start_time": "2023-01-11T21:51:25.638Z"
   },
   {
    "duration": 2019,
    "start_time": "2023-01-11T21:51:25.671Z"
   },
   {
    "duration": 18,
    "start_time": "2023-01-11T21:51:27.692Z"
   },
   {
    "duration": 9,
    "start_time": "2023-01-11T21:51:27.711Z"
   },
   {
    "duration": 15,
    "start_time": "2023-01-11T21:51:27.721Z"
   },
   {
    "duration": 52,
    "start_time": "2023-01-11T21:51:27.738Z"
   },
   {
    "duration": 42,
    "start_time": "2023-01-11T21:51:27.791Z"
   },
   {
    "duration": 18,
    "start_time": "2023-01-11T21:51:27.837Z"
   },
   {
    "duration": 11,
    "start_time": "2023-01-11T21:51:27.867Z"
   },
   {
    "duration": 10,
    "start_time": "2023-01-11T21:51:27.879Z"
   },
   {
    "duration": 14,
    "start_time": "2023-01-11T21:51:27.891Z"
   },
   {
    "duration": 61,
    "start_time": "2023-01-11T21:51:27.906Z"
   },
   {
    "duration": 157,
    "start_time": "2023-01-11T21:51:27.969Z"
   },
   {
    "duration": 145,
    "start_time": "2023-01-11T21:51:28.128Z"
   },
   {
    "duration": 158,
    "start_time": "2023-01-11T21:51:28.275Z"
   },
   {
    "duration": 178,
    "start_time": "2023-01-11T21:51:28.435Z"
   },
   {
    "duration": 154,
    "start_time": "2023-01-11T21:51:28.614Z"
   },
   {
    "duration": 119,
    "start_time": "2023-01-11T21:51:28.770Z"
   },
   {
    "duration": 239,
    "start_time": "2023-01-11T21:51:28.891Z"
   },
   {
    "duration": 125,
    "start_time": "2023-01-11T21:51:29.133Z"
   },
   {
    "duration": 130,
    "start_time": "2023-01-11T21:51:29.260Z"
   },
   {
    "duration": 128,
    "start_time": "2023-01-11T21:51:29.392Z"
   },
   {
    "duration": 129,
    "start_time": "2023-01-11T21:51:29.522Z"
   },
   {
    "duration": 154,
    "start_time": "2023-01-11T21:51:29.652Z"
   },
   {
    "duration": 144,
    "start_time": "2023-01-11T21:51:29.808Z"
   },
   {
    "duration": 139,
    "start_time": "2023-01-11T21:51:29.958Z"
   },
   {
    "duration": 283,
    "start_time": "2023-01-11T21:51:30.099Z"
   },
   {
    "duration": 1386,
    "start_time": "2023-01-11T21:51:30.384Z"
   },
   {
    "duration": 10,
    "start_time": "2023-01-11T21:51:31.772Z"
   },
   {
    "duration": 92,
    "start_time": "2023-01-11T21:51:31.783Z"
   },
   {
    "duration": 0,
    "start_time": "2023-01-11T21:51:31.877Z"
   },
   {
    "duration": 637,
    "start_time": "2023-01-11T22:00:27.868Z"
   },
   {
    "duration": 116,
    "start_time": "2023-01-11T22:00:28.507Z"
   },
   {
    "duration": 15,
    "start_time": "2023-01-11T22:00:28.625Z"
   },
   {
    "duration": 2072,
    "start_time": "2023-01-11T22:00:28.642Z"
   },
   {
    "duration": 17,
    "start_time": "2023-01-11T22:00:30.717Z"
   },
   {
    "duration": 12,
    "start_time": "2023-01-11T22:00:30.736Z"
   },
   {
    "duration": 33,
    "start_time": "2023-01-11T22:00:30.750Z"
   },
   {
    "duration": 43,
    "start_time": "2023-01-11T22:00:30.785Z"
   },
   {
    "duration": 64,
    "start_time": "2023-01-11T22:00:30.830Z"
   },
   {
    "duration": 7,
    "start_time": "2023-01-11T22:00:30.896Z"
   },
   {
    "duration": 10,
    "start_time": "2023-01-11T22:00:30.904Z"
   },
   {
    "duration": 10,
    "start_time": "2023-01-11T22:00:30.917Z"
   },
   {
    "duration": 32,
    "start_time": "2023-01-11T22:00:30.929Z"
   },
   {
    "duration": 48,
    "start_time": "2023-01-11T22:00:30.966Z"
   },
   {
    "duration": 163,
    "start_time": "2023-01-11T22:00:31.016Z"
   },
   {
    "duration": 152,
    "start_time": "2023-01-11T22:00:31.181Z"
   },
   {
    "duration": 163,
    "start_time": "2023-01-11T22:00:31.334Z"
   },
   {
    "duration": 183,
    "start_time": "2023-01-11T22:00:31.499Z"
   },
   {
    "duration": 155,
    "start_time": "2023-01-11T22:00:31.684Z"
   },
   {
    "duration": 140,
    "start_time": "2023-01-11T22:00:31.841Z"
   },
   {
    "duration": 263,
    "start_time": "2023-01-11T22:00:31.982Z"
   },
   {
    "duration": 134,
    "start_time": "2023-01-11T22:00:32.247Z"
   },
   {
    "duration": 137,
    "start_time": "2023-01-11T22:00:32.383Z"
   },
   {
    "duration": 150,
    "start_time": "2023-01-11T22:00:32.521Z"
   },
   {
    "duration": 138,
    "start_time": "2023-01-11T22:00:32.673Z"
   },
   {
    "duration": 159,
    "start_time": "2023-01-11T22:00:32.812Z"
   },
   {
    "duration": 131,
    "start_time": "2023-01-11T22:00:32.973Z"
   },
   {
    "duration": 140,
    "start_time": "2023-01-11T22:00:33.105Z"
   },
   {
    "duration": 287,
    "start_time": "2023-01-11T22:00:33.247Z"
   },
   {
    "duration": 1447,
    "start_time": "2023-01-11T22:00:33.536Z"
   },
   {
    "duration": 10,
    "start_time": "2023-01-11T22:00:34.984Z"
   },
   {
    "duration": 104,
    "start_time": "2023-01-11T22:00:34.996Z"
   },
   {
    "duration": 0,
    "start_time": "2023-01-11T22:00:35.102Z"
   },
   {
    "duration": 728,
    "start_time": "2023-01-11T22:01:14.271Z"
   },
   {
    "duration": 123,
    "start_time": "2023-01-11T22:01:15.001Z"
   },
   {
    "duration": 15,
    "start_time": "2023-01-11T22:01:15.125Z"
   },
   {
    "duration": 2253,
    "start_time": "2023-01-11T22:01:15.142Z"
   },
   {
    "duration": 19,
    "start_time": "2023-01-11T22:01:17.397Z"
   },
   {
    "duration": 8,
    "start_time": "2023-01-11T22:01:17.417Z"
   },
   {
    "duration": 14,
    "start_time": "2023-01-11T22:01:17.427Z"
   },
   {
    "duration": 48,
    "start_time": "2023-01-11T22:01:17.442Z"
   },
   {
    "duration": 41,
    "start_time": "2023-01-11T22:01:17.492Z"
   },
   {
    "duration": 6,
    "start_time": "2023-01-11T22:01:17.535Z"
   },
   {
    "duration": 28,
    "start_time": "2023-01-11T22:01:17.542Z"
   },
   {
    "duration": 9,
    "start_time": "2023-01-11T22:01:17.572Z"
   },
   {
    "duration": 11,
    "start_time": "2023-01-11T22:01:17.583Z"
   },
   {
    "duration": 40,
    "start_time": "2023-01-11T22:01:17.596Z"
   },
   {
    "duration": 168,
    "start_time": "2023-01-11T22:01:17.638Z"
   },
   {
    "duration": 142,
    "start_time": "2023-01-11T22:01:17.808Z"
   },
   {
    "duration": 154,
    "start_time": "2023-01-11T22:01:17.952Z"
   },
   {
    "duration": 175,
    "start_time": "2023-01-11T22:01:18.108Z"
   },
   {
    "duration": 153,
    "start_time": "2023-01-11T22:01:18.285Z"
   },
   {
    "duration": 140,
    "start_time": "2023-01-11T22:01:18.439Z"
   },
   {
    "duration": 259,
    "start_time": "2023-01-11T22:01:18.581Z"
   },
   {
    "duration": 128,
    "start_time": "2023-01-11T22:01:18.842Z"
   },
   {
    "duration": 160,
    "start_time": "2023-01-11T22:01:18.972Z"
   },
   {
    "duration": 157,
    "start_time": "2023-01-11T22:01:19.134Z"
   },
   {
    "duration": 128,
    "start_time": "2023-01-11T22:01:19.293Z"
   },
   {
    "duration": 148,
    "start_time": "2023-01-11T22:01:19.423Z"
   },
   {
    "duration": 144,
    "start_time": "2023-01-11T22:01:19.572Z"
   },
   {
    "duration": 156,
    "start_time": "2023-01-11T22:01:19.718Z"
   },
   {
    "duration": 294,
    "start_time": "2023-01-11T22:01:19.876Z"
   },
   {
    "duration": 1417,
    "start_time": "2023-01-11T22:01:20.172Z"
   },
   {
    "duration": 10,
    "start_time": "2023-01-11T22:01:21.591Z"
   },
   {
    "duration": 11,
    "start_time": "2023-01-11T22:01:21.603Z"
   },
   {
    "duration": 211,
    "start_time": "2023-01-11T22:01:21.616Z"
   },
   {
    "duration": 660,
    "start_time": "2023-01-11T23:06:01.613Z"
   },
   {
    "duration": 120,
    "start_time": "2023-01-11T23:06:02.275Z"
   },
   {
    "duration": 16,
    "start_time": "2023-01-11T23:06:02.397Z"
   },
   {
    "duration": 2135,
    "start_time": "2023-01-11T23:06:02.415Z"
   },
   {
    "duration": 19,
    "start_time": "2023-01-11T23:06:04.552Z"
   },
   {
    "duration": 9,
    "start_time": "2023-01-11T23:06:04.572Z"
   },
   {
    "duration": 17,
    "start_time": "2023-01-11T23:06:04.584Z"
   },
   {
    "duration": 29,
    "start_time": "2023-01-11T23:06:04.603Z"
   },
   {
    "duration": 65,
    "start_time": "2023-01-11T23:06:04.634Z"
   },
   {
    "duration": 5,
    "start_time": "2023-01-11T23:06:04.703Z"
   },
   {
    "duration": 13,
    "start_time": "2023-01-11T23:06:04.709Z"
   },
   {
    "duration": 7,
    "start_time": "2023-01-11T23:06:04.724Z"
   },
   {
    "duration": 35,
    "start_time": "2023-01-11T23:06:04.733Z"
   },
   {
    "duration": 46,
    "start_time": "2023-01-11T23:06:04.770Z"
   },
   {
    "duration": 165,
    "start_time": "2023-01-11T23:06:04.818Z"
   },
   {
    "duration": 143,
    "start_time": "2023-01-11T23:06:04.984Z"
   },
   {
    "duration": 165,
    "start_time": "2023-01-11T23:06:05.128Z"
   },
   {
    "duration": 184,
    "start_time": "2023-01-11T23:06:05.295Z"
   },
   {
    "duration": 151,
    "start_time": "2023-01-11T23:06:05.481Z"
   },
   {
    "duration": 143,
    "start_time": "2023-01-11T23:06:05.633Z"
   },
   {
    "duration": 246,
    "start_time": "2023-01-11T23:06:05.777Z"
   },
   {
    "duration": 125,
    "start_time": "2023-01-11T23:06:06.025Z"
   },
   {
    "duration": 148,
    "start_time": "2023-01-11T23:06:06.155Z"
   },
   {
    "duration": 153,
    "start_time": "2023-01-11T23:06:06.305Z"
   },
   {
    "duration": 148,
    "start_time": "2023-01-11T23:06:06.459Z"
   },
   {
    "duration": 156,
    "start_time": "2023-01-11T23:06:06.609Z"
   },
   {
    "duration": 142,
    "start_time": "2023-01-11T23:06:06.767Z"
   },
   {
    "duration": 136,
    "start_time": "2023-01-11T23:06:06.912Z"
   },
   {
    "duration": 286,
    "start_time": "2023-01-11T23:06:07.050Z"
   },
   {
    "duration": 1420,
    "start_time": "2023-01-11T23:06:07.338Z"
   },
   {
    "duration": 13,
    "start_time": "2023-01-11T23:06:08.761Z"
   },
   {
    "duration": 11,
    "start_time": "2023-01-11T23:06:08.775Z"
   },
   {
    "duration": 216,
    "start_time": "2023-01-11T23:06:08.788Z"
   },
   {
    "duration": 687,
    "start_time": "2023-01-12T18:38:21.600Z"
   },
   {
    "duration": 105,
    "start_time": "2023-01-12T18:38:22.289Z"
   },
   {
    "duration": 16,
    "start_time": "2023-01-12T18:38:22.395Z"
   },
   {
    "duration": 1873,
    "start_time": "2023-01-12T18:38:22.415Z"
   },
   {
    "duration": 25,
    "start_time": "2023-01-12T18:38:24.290Z"
   },
   {
    "duration": 8,
    "start_time": "2023-01-12T18:38:24.317Z"
   },
   {
    "duration": 17,
    "start_time": "2023-01-12T18:38:24.327Z"
   },
   {
    "duration": 26,
    "start_time": "2023-01-12T18:38:24.345Z"
   },
   {
    "duration": 59,
    "start_time": "2023-01-12T18:38:24.372Z"
   },
   {
    "duration": 4,
    "start_time": "2023-01-12T18:38:24.434Z"
   },
   {
    "duration": 8,
    "start_time": "2023-01-12T18:38:24.439Z"
   },
   {
    "duration": 7,
    "start_time": "2023-01-12T18:38:24.448Z"
   },
   {
    "duration": 9,
    "start_time": "2023-01-12T18:38:24.457Z"
   },
   {
    "duration": 64,
    "start_time": "2023-01-12T18:38:24.467Z"
   },
   {
    "duration": 140,
    "start_time": "2023-01-12T18:38:24.533Z"
   },
   {
    "duration": 132,
    "start_time": "2023-01-12T18:38:24.675Z"
   },
   {
    "duration": 141,
    "start_time": "2023-01-12T18:38:24.808Z"
   },
   {
    "duration": 152,
    "start_time": "2023-01-12T18:38:24.950Z"
   },
   {
    "duration": 148,
    "start_time": "2023-01-12T18:38:25.104Z"
   },
   {
    "duration": 120,
    "start_time": "2023-01-12T18:38:25.253Z"
   },
   {
    "duration": 220,
    "start_time": "2023-01-12T18:38:25.375Z"
   },
   {
    "duration": 108,
    "start_time": "2023-01-12T18:38:25.596Z"
   },
   {
    "duration": 135,
    "start_time": "2023-01-12T18:38:25.706Z"
   },
   {
    "duration": 134,
    "start_time": "2023-01-12T18:38:25.842Z"
   },
   {
    "duration": 128,
    "start_time": "2023-01-12T18:38:25.977Z"
   },
   {
    "duration": 138,
    "start_time": "2023-01-12T18:38:26.108Z"
   },
   {
    "duration": 173,
    "start_time": "2023-01-12T18:38:26.248Z"
   },
   {
    "duration": 155,
    "start_time": "2023-01-12T18:38:26.425Z"
   },
   {
    "duration": 322,
    "start_time": "2023-01-12T18:38:26.582Z"
   },
   {
    "duration": 1336,
    "start_time": "2023-01-12T18:38:26.906Z"
   },
   {
    "duration": 10,
    "start_time": "2023-01-12T18:38:28.244Z"
   },
   {
    "duration": 10,
    "start_time": "2023-01-12T18:38:28.256Z"
   },
   {
    "duration": 200,
    "start_time": "2023-01-12T18:38:28.267Z"
   },
   {
    "duration": 15,
    "start_time": "2023-01-12T18:40:11.849Z"
   },
   {
    "duration": 643,
    "start_time": "2023-01-12T18:40:22.030Z"
   },
   {
    "duration": 103,
    "start_time": "2023-01-12T18:40:22.674Z"
   },
   {
    "duration": 14,
    "start_time": "2023-01-12T18:40:22.779Z"
   },
   {
    "duration": 1847,
    "start_time": "2023-01-12T18:40:22.795Z"
   },
   {
    "duration": 17,
    "start_time": "2023-01-12T18:40:24.643Z"
   },
   {
    "duration": 8,
    "start_time": "2023-01-12T18:40:24.661Z"
   },
   {
    "duration": 19,
    "start_time": "2023-01-12T18:40:24.670Z"
   },
   {
    "duration": 47,
    "start_time": "2023-01-12T18:40:24.690Z"
   },
   {
    "duration": 42,
    "start_time": "2023-01-12T18:40:24.739Z"
   },
   {
    "duration": 9,
    "start_time": "2023-01-12T18:40:24.785Z"
   },
   {
    "duration": 20,
    "start_time": "2023-01-12T18:40:24.796Z"
   },
   {
    "duration": 9,
    "start_time": "2023-01-12T18:40:24.817Z"
   },
   {
    "duration": 20,
    "start_time": "2023-01-12T18:40:24.827Z"
   },
   {
    "duration": 88,
    "start_time": "2023-01-12T18:40:24.849Z"
   },
   {
    "duration": 11,
    "start_time": "2023-01-12T18:40:24.939Z"
   },
   {
    "duration": 39,
    "start_time": "2023-01-12T18:40:24.951Z"
   },
   {
    "duration": 151,
    "start_time": "2023-01-12T18:40:24.992Z"
   },
   {
    "duration": 162,
    "start_time": "2023-01-12T18:40:25.144Z"
   },
   {
    "duration": 162,
    "start_time": "2023-01-12T18:40:25.308Z"
   },
   {
    "duration": 179,
    "start_time": "2023-01-12T18:40:25.472Z"
   },
   {
    "duration": 132,
    "start_time": "2023-01-12T18:40:25.652Z"
   },
   {
    "duration": 121,
    "start_time": "2023-01-12T18:40:25.786Z"
   },
   {
    "duration": 226,
    "start_time": "2023-01-12T18:40:25.916Z"
   },
   {
    "duration": 108,
    "start_time": "2023-01-12T18:40:26.144Z"
   },
   {
    "duration": 151,
    "start_time": "2023-01-12T18:40:26.254Z"
   },
   {
    "duration": 172,
    "start_time": "2023-01-12T18:40:26.407Z"
   },
   {
    "duration": 128,
    "start_time": "2023-01-12T18:40:26.580Z"
   },
   {
    "duration": 132,
    "start_time": "2023-01-12T18:40:26.711Z"
   },
   {
    "duration": 123,
    "start_time": "2023-01-12T18:40:26.844Z"
   },
   {
    "duration": 149,
    "start_time": "2023-01-12T18:40:26.968Z"
   },
   {
    "duration": 292,
    "start_time": "2023-01-12T18:40:27.119Z"
   },
   {
    "duration": 1392,
    "start_time": "2023-01-12T18:40:27.415Z"
   },
   {
    "duration": 13,
    "start_time": "2023-01-12T18:40:28.809Z"
   },
   {
    "duration": 9,
    "start_time": "2023-01-12T18:40:28.824Z"
   },
   {
    "duration": 186,
    "start_time": "2023-01-12T18:40:28.835Z"
   },
   {
    "duration": 28,
    "start_time": "2023-01-12T18:42:00.563Z"
   },
   {
    "duration": 24,
    "start_time": "2023-01-12T18:42:06.775Z"
   },
   {
    "duration": 32,
    "start_time": "2023-01-12T18:42:40.661Z"
   },
   {
    "duration": 23,
    "start_time": "2023-01-12T18:42:49.662Z"
   }
  ],
  "kernelspec": {
   "display_name": "Python 3 (ipykernel)",
   "language": "python",
   "name": "python3"
  },
  "language_info": {
   "codemirror_mode": {
    "name": "ipython",
    "version": 3
   },
   "file_extension": ".py",
   "mimetype": "text/x-python",
   "name": "python",
   "nbconvert_exporter": "python",
   "pygments_lexer": "ipython3",
   "version": "3.9.13"
  },
  "toc": {
   "base_numbering": 1,
   "nav_menu": {},
   "number_sections": true,
   "sideBar": true,
   "skip_h1_title": true,
   "title_cell": "Table of Contents",
   "title_sidebar": "Contents",
   "toc_cell": false,
   "toc_position": {},
   "toc_section_display": true,
   "toc_window_display": false
  }
 },
 "nbformat": 4,
 "nbformat_minor": 2
}
